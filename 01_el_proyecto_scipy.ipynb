{
 "cells": [
  {
   "cell_type": "markdown",
   "metadata": {},
   "source": [
    "[![img/pythonista.png](img/pythonista.png)](https://www.pythonista.io)"
   ]
  },
  {
   "cell_type": "markdown",
   "metadata": {},
   "source": [
    "# El proyecto *Scipy*."
   ]
  },
  {
   "cell_type": "markdown",
   "metadata": {},
   "source": [
    "Existen herramientas y lenguajes de programación diseñados específicamente para el cómputo científico y el análisis de datos tales como:\n",
    "\n",
    "* [*Matlab*](https://la.mathworks.com/products/matlab.html).\n",
    "* [*SPSS* ](https://www.ibm.com/analytics/spss-statistics-software).\n",
    "* [*Mathematica*](https://www.wolfram.com/mathematica/).\n",
    "\n",
    "Algunos de ellos incluso ha sido publicado bajo los términos de licencias libres, como:\n",
    "\n",
    "* [*GNU Octave*](https://www.gnu.org/software/octave/).\n",
    "* [*R*](https://www.r-project.org/).\n",
    "* [*Julia*](https://julialang.org/).\n",
    "\n",
    "A diferencia de estas herramientas  y lenguajes altamente especializadas en temas estadísticos y de análisis de datos, *Python* es un lenguaje de programación de propósito general. \n",
    "\n",
    "Sin embargo, debido a las características de *Python* se han creado diversos proyectos enfocados a ofrecer herramientas altamente competitivas en el tema de análisis de datos, estadística y cómputo científico."
   ]
  },
  {
   "cell_type": "markdown",
   "metadata": {},
   "source": [
    "## Proyectos más relevantes para análisis de datos.\n",
    "\n",
    "### El proyecto *Scipy*.\n",
    "\n",
    "El proyecto [*Scipy*](https://www.scipy.org) consta de una serie de herramientas y bibliotecas especializadas en cómputo científico y  análisis de datos. Los [componentes más importantes](https://projects.scipy.org/stackspec.html) del proyecto son: \n",
    "\n",
    "* [*Numpy*](https://numpy.org), una biblioteca que ofrece:\n",
    "    * Gestión de arreglos multidimensionales (```np.array```).\n",
    "    * Tipos de datos optimizados para operaciones con arreglos.\n",
    "    * Poderosos componentes de cálculo vectorial y de álgebra lineal.\n",
    "* [*Pandas*](https://pandas.pydata.org/), una herramienta especializada en:\n",
    "    * Obtención y almacenamientos de datos de diversas fuentes y con diversos formatos.\n",
    "    * Tratamiento de los datos.\n",
    "    * Análisis de los datos.   \n",
    "* [*Matplotlib*](https://matplotlib.org/), una biblioteca especializada en el despliegue y visualización con una sintaxis similar a la de *Matlab*.\n",
    "* [*iPython*](https://ipython.org/), un intérprete de *Python* especializado en temas de análisis de datos y cómputo científico, el cual fue el origen del proyecto [*Jupyter*](https://jupyter.org/).\n",
    "* [Sympy](https://www.sympy.org), una herramienta que permite realizar operaciones con expresiones de álgebra simbólica.\n",
    "\n",
    "Estos componentes principales son proyectos muy maduros, cuentan con extensa documentación y soporte tanto de la comunidad como comercial."
   ]
  },
  {
   "cell_type": "markdown",
   "metadata": {},
   "source": [
    "### Los *scikits*.\n",
    "\n",
    "Los [*scikits*](https://www.scipy.org/scikits.html) son un compendio de proyectos basados en *Scipy* que ofrecen herramientas puntuales para temas muy específicos tales como:\n",
    "\n",
    "* Machine Learning.\n",
    "* Redes neuronales.\n",
    "* Análisis de imágenes.\n",
    "* Cómputo paralelo.\n",
    "* Supercómputo usando GPU.\n",
    "* Series de tiempo, etc.\n",
    "\n",
    "Estos proyectos no son mantenidos ni soportados por *Scipy* y su documentación y madurez no es homogenea.\n",
    "\n",
    "Los proyectos pueden ser consutados en:\n",
    "\n",
    "https://scikits.appspot.com/scikits"
   ]
  },
  {
   "cell_type": "markdown",
   "metadata": {},
   "source": [
    "## Instalación de los componentes."
   ]
  },
  {
   "cell_type": "code",
   "execution_count": null,
   "metadata": {
    "scrolled": true
   },
   "outputs": [],
   "source": [
    "!pip install numpy scipy pandas matplotlib"
   ]
  },
  {
   "cell_type": "markdown",
   "metadata": {},
   "source": [
    "### <p style=\"text-align: center\"><a rel=\"license\" href=\"http://creativecommons.org/licenses/by/4.0/\"><img alt=\"Licencia Creative Commons\" style=\"border-width:0\" src=\"https://i.creativecommons.org/l/by/4.0/80x15.png\" /></a><br />Esta obra está bajo una <a rel=\"license\" href=\"http://creativecommons.org/licenses/by/4.0/\">Licencia Creative Commons Atribución 4.0 Internacional</a>.</p>\n",
    "<p style=\"text-align: center\">&copy; José Luis Chiquete Valdivieso. 2023.</p>"
   ]
  }
 ],
 "metadata": {
  "kernelspec": {
   "display_name": "Python 3 (ipykernel)",
   "language": "python",
   "name": "python3"
  },
  "language_info": {
   "codemirror_mode": {
    "name": "ipython",
    "version": 3
   },
   "file_extension": ".py",
   "mimetype": "text/x-python",
   "name": "python",
   "nbconvert_exporter": "python",
   "pygments_lexer": "ipython3",
   "version": "3.9.2"
  }
 },
 "nbformat": 4,
 "nbformat_minor": 4
}
