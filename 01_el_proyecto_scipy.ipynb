{
 "cells": [
  {
   "cell_type": "markdown",
   "metadata": {},
   "source": [
    "[![img/pythonista.png](img/pythonista.png)](https://www.pythonista.io)"
   ]
  },
  {
   "cell_type": "markdown",
   "metadata": {},
   "source": [
    "# El proyecto *Scipy*."
   ]
  },
  {
   "cell_type": "markdown",
   "metadata": {},
   "source": [
    "Existen herramientas y lenguajes de programación diseñados específicamente para el cómputo científico y el análisis de datos tales como:\n",
    "\n",
    "* [*Matlab*](https://la.mathworks.com/products/matlab.html).\n",
    "* [*SPSS* ](https://www.ibm.com/analytics/spss-statistics-software).\n",
    "* [*Mathematica*](https://www.wolfram.com/mathematica/).\n",
    "\n",
    "Algunos de ellos incluso ha sido publicado bajo los términos de licencias libres, como:\n",
    "\n",
    "* [*GNU Octave*](https://www.gnu.org/software/octave/).\n",
    "* [*R*](https://www.r-project.org/).\n",
    "* [*Julia*](https://julialang.org/).\n",
    "\n",
    "A diferencia de estas herramientas  y lenguajes altamente especializadas en temas estadísticos y de análisis de datos, *Python* es un lenguaje de programación de propósito general. \n",
    "\n",
    "Sin embargo, debido a las características de *Python* se han creado diversos proyectos enfocados a ofrecer herramientas altamente competitivas en el tema de análisis de datos, estadística y cómputo científico."
   ]
  },
  {
   "cell_type": "markdown",
   "metadata": {},
   "source": [
    "## Proyectos más relevantes para análisis de datos.\n",
    "\n",
    "### El proyecto *Scipy*.\n",
    "\n",
    "El proyecto [*Scipy*](https://www.scipy.org) consta de una serie de herramientas y bibliotecas especializadas en cómputo científico y  análisis de datos. Los [componentes más importantes](https://projects.scipy.org/stackspec.html) del proyecto son: \n",
    "\n",
    "* [*Numpy*](https://numpy.org), una biblioteca que ofrece:\n",
    "    * Gestión de arreglos multidimensionales (```np.array```).\n",
    "    * Tipos de datos optimizados para operaciones con arreglos.\n",
    "    * Poderosos componentes de cálculo vectorial y de álgebra lineal.\n",
    "* [*Pandas*](https://pandas.pydata.org/), una herramienta especializada en:\n",
    "    * Obtención y almacenamientos de datos de diversas fuentes y con diversos formatos.\n",
    "    * Tratamiento de los datos.\n",
    "    * Análisis de los datos.   \n",
    "* [*Matplotlib*](https://matplotlib.org/), una biblioteca especializada en el despliegue y visualización con una sintaxis similar a la de *Matlab*.\n",
    "* [*iPython*](https://ipython.org/), un intérprete de *Python* especializado en temas de análisis de datos y cómputo científico, el cual fue el origen del proyecto [*Jupyter*](https://jupyter.org/).\n",
    "* [Sympy](https://www.sympy.org), una herramienta que permite realizar operaciones con expresiones de álgebra simbólica.\n",
    "\n",
    "Estos componentes principales son proyectos muy maduros, cuentan con extensa documentación y soporte tanto de la comunidad como comercial."
   ]
  },
  {
   "cell_type": "markdown",
   "metadata": {},
   "source": [
    "### Los *scikits*.\n",
    "\n",
    "Los [*scikits*](https://projects.scipy.org/scikits.html) son un compendio de proyectos basados en *Scipy* que ofrecen herramientas puntuales para temas muy específicos tales como:\n",
    "\n",
    "* Machine Learning.\n",
    "* Redes neuronales.\n",
    "* Análisis de imágenes.\n",
    "* Cómputo paralelo.\n",
    "* Supercómputo usando GPU.\n",
    "* Series de tiempo, etc.\n",
    "\n",
    "Estos proyectos no son mantenidos ni soportados por *Scipy* y su documentación y madurez no es homogenea."
   ]
  },
  {
   "cell_type": "markdown",
   "metadata": {},
   "source": [
    "### *Apache Arrow*.\n",
    "\n",
    "[*Apache Arrow*](https://arrow.apache.org) es un proyecto de la [Fundación Apache](https://www.apache.org) que ofrece una serie de herramientas y bibliotecas para el manejo y análisis de datos en memoria.\n",
    "El proyecto ofrece:\n",
    "* Un formato de datos en memoria optimizado para el análisis de datos.\n",
    "* Herramientas para la serialización y deserialización de datos.\n",
    "* Herramientas para la comunicación de datos entre procesos y sistemas.\n",
    "* Herramientas para el manejo de datos en sistemas distribuidos.\n",
    "* Herramientas para el manejo de datos en sistemas de almacenamiento en la nube.\n",
    "* Herramientas para el manejo de datos en sistemas de bases de datos.\n",
    "* Herramientas para el manejo de datos en sistemas de big data."
   ]
  },
  {
   "cell_type": "markdown",
   "metadata": {},
   "source": [
    "### *Polars*.\n",
    "\n",
    "[*Polars*](https://www.pola.rs) es una biblioteca de análisis de datos en memoria basada en *Apache Arrow* y programada en *Rust* que ofrece:\n",
    "\n",
    "* Compatibilidad con *Pandas*.\n",
    "* Operaciones con *DataFrames* optimizadas para el cómputo en paralelo.\n",
    "* Operaciones con *DataFrames* optimizadas para el cómputo en GPU.\n",
    "* Operaciones con *DataFrames* optimizadas para el cómputo en sistemas distribuidos.\n",
    "* Operaciones con *DataFrames* optimizadas para el cómputo en sistemas de almacenamiento en la nube."
   ]
  },
  {
   "cell_type": "markdown",
   "metadata": {},
   "source": [
    "#### *Apache Spark*.\n",
    "\n",
    "[*Apache Spark*](https://spark.apache.org) es un proyecto de la [Fundación Apache](https://www.apache.org) que ofrece una serie de herramientas y bibliotecas para el manejo y análisis de datos en sistemas distribuidos. \n",
    "Características principales de *Apache Spark*:\n",
    "* Un motor de procesamiento de datos en memoria optimizado para el análisis de datos.\n",
    "* Herramientas para el manejo de datos en sistemas distribuidos y clústeres de computadoras on-premise y en la nube.\n",
    "* Herramientas para la serialización y deserialización de datos.\n",
    "* Herramientas para la comunicación de datos entre procesos y sistemas.\n",
    "* Herramientas para el manejo de datos en sistemas de almacenamiento en la nube.\n",
    "* Herramientas para el manejo de datos en sistemas de bases de datos.\n",
    "* Herramientas para el manejo de datos en sistemas de big data.\n",
    "\n",
    "Múltiples plartaformas y proveedores de la nube ofrecen servicios basados en *Apache Spark*tales como:\n",
    "* [*Amazon EMR*](https://aws.amazon.com/emr/).\n",
    "* [*Google Cloud Dataproc*](https://cloud.google.com/dataproc).\n",
    "* [*Azure Synapse Analytics*](https://azure.microsoft.com/en-us/services/synapse-analytics/).\n",
    "* [*Databricks*](https://databricks.com/product/overview)."
   ]
  },
  {
   "cell_type": "markdown",
   "metadata": {},
   "source": [
    "### Otras herramientas.\n",
    "Existen otras herramientas y bibliotecas que ofrecen funcionalidades similares a las de *Scipy* y sus componentes principales tales como:\n",
    "* [*Dask*](https://dask.org/), una biblioteca de análisis de datos en memoria optimizada para el manejo de grandes volúmenes de datos y el cómputo paralelo.\n",
    "* [*Modin*](https://modin.readthedocs.io/en/latest/), una biblioteca de análisis de datos en memoria optimizada para el manejo de grandes volúmenes de datos y el cómputo paralelo y compatible con *Pandas*.\n",
    "* [*Datatable*](https://datatable.readthedocs.io/en/latest/), una biblioteca de análisis de datos tabulares en memoria optimizada para el manejo de grandes volúmenes de datos y el cómputo paralelo y compatible con *Pandas*.\n",
    "* [*RAPIDS*](https://rapids.ai/), una biblioteca de análisis de datos en memoria optimizada para el manejo de grandes volúmenes de datos y el cómputo en GPU que cuenta con una implementación de *Pandas* llamada [*cuDF*](https://docs.rapids.ai/api/cudf/stable/)."
   ]
  },
  {
   "cell_type": "markdown",
   "metadata": {},
   "source": [
    "## Instalación de los componentes."
   ]
  },
  {
   "cell_type": "code",
   "execution_count": null,
   "metadata": {
    "scrolled": true
   },
   "outputs": [],
   "source": [
    "!pip install numpy scipy pandas matplotlib"
   ]
  },
  {
   "cell_type": "markdown",
   "metadata": {},
   "source": [
    "### <p style=\"text-align: center\"><a rel=\"license\" href=\"http://creativecommons.org/licenses/by/4.0/\"><img alt=\"Licencia Creative Commons\" style=\"border-width:0\" src=\"https://i.creativecommons.org/l/by/4.0/80x15.png\" /></a><br />Esta obra está bajo una <a rel=\"license\" href=\"http://creativecommons.org/licenses/by/4.0/\">Licencia Creative Commons Atribución 4.0 Internacional</a>.</p>\n",
    "<p style=\"text-align: center\">&copy; José Luis Chiquete Valdivieso. 2025.</p>"
   ]
  }
 ],
 "metadata": {
  "kernelspec": {
   "display_name": "Python 3 (ipykernel)",
   "language": "python",
   "name": "python3"
  },
  "language_info": {
   "codemirror_mode": {
    "name": "ipython",
    "version": 3
   },
   "file_extension": ".py",
   "mimetype": "text/x-python",
   "name": "python",
   "nbconvert_exporter": "python",
   "pygments_lexer": "ipython3",
   "version": "3.9.2"
  }
 },
 "nbformat": 4,
 "nbformat_minor": 4
}
