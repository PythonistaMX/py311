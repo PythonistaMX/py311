{
 "cells": [
  {
   "cell_type": "markdown",
   "metadata": {},
   "source": [
    "[![imagenes/pythonista.png](imagenes/pythonista.png)](https://pythonista.io)"
   ]
  },
  {
   "cell_type": "code",
   "execution_count": 1,
   "metadata": {},
   "outputs": [],
   "source": [
    "import pandas as pd\n",
    "import numpy as np"
   ]
  },
  {
   "cell_type": "markdown",
   "metadata": {},
   "source": [
    "## El dataframe ilustrativo.\n",
    "\n",
    "El siguiente dataframe describe un censo poblacional de animmales en diversas regiones geocráficas."
   ]
  },
  {
   "cell_type": "code",
   "execution_count": 2,
   "metadata": {},
   "outputs": [],
   "source": [
    "poblacion = pd.DataFrame({'Animal':('lobo',\n",
    "                                   'coyote',\n",
    "                                   'jaguar',\n",
    "                                   'cerdo salvaje',\n",
    "                                    'tapir',\n",
    "                                    'venado',\n",
    "                                    'ocelote',\n",
    "                                    'puma'),\n",
    "                         'Norte_I':(12,\n",
    "                                   np.NAN,\n",
    "                                    None,\n",
    "                                    2,\n",
    "                                    4,\n",
    "                                    2,\n",
    "                                    14,\n",
    "                                    5\n",
    "                                   ),\n",
    "                          'Norte_II':(23,\n",
    "                                    4,\n",
    "                                    25,\n",
    "                                    21,\n",
    "                                    9,\n",
    "                                    121,\n",
    "                                    1,\n",
    "                                    2\n",
    "                                   ),\n",
    "                         'Centro_I':(15,\n",
    "                                    23,\n",
    "                                    2,\n",
    "                                    120,\n",
    "                                    40,\n",
    "                                    121,\n",
    "                                    0,\n",
    "                                    5),\n",
    "                         'Sur_I':(28,\n",
    "                                  46,\n",
    "                                  14,\n",
    "                                  156,\n",
    "                                  79,\n",
    "                                  12,\n",
    "                                  2,\n",
    "                                  np.NAN)}).set_index('Animal')"
   ]
  },
  {
   "cell_type": "code",
   "execution_count": 3,
   "metadata": {
    "scrolled": true
   },
   "outputs": [
    {
     "data": {
      "text/html": [
       "<div>\n",
       "<style scoped>\n",
       "    .dataframe tbody tr th:only-of-type {\n",
       "        vertical-align: middle;\n",
       "    }\n",
       "\n",
       "    .dataframe tbody tr th {\n",
       "        vertical-align: top;\n",
       "    }\n",
       "\n",
       "    .dataframe thead th {\n",
       "        text-align: right;\n",
       "    }\n",
       "</style>\n",
       "<table border=\"1\" class=\"dataframe\">\n",
       "  <thead>\n",
       "    <tr style=\"text-align: right;\">\n",
       "      <th></th>\n",
       "      <th>Norte_I</th>\n",
       "      <th>Norte_II</th>\n",
       "      <th>Centro_I</th>\n",
       "      <th>Sur_I</th>\n",
       "    </tr>\n",
       "    <tr>\n",
       "      <th>Animal</th>\n",
       "      <th></th>\n",
       "      <th></th>\n",
       "      <th></th>\n",
       "      <th></th>\n",
       "    </tr>\n",
       "  </thead>\n",
       "  <tbody>\n",
       "    <tr>\n",
       "      <th>lobo</th>\n",
       "      <td>12.0</td>\n",
       "      <td>23</td>\n",
       "      <td>15</td>\n",
       "      <td>28.0</td>\n",
       "    </tr>\n",
       "    <tr>\n",
       "      <th>coyote</th>\n",
       "      <td>NaN</td>\n",
       "      <td>4</td>\n",
       "      <td>23</td>\n",
       "      <td>46.0</td>\n",
       "    </tr>\n",
       "    <tr>\n",
       "      <th>jaguar</th>\n",
       "      <td>NaN</td>\n",
       "      <td>25</td>\n",
       "      <td>2</td>\n",
       "      <td>14.0</td>\n",
       "    </tr>\n",
       "    <tr>\n",
       "      <th>cerdo salvaje</th>\n",
       "      <td>2.0</td>\n",
       "      <td>21</td>\n",
       "      <td>120</td>\n",
       "      <td>156.0</td>\n",
       "    </tr>\n",
       "    <tr>\n",
       "      <th>tapir</th>\n",
       "      <td>4.0</td>\n",
       "      <td>9</td>\n",
       "      <td>40</td>\n",
       "      <td>79.0</td>\n",
       "    </tr>\n",
       "    <tr>\n",
       "      <th>venado</th>\n",
       "      <td>2.0</td>\n",
       "      <td>121</td>\n",
       "      <td>121</td>\n",
       "      <td>12.0</td>\n",
       "    </tr>\n",
       "    <tr>\n",
       "      <th>ocelote</th>\n",
       "      <td>14.0</td>\n",
       "      <td>1</td>\n",
       "      <td>0</td>\n",
       "      <td>2.0</td>\n",
       "    </tr>\n",
       "    <tr>\n",
       "      <th>puma</th>\n",
       "      <td>5.0</td>\n",
       "      <td>2</td>\n",
       "      <td>5</td>\n",
       "      <td>NaN</td>\n",
       "    </tr>\n",
       "  </tbody>\n",
       "</table>\n",
       "</div>"
      ],
      "text/plain": [
       "               Norte_I  Norte_II  Centro_I  Sur_I\n",
       "Animal                                           \n",
       "lobo              12.0        23        15   28.0\n",
       "coyote             NaN         4        23   46.0\n",
       "jaguar             NaN        25         2   14.0\n",
       "cerdo salvaje      2.0        21       120  156.0\n",
       "tapir              4.0         9        40   79.0\n",
       "venado             2.0       121       121   12.0\n",
       "ocelote           14.0         1         0    2.0\n",
       "puma               5.0         2         5    NaN"
      ]
     },
     "execution_count": 3,
     "metadata": {},
     "output_type": "execute_result"
    }
   ],
   "source": [
    "poblacion"
   ]
  },
  {
   "cell_type": "markdown",
   "metadata": {},
   "source": [
    "## El atributo *values*."
   ]
  },
  {
   "cell_type": "code",
   "execution_count": null,
   "metadata": {},
   "outputs": [],
   "source": [
    "poblacion.values"
   ]
  },
  {
   "cell_type": "markdown",
   "metadata": {},
   "source": [
    "## El método *head()*\n",
    "\n",
    "Regresa los primeros *n* renglones de un objeto de Pandas.\n",
    "\n",
    "```\n",
    "<objeto de Pandas>.head(<n>)\n",
    "```"
   ]
  },
  {
   "cell_type": "code",
   "execution_count": null,
   "metadata": {},
   "outputs": [],
   "source": [
    "poblacion.head(3)"
   ]
  },
  {
   "cell_type": "markdown",
   "metadata": {},
   "source": [
    "## El método *tail()*.\n",
    "\n",
    "Regresa los últimos *n* renglones de un objeto de Pandas.\n",
    "\n",
    "```\n",
    "<objeto de Pandas>.tail(<n>)\n",
    "```"
   ]
  },
  {
   "cell_type": "code",
   "execution_count": null,
   "metadata": {},
   "outputs": [],
   "source": [
    "poblacion.tail(4)"
   ]
  },
  {
   "cell_type": "markdown",
   "metadata": {},
   "source": [
    "## El método *nsmallest()*.\n",
    "\n",
    "Regresa un número indicado de *n* renglones con los valores más pequeños de una o varias columnas de un objeto de Pandas.\n",
    "\n",
    "```\n",
    "<objeto de Pandas>.nsmallest(<n>, columms=[<columnas>])\n",
    "```"
   ]
  },
  {
   "cell_type": "code",
   "execution_count": null,
   "metadata": {},
   "outputs": [],
   "source": [
    "poblacion.nsmallest(3, columns='Norte_I')"
   ]
  },
  {
   "cell_type": "code",
   "execution_count": null,
   "metadata": {},
   "outputs": [],
   "source": [
    "poblacion.nsmallest(3, columns=['Norte_I', 'Sur_I'])"
   ]
  },
  {
   "cell_type": "markdown",
   "metadata": {},
   "source": [
    "## El método *nlargest()*\n",
    "\n",
    "Regresa un número indicado de *n* renglones con los valores más grandes de una o varias columnas de un objeto de Pandas.\n",
    "\n",
    "```\n",
    "<objeto de Pandas>.nsmallest(<n>, columms=[<columnas>])\n",
    "```"
   ]
  },
  {
   "cell_type": "code",
   "execution_count": null,
   "metadata": {},
   "outputs": [],
   "source": [
    "poblacion.nlargest(3, columns='Sur_I')"
   ]
  },
  {
   "cell_type": "code",
   "execution_count": null,
   "metadata": {},
   "outputs": [],
   "source": [
    "poblacion.nlargest(3, columns=['Sur_I', 'Norte_I'])"
   ]
  },
  {
   "cell_type": "markdown",
   "metadata": {},
   "source": [
    "## El método *isin()* .\n",
    "\n",
    "Regresa otro objeto con contenidos booleanos indicando si el elemento del  objeto original se encuentra dentro de un iterable dado como argumento.\n",
    "```\n",
    "<objeto de Pandas>.isin(<iterable>)\n",
    "```"
   ]
  },
  {
   "cell_type": "code",
   "execution_count": null,
   "metadata": {},
   "outputs": [],
   "source": [
    "poblacion.isin(range(20,31))"
   ]
  },
  {
   "cell_type": "code",
   "execution_count": null,
   "metadata": {},
   "outputs": [],
   "source": [
    "especies = pd.DataFrame({'Animal':('lobo',\n",
    "                                   'coyote',\n",
    "                                   'jaguar'),\n",
    "                         'Norte_I':('estable',\n",
    "                                   'amenzado',\n",
    "                                'amenazado'),\n",
    "                          'Norte_II':('estable',\n",
    "                                    'estable',\n",
    "                                    'extinto'),\n",
    "                         'Centro_I':('estable',\n",
    "                                    'amenazado',\n",
    "                                    'extinto'),\n",
    "                         'Sur_I':('amenazado',\n",
    "                                  'extinto',\n",
    "                                  'estable')}).set_index('Animal')"
   ]
  },
  {
   "cell_type": "code",
   "execution_count": null,
   "metadata": {},
   "outputs": [],
   "source": [
    "especies"
   ]
  },
  {
   "cell_type": "code",
   "execution_count": null,
   "metadata": {},
   "outputs": [],
   "source": [
    "especies.isin(['amenazado', 'extinto'])"
   ]
  },
  {
   "cell_type": "markdown",
   "metadata": {},
   "source": [
    "## El método *diff()*.\n",
    "\n",
    "Calcula la diferencia entre un elemento previo.\n",
    "\n",
    "```\n",
    "<objeto de Pandas>.diff(axis=<eje>)\n",
    "```"
   ]
  },
  {
   "cell_type": "code",
   "execution_count": null,
   "metadata": {},
   "outputs": [],
   "source": [
    "poblacion"
   ]
  },
  {
   "cell_type": "code",
   "execution_count": null,
   "metadata": {},
   "outputs": [],
   "source": [
    "poblacion.diff()"
   ]
  },
  {
   "cell_type": "code",
   "execution_count": null,
   "metadata": {},
   "outputs": [],
   "source": [
    "poblacion"
   ]
  },
  {
   "cell_type": "code",
   "execution_count": null,
   "metadata": {},
   "outputs": [],
   "source": [
    "poblacion.diff(axis=1)"
   ]
  },
  {
   "cell_type": "markdown",
   "metadata": {},
   "source": [
    "## El método  *eval()*.\n",
    "\n",
    "Ese método evalúa expresiones que se ingresan como cadenas de catacteres y qeu implican a las columnas de un DataFrame.\n",
    "\n",
    "```\n",
    "<objeto de Pandas>.eval('<expresion>')\n",
    "```"
   ]
  },
  {
   "cell_type": "code",
   "execution_count": null,
   "metadata": {},
   "outputs": [],
   "source": [
    "poblacion.eval(\"Norte_I + Norte_II\")"
   ]
  },
  {
   "cell_type": "code",
   "execution_count": null,
   "metadata": {},
   "outputs": [],
   "source": [
    "poblacion_erronea = pd.DataFrame({'Animal':('lobo',\n",
    "                                   'coyote',\n",
    "                                   'jaguar',\n",
    "                                   'cerdo salvaje',\n",
    "                                    'tapir',\n",
    "                                    'venado',\n",
    "                                    'ocelote',\n",
    "                                    'puma'),\n",
    "                         'Norte-I':(12,\n",
    "                                   np.NAN,\n",
    "                                    None,\n",
    "                                    2,\n",
    "                                    4,\n",
    "                                    2,\n",
    "                                    14,\n",
    "                                    5\n",
    "                                   ),\n",
    "                          'Norte-II':(23,\n",
    "                                    4,\n",
    "                                    25,\n",
    "                                    21,\n",
    "                                    9,\n",
    "                                    121,\n",
    "                                    1,\n",
    "                                    2\n",
    "                                   ),\n",
    "                         'Centro-I':(15,\n",
    "                                    23,\n",
    "                                    2,\n",
    "                                    120,\n",
    "                                    40,\n",
    "                                    121,\n",
    "                                    0,\n",
    "                                    5),\n",
    "                         'Sur-I':(28,\n",
    "                                  46,\n",
    "                                  14,\n",
    "                                  156,\n",
    "                                  79,\n",
    "                                  12,\n",
    "                                  2,\n",
    "                                  np.NAN)}).set_index('Animal')"
   ]
  },
  {
   "cell_type": "code",
   "execution_count": null,
   "metadata": {},
   "outputs": [],
   "source": [
    "poblacion.eval(\"Norte-I + Norte-II\")"
   ]
  },
  {
   "cell_type": "code",
   "execution_count": null,
   "metadata": {},
   "outputs": [],
   "source": [
    "poblacion.eval(\"Norte = Norte_I + Norte_II\")"
   ]
  },
  {
   "cell_type": "code",
   "execution_count": null,
   "metadata": {},
   "outputs": [],
   "source": [
    "poblacion"
   ]
  },
  {
   "cell_type": "markdown",
   "metadata": {},
   "source": [
    "Al utilizar el argumento *inplace=True*, el resultado de la expresión es añadido al objeto original."
   ]
  },
  {
   "cell_type": "code",
   "execution_count": null,
   "metadata": {},
   "outputs": [],
   "source": [
    "poblacion.eval(\"Norte = Norte_I + Norte_II\", inplace=True)"
   ]
  },
  {
   "cell_type": "code",
   "execution_count": null,
   "metadata": {},
   "outputs": [],
   "source": [
    "poblacion"
   ]
  },
  {
   "cell_type": "markdown",
   "metadata": {},
   "source": [
    "## El método *take()*.\n",
    "\n",
    " Este método va a obtener los renglones que se indiquen en función de un índice numérico.\n",
    " \n",
    " \n",
    " ```\n",
    " <objeto de Pandas>.take(<colección de índices numéricos>)\n",
    " ```"
   ]
  },
  {
   "cell_type": "code",
   "execution_count": null,
   "metadata": {},
   "outputs": [],
   "source": [
    "poblacion.take([1,4])"
   ]
  },
  {
   "cell_type": "code",
   "execution_count": null,
   "metadata": {},
   "outputs": [],
   "source": [
    "poblacion.take(range(2,7,2))"
   ]
  },
  {
   "cell_type": "markdown",
   "metadata": {},
   "source": [
    "## El método *replace()*.\n",
    "\n",
    "Este método sustituye un valor a que coincida con uno de los valores dados como argumento.\n",
    "\n",
    " ```\n",
    " <objeto de Pandas>.relace(<colección de valores>, <valor de sustitución>)\n",
    " ```"
   ]
  },
  {
   "cell_type": "code",
   "execution_count": null,
   "metadata": {},
   "outputs": [],
   "source": [
    "poblacion.replace(np.NaN, 0)"
   ]
  },
  {
   "cell_type": "code",
   "execution_count": null,
   "metadata": {},
   "outputs": [],
   "source": [
    "poblacion.replace([0, np.NaN], 'extinto')"
   ]
  },
  {
   "cell_type": "markdown",
   "metadata": {},
   "source": [
    "## El método *assign()*.\n",
    "\n",
    "Crea una columna que contendrá los datros resultantes de una función.\n",
    "```\n",
    "<objeto de Pandas>.assign(<Identificador de columna>=<función>)\n",
    "```"
   ]
  },
  {
   "cell_type": "code",
   "execution_count": null,
   "metadata": {},
   "outputs": [],
   "source": [
    "poblacion.assign(Sureste=poblacion['Sur_I'] * .5)"
   ]
  },
  {
   "cell_type": "code",
   "execution_count": null,
   "metadata": {
    "scrolled": true
   },
   "outputs": [],
   "source": [
    "poblacion.assign(Sureste=lambda x: x['Sur_I'] * .5)"
   ]
  },
  {
   "cell_type": "markdown",
   "metadata": {},
   "source": [
    "## El método *update()*.\n",
    "\n",
    "Este método combinará 2 dataframes. Sólo va a sustituir los elemento que ya existan."
   ]
  },
  {
   "cell_type": "code",
   "execution_count": null,
   "metadata": {},
   "outputs": [],
   "source": [
    "especies"
   ]
  },
  {
   "cell_type": "code",
   "execution_count": null,
   "metadata": {},
   "outputs": [],
   "source": [
    "otras_especies = pd.DataFrame({'Animal':('lobo',\n",
    "                                   'antilope',\n",
    "                                   'tucán'),\n",
    "                         'Norte_I':('estable',\n",
    "                                   'estable',\n",
    "                                   'estable'),\n",
    "                          'Norte_II':('extinto',\n",
    "                                    'estable',\n",
    "                                    'estable'),\n",
    "                         'Centro_I':('estable',\n",
    "                                    'estable',\n",
    "                                    'estable'),\n",
    "                         'Sur_I':('estable',\n",
    "                                  'estable',\n",
    "                                  'estable')}).set_index('Animal')"
   ]
  },
  {
   "cell_type": "code",
   "execution_count": null,
   "metadata": {
    "scrolled": true
   },
   "outputs": [],
   "source": [
    "otras_especies"
   ]
  },
  {
   "cell_type": "code",
   "execution_count": null,
   "metadata": {},
   "outputs": [],
   "source": [
    "especies.update(otras_especies)"
   ]
  },
  {
   "cell_type": "code",
   "execution_count": null,
   "metadata": {},
   "outputs": [],
   "source": [
    "especies"
   ]
  },
  {
   "cell_type": "markdown",
   "metadata": {},
   "source": [
    "## El metodo *all()*.\n",
    "\n",
    "Ese método se aplica para validar si todos los elementos de una columna (*axis=0*) o renglón (*axis=1*) son *True*.\n",
    "\n",
    "```\n",
    "<objeto>.all(axis=<n>)\n",
    "```"
   ]
  },
  {
   "cell_type": "code",
   "execution_count": 4,
   "metadata": {},
   "outputs": [
    {
     "data": {
      "text/html": [
       "<div>\n",
       "<style scoped>\n",
       "    .dataframe tbody tr th:only-of-type {\n",
       "        vertical-align: middle;\n",
       "    }\n",
       "\n",
       "    .dataframe tbody tr th {\n",
       "        vertical-align: top;\n",
       "    }\n",
       "\n",
       "    .dataframe thead th {\n",
       "        text-align: right;\n",
       "    }\n",
       "</style>\n",
       "<table border=\"1\" class=\"dataframe\">\n",
       "  <thead>\n",
       "    <tr style=\"text-align: right;\">\n",
       "      <th></th>\n",
       "      <th>Norte_I</th>\n",
       "      <th>Norte_II</th>\n",
       "      <th>Centro_I</th>\n",
       "      <th>Sur_I</th>\n",
       "    </tr>\n",
       "    <tr>\n",
       "      <th>Animal</th>\n",
       "      <th></th>\n",
       "      <th></th>\n",
       "      <th></th>\n",
       "      <th></th>\n",
       "    </tr>\n",
       "  </thead>\n",
       "  <tbody>\n",
       "    <tr>\n",
       "      <th>lobo</th>\n",
       "      <td>12.0</td>\n",
       "      <td>23</td>\n",
       "      <td>15</td>\n",
       "      <td>28.0</td>\n",
       "    </tr>\n",
       "    <tr>\n",
       "      <th>coyote</th>\n",
       "      <td>NaN</td>\n",
       "      <td>4</td>\n",
       "      <td>23</td>\n",
       "      <td>46.0</td>\n",
       "    </tr>\n",
       "    <tr>\n",
       "      <th>jaguar</th>\n",
       "      <td>NaN</td>\n",
       "      <td>25</td>\n",
       "      <td>2</td>\n",
       "      <td>14.0</td>\n",
       "    </tr>\n",
       "    <tr>\n",
       "      <th>cerdo salvaje</th>\n",
       "      <td>2.0</td>\n",
       "      <td>21</td>\n",
       "      <td>120</td>\n",
       "      <td>156.0</td>\n",
       "    </tr>\n",
       "    <tr>\n",
       "      <th>tapir</th>\n",
       "      <td>4.0</td>\n",
       "      <td>9</td>\n",
       "      <td>40</td>\n",
       "      <td>79.0</td>\n",
       "    </tr>\n",
       "    <tr>\n",
       "      <th>venado</th>\n",
       "      <td>2.0</td>\n",
       "      <td>121</td>\n",
       "      <td>121</td>\n",
       "      <td>12.0</td>\n",
       "    </tr>\n",
       "    <tr>\n",
       "      <th>ocelote</th>\n",
       "      <td>14.0</td>\n",
       "      <td>1</td>\n",
       "      <td>0</td>\n",
       "      <td>2.0</td>\n",
       "    </tr>\n",
       "    <tr>\n",
       "      <th>puma</th>\n",
       "      <td>5.0</td>\n",
       "      <td>2</td>\n",
       "      <td>5</td>\n",
       "      <td>NaN</td>\n",
       "    </tr>\n",
       "  </tbody>\n",
       "</table>\n",
       "</div>"
      ],
      "text/plain": [
       "               Norte_I  Norte_II  Centro_I  Sur_I\n",
       "Animal                                           \n",
       "lobo              12.0        23        15   28.0\n",
       "coyote             NaN         4        23   46.0\n",
       "jaguar             NaN        25         2   14.0\n",
       "cerdo salvaje      2.0        21       120  156.0\n",
       "tapir              4.0         9        40   79.0\n",
       "venado             2.0       121       121   12.0\n",
       "ocelote           14.0         1         0    2.0\n",
       "puma               5.0         2         5    NaN"
      ]
     },
     "execution_count": 4,
     "metadata": {},
     "output_type": "execute_result"
    }
   ],
   "source": [
    "poblacion"
   ]
  },
  {
   "cell_type": "code",
   "execution_count": 5,
   "metadata": {},
   "outputs": [
    {
     "data": {
      "text/html": [
       "<div>\n",
       "<style scoped>\n",
       "    .dataframe tbody tr th:only-of-type {\n",
       "        vertical-align: middle;\n",
       "    }\n",
       "\n",
       "    .dataframe tbody tr th {\n",
       "        vertical-align: top;\n",
       "    }\n",
       "\n",
       "    .dataframe thead th {\n",
       "        text-align: right;\n",
       "    }\n",
       "</style>\n",
       "<table border=\"1\" class=\"dataframe\">\n",
       "  <thead>\n",
       "    <tr style=\"text-align: right;\">\n",
       "      <th></th>\n",
       "      <th>Norte_I</th>\n",
       "      <th>Norte_II</th>\n",
       "      <th>Centro_I</th>\n",
       "      <th>Sur_I</th>\n",
       "    </tr>\n",
       "    <tr>\n",
       "      <th>Animal</th>\n",
       "      <th></th>\n",
       "      <th></th>\n",
       "      <th></th>\n",
       "      <th></th>\n",
       "    </tr>\n",
       "  </thead>\n",
       "  <tbody>\n",
       "    <tr>\n",
       "      <th>lobo</th>\n",
       "      <td>True</td>\n",
       "      <td>True</td>\n",
       "      <td>True</td>\n",
       "      <td>True</td>\n",
       "    </tr>\n",
       "    <tr>\n",
       "      <th>coyote</th>\n",
       "      <td>False</td>\n",
       "      <td>True</td>\n",
       "      <td>True</td>\n",
       "      <td>True</td>\n",
       "    </tr>\n",
       "    <tr>\n",
       "      <th>jaguar</th>\n",
       "      <td>False</td>\n",
       "      <td>True</td>\n",
       "      <td>True</td>\n",
       "      <td>True</td>\n",
       "    </tr>\n",
       "    <tr>\n",
       "      <th>cerdo salvaje</th>\n",
       "      <td>True</td>\n",
       "      <td>True</td>\n",
       "      <td>True</td>\n",
       "      <td>True</td>\n",
       "    </tr>\n",
       "    <tr>\n",
       "      <th>tapir</th>\n",
       "      <td>True</td>\n",
       "      <td>True</td>\n",
       "      <td>True</td>\n",
       "      <td>True</td>\n",
       "    </tr>\n",
       "    <tr>\n",
       "      <th>venado</th>\n",
       "      <td>True</td>\n",
       "      <td>True</td>\n",
       "      <td>True</td>\n",
       "      <td>True</td>\n",
       "    </tr>\n",
       "    <tr>\n",
       "      <th>ocelote</th>\n",
       "      <td>True</td>\n",
       "      <td>True</td>\n",
       "      <td>False</td>\n",
       "      <td>True</td>\n",
       "    </tr>\n",
       "    <tr>\n",
       "      <th>puma</th>\n",
       "      <td>True</td>\n",
       "      <td>True</td>\n",
       "      <td>True</td>\n",
       "      <td>False</td>\n",
       "    </tr>\n",
       "  </tbody>\n",
       "</table>\n",
       "</div>"
      ],
      "text/plain": [
       "               Norte_I  Norte_II  Centro_I  Sur_I\n",
       "Animal                                           \n",
       "lobo              True      True      True   True\n",
       "coyote           False      True      True   True\n",
       "jaguar           False      True      True   True\n",
       "cerdo salvaje     True      True      True   True\n",
       "tapir             True      True      True   True\n",
       "venado            True      True      True   True\n",
       "ocelote           True      True     False   True\n",
       "puma              True      True      True  False"
      ]
     },
     "execution_count": 5,
     "metadata": {},
     "output_type": "execute_result"
    }
   ],
   "source": [
    "poblacion > 0"
   ]
  },
  {
   "cell_type": "code",
   "execution_count": 6,
   "metadata": {},
   "outputs": [
    {
     "data": {
      "text/plain": [
       "Norte_I     False\n",
       "Norte_II     True\n",
       "Centro_I    False\n",
       "Sur_I       False\n",
       "dtype: bool"
      ]
     },
     "execution_count": 6,
     "metadata": {},
     "output_type": "execute_result"
    }
   ],
   "source": [
    "(poblacion > 0).all()"
   ]
  },
  {
   "cell_type": "code",
   "execution_count": 7,
   "metadata": {},
   "outputs": [
    {
     "data": {
      "text/plain": [
       "Animal\n",
       "lobo              True\n",
       "coyote           False\n",
       "jaguar           False\n",
       "cerdo salvaje     True\n",
       "tapir             True\n",
       "venado            True\n",
       "ocelote          False\n",
       "puma             False\n",
       "dtype: bool"
      ]
     },
     "execution_count": 7,
     "metadata": {},
     "output_type": "execute_result"
    }
   ],
   "source": [
    "(poblacion > 0).all(axis=1)"
   ]
  },
  {
   "cell_type": "markdown",
   "metadata": {},
   "source": [
    "* Python toma como *True* a cualquier valor distinto de 0."
   ]
  },
  {
   "cell_type": "code",
   "execution_count": 8,
   "metadata": {},
   "outputs": [
    {
     "data": {
      "text/plain": [
       "Norte_I      True\n",
       "Norte_II     True\n",
       "Centro_I    False\n",
       "Sur_I        True\n",
       "dtype: bool"
      ]
     },
     "execution_count": 8,
     "metadata": {},
     "output_type": "execute_result"
    }
   ],
   "source": [
    "poblacion.all()"
   ]
  },
  {
   "cell_type": "markdown",
   "metadata": {},
   "source": [
    "## El método *any()*.\n",
    "\n",
    "Ese método se aplica para validar si al menos un elemento de una columna (*axis=0*) o renglón (*axis-1*) es *True*.\n",
    "\n",
    "```\n",
    "<objeto>.any(axis=<n>)\n",
    "```"
   ]
  },
  {
   "cell_type": "code",
   "execution_count": 9,
   "metadata": {},
   "outputs": [
    {
     "data": {
      "text/plain": [
       "Norte_I     True\n",
       "Norte_II    True\n",
       "Centro_I    True\n",
       "Sur_I       True\n",
       "dtype: bool"
      ]
     },
     "execution_count": 9,
     "metadata": {},
     "output_type": "execute_result"
    }
   ],
   "source": [
    "(poblacion > 0).any()"
   ]
  },
  {
   "cell_type": "code",
   "execution_count": 10,
   "metadata": {},
   "outputs": [
    {
     "data": {
      "text/plain": [
       "Animal\n",
       "lobo             True\n",
       "coyote           True\n",
       "jaguar           True\n",
       "cerdo salvaje    True\n",
       "tapir            True\n",
       "venado           True\n",
       "ocelote          True\n",
       "puma             True\n",
       "dtype: bool"
      ]
     },
     "execution_count": 10,
     "metadata": {},
     "output_type": "execute_result"
    }
   ],
   "source": [
    "(poblacion > 0).any(axis=1)"
   ]
  },
  {
   "cell_type": "markdown",
   "metadata": {},
   "source": [
    "## El método *items()*.\n",
    "\n",
    "Este método crea un generador, el cual regresa tuplas de 2 elementos a partir de un  objeto de Pandas.\n",
    "\n",
    "### El método *items()* en dataframes.\n",
    "* En el caso de un dataframe, el generador regresa tuplas compiestas por los datos de cada columna con la siguiente estructura:\n",
    "\n",
    "```\n",
    "('<identificador de encabezado>', <objeto tipo pd.Series>)\n",
    "```\n",
    "\n",
    "### El método *items()* en series.\n",
    "* En el caso de una serie, el generador regresa tuplas con la siguiente estructura:\n",
    "\n",
    "```\n",
    "('<identificador de índice>', <valor>)\n",
    "```"
   ]
  },
  {
   "cell_type": "code",
   "execution_count": 11,
   "metadata": {},
   "outputs": [
    {
     "data": {
      "text/plain": [
       "<generator object DataFrame.iteritems at 0x7f859df18d00>"
      ]
     },
     "execution_count": 11,
     "metadata": {},
     "output_type": "execute_result"
    }
   ],
   "source": [
    "poblacion.items()"
   ]
  },
  {
   "cell_type": "code",
   "execution_count": 14,
   "metadata": {},
   "outputs": [
    {
     "name": "stdout",
     "output_type": "stream",
     "text": [
      "Norte_I\n",
      "Animal\n",
      "lobo             12.0\n",
      "coyote            NaN\n",
      "jaguar            NaN\n",
      "cerdo salvaje     2.0\n",
      "tapir             4.0\n",
      "venado            2.0\n",
      "ocelote          14.0\n",
      "puma              5.0\n",
      "Name: Norte_I, dtype: float64\n",
      "Norte_II\n",
      "Animal\n",
      "lobo              23\n",
      "coyote             4\n",
      "jaguar            25\n",
      "cerdo salvaje     21\n",
      "tapir              9\n",
      "venado           121\n",
      "ocelote            1\n",
      "puma               2\n",
      "Name: Norte_II, dtype: int64\n",
      "Centro_I\n",
      "Animal\n",
      "lobo              15\n",
      "coyote            23\n",
      "jaguar             2\n",
      "cerdo salvaje    120\n",
      "tapir             40\n",
      "venado           121\n",
      "ocelote            0\n",
      "puma               5\n",
      "Name: Centro_I, dtype: int64\n",
      "Sur_I\n",
      "Animal\n",
      "lobo              28.0\n",
      "coyote            46.0\n",
      "jaguar            14.0\n",
      "cerdo salvaje    156.0\n",
      "tapir             79.0\n",
      "venado            12.0\n",
      "ocelote            2.0\n",
      "puma               NaN\n",
      "Name: Sur_I, dtype: float64\n"
     ]
    }
   ],
   "source": [
    "for item in poblacion.items():\n",
    "    print(item[0])\n",
    "    print(item[1])"
   ]
  },
  {
   "cell_type": "code",
   "execution_count": 16,
   "metadata": {},
   "outputs": [
    {
     "name": "stdout",
     "output_type": "stream",
     "text": [
      "Norte_I\n",
      "('lobo', 12.0)\n",
      "('coyote', nan)\n",
      "('jaguar', nan)\n",
      "('cerdo salvaje', 2.0)\n",
      "('tapir', 4.0)\n",
      "('venado', 2.0)\n",
      "('ocelote', 14.0)\n",
      "('puma', 5.0)\n",
      "Norte_II\n",
      "('lobo', 23)\n",
      "('coyote', 4)\n",
      "('jaguar', 25)\n",
      "('cerdo salvaje', 21)\n",
      "('tapir', 9)\n",
      "('venado', 121)\n",
      "('ocelote', 1)\n",
      "('puma', 2)\n",
      "Centro_I\n",
      "('lobo', 15)\n",
      "('coyote', 23)\n",
      "('jaguar', 2)\n",
      "('cerdo salvaje', 120)\n",
      "('tapir', 40)\n",
      "('venado', 121)\n",
      "('ocelote', 0)\n",
      "('puma', 5)\n",
      "Sur_I\n",
      "('lobo', 28.0)\n",
      "('coyote', 46.0)\n",
      "('jaguar', 14.0)\n",
      "('cerdo salvaje', 156.0)\n",
      "('tapir', 79.0)\n",
      "('venado', 12.0)\n",
      "('ocelote', 2.0)\n",
      "('puma', nan)\n"
     ]
    }
   ],
   "source": [
    "for i in poblacion.items():\n",
    "    print(i[0])\n",
    "    for j in i[1].items():\n",
    "        print(j)"
   ]
  },
  {
   "cell_type": "markdown",
   "metadata": {},
   "source": [
    "## El método *drop()*.\n",
    "\n",
    "Elimina los identficadores de los índices (*axis=0*) o columnas (*axis=1*) localizados dentro de una colección ingresada como argumento.\n",
    "```\n",
    "<objeto de Pandas>.drop(<colección de identificadores>, axis=<n>)\n",
    "```"
   ]
  },
  {
   "cell_type": "code",
   "execution_count": 20,
   "metadata": {},
   "outputs": [
    {
     "data": {
      "text/html": [
       "<div>\n",
       "<style scoped>\n",
       "    .dataframe tbody tr th:only-of-type {\n",
       "        vertical-align: middle;\n",
       "    }\n",
       "\n",
       "    .dataframe tbody tr th {\n",
       "        vertical-align: top;\n",
       "    }\n",
       "\n",
       "    .dataframe thead th {\n",
       "        text-align: right;\n",
       "    }\n",
       "</style>\n",
       "<table border=\"1\" class=\"dataframe\">\n",
       "  <thead>\n",
       "    <tr style=\"text-align: right;\">\n",
       "      <th></th>\n",
       "      <th>Norte_I</th>\n",
       "      <th>Norte_II</th>\n",
       "      <th>Centro_I</th>\n",
       "      <th>Sur_I</th>\n",
       "    </tr>\n",
       "    <tr>\n",
       "      <th>Animal</th>\n",
       "      <th></th>\n",
       "      <th></th>\n",
       "      <th></th>\n",
       "      <th></th>\n",
       "    </tr>\n",
       "  </thead>\n",
       "  <tbody>\n",
       "    <tr>\n",
       "      <th>lobo</th>\n",
       "      <td>12.0</td>\n",
       "      <td>23</td>\n",
       "      <td>15</td>\n",
       "      <td>28.0</td>\n",
       "    </tr>\n",
       "    <tr>\n",
       "      <th>coyote</th>\n",
       "      <td>NaN</td>\n",
       "      <td>4</td>\n",
       "      <td>23</td>\n",
       "      <td>46.0</td>\n",
       "    </tr>\n",
       "    <tr>\n",
       "      <th>jaguar</th>\n",
       "      <td>NaN</td>\n",
       "      <td>25</td>\n",
       "      <td>2</td>\n",
       "      <td>14.0</td>\n",
       "    </tr>\n",
       "    <tr>\n",
       "      <th>cerdo salvaje</th>\n",
       "      <td>2.0</td>\n",
       "      <td>21</td>\n",
       "      <td>120</td>\n",
       "      <td>156.0</td>\n",
       "    </tr>\n",
       "    <tr>\n",
       "      <th>tapir</th>\n",
       "      <td>4.0</td>\n",
       "      <td>9</td>\n",
       "      <td>40</td>\n",
       "      <td>79.0</td>\n",
       "    </tr>\n",
       "    <tr>\n",
       "      <th>venado</th>\n",
       "      <td>2.0</td>\n",
       "      <td>121</td>\n",
       "      <td>121</td>\n",
       "      <td>12.0</td>\n",
       "    </tr>\n",
       "    <tr>\n",
       "      <th>ocelote</th>\n",
       "      <td>14.0</td>\n",
       "      <td>1</td>\n",
       "      <td>0</td>\n",
       "      <td>2.0</td>\n",
       "    </tr>\n",
       "    <tr>\n",
       "      <th>puma</th>\n",
       "      <td>5.0</td>\n",
       "      <td>2</td>\n",
       "      <td>5</td>\n",
       "      <td>NaN</td>\n",
       "    </tr>\n",
       "  </tbody>\n",
       "</table>\n",
       "</div>"
      ],
      "text/plain": [
       "               Norte_I  Norte_II  Centro_I  Sur_I\n",
       "Animal                                           \n",
       "lobo              12.0        23        15   28.0\n",
       "coyote             NaN         4        23   46.0\n",
       "jaguar             NaN        25         2   14.0\n",
       "cerdo salvaje      2.0        21       120  156.0\n",
       "tapir              4.0         9        40   79.0\n",
       "venado             2.0       121       121   12.0\n",
       "ocelote           14.0         1         0    2.0\n",
       "puma               5.0         2         5    NaN"
      ]
     },
     "execution_count": 20,
     "metadata": {},
     "output_type": "execute_result"
    }
   ],
   "source": [
    "poblacion"
   ]
  },
  {
   "cell_type": "code",
   "execution_count": 21,
   "metadata": {
    "scrolled": true
   },
   "outputs": [
    {
     "data": {
      "text/html": [
       "<div>\n",
       "<style scoped>\n",
       "    .dataframe tbody tr th:only-of-type {\n",
       "        vertical-align: middle;\n",
       "    }\n",
       "\n",
       "    .dataframe tbody tr th {\n",
       "        vertical-align: top;\n",
       "    }\n",
       "\n",
       "    .dataframe thead th {\n",
       "        text-align: right;\n",
       "    }\n",
       "</style>\n",
       "<table border=\"1\" class=\"dataframe\">\n",
       "  <thead>\n",
       "    <tr style=\"text-align: right;\">\n",
       "      <th></th>\n",
       "      <th>Norte_I</th>\n",
       "      <th>Norte_II</th>\n",
       "      <th>Sur_I</th>\n",
       "    </tr>\n",
       "    <tr>\n",
       "      <th>Animal</th>\n",
       "      <th></th>\n",
       "      <th></th>\n",
       "      <th></th>\n",
       "    </tr>\n",
       "  </thead>\n",
       "  <tbody>\n",
       "    <tr>\n",
       "      <th>lobo</th>\n",
       "      <td>12.0</td>\n",
       "      <td>23</td>\n",
       "      <td>28.0</td>\n",
       "    </tr>\n",
       "    <tr>\n",
       "      <th>coyote</th>\n",
       "      <td>NaN</td>\n",
       "      <td>4</td>\n",
       "      <td>46.0</td>\n",
       "    </tr>\n",
       "    <tr>\n",
       "      <th>jaguar</th>\n",
       "      <td>NaN</td>\n",
       "      <td>25</td>\n",
       "      <td>14.0</td>\n",
       "    </tr>\n",
       "    <tr>\n",
       "      <th>cerdo salvaje</th>\n",
       "      <td>2.0</td>\n",
       "      <td>21</td>\n",
       "      <td>156.0</td>\n",
       "    </tr>\n",
       "    <tr>\n",
       "      <th>tapir</th>\n",
       "      <td>4.0</td>\n",
       "      <td>9</td>\n",
       "      <td>79.0</td>\n",
       "    </tr>\n",
       "    <tr>\n",
       "      <th>venado</th>\n",
       "      <td>2.0</td>\n",
       "      <td>121</td>\n",
       "      <td>12.0</td>\n",
       "    </tr>\n",
       "    <tr>\n",
       "      <th>ocelote</th>\n",
       "      <td>14.0</td>\n",
       "      <td>1</td>\n",
       "      <td>2.0</td>\n",
       "    </tr>\n",
       "    <tr>\n",
       "      <th>puma</th>\n",
       "      <td>5.0</td>\n",
       "      <td>2</td>\n",
       "      <td>NaN</td>\n",
       "    </tr>\n",
       "  </tbody>\n",
       "</table>\n",
       "</div>"
      ],
      "text/plain": [
       "               Norte_I  Norte_II  Sur_I\n",
       "Animal                                 \n",
       "lobo              12.0        23   28.0\n",
       "coyote             NaN         4   46.0\n",
       "jaguar             NaN        25   14.0\n",
       "cerdo salvaje      2.0        21  156.0\n",
       "tapir              4.0         9   79.0\n",
       "venado             2.0       121   12.0\n",
       "ocelote           14.0         1    2.0\n",
       "puma               5.0         2    NaN"
      ]
     },
     "execution_count": 21,
     "metadata": {},
     "output_type": "execute_result"
    }
   ],
   "source": [
    "poblacion.drop(['Centro_I'], axis=1)"
   ]
  },
  {
   "cell_type": "code",
   "execution_count": 22,
   "metadata": {
    "scrolled": true
   },
   "outputs": [
    {
     "data": {
      "text/html": [
       "<div>\n",
       "<style scoped>\n",
       "    .dataframe tbody tr th:only-of-type {\n",
       "        vertical-align: middle;\n",
       "    }\n",
       "\n",
       "    .dataframe tbody tr th {\n",
       "        vertical-align: top;\n",
       "    }\n",
       "\n",
       "    .dataframe thead th {\n",
       "        text-align: right;\n",
       "    }\n",
       "</style>\n",
       "<table border=\"1\" class=\"dataframe\">\n",
       "  <thead>\n",
       "    <tr style=\"text-align: right;\">\n",
       "      <th></th>\n",
       "      <th>Norte_I</th>\n",
       "      <th>Norte_II</th>\n",
       "      <th>Centro_I</th>\n",
       "      <th>Sur_I</th>\n",
       "    </tr>\n",
       "    <tr>\n",
       "      <th>Animal</th>\n",
       "      <th></th>\n",
       "      <th></th>\n",
       "      <th></th>\n",
       "      <th></th>\n",
       "    </tr>\n",
       "  </thead>\n",
       "  <tbody>\n",
       "    <tr>\n",
       "      <th>coyote</th>\n",
       "      <td>NaN</td>\n",
       "      <td>4</td>\n",
       "      <td>23</td>\n",
       "      <td>46.0</td>\n",
       "    </tr>\n",
       "    <tr>\n",
       "      <th>jaguar</th>\n",
       "      <td>NaN</td>\n",
       "      <td>25</td>\n",
       "      <td>2</td>\n",
       "      <td>14.0</td>\n",
       "    </tr>\n",
       "    <tr>\n",
       "      <th>cerdo salvaje</th>\n",
       "      <td>2.0</td>\n",
       "      <td>21</td>\n",
       "      <td>120</td>\n",
       "      <td>156.0</td>\n",
       "    </tr>\n",
       "    <tr>\n",
       "      <th>venado</th>\n",
       "      <td>2.0</td>\n",
       "      <td>121</td>\n",
       "      <td>121</td>\n",
       "      <td>12.0</td>\n",
       "    </tr>\n",
       "    <tr>\n",
       "      <th>ocelote</th>\n",
       "      <td>14.0</td>\n",
       "      <td>1</td>\n",
       "      <td>0</td>\n",
       "      <td>2.0</td>\n",
       "    </tr>\n",
       "    <tr>\n",
       "      <th>puma</th>\n",
       "      <td>5.0</td>\n",
       "      <td>2</td>\n",
       "      <td>5</td>\n",
       "      <td>NaN</td>\n",
       "    </tr>\n",
       "  </tbody>\n",
       "</table>\n",
       "</div>"
      ],
      "text/plain": [
       "               Norte_I  Norte_II  Centro_I  Sur_I\n",
       "Animal                                           \n",
       "coyote             NaN         4        23   46.0\n",
       "jaguar             NaN        25         2   14.0\n",
       "cerdo salvaje      2.0        21       120  156.0\n",
       "venado             2.0       121       121   12.0\n",
       "ocelote           14.0         1         0    2.0\n",
       "puma               5.0         2         5    NaN"
      ]
     },
     "execution_count": 22,
     "metadata": {},
     "output_type": "execute_result"
    }
   ],
   "source": [
    "poblacion.drop(['lobo', 'tapir'])"
   ]
  },
  {
   "cell_type": "markdown",
   "metadata": {},
   "source": [
    "## El método *combine()*."
   ]
  },
  {
   "cell_type": "code",
   "execution_count": 24,
   "metadata": {},
   "outputs": [],
   "source": [
    "take_smaller = lambda s1, s2: s1 if s1.sum() < s2.sum() else s2"
   ]
  },
  {
   "cell_type": "code",
   "execution_count": 25,
   "metadata": {},
   "outputs": [],
   "source": [
    "df1 = pd.DataFrame({'A': [0, 0], 'B': [None, 4]})"
   ]
  },
  {
   "cell_type": "code",
   "execution_count": 27,
   "metadata": {},
   "outputs": [
    {
     "data": {
      "text/html": [
       "<div>\n",
       "<style scoped>\n",
       "    .dataframe tbody tr th:only-of-type {\n",
       "        vertical-align: middle;\n",
       "    }\n",
       "\n",
       "    .dataframe tbody tr th {\n",
       "        vertical-align: top;\n",
       "    }\n",
       "\n",
       "    .dataframe thead th {\n",
       "        text-align: right;\n",
       "    }\n",
       "</style>\n",
       "<table border=\"1\" class=\"dataframe\">\n",
       "  <thead>\n",
       "    <tr style=\"text-align: right;\">\n",
       "      <th></th>\n",
       "      <th>A</th>\n",
       "      <th>B</th>\n",
       "    </tr>\n",
       "  </thead>\n",
       "  <tbody>\n",
       "    <tr>\n",
       "      <th>0</th>\n",
       "      <td>0</td>\n",
       "      <td>NaN</td>\n",
       "    </tr>\n",
       "    <tr>\n",
       "      <th>1</th>\n",
       "      <td>0</td>\n",
       "      <td>4.0</td>\n",
       "    </tr>\n",
       "  </tbody>\n",
       "</table>\n",
       "</div>"
      ],
      "text/plain": [
       "   A    B\n",
       "0  0  NaN\n",
       "1  0  4.0"
      ]
     },
     "execution_count": 27,
     "metadata": {},
     "output_type": "execute_result"
    }
   ],
   "source": [
    "df1"
   ]
  },
  {
   "cell_type": "code",
   "execution_count": 26,
   "metadata": {},
   "outputs": [],
   "source": [
    "df2 = pd.DataFrame({'A': [1, 1], 'B': [None, 3]})"
   ]
  },
  {
   "cell_type": "code",
   "execution_count": 28,
   "metadata": {},
   "outputs": [
    {
     "data": {
      "text/html": [
       "<div>\n",
       "<style scoped>\n",
       "    .dataframe tbody tr th:only-of-type {\n",
       "        vertical-align: middle;\n",
       "    }\n",
       "\n",
       "    .dataframe tbody tr th {\n",
       "        vertical-align: top;\n",
       "    }\n",
       "\n",
       "    .dataframe thead th {\n",
       "        text-align: right;\n",
       "    }\n",
       "</style>\n",
       "<table border=\"1\" class=\"dataframe\">\n",
       "  <thead>\n",
       "    <tr style=\"text-align: right;\">\n",
       "      <th></th>\n",
       "      <th>A</th>\n",
       "      <th>B</th>\n",
       "    </tr>\n",
       "  </thead>\n",
       "  <tbody>\n",
       "    <tr>\n",
       "      <th>0</th>\n",
       "      <td>1</td>\n",
       "      <td>NaN</td>\n",
       "    </tr>\n",
       "    <tr>\n",
       "      <th>1</th>\n",
       "      <td>1</td>\n",
       "      <td>3.0</td>\n",
       "    </tr>\n",
       "  </tbody>\n",
       "</table>\n",
       "</div>"
      ],
      "text/plain": [
       "   A    B\n",
       "0  1  NaN\n",
       "1  1  3.0"
      ]
     },
     "execution_count": 28,
     "metadata": {},
     "output_type": "execute_result"
    }
   ],
   "source": [
    "df2"
   ]
  },
  {
   "cell_type": "code",
   "execution_count": 29,
   "metadata": {},
   "outputs": [
    {
     "data": {
      "text/html": [
       "<div>\n",
       "<style scoped>\n",
       "    .dataframe tbody tr th:only-of-type {\n",
       "        vertical-align: middle;\n",
       "    }\n",
       "\n",
       "    .dataframe tbody tr th {\n",
       "        vertical-align: top;\n",
       "    }\n",
       "\n",
       "    .dataframe thead th {\n",
       "        text-align: right;\n",
       "    }\n",
       "</style>\n",
       "<table border=\"1\" class=\"dataframe\">\n",
       "  <thead>\n",
       "    <tr style=\"text-align: right;\">\n",
       "      <th></th>\n",
       "      <th>A</th>\n",
       "      <th>B</th>\n",
       "    </tr>\n",
       "  </thead>\n",
       "  <tbody>\n",
       "    <tr>\n",
       "      <th>0</th>\n",
       "      <td>0</td>\n",
       "      <td>NaN</td>\n",
       "    </tr>\n",
       "    <tr>\n",
       "      <th>1</th>\n",
       "      <td>0</td>\n",
       "      <td>3.0</td>\n",
       "    </tr>\n",
       "  </tbody>\n",
       "</table>\n",
       "</div>"
      ],
      "text/plain": [
       "   A    B\n",
       "0  0  NaN\n",
       "1  0  3.0"
      ]
     },
     "execution_count": 29,
     "metadata": {},
     "output_type": "execute_result"
    }
   ],
   "source": [
    " df1.combine(df2, take_smaller)"
   ]
  },
  {
   "cell_type": "markdown",
   "metadata": {},
   "source": [
    "## El método *insert()*.\n",
    "\n",
    "Este métodi insertárá una columna en la posición que se le indique.\n",
    "\n",
    "```\n",
    "<objeto de Pandas>.insert(<posición numérica>. <nombre de columna>, <valores>)\n",
    "```"
   ]
  },
  {
   "cell_type": "code",
   "execution_count": null,
   "metadata": {},
   "outputs": [],
   "source": [
    "poblacion.insert(4, 'Sur_II', [7, 21, 23, 6, 11, 32, 21, 1])"
   ]
  },
  {
   "cell_type": "markdown",
   "metadata": {},
   "source": [
    "<p style=\"text-align: center\"><a rel=\"license\" href=\"http://creativecommons.org/licenses/by/4.0/\"><img alt=\"Licencia Creative Commons\" style=\"border-width:0\" src=\"https://i.creativecommons.org/l/by/4.0/80x15.png\" /></a><br />Esta obra está bajo una <a rel=\"license\" href=\"http://creativecommons.org/licenses/by/4.0/\">Licencia Creative Commons Atribución 4.0 Internacional</a>.</p>\n",
    "<p style=\"text-align: center\">&copy; José Luis Chiquete Valdivieso. 2019.</p>"
   ]
  }
 ],
 "metadata": {
  "kernelspec": {
   "display_name": "Python 3",
   "language": "python",
   "name": "python3"
  },
  "language_info": {
   "codemirror_mode": {
    "name": "ipython",
    "version": 3
   },
   "file_extension": ".py",
   "mimetype": "text/x-python",
   "name": "python",
   "nbconvert_exporter": "python",
   "pygments_lexer": "ipython3",
   "version": "3.6.6"
  }
 },
 "nbformat": 4,
 "nbformat_minor": 2
}
