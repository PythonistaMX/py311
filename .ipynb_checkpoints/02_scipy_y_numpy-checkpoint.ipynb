{
 "cells": [
  {
   "cell_type": "markdown",
   "metadata": {},
   "source": [
    "[![imagenes/pythonista.png](imagenes/pythonista.png)](https://pythonista.io)"
   ]
  },
  {
   "cell_type": "markdown",
   "metadata": {},
   "source": [
    "Existen herramientas y lenguajes de programación diseñados específicamente para el cómputo científico y el análisis de datos tales como:\n",
    "\n",
    "* [*Matlab*](https://la.mathworks.com/products/matlab.html).\n",
    "* [*SPSS* ](https://www.ibm.com/analytics/spss-statistics-software).\n",
    "* [*Mathematica*](https://www.wolfram.com/mathematica/).\n",
    "\n",
    "Algunos de ellos incluso ha sido publicado bajo los términos de licencias libres, como:\n",
    "\n",
    "* [*GNU Octave*](https://www.gnu.org/software/octave/).\n",
    "* [*R*](https://www.r-project.org/).\n",
    "* [*Julia*](https://julialang.org/).\n",
    "\n",
    "A diferencia de estas herramientas  y lenguajes altamente especializadas en temas estadísticos y de análisis de datos, Python es un lenguaje de programación de propósito general. \n",
    "\n",
    "Sin embargo, debido a las características de Python se han creado a partir de él una serie de proyectos enfocados a ofrecer herramientas altamente competitivas en el tema de análisis de datos, estadística y cómputo científico."
   ]
  },
  {
   "cell_type": "markdown",
   "metadata": {},
   "source": [
    "## Proyectos más relevantes para análisis de datos.\n",
    "\n",
    "### El proyecto *Scipy*.\n",
    "\n",
    "El proyecto [*Scipy*](https://www.scipy.org) consta de una serie de herramientas y bibliotecas especializadas en cómputo científico y  análisis de datos. Los componentes más importantes del proyecto son: \n",
    "\n",
    "* [*Numpy*](https://numpy.org), una biblioteca que ofrece:\n",
    "    * Gestión de arreglos multidimensionales (*np.array*).\n",
    "    * Tipos de datos optimizados para operaciones con arreglos.\n",
    "    * Poderosos componentes de cálculo vectorial y de álgebra lineal.\n",
    "* [*Pandas*](https://pandas.pydata.org/), una herramienta especializada en:\n",
    "    * Obtención y almacenamientos de datos de diversas fuentes y con diversos formatos.\n",
    "    * Tratamiento de los datos.\n",
    "    * Análisis de los datos.   \n",
    "* [*Matplotlib*](https://matplotlib.org/), una biblioteca especialzada en el despliegue y visualización de datos muy similar a [ggplot](https://ggplot2.tidyverse.org/) del lenguiaje *R*.\n",
    "* [*iPython*](https://ipython.org/), un intérprete de Python especializado en temas de análisis de datos y cómputo científico, el cual fue el origen del proyecto [*Jupyter*]https://jupyter.org/).\n",
    "* [Sympy](https://www.sympy.org), una herramienta que permite realizar operaciones con expresiones de álgebra simbólica.\n",
    "* La biblioteca de Scipy.\n",
    "\n",
    "Estos componentes principales son proyectos muy maduros, cuentan con extensa documentación y soporte tanto de la comunidad como comercial."
   ]
  },
  {
   "cell_type": "markdown",
   "metadata": {},
   "source": [
    "### Los Scikits.\n",
    "\n",
    "Los [Scikits](https://www.scipy.org/scikits.html) son un compendio de proyectos basados en Scipy que ofrecen herramientas puntuales para temas muy específicos tales como:\n",
    "\n",
    "* Machine Learning.\n",
    "* Redes neuronales.\n",
    "* Análisis de imágenes.\n",
    "* Cómputo paralelo.\n",
    "* Supercómputo usando GPU.\n",
    "* Series de tiempo, etc.\n",
    "\n",
    "Estos proyectos no son mantenidos ni soportados por Scipy y su documentación y madurez no es homogenea.\n",
    "\n",
    "Los proyectos pueden sr consutados desde https://scikits.appspot.com/scikits"
   ]
  },
  {
   "cell_type": "markdown",
   "metadata": {},
   "source": [
    "## Instalación de los componentes.\n",
    "\n",
    "La instalación es muy sencilla, ya que todos los componentes se encuentran dentro del repositorio de Pypi en https://pypi.org/."
   ]
  },
  {
   "cell_type": "code",
   "execution_count": null,
   "metadata": {},
   "outputs": [],
   "source": [
    "!pip install numpy scipy pandas"
   ]
  },
  {
   "cell_type": "markdown",
   "metadata": {},
   "source": [
    "## Los arreglos de *Numpy*.\n",
    "\n",
    "Los arreglos (*array*) de *Numpy* son la base fundamental de *Pandas*.\n",
    "\n",
    "Dichos arreglos extienden y optimizan los tipos de datos propios de Python para crear estructuras que pueden tener múltiples dimensiones.\n",
    "\n",
    "A diferencia de los tipos *tuple* y *list* los arreglos de Numpy sólo pueden contener datos de un tipo básico.\n",
    "\n",
    "Los arreglos se definen de la siguiente forma:\n",
    "\n",
    "```\n",
    "np.array([[[<estructura_1,1>, [<estructura_1,2>]... [<estructura_1,n>]],\n",
    "         [[<estructura_2,1>], [<estructura_2,2>]... [<estructura_2,n>]],\n",
    "         ...\n",
    "         ...\n",
    "         [[<estructura_2,1>], [<estructura_2,2>]... [<estructura_2,n>]]], dtype=<tipo>)\n",
    "```\n",
    "\n",
    "el parámetro *dtype* denota el tipo de dato. "
   ]
  },
  {
   "cell_type": "markdown",
   "metadata": {},
   "source": [
    "### Los tipos de datos de *Numpy*.\n",
    "\n",
    "Numpy también ha extendido los tipos básicos de Python de tal forma que puede ofrecer los siguientes:\n",
    "\n",
    "####  Números enteros.\n",
    "\n",
    "Numpy ofrece una familia de tipos enteros que se define por su tamaño en bits.\n",
    "\n",
    "* Enteros con signo: *int*, *int8*, *int16*, *int32* e *int64*.\n",
    "* Enteros sin signo: *uint*, *uint8*, *uint16*, *uint32* y *uint64*.\n",
    "* Bytes: *byte*\n",
    "\n",
    "#### Números de punto flotante.\n",
    "\n",
    "Esta familia de tipos también se define por su tamaño en bits como *float* *float16*, *float32*, *float64* y *float128*.\n",
    "\n",
    "#### Valores boleanos.\n",
    "\n",
    "Estos se definen como *bool_*\n",
    "\n",
    "#### Tipos de texto.\n",
    "\n",
    "Estos tipos corresponden a *string_*, *unicode_*, *bytes_* y también definen su tamaño en bits."
   ]
  },
  {
   "cell_type": "code",
   "execution_count": null,
   "metadata": {},
   "outputs": [],
   "source": [
    "import numpy as np"
   ]
  },
  {
   "cell_type": "code",
   "execution_count": null,
   "metadata": {},
   "outputs": [],
   "source": [
    "np.array([1,2,3])"
   ]
  },
  {
   "cell_type": "code",
   "execution_count": 13,
   "metadata": {},
   "outputs": [],
   "source": [
    "arreglo = np.array([[1,2,3],[4,5,6]], dtype=np.int64)"
   ]
  },
  {
   "cell_type": "code",
   "execution_count": null,
   "metadata": {},
   "outputs": [],
   "source": [
    "arreglo.size"
   ]
  },
  {
   "cell_type": "code",
   "execution_count": null,
   "metadata": {},
   "outputs": [],
   "source": [
    "arreglo[1][1]"
   ]
  },
  {
   "cell_type": "code",
   "execution_count": null,
   "metadata": {},
   "outputs": [],
   "source": [
    "arreglo.dtype"
   ]
  },
  {
   "cell_type": "markdown",
   "metadata": {},
   "source": [
    "<p style=\"text-align: center\"><a rel=\"license\" href=\"http://creativecommons.org/licenses/by/4.0/\"><img alt=\"Licencia Creative Commons\" style=\"border-width:0\" src=\"https://i.creativecommons.org/l/by/4.0/80x15.png\" /></a><br />Esta obra está bajo una <a rel=\"license\" href=\"http://creativecommons.org/licenses/by/4.0/\">Licencia Creative Commons Atribución 4.0 Internacional</a>.</p>\n",
    "<p style=\"text-align: center\">&copy; José Luis Chiquete Valdivieso. 2019.</p>"
   ]
  }
 ],
 "metadata": {
  "kernelspec": {
   "display_name": "Python 3",
   "language": "python",
   "name": "python3"
  },
  "language_info": {
   "codemirror_mode": {
    "name": "ipython",
    "version": 3
   },
   "file_extension": ".py",
   "mimetype": "text/x-python",
   "name": "python",
   "nbconvert_exporter": "python",
   "pygments_lexer": "ipython3",
   "version": "3.6.6"
  }
 },
 "nbformat": 4,
 "nbformat_minor": 2
}
