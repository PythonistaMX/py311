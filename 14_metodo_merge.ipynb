{
 "cells": [
  {
   "cell_type": "markdown",
   "metadata": {},
   "source": [
    "[![img/pythonista.png](img/pythonista.png)](https://www.pythonista.io)"
   ]
  },
  {
   "cell_type": "markdown",
   "metadata": {},
   "source": [
    "# El método ```pd.DataFrame.merge()```."
   ]
  },
  {
   "cell_type": "code",
   "execution_count": null,
   "metadata": {},
   "outputs": [],
   "source": [
    "import pandas as pd\n",
    "from datetime import datetime"
   ]
  },
  {
   "cell_type": "markdown",
   "metadata": {},
   "source": [
    "El método ```pd.DataFrame.merge()``` permite crear en un nuevo *dataframe* a partir de la relación entre el *dataframe* de origen y el que se ingresa como *argumento*, indicando las columnas en las que pueda encontrar elementos coincidentes.\n",
    "\n",
    "\n",
    "```\n",
    "df.merge(<df>, left_on=[<coli_1>, <coli_2>, ..., <coli_n>], \n",
    "    right_on=[<cold_1>, <cold_2>, ..., <col_d n>], \n",
    "    on=[<col_1>, <col_2>,.. <col_n>],\n",
    "    how=<modo>)\n",
    "```\n",
    "\n",
    "Donde:\n",
    "\n",
    "* ```<df>``` es un *dataframe* de *Pandas*.\n",
    "* Cada ```<coli_i>``` es un objeto ```<str>``` que corresponde al identificador de una columna del *dataframe* que contiene al método.\n",
    "* ```<cold_i>``` es un objeto ```<str>``` que corresponde al identificador de una columna del *dataframe* ```<df>```.\n",
    "* Cada ```<col_i>```es un objeto ```<str>``` que corresponde al identificador de una columna que comparte el mismo nombre en ambos *dataframes*.\n",
    "* ```<modo>``` es el modo en el que se realizará la combinación y puede ser:\n",
    "\n",
    "    * ```'inner'```, el cual es el valor por defecto.\n",
    "    * ```'outer'```\n",
    "    * ```'left'```\n",
    "    * ```'right'```\n",
    "    \n",
    "https://pandas.pydata.org/pandas-docs/stable/reference/api/pandas.DataFrame.merge.html"
   ]
  },
  {
   "cell_type": "markdown",
   "metadata": {},
   "source": [
    "**Ejemplos:**"
   ]
  },
  {
   "cell_type": "markdown",
   "metadata": {},
   "source": [
    "* La siguiente celda creará al *dataframe* ```clientes```, el cual contiene a las columnas:\n",
    "\n",
    "* ```'ident'```.\n",
    "* ```'nombre'```.\n",
    "* ```'primer apellido'```.\n",
    "* ```'suc_origen'```."
   ]
  },
  {
   "cell_type": "code",
   "execution_count": null,
   "metadata": {},
   "outputs": [],
   "source": [
    "clientes = pd.DataFrame({'ident':(19232, \n",
    "                             19233, \n",
    "                             19234, \n",
    "                             19235, \n",
    "                             19236),\n",
    "                       'nombre':('Adriana',\n",
    "                               'Marcos',\n",
    "                               'Rubén',\n",
    "                               'Samuel',\n",
    "                               'Martha'),\n",
    "                       'primer apellido':('Sánchez',\n",
    "                                        'García',\n",
    "                                        'Rincón',\n",
    "                                        'Oliva',\n",
    "                                         'Martínez'),\n",
    "                        'suc_origen':('CDMX01',\n",
    "                                      'CDMX02',\n",
    "                                      'CDMX02',\n",
    "                                      'CDMX01',\n",
    "                                      'CDMX03')\n",
    "                        })"
   ]
  },
  {
   "cell_type": "code",
   "execution_count": null,
   "metadata": {
    "scrolled": true
   },
   "outputs": [],
   "source": [
    "clientes"
   ]
  },
  {
   "cell_type": "markdown",
   "metadata": {},
   "source": [
    "* La siguiente celda creará al *dataframe* ```sucursales```, el cual contiene a las columnas:\n",
    "\n",
    "* ```'clave'```.\n",
    "* ```nombre_comercial```."
   ]
  },
  {
   "cell_type": "code",
   "execution_count": null,
   "metadata": {},
   "outputs": [],
   "source": [
    "sucursales = pd.DataFrame({'clave':('CDMX01', \n",
    "                                  'CDMX02', \n",
    "                                  'MTY01', \n",
    "                                  'GDL01'),\n",
    "                         'nombre_comercial':('Galerías',\n",
    "                                             'Centro',\n",
    "                                             'Puerta de la Silla',\n",
    "                                             'Minerva Plaza')})"
   ]
  },
  {
   "cell_type": "code",
   "execution_count": null,
   "metadata": {},
   "outputs": [],
   "source": [
    "sucursales"
   ]
  },
  {
   "cell_type": "markdown",
   "metadata": {},
   "source": [
    "* La siguiente celda creará al *dataframe* ```facturas```, el cual contiene a las columnas:\n",
    "\n",
    "* ```'folio'```.\n",
    "* ```'sucursal'```.\n",
    "* ```'monto'```.\n",
    "* ```'fecha'```.\n",
    "* ```'cliente'```."
   ]
  },
  {
   "cell_type": "code",
   "execution_count": null,
   "metadata": {},
   "outputs": [],
   "source": [
    "facturas = pd.DataFrame({'folio':(15234, \n",
    "          \n",
    "                                  15235, \n",
    "                      15236, \n",
    "                      15237, \n",
    "                      15238, \n",
    "                      15239, \n",
    "                      15240,\n",
    "                      15241,\n",
    "                      15242),\n",
    "             'sucursal':('CDMX01',\n",
    "                         'MTY01',\n",
    "                         'CDMX02',\n",
    "                         'CDMX02',\n",
    "                         'MTY01',\n",
    "                         'GDL01',\n",
    "                         'CDMX02',\n",
    "                         'MTY01',\n",
    "                         'GDL01'),\n",
    "             'monto':(1420.00,\n",
    "                     1532.00,\n",
    "                     890.00,\n",
    "                     1300.00,\n",
    "                     3121.47,\n",
    "                     1100.5,\n",
    "                     12230,\n",
    "                     230.85,\n",
    "                     1569),\n",
    "             'fecha':(datetime(2019,3,11,17,24),\n",
    "                     datetime(2019,3,24,14,46),\n",
    "                     datetime(2019,3,25,17,58),\n",
    "                     datetime(2019,3,27,13,11),\n",
    "                     datetime(2019,3,31,10,25),\n",
    "                     datetime(2019,4,1,18,32),\n",
    "                     datetime(2019,4,3,11,43),\n",
    "                     datetime(2019,4,4,16,55),\n",
    "                     datetime(2019,4,5,12,59)),\n",
    "            'cliente':(19234,\n",
    "                       19232,\n",
    "                       19235,\n",
    "                       19233,\n",
    "                       19236,\n",
    "                       19237,\n",
    "                       19232,\n",
    "                       19233,\n",
    "                       19232)\n",
    "                        })"
   ]
  },
  {
   "cell_type": "code",
   "execution_count": null,
   "metadata": {
    "scrolled": true
   },
   "outputs": [],
   "source": [
    "facturas"
   ]
  },
  {
   "cell_type": "markdown",
   "metadata": {},
   "source": [
    "* Cada una de las siguentes dos celdas regresarán un *dataframe* que relacionará los elementos de ```facturas[\"sucursal\"]``` con ```sucursales[\"clave\"]```."
   ]
  },
  {
   "cell_type": "code",
   "execution_count": null,
   "metadata": {},
   "outputs": [],
   "source": [
    "facturas.merge(sucursales, left_on=\"sucursal\", right_on=\"clave\")"
   ]
  },
  {
   "cell_type": "code",
   "execution_count": null,
   "metadata": {
    "scrolled": true
   },
   "outputs": [],
   "source": [
    "sucursales.merge(facturas, left_on=\"clave\", right_on=\"sucursal\")"
   ]
  },
  {
   "cell_type": "markdown",
   "metadata": {},
   "source": [
    "* La siguente celda regresará un *dataframe* que relacionará los elementos de ```facturas[\"cliente\"]``` con ```clientes[\"ident\"]```."
   ]
  },
  {
   "cell_type": "code",
   "execution_count": null,
   "metadata": {
    "scrolled": false
   },
   "outputs": [],
   "source": [
    "facturas.merge(clientes, left_on=\"cliente\", right_on=\"ident\")"
   ]
  },
  {
   "cell_type": "markdown",
   "metadata": {},
   "source": [
    "* La siguente celda regresará un *dataframe* que relacionará los elementos de ```clientes[\"suc_origen\"]``` con ```sucursales[\"clave\"]```."
   ]
  },
  {
   "cell_type": "code",
   "execution_count": null,
   "metadata": {},
   "outputs": [],
   "source": [
    "clientes.merge(sucursales, left_on='suc_origen', right_on='clave')"
   ]
  },
  {
   "cell_type": "markdown",
   "metadata": {},
   "source": [
    "* La siguente celda regresará un *dataframe* que relacionará:\n",
    "    * Los elementos de ```facturas[\"cliente\"]``` con ```clientes[\"ident\"]```.\n",
    "    * Los elementos de ```facturas[\"sucursal\"]``` con ```clientes[\"suc_origen\"]```.\n",
    "\n",
    "* El *dataframe* resultante contendrá exclusivamente aquellos elementos en los que exista coincidencia en ambas relaciones."
   ]
  },
  {
   "cell_type": "code",
   "execution_count": null,
   "metadata": {
    "scrolled": false
   },
   "outputs": [],
   "source": [
    "facturas.merge(clientes, left_on=[\"cliente\", \"sucursal\"],\n",
    "               right_on=[\"ident\", \"suc_origen\"])"
   ]
  },
  {
   "cell_type": "markdown",
   "metadata": {},
   "source": [
    "* La siguente celda regresará un *dataframe* que relacionará:\n",
    "    * Los elementos de ```facturas[\"cliente\"]``` con ```clientes[\"ident\"]```.\n",
    "    * Los elementos de ```facturas[\"sucursal\"]``` con ```clientes[\"suc_origen\"]```.\n",
    "    * Se ingresará el argumento ```how=\"inner\"```.\n",
    "\n",
    "* El *dataframe* resultante contendrá exclusivamente aquellos elementos en los que exista coincidencia en ambas relaciones."
   ]
  },
  {
   "cell_type": "code",
   "execution_count": null,
   "metadata": {},
   "outputs": [],
   "source": [
    "facturas.merge(clientes, left_on=[\"cliente\", \"sucursal\"],\n",
    "               right_on=[\"ident\", \"suc_origen\"], how=\"inner\")"
   ]
  },
  {
   "cell_type": "markdown",
   "metadata": {},
   "source": [
    "* La siguente celda regresará un *dataframe* que relacionará:\n",
    "    * Los elementos de ```facturas[\"cliente\"]``` con ```clientes[\"ident\"]```.\n",
    "    * Los elementos de ```facturas[\"sucursal\"]``` con ```clientes[\"suc_origen\"]```.\n",
    "    * Se ingresará el argumento ```how=\"outer\"```.\n",
    "\n",
    "* El *dataframe* resultante:\n",
    "     * Contendrá a todas las posibles relaciones entre los *dataframes* ```facturas``` y ```clientes```.\n",
    "     * Cuando no existan coincidencias entre *dataframes*, la información faltante será completada con valores ```np.NaN```. "
   ]
  },
  {
   "cell_type": "code",
   "execution_count": null,
   "metadata": {
    "scrolled": true
   },
   "outputs": [],
   "source": [
    "facturas.merge(clientes, left_on=[\"cliente\", \"sucursal\"],\n",
    "               right_on=[\"ident\", \"suc_origen\"], how=\"outer\")"
   ]
  },
  {
   "cell_type": "markdown",
   "metadata": {},
   "source": [
    "* La siguente celda regresará un *dataframe* que relacionará:\n",
    "    * Los elementos de ```facturas[\"cliente\"]``` con ```clientes[\"ident\"]```.\n",
    "    * Los elementos de ```facturas[\"sucursal\"]``` con ```clientes[\"suc_origen\"]```.\n",
    "    * Se ingresará el argumento ```how=\"left\"```.\n",
    "\n",
    "* El *dataframe* resultante:\n",
    "     * Contendrá a las posibles relaciones del *dataframes* ```facturas```.\n",
    "     * Cuando no existan coincidencias entre *dataframes*, la información faltante será completada con valores ```np.NaN```. "
   ]
  },
  {
   "cell_type": "code",
   "execution_count": null,
   "metadata": {
    "scrolled": false
   },
   "outputs": [],
   "source": [
    "facturas.merge(clientes, left_on=[\"cliente\", \"sucursal\"],\n",
    "               right_on=[\"ident\", \"suc_origen\"], how=\"left\")"
   ]
  },
  {
   "cell_type": "markdown",
   "metadata": {},
   "source": [
    "* La siguente celda regresará un *dataframe* que relacionará:\n",
    "    * Los elementos de ```facturas[\"cliente\"]``` con ```clientes[\"ident\"]```.\n",
    "    * Los elementos de ```facturas[\"sucursal\"]``` con ```clientes[\"suc_origen\"]```.\n",
    "    * Se ingresará el argumento ```how=\"right\"```.\n",
    "\n",
    "* El *dataframe* resultante:\n",
    "     * Contendrá a las posibles relaciones del *dataframes* ```clientes```.\n",
    "     * Cuando no existan coincidencias entre *dataframes*, la información faltante será completada con valores ```np.NaN```. "
   ]
  },
  {
   "cell_type": "code",
   "execution_count": null,
   "metadata": {},
   "outputs": [],
   "source": [
    "facturas.merge(clientes, left_on=[\"cliente\", \"sucursal\"],\n",
    "               right_on=[\"ident\", \"suc_origen\"], how=\"right\")"
   ]
  },
  {
   "cell_type": "markdown",
   "metadata": {},
   "source": [
    "<p style=\"text-align: center\"><a rel=\"license\" href=\"http://creativecommons.org/licenses/by/4.0/\"><img alt=\"Licencia Creative Commons\" style=\"border-width:0\" src=\"https://i.creativecommons.org/l/by/4.0/80x15.png\" /></a><br />Esta obra está bajo una <a rel=\"license\" href=\"http://creativecommons.org/licenses/by/4.0/\">Licencia Creative Commons Atribución 4.0 Internacional</a>.</p>\n",
    "<p style=\"text-align: center\">&copy; José Luis Chiquete Valdivieso. 2023.</p>"
   ]
  }
 ],
 "metadata": {
  "kernelspec": {
   "display_name": "Python 3 (ipykernel)",
   "language": "python",
   "name": "python3"
  },
  "language_info": {
   "codemirror_mode": {
    "name": "ipython",
    "version": 3
   },
   "file_extension": ".py",
   "mimetype": "text/x-python",
   "name": "python",
   "nbconvert_exporter": "python",
   "pygments_lexer": "ipython3",
   "version": "3.10.9"
  }
 },
 "nbformat": 4,
 "nbformat_minor": 2
}
