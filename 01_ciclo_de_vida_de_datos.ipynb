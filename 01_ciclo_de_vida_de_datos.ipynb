{
 "cells": [
  {
   "cell_type": "markdown",
   "metadata": {},
   "source": [
    "[![imagenes/pythonista.png](imagenes/pythonista.png)](https://pythonista.io)"
   ]
  },
  {
   "cell_type": "markdown",
   "metadata": {},
   "source": [
    "## El ciclo de vida de los datos.\n",
    "\n",
    "<img src=\"imagenes/ciclo.png\" width=\"50%\">"
   ]
  },
  {
   "cell_type": "markdown",
   "metadata": {},
   "source": [
    "## Creación.\n",
    "\n",
    "* Planeación.\n",
    "   * ¿Qué datos nos interesan?\n",
    "   * ¿Cuáles son las fuentes de los datos?\n",
    "   * ¿Cuál es la naturaleza de los datos?\n",
    "   \n",
    "* Obtención de datos.\n",
    "   * Método de obtención del dato.\n",
    "       * Formatos y estructura.\n",
    "       * Proceso de obtención.\n",
    "       * Almacenamiento inicial."
   ]
  },
  {
   "cell_type": "markdown",
   "metadata": {},
   "source": [
    "## Procesamiento de datos.\n",
    "* Tratamiento del dato.\n",
    "    * Extraer-Transformar-Cargar (ETL).\n",
    "    * Particionar.\n",
    "    * Fraccionar.\n",
    "    * Desagregar.\n",
    "    * Agrupar.\n",
    "    * Combinar.\n",
    "    * Limpiar.\n",
    "    * Desechar."
   ]
  },
  {
   "cell_type": "markdown",
   "metadata": {},
   "source": [
    "## Análisis de datos.\n",
    "\n",
    "* Objetivos y métricas e indicadores.\n",
    "* Herramientas.\n",
    "* Técnicas.\n",
    "* Metodologías.\n",
    "* Proceso de análisis.\n",
    "* Obtención de nuevos datos e información.\n",
    "* Comunicación.\n",
    "* Toma de decisiones.\n",
    "* Predicción.\n",
    "* Inteligencia."
   ]
  },
  {
   "cell_type": "markdown",
   "metadata": {},
   "source": [
    "## Conservación.\n",
    "\n",
    "* Pertinencia del dato.\n",
    "* Accesibilidad y durabilidad del dato.\n",
    "    * Accesibilidad a corto plazo.\n",
    "    * Persistencia a largo plazo.\n",
    "* Infraestructura.\n",
    "    * Almacenamniento.\n",
    "    * Bases de datos.\n",
    "    * Data lakes.\n",
    "    * Data warehouse."
   ]
  },
  {
   "cell_type": "markdown",
   "metadata": {},
   "source": [
    "## Dar acceso a los datos.\n",
    "\n",
    "* Niveles de acceso y permisos.\n",
    "* Clasificación.\n",
    "* Completitud.\n",
    "* Veracidad.\n",
    "* Integridad.\n",
    "* Simpleza.\n",
    "* Anonimato.\n",
    "* Presentación.\n",
    "* Síntesis.\n",
    "* Metadatos."
   ]
  },
  {
   "cell_type": "markdown",
   "metadata": {},
   "source": [
    "<p style=\"text-align: center\"><a rel=\"license\" href=\"http://creativecommons.org/licenses/by/4.0/\"><img alt=\"Licencia Creative Commons\" style=\"border-width:0\" src=\"https://i.creativecommons.org/l/by/4.0/80x15.png\" /></a><br />Esta obra está bajo una <a rel=\"license\" href=\"http://creativecommons.org/licenses/by/4.0/\">Licencia Creative Commons Atribución 4.0 Internacional</a>.</p>\n",
    "<p style=\"text-align: center\">&copy; José Luis Chiquete Valdivieso. 2019.</p>"
   ]
  }
 ],
 "metadata": {
  "kernelspec": {
   "display_name": "Python 3",
   "language": "python",
   "name": "python3"
  },
  "language_info": {
   "codemirror_mode": {
    "name": "ipython",
    "version": 3
   },
   "file_extension": ".py",
   "mimetype": "text/x-python",
   "name": "python",
   "nbconvert_exporter": "python",
   "pygments_lexer": "ipython3",
   "version": "3.7.3"
  }
 },
 "nbformat": 4,
 "nbformat_minor": 2
}
