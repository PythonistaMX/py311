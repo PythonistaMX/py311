{
 "cells": [
  {
   "cell_type": "markdown",
   "metadata": {},
   "source": [
    "[![imagenes/pythonista.png](imagenes/pythonista.png)](https://pythonista.io)"
   ]
  },
  {
   "cell_type": "markdown",
   "metadata": {},
   "source": [
    "Datos es un elemento de conocimiento. \n",
    "* Algo que se puede medir o precibir o cuantificar.\n",
    "* Los datos generan información.\n",
    "* La información genera conociminetos."
   ]
  },
  {
   "cell_type": "markdown",
   "metadata": {},
   "source": [
    "## Ciclo de vida.\n",
    "\n",
    "* Origen de los datos.\n",
    "   * Qué datos nos interesan.\n",
    "   * La fuente de los datos.\n",
    "   * La naturaleza de los datos.\n",
    "* Obtención de datos.\n",
    "   * Método de obtención del dato.\n",
    "       * Formatos y estructura.\n",
    "       * Proceso de obtención.\n",
    "       * Almacenamiento inicial.\n",
    "    * Almacenamiento.\n",
    "        * Perinencia del dato.\n",
    "            * corto plazo\n",
    "            * largo plazo\n",
    "        *infraestructura\n",
    "    * Tratamiento del dato.\n",
    "        * Transformar (ETL).\n",
    "        * Combinar.\n",
    "        * Limpiar.\n",
    "        * Desechar.\n",
    "   * Análisis.\n",
    "        * Objetivos y métricas.\n",
    "        * Herramientas.\n",
    "        * Metodologías.\n",
    "        * Proceso de análisis.\n",
    "        * Obtención de nuevos datos e información.\n",
    "        * Coumnicación.\n",
    "        * Almacenamiento.\n",
    "   * Predicción.\n",
    "        * Modelos.\n",
    "        * Evaluaciión.\n",
    "        \n",
    "   * Inteligencia.\n",
    "        * ?\n",
    "\n",
    "##  Gobernanza de datos."
   ]
  },
  {
   "cell_type": "markdown",
   "metadata": {},
   "source": [
    "<p style=\"text-align: center\"><a rel=\"license\" href=\"http://creativecommons.org/licenses/by/4.0/\"><img alt=\"Licencia Creative Commons\" style=\"border-width:0\" src=\"https://i.creativecommons.org/l/by/4.0/80x15.png\" /></a><br />Esta obra está bajo una <a rel=\"license\" href=\"http://creativecommons.org/licenses/by/4.0/\">Licencia Creative Commons Atribución 4.0 Internacional</a>.</p>\n",
    "<p style=\"text-align: center\">&copy; José Luis Chiquete Valdivieso. 2019.</p>"
   ]
  }
 ],
 "metadata": {
  "kernelspec": {
   "display_name": "Python 3",
   "language": "python",
   "name": "python3"
  },
  "language_info": {
   "codemirror_mode": {
    "name": "ipython",
    "version": 3
   },
   "file_extension": ".py",
   "mimetype": "text/x-python",
   "name": "python",
   "nbconvert_exporter": "python",
   "pygments_lexer": "ipython3",
   "version": "3.6.6"
  }
 },
 "nbformat": 4,
 "nbformat_minor": 2
}
