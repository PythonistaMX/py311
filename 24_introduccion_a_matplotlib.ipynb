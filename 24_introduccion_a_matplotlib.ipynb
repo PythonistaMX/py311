{
 "cells": [
  {
   "cell_type": "markdown",
   "metadata": {},
   "source": [
    "[![img/pythonista.png](img/pythonista.png)](https://www.pythonista.io)"
   ]
  },
  {
   "cell_type": "markdown",
   "metadata": {},
   "source": [
    "# El paquete *Matplotlib*."
   ]
  },
  {
   "cell_type": "markdown",
   "metadata": {},
   "source": [
    "[*Matlplotib*](https://matplotlib.org/) consiste en una biblioteca especializada en visualización de datos y es la base de herramientas más avanzadas como [*Seaborn*](https://seaborn.pydata.org/), [*Plotnine*](https://plotnine.readthedocs.io/en/stable/) y [*Dash*](https://dash.plotly.com/) entre muchas otras.\n",
    "\n",
    "La sintaxis de *Matplotlib* está basada en la sintaxis de *Matlab*.\n",
    "\n",
    "Por convención, el paquete ```matplotlib``` se importa como ```mpl```. Se utilizará esta nomenclatura para próximas referencia."
   ]
  },
  {
   "cell_type": "code",
   "execution_count": null,
   "metadata": {},
   "outputs": [],
   "source": [
    "import numpy as np"
   ]
  },
  {
   "cell_type": "code",
   "execution_count": null,
   "metadata": {},
   "outputs": [],
   "source": [
    "!pip install matplotlib"
   ]
  },
  {
   "cell_type": "markdown",
   "metadata": {},
   "source": [
    "## El objeto ```mpl.pyplot```.\n",
    "\n",
    "*Matplotlib* contiene una muy extensa biblioteca, la cual tiene como componente principal al objeto ```matplotlib.pyplot```. Por convención, ```matplotlib.pyplot``` se importa como ```plt```. Se utilizará esta convención para próximas referencias.\n",
    "\n",
    "El uso de ```plt``` permite crear objetos capaces de desplegar gráficos y definir múltiples características de éstos.\n",
    "\n",
    "A lo largo de este capítulo se explorarán algunos de dichos recursos.\n",
    "\n",
    "https://matplotlib.org/3.5.3/api/_as_gen/matplotlib.pyplot.html"
   ]
  },
  {
   "cell_type": "code",
   "execution_count": null,
   "metadata": {},
   "outputs": [],
   "source": [
    "from matplotlib import pyplot as plt"
   ]
  },
  {
   "cell_type": "markdown",
   "metadata": {},
   "source": [
    "### El método ```plt.plot()```."
   ]
  },
  {
   "cell_type": "markdown",
   "metadata": {},
   "source": [
    "Esta función permite crear una o más gráficas en 2 dimensiones a partir de arreglos de puntos para los ejes ```x``` y ```y``` que son ingresados como argumentos.\n",
    "\n",
    "```\n",
    "plt.plot(<arreglo para x1>, <arreglo para y1>,\n",
    "            <arreglo para x2>, <arreglo para y2>, ... \n",
    "            <arreglo para xn>, <arreglo para yn>, <otros argumentos>)\n",
    "```"
   ]
  },
  {
   "cell_type": "markdown",
   "metadata": {},
   "source": [
    "### El método ```plt.show()```.\n",
    "\n",
    "El método ```plt. show()``` permite desplegar el gráfico creado con ```plt.plot()``` en el entorno desde el que se ejecutan las instrucciones.\n",
    "\n",
    "**NOTA:** En el caso de las notebooks de *Jupyter*, no es necesario usar ```plt. show()``` para que el gráfico se despliegue al ejecutar una celda con ```plt.plot()```."
   ]
  },
  {
   "cell_type": "markdown",
   "metadata": {},
   "source": [
    "**Ejemplos:**"
   ]
  },
  {
   "cell_type": "markdown",
   "metadata": {},
   "source": [
    "* Las siguientes celdas crearán un arreglo unidimensinal de *Numpy* con nombre ```x```, el cual contendrá ```500``` segmentos lineales que van de ```0```  a ```3π``` usando la función ```np.linspace()```."
   ]
  },
  {
   "cell_type": "code",
   "execution_count": null,
   "metadata": {
    "scrolled": true
   },
   "outputs": [],
   "source": [
    "x = np.linspace(0, 3*np.pi, 500)"
   ]
  },
  {
   "cell_type": "code",
   "execution_count": null,
   "metadata": {},
   "outputs": [],
   "source": [
    "x"
   ]
  },
  {
   "cell_type": "markdown",
   "metadata": {},
   "source": [
    "* La siguente celda utilizará ```plt.plot()``` para desplegar dos gráficas que unirán cada punto definido mediante una línea, las cuales están en función del arreglo ```x```:\n",
    "\n",
    "* ```np.sin(x ** 2)```\n",
    "* ```np.cos(x ** 2)```"
   ]
  },
  {
   "cell_type": "code",
   "execution_count": null,
   "metadata": {},
   "outputs": [],
   "source": [
    "plt.plot(x, np.sin(x**2), x, np.cos(x ** 2))"
   ]
  },
  {
   "cell_type": "code",
   "execution_count": null,
   "metadata": {},
   "outputs": [],
   "source": [
    "plt.show()"
   ]
  },
  {
   "cell_type": "markdown",
   "metadata": {},
   "source": [
    "* Las celdas anteriores crearon de forma automática un objeto de tipo ```plt.Figure```, el cual fue utilizado para desplegar las gráficas correspondientes."
   ]
  },
  {
   "cell_type": "markdown",
   "metadata": {},
   "source": [
    "* La siguiente celda incluye algunas funciones de ```plt``` que definen el título del gráfico (```plt.title()```), y las estiqueta de los ejes ( ```plt.xlabel```y ```plt.ylabel```)."
   ]
  },
  {
   "cell_type": "code",
   "execution_count": null,
   "metadata": {},
   "outputs": [],
   "source": [
    "plt.plot(x, np.sin(x**2), x, np.cos(x ** 2))\n",
    "plt.title('Funciones sinusoidales')\n",
    "plt.xlabel('Eje de las x')\n",
    "plt.ylabel('f(x)')\n",
    "plt.show()"
   ]
  },
  {
   "cell_type": "markdown",
   "metadata": {},
   "source": [
    "<p style=\"text-align: center\"><a rel=\"license\" href=\"http://creativecommons.org/licenses/by/4.0/\"><img alt=\"Licencia Creative Commons\" style=\"border-width:0\" src=\"https://i.creativecommons.org/l/by/4.0/80x15.png\" /></a><br />Esta obra está bajo una <a rel=\"license\" href=\"http://creativecommons.org/licenses/by/4.0/\">Licencia Creative Commons Atribución 4.0 Internacional</a>.</p>\n",
    "<p style=\"text-align: center\">&copy; José Luis Chiquete Valdivieso. 2022.</p>"
   ]
  }
 ],
 "metadata": {
  "kernelspec": {
   "display_name": "Python 3 (ipykernel)",
   "language": "python",
   "name": "python3"
  },
  "language_info": {
   "codemirror_mode": {
    "name": "ipython",
    "version": 3
   },
   "file_extension": ".py",
   "mimetype": "text/x-python",
   "name": "python",
   "nbconvert_exporter": "python",
   "pygments_lexer": "ipython3",
   "version": "3.10.6"
  }
 },
 "nbformat": 4,
 "nbformat_minor": 2
}
