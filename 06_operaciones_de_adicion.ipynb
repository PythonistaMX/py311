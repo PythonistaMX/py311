{
 "cells": [
  {
   "cell_type": "markdown",
   "metadata": {},
   "source": [
    "[![imagenes/pythonista.png](imagenes/pythonista.png)](https://pythonista.io)"
   ]
  },
  {
   "cell_type": "markdown",
   "metadata": {},
   "source": []
  },
  {
   "cell_type": "code",
   "execution_count": null,
   "metadata": {
    "scrolled": true
   },
   "outputs": [],
   "source": [
    "import pandas as pd\n",
    "import numpy as np"
   ]
  },
  {
   "cell_type": "markdown",
   "metadata": {},
   "source": [
    "## El método *pd.DataFrame.append()*"
   ]
  },
  {
   "cell_type": "code",
   "execution_count": null,
   "metadata": {
    "scrolled": true
   },
   "outputs": [],
   "source": [
    "indice_1 = (\"lunes\", \"martes\", \"miércoles\")\n",
    "marco_1 = pd.DataFrame({'Centro':[1520, \n",
    "                                 1640, \n",
    "                                 1043], \n",
    "                       'Sur':[1422, \n",
    "                              1673, \n",
    "                              1534],\n",
    "                      'Oriente':[1021,\n",
    "                                1073,\n",
    "                                1100]},\n",
    "                      index=indice_1)"
   ]
  },
  {
   "cell_type": "code",
   "execution_count": null,
   "metadata": {
    "scrolled": true
   },
   "outputs": [],
   "source": [
    "marco_1"
   ]
  },
  {
   "cell_type": "code",
   "execution_count": null,
   "metadata": {
    "scrolled": true
   },
   "outputs": [],
   "source": [
    "indice_2 = (\"jueves\", \"viernes\", \"sábado\")\n",
    "marco_2 = pd.DataFrame({'Centro':[1321, \n",
    "                                 1459, \n",
    "                                 1875], \n",
    "                       'Sur':[1622, \n",
    "                              1841, \n",
    "                              1920],\n",
    "                      'Oriente':[1500,\n",
    "                                1432,\n",
    "                                1491]},\n",
    "                      index=indice_2)"
   ]
  },
  {
   "cell_type": "code",
   "execution_count": null,
   "metadata": {
    "scrolled": true
   },
   "outputs": [],
   "source": [
    "marco_2"
   ]
  },
  {
   "cell_type": "code",
   "execution_count": null,
   "metadata": {
    "scrolled": true
   },
   "outputs": [],
   "source": [
    "marco_1.append(marco_2)"
   ]
  },
  {
   "cell_type": "code",
   "execution_count": null,
   "metadata": {
    "scrolled": true
   },
   "outputs": [],
   "source": [
    "indice_3 = ['domingo'] \n",
    "marco_3 = pd.DataFrame({'Centro':[2210],\n",
    "                        'Matriz':[3120]},\n",
    "                      index=indice_3)"
   ]
  },
  {
   "cell_type": "code",
   "execution_count": null,
   "metadata": {
    "scrolled": true
   },
   "outputs": [],
   "source": [
    "marco_3"
   ]
  },
  {
   "cell_type": "code",
   "execution_count": null,
   "metadata": {
    "scrolled": true
   },
   "outputs": [],
   "source": [
    "marco_1.append(marco_2).append(marco_3, sort=False)"
   ]
  },
  {
   "cell_type": "markdown",
   "metadata": {},
   "source": [
    "## El método *np.DataFrame.join()*."
   ]
  },
  {
   "cell_type": "markdown",
   "metadata": {},
   "source": [
    "### Argumentos para el parámetro *how*.\n",
    "\n",
    "* *'left'* va a tomar como referencia al dataframe de la izquierda y va a ajustar el tamaña al de dicho dataframe.\n",
    "* *'right'* va a tomar como referencia al dataframe de la derecha y va a ajustar el tamaña al de dicho dataframe.\n",
    "* *'inner'* \n",
    "* *'outer'*"
   ]
  },
  {
   "cell_type": "code",
   "execution_count": null,
   "metadata": {
    "scrolled": true
   },
   "outputs": [],
   "source": [
    "region_1 = pd.DataFrame({'animal':['zorro', \n",
    "                     'conejo', \n",
    "                     'liebre', \n",
    "                     'halcón'],\n",
    "          'población':[12,\n",
    "                      436,\n",
    "                      315,\n",
    "                      7]})"
   ]
  },
  {
   "cell_type": "code",
   "execution_count": null,
   "metadata": {
    "scrolled": true
   },
   "outputs": [],
   "source": [
    "region_1"
   ]
  },
  {
   "cell_type": "code",
   "execution_count": null,
   "metadata": {
    "scrolled": true
   },
   "outputs": [],
   "source": [
    "region_2 = pd.DataFrame({'animal':['conejo',\n",
    "                                  'jabalí',\n",
    "                                  'venado',\n",
    "                                  'jaguar',\n",
    "                                  'águila',\n",
    "                                  'halcón'],\n",
    "                        'población':[2015,\n",
    "                                     450,\n",
    "                                     56,\n",
    "                                     2,\n",
    "                                     30,\n",
    "                                     25]})"
   ]
  },
  {
   "cell_type": "code",
   "execution_count": null,
   "metadata": {
    "scrolled": true
   },
   "outputs": [],
   "source": [
    "region_2"
   ]
  },
  {
   "cell_type": "code",
   "execution_count": null,
   "metadata": {
    "scrolled": true
   },
   "outputs": [],
   "source": [
    "region_1.join(region_2,\n",
    "              lsuffix=' region 1',\n",
    "              rsuffix=' region 2')"
   ]
  },
  {
   "cell_type": "code",
   "execution_count": null,
   "metadata": {
    "scrolled": true
   },
   "outputs": [],
   "source": [
    "region_1.join(region_2,\n",
    "              lsuffix=' region 1',\n",
    "              rsuffix=' region 2', how=\"right\")"
   ]
  },
  {
   "cell_type": "code",
   "execution_count": null,
   "metadata": {
    "scrolled": false
   },
   "outputs": [],
   "source": [
    "region_1.set_index('animal')"
   ]
  },
  {
   "cell_type": "code",
   "execution_count": null,
   "metadata": {
    "scrolled": true
   },
   "outputs": [],
   "source": [
    "region_1.set_index(\"animal\").join(region_2.set_index('animal'),\n",
    "                                   lsuffix=' region 1',\n",
    "                                   rsuffix=' region 2')"
   ]
  },
  {
   "cell_type": "code",
   "execution_count": null,
   "metadata": {
    "scrolled": true
   },
   "outputs": [],
   "source": [
    "region_1.set_index(\"animal\").join(region_2.set_index('animal'),\n",
    "                                   lsuffix=' region 1',\n",
    "                                   rsuffix=' region 2',\n",
    "                                 how='right')"
   ]
  },
  {
   "cell_type": "code",
   "execution_count": null,
   "metadata": {
    "scrolled": true
   },
   "outputs": [],
   "source": [
    "region_1.set_index(\"animal\").join(region_2.set_index('animal'),\n",
    "                                   lsuffix=' region 1',\n",
    "                                   rsuffix=' region 2', how='inner')"
   ]
  },
  {
   "cell_type": "code",
   "execution_count": null,
   "metadata": {
    "scrolled": true
   },
   "outputs": [],
   "source": [
    "region_1.set_index(\"animal\").join(region_2.set_index('animal'),\n",
    "                                  lsuffix=' region 1',\n",
    "                                  rsuffix=' region 2',\n",
    "                                  how='outer')"
   ]
  },
  {
   "cell_type": "markdown",
   "metadata": {},
   "source": [
    "## La función *pd.concat()*\n",
    "\n",
    "* *axis*\n",
    "* *sort*\n",
    "* *ignore_index*\n",
    "* *join*\n",
    "* *keys*"
   ]
  },
  {
   "cell_type": "code",
   "execution_count": null,
   "metadata": {
    "scrolled": true
   },
   "outputs": [],
   "source": [
    "marco_1"
   ]
  },
  {
   "cell_type": "code",
   "execution_count": null,
   "metadata": {
    "scrolled": true
   },
   "outputs": [],
   "source": [
    "marco_2"
   ]
  },
  {
   "cell_type": "code",
   "execution_count": null,
   "metadata": {
    "scrolled": true
   },
   "outputs": [],
   "source": [
    "pd.concat([marco_1, marco_2])"
   ]
  },
  {
   "cell_type": "code",
   "execution_count": null,
   "metadata": {
    "scrolled": true
   },
   "outputs": [],
   "source": [
    " pd.concat([marco_1, marco_2], axis=1, sort=False)"
   ]
  },
  {
   "cell_type": "code",
   "execution_count": null,
   "metadata": {
    "scrolled": true
   },
   "outputs": [],
   "source": [
    " pd.concat([marco_1, marco_2], axis=1, sort=False)['Centro']"
   ]
  },
  {
   "cell_type": "code",
   "execution_count": null,
   "metadata": {
    "scrolled": true
   },
   "outputs": [],
   "source": [
    "semanales = pd.concat([marco_1, marco_2], axis=1, keys=['semana 1', 'semana 2'],\n",
    "                      sort=False)"
   ]
  },
  {
   "cell_type": "code",
   "execution_count": null,
   "metadata": {
    "scrolled": true
   },
   "outputs": [],
   "source": [
    "semanales"
   ]
  },
  {
   "cell_type": "code",
   "execution_count": null,
   "metadata": {
    "scrolled": true
   },
   "outputs": [],
   "source": [
    "semanales['semana 1']"
   ]
  },
  {
   "cell_type": "code",
   "execution_count": null,
   "metadata": {
    "scrolled": true
   },
   "outputs": [],
   "source": [
    "semanales['semana 1']['Centro']"
   ]
  },
  {
   "cell_type": "markdown",
   "metadata": {},
   "source": [
    "<p style=\"text-align: center\"><a rel=\"license\" href=\"http://creativecommons.org/licenses/by/4.0/\"><img alt=\"Licencia Creative Commons\" style=\"border-width:0\" src=\"https://i.creativecommons.org/l/by/4.0/80x15.png\" /></a><br />Esta obra está bajo una <a rel=\"license\" href=\"http://creativecommons.org/licenses/by/4.0/\">Licencia Creative Commons Atribución 4.0 Internacional</a>.</p>\n",
    "<p style=\"text-align: center\">&copy; José Luis Chiquete Valdivieso. 2019.</p>"
   ]
  }
 ],
 "metadata": {
  "kernelspec": {
   "display_name": "Python 3",
   "language": "python",
   "name": "python3"
  },
  "language_info": {
   "codemirror_mode": {
    "name": "ipython",
    "version": 3
   },
   "file_extension": ".py",
   "mimetype": "text/x-python",
   "name": "python",
   "nbconvert_exporter": "python",
   "pygments_lexer": "ipython3",
   "version": "3.6.6"
  }
 },
 "nbformat": 4,
 "nbformat_minor": 2
}
