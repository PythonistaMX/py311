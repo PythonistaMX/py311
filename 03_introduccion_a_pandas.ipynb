{
 "cells": [
  {
   "cell_type": "markdown",
   "metadata": {},
   "source": [
    "[![imagenes/pythonista.png](imagenes/pythonista.png)](https://pythonista.io)"
   ]
  },
  {
   "cell_type": "markdown",
   "metadata": {},
   "source": [
    "El proyecto [*Pandas*](https://pandas.pydata.org/) es una herramienta especializada en la gestión de \"data frames\", utilizándolos como materia prima para la realización de operaciones de análisis de datos.\n",
    "\n",
    "\n",
    "*Pandas* cuenta con las siguientes funcionalidades.\n",
    "\n",
    "\n",
    "* Los Dataframes.\n",
    "* Lectura y escritura de datos entre estructuras en memoria y diversos formatos de archivos y bases de datos.\n",
    "* Alineación de datos y manejo de datos faltantes.\n",
    "* Modificación de conjuntos de datos.\n",
    "* Manejo de series de tiempo.\n",
    "\n",
    "Por convención, el paquete *pandas* es importado con el nombre de *pd*. A lo largo de este curso, se utilizará dicha convención."
   ]
  },
  {
   "cell_type": "code",
   "execution_count": null,
   "metadata": {},
   "outputs": [],
   "source": [
    "!pip install pandas"
   ]
  },
  {
   "cell_type": "code",
   "execution_count": null,
   "metadata": {
    "scrolled": true
   },
   "outputs": [],
   "source": [
    "import pandas as pd"
   ]
  },
  {
   "cell_type": "markdown",
   "metadata": {},
   "source": [
    "## Los *dataframes*.\n",
    "\n",
    "Los dataframes representan el componente primordial tanto de *Pandas* como de *R*.\n",
    "\n",
    "Los dataframes de *Pandas* se basan en los arreglos de *Numpy*, conformando arreglos de datos de 2 dimensones compuesto por columnas e índices.\n",
    "\n",
    "* Cada dato de un dataframe puede ser indexado usando su columna y su índice. \n",
    "* Si no se definen, las columnas y los índices serán identificados con números enteros que se irán incrementando en una unidad a partir del cero. "
   ]
  },
  {
   "cell_type": "markdown",
   "metadata": {},
   "source": [
    "### La clase *pd.DataFrame*.\n",
    "\n",
    "La clase *pd.DataFrame* permite crear dataframes a partir de datos que pueden corresponder a:\n",
    "* Objetos de tipo *dict*.\n",
    "* Series objetos tipo *tuple*.\n",
    "* Objetos *numpy.ndarray* (arreglos que contienen sólo números).\n",
    "* Otros objetos instanciado de *pandas.DataFrame*.\n",
    "\n",
    "Dichos datos pueden ser ingresados como argumentos del parámetro *data* al instanciarlos."
   ]
  },
  {
   "cell_type": "markdown",
   "metadata": {},
   "source": [
    "**Ejemplo:**"
   ]
  },
  {
   "cell_type": "markdown",
   "metadata": {},
   "source": [
    "* Se creará un dataframe a partir de una colección de objetos tipo *tuple*."
   ]
  },
  {
   "cell_type": "code",
   "execution_count": null,
   "metadata": {},
   "outputs": [],
   "source": [
    "pd.DataFrame(data=[(0, 1, 2), (1, 2, 3), (2, 3, 4), (3, 4, 5)])"
   ]
  },
  {
   "cell_type": "markdown",
   "metadata": {},
   "source": [
    "* Se creará un dataframe a partir de un objeto tipo *dict*.\n",
    "\n",
    "* En este caso, el identificador de cada colección de datos corresponderá al encabezado de cada columna."
   ]
  },
  {
   "cell_type": "code",
   "execution_count": null,
   "metadata": {},
   "outputs": [],
   "source": [
    "diccionarios = {'py101':[10, 5, 33 ,45, 25, 22], \n",
    "                'py111':[0, 15, 21 , 30, 31, 11], \n",
    "                'py121':[15, 5, 1 ,10, 42, 21], \n",
    "                'py301':[20, 35, 3 ,15, 0, 0], }"
   ]
  },
  {
   "cell_type": "code",
   "execution_count": null,
   "metadata": {
    "scrolled": true
   },
   "outputs": [],
   "source": [
    "pd.DataFrame(data=diccionarios)"
   ]
  },
  {
   "cell_type": "markdown",
   "metadata": {},
   "source": [
    "* Se creará un dataframe a partir de un objeto creado con *numpy.arange()*."
   ]
  },
  {
   "cell_type": "code",
   "execution_count": null,
   "metadata": {},
   "outputs": [],
   "source": [
    "import numpy as np"
   ]
  },
  {
   "cell_type": "code",
   "execution_count": null,
   "metadata": {},
   "outputs": [],
   "source": [
    "matriz = np.arange(9).reshape(3,3)"
   ]
  },
  {
   "cell_type": "code",
   "execution_count": null,
   "metadata": {},
   "outputs": [],
   "source": [
    "matriz"
   ]
  },
  {
   "cell_type": "code",
   "execution_count": null,
   "metadata": {},
   "outputs": [],
   "source": [
    "pd.DataFrame(matriz)"
   ]
  },
  {
   "cell_type": "markdown",
   "metadata": {},
   "source": [
    "### Definición de índices.\n",
    "\n",
    "Aún cuando por defecto los índices pueden son numéricos, es posible asignarle un identificador a cada uno de ellos. El parámetro *index*, permite asignar un índice a cada renglón.\n",
    "\n",
    "``` python\n",
    "index = <colección ordenada de elementos>\n",
    "```"
   ]
  },
  {
   "cell_type": "markdown",
   "metadata": {},
   "source": [
    "**Ejemplo:**"
   ]
  },
  {
   "cell_type": "code",
   "execution_count": null,
   "metadata": {},
   "outputs": [],
   "source": [
    "indice = ('enero', 'febrero', 'marzo', 'abril', 'mayo', 'junio')"
   ]
  },
  {
   "cell_type": "code",
   "execution_count": null,
   "metadata": {
    "scrolled": true
   },
   "outputs": [],
   "source": [
    "pd.DataFrame(data=diccionarios, index=indice)"
   ]
  },
  {
   "cell_type": "markdown",
   "metadata": {},
   "source": [
    "El parámetro *columns* permite nombrar a las columnas. \n",
    "\n",
    "**Ejemplo:**"
   ]
  },
  {
   "cell_type": "code",
   "execution_count": null,
   "metadata": {},
   "outputs": [],
   "source": [
    "pd.DataFrame(matriz, index=['uno','dos','tres'], columns=['a', 'b', 'c'])"
   ]
  },
  {
   "cell_type": "markdown",
   "metadata": {},
   "source": [
    "### Selección de columnas.\n",
    "\n",
    "```\n",
    "<dataframe>[<columna>]\n",
    "```"
   ]
  },
  {
   "cell_type": "markdown",
   "metadata": {},
   "source": [
    "**Ejemplo:**"
   ]
  },
  {
   "cell_type": "code",
   "execution_count": null,
   "metadata": {},
   "outputs": [],
   "source": [
    "cursos = pd.DataFrame({'py101':[10, 5, 33 ,45, 25, 22], \n",
    "         'py111':[0, 15, 21 , 30, 31, 11], \n",
    "         'py121':[15, 5, 1 ,10, 42, 21], \n",
    "         'py301':[20, 35, 3 ,15, 0, 0]},\n",
    "         index=('enero', 'febrero', 'marzo', 'abril', 'mayo', 'junio'))"
   ]
  },
  {
   "cell_type": "code",
   "execution_count": null,
   "metadata": {},
   "outputs": [],
   "source": [
    "cursos"
   ]
  },
  {
   "cell_type": "code",
   "execution_count": null,
   "metadata": {},
   "outputs": [],
   "source": [
    "cursos['py121']"
   ]
  },
  {
   "cell_type": "code",
   "execution_count": null,
   "metadata": {},
   "outputs": [],
   "source": [
    "cursos[0]"
   ]
  },
  {
   "cell_type": "markdown",
   "metadata": {},
   "source": [
    "### Selección de renglones por índices."
   ]
  },
  {
   "cell_type": "markdown",
   "metadata": {},
   "source": [
    "**Ejemplos:**"
   ]
  },
  {
   "cell_type": "code",
   "execution_count": null,
   "metadata": {},
   "outputs": [],
   "source": [
    "cursos[4:]"
   ]
  },
  {
   "cell_type": "code",
   "execution_count": null,
   "metadata": {},
   "outputs": [],
   "source": [
    "cursos['enero':'febrero']"
   ]
  },
  {
   "cell_type": "code",
   "execution_count": null,
   "metadata": {},
   "outputs": [],
   "source": [
    "cursos['enero']"
   ]
  },
  {
   "cell_type": "markdown",
   "metadata": {},
   "source": [
    "### Selección de un elemento del dataframe.\n",
    "\n",
    "```\n",
    "<dataframe>[<columna>][<índice>]\n",
    "```"
   ]
  },
  {
   "cell_type": "markdown",
   "metadata": {},
   "source": [
    "**Ejemplo:**"
   ]
  },
  {
   "cell_type": "code",
   "execution_count": null,
   "metadata": {},
   "outputs": [],
   "source": [
    "cursos['py101'][2]"
   ]
  },
  {
   "cell_type": "code",
   "execution_count": null,
   "metadata": {},
   "outputs": [],
   "source": [
    "cursos['py101']['marzo']"
   ]
  },
  {
   "cell_type": "code",
   "execution_count": null,
   "metadata": {},
   "outputs": [],
   "source": [
    "cursos['py111'][3:5]"
   ]
  },
  {
   "cell_type": "markdown",
   "metadata": {},
   "source": [
    "### La clase *pandas.Series*.\n",
    "\n",
    "Los objetos instanciado de la clase *pandas.Series* son de una sola dimensión y pueden ser al ingresar como argumento de *data* objetos de tipo:\n",
    "\n",
    "* *tuple*\n",
    "* *list*\n",
    "* *dict* \n",
    "* *numpy.ndarray*\n",
    "\n",
    "A las series se les puede asignar un nombre mediante el parametro *name*."
   ]
  },
  {
   "cell_type": "markdown",
   "metadata": {},
   "source": [
    "**Ejemplo:**"
   ]
  },
  {
   "cell_type": "code",
   "execution_count": null,
   "metadata": {},
   "outputs": [],
   "source": [
    "pd.Series([12, 4, 32, 41, 33, 28], name='py201')"
   ]
  },
  {
   "cell_type": "markdown",
   "metadata": {},
   "source": [
    "Al igual que con los dataframes, es posible asignarle un índice."
   ]
  },
  {
   "cell_type": "code",
   "execution_count": null,
   "metadata": {},
   "outputs": [],
   "source": [
    "pd.Series([12, 4, 32, 41, 33, 28], index=indice, name='py201')"
   ]
  },
  {
   "cell_type": "code",
   "execution_count": null,
   "metadata": {},
   "outputs": [],
   "source": [
    "pd.Series([12, 4, 32, 41, 33, 28], index=indice, name='py201').to_frame()"
   ]
  },
  {
   "cell_type": "markdown",
   "metadata": {},
   "source": [
    "<p style=\"text-align: center\"><a rel=\"license\" href=\"http://creativecommons.org/licenses/by/4.0/\"><img alt=\"Licencia Creative Commons\" style=\"border-width:0\" src=\"https://i.creativecommons.org/l/by/4.0/80x15.png\" /></a><br />Esta obra está bajo una <a rel=\"license\" href=\"http://creativecommons.org/licenses/by/4.0/\">Licencia Creative Commons Atribución 4.0 Internacional</a>.</p>\n",
    "<p style=\"text-align: center\">&copy; José Luis Chiquete Valdivieso. 2019.</p>"
   ]
  }
 ],
 "metadata": {
  "kernelspec": {
   "display_name": "Python 3",
   "language": "python",
   "name": "python3"
  },
  "language_info": {
   "codemirror_mode": {
    "name": "ipython",
    "version": 3
   },
   "file_extension": ".py",
   "mimetype": "text/x-python",
   "name": "python",
   "nbconvert_exporter": "python",
   "pygments_lexer": "ipython3",
   "version": "3.6.6"
  }
 },
 "nbformat": 4,
 "nbformat_minor": 2
}
