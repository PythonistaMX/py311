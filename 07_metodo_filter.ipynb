{
 "cells": [
  {
   "cell_type": "markdown",
   "metadata": {},
   "source": [
    "[![imagenes/pythonista.png](imagenes/pythonista.png)](https://pythonista.io)"
   ]
  },
  {
   "cell_type": "markdown",
   "metadata": {},
   "source": [
    "# El método ```pd.DataFrame.filter()```."
   ]
  },
  {
   "cell_type": "code",
   "execution_count": 3,
   "metadata": {},
   "outputs": [],
   "source": [
    "import pandas as pd"
   ]
  },
  {
   "cell_type": "markdown",
   "metadata": {},
   "source": [
    "El método ```pd.DataFrame.filter()``` permite buscar coincidencias mediante ciertos argumentos de búsqueda sobre los índices del dataframe de origen. El resultado es un dataframe nuevo con las coincidencias de la búsqueda.\n",
    "\n",
    "```\n",
    "<dataframe>.filter(<argumeto>, axis=<eje>)\n",
    "```\n",
    "\n",
    "Donde:\n",
    "\n",
    "* ```<dataframe>``` es un dataframe de *Pandas*.\n",
    "* ```<eje>``` es el eje sibre el que se ejecutará la búsqueda de los índices.\n",
    "* ```<argumento>``` es un argumento que define los cirterios de búsqueda. Los parámetros disponibles para los argumentos de este método son:\n",
    "    * ```items``` en el que se definen los encabezados a buscar dentro de un objeto iterable.\n",
    "    * ```like``` en el que se define una cadena de caracteres que debe coincidir con el identificador de algún índice.\n",
    "    * ```regex``` define un patrón mediante una expresión regular.\n",
    "\n",
    "\n",
    "https://pandas.pydata.org/pandas-docs/stable/reference/api/pandas.DataFrame.filter.html"
   ]
  },
  {
   "cell_type": "markdown",
   "metadata": {},
   "source": [
    "**Ejemplos:**"
   ]
  },
  {
   "cell_type": "markdown",
   "metadata": {},
   "source": [
    "* La siguente celda definirá al dataframe ```facturas``` con los identificadores de columnas:\n",
    "    * ```'folio'```.\n",
    "    * ```'sucursal'```.\n",
    "    * ```'monto'```.\n",
    "    * ```'fecha'```.\n",
    "    * ```'cliente'```."
   ]
  },
  {
   "cell_type": "code",
   "execution_count": 4,
   "metadata": {},
   "outputs": [
    {
     "name": "stderr",
     "output_type": "stream",
     "text": [
      "/home/oi/pythonista/lib/python3.7/site-packages/ipykernel_launcher.py:28: FutureWarning: The pandas.datetime class is deprecated and will be removed from pandas in a future version. Import from datetime module instead.\n",
      "/home/oi/pythonista/lib/python3.7/site-packages/ipykernel_launcher.py:29: FutureWarning: The pandas.datetime class is deprecated and will be removed from pandas in a future version. Import from datetime module instead.\n",
      "/home/oi/pythonista/lib/python3.7/site-packages/ipykernel_launcher.py:30: FutureWarning: The pandas.datetime class is deprecated and will be removed from pandas in a future version. Import from datetime module instead.\n",
      "/home/oi/pythonista/lib/python3.7/site-packages/ipykernel_launcher.py:31: FutureWarning: The pandas.datetime class is deprecated and will be removed from pandas in a future version. Import from datetime module instead.\n",
      "/home/oi/pythonista/lib/python3.7/site-packages/ipykernel_launcher.py:32: FutureWarning: The pandas.datetime class is deprecated and will be removed from pandas in a future version. Import from datetime module instead.\n",
      "/home/oi/pythonista/lib/python3.7/site-packages/ipykernel_launcher.py:33: FutureWarning: The pandas.datetime class is deprecated and will be removed from pandas in a future version. Import from datetime module instead.\n",
      "/home/oi/pythonista/lib/python3.7/site-packages/ipykernel_launcher.py:34: FutureWarning: The pandas.datetime class is deprecated and will be removed from pandas in a future version. Import from datetime module instead.\n",
      "/home/oi/pythonista/lib/python3.7/site-packages/ipykernel_launcher.py:35: FutureWarning: The pandas.datetime class is deprecated and will be removed from pandas in a future version. Import from datetime module instead.\n",
      "/home/oi/pythonista/lib/python3.7/site-packages/ipykernel_launcher.py:36: FutureWarning: The pandas.datetime class is deprecated and will be removed from pandas in a future version. Import from datetime module instead.\n"
     ]
    }
   ],
   "source": [
    "facturas = pd.DataFrame({'folio':(15234, \n",
    "                      15235, \n",
    "                      15236, \n",
    "                      15237, \n",
    "                      15238, \n",
    "                      15239, \n",
    "                      15240,\n",
    "                      15241,\n",
    "                      15242),\n",
    "             'sucursal':('CDMX01',\n",
    "                         'MTY01',\n",
    "                         'CDMX02',\n",
    "                         'CDMX02',\n",
    "                         'MTY01',\n",
    "                         'GDL01',\n",
    "                         'CDMX02',\n",
    "                         'MTY01',\n",
    "                         'GDL01'),\n",
    "             'monto':(1420.00,\n",
    "                     1532.00,\n",
    "                     890.00,\n",
    "                     1300.00,\n",
    "                     3121.47,\n",
    "                     1100.5,\n",
    "                     12230,\n",
    "                     230.85,\n",
    "                     1569),\n",
    "             'fecha':(pd.datetime(2019,3,11,17,24),\n",
    "                     pd.datetime(2019,3,24,14,46),\n",
    "                     pd.datetime(2019,3,25,17,58),\n",
    "                     pd.datetime(2019,3,27,13,11),\n",
    "                     pd.datetime(2019,3,31,10,25),\n",
    "                     pd.datetime(2019,4,1,18,32),\n",
    "                     pd.datetime(2019,4,3,11,43),\n",
    "                     pd.datetime(2019,4,4,16,55),\n",
    "                     pd.datetime(2019,4,5,12,59)),\n",
    "            'cliente':(19234,\n",
    "                       19232,\n",
    "                       19235,\n",
    "                       19233,\n",
    "                       19236,\n",
    "                       19237,\n",
    "                       19232,\n",
    "                       19233,\n",
    "                       19232)\n",
    "                        })"
   ]
  },
  {
   "cell_type": "code",
   "execution_count": 5,
   "metadata": {
    "scrolled": true
   },
   "outputs": [
    {
     "data": {
      "text/html": [
       "<div>\n",
       "<style scoped>\n",
       "    .dataframe tbody tr th:only-of-type {\n",
       "        vertical-align: middle;\n",
       "    }\n",
       "\n",
       "    .dataframe tbody tr th {\n",
       "        vertical-align: top;\n",
       "    }\n",
       "\n",
       "    .dataframe thead th {\n",
       "        text-align: right;\n",
       "    }\n",
       "</style>\n",
       "<table border=\"1\" class=\"dataframe\">\n",
       "  <thead>\n",
       "    <tr style=\"text-align: right;\">\n",
       "      <th></th>\n",
       "      <th>folio</th>\n",
       "      <th>sucursal</th>\n",
       "      <th>monto</th>\n",
       "      <th>fecha</th>\n",
       "      <th>cliente</th>\n",
       "    </tr>\n",
       "  </thead>\n",
       "  <tbody>\n",
       "    <tr>\n",
       "      <th>0</th>\n",
       "      <td>15234</td>\n",
       "      <td>CDMX01</td>\n",
       "      <td>1420.00</td>\n",
       "      <td>2019-03-11 17:24:00</td>\n",
       "      <td>19234</td>\n",
       "    </tr>\n",
       "    <tr>\n",
       "      <th>1</th>\n",
       "      <td>15235</td>\n",
       "      <td>MTY01</td>\n",
       "      <td>1532.00</td>\n",
       "      <td>2019-03-24 14:46:00</td>\n",
       "      <td>19232</td>\n",
       "    </tr>\n",
       "    <tr>\n",
       "      <th>2</th>\n",
       "      <td>15236</td>\n",
       "      <td>CDMX02</td>\n",
       "      <td>890.00</td>\n",
       "      <td>2019-03-25 17:58:00</td>\n",
       "      <td>19235</td>\n",
       "    </tr>\n",
       "    <tr>\n",
       "      <th>3</th>\n",
       "      <td>15237</td>\n",
       "      <td>CDMX02</td>\n",
       "      <td>1300.00</td>\n",
       "      <td>2019-03-27 13:11:00</td>\n",
       "      <td>19233</td>\n",
       "    </tr>\n",
       "    <tr>\n",
       "      <th>4</th>\n",
       "      <td>15238</td>\n",
       "      <td>MTY01</td>\n",
       "      <td>3121.47</td>\n",
       "      <td>2019-03-31 10:25:00</td>\n",
       "      <td>19236</td>\n",
       "    </tr>\n",
       "    <tr>\n",
       "      <th>5</th>\n",
       "      <td>15239</td>\n",
       "      <td>GDL01</td>\n",
       "      <td>1100.50</td>\n",
       "      <td>2019-04-01 18:32:00</td>\n",
       "      <td>19237</td>\n",
       "    </tr>\n",
       "    <tr>\n",
       "      <th>6</th>\n",
       "      <td>15240</td>\n",
       "      <td>CDMX02</td>\n",
       "      <td>12230.00</td>\n",
       "      <td>2019-04-03 11:43:00</td>\n",
       "      <td>19232</td>\n",
       "    </tr>\n",
       "    <tr>\n",
       "      <th>7</th>\n",
       "      <td>15241</td>\n",
       "      <td>MTY01</td>\n",
       "      <td>230.85</td>\n",
       "      <td>2019-04-04 16:55:00</td>\n",
       "      <td>19233</td>\n",
       "    </tr>\n",
       "    <tr>\n",
       "      <th>8</th>\n",
       "      <td>15242</td>\n",
       "      <td>GDL01</td>\n",
       "      <td>1569.00</td>\n",
       "      <td>2019-04-05 12:59:00</td>\n",
       "      <td>19232</td>\n",
       "    </tr>\n",
       "  </tbody>\n",
       "</table>\n",
       "</div>"
      ],
      "text/plain": [
       "   folio sucursal     monto               fecha  cliente\n",
       "0  15234   CDMX01   1420.00 2019-03-11 17:24:00    19234\n",
       "1  15235    MTY01   1532.00 2019-03-24 14:46:00    19232\n",
       "2  15236   CDMX02    890.00 2019-03-25 17:58:00    19235\n",
       "3  15237   CDMX02   1300.00 2019-03-27 13:11:00    19233\n",
       "4  15238    MTY01   3121.47 2019-03-31 10:25:00    19236\n",
       "5  15239    GDL01   1100.50 2019-04-01 18:32:00    19237\n",
       "6  15240   CDMX02  12230.00 2019-04-03 11:43:00    19232\n",
       "7  15241    MTY01    230.85 2019-04-04 16:55:00    19233\n",
       "8  15242    GDL01   1569.00 2019-04-05 12:59:00    19232"
      ]
     },
     "execution_count": 5,
     "metadata": {},
     "output_type": "execute_result"
    }
   ],
   "source": [
    "facturas"
   ]
  },
  {
   "cell_type": "markdown",
   "metadata": {},
   "source": [
    "* La siguiente celda regresará un dataframe cuyos identificadores de columna sean exactamente ```'cliente'``` o ```'sucursal'```."
   ]
  },
  {
   "cell_type": "code",
   "execution_count": 6,
   "metadata": {},
   "outputs": [
    {
     "data": {
      "text/html": [
       "<div>\n",
       "<style scoped>\n",
       "    .dataframe tbody tr th:only-of-type {\n",
       "        vertical-align: middle;\n",
       "    }\n",
       "\n",
       "    .dataframe tbody tr th {\n",
       "        vertical-align: top;\n",
       "    }\n",
       "\n",
       "    .dataframe thead th {\n",
       "        text-align: right;\n",
       "    }\n",
       "</style>\n",
       "<table border=\"1\" class=\"dataframe\">\n",
       "  <thead>\n",
       "    <tr style=\"text-align: right;\">\n",
       "      <th></th>\n",
       "      <th>cliente</th>\n",
       "      <th>sucursal</th>\n",
       "    </tr>\n",
       "  </thead>\n",
       "  <tbody>\n",
       "    <tr>\n",
       "      <th>0</th>\n",
       "      <td>19234</td>\n",
       "      <td>CDMX01</td>\n",
       "    </tr>\n",
       "    <tr>\n",
       "      <th>1</th>\n",
       "      <td>19232</td>\n",
       "      <td>MTY01</td>\n",
       "    </tr>\n",
       "    <tr>\n",
       "      <th>2</th>\n",
       "      <td>19235</td>\n",
       "      <td>CDMX02</td>\n",
       "    </tr>\n",
       "    <tr>\n",
       "      <th>3</th>\n",
       "      <td>19233</td>\n",
       "      <td>CDMX02</td>\n",
       "    </tr>\n",
       "    <tr>\n",
       "      <th>4</th>\n",
       "      <td>19236</td>\n",
       "      <td>MTY01</td>\n",
       "    </tr>\n",
       "    <tr>\n",
       "      <th>5</th>\n",
       "      <td>19237</td>\n",
       "      <td>GDL01</td>\n",
       "    </tr>\n",
       "    <tr>\n",
       "      <th>6</th>\n",
       "      <td>19232</td>\n",
       "      <td>CDMX02</td>\n",
       "    </tr>\n",
       "    <tr>\n",
       "      <th>7</th>\n",
       "      <td>19233</td>\n",
       "      <td>MTY01</td>\n",
       "    </tr>\n",
       "    <tr>\n",
       "      <th>8</th>\n",
       "      <td>19232</td>\n",
       "      <td>GDL01</td>\n",
       "    </tr>\n",
       "  </tbody>\n",
       "</table>\n",
       "</div>"
      ],
      "text/plain": [
       "   cliente sucursal\n",
       "0    19234   CDMX01\n",
       "1    19232    MTY01\n",
       "2    19235   CDMX02\n",
       "3    19233   CDMX02\n",
       "4    19236    MTY01\n",
       "5    19237    GDL01\n",
       "6    19232   CDMX02\n",
       "7    19233    MTY01\n",
       "8    19232    GDL01"
      ]
     },
     "execution_count": 6,
     "metadata": {},
     "output_type": "execute_result"
    }
   ],
   "source": [
    "facturas.filter(items=['cliente','sucursal'])"
   ]
  },
  {
   "cell_type": "markdown",
   "metadata": {},
   "source": [
    "* La siguiente celda regresará un dataframe cuyos identificadores de columna que incluyan la cadena ```'mon'```."
   ]
  },
  {
   "cell_type": "code",
   "execution_count": 7,
   "metadata": {},
   "outputs": [
    {
     "data": {
      "text/html": [
       "<div>\n",
       "<style scoped>\n",
       "    .dataframe tbody tr th:only-of-type {\n",
       "        vertical-align: middle;\n",
       "    }\n",
       "\n",
       "    .dataframe tbody tr th {\n",
       "        vertical-align: top;\n",
       "    }\n",
       "\n",
       "    .dataframe thead th {\n",
       "        text-align: right;\n",
       "    }\n",
       "</style>\n",
       "<table border=\"1\" class=\"dataframe\">\n",
       "  <thead>\n",
       "    <tr style=\"text-align: right;\">\n",
       "      <th></th>\n",
       "      <th>monto</th>\n",
       "    </tr>\n",
       "  </thead>\n",
       "  <tbody>\n",
       "    <tr>\n",
       "      <th>0</th>\n",
       "      <td>1420.00</td>\n",
       "    </tr>\n",
       "    <tr>\n",
       "      <th>1</th>\n",
       "      <td>1532.00</td>\n",
       "    </tr>\n",
       "    <tr>\n",
       "      <th>2</th>\n",
       "      <td>890.00</td>\n",
       "    </tr>\n",
       "    <tr>\n",
       "      <th>3</th>\n",
       "      <td>1300.00</td>\n",
       "    </tr>\n",
       "    <tr>\n",
       "      <th>4</th>\n",
       "      <td>3121.47</td>\n",
       "    </tr>\n",
       "    <tr>\n",
       "      <th>5</th>\n",
       "      <td>1100.50</td>\n",
       "    </tr>\n",
       "    <tr>\n",
       "      <th>6</th>\n",
       "      <td>12230.00</td>\n",
       "    </tr>\n",
       "    <tr>\n",
       "      <th>7</th>\n",
       "      <td>230.85</td>\n",
       "    </tr>\n",
       "    <tr>\n",
       "      <th>8</th>\n",
       "      <td>1569.00</td>\n",
       "    </tr>\n",
       "  </tbody>\n",
       "</table>\n",
       "</div>"
      ],
      "text/plain": [
       "      monto\n",
       "0   1420.00\n",
       "1   1532.00\n",
       "2    890.00\n",
       "3   1300.00\n",
       "4   3121.47\n",
       "5   1100.50\n",
       "6  12230.00\n",
       "7    230.85\n",
       "8   1569.00"
      ]
     },
     "execution_count": 7,
     "metadata": {},
     "output_type": "execute_result"
    }
   ],
   "source": [
    "facturas.filter(like=\"mon\")"
   ]
  },
  {
   "cell_type": "markdown",
   "metadata": {},
   "source": [
    "* La siguiente celda regresará un dataframe cuyos identificadores de columna que incluyan la cadena ```'o'```."
   ]
  },
  {
   "cell_type": "code",
   "execution_count": 8,
   "metadata": {
    "scrolled": true
   },
   "outputs": [
    {
     "data": {
      "text/html": [
       "<div>\n",
       "<style scoped>\n",
       "    .dataframe tbody tr th:only-of-type {\n",
       "        vertical-align: middle;\n",
       "    }\n",
       "\n",
       "    .dataframe tbody tr th {\n",
       "        vertical-align: top;\n",
       "    }\n",
       "\n",
       "    .dataframe thead th {\n",
       "        text-align: right;\n",
       "    }\n",
       "</style>\n",
       "<table border=\"1\" class=\"dataframe\">\n",
       "  <thead>\n",
       "    <tr style=\"text-align: right;\">\n",
       "      <th></th>\n",
       "      <th>folio</th>\n",
       "      <th>monto</th>\n",
       "    </tr>\n",
       "  </thead>\n",
       "  <tbody>\n",
       "    <tr>\n",
       "      <th>0</th>\n",
       "      <td>15234</td>\n",
       "      <td>1420.00</td>\n",
       "    </tr>\n",
       "    <tr>\n",
       "      <th>1</th>\n",
       "      <td>15235</td>\n",
       "      <td>1532.00</td>\n",
       "    </tr>\n",
       "    <tr>\n",
       "      <th>2</th>\n",
       "      <td>15236</td>\n",
       "      <td>890.00</td>\n",
       "    </tr>\n",
       "    <tr>\n",
       "      <th>3</th>\n",
       "      <td>15237</td>\n",
       "      <td>1300.00</td>\n",
       "    </tr>\n",
       "    <tr>\n",
       "      <th>4</th>\n",
       "      <td>15238</td>\n",
       "      <td>3121.47</td>\n",
       "    </tr>\n",
       "    <tr>\n",
       "      <th>5</th>\n",
       "      <td>15239</td>\n",
       "      <td>1100.50</td>\n",
       "    </tr>\n",
       "    <tr>\n",
       "      <th>6</th>\n",
       "      <td>15240</td>\n",
       "      <td>12230.00</td>\n",
       "    </tr>\n",
       "    <tr>\n",
       "      <th>7</th>\n",
       "      <td>15241</td>\n",
       "      <td>230.85</td>\n",
       "    </tr>\n",
       "    <tr>\n",
       "      <th>8</th>\n",
       "      <td>15242</td>\n",
       "      <td>1569.00</td>\n",
       "    </tr>\n",
       "  </tbody>\n",
       "</table>\n",
       "</div>"
      ],
      "text/plain": [
       "   folio     monto\n",
       "0  15234   1420.00\n",
       "1  15235   1532.00\n",
       "2  15236    890.00\n",
       "3  15237   1300.00\n",
       "4  15238   3121.47\n",
       "5  15239   1100.50\n",
       "6  15240  12230.00\n",
       "7  15241    230.85\n",
       "8  15242   1569.00"
      ]
     },
     "execution_count": 8,
     "metadata": {},
     "output_type": "execute_result"
    }
   ],
   "source": [
    "facturas.filter(like=\"o\")"
   ]
  },
  {
   "cell_type": "markdown",
   "metadata": {},
   "source": [
    "* La siguiente celda regresará un dataframe cuyos identificadores de índice que incluyan la cadena ```'1'```."
   ]
  },
  {
   "cell_type": "code",
   "execution_count": 10,
   "metadata": {
    "scrolled": true
   },
   "outputs": [
    {
     "data": {
      "text/html": [
       "<div>\n",
       "<style scoped>\n",
       "    .dataframe tbody tr th:only-of-type {\n",
       "        vertical-align: middle;\n",
       "    }\n",
       "\n",
       "    .dataframe tbody tr th {\n",
       "        vertical-align: top;\n",
       "    }\n",
       "\n",
       "    .dataframe thead th {\n",
       "        text-align: right;\n",
       "    }\n",
       "</style>\n",
       "<table border=\"1\" class=\"dataframe\">\n",
       "  <thead>\n",
       "    <tr style=\"text-align: right;\">\n",
       "      <th></th>\n",
       "      <th>folio</th>\n",
       "      <th>sucursal</th>\n",
       "      <th>monto</th>\n",
       "      <th>fecha</th>\n",
       "      <th>cliente</th>\n",
       "    </tr>\n",
       "  </thead>\n",
       "  <tbody>\n",
       "    <tr>\n",
       "      <th>1</th>\n",
       "      <td>15235</td>\n",
       "      <td>MTY01</td>\n",
       "      <td>1532.0</td>\n",
       "      <td>2019-03-24 14:46:00</td>\n",
       "      <td>19232</td>\n",
       "    </tr>\n",
       "  </tbody>\n",
       "</table>\n",
       "</div>"
      ],
      "text/plain": [
       "   folio sucursal   monto               fecha  cliente\n",
       "1  15235    MTY01  1532.0 2019-03-24 14:46:00    19232"
      ]
     },
     "execution_count": 10,
     "metadata": {},
     "output_type": "execute_result"
    }
   ],
   "source": [
    "facturas.filter(like=\"1\", axis=0)"
   ]
  },
  {
   "cell_type": "markdown",
   "metadata": {},
   "source": [
    "* La siguiente celda regresará un dataframe cuyos identificadores de columna cumplan con la expresi;on regular ```r\"sal$\"```."
   ]
  },
  {
   "cell_type": "code",
   "execution_count": 12,
   "metadata": {
    "scrolled": true
   },
   "outputs": [
    {
     "data": {
      "text/html": [
       "<div>\n",
       "<style scoped>\n",
       "    .dataframe tbody tr th:only-of-type {\n",
       "        vertical-align: middle;\n",
       "    }\n",
       "\n",
       "    .dataframe tbody tr th {\n",
       "        vertical-align: top;\n",
       "    }\n",
       "\n",
       "    .dataframe thead th {\n",
       "        text-align: right;\n",
       "    }\n",
       "</style>\n",
       "<table border=\"1\" class=\"dataframe\">\n",
       "  <thead>\n",
       "    <tr style=\"text-align: right;\">\n",
       "      <th></th>\n",
       "      <th>sucursal</th>\n",
       "    </tr>\n",
       "  </thead>\n",
       "  <tbody>\n",
       "    <tr>\n",
       "      <th>0</th>\n",
       "      <td>CDMX01</td>\n",
       "    </tr>\n",
       "    <tr>\n",
       "      <th>1</th>\n",
       "      <td>MTY01</td>\n",
       "    </tr>\n",
       "    <tr>\n",
       "      <th>2</th>\n",
       "      <td>CDMX02</td>\n",
       "    </tr>\n",
       "    <tr>\n",
       "      <th>3</th>\n",
       "      <td>CDMX02</td>\n",
       "    </tr>\n",
       "    <tr>\n",
       "      <th>4</th>\n",
       "      <td>MTY01</td>\n",
       "    </tr>\n",
       "    <tr>\n",
       "      <th>5</th>\n",
       "      <td>GDL01</td>\n",
       "    </tr>\n",
       "    <tr>\n",
       "      <th>6</th>\n",
       "      <td>CDMX02</td>\n",
       "    </tr>\n",
       "    <tr>\n",
       "      <th>7</th>\n",
       "      <td>MTY01</td>\n",
       "    </tr>\n",
       "    <tr>\n",
       "      <th>8</th>\n",
       "      <td>GDL01</td>\n",
       "    </tr>\n",
       "  </tbody>\n",
       "</table>\n",
       "</div>"
      ],
      "text/plain": [
       "  sucursal\n",
       "0   CDMX01\n",
       "1    MTY01\n",
       "2   CDMX02\n",
       "3   CDMX02\n",
       "4    MTY01\n",
       "5    GDL01\n",
       "6   CDMX02\n",
       "7    MTY01\n",
       "8    GDL01"
      ]
     },
     "execution_count": 12,
     "metadata": {},
     "output_type": "execute_result"
    }
   ],
   "source": [
    "facturas.filter(regex=r\"sal$\")"
   ]
  },
  {
   "cell_type": "markdown",
   "metadata": {},
   "source": [
    "## Ejemplo con ```pd.DataFrame.filter()``` y ```pd.DataFrame.merge().```"
   ]
  },
  {
   "cell_type": "code",
   "execution_count": null,
   "metadata": {},
   "outputs": [],
   "source": [
    "clientes = pd.DataFrame({'ident':(19232, \n",
    "                             19233, \n",
    "                             19234, \n",
    "                             19235, \n",
    "                             19236),\n",
    "                       'nombre':('Adriana',\n",
    "                               'Marcos',\n",
    "                               'Rubén',\n",
    "                               'Samuel',\n",
    "                               'Martha'),\n",
    "                       'primer_apellido':('Sánchez',\n",
    "                                        'García',\n",
    "                                        'Rincón',\n",
    "                                        'Oliva',\n",
    "                                         'Martínez'),\n",
    "                        'suc_origen':('CDMX01',\n",
    "                                      'CDMX02',\n",
    "                                      'CDMX02',\n",
    "                                      'CDMX01',\n",
    "                                      'CDMX03')\n",
    "                        })"
   ]
  },
  {
   "cell_type": "code",
   "execution_count": null,
   "metadata": {},
   "outputs": [],
   "source": [
    "clientes"
   ]
  },
  {
   "cell_type": "code",
   "execution_count": null,
   "metadata": {},
   "outputs": [],
   "source": [
    "clientes.filter(items=['ident', \n",
    "                       'nombre', \n",
    "                       'primer_apellido']).merge(facturas,\n",
    "                                                left_on='ident',\n",
    "                                                right_on='cliente')"
   ]
  },
  {
   "cell_type": "code",
   "execution_count": null,
   "metadata": {},
   "outputs": [],
   "source": [
    "clientes.filter(items=['ident', \n",
    "                       'nombre', \n",
    "                       'primer_apellido']).\\\n",
    "merge(facturas,\n",
    "      left_on='ident',\n",
    "      right_on='cliente').\\\n",
    "filter(items=['folio', 'nombre', 'primer_apellido', 'monto'])\n"
   ]
  },
  {
   "cell_type": "code",
   "execution_count": null,
   "metadata": {},
   "outputs": [],
   "source": [
    "reporte = clientes.filter(items=['ident', \n",
    "                       'nombre', \n",
    "                       'primer_apellido']).\\\n",
    "merge(facturas,\n",
    "      left_on='ident',\n",
    "      right_on='cliente').\\\n",
    "filter(items=['folio', 'nombre', 'primer_apellido', 'monto'])"
   ]
  },
  {
   "cell_type": "markdown",
   "metadata": {},
   "source": [
    "<p style=\"text-align: center\"><a rel=\"license\" href=\"http://creativecommons.org/licenses/by/4.0/\"><img alt=\"Licencia Creative Commons\" style=\"border-width:0\" src=\"https://i.creativecommons.org/l/by/4.0/80x15.png\" /></a><br />Esta obra está bajo una <a rel=\"license\" href=\"http://creativecommons.org/licenses/by/4.0/\">Licencia Creative Commons Atribución 4.0 Internacional</a>.</p>\n",
    "<p style=\"text-align: center\">&copy; José Luis Chiquete Valdivieso. 2020.</p>"
   ]
  }
 ],
 "metadata": {
  "kernelspec": {
   "display_name": "Python 3",
   "language": "python",
   "name": "python3"
  },
  "language_info": {
   "codemirror_mode": {
    "name": "ipython",
    "version": 3
   },
   "file_extension": ".py",
   "mimetype": "text/x-python",
   "name": "python",
   "nbconvert_exporter": "python",
   "pygments_lexer": "ipython3",
   "version": "3.7.3"
  }
 },
 "nbformat": 4,
 "nbformat_minor": 2
}
