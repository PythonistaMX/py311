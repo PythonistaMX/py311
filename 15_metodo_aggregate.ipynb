{
 "cells": [
  {
   "cell_type": "markdown",
   "metadata": {},
   "source": [
    "[![imagenes/pythonista.png](imagenes/pythonista.png)](https://pythonista.io)"
   ]
  },
  {
   "cell_type": "markdown",
   "metadata": {},
   "source": [
    "En este capítulo se explorará el método"
   ]
  },
  {
   "cell_type": "code",
   "execution_count": 1,
   "metadata": {},
   "outputs": [],
   "source": [
    "import pandas as pd"
   ]
  },
  {
   "cell_type": "code",
   "execution_count": 2,
   "metadata": {},
   "outputs": [],
   "source": [
    "teporingos = pd.Series({'Norte I':2532,\n",
    "                          'Norte II':3953,\n",
    "                          'Norte III':729,\n",
    "                          'Centro I':212,\n",
    "                          'Centro II':523,\n",
    "                          'Sur I':483,\n",
    "                          'Sur II':501})"
   ]
  },
  {
   "cell_type": "code",
   "execution_count": 3,
   "metadata": {},
   "outputs": [
    {
     "data": {
      "text/plain": [
       "max    3953\n",
       "min     212\n",
       "dtype: int64"
      ]
     },
     "execution_count": 3,
     "metadata": {},
     "output_type": "execute_result"
    }
   ],
   "source": [
    "teporingos.agg(['max', 'min'])"
   ]
  },
  {
   "cell_type": "code",
   "execution_count": 4,
   "metadata": {
    "scrolled": true
   },
   "outputs": [
    {
     "name": "stdout",
     "output_type": "stream",
     "text": [
      "Help on method aggregate in module pandas.core.series:\n",
      "\n",
      "aggregate(func, axis=0, *args, **kwargs) method of pandas.core.series.Series instance\n",
      "    Aggregate using one or more operations over the specified axis.\n",
      "    \n",
      "    .. versionadded:: 0.20.0\n",
      "    \n",
      "    Parameters\n",
      "    ----------\n",
      "    func : function, str, list or dict\n",
      "        Function to use for aggregating the data. If a function, must either\n",
      "        work when passed a Series or when passed to Series.apply.\n",
      "    \n",
      "        Accepted combinations are:\n",
      "    \n",
      "        - function\n",
      "        - string function name\n",
      "        - list of functions and/or function names, e.g. ``[np.sum, 'mean']``\n",
      "        - dict of axis labels -> functions, function names or list of such.\n",
      "    axis : {0 or 'index'}\n",
      "            Parameter needed for compatibility with DataFrame.\n",
      "    *args\n",
      "        Positional arguments to pass to `func`.\n",
      "    **kwargs\n",
      "        Keyword arguments to pass to `func`.\n",
      "    \n",
      "    Returns\n",
      "    -------\n",
      "    DataFrame, Series or scalar\n",
      "        if DataFrame.agg is called with a single function, returns a Series\n",
      "        if DataFrame.agg is called with several functions, returns a DataFrame\n",
      "        if Series.agg is called with single function, returns a scalar\n",
      "        if Series.agg is called with several functions, returns a Series\n",
      "    \n",
      "    \n",
      "    See Also\n",
      "    --------\n",
      "    Series.apply : Invoke function on a Series.\n",
      "    Series.transform : Transform function producing a Series with like indexes.\n",
      "    \n",
      "    \n",
      "    Notes\n",
      "    -----\n",
      "    `agg` is an alias for `aggregate`. Use the alias.\n",
      "    \n",
      "    A passed user-defined-function will be passed a Series for evaluation.\n",
      "    \n",
      "    \n",
      "    Examples\n",
      "    --------\n",
      "    >>> s = pd.Series([1, 2, 3, 4])\n",
      "    >>> s\n",
      "    0    1\n",
      "    1    2\n",
      "    2    3\n",
      "    3    4\n",
      "    dtype: int64\n",
      "    \n",
      "    >>> s.agg('min')\n",
      "    1\n",
      "    \n",
      "    >>> s.agg(['min', 'max'])\n",
      "    min   1\n",
      "    max   4\n",
      "    dtype: int64\n",
      "\n"
     ]
    }
   ],
   "source": [
    "help(teporingos.agg)"
   ]
  },
  {
   "cell_type": "code",
   "execution_count": 6,
   "metadata": {},
   "outputs": [
    {
     "name": "stdout",
     "output_type": "stream",
     "text": [
      "Help on method transform in module pandas.core.series:\n",
      "\n",
      "transform(func, axis=0, *args, **kwargs) method of pandas.core.series.Series instance\n",
      "    Call ``func`` on self producing a Series with transformed values\n",
      "    and that has the same axis length as self.\n",
      "    \n",
      "    .. versionadded:: 0.20.0\n",
      "    \n",
      "    Parameters\n",
      "    ----------\n",
      "    func : function, str, list or dict\n",
      "        Function to use for transforming the data. If a function, must either\n",
      "        work when passed a Series or when passed to Series.apply.\n",
      "    \n",
      "        Accepted combinations are:\n",
      "    \n",
      "        - function\n",
      "        - string function name\n",
      "        - list of functions and/or function names, e.g. ``[np.exp. 'sqrt']``\n",
      "        - dict of axis labels -> functions, function names or list of such.\n",
      "    axis : {0 or 'index'}\n",
      "        Parameter needed for compatibility with DataFrame.\n",
      "    *args\n",
      "        Positional arguments to pass to `func`.\n",
      "    **kwargs\n",
      "        Keyword arguments to pass to `func`.\n",
      "    \n",
      "    Returns\n",
      "    -------\n",
      "    Series\n",
      "        A Series that must have the same length as self.\n",
      "    \n",
      "    Raises\n",
      "    ------\n",
      "    ValueError : If the returned Series has a different length than self.\n",
      "    \n",
      "    See Also\n",
      "    --------\n",
      "    Series.agg : Only perform aggregating type operations.\n",
      "    Series.apply : Invoke function on a Series.\n",
      "    \n",
      "    Examples\n",
      "    --------\n",
      "    >>> df = pd.DataFrame({'A': range(3), 'B': range(1, 4)})\n",
      "    >>> df\n",
      "       A  B\n",
      "    0  0  1\n",
      "    1  1  2\n",
      "    2  2  3\n",
      "    >>> df.transform(lambda x: x + 1)\n",
      "       A  B\n",
      "    0  1  2\n",
      "    1  2  3\n",
      "    2  3  4\n",
      "    \n",
      "    Even though the resulting Series must have the same length as the\n",
      "    input Series, it is possible to provide several input functions:\n",
      "    \n",
      "    >>> s = pd.Series(range(3))\n",
      "    >>> s\n",
      "    0    0\n",
      "    1    1\n",
      "    2    2\n",
      "    dtype: int64\n",
      "    >>> s.transform([np.sqrt, np.exp])\n",
      "           sqrt        exp\n",
      "    0  0.000000   1.000000\n",
      "    1  1.000000   2.718282\n",
      "    2  1.414214   7.389056\n",
      "\n"
     ]
    }
   ],
   "source": [
    "help(teporingos.transform)"
   ]
  },
  {
   "cell_type": "markdown",
   "metadata": {},
   "source": [
    "<p style=\"text-align: center\"><a rel=\"license\" href=\"http://creativecommons.org/licenses/by/4.0/\"><img alt=\"Licencia Creative Commons\" style=\"border-width:0\" src=\"https://i.creativecommons.org/l/by/4.0/80x15.png\" /></a><br />Esta obra está bajo una <a rel=\"license\" href=\"http://creativecommons.org/licenses/by/4.0/\">Licencia Creative Commons Atribución 4.0 Internacional</a>.</p>\n",
    "<p style=\"text-align: center\">&copy; José Luis Chiquete Valdivieso. 2019.</p>"
   ]
  }
 ],
 "metadata": {
  "kernelspec": {
   "display_name": "Python 3",
   "language": "python",
   "name": "python3"
  },
  "language_info": {
   "codemirror_mode": {
    "name": "ipython",
    "version": 3
   },
   "file_extension": ".py",
   "mimetype": "text/x-python",
   "name": "python",
   "nbconvert_exporter": "python",
   "pygments_lexer": "ipython3",
   "version": "3.6.6"
  }
 },
 "nbformat": 4,
 "nbformat_minor": 2
}
