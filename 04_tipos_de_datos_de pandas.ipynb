{
 "cells": [
  {
   "cell_type": "markdown",
   "metadata": {},
   "source": [
    "[![imagenes/pythonista.png](imagenes/pythonista.png)](https://pythonista.io)"
   ]
  },
  {
   "cell_type": "markdown",
   "metadata": {},
   "source": [
    "Pandas toma como base a Numpy y lo extiende para poder realizar operaciones de análisis de datos, por lo que es compatible con elementos como:\n",
    "\n",
    "* *np.NaN*.\n",
    "* *np.Inf*."
   ]
  },
  {
   "cell_type": "code",
   "execution_count": null,
   "metadata": {},
   "outputs": [],
   "source": [
    "import pandas as pd\n",
    "import numpy as np"
   ]
  },
  {
   "cell_type": "markdown",
   "metadata": {},
   "source": [
    "## Tipos de datos.\n",
    "* *object*, el cual reporesenta a una cadena de caracteres.\n",
    "* *int64*, es el tipo para números enteros. \n",
    "* *float64* es el tipo para números de punto flotante.\n",
    "* *bool* es el tipo para valores booleanos.\n",
    "* *datetime* es el tipo usado para gestionar fechas y horas.\n",
    "* *timedelta* es el tipo de diferencias de tiempo. Se estudiará más adelante.\n",
    "* *category* es un tipo de dato que contiene un conjunto finito de posibles valores y se etudiará más adelante."
   ]
  },
  {
   "cell_type": "markdown",
   "metadata": {},
   "source": [
    "### El tipo *pd.datetime*.\n",
    "\n",
    "Este es un tipo de dato correponde a valores de fecha y hora.\n",
    "\n",
    "```\n",
    "datetime(<año>, <mes>, <día>, <hora>, <minuto>, <segundo, <microsegundo>,<tzinfo>)\n",
    "```\n",
    "\n",
    "Los datos necesarios son:\n",
    "\n",
    "* *año*.\n",
    "* *mes*.\n",
    "* *día*.\n",
    "\n",
    "El resto son opcionales."
   ]
  },
  {
   "cell_type": "markdown",
   "metadata": {},
   "source": [
    "**Ejemplo:**"
   ]
  },
  {
   "cell_type": "code",
   "execution_count": null,
   "metadata": {},
   "outputs": [],
   "source": [
    "datos = pd.DataFrame({'nombres':('Juan Pérez', 'María Sánchez', 'Jorge Vargas', 'Rodrigo Martínez'),\n",
    "            'fechas':(pd.datetime(95,12,21), pd.datetime(89,1,13), pd.datetime(92,9,14), pd.datetime(93,7,8)),\n",
    "            'saldo': (2500, 5345, np.NaN, 11323.2),\n",
    "            'al corriente':(True, True, False, True)})"
   ]
  },
  {
   "cell_type": "code",
   "execution_count": null,
   "metadata": {
    "scrolled": true
   },
   "outputs": [],
   "source": [
    "datos"
   ]
  },
  {
   "cell_type": "markdown",
   "metadata": {},
   "source": [
    "## El atributo *dtypes*."
   ]
  },
  {
   "cell_type": "code",
   "execution_count": null,
   "metadata": {},
   "outputs": [],
   "source": [
    "datos.dtypes"
   ]
  },
  {
   "cell_type": "markdown",
   "metadata": {},
   "source": [
    "## El método *astype()*.\n",
    "\n",
    "```\n",
    "<serie>.astype('<tipo>')\n",
    "```"
   ]
  },
  {
   "cell_type": "code",
   "execution_count": null,
   "metadata": {},
   "outputs": [],
   "source": [
    "datos[\"al corriente\"].astype(\"int64\")"
   ]
  },
  {
   "cell_type": "code",
   "execution_count": null,
   "metadata": {},
   "outputs": [],
   "source": [
    "datos['saldo'].astype(\"object\")"
   ]
  },
  {
   "cell_type": "code",
   "execution_count": null,
   "metadata": {
    "scrolled": true
   },
   "outputs": [],
   "source": [
    "datos['saldo'].astype(\"int\")"
   ]
  },
  {
   "cell_type": "markdown",
   "metadata": {},
   "source": [
    "## La función *pd.to_datetime()*."
   ]
  },
  {
   "cell_type": "code",
   "execution_count": null,
   "metadata": {},
   "outputs": [],
   "source": [
    "fechas = pd.DataFrame({'year': [1997, 1982, 1985],\n",
    "                       'month': [1, 12, 3],\n",
    "                       'day': [14, 5, 21]})"
   ]
  },
  {
   "cell_type": "code",
   "execution_count": 24,
   "metadata": {},
   "outputs": [],
   "source": [
    "nuevas_fechas= pd.to_datetime(fechas)"
   ]
  },
  {
   "cell_type": "code",
   "execution_count": null,
   "metadata": {},
   "outputs": [],
   "source": [
    "nuevas_fechas"
   ]
  },
  {
   "cell_type": "markdown",
   "metadata": {},
   "source": [
    "## La función *pd.to_numeric()*."
   ]
  },
  {
   "cell_type": "code",
   "execution_count": 26,
   "metadata": {},
   "outputs": [
    {
     "data": {
      "text/plain": [
       "0    853200000000000000\n",
       "1    407894400000000000\n",
       "2    480211200000000000\n",
       "dtype: int64"
      ]
     },
     "execution_count": 26,
     "metadata": {},
     "output_type": "execute_result"
    }
   ],
   "source": [
    "pd.to_numeric(nuevas_fechas)"
   ]
  },
  {
   "cell_type": "markdown",
   "metadata": {},
   "source": [
    "<p style=\"text-align: center\"><a rel=\"license\" href=\"http://creativecommons.org/licenses/by/4.0/\"><img alt=\"Licencia Creative Commons\" style=\"border-width:0\" src=\"https://i.creativecommons.org/l/by/4.0/80x15.png\" /></a><br />Esta obra está bajo una <a rel=\"license\" href=\"http://creativecommons.org/licenses/by/4.0/\">Licencia Creative Commons Atribución 4.0 Internacional</a>.</p>\n",
    "<p style=\"text-align: center\">&copy; José Luis Chiquete Valdivieso. 2019.</p>"
   ]
  }
 ],
 "metadata": {
  "kernelspec": {
   "display_name": "Python 3",
   "language": "python",
   "name": "python3"
  },
  "language_info": {
   "codemirror_mode": {
    "name": "ipython",
    "version": 3
   },
   "file_extension": ".py",
   "mimetype": "text/x-python",
   "name": "python",
   "nbconvert_exporter": "python",
   "pygments_lexer": "ipython3",
   "version": "3.6.6"
  }
 },
 "nbformat": 4,
 "nbformat_minor": 2
}
