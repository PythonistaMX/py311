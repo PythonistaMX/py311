{
 "cells": [
  {
   "cell_type": "markdown",
   "metadata": {},
   "source": [
    "[![img/pythonista.png](img/pythonista.png)](https://www.pythonista.io)"
   ]
  },
  {
   "cell_type": "markdown",
   "metadata": {},
   "source": [
    "# Introducción a *Pandas*."
   ]
  },
  {
   "cell_type": "markdown",
   "metadata": {},
   "source": [
    "El proyecto [*Pandas*](https://pandas.pydata.org/) es una herramienta especializada en la gestión de \"series\" y \"*dataframes*\", utilizándolos como materia prima para la realización de operaciones de manipulación, transformación y análisis de datos.\n",
    "\n",
    "\n",
    "*Pandas* cuenta con las siguientes funcionalidades.\n",
    "\n",
    "\n",
    "* Hace uso intensivo de series y *dataframes*.\n",
    "* Realiza operaciones de lectura y escritura de datos entre estructuras en memoria y diversos formatos de archivos y bases de datos.\n",
    "* Alineación de datos y manejo de datos faltantes.\n",
    "* Modificación de conjuntos de datos (*datasets*).\n",
    "* Manejo de series de tiempo.\n",
    "\n",
    "**NOTA** Por convención, el paquete ```pandas``` es importado con el nombre de ```pd```. A lo largo de este curso, se utilizará dicha convención."
   ]
  },
  {
   "cell_type": "code",
   "execution_count": null,
   "metadata": {
    "scrolled": true
   },
   "outputs": [],
   "source": [
    "!pip install pandas"
   ]
  },
  {
   "cell_type": "code",
   "execution_count": null,
   "metadata": {
    "scrolled": true
   },
   "outputs": [],
   "source": [
    "import pandas as pd"
   ]
  },
  {
   "cell_type": "markdown",
   "metadata": {},
   "source": [
    "## Los *dataframes*.\n",
    "\n",
    "Los *dataframes* representan el componente primordial tanto de *Pandas* como de *R* y de *Spark SQL*.\n",
    "\n",
    "Los *dataframes* de *Pandas* se basan en los arreglos de *Numpy*, conformando arreglos de datos de 2 dimensiones compuesto por columnas y renglones."
   ]
  },
  {
   "cell_type": "markdown",
   "metadata": {},
   "source": [
    "### La clase ```pd.DataFrame```.\n",
    "\n",
    "La clase ```pd.DataFrame``` se utiliza para crear los *dataframes* de *Pandas*. \n",
    "\n",
    "```\n",
    "pd.DataFrame(data=<objeto>, index=<índices>, columns=<indices de columnas>)\n",
    "```\n",
    "\n",
    "Donde:\n",
    "\n",
    "* ```<objeto>``` es un objeto con las siguientes características:\n",
    "  * Un objeto de tipo ```dict```.\n",
    "  * Un objeto de tipo ```tuple``` que contiene  a otros objetos tipo ```tuple```.\n",
    "  * Un arreglo de tipo ```numpy.ndarray``` de 2 dimensiones.\n",
    "  * Otra instancia de  ```pd.DataFrame```.\n",
    "* ```<índices>``` es una colección de cadenas de caracteres que serán usadas como identificadores para cada renglón del *dataframe*.\n",
    "* ```<columnas>``` es una colección de cadenas de caracteres que serán usadas como identificadores para cada columna del *dataframe*.  \n",
    "\n",
    "La documentación de ```pd.DataFrame``` puede ser consultada en:\n",
    "\n",
    "* https://pandas.pydata.org/pandas-docs/stable/reference/api/pandas.DataFrame.html\n",
    "* https://pandas.pydata.org/docs/reference/frame.html\n",
    "\n",
    "**Nota:** Por convención se utilizará ```df``` para hacer referencia a un objeto instanciado de ```pd.DataFrame```."
   ]
  },
  {
   "cell_type": "markdown",
   "metadata": {},
   "source": [
    "**Ejemplo:**"
   ]
  },
  {
   "cell_type": "markdown",
   "metadata": {},
   "source": [
    "* La siguiente celda regresará un *dataframe* a partir de una colección de objetos tipo ```tuple```."
   ]
  },
  {
   "cell_type": "code",
   "execution_count": null,
   "metadata": {},
   "outputs": [],
   "source": [
    "pd.DataFrame(data=[(0, 1, 2),\n",
    "                   (1, 2, 3), \n",
    "                   (2, 3, 4), \n",
    "                   (3, 4, 5)])"
   ]
  },
  {
   "cell_type": "markdown",
   "metadata": {},
   "source": [
    "* La siguiente creará al objeto de tipo ```dict``` al que se le asignará el nombre ```diccionarios```."
   ]
  },
  {
   "cell_type": "code",
   "execution_count": null,
   "metadata": {},
   "outputs": [],
   "source": [
    "diccionarios = {'py101':[10, 5, 33 ,45, 25, 22], \n",
    "                'py111':[0, 15, 21 , 30, 31, 11], \n",
    "                'py121':[15, 5, 1 ,10, 42, 21], \n",
    "                'py301':[20, 35, 3 ,15, 0, 0], }"
   ]
  },
  {
   "cell_type": "markdown",
   "metadata": {},
   "source": [
    "* La siguiente celda regresará un *dataframe*  a partir del objeto ```diccionarios```.\n",
    "* En este caso, la clave de cada elemento de ```diccionario``` será el identificador de cada columna del *dataframe* y los elementos del objeto tipo ```list``` correspondientes a cada clave serán los elementos de dicha columna."
   ]
  },
  {
   "cell_type": "code",
   "execution_count": null,
   "metadata": {
    "scrolled": true
   },
   "outputs": [],
   "source": [
    "pd.DataFrame(data=diccionarios)"
   ]
  },
  {
   "cell_type": "markdown",
   "metadata": {},
   "source": [
    "* Se creará un *dataframe* a partir de un objeto creado con ```numpy.arange()```."
   ]
  },
  {
   "cell_type": "code",
   "execution_count": null,
   "metadata": {},
   "outputs": [],
   "source": [
    "import numpy as np"
   ]
  },
  {
   "cell_type": "markdown",
   "metadata": {},
   "source": [
    "* La siguiente celda creará un arreglo de *Numpy* de forma ```(3, 3)``` con nombre ```matriz```."
   ]
  },
  {
   "cell_type": "code",
   "execution_count": null,
   "metadata": {},
   "outputs": [],
   "source": [
    "matriz = np.arange(9).reshape(3, 3)"
   ]
  },
  {
   "cell_type": "code",
   "execution_count": null,
   "metadata": {},
   "outputs": [],
   "source": [
    "matriz"
   ]
  },
  {
   "cell_type": "markdown",
   "metadata": {},
   "source": [
    "* La siguiente celda regresará un *dataframe* a partir de el arreglo ```matriz```."
   ]
  },
  {
   "cell_type": "code",
   "execution_count": null,
   "metadata": {
    "scrolled": true
   },
   "outputs": [],
   "source": [
    "pd.DataFrame(matriz)"
   ]
  },
  {
   "cell_type": "markdown",
   "metadata": {},
   "source": [
    "### Índices en un *dataframe*.\n",
    "\n",
    "Los *dataframes* de *Pandas* definen índices para cada renglón (eje ```0```) y a cada columna (eje ```1```) de un *dataframe*.\n",
    "\n",
    "En caso de que no sean definidos, los índices serán números enteros positivos que inician en ```0``` que se incrementarán de uno en uno.\n",
    "\n",
    "* *Pandas* identifica a los índices de los renglones simplemente como \"índices\".\n",
    "* Tanto los índices (de los renglones) como los índices de las columnas son instancias de la clase ```pd.Index```.\n",
    "\n",
    "https://pandas.pydata.org/docs/reference/api/pandas.Index.html"
   ]
  },
  {
   "cell_type": "markdown",
   "metadata": {},
   "source": [
    "### Definición de identificadores de índices al crear un *dataframe*.\n",
    "\n",
    "Al instanciar un objeto a partir de la clase ```pd.DataFrame``` es posible asignarle los identificadores de los índices por medio de los siguientes parámetros:\n",
    "\n",
    "* ```index```, al que se le asignará un objeto iterable que contiene a su vez objetos ```str``` que corresponderán al identificador cada índice (de renglón) del *dataframe*. El objeto asignando a este parámetro será asignado al atributo ```df.index```.\n",
    "* ```columns```, al que se le asignará un objeto iterable  que contiene a su vez objetos ```str``` que corresponderán al identificador de cada índice de columna del *dataframe*. El objeto asignando a este parámetro será asignado al atributo ```df.columns```."
   ]
  },
  {
   "cell_type": "markdown",
   "metadata": {},
   "source": [
    "**Ejemplos:**"
   ]
  },
  {
   "cell_type": "markdown",
   "metadata": {},
   "source": [
    "* La siguiente celda definirá un objeto de tipo ```tuple``` con nombre ```indice```."
   ]
  },
  {
   "cell_type": "code",
   "execution_count": null,
   "metadata": {},
   "outputs": [],
   "source": [
    "indice = ('enero', 'febrero', 'marzo', 'abril', 'mayo', 'junio')"
   ]
  },
  {
   "cell_type": "markdown",
   "metadata": {},
   "source": [
    "* La siguiente celda regresará un *dataframe* creado a partir del objeto ```diccionarios``` definido previamente y asignando ```índice``` al parámetro ```index```."
   ]
  },
  {
   "cell_type": "code",
   "execution_count": null,
   "metadata": {
    "scrolled": true
   },
   "outputs": [],
   "source": [
    "pd.DataFrame(data=diccionarios, index=indice)"
   ]
  },
  {
   "cell_type": "markdown",
   "metadata": {},
   "source": [
    "* La siguiente celda regresará un *dataframe* creado a partir de:\n",
    "    * Los datos del objeto ```matriz```, definido previamente.\n",
    "    * El objeto ```['uno','dos','tres']``` que será asignado como argumento para el parámetro ```index```.\n",
    "   * El objeto ```['a', 'b', 'c']``` que será asignado como argumento para el parámetro ```columns```."
   ]
  },
  {
   "cell_type": "code",
   "execution_count": null,
   "metadata": {},
   "outputs": [],
   "source": [
    "pd.DataFrame(matriz,\n",
    "             index=['uno','dos','tres'],\n",
    "             columns=['a', 'b', 'c'])"
   ]
  },
  {
   "cell_type": "markdown",
   "metadata": {},
   "source": [
    "### Selección de columnas de un *dataframe* mediante identificadores.\n",
    "\n",
    "Los *dataframes* permiten obtener los datos de una columna usando el identificador de la columna de forma similar a una clave de un objeto de tipo ```dict```.\n",
    "\n",
    "```\n",
    "df[<col>]\n",
    "```\n",
    "\n",
    "Donde:\n",
    "\n",
    "* ```<col>``` es un objeto de tipo ```str``` correspondiente al identificador de una columna del *dataframe*.\n",
    "\n",
    "**Nota:** Cada columna de un *dataframe* es una serie de *Pandas*."
   ]
  },
  {
   "cell_type": "markdown",
   "metadata": {},
   "source": [
    "**Ejemplo:**"
   ]
  },
  {
   "cell_type": "markdown",
   "metadata": {},
   "source": [
    "* Se creará el *dataframe* ``cursos`` a partir de un objeto de tipo ```dict```, por lo que las claves del objeto ```dict``` corresponderán los identificadores de las columnas del *dataframe*."
   ]
  },
  {
   "cell_type": "code",
   "execution_count": null,
   "metadata": {},
   "outputs": [],
   "source": [
    "cursos = pd.DataFrame({'py101':[10, 5, 33 ,45, 25, 22], \n",
    "         'py111':[0, 15, 21 , 30, 31, 11], \n",
    "         'py121':[15, 5, 1 ,10, 42, 21], \n",
    "         'py301':[20, 35, 3 ,15, 0, 0]},\n",
    "         index=('enero', 'febrero', 'marzo', 'abril', 'mayo', 'junio'))"
   ]
  },
  {
   "cell_type": "code",
   "execution_count": null,
   "metadata": {},
   "outputs": [],
   "source": [
    "cursos"
   ]
  },
  {
   "cell_type": "markdown",
   "metadata": {},
   "source": [
    "* La siguiente celda regresará la serie correspondiente a la columna con identificador ```'py121'```."
   ]
  },
  {
   "cell_type": "code",
   "execution_count": null,
   "metadata": {},
   "outputs": [],
   "source": [
    "cursos['py121']"
   ]
  },
  {
   "cell_type": "code",
   "execution_count": null,
   "metadata": {},
   "outputs": [],
   "source": [
    "type(cursos['py121'])"
   ]
  },
  {
   "cell_type": "markdown",
   "metadata": {},
   "source": [
    "### Selección de columnas de un *dataframe* mediante índices numéricos.\n",
    "\n",
    "Si las columnas de un *dataframe* **NO tiene identificadores asignados,** es posible seleccionar una de ellas mediante su índice numérico.\n",
    "\n",
    "```\n",
    "df[<ncol>]\n",
    "```\n",
    "Donde:\n",
    "\n",
    "* ```<ncol>``` es un objeto de tipo ```int``` correspondiente a un índice del *dataframe*.\n",
    "\n",
    "\n",
    "**Nota:** En caso de que las columnas tengan identificadores asignados, se desencadenará un error de tipo ```KeyError``` si se usa in índice numérico."
   ]
  },
  {
   "cell_type": "markdown",
   "metadata": {},
   "source": [
    "**Ejemplos:**"
   ]
  },
  {
   "cell_type": "markdown",
   "metadata": {},
   "source": [
    "* El dataframe* ```datos``` contiene columnas con identificadores numéricos."
   ]
  },
  {
   "cell_type": "code",
   "execution_count": null,
   "metadata": {},
   "outputs": [],
   "source": [
    "datos = pd.DataFrame([[1, 2, 3, 4],\n",
    "                      [5, 6, 7, 8], \n",
    "                      [9, 10, 11, 12]])"
   ]
  },
  {
   "cell_type": "code",
   "execution_count": null,
   "metadata": {},
   "outputs": [],
   "source": [
    "datos"
   ]
  },
  {
   "cell_type": "markdown",
   "metadata": {},
   "source": [
    "* La siguiente celda regresará la columna con índice ```2``` del *dataframe* ```datos```."
   ]
  },
  {
   "cell_type": "code",
   "execution_count": null,
   "metadata": {},
   "outputs": [],
   "source": [
    "datos[2]"
   ]
  },
  {
   "cell_type": "markdown",
   "metadata": {},
   "source": [
    "* Se utilizará el *dataframe* ```cursos``` definido previamente. "
   ]
  },
  {
   "cell_type": "code",
   "execution_count": null,
   "metadata": {},
   "outputs": [],
   "source": [
    "cursos"
   ]
  },
  {
   "cell_type": "markdown",
   "metadata": {},
   "source": [
    "* La siguiente celda intentará usar un índice numérico para identificar una columna, pero el *dataframe* ```cursos``` ya cuentan con identificadores de columna que son cadenas de caracteres, por lo que se desencadenará una excepción de tipo ```KeyError```."
   ]
  },
  {
   "cell_type": "code",
   "execution_count": null,
   "metadata": {
    "scrolled": true
   },
   "outputs": [],
   "source": [
    "cursos[3]"
   ]
  },
  {
   "cell_type": "markdown",
   "metadata": {},
   "source": [
    "### Selección de renglones de un *dataframe* mediante rangos de índices.\n",
    "\n",
    "Para seleccionar los renglones de un *dataframe* mediante un rango de identificadores,  se usa una sintaxis de rangos por medio de dos puntos ```:```. \n",
    "\n",
    "El resultado será un nuevo *dataframe*.\n",
    "\n",
    "```\n",
    "df[<id_inicio>:<id_fin>:<n>]\n",
    "```\n",
    "\n",
    "Donde:\n",
    "* ```<id_inicio>``` es un objeto ```int``` o ```str``` correspondiente a un índice de renglón a partir del cual se iniciará el rango.\n",
    "* ```<id_fin>``` es un objeto ```int``` o ```str``` correspondiente a un índice de renglón en el que finalizará el rango.\n",
    "* ```<n>``` es el número de incrementos/decrementos en el rango."
   ]
  },
  {
   "cell_type": "markdown",
   "metadata": {},
   "source": [
    "**Ejemplos:** "
   ]
  },
  {
   "cell_type": "markdown",
   "metadata": {},
   "source": [
    "* Se utilizará el *dataframe* ```cursos``` definido previamente."
   ]
  },
  {
   "cell_type": "code",
   "execution_count": null,
   "metadata": {},
   "outputs": [],
   "source": [
    "cursos"
   ]
  },
  {
   "cell_type": "markdown",
   "metadata": {},
   "source": [
    "* La siguiente celda regresará el renglón correspondiente al índice ```'enero'``` usando la sintaxis ```cursos[:1]```."
   ]
  },
  {
   "cell_type": "code",
   "execution_count": null,
   "metadata": {},
   "outputs": [],
   "source": [
    "cursos[:1]"
   ]
  },
  {
   "cell_type": "markdown",
   "metadata": {},
   "source": [
    "* El objeto resultante es un *dataframe* de *Pandas*."
   ]
  },
  {
   "cell_type": "code",
   "execution_count": null,
   "metadata": {},
   "outputs": [],
   "source": [
    "type(cursos[:1])"
   ]
  },
  {
   "cell_type": "markdown",
   "metadata": {},
   "source": [
    "* Dado que el objeto resultante de ejecutar ```cursos[:1]``` es un nuevo *dataframe*, es posible concatenar índices como ocurre en la siguiente celda, en la que se obtendrá una serie a partir de la columna ```'py101'``` de ```cursos[:1]```."
   ]
  },
  {
   "cell_type": "code",
   "execution_count": null,
   "metadata": {},
   "outputs": [],
   "source": [
    "cursos[:1]['py101']"
   ]
  },
  {
   "cell_type": "markdown",
   "metadata": {},
   "source": [
    "* La siguiente celda regresará los renglones del objeto ```cursos``` correspondientes a los índices ```'enero'```, ```'marzo'``` y ```'mayo'``` usando la sintaxis ```cursos[::2]```."
   ]
  },
  {
   "cell_type": "code",
   "execution_count": null,
   "metadata": {},
   "outputs": [],
   "source": [
    "cursos[::2]"
   ]
  },
  {
   "cell_type": "markdown",
   "metadata": {},
   "source": [
    "* La siguiente celda regresará una serie con todos los elmentos de la columna ```'py111'``` del *dataframe* ```cursos[::2]```."
   ]
  },
  {
   "cell_type": "code",
   "execution_count": null,
   "metadata": {},
   "outputs": [],
   "source": [
    "cursos[::2]['py111']"
   ]
  },
  {
   "cell_type": "markdown",
   "metadata": {},
   "source": [
    "* La siguiente celda regresará un nuevo *dataframe* obtenido a partir los renglones con los índices ```'marzo'```, ```'abril'``` y ```'mayo'``` del *dataframe* ```cursos```, usando la sintaxis ```cursos['marzo':'mayo']```."
   ]
  },
  {
   "cell_type": "code",
   "execution_count": null,
   "metadata": {},
   "outputs": [],
   "source": [
    "cursos['marzo':'mayo']"
   ]
  },
  {
   "cell_type": "markdown",
   "metadata": {},
   "source": [
    "* La siguiente celda no corresponde a un rango, por lo que el identificados se aplicará a las columnas y desencadenará un error ```KeyError```."
   ]
  },
  {
   "cell_type": "code",
   "execution_count": null,
   "metadata": {},
   "outputs": [],
   "source": [
    "cursos['enero']"
   ]
  },
  {
   "cell_type": "markdown",
   "metadata": {},
   "source": [
    "* El siguiente rango hace referencia a identificadores de columna, por lo que se desencadenará un error ```KeyError```."
   ]
  },
  {
   "cell_type": "code",
   "execution_count": null,
   "metadata": {
    "scrolled": true
   },
   "outputs": [],
   "source": [
    "cursos['py101': 'py121']"
   ]
  },
  {
   "cell_type": "markdown",
   "metadata": {},
   "source": [
    "### Resumen de la forma ```df[ ]```.\n",
    "\n",
    "* Para acceder a las columnas es necesario  especificar el identificador de la columna y si no existe el identificador, se puede usar el índice numérico correspondiente.\n",
    "\n",
    "* Para acceder a los renglones, se deben de definir rangos y usarse los identificadores o los índices númericos de forma indistinta."
   ]
  },
  {
   "cell_type": "markdown",
   "metadata": {},
   "source": [
    "## Las  series de *Pandas*.\n",
    "\n",
    "Las series son objetos instanciado de la clase ```pandas.Series``` y son objetos de una sola dimensión.\n",
    "\n",
    "```\n",
    "pd.Series(<datos>, name=<nombre>, index=<índices>)\n",
    "```\n",
    "\n",
    "Donde:\n",
    "\n",
    "* ```<datos>``` puede ser un objeto de tipo:\n",
    "    * ```tuple```\n",
    "    * ```list```\n",
    "    * ```dict``` \n",
    "    * Un arreglo de *Numpy* de una dimensión.\n",
    "* ```<nombre>``` es un objeto de tipo ```str``` y corresponderá al atributo ```name``` del objeto resultante.\n",
    "* ```<índices>``` es una colección de cadenas de caracteres correspondientes al índice de cada elemento de la serie.\n",
    "\n",
    "\n",
    "La documentación de las series de pandas puede ser consultada en:\n",
    "\n",
    "https://pandas.pydata.org/pandas-docs/stable/reference/api/pandas.Series.html"
   ]
  },
  {
   "cell_type": "markdown",
   "metadata": {},
   "source": [
    "**Ejemplos:**"
   ]
  },
  {
   "cell_type": "markdown",
   "metadata": {},
   "source": [
    "* La siguiente celda creará una serie."
   ]
  },
  {
   "cell_type": "code",
   "execution_count": null,
   "metadata": {},
   "outputs": [],
   "source": [
    "pd.Series([12, 4, 32, 41, 33, 28], \n",
    "          name='py201', \n",
    "          index=('enero',\n",
    "                 'febrero', \n",
    "                 'marzo', \n",
    "                 'abril', \n",
    "                 'mayo', \n",
    "                 'junio'))"
   ]
  },
  {
   "cell_type": "markdown",
   "metadata": {},
   "source": [
    "* La siguente celda creará una serie de nombre ```mi_serie```."
   ]
  },
  {
   "cell_type": "code",
   "execution_count": null,
   "metadata": {},
   "outputs": [],
   "source": [
    "mi_serie = pd.Series([12, 4, 32, 41, 33, 28], \n",
    "                  name='py201', \n",
    "                  index=('enero', \n",
    "                         'febrero', \n",
    "                         'marzo', \n",
    "                         'abril', \n",
    "                         'mayo', \n",
    "                         'junio'))"
   ]
  },
  {
   "cell_type": "markdown",
   "metadata": {},
   "source": [
    "* La siguiente celda regresará el objeto ```str``` correspondiente al atributo ```name``` de la serie ```mi_serie```."
   ]
  },
  {
   "cell_type": "code",
   "execution_count": null,
   "metadata": {
    "scrolled": true
   },
   "outputs": [],
   "source": [
    "mi_serie.name"
   ]
  },
  {
   "cell_type": "markdown",
   "metadata": {},
   "source": [
    "* La siguiente celda regresará al elemento con índice numérico ```3``` de la serie ```mi_serie```."
   ]
  },
  {
   "cell_type": "code",
   "execution_count": null,
   "metadata": {},
   "outputs": [],
   "source": [
    "mi_serie[3]"
   ]
  },
  {
   "cell_type": "markdown",
   "metadata": {},
   "source": [
    "* La siguiente celda regresará al elemento con índice ```'abril´ ``` de la serie ```mi_serie```."
   ]
  },
  {
   "cell_type": "code",
   "execution_count": null,
   "metadata": {},
   "outputs": [],
   "source": [
    "mi_serie['abril']"
   ]
  },
  {
   "cell_type": "markdown",
   "metadata": {},
   "source": [
    "La siguiente celda regresará una serie creada a partir de ```mi_serie``` con los elementos dentro del rango ```[::2]```."
   ]
  },
  {
   "cell_type": "code",
   "execution_count": null,
   "metadata": {
    "scrolled": true
   },
   "outputs": [],
   "source": [
    "mi_serie[::2]"
   ]
  },
  {
   "cell_type": "markdown",
   "metadata": {},
   "source": [
    "La siguiente celda regresará una serie creada a partir de ```mi_serie``` con los elementos dentro del rango ```[enero:abril:2]```."
   ]
  },
  {
   "cell_type": "code",
   "execution_count": null,
   "metadata": {},
   "outputs": [],
   "source": [
    "mi_serie['enero':'mayo':2]"
   ]
  },
  {
   "cell_type": "markdown",
   "metadata": {},
   "source": [
    "### Selección de renglones dentro de la columna de un *dataframe*.\n",
    "\n",
    "Debido a que las columnas de un *dataframe* son series, es posible acceder a elementos específicos de *dataframe* utilizando la siguiente sintaxis:\n",
    "\n",
    "```\n",
    "df[<col>][<índice>]\n",
    "```\n",
    "\n",
    "Donde:\n",
    "\n",
    "* ```<col>``` es el identificador de una columna existente en el *dataframe*.\n",
    "* ```<índice>``` es el identificador de un índice o rango de índices existentes en el *dataframe*."
   ]
  },
  {
   "cell_type": "markdown",
   "metadata": {},
   "source": [
    "**Ejemplo:**"
   ]
  },
  {
   "cell_type": "markdown",
   "metadata": {},
   "source": [
    "* Se utilizará el *dataframe* ```cursos``` definido previamente."
   ]
  },
  {
   "cell_type": "code",
   "execution_count": null,
   "metadata": {},
   "outputs": [],
   "source": [
    "cursos"
   ]
  },
  {
   "cell_type": "markdown",
   "metadata": {},
   "source": [
    "* La siguiente celda regresará una serie con el contenido de la columna con identificador ```py101```."
   ]
  },
  {
   "cell_type": "code",
   "execution_count": null,
   "metadata": {},
   "outputs": [],
   "source": [
    "cursos['py101']"
   ]
  },
  {
   "cell_type": "markdown",
   "metadata": {},
   "source": [
    "* * La siguiente celda regresará al elemento con el índice numérico igual a ```2``` de la serie ```cursos['py101']```."
   ]
  },
  {
   "cell_type": "code",
   "execution_count": null,
   "metadata": {
    "scrolled": true
   },
   "outputs": [],
   "source": [
    "cursos['py101'][2]"
   ]
  },
  {
   "cell_type": "markdown",
   "metadata": {},
   "source": [
    "* * La siguiente celda regresará al elemento con índice ```'marzo'``` de la serie ```cursos['py101']```."
   ]
  },
  {
   "cell_type": "code",
   "execution_count": null,
   "metadata": {},
   "outputs": [],
   "source": [
    "cursos['py101']['marzo']"
   ]
  },
  {
   "cell_type": "markdown",
   "metadata": {},
   "source": [
    "* Las siguientes celdas obtendrán del *dataframe* ```cursos``` el contenido de las celdas correspondiente a la columna con identificador ```py111``` y las celdas con los índices ```abril``` y ```mayo```."
   ]
  },
  {
   "cell_type": "code",
   "execution_count": null,
   "metadata": {},
   "outputs": [],
   "source": [
    "cursos['py111'][3:5]"
   ]
  },
  {
   "cell_type": "markdown",
   "metadata": {},
   "source": [
    "* Las columnas no aceptan rangos y la siguiente celda desencadenará un error ```ValueError```."
   ]
  },
  {
   "cell_type": "code",
   "execution_count": null,
   "metadata": {},
   "outputs": [],
   "source": [
    "cursos['py101':'py111'][3:5]"
   ]
  },
  {
   "cell_type": "markdown",
   "metadata": {},
   "source": [
    "### Selección de renglones de un *dataframe* a partir de una expresión lógica sobre una columna.\n",
    "\n",
    "Es posible aprovechar el *broadcasting* para aplicar expresiones lógicas en una columna de un *dataframe* con la finalidad de seleccionar sólo los renglones en los que la expresión da por resultado ```True```.\n",
    "\n",
    "```\n",
    "df[<expresion>]\n",
    "```\n",
    "\n",
    "Donde:\n",
    "\n",
    "* ```<expresion>``` es una expresión lógica aplicada sobre una columna de un *dataframe* que da por resultado una serie con valores booleanos. Esta serie tiene el nombre de una columna del *dataframe* y exactamente los mismos índices del dataframe. "
   ]
  },
  {
   "cell_type": "markdown",
   "metadata": {},
   "source": [
    "**Ejemplo:**"
   ]
  },
  {
   "cell_type": "markdown",
   "metadata": {},
   "source": [
    "* Se utilizará el *dataframe* ```cursos```, definido previamente."
   ]
  },
  {
   "cell_type": "code",
   "execution_count": null,
   "metadata": {
    "scrolled": true
   },
   "outputs": [],
   "source": [
    "cursos"
   ]
  },
  {
   "cell_type": "markdown",
   "metadata": {},
   "source": [
    "* La siguiente celda aplicará broadcasting sobre la columna ```cursos[py121]``` y regresará una serie en la que validará si cada elemento de  la columna es mayor que ```20```. Solamente los elementos con índices ```mayo``` y ```junio``` dan por resultado ```True```."
   ]
  },
  {
   "cell_type": "code",
   "execution_count": null,
   "metadata": {},
   "outputs": [],
   "source": [
    "cursos['py121'] > 20"
   ]
  },
  {
   "cell_type": "markdown",
   "metadata": {},
   "source": [
    "* La siguiente celda aprovechará la expresión ```cursos['py121'] > 20```para crear un *dataframe* que contiene exclusivamente los rengolones en los que la expresión es ```True```."
   ]
  },
  {
   "cell_type": "code",
   "execution_count": null,
   "metadata": {},
   "outputs": [],
   "source": [
    "cursos[cursos['py121'] > 20]"
   ]
  },
  {
   "cell_type": "markdown",
   "metadata": {},
   "source": [
    "### Conversión de series a *dataframes*. \n",
    "\n",
    "El método ```to_frame()``` de las series permite transformar una serie en un *dataframe* de una columna.\n",
    "\n",
    "```\n",
    "<serie>.to_frame()\n",
    "```"
   ]
  },
  {
   "cell_type": "markdown",
   "metadata": {},
   "source": [
    "**Ejemplo:**"
   ]
  },
  {
   "cell_type": "code",
   "execution_count": null,
   "metadata": {},
   "outputs": [],
   "source": [
    "pd.Series([12, 4, 32, 41, 33, 28],\n",
    "          index=indice, name='py201')"
   ]
  },
  {
   "cell_type": "markdown",
   "metadata": {},
   "source": [
    "* La siguiente celda transformará una serie en un *dataframe*."
   ]
  },
  {
   "cell_type": "code",
   "execution_count": null,
   "metadata": {},
   "outputs": [],
   "source": [
    "pd.Series([12, 4, 32, 41, 33, 28],\n",
    "          index=indice, name='py201').to_frame()"
   ]
  },
  {
   "cell_type": "markdown",
   "metadata": {},
   "source": [
    "<p style=\"text-align: center\"><a rel=\"license\" href=\"http://creativecommons.org/licenses/by/4.0/\"><img alt=\"Licencia Creative Commons\" style=\"border-width:0\" src=\"https://i.creativecommons.org/l/by/4.0/80x15.png\" /></a><br />Esta obra está bajo una <a rel=\"license\" href=\"http://creativecommons.org/licenses/by/4.0/\">Licencia Creative Commons Atribución 4.0 Internacional</a>.</p>\n",
    "<p style=\"text-align: center\">&copy; José Luis Chiquete Valdivieso. 2023.</p>"
   ]
  }
 ],
 "metadata": {
  "kernelspec": {
   "display_name": "Python 3 (ipykernel)",
   "language": "python",
   "name": "python3"
  },
  "language_info": {
   "codemirror_mode": {
    "name": "ipython",
    "version": 3
   },
   "file_extension": ".py",
   "mimetype": "text/x-python",
   "name": "python",
   "nbconvert_exporter": "python",
   "pygments_lexer": "ipython3",
   "version": "3.9.2"
  }
 },
 "nbformat": 4,
 "nbformat_minor": 2
}
