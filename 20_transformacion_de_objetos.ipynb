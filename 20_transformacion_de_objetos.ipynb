{
 "cells": [
  {
   "cell_type": "markdown",
   "metadata": {},
   "source": [
    "[![imagenes/pythonista.png](imagenes/pythonista.png)](https://pythonista.io)"
   ]
  },
  {
   "cell_type": "markdown",
   "metadata": {},
   "source": [
    "# Transformación de dataframes y series.\n",
    "\n",
    "En la mayoría de los casos los conjuntos de datos (datasets) a los que se accede con *Pandas* incluyen información que debe de ser ajustada o extraída.\n",
    "\n",
    "En este capítulo se explorarán algunas herramientas que permiten transformar a los dataframes y series de *Pandas* a fin de extraer y mostrar información de diversos modos."
   ]
  },
  {
   "cell_type": "code",
   "execution_count": null,
   "metadata": {},
   "outputs": [],
   "source": [
    "import pandas as pd\n",
    "import numpy as np"
   ]
  },
  {
   "cell_type": "markdown",
   "metadata": {},
   "source": [
    "## Dataframe ilustrativo.\n",
    "\n",
    "El dataframe ```poblacion``` contiene datos ficticios de un muestreo poblacional de animales en diveras regiones geográficas."
   ]
  },
  {
   "cell_type": "code",
   "execution_count": null,
   "metadata": {},
   "outputs": [],
   "source": [
    "poblacion = pd.DataFrame({'Animal':('lobo',\n",
    "                                    'coyote',\n",
    "                                   'jaguar',\n",
    "                                   'cerdo salvaje',\n",
    "                                    'tapir',\n",
    "                                    'venado',\n",
    "                                    'ocelote',\n",
    "                                    'puma'),\n",
    "                         'Norte_I':(12,\n",
    "                                   np.NAN,\n",
    "                                    None,\n",
    "                                    2,\n",
    "                                    4,\n",
    "                                    2,\n",
    "                                    14,\n",
    "                                    5\n",
    "                                   ),\n",
    "                          'Norte_II':(23,\n",
    "                                    4,\n",
    "                                    25,\n",
    "                                    21,\n",
    "                                    9,\n",
    "                                    121,\n",
    "                                    1,\n",
    "                                    2\n",
    "                                   ),\n",
    "                         'Centro_I':(15,\n",
    "                                    23,\n",
    "                                    2,\n",
    "                                    120,\n",
    "                                    40,\n",
    "                                    121,\n",
    "                                    0,\n",
    "                                    5),\n",
    "                         'Sur_I':(28,\n",
    "                                  46,\n",
    "                                  14,\n",
    "                                  156,\n",
    "                                  79,\n",
    "                                  12,\n",
    "                                  2,\n",
    "                                  np.NAN)}).set_index('Animal')"
   ]
  },
  {
   "cell_type": "code",
   "execution_count": null,
   "metadata": {},
   "outputs": [],
   "source": [
    "poblacion"
   ]
  },
  {
   "cell_type": "markdown",
   "metadata": {},
   "source": [
    "## El método ```transpose()```.\n",
    "\n",
    "Este método permite cambiar los ejes de un dataframe y regresará un nuevo dataframe en el qie los índices de los renglones serán los de las columnas y viceversa.\n",
    "```\n",
    "<dataframe>.transpose()\n",
    "```"
   ]
  },
  {
   "cell_type": "markdown",
   "metadata": {},
   "source": [
    "**Ejemplo:**"
   ]
  },
  {
   "cell_type": "markdown",
   "metadata": {},
   "source": [
    "* La siguiente celda creará un dataframe con nombre ```poblaciones``` el cual es el resultadso de ejecutar el método ```transpose()``` del dataframe ```poblacion```."
   ]
  },
  {
   "cell_type": "code",
   "execution_count": null,
   "metadata": {},
   "outputs": [],
   "source": [
    "poblaciones = poblacion.transpose()"
   ]
  },
  {
   "cell_type": "code",
   "execution_count": null,
   "metadata": {},
   "outputs": [],
   "source": [
    "poblaciones"
   ]
  },
  {
   "cell_type": "markdown",
   "metadata": {},
   "source": [
    "## El método ```melt()```.\n",
    "\n",
    "Al analizar un dataset, es común identificar elementos de este que infuyen en el resultado de otro.\n",
    "El método melt permite extraer de un dataframe datos identificando causas (```id_vars ```) y efectos (```value_vars```), permitiendo hacer más explícita esta relación.\n",
    "\n",
    "Este metódo crea un nuevo dataframe en el que las columnas consideradas como  ```value_vars``` se presentan en función de las columnas consideradas como ```id_vars```.\n",
    "\n",
    "```\n",
    "dataframe.melt(id_vars=[<columna i1>, <columna i2>, ... <columnas in>], \n",
    "               value_vars=[<columna v1>, <columna v2>, ... <columnas vn>,\n",
    "               var_name='<nombre de variable>',\n",
    "               value_name='<nombre de valores>'])\n",
    "```\n",
    "\n",
    "Donde.\n",
    "\n",
    "* ```<columnas ix>``` son las columnas que se designan como variables independientes.\n",
    "* ```<columnas vx>``` son las columnas que se designan como variables dependientes de las columnas definidas en ```id_vars```.\n",
    "* ```<nombre de variable>``` es el nombre que se le peude dar a la columna ```'variable'```.\n",
    "* ```<nombre de valores>``` es el nombre que se le peude dar a la columna ```'value'```.\n",
    "\n",
    "El dataframe resultante presentará:\n",
    "\n",
    "* las columnas listadas en el parámetro ```id_vars```. \n",
    "* Una columna llamada por defecto ```variable``` que contendrá en sus renglones los nombres de las columnas listadas en el parámetro ```value_vars```. El nombre de esta columma puede asignarse mediante el parámetro ``` var_name```.\n",
    "* Una columna llamada por defecto ```value``` que contendrá los valores contenidos a su vez en las columnas listadas en el parámetro ```value_vars```.  El nombre de esta columma puede asignarse mediante el parámetro ``` value_name```.\n",
    "\n",
    "El dataframe mostrará las diversa combinaciones posibles entre las variables idependientes que están relacionads a las variables dependientes y los índices serán numéricos."
   ]
  },
  {
   "cell_type": "markdown",
   "metadata": {},
   "source": [
    "**Ejemplos:**"
   ]
  },
  {
   "cell_type": "markdown",
   "metadata": {},
   "source": [
    "* La siguiente celda regresará un dataframe creado a partir de ```poblaciones``` en el que la columna ```'lobo'``` se enlista en el parámetro ```id_vars``` y la columna ```venado``` se enlista en el parámetro ```value_vars```."
   ]
  },
  {
   "cell_type": "code",
   "execution_count": null,
   "metadata": {},
   "outputs": [],
   "source": [
    "poblaciones.melt(id_vars=[\"lobo\"], value_vars=[\"venado\"])"
   ]
  },
  {
   "cell_type": "markdown",
   "metadata": {},
   "source": [
    "* La siguiente celda regresará un dataframe creado a partir de ```poblaciones``` en el que:\n",
    "    * ```id_vars=[\"lobo\", \"coyote\"]```\n",
    "    * ```value_vars=[\"venado\"]```."
   ]
  },
  {
   "cell_type": "code",
   "execution_count": null,
   "metadata": {},
   "outputs": [],
   "source": [
    "poblaciones.melt(id_vars=[\"lobo\", \"coyote\"], value_vars=[\"venado\"])"
   ]
  },
  {
   "cell_type": "markdown",
   "metadata": {},
   "source": [
    "* La siguiente celda regresará un dataframe creado a partir de ```poblaciones``` en el que:\n",
    "    * ```id_vars=[\"lobo\", \"coyote\"]```\n",
    "    * ```value_vars=[\"venado, \"cerdo salvaje\"]```.\n",
    "    * ```var_name=\"presa\"```, \n",
    "    * ```value_name=\"población\"```"
   ]
  },
  {
   "cell_type": "code",
   "execution_count": null,
   "metadata": {},
   "outputs": [],
   "source": [
    "poblaciones.melt(id_vars=[\"lobo\", \"coyote\"], value_vars=[\"venado\", \"cerdo salvaje\"], \n",
    "                 var_name=\"presa\", value_name=\"población\")"
   ]
  },
  {
   "cell_type": "markdown",
   "metadata": {},
   "source": [
    "## El método ```stack()```.\n",
    "\n",
    "Este método transforma a un dataframe en una serie.\n",
    "\n",
    "Las serie resultante cuenta con más de un índice y por eso se conocen como *MultiIndex*."
   ]
  },
  {
   "cell_type": "code",
   "execution_count": null,
   "metadata": {},
   "outputs": [],
   "source": [
    "poblacion"
   ]
  },
  {
   "cell_type": "code",
   "execution_count": null,
   "metadata": {},
   "outputs": [],
   "source": [
    "serie_poblacion = poblacion.stack()"
   ]
  },
  {
   "cell_type": "code",
   "execution_count": null,
   "metadata": {},
   "outputs": [],
   "source": [
    "serie_poblacion "
   ]
  },
  {
   "cell_type": "code",
   "execution_count": null,
   "metadata": {},
   "outputs": [],
   "source": [
    "type(poblacion.stack())"
   ]
  },
  {
   "cell_type": "code",
   "execution_count": null,
   "metadata": {},
   "outputs": [],
   "source": [
    "serie_poblacion.index"
   ]
  },
  {
   "cell_type": "code",
   "execution_count": null,
   "metadata": {},
   "outputs": [],
   "source": [
    "serie_poblacion['lobo']"
   ]
  },
  {
   "cell_type": "code",
   "execution_count": null,
   "metadata": {},
   "outputs": [],
   "source": [
    "serie_poblacion['lobo']['Norte_I']"
   ]
  },
  {
   "cell_type": "code",
   "execution_count": null,
   "metadata": {},
   "outputs": [],
   "source": [
    "poblaciones.stack()"
   ]
  },
  {
   "cell_type": "markdown",
   "metadata": {},
   "source": [
    "## El método ```unstack()```.\n",
    "\n",
    "Convierte una serie creada con el método ```stack()``` en un dataframe."
   ]
  },
  {
   "cell_type": "code",
   "execution_count": null,
   "metadata": {},
   "outputs": [],
   "source": [
    "serie_poblacion.unstack()"
   ]
  },
  {
   "cell_type": "markdown",
   "metadata": {},
   "source": [
    "## El método ```pivot()```.\n",
    "\n",
    "Este método permite crear estructuras de dataframes a partir de columnas de otro dataframe.\n",
    "\n",
    "```\n",
    "<dataframe>.pivot(columns=<identificador de columna 1>, index=<identificador de columna 2>, values=<identificador de columna 2>)\n",
    "```\n",
    "\n",
    "**NOTA:** Los valores que se utilizarán para crear un nuevo dataframe deben de ser del mismo tamaño."
   ]
  },
  {
   "cell_type": "code",
   "execution_count": null,
   "metadata": {},
   "outputs": [],
   "source": [
    "observaciones = pd.DataFrame({'region':('Norte', 'Norte', 'Norte',\n",
    "                                        'Sur', 'Sur', 'Sur',\n",
    "                                        'Este', 'Este', 'Este',\n",
    "                                        'Oeste', 'Oeste', 'Oeste'),\n",
    "                             'horario':('madrugada', 'tarde', 'media_noche',\n",
    "                                        'madrugada', 'tarde', 'media_noche',\n",
    "                                        'madrugada', 'tarde', 'media_noche',\n",
    "                                        'madrugada', 'tarde', 'media_noche'),\n",
    "                              'peatones':(153, 589, 35,\n",
    "                                          215, 702, 87,\n",
    "                                          95, 806, 22,\n",
    "                                          290, 1390, 150),\n",
    "                             'vehículos': (np.NaN, 1003, 304,\n",
    "                                          506, 1421, 150,\n",
    "                                          271, 1863, 198,\n",
    "                                          948, 2279, 804)})"
   ]
  },
  {
   "cell_type": "code",
   "execution_count": null,
   "metadata": {},
   "outputs": [],
   "source": [
    "observaciones"
   ]
  },
  {
   "cell_type": "code",
   "execution_count": null,
   "metadata": {},
   "outputs": [],
   "source": [
    "observaciones.pivot(columns='region', \n",
    "                    values='peatones', \n",
    "                    index='horario')"
   ]
  },
  {
   "cell_type": "code",
   "execution_count": null,
   "metadata": {
    "scrolled": false
   },
   "outputs": [],
   "source": [
    "observaciones.pivot(columns='region', \n",
    "                    values='vehículos', \n",
    "                    index='horario')"
   ]
  },
  {
   "cell_type": "markdown",
   "metadata": {},
   "source": [
    "## El método ```pivot_table()```."
   ]
  },
  {
   "cell_type": "code",
   "execution_count": null,
   "metadata": {},
   "outputs": [],
   "source": [
    "observaciones_2 = pd.DataFrame({'region':('Norte', 'Norte', 'Norte',\n",
    "                                        'Sur', 'Sur', 'Sur', 'Sur',\n",
    "                                        'Este', 'Este', 'Este',\n",
    "                                        'Oeste', 'Oeste', 'Oeste'),\n",
    "                             'horario':('madrugada', 'tarde', 'media_noche',\n",
    "                                        'madrugada', 'tarde', 'media_noche', 'madrugada',\n",
    "                                        'madrugada', 'tarde', 'media_noche',\n",
    "                                        'madrugada', 'tarde', 'media_noche'),\n",
    "                              'peatones':(153, 589, 35,\n",
    "                                          215, 702, 87, 221,\n",
    "                                          95, 806, 22,\n",
    "                                          290, 1390, 150),\n",
    "                             'vehiculos': (np.NaN, 1003, 304,\n",
    "                                          506, 1421, 150, np.NaN,\n",
    "                                          271, 1863, 198,\n",
    "                                          948, 2279, 804)})"
   ]
  },
  {
   "cell_type": "code",
   "execution_count": null,
   "metadata": {},
   "outputs": [],
   "source": [
    "observaciones_2"
   ]
  },
  {
   "cell_type": "code",
   "execution_count": null,
   "metadata": {},
   "outputs": [],
   "source": [
    "observaciones_2.pivot(columns='region', \n",
    "                    values='vehiculos', \n",
    "                    index='horario')"
   ]
  },
  {
   "cell_type": "code",
   "execution_count": null,
   "metadata": {},
   "outputs": [],
   "source": [
    "observaciones_2.pivot_table(columns='region', \n",
    "                    values='vehiculos', \n",
    "                    index='horario')"
   ]
  },
  {
   "cell_type": "code",
   "execution_count": null,
   "metadata": {},
   "outputs": [],
   "source": [
    "observaciones_2.pivot_table(columns='region', \n",
    "                    values='peatones', \n",
    "                    index='horario')"
   ]
  },
  {
   "cell_type": "code",
   "execution_count": null,
   "metadata": {},
   "outputs": [],
   "source": [
    "observaciones_2.pivot_table(columns='region', \n",
    "                    values='peatones', \n",
    "                    index='horario',\n",
    "                    aggfunc=np.sum)"
   ]
  },
  {
   "cell_type": "code",
   "execution_count": null,
   "metadata": {},
   "outputs": [],
   "source": [
    "observaciones_2.pivot_table(columns='region', \n",
    "                    values='peatones')"
   ]
  },
  {
   "cell_type": "code",
   "execution_count": null,
   "metadata": {
    "scrolled": true
   },
   "outputs": [],
   "source": [
    "observaciones_2.pivot(columns='region', \n",
    "                    values='peatones')"
   ]
  },
  {
   "cell_type": "code",
   "execution_count": null,
   "metadata": {},
   "outputs": [],
   "source": [
    "poblacion"
   ]
  },
  {
   "cell_type": "code",
   "execution_count": null,
   "metadata": {},
   "outputs": [],
   "source": [
    "poblacion.transpose().melt(id_vars=['lobo', 'coyote', 'jaguar'], value_vars=[\"tapir\"])"
   ]
  },
  {
   "cell_type": "markdown",
   "metadata": {},
   "source": [
    "<p style=\"text-align: center\"><a rel=\"license\" href=\"http://creativecommons.org/licenses/by/4.0/\"><img alt=\"Licencia Creative Commons\" style=\"border-width:0\" src=\"https://i.creativecommons.org/l/by/4.0/80x15.png\" /></a><br />Esta obra está bajo una <a rel=\"license\" href=\"http://creativecommons.org/licenses/by/4.0/\">Licencia Creative Commons Atribución 4.0 Internacional</a>.</p>\n",
    "<p style=\"text-align: center\">&copy; José Luis Chiquete Valdivieso. 2019.</p>"
   ]
  }
 ],
 "metadata": {
  "kernelspec": {
   "display_name": "Python 3",
   "language": "python",
   "name": "python3"
  },
  "language_info": {
   "codemirror_mode": {
    "name": "ipython",
    "version": 3
   },
   "file_extension": ".py",
   "mimetype": "text/x-python",
   "name": "python",
   "nbconvert_exporter": "python",
   "pygments_lexer": "ipython3",
   "version": "3.7.3"
  }
 },
 "nbformat": 4,
 "nbformat_minor": 2
}
