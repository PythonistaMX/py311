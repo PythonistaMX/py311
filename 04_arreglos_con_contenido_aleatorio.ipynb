{
 "cells": [
  {
   "cell_type": "markdown",
   "metadata": {},
   "source": [
    "[![img/pythonista.png](img/pythonista.png)](https://www.pythonista.io)"
   ]
  },
  {
   "cell_type": "markdown",
   "metadata": {},
   "source": [
    "# Arreglos con contenido aleatorio."
   ]
  },
  {
   "cell_type": "code",
   "execution_count": null,
   "metadata": {
    "scrolled": true
   },
   "outputs": [],
   "source": [
    "import numpy as np"
   ]
  },
  {
   "cell_type": "markdown",
   "metadata": {},
   "source": [
    "## El paquete ```np.random```."
   ]
  },
  {
   "cell_type": "markdown",
   "metadata": {},
   "source": [
    "El paquete `np.random` de NumPy nos permite crear arreglos con contenido aleatorio."
   ]
  },
  {
   "cell_type": "markdown",
   "metadata": {},
   "source": [
    "### La función ```np.random.seed()```.\n",
    "\n",
    "* La función ```np.random.seed()``` inicializa el generador de números aleatorios de NumPy con una semilla específica. Esto asegura que los números aleatorios generados sean reproducibles.\n",
    "\n",
    "```\n",
    "np.random.seed(<semilla>)\n",
    "``` \n",
    "* Donde ```<semilla>``` es un valor entero que se utiliza para inicializar el generador de números aleatorios.\n",
    "* En caso de que no se especifique una semilla, el generador se inicializa con una semilla basada en la hora actual del sistema u otra fuente de entropía.\n",
    "\n",
    "https://numpy.org/doc/stable/reference/random/generated/numpy.random.seed.html"
   ]
  },
  {
   "cell_type": "markdown",
   "metadata": {},
   "source": [
    "* La siguiente celda inicializará el generador de números aleatorios con la semilla ```42``` y luego generará un arreglo de forma ```(2, 3)``` con valores enteros que pueden ir de ```0``` a ```9```. Elre sultsado será siempre el mismo cada vez que se ejecute la celda."
   ]
  },
  {
   "cell_type": "code",
   "execution_count": null,
   "metadata": {},
   "outputs": [],
   "source": [
    "np.random.seed(42)\n",
    "np.random.randint(0, 9, (2, 3))"
   ]
  },
  {
   "cell_type": "markdown",
   "metadata": {},
   "source": [
    "https://numpy.org/doc/stable/reference/random/generator.html"
   ]
  },
  {
   "cell_type": "markdown",
   "metadata": {},
   "source": [
    "### La función ```np.random.rand()```.\n",
    "\n",
    "* La función ```np.random.rand()``` crea un arreglo cuyos elementos son valores aleatorios que van de ```0``` a antes de ```1``` dentro de una distribución uniforme.\n",
    "\n",
    "```\n",
    "np.random.rand(<forma>)\n",
    "```\n",
    "\n",
    "* Donde ```<forma>``` es una secuencia de valores enteros separados por comas que definen la forma del arreglo.\n",
    "\n",
    "https://numpy.org/doc/stable/reference/random/generated/numpy.random.rand.html"
   ]
  },
  {
   "cell_type": "markdown",
   "metadata": {},
   "source": [
    "**Ejemplo:**"
   ]
  },
  {
   "cell_type": "markdown",
   "metadata": {},
   "source": [
    "* La siguiente celda generará un arreglo de forma ```(2, 2, 2)```conteniendo números aleatorios."
   ]
  },
  {
   "cell_type": "code",
   "execution_count": null,
   "metadata": {
    "scrolled": true
   },
   "outputs": [],
   "source": [
    "np.random.rand(2, 2, 2)"
   ]
  },
  {
   "cell_type": "markdown",
   "metadata": {},
   "source": [
    "### La función ```np.random.randint()```.\n",
    "\n",
    "* La función ```np.random.randint()``` crea un arreglo cuyos elementos son valores entros aleatorios en un rango dado.\n",
    "\n",
    "```\n",
    "np.random.randint(<inicio>, <fin>, <forma>)\n",
    "```\n",
    "\n",
    "Donde:\n",
    "\n",
    "* ```<inicio>``` es el valor inicial del rango a partir del cual se generarán los números aleatorios, incluyéndolo a este.\n",
    "* ```<fin>``` es  el valor final del rango a partir del cual se generarán los números aleatorios, sin incluirlo.\n",
    "* ```<forma>``` es un objeto ```tuple``` que definen la forma del arreglo."
   ]
  },
  {
   "cell_type": "markdown",
   "metadata": {},
   "source": [
    "**Ejemplos:**"
   ]
  },
  {
   "cell_type": "markdown",
   "metadata": {},
   "source": [
    "* La siguente celda creará una arreglo de forma ```(3, 3)``` con valores enteros que pueden ir de ```1``` a ```2```."
   ]
  },
  {
   "cell_type": "code",
   "execution_count": null,
   "metadata": {
    "scrolled": true
   },
   "outputs": [],
   "source": [
    "np.random.randint(1, 3, (3, 3))"
   ]
  },
  {
   "cell_type": "markdown",
   "metadata": {},
   "source": [
    "* La siguente celda creará una arreglo de forma ```(3, 2, 4)``` con valores enteros que pueden ir de ```0``` a ```255```."
   ]
  },
  {
   "cell_type": "code",
   "execution_count": null,
   "metadata": {
    "scrolled": true
   },
   "outputs": [],
   "source": [
    "np.random.randint(0, 256, (3, 2, 4))"
   ]
  },
  {
   "cell_type": "markdown",
   "metadata": {},
   "source": [
    "### La función ```np.random.choices()```.\n",
    "* La función ```np.random.choices()``` genera una lista de elementos seleccionados aleatoriamente de una secuencia dada, permitiendo la repetición de elementos.\n",
    "\n",
    "```\n",
    "np.random.choices(<secuencia>, <forma>)\n",
    "```\n",
    "* Donde:\n",
    "  * ```<secuencia>``` es una secuencia (como una lista o una cadena) de la cual se seleccionarán los elementos.\n",
    "  * ```<forma>``` es una tupla que define la forma del arreglo resultante."
   ]
  },
  {
   "cell_type": "markdown",
   "metadata": {},
   "source": [
    "* Ejemplo:"
   ]
  },
  {
   "cell_type": "markdown",
   "metadata": {},
   "source": [
    "* La siguiente celda creará un arrelgo de forma `(2, 2)` con en elementos aleatorios seleccionados a partir de la lista `['Perro','Gato', 'Perico']`, permitiendo la repetición de elementos."
   ]
  },
  {
   "cell_type": "code",
   "execution_count": null,
   "metadata": {},
   "outputs": [],
   "source": [
    "np.random.choice(['Perro','Gato', 'Perico'], (2, 2))"
   ]
  },
  {
   "cell_type": "markdown",
   "metadata": {},
   "source": [
    "## Arreglos aleatorios de diversas distribuciones.\n",
    "\n",
    "El módulo `np.random` cuenta con diversas funciones para generar arreglos con contenido aleatorio siguiendo distintas distribuciones estadísticas. Algunas de las distribuciones más comunes incluyen:\n",
    "* [Uniforme.](https://numpy.org/doc/stable/reference/random/generated/numpy.random.uniform.html)\n",
    "* [Normal (Gaussiana).](https://numpy.org/doc/stable/reference/random/generated/numpy.random.normal.html)\n",
    "* [Binomial.](https://numpy.org/doc/stable/reference/random/generated/numpy.random.binomial.html)\n",
    "* [Poisson.](https://numpy.org/doc/stable/reference/random/generated/numpy.random.poisson.html)\n",
    "* [Exponencial.](https://numpy.org/doc/stable/reference/random/generated/numpy.random.exponential.html)\n",
    "* [Chi-cuadrado.](https://numpy.org/doc/stable/reference/random/generated/numpy.random.chisquare.html)\n",
    "* [Beta.](https://numpy.org/doc/stable/reference/random/generated/numpy.random.beta.html)\n",
    "* [Gamma.](https://numpy.org/doc/stable/reference/random/generated/numpy.random.gamma.html)\n",
    "* [Log-normal.](https://numpy.org/doc/stable/reference/random/generated/numpy.random.lognormal.html)\n",
    "* [Multinomial.](https://numpy.org/doc/stable/reference/random/generated/numpy.random.multinomial.html)\n",
    "* [Multivariante normal.](https://numpy.org/doc/stable/reference/random/generated/numpy.random.multivariate_normal.html)\n",
    "\n",
    "Para más detalles y una lista completa de las distribuciones disponibles, se puede consultar la documentación oficial:\n",
    "* https://numpy.org/doc/stable/reference/random/generator.html#distributions"
   ]
  },
  {
   "cell_type": "markdown",
   "metadata": {},
   "source": [
    "Ejemplos:"
   ]
  },
  {
   "cell_type": "markdown",
   "metadata": {},
   "source": [
    "* La siguiente celda creará un arreglo de forma `(3, 3)` con valores aleatorios siguiendo una distribución normal con media `0` y desviación estándar `1`."
   ]
  },
  {
   "cell_type": "code",
   "execution_count": null,
   "metadata": {},
   "outputs": [],
   "source": [
    "np.random.uniform(-10, 10, (2, 3))"
   ]
  },
  {
   "cell_type": "markdown",
   "metadata": {},
   "source": [
    "* La siguiente celda creará un arreglo de forma `(2, 2)` con valores aleatorios siguiendo una distribución normal con media `0` y desviación estándar `1`."
   ]
  },
  {
   "cell_type": "code",
   "execution_count": null,
   "metadata": {},
   "outputs": [],
   "source": [
    "np.random.standard_normal(size=(2, 2))"
   ]
  },
  {
   "cell_type": "markdown",
   "metadata": {},
   "source": [
    "* La siguiente celda creará un arreglo de forma `(10, 10)` con valores aleatorios siguiendo una distribución normal con media `5` y desviación estándar `1.2`."
   ]
  },
  {
   "cell_type": "code",
   "execution_count": null,
   "metadata": {},
   "outputs": [],
   "source": [
    "np.random.normal(5, 1.2, (10,10))"
   ]
  },
  {
   "cell_type": "markdown",
   "metadata": {},
   "source": [
    "* La siguiente celda creará un arreglo de forma `(10, 10)` con valores aleatorios siguiendo una distribución normal con media `5` y desviación estándar `10`."
   ]
  },
  {
   "cell_type": "code",
   "execution_count": null,
   "metadata": {},
   "outputs": [],
   "source": [
    "np.random.normal(5, 10, (10,10))"
   ]
  },
  {
   "cell_type": "markdown",
   "metadata": {},
   "source": [
    "<p style=\"text-align: center\"><a rel=\"license\" href=\"http://creativecommons.org/licenses/by/4.0/\"><img alt=\"Licencia Creative Commons\" style=\"border-width:0\" src=\"https://i.creativecommons.org/l/by/4.0/80x15.png\" /></a><br />Esta obra está bajo una <a rel=\"license\" href=\"http://creativecommons.org/licenses/by/4.0/\">Licencia Creative Commons Atribución 4.0 Internacional</a>.</p>\n",
    "<p style=\"text-align: center\">&copy; José Luis Chiquete Valdivieso. 2025.</p>"
   ]
  }
 ],
 "metadata": {
  "kernelspec": {
   "display_name": "py3",
   "language": "python",
   "name": "python3"
  },
  "language_info": {
   "codemirror_mode": {
    "name": "ipython",
    "version": 3
   },
   "file_extension": ".py",
   "mimetype": "text/x-python",
   "name": "python",
   "nbconvert_exporter": "python",
   "pygments_lexer": "ipython3",
   "version": "3.12.3"
  }
 },
 "nbformat": 4,
 "nbformat_minor": 2
}
