{
 "cells": [
  {
   "cell_type": "markdown",
   "metadata": {},
   "source": [
    "[![img/pythonista.png](img/pythonista.png)](https://www.pythonista.io)"
   ]
  },
  {
   "cell_type": "markdown",
   "metadata": {},
   "source": [
    "# Arreglos con contenido aleatorio."
   ]
  },
  {
   "cell_type": "code",
   "execution_count": null,
   "metadata": {
    "scrolled": true
   },
   "outputs": [],
   "source": [
    "import numpy as np"
   ]
  },
  {
   "cell_type": "markdown",
   "metadata": {},
   "source": [
    "## El paquete ```np.random```."
   ]
  },
  {
   "cell_type": "markdown",
   "metadata": {},
   "source": [
    "https://numpy.org/doc/stable/reference/random/generator.html"
   ]
  },
  {
   "cell_type": "markdown",
   "metadata": {},
   "source": [
    "### La función ```np.random.rand()```.\n",
    "\n",
    "* La función ```np.random.rand()``` crea un arreglo cuyos elementos son valores aleatorios que van de ```0``` a antes de ```1``` dentro de una distribución uniforme.\n",
    "\n",
    "```\n",
    "np.random.rand(<forma>)\n",
    "```\n",
    "\n",
    "* Donde ```<forma>``` es una secuencia de valores enteros separados por comas que definen la forma del arreglo.\n",
    "\n",
    "https://numpy.org/doc/stable/reference/random/generated/numpy.random.rand.html"
   ]
  },
  {
   "cell_type": "markdown",
   "metadata": {},
   "source": [
    "**Ejemplo:**"
   ]
  },
  {
   "cell_type": "markdown",
   "metadata": {},
   "source": [
    "* La siguiente celda generará un arreglo de forma ```(2, 2, 2)```conteniendo números aleatorios."
   ]
  },
  {
   "cell_type": "code",
   "execution_count": null,
   "metadata": {
    "scrolled": true
   },
   "outputs": [],
   "source": [
    "np.random.rand(2, 2, 2)"
   ]
  },
  {
   "cell_type": "markdown",
   "metadata": {},
   "source": [
    "### La función ```np.random.randint()```.\n",
    "\n",
    "* La función ```np.random.randint()``` crea un arreglo cuyos elementos son valores entros aleatorios en un rango dado.\n",
    "\n",
    "```\n",
    "np.random.randint(<inicio>, <fin>, <forma>)\n",
    "```\n",
    "\n",
    "Donde:\n",
    "\n",
    "* ```<inicio>``` es el valor inicial del rango a partir del cual se generarán los números aleatorios, incluyéndolo a este.\n",
    "* ```<fin>``` es  el valor final del rango a partir del cual se generarán los números aleatorios, sin incluirlo.\n",
    "* ```<forma>``` es un objeto ```tuple``` que definen la forma del arreglo."
   ]
  },
  {
   "cell_type": "markdown",
   "metadata": {},
   "source": [
    "**Ejemplos:**"
   ]
  },
  {
   "cell_type": "markdown",
   "metadata": {},
   "source": [
    "* La siguente celda creará una arreglo de forma ```(3, 3)``` con valores enteros que pueden ir de ```1``` a ```2```."
   ]
  },
  {
   "cell_type": "code",
   "execution_count": null,
   "metadata": {
    "scrolled": true
   },
   "outputs": [],
   "source": [
    "np.random.randint(1, 3, (3, 3))"
   ]
  },
  {
   "cell_type": "markdown",
   "metadata": {},
   "source": [
    "* La siguente celda creará una arreglo de forma ```(3, 2, 4)``` con valores enteros que pueden ir de ```0``` a ```255```."
   ]
  },
  {
   "cell_type": "code",
   "execution_count": null,
   "metadata": {
    "scrolled": true
   },
   "outputs": [],
   "source": [
    "np.random.randint(0, 256, (3, 2, 4))"
   ]
  },
  {
   "cell_type": "markdown",
   "metadata": {},
   "source": [
    "<p style=\"text-align: center\"><a rel=\"license\" href=\"http://creativecommons.org/licenses/by/4.0/\"><img alt=\"Licencia Creative Commons\" style=\"border-width:0\" src=\"https://i.creativecommons.org/l/by/4.0/80x15.png\" /></a><br />Esta obra está bajo una <a rel=\"license\" href=\"http://creativecommons.org/licenses/by/4.0/\">Licencia Creative Commons Atribución 4.0 Internacional</a>.</p>\n",
    "<p style=\"text-align: center\">&copy; José Luis Chiquete Valdivieso. 2023.</p>"
   ]
  }
 ],
 "metadata": {
  "kernelspec": {
   "display_name": "Python 3 (ipykernel)",
   "language": "python",
   "name": "python3"
  },
  "language_info": {
   "codemirror_mode": {
    "name": "ipython",
    "version": 3
   },
   "file_extension": ".py",
   "mimetype": "text/x-python",
   "name": "python",
   "nbconvert_exporter": "python",
   "pygments_lexer": "ipython3",
   "version": "3.10.9"
  }
 },
 "nbformat": 4,
 "nbformat_minor": 2
}
