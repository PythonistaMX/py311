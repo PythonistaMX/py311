{
 "cells": [
  {
   "cell_type": "markdown",
   "metadata": {},
   "source": [
    "[![img/pythonista.png](img/pythonista.png)](https://www.pythonista.io)"
   ]
  },
  {
   "cell_type": "markdown",
   "metadata": {},
   "source": [
    "# Métodos ```groupby()```."
   ]
  },
  {
   "cell_type": "markdown",
   "metadata": {},
   "source": [
    "*Pandas* cuenta con una funcionalidad  que permite agrupar los datos idénticos en una columna o un renglón de un *dataframe* ."
   ]
  },
  {
   "cell_type": "markdown",
   "metadata": {},
   "source": [
    "Tanto las series como los dataframes de *Pandas* cuentan con un método ```groupby()```.\n",
    "\n",
    "* El método ```pd.DataFrame.groupby()``` regresa un objeto ```pd.core.groupby.generic.DataFrameGroupBy```.\n",
    "* El método ```pd.Series.groupby()``` regresa un objeto ```pd.core.groupby.generic.SeriesGroupBy```.\n",
    "\n",
    "En este capítulo se explorará el método ```pd.DataFrame.groupby()```, asumiendo que el método```pd.Series.groupby()``` se comporta de forma similar."
   ]
  },
  {
   "cell_type": "code",
   "execution_count": null,
   "metadata": {},
   "outputs": [],
   "source": [
    "import pandas as pd\n",
    "from datetime import datetime"
   ]
  },
  {
   "cell_type": "markdown",
   "metadata": {},
   "source": [
    "## El método ```pd.DataFrame.groupby()```.\n",
    "\n",
    "El método regresa un objeto de tipo ```pd.core.groupby.generic.DataFrameGroupBy```.\n",
    "\n",
    "```\n",
    "df.groupby(by=<identificador>, axis=<eje>, group_keys=True)\n",
    "```\n",
    "Donde:\n",
    "\n",
    "* ```identificador``` corresponde al identificador de la columna o índice en el que se realziará la agrupación.\n",
    "* El argumento ```axis``` indicar;a el eje al que se aplicará el método. El valor por defecto es ```1```.\n",
    "* El argumento ```group_keys``` le indica al método que use los valores  de agrupamiento como llaves. El valor por defecto es ```False```, pero se recomienda asignarle el valor ```True```.\n",
    "\n",
    "https://pandas.pydata.org/pandas-docs/stable/reference/api/pandas.DataFrame.groupby.html"
   ]
  },
  {
   "cell_type": "markdown",
   "metadata": {},
   "source": [
    "**Ejemplo:**"
   ]
  },
  {
   "cell_type": "markdown",
   "metadata": {},
   "source": [
    "* La siguiente celda creará al dataframe ```facturas``` con la estructura de columnas:\n",
    "\n",
    "    * ```'folio'```.\n",
    "    * ```'sucursal'```.\n",
    "    * ```'monto'```.\n",
    "    * ```'fecha'```.\n",
    "    * ```'cliente'```."
   ]
  },
  {
   "cell_type": "code",
   "execution_count": null,
   "metadata": {},
   "outputs": [],
   "source": [
    "facturas = pd.DataFrame({'folio':(15234, \n",
    "                      15235, \n",
    "                      15236, \n",
    "                      15237, \n",
    "                      15238, \n",
    "                      15239, \n",
    "                      15240,\n",
    "                      15241,\n",
    "                      15242),\n",
    "             'sucursal':('CDMX01',\n",
    "                         'MTY01',\n",
    "                         'CDMX02',\n",
    "                         'CDMX02',\n",
    "                         'MTY01',\n",
    "                         'GDL01',\n",
    "                         'CDMX02',\n",
    "                         'MTY01',\n",
    "                         'GDL01'),\n",
    "             'monto':(1420.00,\n",
    "                     1532.00,\n",
    "                     890.00,\n",
    "                     1300.00,\n",
    "                     3121.47,\n",
    "                     1100.5,\n",
    "                     12230,\n",
    "                     230.85,\n",
    "                     1569),\n",
    "             'fecha':(datetime(2019,3,11,17,24),\n",
    "                     datetime(2019,3,24,14,46),\n",
    "                     datetime(2019,3,25,17,58),\n",
    "                     datetime(2019,3,27,13,11),\n",
    "                     datetime(2019,3,31,10,25),\n",
    "                     datetime(2019,4,1,18,32),\n",
    "                     datetime(2019,4,3,11,43),\n",
    "                     datetime(2019,4,4,16,55),\n",
    "                     datetime(2019,4,5,12,59)),\n",
    "            'cliente':(19234,\n",
    "                       19232,\n",
    "                       19235,\n",
    "                       19233,\n",
    "                       19236,\n",
    "                       19237,\n",
    "                       19232,\n",
    "                       19233,\n",
    "                       19232)\n",
    "                        })"
   ]
  },
  {
   "cell_type": "code",
   "execution_count": null,
   "metadata": {
    "scrolled": true
   },
   "outputs": [],
   "source": [
    "facturas"
   ]
  },
  {
   "cell_type": "markdown",
   "metadata": {},
   "source": [
    "* La siguiente celda agrupará aquellos elementos en los que el valor de la columna ```facturas['cliente']``` sean iguales."
   ]
  },
  {
   "cell_type": "code",
   "execution_count": null,
   "metadata": {},
   "outputs": [],
   "source": [
    "clientes = facturas.groupby(\"cliente\", group_keys=True)"
   ]
  },
  {
   "cell_type": "markdown",
   "metadata": {},
   "source": [
    "* El objeto ```clientes``` es de tipo ```pd.core.groupby.generic.DataFrameGroupBy```."
   ]
  },
  {
   "cell_type": "code",
   "execution_count": null,
   "metadata": {},
   "outputs": [],
   "source": [
    "clientes"
   ]
  },
  {
   "cell_type": "markdown",
   "metadata": {},
   "source": [
    "## Los objetos ```core.groupby.generic.DataFrameGroupBy```.\n",
    "\n",
    "Los objetos ```core.groupby.generic.DataFrameGroupBy``` son iteradores que contienen a objetos de tipo ```tuple``` resultantes de la agrupación.\n",
    "\n",
    "* El primer elemento de la tupla corresponde al valor que se agrupa.\n",
    "* El segundo elemento de la tupla corresponde a un *dataframe* con los elementos agrupados.\n",
    "\n",
    "Dichos objetos contiene diversos métodos capaces de procesar los datos de cada objeto ```tuple``` que contiene."
   ]
  },
  {
   "cell_type": "markdown",
   "metadata": {},
   "source": [
    "**Ejemplo:**"
   ]
  },
  {
   "cell_type": "markdown",
   "metadata": {},
   "source": [
    "* La siguiente celda desplegará las tuplas contenidas en ```clientes```."
   ]
  },
  {
   "cell_type": "code",
   "execution_count": null,
   "metadata": {
    "scrolled": true
   },
   "outputs": [],
   "source": [
    "for item in clientes:\n",
    "    print(f\"\"\"ciente: {item[0]}\n",
    " -------\n",
    "{item[1]}\n",
    "\"\"\")\n",
    "    "
   ]
  },
  {
   "cell_type": "markdown",
   "metadata": {},
   "source": [
    "* La siguiente celda creará un objeto tipo ```list``` llamado ```clientes_agrupados```  a patir del objeto ```cliente```."
   ]
  },
  {
   "cell_type": "code",
   "execution_count": null,
   "metadata": {},
   "outputs": [],
   "source": [
    "clientes_agrupados = list(clientes)"
   ]
  },
  {
   "cell_type": "code",
   "execution_count": null,
   "metadata": {
    "scrolled": true
   },
   "outputs": [],
   "source": [
    "clientes_agrupados"
   ]
  },
  {
   "cell_type": "markdown",
   "metadata": {},
   "source": [
    "* La siguiente celda regresará al *datafame* que corresponde al segundo elemento de la tupla ```clientes_agrupados[0]```."
   ]
  },
  {
   "cell_type": "code",
   "execution_count": null,
   "metadata": {},
   "outputs": [],
   "source": [
    "clientes_agrupados[0][1]"
   ]
  },
  {
   "cell_type": "code",
   "execution_count": null,
   "metadata": {},
   "outputs": [],
   "source": [
    "type(clientes_agrupados[0][1])"
   ]
  },
  {
   "cell_type": "markdown",
   "metadata": {},
   "source": [
    "### Indexado de los objetos ```DataFrameGroupBy```.\n",
    "\n",
    "Los objetos ```DataFrameGroupBy``` permiten el indexado de columnas propio de los *dataframes*.\n",
    "\n",
    "```\n",
    "<obj>[<id>]\n",
    "```\n",
    "Donde:\n",
    "\n",
    "* ```<obj>``` es un objeto ```DataFrameGroupBy```.\n",
    "* ```<id>``` es el identificador de una columna del *dataframe* original.\n",
    "\n",
    "En caso de haber ingresado el parámetro ```group_keys=True````, es posible usar la siguiente sintaxis.\n",
    "\n",
    "```\n",
    "<obj>[[<id_1>, <id_2>, ... <id_n>]]\n",
    "```\n",
    "Donde:\n",
    "\n",
    "* ```<obj>``` es un objeto ```DataFrameGroupBy```.\n",
    "* ```<id_x>``` es el identificador de una columna del *dataframe* original.\n",
    "\n"
   ]
  },
  {
   "cell_type": "markdown",
   "metadata": {},
   "source": [
    "**Ejemplo:**"
   ]
  },
  {
   "cell_type": "markdown",
   "metadata": {},
   "source": [
    "* La siguiente celda regresará un listado de los elementos agrupados, pero sólo se incluirá a la columna ```'fecha'```."
   ]
  },
  {
   "cell_type": "code",
   "execution_count": null,
   "metadata": {
    "scrolled": true
   },
   "outputs": [],
   "source": [
    "for item in clientes['fecha']:\n",
    "    print(f\"\"\"ciente: {item[0]}\n",
    " -------\n",
    "{item[1]}\n",
    "\"\"\")"
   ]
  },
  {
   "cell_type": "markdown",
   "metadata": {},
   "source": [
    "* La siguiente celda regresará un listado de los elementos agrupados, pero sólo se incluirá a las columnas ```'fecha'``` y  ```monto```."
   ]
  },
  {
   "cell_type": "code",
   "execution_count": null,
   "metadata": {},
   "outputs": [],
   "source": [
    "for item in clientes[['fecha', 'monto']]:\n",
    "    print(f\"\"\"ciente: {item[0]}\n",
    " -------\n",
    "{item[1]}\n",
    "\"\"\")"
   ]
  },
  {
   "cell_type": "markdown",
   "metadata": {},
   "source": [
    "### Atributos y métodos de ```DataFrameGroupBy```.\n",
    "\n",
    "Los objetos ```core.groupby.generic.DataFrameGroupBy``` cuentan con una gran cantidad de atributo y métodos que permiten analizar y manipular los datos de las tuplas que contienen dichos objetos.\n",
    "\n",
    "https://pandas.pydata.org/docs/reference/groupby.html"
   ]
  },
  {
   "cell_type": "markdown",
   "metadata": {},
   "source": [
    "* Las siguientes celdas mostrarán algunos métodos y atributos de los objetos ```core.groupby.generic.DataFrameGroupBy```."
   ]
  },
  {
   "cell_type": "markdown",
   "metadata": {},
   "source": [
    "**Ejemplos:**"
   ]
  },
  {
   "cell_type": "markdown",
   "metadata": {},
   "source": [
    "* La siguiente celda regresará al atributo ```clientes.indices```, el cual es un objeto de tipo ```dict``` donde las claves corresponden a cada valor de agrupación y los valores corresponden a un arreglo que enumera los índices en donde se encontró dicho valor de agrupación."
   ]
  },
  {
   "cell_type": "code",
   "execution_count": null,
   "metadata": {
    "scrolled": true
   },
   "outputs": [],
   "source": [
    "clientes.indices"
   ]
  },
  {
   "cell_type": "markdown",
   "metadata": {},
   "source": [
    "* La siguiente celda regresará una serie en el que el índice corresponden a cada valor de agrupación y los valores corresponden al numero de elementos agrupados del objeto ```cliente```."
   ]
  },
  {
   "cell_type": "code",
   "execution_count": null,
   "metadata": {
    "scrolled": true
   },
   "outputs": [],
   "source": [
    "clientes.size()"
   ]
  },
  {
   "cell_type": "markdown",
   "metadata": {},
   "source": [
    "* La siguiente celda regresará un *dataframe* en el que el índice corresponden a cada valor de agrupación y los valores corresponden a la media estadística de los valores agrupados de cada columna restante del *dataset* original de ```clientes```.\n",
    "* El parámetro ```numeric_only=True``` le indica al método que aplique el cálculo sólo a aquellas columnas que contengan valores numéricos."
   ]
  },
  {
   "cell_type": "code",
   "execution_count": null,
   "metadata": {
    "scrolled": false
   },
   "outputs": [],
   "source": [
    "clientes.mean(numeric_only=True)"
   ]
  },
  {
   "cell_type": "markdown",
   "metadata": {},
   "source": [
    "* La siguiente celda aplicará el método ```mean()``` a ```clientes['monto']```."
   ]
  },
  {
   "cell_type": "code",
   "execution_count": null,
   "metadata": {
    "scrolled": true
   },
   "outputs": [],
   "source": [
    "clientes['monto'].mean(numeric_only=True)"
   ]
  },
  {
   "cell_type": "markdown",
   "metadata": {},
   "source": [
    "* La siguiente celda trazará un histograma a partir de los valores en la columna ```\"monto\"``` de cada elemento agrupado."
   ]
  },
  {
   "cell_type": "code",
   "execution_count": null,
   "metadata": {},
   "outputs": [],
   "source": [
    "clientes.hist(column=\"monto\")"
   ]
  },
  {
   "cell_type": "markdown",
   "metadata": {},
   "source": [
    "* La siguiente celda aplicará una función que divida a cada valor entre ```1000```."
   ]
  },
  {
   "cell_type": "code",
   "execution_count": null,
   "metadata": {},
   "outputs": [],
   "source": [
    "clientes['monto'].apply(func=lambda x: x / 100)"
   ]
  },
  {
   "cell_type": "markdown",
   "metadata": {},
   "source": [
    "<p style=\"text-align: center\"><a rel=\"license\" href=\"http://creativecommons.org/licenses/by/4.0/\"><img alt=\"Licencia Creative Commons\" style=\"border-width:0\" src=\"https://i.creativecommons.org/l/by/4.0/80x15.png\" /></a><br />Esta obra está bajo una <a rel=\"license\" href=\"http://creativecommons.org/licenses/by/4.0/\">Licencia Creative Commons Atribución 4.0 Internacional</a>.</p>\n",
    "<p style=\"text-align: center\">&copy; José Luis Chiquete Valdivieso. 2023.</p>"
   ]
  }
 ],
 "metadata": {
  "kernelspec": {
   "display_name": "Python 3 (ipykernel)",
   "language": "python",
   "name": "python3"
  },
  "language_info": {
   "codemirror_mode": {
    "name": "ipython",
    "version": 3
   },
   "file_extension": ".py",
   "mimetype": "text/x-python",
   "name": "python",
   "nbconvert_exporter": "python",
   "pygments_lexer": "ipython3",
   "version": "3.9.2"
  }
 },
 "nbformat": 4,
 "nbformat_minor": 2
}
