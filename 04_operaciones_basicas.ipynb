{
 "cells": [
  {
   "cell_type": "markdown",
   "metadata": {},
   "source": [
    "[![imagenes/pythonista.png](imagenes/pythonista.png)](https://pythonista.io)"
   ]
  },
  {
   "cell_type": "markdown",
   "metadata": {},
   "source": [
    "# Operaciones básicas con dataframes."
   ]
  },
  {
   "cell_type": "code",
   "execution_count": null,
   "metadata": {
    "scrolled": true
   },
   "outputs": [],
   "source": [
    "import pandas as pd\n",
    "import numpy as np"
   ]
  },
  {
   "cell_type": "markdown",
   "metadata": {},
   "source": [
    "## Broadcasting.\n",
    "\n",
    "Las series y dataframes de *Pandas* son compatibles con el broadcasting de los arreglos de *Numpy*."
   ]
  },
  {
   "cell_type": "markdown",
   "metadata": {},
   "source": [
    "**Ejemplo:**"
   ]
  },
  {
   "cell_type": "markdown",
   "metadata": {},
   "source": [
    "* Se creará un dataframe con el nombre ```datos``` usando una secuencia numérica."
   ]
  },
  {
   "cell_type": "code",
   "execution_count": null,
   "metadata": {
    "scrolled": true
   },
   "outputs": [],
   "source": [
    "datos = pd.DataFrame(np.arange(20).reshape(5,4), \n",
    "                     columns=('primero', 'segundo', 'tercero', 'cuarto'))"
   ]
  },
  {
   "cell_type": "code",
   "execution_count": null,
   "metadata": {
    "scrolled": false
   },
   "outputs": [],
   "source": [
    "datos"
   ]
  },
  {
   "cell_type": "markdown",
   "metadata": {},
   "source": [
    "* Se realizará una multiplicación a todos elementos cuyos índices estén en el intervalo ```[2:]```."
   ]
  },
  {
   "cell_type": "code",
   "execution_count": null,
   "metadata": {
    "scrolled": true
   },
   "outputs": [],
   "source": [
    "datos[2:] * 5"
   ]
  },
  {
   "cell_type": "markdown",
   "metadata": {},
   "source": [
    "* A continuación se realizará la misma opración, pero asignando el resultado a los elementos en ```datos[2:]```."
   ]
  },
  {
   "cell_type": "code",
   "execution_count": null,
   "metadata": {},
   "outputs": [],
   "source": [
    "datos[2:] = datos[2:] * 5"
   ]
  },
  {
   "cell_type": "code",
   "execution_count": null,
   "metadata": {},
   "outputs": [],
   "source": [
    "datos"
   ]
  },
  {
   "cell_type": "markdown",
   "metadata": {},
   "source": [
    "## Obtención de información con el método ```info()```."
   ]
  },
  {
   "cell_type": "markdown",
   "metadata": {},
   "source": [
    "Tanto los objetos de *Pandas* como los arreglos de *Numpy* son estructuras de datos distintas a los objetos de Python. Ambas bibliotecas fueron diseñadas para optimizar las operaciones de cálculo de algebra lineal y el uso optimizado de memoria para arreglos y dataframes de grandes dimensiones.\n",
    "\n",
    "El método ```info()``` permite extraer la información básica de una serie o un dataframe, incluiyendo el espacio que ocupa en memoria."
   ]
  },
  {
   "cell_type": "markdown",
   "metadata": {},
   "source": [
    "**Ejemplo:**"
   ]
  },
  {
   "cell_type": "code",
   "execution_count": null,
   "metadata": {},
   "outputs": [],
   "source": [
    "indice = ['gerente', 'supervisor', 'vendedor', 'cajero']\n",
    "personal = pd.DataFrame({'nombres':('Juan Pérez', \n",
    "                                    'María Sánchez', \n",
    "                                    'Jorge Vargas', \n",
    "                                    'Rodrigo Martínez'),\n",
    "            'fechas':(pd.datetime(1995,12,21), \n",
    "                      pd.datetime(1989,1,13), \n",
    "                      pd.datetime(1992,9,14), \n",
    "                      pd.datetime(1993,7,8)),\n",
    "            'saldo': (2500, \n",
    "                      5345, \n",
    "                      np.NaN, \n",
    "                      11323.2),\n",
    "            'al corriente':(True, \n",
    "                            True, \n",
    "                            False, \n",
    "                            True)}, \n",
    "            index=indice)"
   ]
  },
  {
   "cell_type": "code",
   "execution_count": null,
   "metadata": {},
   "outputs": [],
   "source": [
    "personal"
   ]
  },
  {
   "cell_type": "code",
   "execution_count": null,
   "metadata": {},
   "outputs": [],
   "source": [
    "personal.info()"
   ]
  },
  {
   "cell_type": "markdown",
   "metadata": {},
   "source": [
    "## Métodos para definir elementos en un dataframe.\n",
    "\n",
    "Además de los corchetes, *Pandas* cuenta con los siguientes métodos para identificar elementos dentro de un datafarame.\n",
    "\n",
    "**Nota:** Hasta la versión 0.20.0 de *Pandas* se podía utilizar el método ```ix```, pero este ha sido desechado y se considera obsoleto, por lo que no se documentará al respecto."
   ]
  },
  {
   "cell_type": "markdown",
   "metadata": {},
   "source": [
    "### El método ```iloc[ ]```.\n",
    "\n",
    "El método ```iloc[ ]``` permite identificar a uno o más elemento dentro de un renglón de un dataframe utilizando números enteros para referenciar tanto al índice como a las columnas.\n",
    "\n",
    "Cabe hacer notar que el método ```iloc[ ]``` no usa paréntesis, sino corchetes.\n",
    "\n",
    "```\n",
    "<dataframe>.iloc[<indice>,[<indices de encabezado 1>, <indices de encabezado 1>, ... <indices de encabezado n>]]\n",
    "```\n",
    "\n",
    "El resultado será una serie de *Pandas*.\n",
    "\n",
    "En caso de que no se definan columnas, traerá todas las columnas del renglón."
   ]
  },
  {
   "cell_type": "markdown",
   "metadata": {},
   "source": [
    "**Ejemplo:**"
   ]
  },
  {
   "cell_type": "markdown",
   "metadata": {},
   "source": [
    "* Se definirá el dataframe ```datos```."
   ]
  },
  {
   "cell_type": "code",
   "execution_count": null,
   "metadata": {},
   "outputs": [],
   "source": [
    "datos = pd.DataFrame(np.arange(20).reshape(5, 4), \n",
    "                     columns=('primero', 'segundo', 'tercero', 'cuarto'))"
   ]
  },
  {
   "cell_type": "code",
   "execution_count": null,
   "metadata": {
    "scrolled": true
   },
   "outputs": [],
   "source": [
    "datos"
   ]
  },
  {
   "cell_type": "markdown",
   "metadata": {},
   "source": [
    "* Se seleccionará al elemento localizado en el tercer renglón (```[2]```) y la cuarta columna (```[3]```)."
   ]
  },
  {
   "cell_type": "code",
   "execution_count": null,
   "metadata": {},
   "outputs": [],
   "source": [
    "datos.iloc[2,[3]]"
   ]
  },
  {
   "cell_type": "markdown",
   "metadata": {},
   "source": [
    "* El resultado es una serie."
   ]
  },
  {
   "cell_type": "code",
   "execution_count": null,
   "metadata": {},
   "outputs": [],
   "source": [
    "type(datos.iloc[2,[3]])"
   ]
  },
  {
   "cell_type": "markdown",
   "metadata": {},
   "source": [
    "* La siguiente celda utilizará el método ```iloc[]```, el cual regresará una serie con los elementos de las columnas ```2```, ```1``` y ```3```del tercer renglón (```[2]```)."
   ]
  },
  {
   "cell_type": "code",
   "execution_count": null,
   "metadata": {},
   "outputs": [],
   "source": [
    "datos.iloc[2,[2, 1, 3]]"
   ]
  },
  {
   "cell_type": "code",
   "execution_count": null,
   "metadata": {},
   "outputs": [],
   "source": [
    "type(datos.iloc[2,[2, 1, 3]])"
   ]
  },
  {
   "cell_type": "markdown",
   "metadata": {},
   "source": [
    "* La siguiente celda utilizará el método ```iloc[]```, el cual regresará una serie con los elementos de las columnas ```0```, ```1```, ```2``` y ```2``` del tercer renglón (```[2]```)."
   ]
  },
  {
   "cell_type": "code",
   "execution_count": null,
   "metadata": {},
   "outputs": [],
   "source": [
    "datos.iloc[2,[0, 1, 2, 2]]"
   ]
  },
  {
   "cell_type": "code",
   "execution_count": null,
   "metadata": {},
   "outputs": [],
   "source": [
    "datos.iloc[2]"
   ]
  },
  {
   "cell_type": "markdown",
   "metadata": {},
   "source": [
    "* La siguiente celda hace referencia a más de un índice, lo cual no está permitido y se generará un error de tipo ```IndexingError```."
   ]
  },
  {
   "cell_type": "code",
   "execution_count": null,
   "metadata": {},
   "outputs": [],
   "source": [
    "datos.iloc[2, 3,[0, 1, 2]]"
   ]
  },
  {
   "cell_type": "markdown",
   "metadata": {},
   "source": [
    "### El método ```loc[ ]```.\n",
    "\n",
    "El método ```loc[ ]``` permite identificar a uno o más elemento dentro de un renglón de un dataframe utilizando los identificadores para referenciar tanto al índice como a las columnas.\n",
    "\n",
    "Cabe hacer notar que el método ```loc[ ]``` no usa paréntesis, sino corchetes.\n",
    "\n",
    "```\n",
    "<dataframe>.loc[<identificador de indice>,[<identificador de encabezado 1>, <identificador de encabezado 2>, ... <identificador de encabezado n>]]\n",
    "```\n",
    "\n",
    "El resultado será una serie de *Pandas*.\n",
    "\n",
    "En caso de no definir columnas, traerá todos los elementos del renglón."
   ]
  },
  {
   "cell_type": "markdown",
   "metadata": {},
   "source": [
    "**Ejemplo:**"
   ]
  },
  {
   "cell_type": "markdown",
   "metadata": {},
   "source": [
    "* Se creará al dataframe ```personal```."
   ]
  },
  {
   "cell_type": "code",
   "execution_count": null,
   "metadata": {},
   "outputs": [],
   "source": [
    "indice = ['gerente', 'supervisor', 'vendedor', 'cajero']\n",
    "personal = pd.DataFrame({'nombres':('Juan Pérez', \n",
    "                                    'María Sánchez', \n",
    "                                    'Jorge Vargas', \n",
    "                                    'Rodrigo Martínez'),\n",
    "            'fechas':(pd.datetime(1995,12,21), \n",
    "                      pd.datetime(1989,1,13), \n",
    "                      pd.datetime(1992,9,14), \n",
    "                      pd.datetime(1993,7,8)),\n",
    "            'saldo': (2500, \n",
    "                      5345, \n",
    "                      np.NaN, \n",
    "                      11323.2),\n",
    "            'al corriente':(True, \n",
    "                            True, \n",
    "                            False, \n",
    "                            True)}, \n",
    "            index=indice)"
   ]
  },
  {
   "cell_type": "code",
   "execution_count": null,
   "metadata": {},
   "outputs": [],
   "source": [
    "personal"
   ]
  },
  {
   "cell_type": "markdown",
   "metadata": {},
   "source": [
    "* La sigujiente celda utilizará el método ```iloc[]```, el cual regresará una serie que contiene el elemento correspondiente a la celda con índice ```'supervisor'``` y a la columna ```'fechas'```."
   ]
  },
  {
   "cell_type": "code",
   "execution_count": null,
   "metadata": {},
   "outputs": [],
   "source": [
    "personal.loc[\"supervisor\", [\"fechas\"]]"
   ]
  },
  {
   "cell_type": "markdown",
   "metadata": {},
   "source": [
    "* La sigujiente celda utilizará el método ```iloc[]```, el cual regresará una serie que contiene el elemento correspondiente a las celdas correspondientes a las columnas ```fechas``` y ```'nombres'``` del renglón con índice ```'gerente'```."
   ]
  },
  {
   "cell_type": "code",
   "execution_count": null,
   "metadata": {},
   "outputs": [],
   "source": [
    "personal.loc[\"gerente\", [\"fechas\", \"nombres\"]]"
   ]
  },
  {
   "cell_type": "markdown",
   "metadata": {},
   "source": [
    "* La siguiente celda generará una excepción de tipo ```TypeError```."
   ]
  },
  {
   "cell_type": "code",
   "execution_count": null,
   "metadata": {},
   "outputs": [],
   "source": [
    "personal.loc[1, [\"fechas\", \"nombres\"]]"
   ]
  },
  {
   "cell_type": "markdown",
   "metadata": {},
   "source": [
    "#### Selección de elementos usando operadores lógicos con el método ```loc[ ]```.\n",
    "\n",
    "El métódo permite realizar búsquedas de datos dentro de una columna del dataframe usando expresiones lógicas.\n",
    "\n",
    "```\n",
    "<dataframe.loc[<columna del dataframe> <operador> <valor>] \n",
    "```"
   ]
  },
  {
   "cell_type": "code",
   "execution_count": null,
   "metadata": {},
   "outputs": [],
   "source": [
    "personal"
   ]
  },
  {
   "cell_type": "code",
   "execution_count": null,
   "metadata": {},
   "outputs": [],
   "source": [
    "personal.loc[personal[\"saldo\"] > 3000]"
   ]
  },
  {
   "cell_type": "code",
   "execution_count": null,
   "metadata": {},
   "outputs": [],
   "source": [
    "personal.loc[personal[\"al corriente\"]]"
   ]
  },
  {
   "cell_type": "code",
   "execution_count": null,
   "metadata": {},
   "outputs": [],
   "source": [
    "personal.loc[personal[\"al corriente\"] == False]"
   ]
  },
  {
   "cell_type": "markdown",
   "metadata": {},
   "source": [
    "### El método ```iat[ ]```.\n",
    "\n",
    "El método ```iat[ ]``` permite identificar a un único elemento dentro de un dataframe mediante su posición expresada de la siguiente manera con números enteros.\n",
    "\n",
    "```\n",
    "<dataframe>.iat[<índice del índice>, <índice de la columna>]\n",
    "```\n",
    "\n",
    "A diferencia de ```iloc[ ]```, sólamente acepta un índice de columna.\n",
    "\n",
    "El resultado es un valor."
   ]
  },
  {
   "cell_type": "markdown",
   "metadata": {},
   "source": [
    "**Ejemplo:**"
   ]
  },
  {
   "cell_type": "code",
   "execution_count": null,
   "metadata": {},
   "outputs": [],
   "source": [
    "personal"
   ]
  },
  {
   "cell_type": "code",
   "execution_count": null,
   "metadata": {
    "scrolled": true
   },
   "outputs": [],
   "source": [
    "personal.iat[1, 1]"
   ]
  },
  {
   "cell_type": "markdown",
   "metadata": {},
   "source": [
    "### El método ```at[ ]```.\n",
    "\n",
    "\n",
    "El método ```at[ ]``` permite identificar a un único elemento dentro de un dataframe mediante su posición expresada mediante los identificadores correspondientes.\n",
    "\n",
    "```\n",
    "<dataframe>.at[<identificador del índice>, <ídentificador de la columna>]\n",
    "```\n",
    "\n",
    "A diferencia de ```loc[ ]```, sólamente acepta un índice de columna.\n",
    "\n",
    "El resultado es un valor."
   ]
  },
  {
   "cell_type": "markdown",
   "metadata": {},
   "source": [
    "**Ejemplos:**"
   ]
  },
  {
   "cell_type": "code",
   "execution_count": null,
   "metadata": {},
   "outputs": [],
   "source": [
    "personal.at[\"gerente\", \"saldo\" ]"
   ]
  },
  {
   "cell_type": "code",
   "execution_count": null,
   "metadata": {},
   "outputs": [],
   "source": [
    "personal.loc[\"gerente\", [\"saldo\", \"nombres\" ]]"
   ]
  },
  {
   "cell_type": "code",
   "execution_count": null,
   "metadata": {
    "scrolled": true
   },
   "outputs": [],
   "source": [
    "personal.at[\"gerente\", [\"saldo\", \"nombres\" ]]"
   ]
  },
  {
   "cell_type": "markdown",
   "metadata": {},
   "source": [
    "## El atributo ```shape```."
   ]
  },
  {
   "cell_type": "code",
   "execution_count": null,
   "metadata": {},
   "outputs": [],
   "source": [
    "personal.shape"
   ]
  },
  {
   "cell_type": "markdown",
   "metadata": {},
   "source": [
    "## El atributo ```columns```."
   ]
  },
  {
   "cell_type": "code",
   "execution_count": null,
   "metadata": {},
   "outputs": [],
   "source": [
    "personal.columns"
   ]
  },
  {
   "cell_type": "code",
   "execution_count": null,
   "metadata": {},
   "outputs": [],
   "source": [
    "nuevas_columnas = pd.core.indexes.base.Index([\"NOMBRE\",\n",
    "                                                 \"FECHA\",\n",
    "                                                 \"SALDO\",\n",
    "                                                \"AL CORRIENTE\"])"
   ]
  },
  {
   "cell_type": "code",
   "execution_count": null,
   "metadata": {},
   "outputs": [],
   "source": [
    "personal.columns = nuevas_columnas"
   ]
  },
  {
   "cell_type": "code",
   "execution_count": null,
   "metadata": {},
   "outputs": [],
   "source": [
    "personal"
   ]
  },
  {
   "cell_type": "markdown",
   "metadata": {},
   "source": [
    "## El atributo ```index```."
   ]
  },
  {
   "cell_type": "code",
   "execution_count": null,
   "metadata": {},
   "outputs": [],
   "source": [
    "personal.index"
   ]
  },
  {
   "cell_type": "code",
   "execution_count": null,
   "metadata": {},
   "outputs": [],
   "source": [
    "nuevos_indices = pd.core.indexes.base.Index([\"Admin\",\n",
    "                                                 \"Colaborador 1\",\n",
    "                                                 \"Colaborador 2\",\n",
    "                                                \"Colaborador 3\"])"
   ]
  },
  {
   "cell_type": "code",
   "execution_count": null,
   "metadata": {},
   "outputs": [],
   "source": [
    "personal.index = nuevos_indices"
   ]
  },
  {
   "cell_type": "code",
   "execution_count": null,
   "metadata": {},
   "outputs": [],
   "source": [
    "personal"
   ]
  },
  {
   "cell_type": "markdown",
   "metadata": {},
   "source": [
    "## El método ```set_index()```."
   ]
  },
  {
   "cell_type": "code",
   "execution_count": null,
   "metadata": {},
   "outputs": [],
   "source": [
    "poblacion = pd.DataFrame({\n",
    "    'cuervo':[12, 25, 33, 10],\n",
    "    'puma':[3, 5, 2, 2],\n",
    "    'lechuza':[11, 9, 22, 2],\n",
    "    'venado':[45, 60, 8, 13],\n",
    "    'Región':['Norte', 'Sur', 'Este', 'Oeste']})"
   ]
  },
  {
   "cell_type": "code",
   "execution_count": null,
   "metadata": {},
   "outputs": [],
   "source": [
    "poblacion"
   ]
  },
  {
   "cell_type": "code",
   "execution_count": null,
   "metadata": {},
   "outputs": [],
   "source": [
    "poblacion.set_index('Región')"
   ]
  },
  {
   "cell_type": "markdown",
   "metadata": {},
   "source": [
    "## El método ```reindex()```.\n",
    "\n",
    "El método ```reindex()``` perimite realizar combinaciones de renglones utilizando los índices de un dataframe.\n",
    "\n",
    "```\n",
    "<dataframe>.reindex(<índice 1>, <índice 2>, ... ,<índice n>)\n",
    "```\n",
    "\n",
    "**Nota:** Este método permite repetir índices."
   ]
  },
  {
   "cell_type": "markdown",
   "metadata": {},
   "source": [
    "**Ejemplo:**"
   ]
  },
  {
   "cell_type": "code",
   "execution_count": null,
   "metadata": {},
   "outputs": [],
   "source": [
    "personal"
   ]
  },
  {
   "cell_type": "code",
   "execution_count": null,
   "metadata": {},
   "outputs": [],
   "source": [
    "personal.reindex((\"gerente\", \"supervisor\", \"supervisor\"))"
   ]
  },
  {
   "cell_type": "markdown",
   "metadata": {},
   "source": [
    "## El método ```memory_usage()```."
   ]
  },
  {
   "cell_type": "code",
   "execution_count": null,
   "metadata": {},
   "outputs": [],
   "source": [
    "personal.memory_usage()"
   ]
  },
  {
   "cell_type": "markdown",
   "metadata": {},
   "source": [
    "<p style=\"text-align: center\"><a rel=\"license\" href=\"http://creativecommons.org/licenses/by/4.0/\"><img alt=\"Licencia Creative Commons\" style=\"border-width:0\" src=\"https://i.creativecommons.org/l/by/4.0/80x15.png\" /></a><br />Esta obra está bajo una <a rel=\"license\" href=\"http://creativecommons.org/licenses/by/4.0/\">Licencia Creative Commons Atribución 4.0 Internacional</a>.</p>\n",
    "<p style=\"text-align: center\">&copy; José Luis Chiquete Valdivieso. 2019.</p>"
   ]
  }
 ],
 "metadata": {
  "kernelspec": {
   "display_name": "Python 3",
   "language": "python",
   "name": "python3"
  },
  "language_info": {
   "codemirror_mode": {
    "name": "ipython",
    "version": 3
   },
   "file_extension": ".py",
   "mimetype": "text/x-python",
   "name": "python",
   "nbconvert_exporter": "python",
   "pygments_lexer": "ipython3",
   "version": "3.7.3"
  }
 },
 "nbformat": 4,
 "nbformat_minor": 2
}
