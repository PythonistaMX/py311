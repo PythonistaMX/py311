{
 "cells": [
  {
   "cell_type": "markdown",
   "metadata": {},
   "source": [
    "[![img/pythonista.png](img/pythonista.png)](https://www.pythonista.io)"
   ]
  },
  {
   "cell_type": "markdown",
   "metadata": {},
   "source": [
    "# Operaciones básicas con dataframes."
   ]
  },
  {
   "cell_type": "code",
   "execution_count": null,
   "metadata": {
    "scrolled": true
   },
   "outputs": [],
   "source": [
    "import pandas as pd\n",
    "import numpy as np\n",
    "from datetime import datetime"
   ]
  },
  {
   "cell_type": "markdown",
   "metadata": {},
   "source": [
    "## *Broadcasting*.\n",
    "\n",
    "Las series y *dataframes* de *Pandas* son compatibles con el *broadcasting* de los arreglos de *Numpy*."
   ]
  },
  {
   "cell_type": "markdown",
   "metadata": {},
   "source": [
    "**Ejemplo:**"
   ]
  },
  {
   "cell_type": "markdown",
   "metadata": {},
   "source": [
    "* Se creará un *dataframe* con el nombre ```datos``` usando un arreglo de *Numpy* que contiene una secuencia numérica de ```0``` a ```19```con la forma ```(5, 4)```.  Los títulos de las columnas corresponden a  ```'primero'```, ```'segundo'```, ```'tercero'``` y ```'cuarto'```."
   ]
  },
  {
   "cell_type": "code",
   "execution_count": null,
   "metadata": {
    "scrolled": true
   },
   "outputs": [],
   "source": [
    "datos = pd.DataFrame(np.arange(20).reshape(5, 4), \n",
    "                     columns=('primero', \n",
    "                              'segundo', \n",
    "                              'tercero', \n",
    "                              'cuarto'))"
   ]
  },
  {
   "cell_type": "code",
   "execution_count": null,
   "metadata": {
    "scrolled": false
   },
   "outputs": [],
   "source": [
    "datos"
   ]
  },
  {
   "cell_type": "markdown",
   "metadata": {},
   "source": [
    "* La siguiente celda regresará un *datafame* correspondiente a los índices ```datos[2:]``` en el que cada uno de sus elementos será multiplicado por ```5```."
   ]
  },
  {
   "cell_type": "code",
   "execution_count": null,
   "metadata": {},
   "outputs": [],
   "source": [
    "datos[2:]"
   ]
  },
  {
   "cell_type": "code",
   "execution_count": null,
   "metadata": {
    "scrolled": true
   },
   "outputs": [],
   "source": [
    "datos[2:] * 5"
   ]
  },
  {
   "cell_type": "markdown",
   "metadata": {},
   "source": [
    "* A continuación se realizará la misma operación, pero asignando el resultado a los elementos en ```datos[2:]```."
   ]
  },
  {
   "cell_type": "code",
   "execution_count": null,
   "metadata": {},
   "outputs": [],
   "source": [
    "datos"
   ]
  },
  {
   "cell_type": "code",
   "execution_count": null,
   "metadata": {},
   "outputs": [],
   "source": [
    "datos[2:] = datos[2:] * 5"
   ]
  },
  {
   "cell_type": "code",
   "execution_count": null,
   "metadata": {
    "scrolled": true
   },
   "outputs": [],
   "source": [
    "datos"
   ]
  },
  {
   "cell_type": "markdown",
   "metadata": {},
   "source": [
    "## Un *dataframe* ilustrativo."
   ]
  },
  {
   "cell_type": "markdown",
   "metadata": {},
   "source": [
    "La siguiente celda creará al *dataframe* con nombre ```personal``` con las siguientes características:\n",
    "\n",
    "   * Está conformado por las columnas: ```'nombres'```, ```'fechas'```, ```'saldo'``` y ```'al corriente'```.\n",
    "\n",
    "   * Los índices corresponden a: ```'gerente'```, ```'supervisor'```. ```'vendedor'``` y ```'cajero'```."
   ]
  },
  {
   "cell_type": "code",
   "execution_count": null,
   "metadata": {},
   "outputs": [],
   "source": [
    "indice = ['gerente', 'supervisor', 'vendedor', 'cajero']\n",
    "personal = pd.DataFrame({'nombres':('Juan Pérez', \n",
    "                                    'María Sánchez', \n",
    "                                    'Jorge Vargas', \n",
    "                                    'Rodrigo Martínez'),\n",
    "            'fechas':(datetime(1995,12,21), \n",
    "                      datetime(1989,1,13), \n",
    "                      datetime(1992,9,14), \n",
    "                      datetime(1993,7,8)),\n",
    "            'saldo': (2500, \n",
    "                      5345, \n",
    "                      np.NaN, \n",
    "                      11323.2),\n",
    "            'al corriente':(True, \n",
    "                            True, \n",
    "                            False, \n",
    "                            True)}, \n",
    "            index=indice)"
   ]
  },
  {
   "cell_type": "code",
   "execution_count": null,
   "metadata": {
    "scrolled": true
   },
   "outputs": [],
   "source": [
    "personal"
   ]
  },
  {
   "cell_type": "markdown",
   "metadata": {},
   "source": [
    "## Atributos y métodos sobre la estructura de los *dataframes* de *Pandas*."
   ]
  },
  {
   "cell_type": "markdown",
   "metadata": {},
   "source": [
    "Tanto los objetos de *Pandas* como los arreglos de *Numpy* son estructuras de datos distintas a los objetos de *Python*. Ambas bibliotecas fueron diseñadas para optimizar las operaciones de cálculo de algebra lineal y el uso optimizado de memoria para arreglos y *dataframes* de grandes dimensiones."
   ]
  },
  {
   "cell_type": "markdown",
   "metadata": {},
   "source": [
    "### El atributo ```pd.DataFrame.shape```.\n",
    "\n",
    "Este atributo contiene los datos de las dimensiones de un *dataframe* de *Pandas* descritas en una tupla en la que el primer elemento corresponde al eje ```0``` (los renglones) y el segundo elemento corresponde al eje ```1``` (las columnas).\n",
    "\n",
    "La documentación del atributo ```pd.DataFrame.shape``` puede ser consultada en:\n",
    "\n",
    "https://pandas.pydata.org/pandas-docs/stable/reference/api/pandas.DataFrame.shape.html"
   ]
  },
  {
   "cell_type": "markdown",
   "metadata": {},
   "source": [
    "**Ejemplo:**"
   ]
  },
  {
   "cell_type": "markdown",
   "metadata": {},
   "source": [
    "* La siguiente celda regresará las dimensiones del *dataframe* ```personal```."
   ]
  },
  {
   "cell_type": "code",
   "execution_count": null,
   "metadata": {
    "scrolled": true
   },
   "outputs": [],
   "source": [
    "personal.shape"
   ]
  },
  {
   "cell_type": "markdown",
   "metadata": {},
   "source": [
    "### El atributo ```pd.DataFrame.index```.\n",
    "\n",
    "Este atributo es un objeto de tipo ```pd.Index```, el cual contiene al índice del *dataframe*.\n",
    "\n",
    "La documentación del atributo ```pd.DataFrame.index``` puede ser consultada en:\n",
    "\n",
    "https://pandas.pydata.org/pandas-docs/stable/reference/api/pandas.DataFrame.index.html"
   ]
  },
  {
   "cell_type": "markdown",
   "metadata": {},
   "source": [
    "**Ejemplo:**"
   ]
  },
  {
   "cell_type": "markdown",
   "metadata": {},
   "source": [
    "* La siguiente celda regresará el atributo ```index``` del *dataframe* ```personal```."
   ]
  },
  {
   "cell_type": "code",
   "execution_count": null,
   "metadata": {},
   "outputs": [],
   "source": [
    "personal.index"
   ]
  },
  {
   "cell_type": "code",
   "execution_count": null,
   "metadata": {
    "scrolled": false
   },
   "outputs": [],
   "source": [
    "type(personal.index)"
   ]
  },
  {
   "cell_type": "markdown",
   "metadata": {},
   "source": [
    "### El atributo ```pd.DataFrame.columns```.\n",
    "\n",
    "Este atributo es un objeto de tipo ```pd.Index```, el cual contiene a los encabezados de las columnas del *dataframe*.\n",
    "\n",
    "La documentación del atributo ```pd.DataFrame.columns``` puede ser consultada en:\n",
    "\n",
    "https://pandas.pydata.org/pandas-docs/stable/reference/api/pandas.DataFrame.columns.html"
   ]
  },
  {
   "cell_type": "markdown",
   "metadata": {},
   "source": [
    "**Ejemplo:**"
   ]
  },
  {
   "cell_type": "markdown",
   "metadata": {},
   "source": [
    "* La siguiente celda regresará el atributo ```columns``` del *dataframe* ```personal```."
   ]
  },
  {
   "cell_type": "code",
   "execution_count": null,
   "metadata": {},
   "outputs": [],
   "source": [
    "personal.columns"
   ]
  },
  {
   "cell_type": "code",
   "execution_count": null,
   "metadata": {
    "scrolled": true
   },
   "outputs": [],
   "source": [
    "type(personal.columns)"
   ]
  },
  {
   "cell_type": "markdown",
   "metadata": {},
   "source": [
    "### El método ```pd.DataFrame.info()```.\n",
    "\n",
    "El método ```pd.DataFrame.info()``` permite extraer la información básica de una serie o un *dataframe*, incluyendo el espacio que ocupa en memoria.\n",
    "\n",
    "```\n",
    "<objeto>.info()\n",
    "```\n",
    "\n",
    "Donde:\n",
    "\n",
    "* ```<objeto>``` es un *dataframe* o una serie de *Pandas*.\n",
    "\n",
    "La documentación del método ```pd.DataFrame.info()``` puede ser consultada en:\n",
    "\n",
    "https://pandas.pydata.org/pandas-docs/stable/reference/api/pandas.DataFrame.info.html"
   ]
  },
  {
   "cell_type": "markdown",
   "metadata": {},
   "source": [
    "* La siguiente celda regresará la información relativa al *dataframe* ```personal``` usando el método ```info()```."
   ]
  },
  {
   "cell_type": "code",
   "execution_count": null,
   "metadata": {
    "scrolled": true
   },
   "outputs": [],
   "source": [
    "personal.info()"
   ]
  },
  {
   "cell_type": "markdown",
   "metadata": {},
   "source": [
    "### El método ```pd.DataFrame.memory_usage()```.\n",
    "\n",
    "El método ```pd.DataFrame.memory_usage()``` regresa una serie que describe el espacio que ocupa en memoria cada columna de un *dataframe*.\n",
    "\n",
    "```\n",
    "df.memory_usage()\n",
    "```\n",
    "La documentación del método ```pd.DataFrame.memory_usage()``` puede ser consultada en:\n",
    "\n",
    "https://pandas.pydata.org/pandas-docs/stable/reference/api/pandas.DataFrame.memory_usage.html"
   ]
  },
  {
   "cell_type": "code",
   "execution_count": null,
   "metadata": {},
   "outputs": [],
   "source": [
    "personal.memory_usage()"
   ]
  },
  {
   "cell_type": "markdown",
   "metadata": {},
   "source": [
    "### El método ```pd.Dataframe.copy()```.\n",
    "\n",
    "El método ```pd.Dataframe.copy()``` regresa una copia idéntica de un *dataframe*.\n",
    "\n",
    "```\n",
    "df.copy()\n",
    "```"
   ]
  },
  {
   "cell_type": "markdown",
   "metadata": {},
   "source": [
    "**Ejemplo:**"
   ]
  },
  {
   "cell_type": "markdown",
   "metadata": {},
   "source": [
    "* La siguiente celda le asignará al *dataframe* llamado ```personal``` el nombre ```otro_personal```."
   ]
  },
  {
   "cell_type": "code",
   "execution_count": null,
   "metadata": {},
   "outputs": [],
   "source": [
    "otro_personal = personal"
   ]
  },
  {
   "cell_type": "markdown",
   "metadata": {},
   "source": [
    "Tanto ```personal``` como ```otro_personal``` corresponden al mismo objeto."
   ]
  },
  {
   "cell_type": "code",
   "execution_count": null,
   "metadata": {
    "scrolled": true
   },
   "outputs": [],
   "source": [
    "otro_personal is personal"
   ]
  },
  {
   "cell_type": "markdown",
   "metadata": {},
   "source": [
    "* La siguiente celda creará una copia del *dataframe* ```personal``` y le asignará el nombre ```nuevo_personal```."
   ]
  },
  {
   "cell_type": "code",
   "execution_count": null,
   "metadata": {},
   "outputs": [],
   "source": [
    "nuevo_personal = personal.copy()"
   ]
  },
  {
   "cell_type": "code",
   "execution_count": null,
   "metadata": {
    "scrolled": false
   },
   "outputs": [],
   "source": [
    "nuevo_personal"
   ]
  },
  {
   "cell_type": "markdown",
   "metadata": {},
   "source": [
    "* Aún cuando los *dataframes* ```personal``` y ```nuevo_personal``` contienen elementos idénticos, son objetos distintos."
   ]
  },
  {
   "cell_type": "code",
   "execution_count": null,
   "metadata": {},
   "outputs": [],
   "source": [
    "nuevo_personal is personal"
   ]
  },
  {
   "cell_type": "markdown",
   "metadata": {},
   "source": [
    "### El método ```pd.DataFrame.reset_index()```.\n",
    "\n",
    "Este método regresará un *dataframe* el cual sustituirá a los índices del *dataframe* original con valores numéricos y creará una nueva columna con el identificador ```index``` conteniendo a los identificadores sustituidos.\n",
    "\n",
    "```\n",
    "df.reset_index()\n",
    "```\n",
    "\n",
    "La documentación del método ```pd.DataFrame.reset_index()``` puede ser consultada en:\n",
    "\n",
    "https://pandas.pydata.org/pandas-docs/stable/reference/api/pandas.DataFrame.reset_index.html"
   ]
  },
  {
   "cell_type": "markdown",
   "metadata": {},
   "source": [
    "**Ejemplo:**"
   ]
  },
  {
   "cell_type": "markdown",
   "metadata": {},
   "source": [
    "* La siguiente celda regresará un dataframe aplicando el método ```reset_index()``` a partir del *dataframe* ```personal```."
   ]
  },
  {
   "cell_type": "code",
   "execution_count": null,
   "metadata": {
    "scrolled": true
   },
   "outputs": [],
   "source": [
    "personal.reset_index()"
   ]
  },
  {
   "cell_type": "markdown",
   "metadata": {},
   "source": [
    "### El parámetro ```inplace```.\n",
    "\n",
    "Los métodos que modifican la estructura de un *dataframe* generalmente regresan un nuevo *dataframe* con los cambios aplicados. El parámetro ```inplace``` permite modificar este comportamiento.\n",
    "\n",
    "```\n",
    "df.<método>(<args>, inplace=<booleano>)\n",
    "```\n",
    "\n",
    "Donde:\n",
    "\n",
    "* ```<método>``` es un objeto que manipula la estructura de un *dataframe*.\n",
    "* ```<args>``` corresponde al resto de los argumentos del métodos.\n",
    "* ```<booleano>``` es un valor booleano.\n",
    "    * El argumento ```inplace=False```, indica que el método regresará un nuevo *dataframe* con las modificaciones realizadas. Este es el argumento por defecto.\n",
    "    * El argumento ```inplace=True```, indica que los cambios realizados por el método se aplicarán al objeto que contiene al método.\n"
   ]
  },
  {
   "cell_type": "markdown",
   "metadata": {},
   "source": [
    "**Ejemplo:**"
   ]
  },
  {
   "cell_type": "markdown",
   "metadata": {},
   "source": [
    "* Se utilizará al *dataframe* ```nuevo_personal```, definido previamente."
   ]
  },
  {
   "cell_type": "code",
   "execution_count": null,
   "metadata": {},
   "outputs": [],
   "source": [
    "nuevo_personal"
   ]
  },
  {
   "cell_type": "markdown",
   "metadata": {},
   "source": [
    "* La siguiente celda aplicará los cambios del método ```personal.reset_index()``` directamente al *dataframe* ```nuevo_personal```. El método no regresará nada."
   ]
  },
  {
   "cell_type": "code",
   "execution_count": null,
   "metadata": {},
   "outputs": [],
   "source": [
    "nuevo_personal.reset_index(inplace=True)"
   ]
  },
  {
   "cell_type": "markdown",
   "metadata": {},
   "source": [
    "* El *dataframe* ```nuevo_personal``` fue modificado."
   ]
  },
  {
   "cell_type": "code",
   "execution_count": null,
   "metadata": {},
   "outputs": [],
   "source": [
    "nuevo_personal"
   ]
  },
  {
   "cell_type": "markdown",
   "metadata": {},
   "source": [
    "### El método ```pd.DataFrame.set_index()```. \n",
    "\n",
    "El método ```pd.DataFrame.set_index()``` regresa un *dataframe* en el que el índice del *dataframe* original es sustituido por la columna correspondiente al identificador ingresado como argumento.\n",
    "\n",
    "\n",
    "```\n",
    "df.set_index(<columna>)\n",
    "```\n",
    "\n",
    "Donde:\n",
    "\n",
    "* ```<columna>``` es un objeto de tipo ```str``` correspondiente al identificador de la columna que será el nuevo índice.\n",
    "\n",
    "**Nota:** El nuevo índice se insertará en un nivel adicional al original. Los índices múltiples se explorarán en capítulos adicionales.\n",
    "\n",
    "La documentación del método ```pd.DataFrame.set_index()``` puede ser consultada en:\n",
    "\n",
    "https://pandas.pydata.org/pandas-docs/stable/reference/api/pandas.DataFrame.set_index.html"
   ]
  },
  {
   "cell_type": "markdown",
   "metadata": {},
   "source": [
    "**Ejemplo:**"
   ]
  },
  {
   "cell_type": "markdown",
   "metadata": {},
   "source": [
    "* Se utilizará el *dataframe* ```personal```, definido previamente."
   ]
  },
  {
   "cell_type": "code",
   "execution_count": null,
   "metadata": {},
   "outputs": [],
   "source": [
    "personal"
   ]
  },
  {
   "cell_type": "markdown",
   "metadata": {},
   "source": [
    "* La siguiente celda regresará un *dataframe* cuyo índice será la columna ```'nombres'``` del *dataframe* ```personal```."
   ]
  },
  {
   "cell_type": "code",
   "execution_count": null,
   "metadata": {},
   "outputs": [],
   "source": [
    "personal.set_index('nombres')"
   ]
  },
  {
   "cell_type": "code",
   "execution_count": null,
   "metadata": {},
   "outputs": [],
   "source": [
    "personal.set_index('nombres').columns"
   ]
  },
  {
   "cell_type": "code",
   "execution_count": null,
   "metadata": {},
   "outputs": [],
   "source": [
    "personal.set_index('nombres').index"
   ]
  },
  {
   "cell_type": "markdown",
   "metadata": {},
   "source": [
    "### El método ```pd.DataFrame.reindex()```.\n",
    "\n",
    "El método ```reindex()``` regresa un *dataframe* conformado por los índices cuyos identificadores coincidan con los elementos de un objeto de tipo ```tuple``` ingresado como argumento.\n",
    "\n",
    "```\n",
    "df.reindex((<índice 1>, <índice 2>, ... ,<índice n>))\n",
    "```\n",
    "\n",
    "Donde:\n",
    "\n",
    "* Cada ```<índice i>``` es un objeto de tipo ```str``` correspondiente al identificador de un índice del *dataframe*.\n",
    "\n",
    "**Nota:** Este método permite repetir índices.\n",
    "\n",
    "La documentación del método ```pd.DataFrame.reindex()``` puede ser consultada en:\n",
    "\n",
    "https://pandas.pydata.org/pandas-docs/stable/reference/api/pandas.DataFrame.reindex.html"
   ]
  },
  {
   "cell_type": "markdown",
   "metadata": {},
   "source": [
    "**Ejemplo:**"
   ]
  },
  {
   "cell_type": "markdown",
   "metadata": {},
   "source": [
    "La siguente celda regresará un *dataframe* creado a partir del *dataframe* ```personal``` cuyos renglones corresponderán a los indices ```\"gerente\"```, ```\"supervisor\"``` y ```\"supervisor\"```."
   ]
  },
  {
   "cell_type": "code",
   "execution_count": null,
   "metadata": {
    "scrolled": false
   },
   "outputs": [],
   "source": [
    "personal.reindex((\"gerente\", \"supervisor\", \"supervisor\"))"
   ]
  },
  {
   "cell_type": "markdown",
   "metadata": {},
   "source": [
    "## Métodos para localizar series de elementos en un *dataframe*."
   ]
  },
  {
   "cell_type": "markdown",
   "metadata": {},
   "source": [
    "*Pandas* cuenta con los siguientes métodos para localizar elementos dentro de un *datafarame*.\n",
    "\n",
    "**Nota:** Hasta la versión 0.20.0 de *Pandas* se podía utilizar el método ```ix```, pero este ha sido desechado y se considera obsoleto, por lo que no se documentará al respecto."
   ]
  },
  {
   "cell_type": "markdown",
   "metadata": {},
   "source": [
    "### El método ```iloc[ ]```.\n",
    "\n",
    "El método ```iloc[ ]``` permite identificar a uno o más elemento dentro de un renglón de un *dataframe* utilizando números enteros para referenciar tanto al índice como a las columnas.\n",
    "\n",
    "Cabe hacer notar que el método ```iloc[ ]``` no usa paréntesis, sino corchetes.\n",
    "\n",
    "```\n",
    "df.iloc[<índice>,[<col_1>, <col_2>, ... <col_n>]]\n",
    "```\n",
    "\n",
    "Donde:\n",
    " \n",
    "* ```<índice>``` es el índice o un rango de índices *dataframe* expresados como números entero.\n",
    "* Cada ```<col_i>``` corresponde al índice de una columna de un *dataframe* expresado como un número entero.\n",
    "\n",
    "El resultado será un objeto de *Pandas*.\n",
    "\n",
    "En caso de que no se definan columnas, traerá todas las columnas del renglón.\n",
    "\n",
    "La documentación del método ```pd.DataFrame.iloc[]``` puede ser consultada en:\n",
    "\n",
    "https://pandas.pydata.org/pandas-docs/stable/reference/api/pandas.DataFrame.iloc.html"
   ]
  },
  {
   "cell_type": "markdown",
   "metadata": {},
   "source": [
    "**Ejemplo:**"
   ]
  },
  {
   "cell_type": "markdown",
   "metadata": {},
   "source": [
    "* Se definirá el *dataframe* ```datos```."
   ]
  },
  {
   "cell_type": "code",
   "execution_count": null,
   "metadata": {},
   "outputs": [],
   "source": [
    "datos = pd.DataFrame(np.arange(20).reshape(5, 4), \n",
    "                     columns=('primero', \n",
    "                              'segundo', \n",
    "                              'tercero', \n",
    "                              'cuarto'))"
   ]
  },
  {
   "cell_type": "code",
   "execution_count": null,
   "metadata": {
    "scrolled": true
   },
   "outputs": [],
   "source": [
    "datos"
   ]
  },
  {
   "cell_type": "markdown",
   "metadata": {},
   "source": [
    "* La siguiente celda utilizará el método ```datos.iloc[]```, el cual regresará una serie que contiene al elemento localizado en el renglón de índice ```2``` y de la columna con índice ```3```."
   ]
  },
  {
   "cell_type": "code",
   "execution_count": null,
   "metadata": {},
   "outputs": [],
   "source": [
    "datos.iloc[2,[3]]"
   ]
  },
  {
   "cell_type": "markdown",
   "metadata": {},
   "source": [
    "* El resultado es una serie."
   ]
  },
  {
   "cell_type": "code",
   "execution_count": null,
   "metadata": {},
   "outputs": [],
   "source": [
    "type(datos.iloc[2,[3]])"
   ]
  },
  {
   "cell_type": "markdown",
   "metadata": {},
   "source": [
    "* La siguiente celda utilizará el método ```datos.iloc[]```, el cual regresará una serie con los elementos de las columnas con índices ```2```, ```1``` y ```3``` del renglón con índice ```2```."
   ]
  },
  {
   "cell_type": "code",
   "execution_count": null,
   "metadata": {},
   "outputs": [],
   "source": [
    "datos.iloc[2, [2, 1, 3]]"
   ]
  },
  {
   "cell_type": "code",
   "execution_count": null,
   "metadata": {},
   "outputs": [],
   "source": [
    "type(datos.iloc[2,[2, 1, 3]])"
   ]
  },
  {
   "cell_type": "markdown",
   "metadata": {},
   "source": [
    "* La siguiente celda utilizará el método ```datos.iloc[]```, el cual regresará una serie con los elementos de las columnas con índice  ```0```, ```1```, ```2``` y ```2``` del renglón con índice ```2```."
   ]
  },
  {
   "cell_type": "code",
   "execution_count": null,
   "metadata": {},
   "outputs": [],
   "source": [
    "datos.iloc[2,[0, 1, 2, 2]]"
   ]
  },
  {
   "cell_type": "markdown",
   "metadata": {},
   "source": [
    "* La siguiente celda utilizará el método ```dato.iloc[]```, el cual regresará una serie con todos los elementos de todas las columnas del renglón con índice ```2```."
   ]
  },
  {
   "cell_type": "code",
   "execution_count": null,
   "metadata": {},
   "outputs": [],
   "source": [
    "datos.iloc[2]"
   ]
  },
  {
   "cell_type": "markdown",
   "metadata": {},
   "source": [
    "* La siguiente celda utilizará el método ```dato.iloc[]```, el cual regresará un *dataframe*  todos los elementos de las columnas con índices ```2``` y  ```1```."
   ]
  },
  {
   "cell_type": "code",
   "execution_count": 46,
   "metadata": {},
   "outputs": [
    {
     "data": {
      "text/html": [
       "<div>\n",
       "<style scoped>\n",
       "    .dataframe tbody tr th:only-of-type {\n",
       "        vertical-align: middle;\n",
       "    }\n",
       "\n",
       "    .dataframe tbody tr th {\n",
       "        vertical-align: top;\n",
       "    }\n",
       "\n",
       "    .dataframe thead th {\n",
       "        text-align: right;\n",
       "    }\n",
       "</style>\n",
       "<table border=\"1\" class=\"dataframe\">\n",
       "  <thead>\n",
       "    <tr style=\"text-align: right;\">\n",
       "      <th></th>\n",
       "      <th>tercero</th>\n",
       "      <th>segundo</th>\n",
       "    </tr>\n",
       "  </thead>\n",
       "  <tbody>\n",
       "    <tr>\n",
       "      <th>0</th>\n",
       "      <td>2</td>\n",
       "      <td>1</td>\n",
       "    </tr>\n",
       "    <tr>\n",
       "      <th>1</th>\n",
       "      <td>6</td>\n",
       "      <td>5</td>\n",
       "    </tr>\n",
       "    <tr>\n",
       "      <th>2</th>\n",
       "      <td>10</td>\n",
       "      <td>9</td>\n",
       "    </tr>\n",
       "    <tr>\n",
       "      <th>3</th>\n",
       "      <td>14</td>\n",
       "      <td>13</td>\n",
       "    </tr>\n",
       "    <tr>\n",
       "      <th>4</th>\n",
       "      <td>18</td>\n",
       "      <td>17</td>\n",
       "    </tr>\n",
       "  </tbody>\n",
       "</table>\n",
       "</div>"
      ],
      "text/plain": [
       "   tercero  segundo\n",
       "0        2        1\n",
       "1        6        5\n",
       "2       10        9\n",
       "3       14       13\n",
       "4       18       17"
      ]
     },
     "execution_count": 46,
     "metadata": {},
     "output_type": "execute_result"
    }
   ],
   "source": [
    "datos.iloc[: , [2, 1]]"
   ]
  },
  {
   "cell_type": "markdown",
   "metadata": {},
   "source": [
    "* La siguiente celda hace referencia a más de un índice, lo cual no está permitido y se generará un error de tipo ```IndexingError```."
   ]
  },
  {
   "cell_type": "code",
   "execution_count": null,
   "metadata": {},
   "outputs": [],
   "source": [
    "datos.iloc[2, 3, [0, 1, 2]]"
   ]
  },
  {
   "cell_type": "markdown",
   "metadata": {},
   "source": [
    "### El método ```pd.DataFrame.loc[ ]```.\n",
    "\n",
    "El método ```loc[ ]``` permite identificar a uno o más elemento dentro de un renglón de un *dataframe* utilizando los identificadores para referenciar tanto al índice como a las columnas.\n",
    "\n",
    "Cabe hacer notar que el método ```loc[ ]``` no usa paréntesis, sino corchetes.\n",
    "\n",
    "```\n",
    "df.loc[<id_índice>,[<id_col_1>, <id_col_2>, ... <id_col_n>]\n",
    "```\n",
    "Donde:\n",
    "\n",
    "* ```<id_índice>```  es el índice o un rango de índices *dataframe* expresados como cadenas de caracteres.\n",
    "* Cada ```<id_col_i>``` es un objeto de tipo ```str``` correspondiente al identificador de una columna dentro del *dataframe*.\n",
    "\n",
    "\n",
    "El resultado será un objeto de *Pandas*.\n",
    "\n",
    "En caso de no definir columnas, traerá todos los elementos del renglón.\n",
    "\n",
    "La documentación del método ```pd.DataFrame.loc[]``` puede ser consultada en:\n",
    "\n",
    "https://pandas.pydata.org/pandas-docs/stable/reference/api/pandas.DataFrame.loc.html"
   ]
  },
  {
   "cell_type": "markdown",
   "metadata": {},
   "source": [
    "**Ejemplo:**"
   ]
  },
  {
   "cell_type": "markdown",
   "metadata": {},
   "source": [
    "* En este ejemplo se usará el *dataframe* ```personal``` definido previamente."
   ]
  },
  {
   "cell_type": "code",
   "execution_count": null,
   "metadata": {},
   "outputs": [],
   "source": [
    "personal"
   ]
  },
  {
   "cell_type": "markdown",
   "metadata": {},
   "source": [
    "* La siguiente celda utilizará el método ```personal.iloc[]```, el cual regresará una serie que contiene al elemento correspondiente a la celda con índice ```'supervisor'``` y a la columna ```'fechas'```."
   ]
  },
  {
   "cell_type": "code",
   "execution_count": null,
   "metadata": {},
   "outputs": [],
   "source": [
    "personal.loc[\"supervisor\", [\"fechas\"]]"
   ]
  },
  {
   "cell_type": "markdown",
   "metadata": {},
   "source": [
    "* La siguiente celda utilizará el método ```personal.iloc[]```, el cual regresará una serie que contiene el elemento correspondiente a las celdas correspondientes a las columnas ```'fechas'``` y ```'nombres'``` del renglón con índice ```'gerente'```."
   ]
  },
  {
   "cell_type": "code",
   "execution_count": null,
   "metadata": {},
   "outputs": [],
   "source": [
    "personal.loc[\"gerente\", [\"fechas\", \"nombres\"]]"
   ]
  },
  {
   "cell_type": "code",
   "execution_count": null,
   "metadata": {},
   "outputs": [],
   "source": []
  },
  {
   "cell_type": "markdown",
   "metadata": {},
   "source": [
    "* La siguiente celda utilizará el método ```personal.iloc[]```, el cual regresará una *dataframe* que contiene a todos los elementos de las columnas ```'fechas'``` y ```'nombres'```."
   ]
  },
  {
   "cell_type": "code",
   "execution_count": null,
   "metadata": {},
   "outputs": [],
   "source": [
    "personal.loc[:, [\"fechas\", \"nombres\"]]"
   ]
  },
  {
   "cell_type": "markdown",
   "metadata": {},
   "source": [
    "* La siguiente celda generará una excepción de tipo ```KeyError```, debido a que se ingresa un índice numérico y no un identificador."
   ]
  },
  {
   "cell_type": "code",
   "execution_count": null,
   "metadata": {},
   "outputs": [],
   "source": [
    "personal.loc[1, [\"fechas\", \"nombres\"]]"
   ]
  },
  {
   "cell_type": "markdown",
   "metadata": {},
   "source": [
    "### El método ```pd.DataFrame.loc[ ]``` con expresiones lógicas.\n",
    "\n",
    "El métódo ```pd.DataFrame.loc[ ]``` permite realizar búsquedas de datos dentro de una columna del *dataframe* usando expresiones lógicas. El resultado será un *dataframe* con aquellos renglones en los que la expresión evaluada resulte en ```True```.\n",
    "\n",
    "```\n",
    "df.loc[<expresión lógica>] \n",
    "```\n",
    "\n",
    "Donde:\n",
    "\n",
    "* ```<expresión lógica>``` es una expresión en la que una columna ```df[<id_columna>]``` es evaluada mediante una expresión lógica."
   ]
  },
  {
   "cell_type": "markdown",
   "metadata": {},
   "source": [
    "**Ejemplos:**"
   ]
  },
  {
   "cell_type": "markdown",
   "metadata": {},
   "source": [
    " * Se utilizará el dataframe ```personal``` definido previamente."
   ]
  },
  {
   "cell_type": "code",
   "execution_count": null,
   "metadata": {},
   "outputs": [],
   "source": [
    "personal"
   ]
  },
  {
   "cell_type": "markdown",
   "metadata": {},
   "source": [
    "* La siguiente celda aplicará el método ```personal.loc[]``` al que se le ingresará la expresión ```personal[\"saldo\"] > 3000```. El resutado será un *dataframe* con los renglones que cumplan con la expresión."
   ]
  },
  {
   "cell_type": "code",
   "execution_count": null,
   "metadata": {
    "scrolled": true
   },
   "outputs": [],
   "source": [
    "personal.loc[personal[\"saldo\"] > 3000]"
   ]
  },
  {
   "cell_type": "markdown",
   "metadata": {},
   "source": [
    "* * La siguiente celda aplicará el método ```personal.loc[]``` al que se le ingresará la expresión ```personal['al corriente']```. El resutado será un *dataframe* con los renglones en los que el valor de la columna ```'al_corriente'``` sean ```True```."
   ]
  },
  {
   "cell_type": "code",
   "execution_count": null,
   "metadata": {},
   "outputs": [],
   "source": [
    "personal.loc[personal['al corriente']]"
   ]
  },
  {
   "cell_type": "markdown",
   "metadata": {},
   "source": [
    "* La siguiente celda aplicará el método ```personal.loc[]``` al que se le ingresará la expresión ```personal[\"al corriente\"] == False```. El resutado será un *dataframe* con los renglones que cumplan con la expresión."
   ]
  },
  {
   "cell_type": "code",
   "execution_count": null,
   "metadata": {},
   "outputs": [],
   "source": [
    "personal.loc[personal[\"al corriente\"] == False]"
   ]
  },
  {
   "cell_type": "markdown",
   "metadata": {},
   "source": [
    "## Identificación de elementos en un *dataframe*."
   ]
  },
  {
   "cell_type": "markdown",
   "metadata": {},
   "source": [
    "### El método ```iat[ ]```.\n",
    "\n",
    "El método ```iat[ ]``` permite identificar a un único elemento dentro de un *dataframe* mediante su posición expresada de la siguiente manera con números enteros.\n",
    "\n",
    "```\n",
    "df.iat[<índice>, <col>]\n",
    "```\n",
    "\n",
    "Donde:\n",
    " \n",
    "* ```<índice>``` es el índice de un *dataframe* expresado como un número entero.\n",
    "* ```<col>``` es el índice de una columna de un *dataframe* expresado como un número entero.\n",
    "\n",
    "A diferencia de ```iloc[ ]```, sólamente acepta un índice de columna.\n",
    "\n",
    "La documentación del método ```pd.DataFrame.iat[]``` puede ser consultada en:\n",
    "\n",
    "https://pandas.pydata.org/pandas-docs/stable/reference/api/pandas.DataFrame.iat.html"
   ]
  },
  {
   "cell_type": "markdown",
   "metadata": {},
   "source": [
    "**Ejemplo:**"
   ]
  },
  {
   "cell_type": "markdown",
   "metadata": {},
   "source": [
    "* Se utilizará el *dataframe* ```personal```, definido previamente."
   ]
  },
  {
   "cell_type": "code",
   "execution_count": null,
   "metadata": {},
   "outputs": [],
   "source": [
    "personal"
   ]
  },
  {
   "cell_type": "markdown",
   "metadata": {},
   "source": [
    "* La siguiente celda regresará al elemento localizado donde convergen el índice ```1``` y la columna con índice ```1``` del *dataframe* ```personal```."
   ]
  },
  {
   "cell_type": "code",
   "execution_count": null,
   "metadata": {
    "scrolled": true
   },
   "outputs": [],
   "source": [
    "personal.iat[1, 1]"
   ]
  },
  {
   "cell_type": "markdown",
   "metadata": {},
   "source": [
    "### El método ```at[ ]```.\n",
    "\n",
    "\n",
    "El método ```at[ ]``` permite identificar a un único elemento dentro de un *dataframe* mediante su posición expresada mediante los identificadores correspondientes.\n",
    "\n",
    "```\n",
    "df.at[<id_índice>, <id_col>]\n",
    "```\n",
    "Donde:\n",
    "\n",
    "* ```<id_índice>``` es un objeto de tipo ```str``` correspondiente al identificador de un índice dentro del *dataframe*.\n",
    "* ```<id_col>``` es un objeto de tipo ```str``` correspondiente al identificador de una columna dentro del *dataframe*.\n",
    "\n",
    "La documentación del método ```pd.DataFrame.at[]``` puede ser consultada en:\n",
    "\n",
    "https://pandas.pydata.org/pandas-docs/stable/reference/api/pandas.DataFrame.at.html"
   ]
  },
  {
   "cell_type": "markdown",
   "metadata": {},
   "source": [
    "**Ejemplos:**"
   ]
  },
  {
   "cell_type": "markdown",
   "metadata": {},
   "source": [
    "* Se utilizará el *dataframe* ```personal```, definido previamente."
   ]
  },
  {
   "cell_type": "code",
   "execution_count": null,
   "metadata": {
    "scrolled": true
   },
   "outputs": [],
   "source": [
    "personal"
   ]
  },
  {
   "cell_type": "markdown",
   "metadata": {},
   "source": [
    "* La siguiente celda regresará al elemento contenido en ```personal``` donde convergen el índice con identificador ```\"gerente\"``` y la columna con identificador ```\"saldo\"```."
   ]
  },
  {
   "cell_type": "code",
   "execution_count": null,
   "metadata": {},
   "outputs": [],
   "source": [
    "personal.at[\"gerente\", \"saldo\" ]"
   ]
  },
  {
   "cell_type": "markdown",
   "metadata": {},
   "source": [
    "<p style=\"text-align: center\"><a rel=\"license\" href=\"http://creativecommons.org/licenses/by/4.0/\"><img alt=\"Licencia Creative Commons\" style=\"border-width:0\" src=\"https://i.creativecommons.org/l/by/4.0/80x15.png\" /></a><br />Esta obra está bajo una <a rel=\"license\" href=\"http://creativecommons.org/licenses/by/4.0/\">Licencia Creative Commons Atribución 4.0 Internacional</a>.</p>\n",
    "<p style=\"text-align: center\">&copy; José Luis Chiquete Valdivieso. 2022.</p>"
   ]
  }
 ],
 "metadata": {
  "kernelspec": {
   "display_name": "Python 3 (ipykernel)",
   "language": "python",
   "name": "python3"
  },
  "language_info": {
   "codemirror_mode": {
    "name": "ipython",
    "version": 3
   },
   "file_extension": ".py",
   "mimetype": "text/x-python",
   "name": "python",
   "nbconvert_exporter": "python",
   "pygments_lexer": "ipython3",
   "version": "3.10.6"
  }
 },
 "nbformat": 4,
 "nbformat_minor": 2
}
