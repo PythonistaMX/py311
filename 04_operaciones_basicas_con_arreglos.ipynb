{
 "cells": [
  {
   "cell_type": "markdown",
   "metadata": {},
   "source": [
    "[![iimg/pythonista.pns](img/pythonista.png)](https://www.pythonista.io)"
   ]
  },
  {
   "cell_type": "markdown",
   "metadata": {},
   "source": [
    "# Operaciones básicas con arreglos."
   ]
  },
  {
   "cell_type": "code",
   "execution_count": null,
   "metadata": {},
   "outputs": [],
   "source": [
    "import numpy as np"
   ]
  },
  {
   "cell_type": "markdown",
   "metadata": {},
   "source": [
    "## Ejemplo práctico.\n",
    "\n",
    "Para realizar una obra de construcción se organizan dos frentes a los que se les asigna una brigada formada por 3 oficiales.\n",
    "\n",
    "La siguiente tabla ejemplifica la conformación de las brigadas en una semana dada.\n",
    "\n",
    "||Brigada 1| Brigada 2|\n",
    "|:--:|:---:|:---:|\n",
    "|**Lunes**|Juan, Antonio, Ricardo|Alonso, Jorge, Salvador|\n",
    "|**Martes**|David, Julian, Ricardo|Arturo, Ramiro, Esteban|\n",
    "|**Miércoles**|Arturo, Ricardo, Lucio|Jorge, Marco, Juan|\n",
    "|**Jueves**|Alonso, Julian, Salvador|Ricardo, Jorge, Esteban|\n",
    "|**Viernes**|Lucio, Ramiro, Joaquín|Ricardo, Marco, Juan|"
   ]
  },
  {
   "cell_type": "markdown",
   "metadata": {},
   "source": [
    "El siguiente arreglo describe la conformación de las brigadas en donde:\n",
    "* La primera dimensión corresponde a los días de la semana (```5```).\n",
    "* La segunda dimensión corresponde a las brigadas (```2```).\n",
    "* La tercera dimensión corresponde a los oficiales de cada brigada (```3```)."
   ]
  },
  {
   "cell_type": "code",
   "execution_count": null,
   "metadata": {},
   "outputs": [],
   "source": [
    "brigadas = np.array([[['Juan', 'Antonio', 'Ricardo'], ['Alonso', 'Jorge', 'Salvador']],\n",
    "                    [['David', 'Julian', 'Ricardo'], ['Arturo', 'Ramiro', 'Esteban']],\n",
    "                    [['Arturo', 'Ricardo', 'Lucio'], ['Jorge', 'Marco', 'Juan']],\n",
    "                    [['Alonso', 'Julian', 'Salvador'], ['Ricardo', 'Jorge', 'Esteban']],\n",
    "                    [['Lucio', 'Ramiro', 'Joaquín'], ['Ricardo', 'Marco', 'Juan']]])"
   ]
  },
  {
   "cell_type": "code",
   "execution_count": null,
   "metadata": {
    "scrolled": true
   },
   "outputs": [],
   "source": [
    "brigadas"
   ]
  },
  {
   "cell_type": "markdown",
   "metadata": {},
   "source": [
    "El arreglo ```brigadas``` es de 3 dimensiones y de forma ```(5, 2, 3)```."
   ]
  },
  {
   "cell_type": "code",
   "execution_count": null,
   "metadata": {},
   "outputs": [],
   "source": [
    "brigadas.ndim"
   ]
  },
  {
   "cell_type": "code",
   "execution_count": null,
   "metadata": {},
   "outputs": [],
   "source": [
    "brigadas.shape"
   ]
  },
  {
   "cell_type": "markdown",
   "metadata": {},
   "source": [
    "## Indexado y rebanado de elementos en arreglos.\n",
    "\n",
    "El indexado y rebanado de arreglos es similar al utilizado con los objetos tipo ```tuple``` o ```list``` y se utilizan los dos puntos ```:``` para indicar un rango de elementos para cada dimensión, las dimensiones están separadas por comas ```,```:\n",
    "\n",
    "```\n",
    "<arreglo>[<rango 1>, <rango 2>, <rango 3>... <rango n>]\n",
    "```\n",
    "\n",
    "Donde:\n",
    "\n",
    "* ```<rango x>``` es un rango ```<m>:<n>:<i>``` para cada dimensión del arreglo."
   ]
  },
  {
   "cell_type": "markdown",
   "metadata": {},
   "source": [
    "**Ejemplos:**"
   ]
  },
  {
   "cell_type": "markdown",
   "metadata": {},
   "source": [
    "* La siguiente celda regresará un arreglo que corresponde a las brigadas del martes a miércoles definido por ```[1:3]```.\n",
    "\n",
    "|Día|Brigada 1| Brigada 2|\n",
    "|:--:|:---:|:---:|\n",
    "|**Lunes**|Juan, Antonio, Ricardo|Alonso, Jorge, Salvador|\n",
    "|```Martes```|```David, Julian, Ricardo```|```Arturo, Ramiro, Esteban```|\n",
    "|```Miércoles```|```Arturo, Ricardo, Lucio```|```Jorge, Marco, Juan```|\n",
    "|**Jueves**|Alonso, Julian, Salvador|Ricardo, Jorge, Esteban|\n",
    "|**Viernes**|Lucio, Ramiro, Joaquín|Ricardo, Marco, Juan|"
   ]
  },
  {
   "cell_type": "code",
   "execution_count": null,
   "metadata": {
    "scrolled": false
   },
   "outputs": [],
   "source": [
    "brigadas[1:3]"
   ]
  },
  {
   "cell_type": "code",
   "execution_count": null,
   "metadata": {},
   "outputs": [],
   "source": [
    "brigadas[1:3].shape"
   ]
  },
  {
   "cell_type": "markdown",
   "metadata": {},
   "source": [
    "* La siguiente celda regresará un arreglo que corresponde a las segundas brigadas de martes a miércoles, definido por ```[1:3, 1]```.\n",
    "\n",
    "||Brigada 1| ```Brigada 2```|\n",
    "|:--:|:---:|:---:|\n",
    "|**Lunes**|Juan, Antonio, Ricardo|Alonso, Jorge, Salvador|\n",
    "|```Martes```|David, Julian, Ricardo|```Arturo, Ramiro, Esteban```|\n",
    "|```Miércoles```|Arturo, Ricardo, Lucio|```Jorge, Marco, Juan```|\n",
    "|**Jueves**|Alonso, Julian, Salvador|Ricardo, Jorge, Esteban|\n",
    "|**Viernes**|Lucio, Ramiro, Joaquín|Ricardo, Marco, Juan|"
   ]
  },
  {
   "cell_type": "code",
   "execution_count": null,
   "metadata": {
    "scrolled": true
   },
   "outputs": [],
   "source": [
    "brigadas[1:3, 1]"
   ]
  },
  {
   "cell_type": "code",
   "execution_count": null,
   "metadata": {},
   "outputs": [],
   "source": [
    "brigadas[1:3, 1].shape"
   ]
  },
  {
   "cell_type": "markdown",
   "metadata": {},
   "source": [
    "* La siguiente celda regresará un arreglo que corresponde a los dos primeros oficiales de la segunda brigada de cada día, definido por ```[:, 1, 0:2]```.\n",
    "\n",
    "||Brigada 1|```Brigada 2```|\n",
    "|:--:|:---:|:---:|\n",
    "|```Lunes```|Juan, Antonio, Ricardo|```Alonso, Jorge,``` Salvador|\n",
    "|```Martes```|David, Julian, Ricardo|```Arturo, Ramiro,``` Esteban|\n",
    "|```Miércoles```|Arturo, Ricardo, Lucio|```Jorge, Marco,``` Juan|\n",
    "|```Jueves```|Alonso, Julian, Salvador|```Ricardo, Jorge,``` Esteban|\n",
    "|```Viernes```|Lucio, Ramiro, Joaquín|```Ricardo, Marco,``` Juan|"
   ]
  },
  {
   "cell_type": "code",
   "execution_count": null,
   "metadata": {},
   "outputs": [],
   "source": [
    "brigadas[:, 1, 0:2]"
   ]
  },
  {
   "cell_type": "code",
   "execution_count": null,
   "metadata": {},
   "outputs": [],
   "source": [
    "brigadas[:, 1, 0:2].shape"
   ]
  },
  {
   "cell_type": "markdown",
   "metadata": {},
   "source": [
    "* La siguiente celda regresará al segundo oficial de la primera brigada del viernes, definido por ```[4, 0, 1]```.\n",
    "\n",
    "||```Brigada 1```| Brigada 2|\n",
    "|:--:|:---:|:---:|\n",
    "|**Lunes**|Juan, Antonio, Ricardo|Alonso, Jorge, Salvador|\n",
    "|**Martes**|David, Julian, Ricardo|Arturo, Ramiro, Esteban|\n",
    "|**Miércoles**|Arturo, Ricardo, Lucio|Jorge, Marco, Juan|\n",
    "|**Jueves**|Alonso, Julian, Salvador|Ricardo, Jorge, Esteban|\n",
    "|```Viernes```|Lucio, ```Ramiro,``` Joaquín|Ricardo, Marco, Juan|"
   ]
  },
  {
   "cell_type": "code",
   "execution_count": null,
   "metadata": {},
   "outputs": [],
   "source": [
    "brigadas[4, 0, 1]"
   ]
  },
  {
   "cell_type": "code",
   "execution_count": null,
   "metadata": {},
   "outputs": [],
   "source": [
    "type(brigadas[4, 0, 1])"
   ]
  },
  {
   "cell_type": "code",
   "execution_count": null,
   "metadata": {},
   "outputs": [],
   "source": [
    "brigadas[4, 0, 1].shape"
   ]
  },
  {
   "cell_type": "markdown",
   "metadata": {},
   "source": [
    "## Modificación de los elementos de un arreglo.\n",
    "\n",
    "Para modificar un elemento se utiliza el índice y el operado de asignación ```=```."
   ]
  },
  {
   "cell_type": "markdown",
   "metadata": {},
   "source": [
    "**Ejemplos:**"
   ]
  },
  {
   "cell_type": "markdown",
   "metadata": {},
   "source": [
    "* Se definirá el arreglo de ```brigadas```."
   ]
  },
  {
   "cell_type": "markdown",
   "metadata": {},
   "source": [
    "||Brigada 1| Brigada 2|\n",
    "|:--:|:---:|:---:|\n",
    "|**Lunes**|Juan, Antonio, Ricardo|Alonso, Jorge, Salvador|\n",
    "|**Martes**|David, Julian, Ricardo|Arturo, Ramiro, Esteban|\n",
    "|**Miércoles**|Arturo, Ricardo, Lucio|Jorge, Marco, Juan|\n",
    "|**Jueves**|Alonso, Julian, Salvador|Ricardo, Jorge, Esteban|\n",
    "|**Viernes**|Lucio, Ramiro, Joaquín|Ricardo, Marco, Juan|"
   ]
  },
  {
   "cell_type": "code",
   "execution_count": null,
   "metadata": {},
   "outputs": [],
   "source": [
    "brigadas = np.array([[['Juan', 'Antonio', 'Ricardo'], ['Alonso', 'Jorge', 'Salvador']],\n",
    "                    [['David', 'Julian', 'Ricardo'], ['Arturo', 'Ramiro', 'Esteban']],\n",
    "                    [['Arturo', 'Ricardo', 'Lucio'], ['Jorge', 'Marco', 'Juan']],\n",
    "     \n",
    "                     [['Alonso', 'Julian', 'Salvador'], ['Ricardo', 'Jorge', 'Esteban']],\n",
    "                    [['Lucio', 'Ramiro', 'Joaquín'], ['Ricardo', 'Marco', 'Juan']]])"
   ]
  },
  {
   "cell_type": "markdown",
   "metadata": {},
   "source": [
    "* La siguiente celda creará un arreglo llamado ```sustitutos```de dimensiones ```(2, 3)``` que puede ser interpetado como:"
   ]
  },
  {
   "cell_type": "markdown",
   "metadata": {},
   "source": [
    "\n",
    "|Brigada 1| Brigada 2|\n",
    ":---:|:---:|\n",
    "|John, Ringo, Paul|Keith, Mick, Charlie|"
   ]
  },
  {
   "cell_type": "code",
   "execution_count": null,
   "metadata": {},
   "outputs": [],
   "source": [
    "sustitutos = np.array([['John', 'Ringo', 'Paul'], \n",
    "               ['Keith', 'Mick', 'Charlie']])"
   ]
  },
  {
   "cell_type": "code",
   "execution_count": null,
   "metadata": {},
   "outputs": [],
   "source": [
    "sustitutos.shape"
   ]
  },
  {
   "cell_type": "markdown",
   "metadata": {},
   "source": [
    "* El arreglo ```brigadas``` es de dimensiones ```(5, 2, 3)```, es decir que en su primera dimensión cuenta con ```5``` arreglos de dimensones ```(2, 3)```."
   ]
  },
  {
   "cell_type": "code",
   "execution_count": null,
   "metadata": {},
   "outputs": [],
   "source": [
    "brigadas.shape"
   ]
  },
  {
   "cell_type": "markdown",
   "metadata": {},
   "source": [
    "* La siguiente celda sustituirá al arreglo que corresponde a ```brigadas[4]``` con el arreglo ```sustitutos```."
   ]
  },
  {
   "cell_type": "markdown",
   "metadata": {},
   "source": [
    "||Brigada 1| Brigada 2|\n",
    "|:--:|:---:|:---:|\n",
    "|**Lunes**|Juan, Antonio, Ricardo|Alonso, Jorge, Salvador|\n",
    "|**Martes**|David, Julian, Ricardo|Arturo, Ramiro, Esteban|\n",
    "|**Miércoles**|Arturo, Ricardo, Lucio|Jorge, Marco, Juan|\n",
    "|**Jueves**|Alonso, Julian, Salvador|Ricardo, Jorge, Esteban|\n",
    "|**Viernes**|```John, Ringo, Paul```|```Keith, Mick, Charlie```|"
   ]
  },
  {
   "cell_type": "code",
   "execution_count": null,
   "metadata": {},
   "outputs": [],
   "source": [
    "brigadas[4] = sustitutos"
   ]
  },
  {
   "cell_type": "code",
   "execution_count": null,
   "metadata": {
    "scrolled": true
   },
   "outputs": [],
   "source": [
    "brigadas"
   ]
  },
  {
   "cell_type": "markdown",
   "metadata": {},
   "source": [
    "* La siguiente celda sustituirá al arreglo de dimensiones ```(3,)``` correspondiente a ```brigadas[1, 1]``` con los elementos del objeto de tipo ```list``` correspondiente a ```['Parcifal', 'Gawain', 'Lancelot']```."
   ]
  },
  {
   "cell_type": "markdown",
   "metadata": {},
   "source": [
    "||Brigada 1| Brigada 2|\n",
    "|:--:|:---:|:---:|\n",
    "|**Lunes**|Juan, Antonio, Ricardo|Alonso, Jorge, Salvador|\n",
    "|**Martes**|David, Julian, Ricardo|```Parcifal, Gawain, Lancelot```|\n",
    "|**Miércoles**|Arturo, Ricardo, Lucio|Jorge, Marco, Juan|\n",
    "|**Jueves**|Alonso, Julian, Salvador|Ricardo, Jorge, Esteban|\n",
    "|**Viernes**|John, Ringo, Paul|Keith, Mick, Charlie|"
   ]
  },
  {
   "cell_type": "code",
   "execution_count": null,
   "metadata": {},
   "outputs": [],
   "source": [
    "brigadas[1, 1] = ['Parcifal', 'Gawain', 'Lancelot']"
   ]
  },
  {
   "cell_type": "code",
   "execution_count": null,
   "metadata": {},
   "outputs": [],
   "source": [
    "brigadas"
   ]
  },
  {
   "cell_type": "markdown",
   "metadata": {},
   "source": [
    "* La siguiente celda sustituirá al arreglo de dimensiones ```(2,)``` correspondiente a ```brigadas[2, 0, 0:2]``` el cual será sustituido por los elementos de objeto tipo ```list``` correspondiente a ```['Salomon', 'Sanson']```."
   ]
  },
  {
   "cell_type": "markdown",
   "metadata": {},
   "source": [
    "||Brigada 1| Brigada 2|\n",
    "|:--:|:---:|:---:|\n",
    "|**Lunes**|Juan, Antonio, Ricardo|Alonso, Jorge, Salvador|\n",
    "|**Martes**|David, Julian, Ricardo|Parcifal, Gawain, Lancelot|\n",
    "|**Miércoles**|```Salomon, Sanson```, Lucio|Jorge, Marco, Juan|\n",
    "|**Jueves**|Alonso, Julian, Salvador|Ricardo, Jorge, Esteban|\n",
    "|**Viernes**|John, Ringo, Paul|Keith, Mick, Charlie|"
   ]
  },
  {
   "cell_type": "code",
   "execution_count": null,
   "metadata": {},
   "outputs": [],
   "source": [
    "brigadas[2, 0, 0:2] = ['Salomon', 'Sanson']"
   ]
  },
  {
   "cell_type": "code",
   "execution_count": null,
   "metadata": {},
   "outputs": [],
   "source": [
    "brigadas"
   ]
  },
  {
   "cell_type": "markdown",
   "metadata": {},
   "source": [
    "* La siguiente celda sustituirá al elemento correspondiente a ```brigadas[4, 1, 2]``` con el objeto ```Pascual```."
   ]
  },
  {
   "cell_type": "markdown",
   "metadata": {},
   "source": [
    "||Brigada 1| Brigada 2|\n",
    "|:--:|:---:|:---:|\n",
    "|**Lunes**|Juan, Antonio, Ricardo|Alonso, Jorge, Salvador|\n",
    "|**Martes**|David, Julian, Ricardo|Parcifal, Gawain, Lancelot|\n",
    "|**Miércoles**|Salomon, Sanson, Lucio|Jorge, Marco, Juan|\n",
    "|**Jueves**|Alonso, Julian, Salvador|Ricardo, Jorge, Esteban|\n",
    "|**Viernes**|John, Ringo, Paul|Keith, Mick, ```Pascual```|"
   ]
  },
  {
   "cell_type": "code",
   "execution_count": null,
   "metadata": {},
   "outputs": [],
   "source": [
    "brigadas[4, 1, 2] = 'Pascual'"
   ]
  },
  {
   "cell_type": "code",
   "execution_count": null,
   "metadata": {},
   "outputs": [],
   "source": [
    "brigadas"
   ]
  },
  {
   "cell_type": "markdown",
   "metadata": {},
   "source": [
    "## Indexación avanzada de arreglos.\n",
    "\n",
    "Es posible identificar a varios elementos en una dimensión específica de un arreglo usando otros arreglos como índices.\n",
    "\n",
    "```\n",
    "<arreglo>[índice 1>, <índice 2>, ..., <índice n>] \n",
    "```\n",
    "\n",
    "Donde:\n",
    "\n",
    "* ```<índice x>``` es un arreglo de *Numpy*."
   ]
  },
  {
   "cell_type": "markdown",
   "metadata": {},
   "source": [
    "**Ejemplos:**"
   ]
  },
  {
   "cell_type": "markdown",
   "metadata": {},
   "source": [
    "* Se definirá el arreglo ```brigadas```."
   ]
  },
  {
   "cell_type": "markdown",
   "metadata": {},
   "source": [
    "||Brigada 1| Brigada 2|\n",
    "|:--:|:---:|:---:|\n",
    "|**Lunes**|Juan, Antonio, Ricardo|Alonso, Jorge, Salvador|\n",
    "|**Martes**|David, Julian, Ricardo|Arturo, Ramiro, Esteban|\n",
    "|**Miércoles**|Arturo, Ricardo, Lucio|Jorge, Marco, Juan|\n",
    "|**Jueves**|Alonso, Julian, Salvador|Ricardo, Jorge, Esteban|\n",
    "|**Viernes**|Lucio, Ramiro, Joaquín|Ricardo, Marco, Juan|"
   ]
  },
  {
   "cell_type": "code",
   "execution_count": null,
   "metadata": {},
   "outputs": [],
   "source": [
    "brigadas = np.array([[['Juan', 'Antonio', 'Ricardo'], ['Alonso', 'Jorge', 'Salvador']],\n",
    "                    [['David', 'Julian', 'Ricardo'], ['Arturo', 'Ramiro', 'Esteban']],\n",
    "                    [['Arturo', 'Ricardo', 'Lucio'], ['Jorge', 'Marco', 'Juan']],\n",
    "                    [['Alonso', 'Julian', 'Salvador'], ['Ricardo', 'Jorge', 'Esteban']],\n",
    "                    [['Lucio', 'Ramiro', 'Joaquín'], ['Ricardo', 'Marco', 'Juan']]])"
   ]
  },
  {
   "cell_type": "markdown",
   "metadata": {},
   "source": [
    "* Se obtendrá un arreglo a partir de ```brigadas``` aplicando el arreglo ```indice_1``` que identifica a las cuadrillas de miércoles (```2```), lunes (```0```) y jueves (```3```)."
   ]
  },
  {
   "cell_type": "markdown",
   "metadata": {},
   "source": [
    "||Brigada 1| Brigada 2|\n",
    "|:--:|:---:|:---:|\n",
    "|**Miércoles**|Arturo, Ricardo, Lucio|Jorge, Marco, Juan|\n",
    "|**Lunes**|Juan, Antonio, Ricardo|Alonso, Jorge, Salvador|\n",
    "|**Jueves**|Alonso, Julian, Salvador|Ricardo, Jorge, Esteban|"
   ]
  },
  {
   "cell_type": "code",
   "execution_count": null,
   "metadata": {},
   "outputs": [],
   "source": [
    "indice_1 = np.array([2, 0, 3])"
   ]
  },
  {
   "cell_type": "code",
   "execution_count": null,
   "metadata": {},
   "outputs": [],
   "source": [
    "indice_1"
   ]
  },
  {
   "cell_type": "code",
   "execution_count": null,
   "metadata": {
    "scrolled": true
   },
   "outputs": [],
   "source": [
    "brigadas[indice_1]"
   ]
  },
  {
   "cell_type": "markdown",
   "metadata": {},
   "source": [
    "* Se creará un arreglo de 4 dimensiones. Una de ellas contiene a los elementos de jueves (```3```) y lunes (```0```), y la otra de martes (```1```) y viernes (```4```)."
   ]
  },
  {
   "cell_type": "markdown",
   "metadata": {},
   "source": [
    "||Brigada 1| Brigada 2|\n",
    "|:--:|:---:|:---:|\n",
    "|**Jueves**|Alonso, Julian, Salvador|Ricardo, Jorge, Esteban|\n",
    "|**Lunes**|Juan, Antonio, Ricardo|Alonso, Jorge, Salvador|\n",
    "\n",
    "||Brigada 1| Brigada 2|\n",
    "|:--:|:---:|:---:|\n",
    "|**Martes**|David, Julian, Ricardo|Arturo, Ramiro, Esteban|\n",
    "|**Viernes**|Lucio, Ramiro, Joaquín|Ricardo, Marco, Juan|"
   ]
  },
  {
   "cell_type": "code",
   "execution_count": null,
   "metadata": {},
   "outputs": [],
   "source": [
    "indice_2 = np.array([[3, 0], [1, 4]])"
   ]
  },
  {
   "cell_type": "code",
   "execution_count": null,
   "metadata": {},
   "outputs": [],
   "source": [
    "indice_2"
   ]
  },
  {
   "cell_type": "code",
   "execution_count": null,
   "metadata": {},
   "outputs": [],
   "source": [
    "brigadas[indice_2]"
   ]
  },
  {
   "cell_type": "markdown",
   "metadata": {},
   "source": [
    "### Referencia con múltiples arreglos.\n",
    "\n",
    "Si se ingresa una sucesión de arreglos separados por comas, el primer arreglo relacionará la primera dimensión del arreglo indexado, mientras que le siguiente a su vez, hará referencia a la segunda dimensión y así sucesivamente."
   ]
  },
  {
   "cell_type": "markdown",
   "metadata": {},
   "source": [
    "**Ejemplo:**\n",
    "\n",
    "Se utilizarán 2 arreglos para obtener las brigadas correspondientes del arreglo ```brigadas```."
   ]
  },
  {
   "cell_type": "markdown",
   "metadata": {},
   "source": [
    "* El arreglo ```indice_x``` definirá los elementos en la primera dimensión de cada elemento. En este caso, lunes (```0```) y jueves (```3```)."
   ]
  },
  {
   "cell_type": "code",
   "execution_count": null,
   "metadata": {},
   "outputs": [],
   "source": [
    "indice_x = np.array([0, 3])"
   ]
  },
  {
   "cell_type": "code",
   "execution_count": null,
   "metadata": {},
   "outputs": [],
   "source": [
    "indice_x"
   ]
  },
  {
   "cell_type": "markdown",
   "metadata": {},
   "source": [
    "* El arreglo ```indice_y``` definirá los elementos de la segunda dimensión cada elemento, correspondientes a la primera brigada (```0```) y la segunda brigada (```1```)."
   ]
  },
  {
   "cell_type": "code",
   "execution_count": null,
   "metadata": {},
   "outputs": [],
   "source": [
    "indice_y = np.array([0, 2])"
   ]
  },
  {
   "cell_type": "code",
   "execution_count": null,
   "metadata": {},
   "outputs": [],
   "source": [
    "indice_y"
   ]
  },
  {
   "cell_type": "markdown",
   "metadata": {},
   "source": [
    "* Al aplicarse ambos arreglos como índices, el resultado será un arreglo dimensiones ```(2, 3)```, incluyendo la primera brigada del lunes (```[0, 0]```) y la segunda brigada del jueves (```[3, 1]```)."
   ]
  },
  {
   "cell_type": "markdown",
   "metadata": {},
   "source": [
    "|Brigada 1|Brigada 2|\n",
    "|:---:|:---:|\n",
    "|Juan, Antonio, Ricardo|Ricardo, Jorge, Esteban|"
   ]
  },
  {
   "cell_type": "code",
   "execution_count": null,
   "metadata": {},
   "outputs": [],
   "source": [
    "brigadas[indice_x, indice_y]"
   ]
  },
  {
   "cell_type": "markdown",
   "metadata": {},
   "source": [
    "* La siguiente celda definirá al arreglo ```índice_z```, el cual definirá a la tercera dimensión de cada elemento. En este caso, el primer oficial de la cuarilla (```0```) y el tercer oficial de la cuadrilla (```2```)."
   ]
  },
  {
   "cell_type": "code",
   "execution_count": null,
   "metadata": {},
   "outputs": [],
   "source": [
    "indice_z = np.array([0, 2])"
   ]
  },
  {
   "cell_type": "code",
   "execution_count": null,
   "metadata": {},
   "outputs": [],
   "source": [
    "indice_z"
   ]
  },
  {
   "cell_type": "markdown",
   "metadata": {},
   "source": [
    "* Al aplicar los 3 arreglos como índices, el resultado sería un arreglo de dimensión ```(2,)``` incluyendo al primer oficial de la primera brigada del lunes (```[0, 0, 0]```) y el tercer oficial de la segunda brigada del jueves (```[3, 1, 2]```)."
   ]
  },
  {
   "cell_type": "markdown",
   "metadata": {},
   "source": [
    "|Brigada|\n",
    "|:---:|\n",
    "|Juan, Esteban|"
   ]
  },
  {
   "cell_type": "code",
   "execution_count": null,
   "metadata": {},
   "outputs": [],
   "source": [
    "brigadas[indice_x, indice_y, indice_z]"
   ]
  },
  {
   "cell_type": "markdown",
   "metadata": {},
   "source": [
    "**NOTA:** Es necesario que los arreglos que se utilizarán como índices, sean de las mismas dimensiones y tamaños."
   ]
  },
  {
   "cell_type": "markdown",
   "metadata": {},
   "source": [
    "## 'Broadcasting'.\n",
    "\n",
    "*Numpy* permite llenar una región definida de un arreglo repitiendo múltiples veces otro arreglo más pequeño, pero que se ajuste a las dimensiones del afectado."
   ]
  },
  {
   "cell_type": "markdown",
   "metadata": {},
   "source": [
    "**Ejemplos:**"
   ]
  },
  {
   "cell_type": "markdown",
   "metadata": {},
   "source": [
    "* Se utilizará el arreglo ```brigadas```."
   ]
  },
  {
   "cell_type": "markdown",
   "metadata": {},
   "source": [
    "||Brigada 1| Brigada 2|\n",
    "|:--:|:---:|:---:|\n",
    "|**Lunes**|Juan, Antonio, Ricardo|Alonso, Jorge, Salvador|\n",
    "|**Martes**|David, Julian, Ricardo|Arturo, Ramiro, Esteban|\n",
    "|**Miércoles**|Arturo, Ricardo, Lucio|Jorge, Marco, Juan|\n",
    "|**Jueves**|Alonso, Julian, Salvador|Ricardo, Jorge, Esteban|\n",
    "|**Viernes**|Lucio, Ramiro, Joaquín|Ricardo, Marco, Juan|"
   ]
  },
  {
   "cell_type": "code",
   "execution_count": null,
   "metadata": {},
   "outputs": [],
   "source": [
    "brigadas"
   ]
  },
  {
   "cell_type": "markdown",
   "metadata": {},
   "source": [
    "En este caso, la seguna brigada del viernes será llenada con la cadena ```'Elton'```."
   ]
  },
  {
   "cell_type": "markdown",
   "metadata": {},
   "source": [
    "||Brigada 1| Brigada 2|\n",
    "|:--:|:---:|:---:|\n",
    "|**Lunes**|Juan, Antonio, Ricardo|Alonso, Jorge, Salvador|\n",
    "|**Martes**|David, Julian, Ricardo|Arturo, Ramiro, Esteban|\n",
    "|**Miércoles**|Arturo, Ricardo, Lucio|Jorge, Marco, Juan|\n",
    "|**Jueves**|Alonso, Julian, Salvador|Ricardo, Jorge, Esteban|\n",
    "|**Viernes**|Lucio, Ramiro, Joaquín|```Elton, Elton, Elton```|"
   ]
  },
  {
   "cell_type": "code",
   "execution_count": null,
   "metadata": {},
   "outputs": [],
   "source": [
    "brigadas[4, 1] = 'Elton'"
   ]
  },
  {
   "cell_type": "code",
   "execution_count": null,
   "metadata": {},
   "outputs": [],
   "source": [
    "brigadas"
   ]
  },
  {
   "cell_type": "markdown",
   "metadata": {},
   "source": [
    "* En este caso, todas las brigadas del miércoles serán ```['Rocío', 'Martha', 'Angélica']```."
   ]
  },
  {
   "cell_type": "markdown",
   "metadata": {},
   "source": [
    "||Brigada 1| Brigada 2|\n",
    "|:--:|:---:|:---:|\n",
    "|**Lunes**|Juan, Antonio, Ricardo|Alonso, Jorge, Salvador|\n",
    "|**Martes**|David, Julian, Ricardo|Arturo, Ramiro, Esteban|\n",
    "|**Miércoles**|```Rocio, Martha, Angélica```|```Rocio, Martha, Angélica```|\n",
    "|**Jueves**|Alonso, Julian, Salvador|Ricardo, Jorge, Esteban|\n",
    "|**Viernes**|Lucio, Ramiro, Joaquín|Elton, Elton, Elton|"
   ]
  },
  {
   "cell_type": "code",
   "execution_count": null,
   "metadata": {},
   "outputs": [],
   "source": [
    "brigadas[2] = np.array(['Rocio', 'Martha', 'Angélica'])"
   ]
  },
  {
   "cell_type": "code",
   "execution_count": null,
   "metadata": {
    "scrolled": true
   },
   "outputs": [],
   "source": [
    "brigadas"
   ]
  },
  {
   "cell_type": "markdown",
   "metadata": {},
   "source": [
    "### Aritmética y operadores con arreglos.\n",
    "\n",
    "Los arreglos de *Numpy* son compatibles con los diversos operadores artiméticos y lógicos de *Python*.\n",
    "\n",
    "En el caso de que se trate de un número o de otro arreglo cuyas dimensiones se ajusten correctamente, las operaciones aritméticas y lógicas se distribuirán a todos los elementos del arreglo definidos mediante *broadcasting*."
   ]
  },
  {
   "cell_type": "markdown",
   "metadata": {},
   "source": [
    "**Ejemplos:**"
   ]
  },
  {
   "cell_type": "markdown",
   "metadata": {},
   "source": [
    "* Se creará la siguiente matriz."
   ]
  },
  {
   "cell_type": "code",
   "execution_count": null,
   "metadata": {},
   "outputs": [],
   "source": [
    "matriz_1 = np.array([[1, 2, 3],\n",
    "                  [4, 0, -5],\n",
    "                  [-6, -7, -8]]) "
   ]
  },
  {
   "cell_type": "markdown",
   "metadata": {},
   "source": [
    "* Todas las operaciones siguientes serán aplicadas a todos y cada uno de los elementos del arreglo."
   ]
  },
  {
   "cell_type": "code",
   "execution_count": null,
   "metadata": {},
   "outputs": [],
   "source": [
    "matriz_1 + 100"
   ]
  },
  {
   "cell_type": "markdown",
   "metadata": {},
   "source": [
    "* En este caso, la operación sólo se realizará en el tercer elemento."
   ]
  },
  {
   "cell_type": "code",
   "execution_count": null,
   "metadata": {},
   "outputs": [],
   "source": [
    "matriz_1[2] * 3"
   ]
  },
  {
   "cell_type": "markdown",
   "metadata": {},
   "source": [
    "* El operador de división funciona de manera similar."
   ]
  },
  {
   "cell_type": "code",
   "execution_count": null,
   "metadata": {},
   "outputs": [],
   "source": [
    "3 / matriz_1"
   ]
  },
  {
   "cell_type": "code",
   "execution_count": null,
   "metadata": {},
   "outputs": [],
   "source": [
    "matriz_1 / 3.42"
   ]
  },
  {
   "cell_type": "markdown",
   "metadata": {},
   "source": [
    "* Incluso los operadores lógicos se ejecutan por *broadcasting*."
   ]
  },
  {
   "cell_type": "code",
   "execution_count": null,
   "metadata": {},
   "outputs": [],
   "source": [
    "matriz_1 > 1"
   ]
  },
  {
   "cell_type": "markdown",
   "metadata": {},
   "source": [
    "* Ahora se crearán ```matriz_2```y ```matriz_3```, las cuales se utilzarán junto con algunos operadores sobre ```matriz_1```."
   ]
  },
  {
   "cell_type": "code",
   "execution_count": null,
   "metadata": {},
   "outputs": [],
   "source": [
    "matriz_1"
   ]
  },
  {
   "cell_type": "code",
   "execution_count": null,
   "metadata": {},
   "outputs": [],
   "source": [
    "matriz_1.shape"
   ]
  },
  {
   "cell_type": "code",
   "execution_count": null,
   "metadata": {},
   "outputs": [],
   "source": [
    "matriz_2 = np.array([1, 2, 3])"
   ]
  },
  {
   "cell_type": "code",
   "execution_count": null,
   "metadata": {},
   "outputs": [],
   "source": [
    "matriz_2.shape"
   ]
  },
  {
   "cell_type": "code",
   "execution_count": null,
   "metadata": {},
   "outputs": [],
   "source": [
    "matriz_3 = np.array([[2], [4], [6]])"
   ]
  },
  {
   "cell_type": "code",
   "execution_count": null,
   "metadata": {},
   "outputs": [],
   "source": [
    "matriz_3"
   ]
  },
  {
   "cell_type": "code",
   "execution_count": null,
   "metadata": {},
   "outputs": [],
   "source": [
    "matriz_3.shape"
   ]
  },
  {
   "cell_type": "markdown",
   "metadata": {},
   "source": [
    "* En el siguiente caso, la operación se realizará en cada renglón de ```matriz_1```."
   ]
  },
  {
   "cell_type": "code",
   "execution_count": null,
   "metadata": {},
   "outputs": [],
   "source": [
    "matriz_1 * matriz_2"
   ]
  },
  {
   "cell_type": "markdown",
   "metadata": {},
   "source": [
    "* En el siguiente caso, la operación se realizará en cada columna de ```matriz_1```."
   ]
  },
  {
   "cell_type": "code",
   "execution_count": null,
   "metadata": {},
   "outputs": [],
   "source": [
    "matriz_3 * matriz_1"
   ]
  },
  {
   "cell_type": "markdown",
   "metadata": {},
   "source": [
    "* En el siguiente caso, se utilizarán matrices de dimensiones indénticas, de tal forma que cada elemento de la matriz es multiplicado con el elemento ubicado en la misma  posición de la otra."
   ]
  },
  {
   "cell_type": "code",
   "execution_count": null,
   "metadata": {},
   "outputs": [],
   "source": [
    "np.array([[ 1,  2,  3],\n",
    "       [ 4,  0, -5],\n",
    "       [-6, -7, -8]]) * np.array([[ -1,  12,  13],\n",
    "                              [ -4,  0, 5],\n",
    "                              [6, 7, 8]])"
   ]
  },
  {
   "cell_type": "markdown",
   "metadata": {},
   "source": [
    "<p style=\"text-align: center\"><a rel=\"license\" href=\"http://creativecommons.org/licenses/by/4.0/\"><img alt=\"Licencia Creative Commons\" style=\"border-width:0\" src=\"https://i.creativecommons.org/l/by/4.0/80x15.png\" /></a><br />Esta obra está bajo una <a rel=\"license\" href=\"http://creativecommons.org/licenses/by/4.0/\">Licencia Creative Commons Atribución 4.0 Internacional</a>.</p>\n",
    "<p style=\"text-align: center\">&copy; José Luis Chiquete Valdivieso. 2021.</p>"
   ]
  }
 ],
 "metadata": {
  "kernelspec": {
   "display_name": "Python 3 (ipykernel)",
   "language": "python",
   "name": "python3"
  },
  "language_info": {
   "codemirror_mode": {
    "name": "ipython",
    "version": 3
   },
   "file_extension": ".py",
   "mimetype": "text/x-python",
   "name": "python",
   "nbconvert_exporter": "python",
   "pygments_lexer": "ipython3",
   "version": "3.9.7"
  }
 },
 "nbformat": 4,
 "nbformat_minor": 2
}
