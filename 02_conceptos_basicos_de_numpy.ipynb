{
 "cells": [
  {
   "cell_type": "markdown",
   "metadata": {},
   "source": [
    "[![img/pythonista.png](img/pythonista.png)](https://www.pythonista.io)"
   ]
  },
  {
   "cell_type": "markdown",
   "metadata": {},
   "source": [
    "# Conceptos básicos de *Numpy*."
   ]
  },
  {
   "cell_type": "markdown",
   "metadata": {},
   "source": [
    "[*Numpy*](http://www.numpy.org/) es un paquete que contiene una biblioteca de recursos especializados en realizar operaciones optimizadas en arreglos de datos.\n",
    "\n",
    "El proyecto *Numpy* cuenta con una extensa documentación, la cual está disponible en https://docs.scipy.org/doc/numpy/."
   ]
  },
  {
   "cell_type": "markdown",
   "metadata": {},
   "source": [
    "## Instalación y carga del paquete ```numpy```.\n",
    "\n",
    "La instalación del paquete [*numpy*](https://pypi.org/project/numpy/) puede ser hecha mediante ```pip```."
   ]
  },
  {
   "cell_type": "code",
   "execution_count": null,
   "metadata": {
    "scrolled": true
   },
   "outputs": [],
   "source": [
    "!pip install numpy"
   ]
  },
  {
   "cell_type": "code",
   "execution_count": null,
   "metadata": {},
   "outputs": [],
   "source": [
    "!conda install numpy"
   ]
  },
  {
   "cell_type": "markdown",
   "metadata": {},
   "source": [
    "**Nota:** Por convención se sustituye el nombre del  módulo ```numpy``` por ```np``` al importarlo. En adelante, se utilizará dicha convención."
   ]
  },
  {
   "cell_type": "code",
   "execution_count": null,
   "metadata": {},
   "outputs": [],
   "source": [
    "import numpy as np"
   ]
  },
  {
   "cell_type": "markdown",
   "metadata": {},
   "source": [
    "## Los arreglos en *Numpy*.\n",
    "\n",
    "Los elementos primordiales de *Numpy* son los arreglos (arrays), los cuales son colecciones ordenadas e indexables de datos del mismo tipo.\n",
    "\n",
    "### Particularidades de los arreglos.\n",
    "\n",
    "Los arreglos de *Numpy* no son estructuras de datos que contiene referencias a objetos, tal como ocurre con las colecciones de Python. Dichos arreglos son estructuras de datos que contienen valores en memoria, tal como ocurre con *C* o *FORTRAN*."
   ]
  },
  {
   "cell_type": "markdown",
   "metadata": {},
   "source": [
    "## Los objetos ```np.ndarray```.\n",
    "\n",
    "*Numpy* cuenta con una amplia variedad de funciones capaces de crear arreglos, pero todos ellos son de tipo ```np.ndarray```.\n",
    "\n",
    "Un arreglo genérico se define mediante la siguiente sintaxis:\n",
    "\n",
    "``` \n",
    "np.array(<estructura del arreglo>, dtype=<tipo>)\n",
    "```\n",
    "* La estructura del arreglo se conforma por colecciones de datos indexables que pueden contener a su vez otras colecciones de datos indexables. \n",
    "\n",
    "* El parámetro ```dtype``` indica el tipo de los datos que contiene el arreglo. En caso de que no se defina el tipo de dato, *Numpy*  tratará de definirlo."
   ]
  },
  {
   "cell_type": "markdown",
   "metadata": {},
   "source": [
    "**Ejemplo:**\n",
    "\n",
    "A continuación se definirá un arreglo con las siguientes características:\n",
    "* Es un arreglo de una dimensión que contiene tres elementos.\n",
    "* Los elementos son enteros.\n",
    "* No se define un tipo de dato con el parámetro ```dtype```.\n",
    "* Al arreglo se le asignará el nombre ```arreglo```."
   ]
  },
  {
   "cell_type": "code",
   "execution_count": null,
   "metadata": {},
   "outputs": [],
   "source": [
    "arreglo = np.array((1, 2, 3))"
   ]
  },
  {
   "cell_type": "code",
   "execution_count": null,
   "metadata": {},
   "outputs": [],
   "source": [
    "arreglo"
   ]
  },
  {
   "cell_type": "code",
   "execution_count": null,
   "metadata": {},
   "outputs": [],
   "source": [
    "type(arreglo)"
   ]
  },
  {
   "cell_type": "markdown",
   "metadata": {},
   "source": [
    "* A continuación se desplegará el tipo al que corresponde cada dato de ```arreglo```."
   ]
  },
  {
   "cell_type": "code",
   "execution_count": null,
   "metadata": {
    "scrolled": true
   },
   "outputs": [],
   "source": [
    "for item in arreglo:\n",
    "    print(f'valor: {item}, tipo: {type(item)}')"
   ]
  },
  {
   "cell_type": "markdown",
   "metadata": {},
   "source": [
    "### El tipo ```np.object```.\n",
    "\n",
    "Cuando *Numpy* no puede identificar un tipo único de dato o los elementos contenidos en el arreglo son objetos de Python distintos a tipos númericos, booleanos o cadenas de caracteres; el arreglo será del tipo ```np.object```."
   ]
  },
  {
   "cell_type": "markdown",
   "metadata": {},
   "source": [
    "**Ejemplos:**"
   ]
  },
  {
   "cell_type": "markdown",
   "metadata": {},
   "source": [
    "* La siguiente celda define un arreglo con diversos tipos de datos y por lo tanto ```dytpe=object```."
   ]
  },
  {
   "cell_type": "code",
   "execution_count": null,
   "metadata": {},
   "outputs": [],
   "source": [
    "np.array(['d', 3 , (12, 6, True)], dtype=object)"
   ]
  },
  {
   "cell_type": "markdown",
   "metadata": {},
   "source": [
    "* A continuación se creará un arreglo de nombre ```arreglo``` con datos de diversos tipos."
   ]
  },
  {
   "cell_type": "code",
   "execution_count": null,
   "metadata": {},
   "outputs": [],
   "source": [
    "arreglo = np.array(['d', 3 , (12, 6, True)], dtype=object)"
   ]
  },
  {
   "cell_type": "markdown",
   "metadata": {},
   "source": [
    "* La siguiente celda desplegará el tipo de cada dato en ```arreglo```."
   ]
  },
  {
   "cell_type": "code",
   "execution_count": null,
   "metadata": {},
   "outputs": [],
   "source": [
    "for item in arreglo:\n",
    "    print('valor: {}, tipo: {}'.format(item, type(item)))"
   ]
  },
  {
   "cell_type": "markdown",
   "metadata": {},
   "source": [
    "## Dimensiones y formas de los arreglos.\n",
    "\n",
    "Los arreglos de *Numpy* son estructuras que a su vez pueden contener arreglos en varios niveles o \"dimensiones\". \n",
    "\n",
    "Todos los arreglos en una dimensión específica deben de contener el mismo número de elementos. Al número de objetos que contiene un arreglo en cada dimensión se conoce como forma (shape)."
   ]
  },
  {
   "cell_type": "markdown",
   "metadata": {},
   "source": [
    "### El atributo ```ndim```.\n",
    "\n",
    "Los arreglos cuentan con el atributo ```ndim```, el cual indica el número de dimensiones del arreglo.\n",
    "\n",
    "El valor de ```ndim``` es un número entero."
   ]
  },
  {
   "cell_type": "markdown",
   "metadata": {},
   "source": [
    "### El atributo ```shape```.\n",
    "\n",
    "Los arreglos cuentan con el atributo ```shape```, el cual describe el número de elementos que contiene cada dimensión del arreglo.\n",
    "\n",
    "El valor de ```shape``` es un objeto tipo tuple que contiene una sucesión de números.\n",
    "\n",
    "```\n",
    "(<n1>, <n2>, <n3> ... <nm>)\n",
    "```\n",
    "\n",
    "* Donde ```<n1>``` corresponde al número de elementos en la primera dimensión,  ```<n2>``` corresponde al número de elementos en la segunda dimensión y así sucesivamente hasta ```<nm>``` , la cual corrersponde al número de elementos de la dimensión ```m```."
   ]
  },
  {
   "cell_type": "markdown",
   "metadata": {},
   "source": [
    "### El atributo ```size```.\n",
    "\n",
    "El atributo ```size``` de los arreglos de numpy contiene el número total de elementos que conforman a un arreglo."
   ]
  },
  {
   "cell_type": "markdown",
   "metadata": {},
   "source": [
    "**Ejemplos:**"
   ]
  },
  {
   "cell_type": "markdown",
   "metadata": {},
   "source": [
    "* En la siguiente celda se definirá un arreglo de una dimensión con un solo elemento."
   ]
  },
  {
   "cell_type": "code",
   "execution_count": null,
   "metadata": {},
   "outputs": [],
   "source": [
    "np.array([1])"
   ]
  },
  {
   "cell_type": "code",
   "execution_count": null,
   "metadata": {},
   "outputs": [],
   "source": [
    "np.array([1]).ndim"
   ]
  },
  {
   "cell_type": "markdown",
   "metadata": {},
   "source": [
    "* La forma de dicho arreglo es ```(1,)```."
   ]
  },
  {
   "cell_type": "code",
   "execution_count": null,
   "metadata": {},
   "outputs": [],
   "source": [
    "np.array([1]).shape"
   ]
  },
  {
   "cell_type": "markdown",
   "metadata": {},
   "source": [
    "* El tamaño de dicho arreglo es ```1```."
   ]
  },
  {
   "cell_type": "code",
   "execution_count": null,
   "metadata": {},
   "outputs": [],
   "source": [
    "np.array([1]).size"
   ]
  },
  {
   "cell_type": "markdown",
   "metadata": {},
   "source": [
    "* En la siguiente celda se definirá un arreglo llamado ```unidimensional``` con cuatro elementos."
   ]
  },
  {
   "cell_type": "code",
   "execution_count": null,
   "metadata": {},
   "outputs": [],
   "source": [
    "unidimensional = np.array([1, 2, 3, 4])"
   ]
  },
  {
   "cell_type": "markdown",
   "metadata": {},
   "source": [
    "* El arreglo ```unidimensional``` tiene ```1``` dimensión."
   ]
  },
  {
   "cell_type": "code",
   "execution_count": null,
   "metadata": {},
   "outputs": [],
   "source": [
    "unidimensional.ndim"
   ]
  },
  {
   "cell_type": "markdown",
   "metadata": {},
   "source": [
    "* La forma del arreglo ```unidimensional``` es ```(4,)```."
   ]
  },
  {
   "cell_type": "code",
   "execution_count": null,
   "metadata": {},
   "outputs": [],
   "source": [
    "unidimensional.shape"
   ]
  },
  {
   "cell_type": "markdown",
   "metadata": {},
   "source": [
    "* El tamaño del arreglo ```unidimensional``` es ```4```."
   ]
  },
  {
   "cell_type": "code",
   "execution_count": null,
   "metadata": {},
   "outputs": [],
   "source": [
    "unidimensional.size"
   ]
  },
  {
   "cell_type": "markdown",
   "metadata": {},
   "source": [
    "* El arreglo con nombre ```bidimensional``` que se creará a continuación tiene las siguientes características.\n",
    "    * Es un arreglo de 2 dimensiones.\n",
    "    * La primera dimensión tiene 3 elementos.\n",
    "    * Cada elemento de la primera dimensión tiene 2 elementos en la segunda dimensión."
   ]
  },
  {
   "cell_type": "code",
   "execution_count": null,
   "metadata": {},
   "outputs": [],
   "source": [
    "bidimensional = np.array([[1, 2, 3],\n",
    "                          [4, 5, 6]])"
   ]
  },
  {
   "cell_type": "markdown",
   "metadata": {},
   "source": [
    "* El arreglo ```bidimensional``` tiene ```2``` dimensiones."
   ]
  },
  {
   "cell_type": "code",
   "execution_count": null,
   "metadata": {},
   "outputs": [],
   "source": [
    "bidimensional.ndim"
   ]
  },
  {
   "cell_type": "markdown",
   "metadata": {},
   "source": [
    "La forma del arreglo ```bidimensional``` es  ```(2, 3)```."
   ]
  },
  {
   "cell_type": "code",
   "execution_count": null,
   "metadata": {},
   "outputs": [],
   "source": [
    "bidimensional.shape"
   ]
  },
  {
   "cell_type": "markdown",
   "metadata": {},
   "source": [
    "* El tamaño del arreglo ```bidimensional``` es ```6```."
   ]
  },
  {
   "cell_type": "code",
   "execution_count": null,
   "metadata": {},
   "outputs": [],
   "source": [
    "bidimensional.size"
   ]
  },
  {
   "cell_type": "markdown",
   "metadata": {},
   "source": [
    "* El arreglo ```tridimensional``` tiene tres dimensiones. \n",
    "* Cada dimensión es de 2 elementos."
   ]
  },
  {
   "cell_type": "code",
   "execution_count": null,
   "metadata": {},
   "outputs": [],
   "source": [
    "tridimiensional = np.array([[[1, 2], [3, 4]],\n",
    "                            [[5, 6], [7, 8]]])"
   ]
  },
  {
   "cell_type": "markdown",
   "metadata": {},
   "source": [
    "* El arreglo ```tridimensional``` tiene ```3``` dimensiones."
   ]
  },
  {
   "cell_type": "code",
   "execution_count": null,
   "metadata": {},
   "outputs": [],
   "source": [
    "tridimiensional.ndim"
   ]
  },
  {
   "cell_type": "markdown",
   "metadata": {},
   "source": [
    "* La forma del arreglo ```tridimensional```es ```(2, 2, 2)```. "
   ]
  },
  {
   "cell_type": "code",
   "execution_count": null,
   "metadata": {},
   "outputs": [],
   "source": [
    "tridimiensional.shape"
   ]
  },
  {
   "cell_type": "markdown",
   "metadata": {},
   "source": [
    "* El tamaño del arreglo ```tridimensional```es ```8```. "
   ]
  },
  {
   "cell_type": "code",
   "execution_count": null,
   "metadata": {},
   "outputs": [],
   "source": [
    "tridimiensional.size"
   ]
  },
  {
   "cell_type": "markdown",
   "metadata": {},
   "source": [
    "## Tipos de datos de *Numpy*.\n",
    "\n",
    "*Numpy* define tipos de datos que extienden a los tipos con los que cuenta  *Python* y que están más relacionados con los tipos de datos definidos por los lenguajes *C* y *FORTRAN*.\n",
    "\n",
    "Estos tipos de datos pueden tener diversos tamaños dependiendo del número de bits asignado para almacenar dichos tipos.\n",
    "\n",
    "Para mayor referencia es posible consultar la siguiente liga: https://numpy.org/devdocs/user/basics.types.html"
   ]
  },
  {
   "cell_type": "markdown",
   "metadata": {},
   "source": [
    "### El atributo ```dtype```.\n",
    "\n",
    "Este atributo contiene el tipo de dato de un arreglo."
   ]
  },
  {
   "cell_type": "markdown",
   "metadata": {},
   "source": [
    "**Ejemplo:**"
   ]
  },
  {
   "cell_type": "markdown",
   "metadata": {},
   "source": [
    "* La siguiente celda define a un arreglo que contiene enteros. El tipo de datos del arreglo será ```int32``` o ```int64``` dependiendo del sistema en el que se ejecute esta notebook."
   ]
  },
  {
   "cell_type": "code",
   "execution_count": null,
   "metadata": {},
   "outputs": [],
   "source": [
    "np.array([[1, 2, 3],\n",
    "         [4, 5, 6]]).dtype"
   ]
  },
  {
   "cell_type": "markdown",
   "metadata": {},
   "source": [
    "### Tipos enteros.\n",
    "\n",
    "* Es posible definir enteros de distintos tamaños como ```np.int```, ```np.int8```, ```np.int16```, ```np.int32``` e ```np.int64```, los cuales pueden ser positivos, negativos o cero.\n",
    "\n",
    "* Es posible definir enteros sin signo, tales como ```np.uint```,  ```np.uint8```, ```np.uint16```, ```np.uint32``` e ```np.uint64```.\n",
    "\n",
    "Si no se define el tipo de dato, Python utilizará ```np.int64``` por defecto.\n",
    "\n",
    "**Nota:** En el caso de que esta notebook sea ejecutada desde Anaconda, es posible que el tipo por defecto sea ```np.int32```."
   ]
  },
  {
   "cell_type": "markdown",
   "metadata": {},
   "source": [
    "**Ejemplos:**"
   ]
  },
  {
   "cell_type": "markdown",
   "metadata": {},
   "source": [
    "* Las siguientes celdas define arreglos enteros de diversos tipos. "
   ]
  },
  {
   "cell_type": "code",
   "execution_count": null,
   "metadata": {},
   "outputs": [],
   "source": [
    "np.array(((1, 2), (3, 4)))"
   ]
  },
  {
   "cell_type": "code",
   "execution_count": null,
   "metadata": {},
   "outputs": [],
   "source": [
    "np.array(((1, 2), (3, 4))).dtype"
   ]
  },
  {
   "cell_type": "code",
   "execution_count": null,
   "metadata": {},
   "outputs": [],
   "source": [
    "np.array(((-1, 2), (3, 4)), dtype = np.uint8)"
   ]
  },
  {
   "cell_type": "code",
   "execution_count": null,
   "metadata": {
    "scrolled": true
   },
   "outputs": [],
   "source": [
    "np.array(((-1, 2), (3, 4)), dtype = np.uint64)"
   ]
  },
  {
   "cell_type": "markdown",
   "metadata": {},
   "source": [
    "### Tipos de bytes ```np.byte```.\n",
    "\n",
    "Numpy puede gestionar arreglos de *bytes*. \n",
    "\n",
    "* Cada *byte* puede contener un valor que va de -255 a 255. \n"
   ]
  },
  {
   "cell_type": "markdown",
   "metadata": {},
   "source": [
    "#### El tipo ```np.byte```.\n",
    "\n",
    "Este tipo de dato contiene valores enteros que van de ```-255``` a ```255```.\n",
    "\n",
    "* Si se ingresa un valor positivo mayor que 255, a dicho  valor se le restarán 256 unidades.\n",
    "* Si se ingresa un valor negativo menor que -255, a dicho  valor se le sumarán 256 unidades."
   ]
  },
  {
   "cell_type": "markdown",
   "metadata": {},
   "source": [
    "**Ejemplo:**"
   ]
  },
  {
   "cell_type": "markdown",
   "metadata": {},
   "source": [
    "* A continuación se creará un arreglo de tipo  ```np.byte``` con valores que exceden los límites del tipo de dato."
   ]
  },
  {
   "cell_type": "code",
   "execution_count": null,
   "metadata": {
    "scrolled": true
   },
   "outputs": [],
   "source": [
    "np.array(((101,-256),(101, 255)), dtype = np.byte)"
   ]
  },
  {
   "cell_type": "markdown",
   "metadata": {},
   "source": [
    "#### El tipo ```np.ubyte```.\n",
    "\n",
    "Este tipo de dato contiene valores enteros que van de ```0``` a ```255```.\n",
    "\n",
    "* Si se ingresa un valor positivo mayor que ```255```, a dicho  valor se le restarán ```256``` unidades.\n",
    "* Si se ingresa un valor negativo, a este se le sumarrán ```256``` unidades."
   ]
  },
  {
   "cell_type": "markdown",
   "metadata": {},
   "source": [
    "**Ejemplo:**"
   ]
  },
  {
   "cell_type": "markdown",
   "metadata": {},
   "source": [
    "* A continuación se creará un arreglo de tipo  ```np.ubyte``` con valores que exceden los límites del tipo de dato."
   ]
  },
  {
   "cell_type": "code",
   "execution_count": null,
   "metadata": {},
   "outputs": [],
   "source": [
    "np.array(((101,-1),(101, 257)), dtype = np.ubyte)"
   ]
  },
  {
   "cell_type": "markdown",
   "metadata": {},
   "source": [
    "### Tipos de punto flotante.\n",
    "\n",
    "Los tipos de punto flotante siempre tendrán un signo y son ```np.float``` ```np.float16```, ```np.float32```, ```np.float64```, ```np.float128```. \n",
    "\n",
    "Si no se define, Python utilizará ```np.float32``` o ```np.float64``` dependiendo del sistema en el que se ejecute esta notebook."
   ]
  },
  {
   "cell_type": "markdown",
   "metadata": {},
   "source": [
    "**Ejemplos:**"
   ]
  },
  {
   "cell_type": "markdown",
   "metadata": {},
   "source": [
    "* Las siguientes celdas define arreglos de diversos tipos de punto flotante. "
   ]
  },
  {
   "cell_type": "code",
   "execution_count": null,
   "metadata": {
    "scrolled": true
   },
   "outputs": [],
   "source": [
    "np.array(((11., 2), (15, 43)))"
   ]
  },
  {
   "cell_type": "code",
   "execution_count": null,
   "metadata": {},
   "outputs": [],
   "source": [
    "type(np.array(((11., 2), (15, 43)))[0,0])"
   ]
  },
  {
   "cell_type": "markdown",
   "metadata": {},
   "source": [
    "### Tipos complejos.\n",
    "\n",
    "Los tipos de número complejo de *Numpy* son:\n",
    "\n",
    "* ```np.complex_```\n",
    "* ```np.complex64```\n",
    "* ```np.complex128```\n",
    "* ```np.complex256```"
   ]
  },
  {
   "cell_type": "markdown",
   "metadata": {},
   "source": [
    "**Ejemplo:**"
   ]
  },
  {
   "cell_type": "markdown",
   "metadata": {},
   "source": [
    "* La siguiente celda define un arreglo de números complejos."
   ]
  },
  {
   "cell_type": "code",
   "execution_count": null,
   "metadata": {},
   "outputs": [],
   "source": [
    "complejos = np.array([[25.6j, 11.24],\n",
    "                     [-21.890-15702174.43j, 0]])"
   ]
  },
  {
   "cell_type": "code",
   "execution_count": null,
   "metadata": {},
   "outputs": [],
   "source": [
    "complejos"
   ]
  },
  {
   "cell_type": "code",
   "execution_count": null,
   "metadata": {},
   "outputs": [],
   "source": [
    "complejos.dtype"
   ]
  },
  {
   "cell_type": "markdown",
   "metadata": {},
   "source": [
    "### Tipos booleanos.\n",
    "\n",
    "El tipo ```np.bool_``` permite crear arreglos con valores booleanos.\n",
    "\n",
    "Cabe recordar que Python identfica como ```True``` a cualquier valor distinto de ```0```."
   ]
  },
  {
   "cell_type": "markdown",
   "metadata": {},
   "source": [
    "**Ejemplo:**"
   ]
  },
  {
   "cell_type": "code",
   "execution_count": null,
   "metadata": {},
   "outputs": [],
   "source": [
    "np.array(((1,'Hola'), (False, 0)), dtype = np.bool_)"
   ]
  },
  {
   "cell_type": "markdown",
   "metadata": {},
   "source": [
    "### Tipos de texto.\n",
    "\n",
    "Pueden ser de tipo ```np.string_```, ```np.unicode_``` o ```np.bytes_```. El tamaño de los elementos del arreglo corresponderá al elemento de texto más extenso.\n",
    "\n",
    "A diferencia de Python 3, *Numpy* aún diferencia los tipos ```string``` y ```unicode```.\n",
    "\n",
    "Es posible definir el tamaño de los elementos por defecto utilizando la siguiente sintaxis al ingresar el argumento de ```dtype```, siendo ```S``` para ```str ``` y ```U``` para unicode:\n",
    "\n",
    "``` python\n",
    "\n",
    "dtype=\"<S<entero>\"\n",
    "dtype=\"<U<entero>\"\n",
    "```\n",
    "\n"
   ]
  },
  {
   "cell_type": "markdown",
   "metadata": {},
   "source": [
    "**Ejemplos:**"
   ]
  },
  {
   "cell_type": "code",
   "execution_count": null,
   "metadata": {},
   "outputs": [],
   "source": [
    "np.array((['Hugo', 'Paco'],['Luis Ignacio', 'Donald']))"
   ]
  },
  {
   "cell_type": "code",
   "execution_count": null,
   "metadata": {},
   "outputs": [],
   "source": [
    "np.array((['Hugo', 'Paco'],['Luis Ignacio', 'Donald']), dtype = np.unicode_)"
   ]
  },
  {
   "cell_type": "code",
   "execution_count": null,
   "metadata": {},
   "outputs": [],
   "source": [
    "np.array((['Hugo', 'Paco'],['Luis Ignacio', 'Donald']), dtype = np.bytes_)"
   ]
  },
  {
   "cell_type": "code",
   "execution_count": null,
   "metadata": {},
   "outputs": [],
   "source": [
    "np.array((['Hugo', 'Paco'],['Luis Ignacio', 'Donald']), dtype = np.string_)"
   ]
  },
  {
   "cell_type": "code",
   "execution_count": null,
   "metadata": {},
   "outputs": [],
   "source": [
    "np.array((['Hugo', 'Paco'],['Luis Ignacio', 'Donaldo']), dtype = \"<U6\")"
   ]
  },
  {
   "cell_type": "markdown",
   "metadata": {},
   "source": [
    "## Tipos de fecha."
   ]
  },
  {
   "cell_type": "markdown",
   "metadata": {},
   "source": [
    "### El tipo ```np.datetime64```.\n",
    "\n",
    "Este tipo de datos permite crear arreglos compatIbles con onjetos de tipo ```datetime``` de Python.\n",
    "\n",
    "Un valor de tipo ```np.datetime``` puede definirse también de la siguiente forma. \n",
    "```\n",
    "np.daytime64('<aaaa>-<mm>-<dd>T<hh>:<mm>:<seg>')\n",
    "```"
   ]
  },
  {
   "cell_type": "markdown",
   "metadata": {},
   "source": [
    "**Ejemplo:**"
   ]
  },
  {
   "cell_type": "markdown",
   "metadata": {},
   "source": [
    "* La siguiente celda importará el tipo ```datetime``` del módulo ```datetime```."
   ]
  },
  {
   "cell_type": "code",
   "execution_count": null,
   "metadata": {},
   "outputs": [],
   "source": [
    "from datetime import datetime"
   ]
  },
  {
   "cell_type": "markdown",
   "metadata": {},
   "source": [
    "* La siguiente celda creará un arreglo llamado ```fechas```, de forma ```(2, 2)``` que incluye 4 fechas."
   ]
  },
  {
   "cell_type": "code",
   "execution_count": null,
   "metadata": {},
   "outputs": [],
   "source": [
    "fechas = np.array([[np.datetime64(\"2019-08-25T23:59:45.231\"), \n",
    "                   np.datetime64(\"2020-07-23\")],\n",
    "                   [np.datetime64(datetime(year=2018, month=12, day=22)),\n",
    "                   np.datetime64(\"2019-03-01T11:25\")]])"
   ]
  },
  {
   "cell_type": "code",
   "execution_count": null,
   "metadata": {},
   "outputs": [],
   "source": [
    "fechas"
   ]
  },
  {
   "cell_type": "code",
   "execution_count": null,
   "metadata": {},
   "outputs": [],
   "source": [
    "fechas.shape"
   ]
  },
  {
   "cell_type": "markdown",
   "metadata": {},
   "source": [
    "### El tipo ```np.deltatime```.\n",
    "\n",
    "El tipo ```np.deltatime``` es un valor numérico que corresponde a los segundos en un laspo de tiempo específico usando microsegundos como unidades."
   ]
  },
  {
   "cell_type": "markdown",
   "metadata": {},
   "source": [
    "**Ejemplo:**"
   ]
  },
  {
   "cell_type": "markdown",
   "metadata": {},
   "source": [
    "* La siguiente celda utilizará la propiedad de \"broadcasting\" para calcular el tiempo transcurrido entre las fechas definidas en el arreglo ```fechas``` y el momento en le que se ejecute la celda."
   ]
  },
  {
   "cell_type": "code",
   "execution_count": null,
   "metadata": {},
   "outputs": [],
   "source": [
    "np.datetime64(datetime.now())- fechas "
   ]
  },
  {
   "cell_type": "markdown",
   "metadata": {},
   "source": [
    "## Valores numéricos especiales.\n",
    "\n",
    "*Numpy* es capaz de reconocer números indeterminados e infintios."
   ]
  },
  {
   "cell_type": "markdown",
   "metadata": {},
   "source": [
    "### El valor ```np.nan```.\n",
    "\n",
    "*Numpy* utiliza ```np.nan``` cuando el valor no se trata de un número o es una indeterminación."
   ]
  },
  {
   "cell_type": "markdown",
   "metadata": {},
   "source": [
    "### El valor ```np.inf```.\n",
    "\n",
    "El valor ```np.inf``` representa un número tan grande que no puede ser calculado o bien, el infinito. Dicho valor puede llevar signo."
   ]
  },
  {
   "cell_type": "markdown",
   "metadata": {},
   "source": [
    "**Ejemplos:**"
   ]
  },
  {
   "cell_type": "markdown",
   "metadata": {},
   "source": [
    "* La siguiente celda creará un arreglo de números llamado ```numeros```."
   ]
  },
  {
   "cell_type": "code",
   "execution_count": null,
   "metadata": {
    "scrolled": true
   },
   "outputs": [],
   "source": [
    "numeros = np.array(([1, 0],[-1, 1]))"
   ]
  },
  {
   "cell_type": "code",
   "execution_count": null,
   "metadata": {},
   "outputs": [],
   "source": [
    "numeros"
   ]
  },
  {
   "cell_type": "markdown",
   "metadata": {},
   "source": [
    "* La siguiente celda dividirá entre ```0``` a cada elemento del arreglo ```numeros```. Debido a esto, es posible que el intérprete muestre algunas advertencias. Sin embargo, el resultado será un arreglo que contiene valores ```np.inf```, ```-np.inf``` y ```np.nan```.  "
   ]
  },
  {
   "cell_type": "code",
   "execution_count": null,
   "metadata": {},
   "outputs": [],
   "source": [
    "numeros / 0"
   ]
  },
  {
   "cell_type": "markdown",
   "metadata": {},
   "source": [
    "* La siguiente celda definirá un arreglo con ```np.inf```, ```np.nan```"
   ]
  },
  {
   "cell_type": "code",
   "execution_count": null,
   "metadata": {},
   "outputs": [],
   "source": [
    "np.array([[np.inf, np.nan],[1, 3]])"
   ]
  },
  {
   "cell_type": "markdown",
   "metadata": {},
   "source": [
    "* Aún cuando el resultado de la operación da por resultado números finitos, el valor del segundo elemento excede la capacidad del sistema."
   ]
  },
  {
   "cell_type": "code",
   "execution_count": null,
   "metadata": {},
   "outputs": [],
   "source": [
    "np.array((1, 2.5)) ** 2654"
   ]
  },
  {
   "cell_type": "markdown",
   "metadata": {},
   "source": [
    "<p style=\"text-align: center\"><a rel=\"license\" href=\"http://creativecommons.org/licenses/by/4.0/\"><img alt=\"Licencia Creative Commons\" style=\"border-width:0\" src=\"https://i.creativecommons.org/l/by/4.0/80x15.png\" /></a><br />Esta obra está bajo una <a rel=\"license\" href=\"http://creativecommons.org/licenses/by/4.0/\">Licencia Creative Commons Atribución 4.0 Internacional</a>.</p>\n",
    "<p style=\"text-align: center\">&copy; José Luis Chiquete Valdivieso. 2021.</p>"
   ]
  }
 ],
 "metadata": {
  "kernelspec": {
   "display_name": "Python 3 (ipykernel)",
   "language": "python",
   "name": "python3"
  },
  "language_info": {
   "codemirror_mode": {
    "name": "ipython",
    "version": 3
   },
   "file_extension": ".py",
   "mimetype": "text/x-python",
   "name": "python",
   "nbconvert_exporter": "python",
   "pygments_lexer": "ipython3",
   "version": "3.8.8"
  }
 },
 "nbformat": 4,
 "nbformat_minor": 2
}
