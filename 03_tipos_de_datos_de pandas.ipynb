{
 "cells": [
  {
   "cell_type": "markdown",
   "metadata": {},
   "source": [
    "[![imagenes/pythonista.png](imagenes/pythonista.png)](https://pythonista.io)"
   ]
  },
  {
   "cell_type": "markdown",
   "metadata": {},
   "source": [
    "Pandas toma como base a Numpy y lo extiende para poder realizar operaciones de análisis de datos, por lo que es compatible con elementos como:\n",
    "\n",
    "* *np.NaN*.\n",
    "* *np.Inf*."
   ]
  },
  {
   "cell_type": "code",
   "execution_count": null,
   "metadata": {},
   "outputs": [],
   "source": [
    "import pandas as pd\n",
    "import numpy as np"
   ]
  },
  {
   "cell_type": "markdown",
   "metadata": {},
   "source": [
    "## Tipos de datos de Pandas.\n",
    "\n",
    "Pandas extiende y restringe los tipos de datos de Python y de Numpy a los siguientes:\n",
    "\n",
    "* *object*, el cual representa a una cadena de caracteres.\n",
    "* *int64*, es el tipo para números enteros. \n",
    "* *float64* es el tipo para números de punto flotante.\n",
    "* *bool* es el tipo para valores booleanos.\n",
    "* *datetime64* es el tipo usado para gestionar fechas y horas.\n",
    "* *timedelta* es el tipo de diferencias de tiempo. Se estudiará más adelante.\n",
    "* *category* es un tipo de dato que contiene una colección finita de posibles valores y se estudiará más adelante."
   ]
  },
  {
   "cell_type": "markdown",
   "metadata": {},
   "source": [
    "### La función *pd.datetime()*.\n",
    "\n",
    "Esta función crea elementos de un tipo *datetime64*.\n",
    "\n",
    "```\n",
    "datetime(<año>, <mes>, <día>, <hora>, <minuto>, <segundo>, <microsegundo>,<tzinfo>)\n",
    "```\n",
    "\n",
    "Los datos obligatorios de este formato son:\n",
    "\n",
    "* *año*.\n",
    "* *mes*.\n",
    "* *día*."
   ]
  },
  {
   "cell_type": "markdown",
   "metadata": {},
   "source": [
    "**Ejemplo:**\n",
    "\n",
    "* A continuación se creará un Dataframe que define las columnas.\n",
    "    * *nombres* de tipo *object*.\n",
    "    * *fechas* de tipo *datetime64*.\n",
    "    * *saldo* de tipo *float64*.\n",
    "    * *al corriente* de tipo *bool*."
   ]
  },
  {
   "cell_type": "code",
   "execution_count": null,
   "metadata": {},
   "outputs": [],
   "source": [
    "datos = pd.DataFrame({'nombres':('Juan Pérez',\n",
    "                                 'María Sánchez'\n",
    "                                 , 'Jorge Vargas',\n",
    "                                 'Rodrigo Martínez'),\n",
    "            'fechas':(pd.datetime(1995,12,21), \n",
    "                      pd.datetime(1989,1,13), \n",
    "                      pd.datetime(1992,9,14), \n",
    "                      pd.datetime(1993,7,8)),\n",
    "            'saldo': (2500, \n",
    "                      5345, \n",
    "                      np.NaN, \n",
    "                      11323.2),\n",
    "            'al corriente':(True, \n",
    "                            True, \n",
    "                            False, \n",
    "                            True)})"
   ]
  },
  {
   "cell_type": "code",
   "execution_count": null,
   "metadata": {
    "scrolled": true
   },
   "outputs": [],
   "source": [
    "datos"
   ]
  },
  {
   "cell_type": "markdown",
   "metadata": {},
   "source": [
    "## El atributo *dtypes*.\n",
    "\n",
    "Este atributo regresa un listado de los tipos de datos de cada columna de un Dataframe."
   ]
  },
  {
   "cell_type": "markdown",
   "metadata": {},
   "source": [
    "**Ejemplo:**\n",
    "\n",
    "* A partir del Dataframe *datos* se obtendrá el tipo de datos de cada columna. "
   ]
  },
  {
   "cell_type": "code",
   "execution_count": null,
   "metadata": {},
   "outputs": [],
   "source": [
    "datos.dtypes"
   ]
  },
  {
   "cell_type": "markdown",
   "metadata": {},
   "source": [
    "## El método *astype()*.\n",
    "\n",
    "Este método permite transformar un objeto de Pandas a un tipo de dato específico. \n",
    "\n",
    "```\n",
    "<serie o dataframe>.astype('<tipo>')\n",
    "```"
   ]
  },
  {
   "cell_type": "markdown",
   "metadata": {},
   "source": [
    "**Ejemplos:**"
   ]
  },
  {
   "cell_type": "markdown",
   "metadata": {},
   "source": [
    "* La siguiente celda convertirá el contenido del Dataframe *datos* a *str*, lo cual dará por resultado elemenbtos de tipo *object*."
   ]
  },
  {
   "cell_type": "code",
   "execution_count": null,
   "metadata": {},
   "outputs": [],
   "source": [
    "datos.astype(str)"
   ]
  },
  {
   "cell_type": "code",
   "execution_count": null,
   "metadata": {},
   "outputs": [],
   "source": [
    "datos.astype(str).dtypes"
   ]
  },
  {
   "cell_type": "markdown",
   "metadata": {},
   "source": [
    "* La siguiente celda intentará convertir el contenido de la columna *datos['saldo']* a *int64*. Sin embargo, algunos de sus contenidos no pueden ser convertidos a ese tipo de datos."
   ]
  },
  {
   "cell_type": "code",
   "execution_count": null,
   "metadata": {},
   "outputs": [],
   "source": [
    "datos['saldo'].astype(\"int64\")"
   ]
  },
  {
   "cell_type": "markdown",
   "metadata": {},
   "source": [
    "## La función *pd.to_datetime()*.\n",
    "\n",
    "Esta función permite crear una columna de tipo *datetime64* a partir de columnas cuyos encabezados sean:\n",
    "\n",
    "* *year* (obligatorio)\n",
    "* *month* (obligatorio)\n",
    "* *day* (obligatorio)\n",
    "* *hour*\n",
    "* *minutes*\n",
    "* *seconds*"
   ]
  },
  {
   "cell_type": "markdown",
   "metadata": {},
   "source": [
    "**Ejemplo:**"
   ]
  },
  {
   "cell_type": "markdown",
   "metadata": {},
   "source": [
    "* La siguiente celda creará una dataframe con las columnas:\n",
    "    * *year*\n",
    "    * *month*\n",
    "    * *day*\n",
    "    * *hour*\n",
    "    * *minutes*\n",
    "    * *seconds*"
   ]
  },
  {
   "cell_type": "code",
   "execution_count": null,
   "metadata": {},
   "outputs": [],
   "source": [
    "fechas = pd.DataFrame({'year': [1997, 1982, 1985],\n",
    "                       'month': [1, 12, 3],\n",
    "                       'day': [14, 5, 21],\n",
    "                       'hour':[17, 0, 4],\n",
    "                       'minutes':[45, 39, 28],\n",
    "                      'seconds':[11.1803, 23.74583, 3.8798]})"
   ]
  },
  {
   "cell_type": "code",
   "execution_count": null,
   "metadata": {},
   "outputs": [],
   "source": [
    "fechas"
   ]
  },
  {
   "cell_type": "markdown",
   "metadata": {},
   "source": [
    "* A continuacion se aplicará la función *pd.to_datetime()*.\n",
    "\n",
    "En este caso el dataframe es transformado en una serie, la cual será nombrada *nuevas_fechas*."
   ]
  },
  {
   "cell_type": "code",
   "execution_count": null,
   "metadata": {},
   "outputs": [],
   "source": [
    "nuevas_fechas = pd.to_datetime(fechas)"
   ]
  },
  {
   "cell_type": "code",
   "execution_count": null,
   "metadata": {},
   "outputs": [],
   "source": [
    "nuevas_fechas"
   ]
  },
  {
   "cell_type": "code",
   "execution_count": null,
   "metadata": {},
   "outputs": [],
   "source": [
    "type(nuevas_fechas)"
   ]
  },
  {
   "cell_type": "markdown",
   "metadata": {},
   "source": [
    "## La función *pd.to_numeric()*.\n",
    "\n",
    "Esta función transforma a un objeto a un formato numérico."
   ]
  },
  {
   "cell_type": "markdown",
   "metadata": {},
   "source": [
    "**Ejemplo:**"
   ]
  },
  {
   "cell_type": "markdown",
   "metadata": {},
   "source": [
    "* La siguiente celda transformará la serie *nuevas_fechas* a formato numérico."
   ]
  },
  {
   "cell_type": "code",
   "execution_count": null,
   "metadata": {},
   "outputs": [],
   "source": [
    "pd.to_numeric(nuevas_fechas)"
   ]
  },
  {
   "cell_type": "code",
   "execution_count": null,
   "metadata": {},
   "outputs": [],
   "source": [
    "pd.to_datetime(pd.to_numeric(nuevas_fechas))"
   ]
  },
  {
   "cell_type": "markdown",
   "metadata": {},
   "source": [
    "## La función pd.to_timedelta().\n",
    "\n",
    "Esta función convertirá valores numéricos a formato *timedelta* usando nanosegundos como referencia."
   ]
  },
  {
   "cell_type": "markdown",
   "metadata": {},
   "source": [
    "**Ejemplo:**"
   ]
  },
  {
   "cell_type": "markdown",
   "metadata": {},
   "source": [
    "* La siguiente celda generará un dataframe que contiene una secuencia de 100 números."
   ]
  },
  {
   "cell_type": "code",
   "execution_count": null,
   "metadata": {},
   "outputs": [],
   "source": [
    "datos = pd.DataFrame(np.arange(2811154301025, 2811154301125, 5).reshape(10, 2))"
   ]
  },
  {
   "cell_type": "code",
   "execution_count": null,
   "metadata": {},
   "outputs": [],
   "source": [
    "datos"
   ]
  },
  {
   "cell_type": "markdown",
   "metadata": {},
   "source": [
    "* Se aplicará la función *pd.to_timedelta()* a *datos[1]*."
   ]
  },
  {
   "cell_type": "code",
   "execution_count": null,
   "metadata": {},
   "outputs": [],
   "source": [
    "pd.to_timedelta(datos[1])"
   ]
  },
  {
   "cell_type": "code",
   "execution_count": null,
   "metadata": {},
   "outputs": [],
   "source": [
    "pd.to_timedelta(nuevas_fechas)"
   ]
  },
  {
   "cell_type": "markdown",
   "metadata": {},
   "source": [
    "<p style=\"text-align: center\"><a rel=\"license\" href=\"http://creativecommons.org/licenses/by/4.0/\"><img alt=\"Licencia Creative Commons\" style=\"border-width:0\" src=\"https://i.creativecommons.org/l/by/4.0/80x15.png\" /></a><br />Esta obra está bajo una <a rel=\"license\" href=\"http://creativecommons.org/licenses/by/4.0/\">Licencia Creative Commons Atribución 4.0 Internacional</a>.</p>\n",
    "<p style=\"text-align: center\">&copy; José Luis Chiquete Valdivieso. 2019.</p>"
   ]
  }
 ],
 "metadata": {
  "kernelspec": {
   "display_name": "Python 3",
   "language": "python",
   "name": "python3"
  },
  "language_info": {
   "codemirror_mode": {
    "name": "ipython",
    "version": 3
   },
   "file_extension": ".py",
   "mimetype": "text/x-python",
   "name": "python",
   "nbconvert_exporter": "python",
   "pygments_lexer": "ipython3",
   "version": "3.6.5"
  }
 },
 "nbformat": 4,
 "nbformat_minor": 2
}
