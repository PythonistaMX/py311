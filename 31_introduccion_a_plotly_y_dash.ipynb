{
 "cells": [
  {
   "cell_type": "markdown",
   "metadata": {},
   "source": [
    "[![img/pythonista.png](img/pythonista.png)](https://www.pythonista.io)"
   ]
  },
  {
   "cell_type": "markdown",
   "metadata": {},
   "source": [
    "# Introducción a *Plotly* y *Dash*."
   ]
  },
  {
   "cell_type": "markdown",
   "metadata": {},
   "source": [
    "[*Plotly*](https://plotly.com/) es una empresa de tecnología especializada en ofrecer soluciones comerciales y de código abierto enfocadas en visualización y analítica de datos de forma interactiva. *Plotly* ha desarrollado y publicado [un conjunto de bibliotecas](https://plotly.com/graphing-libraries/) para el despliegue de visualizaciones gráficas interactivas de código abierto. Entre ellas están:\n",
    "\n",
    "* [*Plotly* para *Python*](https://plotly.com/python/).\n",
    "* [*Plotly* para *R*](https://plotly.com/r/).\n",
    "* [*Plotly* para *Javascript*](https://plotly.com/javascript/).\n",
    "* [*Dash*](https://dash.plotly.com/).\n",
    "\n",
    "Las bibiliotecas de *Plotly* permiten deplegar gráficas interactivas en diversos lenguajes de programación, mientras que  *Dash* es una biblioteca de analítica basada en *Plotly* y [*React.js*](https://reactjs.org/), la cual permite crear y desplegar aplicaciones gráficas interactivas."
   ]
  },
  {
   "cell_type": "code",
   "execution_count": null,
   "metadata": {},
   "outputs": [],
   "source": [
    "pip install plotly dash"
   ]
  },
  {
   "cell_type": "markdown",
   "metadata": {},
   "source": [
    "### *Jupyter Dash*.\n",
    "\n",
    "*Jupyter Dash* es una biblioteca que permite desarrollar aplicaciones de *Dash* desde una *notebook* de *Jupyter*.\n",
    "\n",
    "https://github.com/plotly/jupyter-dash"
   ]
  },
  {
   "cell_type": "code",
   "execution_count": null,
   "metadata": {},
   "outputs": [],
   "source": [
    "pip install jupyter-dash"
   ]
  },
  {
   "cell_type": "markdown",
   "metadata": {},
   "source": [
    "**Ejemplo:**"
   ]
  },
  {
   "cell_type": "markdown",
   "metadata": {},
   "source": [
    "* El código de la siguiente celda está basado en el código publicado en:\n",
    "    * https://medium.com/plotly/introducing-jupyterdash-811f1f57c02e\n",
    "\n",
    "* La siguiente celda creará una aplicación basada en *Jupyter Dask*, a partir del *dataframe* [```plotly.express.data.tips```](https://plotly.com/python-api-reference/generated/plotly.express.data.html#plotly.express.data.tips) y presentará un menú desplegable que permite  seleccionar cualquiera de las paletas de colores que regresa la función [```plotly.express.colors.named_colorscales() ```](https://plotly.com/python-api-reference/generated/plotly.express.colors.html#plotly.express.colors.named_colorscales). Al seleccionar una paleta, la gráfica se actualizará con los colores seleccionados."
   ]
  },
  {
   "cell_type": "code",
   "execution_count": null,
   "metadata": {
    "scrolled": true
   },
   "outputs": [],
   "source": [
    "import plotly.express as px\n",
    "from jupyter_dash import JupyterDash\n",
    "from dash import dcc\n",
    "from dash import html\n",
    "from dash.dependencies import Input, Output\n",
    "\n",
    "# Carga el dataframe con los datos\n",
    "df = px.data.tips()\n",
    "\n",
    "# Construye la aplicación\n",
    "app = JupyterDash(__name__)\n",
    "app.layout = html.Div([\n",
    "    html.H1(\"JupyterDash Demo\"),\n",
    "    dcc.Graph(id='graph'),\n",
    "    html.Label([\n",
    "        \"colorscale\",\n",
    "        dcc.Dropdown(\n",
    "            id='colorscale-dropdown', clearable=False,\n",
    "            value='plasma', options=[\n",
    "                {'label': c, 'value': c}\n",
    "                for c in px.colors.named_colorscales()\n",
    "            ])\n",
    "    ]),\n",
    "])\n",
    "# Define el callback para actualizar la gráfica\n",
    "@app.callback(\n",
    "    Output('graph', 'figure'),\n",
    "    [Input(\"colorscale-dropdown\", \"value\")]\n",
    ")\n",
    "def update_figure(colorscale):\n",
    "    return px.scatter(\n",
    "        df, x=\"total_bill\", y=\"tip\", color=\"size\",\n",
    "        color_continuous_scale=colorscale,\n",
    "        render_mode=\"webgl\", title=\"Tips\"\n",
    "    )\n",
    "# Correr la aplicación en la notebook \n",
    "app.run_server(mode='inline')"
   ]
  },
  {
   "cell_type": "markdown",
   "metadata": {},
   "source": [
    "## La biblioteca *plotly.js*."
   ]
  },
  {
   "cell_type": "markdown",
   "metadata": {},
   "source": [
    "La biblioteca [*plotly.js*](https://plotly.com/javascript/) está basada en *Javascript*,  [*D3.js*](https://d3js.org/) y  [*Stackgl*](http://stack.gl/). Es la encargada de desplegar visualizaciones desde un navegador al procesar  presentar (*render*)los datos que describen a unaa figura que son transmitidos mediante un formato llamado [*plot_schema*](https://raw.githubusercontent.com/plotly/plotly.js/master/dist/plot-schema.json) basado en *JSON*."
   ]
  },
  {
   "cell_type": "markdown",
   "metadata": {},
   "source": [
    "## Los *graph objects* ."
   ]
  },
  {
   "cell_type": "markdown",
   "metadata": {},
   "source": [
    "### El paquete ```plotly.graph_objects ```.\n",
    "\n",
    "El paquete [```plotly.graph_objects ```](https://plotly.com/python-api-reference/generated/plotly.graph_objects.html) contiene una colección de clases cuyos objetos instanciados pueden ser serializadas en formato *plot-schema* y presentados (*rendered*) por *plotly.js*. "
   ]
  },
  {
   "cell_type": "markdown",
   "metadata": {},
   "source": [
    "### La clase ```plotly.graph_objects.Figure```.\n",
    "\n",
    "Los objetos instanciados de la clase  [```plotly.graph_objects.Figure```](https://plotly.com/python-api-reference/generated/plotly.graph_objects.Figure.html#plotly-graph-objs-figure) representan el componente primoridal sobre el que se construirán todos los aspectos de las visualizaciones de *plotly*. A los objetos instanciados de las clases contenidas en ```plotly.graph_objects.Figure``` se les conoce como [*graph_objects*](https://plotly.com/python/graph-objects/) y por convención se les reifiere como ```go```."
   ]
  },
  {
   "cell_type": "markdown",
   "metadata": {},
   "source": [
    "## Despliegue de los *graph objects*.\n",
    "\n",
    "Debido a que los *graph objects* sólo contienen la información para construir una figura, es necesario utilizar mecanismos para desplegar las figuras. En *Python* existen 5 modos de desplegar un *graph object*: \n",
    "\n",
    "* Utilizando alguno de las posibles configuraciones de *renderers* enumerados en [```plotly.io.renderers```](https://plotly.com/python-api-reference/generated/plotly.io.renderers.html).\n",
    "* Utilizando *Dash* en un contexto de aplicación web.\n",
    "* Utilizando [```FigureWidget```](https://plotly.com/python/figurewidget/) en un contexto de [*ipywidgets*](https://ipywidgets.readthedocs.io/en/stable/).\n",
    "* Exportando a [un documento *HTML*](https://plotly.com/python/interactive-html-export/).\n",
    "* Creando una imagen estática usando [*Kaleido*](https://github.com/plotly/Kaleido).\n",
    "\n",
    "Fuente: https://plotly.com/python/renderers/"
   ]
  },
  {
   "cell_type": "markdown",
   "metadata": {},
   "source": [
    "**Ejemplo:**"
   ]
  },
  {
   "cell_type": "markdown",
   "metadata": {},
   "source": [
    "* La siguiente celda importará el paquete ```plotly.io``` y mostrará la el *renderer* configurado por defecto para esta *notebook*, así como una lista de los *renderers* disponibles."
   ]
  },
  {
   "cell_type": "code",
   "execution_count": null,
   "metadata": {},
   "outputs": [],
   "source": [
    "import plotly.io as io\n",
    "io.renderers"
   ]
  },
  {
   "cell_type": "markdown",
   "metadata": {},
   "source": [
    "* La siguiente celda creará al objeto ```fig```, el cual es un *graph object* creado mediante la función [```plotly.express.line()```](https://plotly.com/python-api-reference/generated/plotly.express.html#plotly.express.line) a partir del *dataframe* obtenido desde [```plotly.express.data.stocks()```](https://plotly.com/python-api-reference/generated/plotly.express.data.html#plotly.express.data.stocks)."
   ]
  },
  {
   "cell_type": "code",
   "execution_count": null,
   "metadata": {},
   "outputs": [],
   "source": [
    "df = px.data.stocks()\n",
    "fig = px.line(df,x=\"date\", y=\"NFLX\")"
   ]
  },
  {
   "cell_type": "code",
   "execution_count": null,
   "metadata": {},
   "outputs": [],
   "source": [
    "df"
   ]
  },
  {
   "cell_type": "code",
   "execution_count": null,
   "metadata": {},
   "outputs": [],
   "source": [
    "type(fig)"
   ]
  },
  {
   "cell_type": "markdown",
   "metadata": {},
   "source": [
    "### El método ```go.show()``` .\n",
    "\n",
    "El método ```go.show()```  presenta (*render*) la imagen correspondiente a un *graph object* usando el *renderer* configurado para el contexto existente.\n",
    "\n",
    "```\n",
    "go.show(<renderer>)\n",
    "```\n",
    "Donde:\n",
    "\n",
    "* ```<renderer>```  es el *renderer* que se uitlizará para construir y mostrar al *graph object*.\n",
    "\n",
    "\n",
    "https://plotly.com/python-api-reference/generated/plotly.graph_objects.Figure.html#plotly.graph_objects.Figure.show"
   ]
  },
  {
   "cell_type": "markdown",
   "metadata": {},
   "source": [
    "**Ejemplo:**"
   ]
  },
  {
   "cell_type": "markdown",
   "metadata": {},
   "source": [
    "* La siguiente celda desplegrará la imagen interactiva del objeto ```fig```."
   ]
  },
  {
   "cell_type": "code",
   "execution_count": null,
   "metadata": {
    "scrolled": true
   },
   "outputs": [],
   "source": [
    "fig.show()"
   ]
  },
  {
   "cell_type": "markdown",
   "metadata": {},
   "source": [
    " ## El paquete ```plotly.express```."
   ]
  },
  {
   "cell_type": "markdown",
   "metadata": {},
   "source": [
    "Aún cuando es posible manipular directamente los *graph objects*, se recomienda utilizar la biblioteca de funciones y los *datasets* del paquete ```plotly.express```, el cual por convención es ```px```.\n",
    "\n",
    "El paquete ```plotly.express``` contiene:\n",
    "\n",
    "* Una *API* especialiizada en crear visaulizaciones interactivas:\n",
    "    * https://plotly.com/python-api-reference/plotly.express.html\n",
    "* Una *API* que permite acceder a una biblioteca de *datasets* con datos de prueba localizada en el paquete ```plotly.express.data```.\n",
    "    * https://plotly.com/python-api-reference/generated/plotly.express.data.html\n",
    "* Una *API* que permite acceder a una biblioteca de aplicación de *escalas de colores* contenida en el paquete ```plotly.express.colors```.   \n",
    "   * https://plotly.com/python-api-reference/generated/plotly.express.colors.html"
   ]
  },
  {
   "cell_type": "markdown",
   "metadata": {},
   "source": [
    "**Ejemplo:**"
   ]
  },
  {
   "cell_type": "markdown",
   "metadata": {},
   "source": [
    "https://plotly.com/python/scatter-plots-on-maps/"
   ]
  },
  {
   "cell_type": "code",
   "execution_count": null,
   "metadata": {},
   "outputs": [],
   "source": [
    "df = px.data.gapminder().query(\"year == 2007\")\n",
    "df"
   ]
  },
  {
   "cell_type": "code",
   "execution_count": null,
   "metadata": {},
   "outputs": [],
   "source": [
    "fig = px.scatter_geo(df, locations=\"iso_alpha\",\n",
    "                     size=\"pop\", \n",
    "                     )\n",
    "fig.show()"
   ]
  },
  {
   "cell_type": "markdown",
   "metadata": {},
   "source": [
    "## Desarrollo de aplicaciones web para visualizaciones interactivas con *Dash*."
   ]
  },
  {
   "cell_type": "markdown",
   "metadata": {},
   "source": [
    "*Dash* es un *framework* basado en:\n",
    "* [*Flask*](https://flask.palletsprojects.com/) para el *back-end*.\n",
    "* [*plotly.js*](https://plotly.com/javascript/) y [*react.js*](https://reactjs.org/) para el *front-end*.\n",
    "\n",
    "El objetivo de *Dash* es poder crear aplicaciones web que desplieguen visualizaciones interactivas basadas en *plotly* sin la necesidad de escribir código en *Javascript*.\n",
    "\n",
    "Las aplicaciones de *Dash* consisten en desplegar una plantilla (*layout*) utilizando elementos de *HTML* que con los que es posible interactuar mediante ciertas funciones o *callbacks* escritas en Python, definiendo objetos de entrada y salida.\n",
    "\n",
    "\n",
    "https://dash.gallery/Portal/"
   ]
  },
  {
   "cell_type": "markdown",
   "metadata": {},
   "source": [
    "### La clase ```dash.Dash```.\n",
    "\n",
    "De forma similar a *Flask*, la aplicación web se crea instanciando la clase  ```dash.Dash```.\n",
    "\n",
    "```\n",
    "app= dash.Dash('__name__')\n",
    "```\n",
    "\n",
    "Por convención las instancias de ```dash.Dash```son nombradas como ```app```."
   ]
  },
  {
   "cell_type": "markdown",
   "metadata": {},
   "source": [
    "### El atributo ```app.layout```.\n",
    "\n",
    "Este atributo contiene el cuerpo del documento que será desplegada en la ruta raíz de la aplicación.\n",
    "\n",
    "\n",
    "```\n",
    "app.layout=<contenido>\n",
    "```\n",
    "\n",
    "Donde: \n",
    "\n",
    "* <contenido> Es el contenido que será procesado por la aplicación consistente en código de *Python*.\n",
    "\n",
    "https://dash.plotly.com/layout"
   ]
  },
  {
   "cell_type": "markdown",
   "metadata": {},
   "source": [
    "### El paquete ```dash.html```.\n",
    "\n",
    "El paquete ```dash.html``` contiene una biblioteca de clases que pueden ser utilizadas para construir la esturctura del contenido de ```app.layout``` y correponden a elementos *HTML* que pueden ser convertidos en código *HTML*.\n",
    "\n",
    "```\n",
    "app.layout=dash.html.div(...)\n",
    "```\n",
    "\n",
    "https://dash.plotly.com/dash-html-components"
   ]
  },
  {
   "cell_type": "markdown",
   "metadata": {},
   "source": [
    "### El paquete ```dash.dcc```.\n",
    "\n",
    "Además del contenido propio generado por las clases de ```dash.html```, cuya naturaleza es primordialmente estática, el paquete ```dash.dcc``` ofrece una biblioteca de componentes centrales (*dash core components*) que facilitan la interacción con las figuras creadas con *plotly*.\n",
    "\n",
    "https://dash.plotly.com/dash-core-components"
   ]
  },
  {
   "cell_type": "markdown",
   "metadata": {},
   "source": [
    "### Funciones propias.\n",
    "\n",
    "El atributo ```app.layout``` y las clases de ```dash.html``` permiten gestionar contenido creado mediante funciones y métodos, por lo que es posible extender los elementos de ```dash.dcc``` con funciones propias."
   ]
  },
  {
   "cell_type": "markdown",
   "metadata": {},
   "source": [
    "### El método ```app.callback()```.\n",
    "\n",
    "El método ```app.callback()``` es un decorador que permite definir funciones que se ejecutarán cuando ciertos elementos del *front-end* cambien de valor Los valores de entrada se definen mediante la clase ```dash.Input``` y los de salida mediante la clase ```dash.Output```.\n",
    "\n",
    "```\n",
    "@app.callback(\n",
    "    dash.Input(component_id=<id_in>, component_property=<prop_in>),\n",
    "    dash.Ouput(component_id='<id_out>, component_property=<prop_out>)\n",
    ")\n",
    "def <func>(<arg_in>)\n",
    "   ...\n",
    "```\n",
    "\n",
    "Donde:\n",
    "\n",
    "* ```func``` es una función a  la que se le aplicará el decorador.\n",
    "* ```<id_in>``` es un objeto ```str``` con el valor del ```id``` del elemento *HTML* del que se obtendrá una propiedad.\n",
    "* ```<id_out>``` es un objeto ```str``` con el valor del ```id``` del elemento *HTML* al que se le asignará una propiedad.\n",
    "* ```<prop_in``` es el valor de una propiedad del elemento con *id* ```<id_in>``` que se usará como argumento para la función ```func```.\n",
    "* ```<prop_out``` es el valor de una propiedad del elemento con *id* ```<id_out>``` a la que se le asignará lo que regrese la función ```<func>```."
   ]
  },
  {
   "cell_type": "markdown",
   "metadata": {},
   "source": [
    "## La aplicación ```hola_mundo.py```."
   ]
  },
  {
   "cell_type": "markdown",
   "metadata": {},
   "source": [
    "```python\n",
    "\n",
    "from dash import Dash, html\n",
    "import pandas as pd\n",
    "\n",
    "df = pd.read_csv('https://gist.githubusercontent.com/chriddyp/c78bf172206ce24f77d6363a2d754b59/raw/c353e8ef842413cae56ae3920b8fd78468aa4cb2/usa-agricultural-exports-2011.csv')\n",
    "\n",
    "\n",
    "def generate_table(dataframe, max_rows=10):\n",
    "    return html.Table([\n",
    "        html.Thead(\n",
    "            html.Tr([html.Th(col) for col in dataframe.columns])\n",
    "        ),\n",
    "        html.Tbody([\n",
    "            html.Tr([\n",
    "                html.Td(dataframe.iloc[i][col]) for col in dataframe.columns\n",
    "            ]) for i in range(min(len(dataframe), max_rows))\n",
    "        ])\n",
    "    ])\n",
    "\n",
    "\n",
    "app = Dash(__name__)\n",
    "\n",
    "app.layout = html.Div([\n",
    "    html.H4(children='US Agriculture Exports (2011)'),\n",
    "    generate_table(df)\n",
    "])\n",
    "\n",
    "if __name__ == '__main__':\n",
    "    app.run_server(debug=True, port=8080)\n",
    "\n",
    "```"
   ]
  },
  {
   "cell_type": "code",
   "execution_count": null,
   "metadata": {},
   "outputs": [],
   "source": [
    "%run src/31/hola_mundo.py"
   ]
  },
  {
   "cell_type": "markdown",
   "metadata": {},
   "source": [
    "## La aplicación ```callback.py```."
   ]
  },
  {
   "cell_type": "markdown",
   "metadata": {},
   "source": [
    "```python\n",
    "from dash import Dash, dcc, html, Input, Output\n",
    "\n",
    "app = Dash(__name__)\n",
    "\n",
    "app.layout = html.Div([\n",
    "    html.H6(\"Change the value in the text box to see callbacks in action!\"),\n",
    "    html.Div([\n",
    "        \"Input: \",\n",
    "        dcc.Input(id='my-input', value='initial value', type='text')\n",
    "    ]),\n",
    "    html.Br(),\n",
    "    html.Div(id='my-output'),\n",
    "\n",
    "])\n",
    "\n",
    "\n",
    "@app.callback(\n",
    "    Output(component_id='my-output', component_property='children'),\n",
    "    Input(component_id='my-input', component_property='value')\n",
    ")\n",
    "def update_output_div(input_value):\n",
    "    return f'Output: {input_value}'\n",
    "\n",
    "\n",
    "if __name__ == '__main__':\n",
    "    app.run_server(debug=True, port=8080, host=\"0.0.0.0\")\n",
    "```"
   ]
  },
  {
   "cell_type": "code",
   "execution_count": null,
   "metadata": {},
   "outputs": [],
   "source": [
    "%run src/31/hola_mundo.py"
   ]
  },
  {
   "cell_type": "markdown",
   "metadata": {},
   "source": [
    "<p style=\"text-align: center\"><a rel=\"license\" href=\"http://creativecommons.org/licenses/by/4.0/\"><img alt=\"Licencia Creative Commons\" style=\"border-width:0\" src=\"https://i.creativecommons.org/l/by/4.0/80x15.png\" /></a><br />Esta obra está bajo una <a rel=\"license\" href=\"http://creativecommons.org/licenses/by/4.0/\">Licencia Creative Commons Atribución 4.0 Internacional</a>.</p>\n",
    "<p style=\"text-align: center\">&copy; José Luis Chiquete Valdivieso. 2022.</p>"
   ]
  }
 ],
 "metadata": {
  "kernelspec": {
   "display_name": "Python 3 (ipykernel)",
   "language": "python",
   "name": "python3"
  },
  "language_info": {
   "codemirror_mode": {
    "name": "ipython",
    "version": 3
   },
   "file_extension": ".py",
   "mimetype": "text/x-python",
   "name": "python",
   "nbconvert_exporter": "python",
   "pygments_lexer": "ipython3",
   "version": "3.10.6"
  }
 },
 "nbformat": 4,
 "nbformat_minor": 2
}
