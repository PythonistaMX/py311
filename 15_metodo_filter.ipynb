{
 "cells": [
  {
   "cell_type": "markdown",
   "metadata": {},
   "source": [
    "[![img/pythonista.png](img/pythonista.png)](https://www.pythonista.io)"
   ]
  },
  {
   "cell_type": "markdown",
   "metadata": {},
   "source": [
    "# El método ```pd.DataFrame.filter()```."
   ]
  },
  {
   "cell_type": "code",
   "execution_count": null,
   "metadata": {},
   "outputs": [],
   "source": [
    "import pandas as pd\n",
    "from datetime import datetime"
   ]
  },
  {
   "cell_type": "markdown",
   "metadata": {},
   "source": [
    "El método ```pd.DataFrame.filter()``` permite buscar coincidencias mediante ciertos argumentos de búsqueda sobre los índices de un *dataframe*. El resultado es un *dataframe* nuevo con los elementos coincidentes de la búsqueda.\n",
    "\n",
    "```\n",
    "df.filter(<arg>, axis=<eje>)\n",
    "```\n",
    "\n",
    "Donde:\n",
    "\n",
    "* ```<arg>``` es un argumento que define los cirterios de búsqueda. Los parámetros disponibles para los argumentos de este método son:\n",
    "    * ```items``` en el que se definen los encabezados a buscar dentro de un objeto iterable.\n",
    "    * ```like``` en el que se define una cadena de caracteres que debe coincidir con el identificador de algún índice.\n",
    "    * ```regex``` define un patrón mediante una expresión regular.\n",
    "* ```<eje>``` puede ser:\n",
    "    * ```0``` para realizar la búsqueda en los índices de los renglones.\n",
    "    * ```1``` para realizar la búsqueda en los índices de lass columnas. Este es el valor por defecto. \n",
    "\n",
    "\n",
    "https://pandas.pydata.org/pandas-docs/stable/reference/api/pandas.DataFrame.filter.html"
   ]
  },
  {
   "cell_type": "markdown",
   "metadata": {},
   "source": [
    "**Ejemplos:**"
   ]
  },
  {
   "cell_type": "markdown",
   "metadata": {},
   "source": [
    "* La siguente celda definirá al *dataframe* ```facturas``` con los identificadores de columnas:\n",
    "    * ```'folio'```.\n",
    "    * ```'sucursal'```.\n",
    "    * ```'monto'```.\n",
    "    * ```'fecha'```.\n",
    "    * ```'cliente'```."
   ]
  },
  {
   "cell_type": "code",
   "execution_count": null,
   "metadata": {},
   "outputs": [],
   "source": [
    "facturas = pd.DataFrame({'folio':(15234, \n",
    "                      15235, \n",
    "                      15236, \n",
    "                      15237, \n",
    "                      15238, \n",
    "                      15239, \n",
    "                      15240,\n",
    "                      15241,\n",
    "                      15242),\n",
    "             'sucursal':('CDMX01',\n",
    "                         'MTY01',\n",
    "                         'CDMX02',\n",
    "                         'CDMX02',\n",
    "                         'MTY01',\n",
    "                         'GDL01',\n",
    "                         'CDMX02',\n",
    "                         'MTY01',\n",
    "                         'GDL01'),\n",
    "             'monto':(1420.00,\n",
    "                     1532.00,\n",
    "                     890.00,\n",
    "                     1300.00,\n",
    "                     3121.47,\n",
    "                     1100.5,\n",
    "                     12230,\n",
    "                     230.85,\n",
    "                     1569),\n",
    "             'fecha':(datetime(2019,3,11,17,24),\n",
    "                     datetime(2019,3,24,14,46),\n",
    "                     datetime(2019,3,25,17,58),\n",
    "                     datetime(2019,3,27,13,11),\n",
    "                     datetime(2019,3,31,10,25),\n",
    "                     datetime(2019,4,1,18,32),\n",
    "                     datetime(2019,4,3,11,43),\n",
    "                     datetime(2019,4,4,16,55),\n",
    "                     datetime(2019,4,5,12,59)),\n",
    "            'id_cliente':(19234,\n",
    "                          19232,\n",
    "                          19235,\n",
    "                          19233,\n",
    "                          19236,\n",
    "                          19237,\n",
    "                          19232,\n",
    "                          19233,\n",
    "                          19232)\n",
    "                        })"
   ]
  },
  {
   "cell_type": "code",
   "execution_count": null,
   "metadata": {
    "scrolled": true
   },
   "outputs": [],
   "source": [
    "facturas"
   ]
  },
  {
   "cell_type": "markdown",
   "metadata": {},
   "source": [
    "* La siguiente celda regresará un *dataframe* cuyos identificadores de columna sean exactamente ```'id_cliente'``` o ```'sucursal'```."
   ]
  },
  {
   "cell_type": "code",
   "execution_count": null,
   "metadata": {},
   "outputs": [],
   "source": [
    "facturas.filter(items=['id_cliente','sucursal'])"
   ]
  },
  {
   "cell_type": "markdown",
   "metadata": {},
   "source": [
    "* La siguiente celda regresará un *dataframe* cuyos identificadores de columna que incluyan la cadena ```'mon'```."
   ]
  },
  {
   "cell_type": "code",
   "execution_count": null,
   "metadata": {},
   "outputs": [],
   "source": [
    "facturas.filter(like=\"mon\")"
   ]
  },
  {
   "cell_type": "markdown",
   "metadata": {},
   "source": [
    "* La siguiente celda regresará un *dataframe* cuyos identificadores de columna que incluyan la cadena ```'o'```."
   ]
  },
  {
   "cell_type": "code",
   "execution_count": null,
   "metadata": {
    "scrolled": true
   },
   "outputs": [],
   "source": [
    "facturas.filter(like=\"o\")"
   ]
  },
  {
   "cell_type": "markdown",
   "metadata": {},
   "source": [
    "* La siguiente celda regresará un *dataframe* cuyos identificadores de índice que incluyan la cadena ```'1'```."
   ]
  },
  {
   "cell_type": "code",
   "execution_count": null,
   "metadata": {
    "scrolled": true
   },
   "outputs": [],
   "source": [
    "facturas.filter(like=\"1\", axis=0)"
   ]
  },
  {
   "cell_type": "markdown",
   "metadata": {},
   "source": [
    "* La siguiente celda regresará un *dataframe* cuyos identificadores de columna cumplan con la expresión regular ```r\"sal$\"```."
   ]
  },
  {
   "cell_type": "code",
   "execution_count": null,
   "metadata": {
    "scrolled": true
   },
   "outputs": [],
   "source": [
    "facturas.filter(regex=r\"sal$\")"
   ]
  },
  {
   "cell_type": "markdown",
   "metadata": {},
   "source": [
    "## Ejemplo de  ```pd.DataFrame.filter()``` y ```pd.DataFrame.merge().```"
   ]
  },
  {
   "cell_type": "markdown",
   "metadata": {},
   "source": [
    "* La siguiente celda creará al *dataframe* ```clientes``` con la estructura de columnas: \n",
    "    * ```'id'```.\n",
    "    * ```'nombre'```.\n",
    "    * ```'apellido'```.\n",
    "    * ```'suc_origen'```."
   ]
  },
  {
   "cell_type": "code",
   "execution_count": null,
   "metadata": {},
   "outputs": [],
   "source": [
    "clientes = pd.DataFrame({'id':(19232, \n",
    "                             19233, \n",
    "                             19234, \n",
    "                             19235, \n",
    "                             19236),\n",
    "                       'nombre':('Adriana',\n",
    "                               'Marcos',\n",
    "                               'Rubén',\n",
    "                               'Samuel',\n",
    "                               'Martha'),\n",
    "                       'apellido':('Sánchez',\n",
    "                                   'García',\n",
    "                                   'Rincón',\n",
    "                                   'Oliva',\n",
    "                                   'Martínez'),\n",
    "                        'suc_origen':('CDMX01',\n",
    "                                      'CDMX02',\n",
    "                                      'CDMX02',\n",
    "                                      'CDMX01',\n",
    "                                      'CDMX03')\n",
    "                        })"
   ]
  },
  {
   "cell_type": "code",
   "execution_count": null,
   "metadata": {},
   "outputs": [],
   "source": [
    "clientes"
   ]
  },
  {
   "cell_type": "markdown",
   "metadata": {},
   "source": [
    "* La siguiente celda combinará los métodos ```filter()``` y ```merge()``` que resultarán en un *dataframe* con una estructura de columnas:\n",
    "    * Su utilizará el método ```clientes.merge()``` para identificar coincidencias entre los elementos  de ```clientes['id']``` y ```facturas['id_cliente']```.\n",
    "    * Al *dataframe* resultante se le aplicará el método ```filter()```para regresar únicamente las columnas: \n",
    "        * ```'folio'```. \n",
    "        * ```'nombre```. \n",
    "        * ```'apellido'```.\n",
    "        * ```'monto'```."
   ]
  },
  {
   "cell_type": "code",
   "execution_count": null,
   "metadata": {
    "scrolled": true
   },
   "outputs": [],
   "source": [
    "clientes.merge(facturas,\n",
    "               left_on='id',\n",
    "               right_on='id_cliente')"
   ]
  },
  {
   "cell_type": "code",
   "execution_count": null,
   "metadata": {},
   "outputs": [],
   "source": [
    "clientes.filter(items=['folio', \n",
    "                        'nombre', \n",
    "                        'apellido', \n",
    "                        'monto'])"
   ]
  },
  {
   "cell_type": "code",
   "execution_count": null,
   "metadata": {
    "scrolled": true
   },
   "outputs": [],
   "source": [
    "clientes.merge(facturas,\n",
    "               left_on='id',\n",
    "               right_on='id_cliente').filter(items=['folio',\n",
    "                                                    'nombre', \n",
    "                                                    'apellido',\n",
    "                                                    'monto'])"
   ]
  },
  {
   "cell_type": "markdown",
   "metadata": {},
   "source": [
    "<p style=\"text-align: center\"><a rel=\"license\" href=\"http://creativecommons.org/licenses/by/4.0/\"><img alt=\"Licencia Creative Commons\" style=\"border-width:0\" src=\"https://i.creativecommons.org/l/by/4.0/80x15.png\" /></a><br />Esta obra está bajo una <a rel=\"license\" href=\"http://creativecommons.org/licenses/by/4.0/\">Licencia Creative Commons Atribución 4.0 Internacional</a>.</p>\n",
    "<p style=\"text-align: center\">&copy; José Luis Chiquete Valdivieso. 2022.</p>"
   ]
  }
 ],
 "metadata": {
  "kernelspec": {
   "display_name": "Python 3 (ipykernel)",
   "language": "python",
   "name": "python3"
  },
  "language_info": {
   "codemirror_mode": {
    "name": "ipython",
    "version": 3
   },
   "file_extension": ".py",
   "mimetype": "text/x-python",
   "name": "python",
   "nbconvert_exporter": "python",
   "pygments_lexer": "ipython3",
   "version": "3.9.2"
  }
 },
 "nbformat": 4,
 "nbformat_minor": 2
}
