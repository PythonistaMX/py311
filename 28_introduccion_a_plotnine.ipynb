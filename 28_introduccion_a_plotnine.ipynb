{
 "cells": [
  {
   "cell_type": "markdown",
   "metadata": {},
   "source": [
    "[![img/pythonista.png](img/pythonista.png)](https://www.pythonista.io)"
   ]
  },
  {
   "cell_type": "markdown",
   "metadata": {},
   "source": [
    "# Introducción a *Plotnine*."
   ]
  },
  {
   "cell_type": "markdown",
   "metadata": {},
   "source": [
    "[*Pltonine*](https://plotnine.readthedocs.io/en/stable/) es un proyecto que aprovecha la gramática de gráficas por capas desarrollada por Hadley Wickham, el creador de [*ggplot2*](https://ggplot2.tidyverse.org/), la popular herramienta de visualización de datos para *R*.\n",
    "\n",
    "Para conocer más sobre la teoría de la gramática de capas, es  pisble conasultar la siguiente liga:\n",
    "\n",
    "http://vita.had.co.nz/papers/layered-grammar.html"
   ]
  },
  {
   "cell_type": "code",
   "execution_count": null,
   "metadata": {
    "scrolled": true
   },
   "outputs": [],
   "source": [
    "!pip install plotnine"
   ]
  },
  {
   "cell_type": "code",
   "execution_count": null,
   "metadata": {},
   "outputs": [],
   "source": [
    "from plotnine import ggplot, aes, geom_line, geom_smooth, geom_histogram, geom_col, theme_xkcd, theme, element_text, lims, stat_quantile\n",
    "import pandas as pd\n",
    "import numpy as np\n",
    "from datetime import datetime\n",
    "from typing import Any"
   ]
  },
  {
   "cell_type": "markdown",
   "metadata": {},
   "source": [
    "## Gramática de capas de un gráfico."
   ]
  },
  {
   "cell_type": "markdown",
   "metadata": {},
   "source": [
    "La gramática de capas define una estructura de elementos que condformnan un gráfico.\n",
    "\n",
    "* Datos y  mapeo estético.\n",
    "* Objetos geométricos.\n",
    "* Escalas.\n",
    "* Especificación de faceta.\n",
    "* Transfromaciones específicas.\n",
    "* Sistema de coordenadas."
   ]
  },
  {
   "cell_type": "markdown",
   "metadata": {},
   "source": [
    "### Sintaxis de la gramática."
   ]
  },
  {
   "cell_type": "markdown",
   "metadata": {},
   "source": [
    "## La función ```ggplot()```."
   ]
  },
  {
   "cell_type": "markdown",
   "metadata": {},
   "source": [
    "```\n",
    "ggplot(data=<dattos>, mapping=<estética>, <argumentos>)\n",
    "```"
   ]
  },
  {
   "cell_type": "markdown",
   "metadata": {},
   "source": [
    "## La función ```aes()```."
   ]
  },
  {
   "cell_type": "markdown",
   "metadata": {},
   "source": [
    "## Funciones de geometría."
   ]
  },
  {
   "cell_type": "markdown",
   "metadata": {},
   "source": [
    "https://plotnine.readthedocs.io/en/stable/api.html#geoms"
   ]
  },
  {
   "cell_type": "code",
   "execution_count": null,
   "metadata": {},
   "outputs": [],
   "source": [
    "np.random.seed(23523889)"
   ]
  },
  {
   "cell_type": "code",
   "execution_count": null,
   "metadata": {},
   "outputs": [],
   "source": [
    "arreglo_base = pd.DataFrame(np.random.normal(12, 25, 1000), columns=pd.Index(['observaciones']))"
   ]
  },
  {
   "cell_type": "code",
   "execution_count": null,
   "metadata": {},
   "outputs": [],
   "source": [
    "arreglo_base"
   ]
  },
  {
   "cell_type": "code",
   "execution_count": null,
   "metadata": {
    "scrolled": false
   },
   "outputs": [],
   "source": [
    "ggplot(data=arreglo_base)"
   ]
  },
  {
   "cell_type": "code",
   "execution_count": null,
   "metadata": {},
   "outputs": [],
   "source": [
    "ggplot(data=arreglo_base, mapping=aes(x='observaciones')) + geom_histogram()"
   ]
  },
  {
   "cell_type": "code",
   "execution_count": null,
   "metadata": {
    "scrolled": true
   },
   "outputs": [],
   "source": [
    "(ggplot(data=arreglo_base, mapping=aes(x='observaciones')) + \n",
    "geom_histogram(bins=10, fill='yellow', color=\"orange\"))"
   ]
  },
  {
   "cell_type": "code",
   "execution_count": null,
   "metadata": {},
   "outputs": [],
   "source": [
    "histograma = pd.DataFrame(np.histogram(arreglo_base, bins=13)).T\n",
    "histograma.columns = pd.Index(['frecuencias','rangos'])"
   ]
  },
  {
   "cell_type": "code",
   "execution_count": null,
   "metadata": {
    "scrolled": true
   },
   "outputs": [],
   "source": [
    "ggplot(histograma, aes(x='rangos', y='frecuencias', fill='rangos')) + geom_col()"
   ]
  },
  {
   "cell_type": "code",
   "execution_count": null,
   "metadata": {},
   "outputs": [],
   "source": [
    "ggplot(histograma, aes(x='rangos', y='frecuencias', fill='rangos')) + geom_col()\n",
    " "
   ]
  },
  {
   "cell_type": "code",
   "execution_count": null,
   "metadata": {},
   "outputs": [],
   "source": [
    "casos = pd.read_csv('data/casos_confirmados.csv').set_index('nombre')"
   ]
  },
  {
   "cell_type": "code",
   "execution_count": null,
   "metadata": {},
   "outputs": [],
   "source": [
    "entidades = casos.T[2:].reset_index()\n",
    "cols = entidades.columns.to_list()\n",
    "cols[0] = 'fechas'\n",
    "entidades.columns = pd.Index(cols)\n",
    "entidades['fechas'] = pd.to_datetime(entidades['fechas'],infer_datetime_format=True)"
   ]
  },
  {
   "cell_type": "code",
   "execution_count": null,
   "metadata": {
    "scrolled": true
   },
   "outputs": [],
   "source": [
    "entidades"
   ]
  },
  {
   "cell_type": "code",
   "execution_count": null,
   "metadata": {},
   "outputs": [],
   "source": [
    "(ggplot(entidades, aes(x='fechas', y='Nacional'))\n",
    "+ geom_line() \n",
    "+ geom_smooth(color='red'))"
   ]
  },
  {
   "cell_type": "code",
   "execution_count": null,
   "metadata": {},
   "outputs": [],
   "source": [
    "(ggplot(entidades, aes(x='fechas', y='Nacional'))\n",
    "+ geom_line() \n",
    "+ geom_smooth(span=0.07, color='red'))"
   ]
  },
  {
   "cell_type": "code",
   "execution_count": null,
   "metadata": {
    "scrolled": false
   },
   "outputs": [],
   "source": [
    "(ggplot(entidades, aes(x='fechas', y='Nacional')) \n",
    " + geom_line() \n",
    " + geom_smooth(span=0.15, color='blue') \n",
    " + theme_xkcd())"
   ]
  },
  {
   "cell_type": "code",
   "execution_count": null,
   "metadata": {},
   "outputs": [],
   "source": [
    "data = entidades.iloc[365].to_frame()[1:-1].reset_index()\n",
    "data.columns = pd.Index(['Entidad', 'Casos'])"
   ]
  },
  {
   "cell_type": "code",
   "execution_count": null,
   "metadata": {},
   "outputs": [],
   "source": [
    "data.info()"
   ]
  },
  {
   "cell_type": "code",
   "execution_count": null,
   "metadata": {},
   "outputs": [],
   "source": [
    "(ggplot(data, aes(x='Entidad', y='Casos', fill='Casos'))  \n",
    " + geom_col()\n",
    " + theme(axis_text_x=element_text(rotation=90, hjust=0.5)))"
   ]
  },
  {
   "cell_type": "code",
   "execution_count": null,
   "metadata": {},
   "outputs": [],
   "source": [
    "data['Casos'] = data['Casos'].astype(int)"
   ]
  },
  {
   "cell_type": "code",
   "execution_count": null,
   "metadata": {},
   "outputs": [],
   "source": [
    "(ggplot(data, aes(x='Entidad', y='Casos', fill='Casos'))  \n",
    " + geom_col()\n",
    " + theme(axis_text_x=element_text(rotation=90, hjust=0.5)))"
   ]
  },
  {
   "cell_type": "markdown",
   "metadata": {},
   "source": [
    "<p style=\"text-align: center\"><a rel=\"license\" href=\"http://creativecommons.org/licenses/by/4.0/\"><img alt=\"Licencia Creative Commons\" style=\"border-width:0\" src=\"https://i.creativecommons.org/l/by/4.0/80x15.png\" /></a><br />Esta obra está bajo una <a rel=\"license\" href=\"http://creativecommons.org/licenses/by/4.0/\">Licencia Creative Commons Atribución 4.0 Internacional</a>.</p>\n",
    "<p style=\"text-align: center\">&copy; José Luis Chiquete Valdivieso. 2021.</p>"
   ]
  }
 ],
 "metadata": {
  "kernelspec": {
   "display_name": "Python 3 (ipykernel)",
   "language": "python",
   "name": "python3"
  },
  "language_info": {
   "codemirror_mode": {
    "name": "ipython",
    "version": 3
   },
   "file_extension": ".py",
   "mimetype": "text/x-python",
   "name": "python",
   "nbconvert_exporter": "python",
   "pygments_lexer": "ipython3",
   "version": "3.9.7"
  }
 },
 "nbformat": 4,
 "nbformat_minor": 2
}
