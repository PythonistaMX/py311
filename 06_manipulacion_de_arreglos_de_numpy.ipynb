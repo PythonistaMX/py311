{
 "cells": [
  {
   "cell_type": "markdown",
   "metadata": {},
   "source": [
    "[![img/pythonista.png](img/pythonista.png)](https://www.pythonista.io)"
   ]
  },
  {
   "cell_type": "markdown",
   "metadata": {},
   "source": [
    "# Manipulación de arreglos de *Numpy*."
   ]
  },
  {
   "cell_type": "markdown",
   "metadata": {},
   "source": [
    "Los arreglos de *Numpy* y los datos que contienen pueden ser modificados, transformados y enmendados de múltiples formas. La documentación completa de las rutinas de manipulación de arreglos puede ser consultada en:\n",
    "\n",
    "https://numpy.org/doc/stable/reference/routines.array-manipulation.html"
   ]
  },
  {
   "cell_type": "code",
   "execution_count": null,
   "metadata": {},
   "outputs": [],
   "source": [
    "import numpy as np"
   ]
  },
  {
   "cell_type": "markdown",
   "metadata": {},
   "source": [
    "## \"Aplanado\" de arreglos.\n",
    "\n",
    "En algunos casos es conveniente obtener una lista o un arreglo de una dimensión que contenga a todos los elementos de un arreglo."
   ]
  },
  {
   "cell_type": "markdown",
   "metadata": {},
   "source": [
    "### El atributo ```np.ndarray.flat```.\n",
    "\n",
    "Este atributo es un objeto iterador ```np.flatiter``` capaz de regresar cada uno de los valores que contiene un arreglo.\n",
    "\n",
    "\n",
    "La documentación del atributo ```np.ndarray.flat``` se encuentra disponible en:\n",
    "\n",
    "https://numpy.org/devdocs/reference/generated/numpy.ndarray.flat.html"
   ]
  },
  {
   "cell_type": "markdown",
   "metadata": {},
   "source": [
    "**Ejemplo:**"
   ]
  },
  {
   "cell_type": "markdown",
   "metadata": {},
   "source": [
    "* Se deifinirá al arreglo ```matriz```."
   ]
  },
  {
   "cell_type": "code",
   "execution_count": null,
   "metadata": {},
   "outputs": [],
   "source": [
    "arreglo_1 = np.array([[1, 2, 3, 4],\n",
    "                  [5, 6, 7, 8],\n",
    "                  [9, 10, 11, 12]])"
   ]
  },
  {
   "cell_type": "code",
   "execution_count": null,
   "metadata": {},
   "outputs": [],
   "source": [
    "arreglo_1.shape"
   ]
  },
  {
   "cell_type": "code",
   "execution_count": null,
   "metadata": {},
   "outputs": [],
   "source": [
    "arreglo_1"
   ]
  },
  {
   "cell_type": "markdown",
   "metadata": {},
   "source": [
    "* La siguiente celda regresará el tipo de dato correspondiente a ```arreglo_1.flat```."
   ]
  },
  {
   "cell_type": "code",
   "execution_count": null,
   "metadata": {},
   "outputs": [],
   "source": [
    "arreglo_1.flat"
   ]
  },
  {
   "cell_type": "markdown",
   "metadata": {},
   "source": [
    "* La siguiente celda desplegará los elementos que contiene el atributo ```arreglo_1.flat```."
   ]
  },
  {
   "cell_type": "code",
   "execution_count": null,
   "metadata": {
    "scrolled": true
   },
   "outputs": [],
   "source": [
    "for item in arreglo_1.flat:\n",
    "    print(item)"
   ]
  },
  {
   "cell_type": "markdown",
   "metadata": {},
   "source": [
    "La siguiente celda regresará unobjeto tipo ```list``` creado a partir de los elementos de ```arreglo_1.flat```."
   ]
  },
  {
   "cell_type": "code",
   "execution_count": null,
   "metadata": {
    "scrolled": true
   },
   "outputs": [],
   "source": [
    "list(arreglo_1.flat)"
   ]
  },
  {
   "cell_type": "markdown",
   "metadata": {},
   "source": [
    "### El método ```np.ndarray.flatten()```.\n",
    "\n",
    "El método ```np.ndarray.flatten()``` regresa un arreglo de una dimensión que contiene una copia de cada uno de los elementos del arreglo original.\n",
    "\n",
    "```\n",
    "<arreglo>.flatten()\n",
    "``` \n",
    "\n",
    "Donde:\n",
    "\n",
    "* ```<arreglo>``` es un arreglo de *Numpy*.\n",
    "\n",
    "La documentación del método ```np.ndarray.flatten()``` se encuentra disponible en:\n",
    "\n",
    "https://numpy.org/devdocs/reference/generated/numpy.ndarray.flatten.html"
   ]
  },
  {
   "cell_type": "markdown",
   "metadata": {},
   "source": [
    "### El método ```np.ndarray.ravel()```.\n",
    "\n",
    "El método ```np.ndarray.ravel()``` regresará un arreglo de una dimensión que contiene la referencia de cada uno de los elementos del arreglo original. Es decir, que cada vez que se modifiquen los elementos del arreglo original, dichos cambios serán reflejados en el arreglo creado con ```np.ndarray.ravel()```.\n",
    "\n",
    "```\n",
    "<arreglo>.ravel()\n",
    "``` \n",
    "\n",
    "Donde:\n",
    "\n",
    "* ```<arreglo>``` es un arreglo de *Numpy*.\n",
    "\n",
    "La documentación del método ```np.ndarray.ravel()``` se encuentra disponible en:\n",
    "\n",
    "https://numpy.org/devdocs/reference/generated/numpy.ndarray.ravel.html"
   ]
  },
  {
   "cell_type": "markdown",
   "metadata": {},
   "source": [
    "### La función ```np.ravel()```.\n",
    "\n",
    "La función ```np.ravel()``` regresará un arreglo de una dimensión que contiene la referencia de cada uno de los elementos del arreglo que se ingresa como argumento. \n",
    "\n",
    "```\n",
    "np.ravel(<arreglo>)\n",
    "```\n",
    "\n",
    "Donde:\n",
    "\n",
    "* ```<arreglo>``` es un arreglo de *Numpy*.\n",
    "\n",
    "La documentación de la función ```np.ravel()``` se encuentra disponible en:\n",
    "\n",
    "https://numpy.org/devdocs/reference/generated/numpy.ravel.html"
   ]
  },
  {
   "cell_type": "markdown",
   "metadata": {},
   "source": [
    "**Ejemplos:**"
   ]
  },
  {
   "cell_type": "markdown",
   "metadata": {},
   "source": [
    "* La siguiente celda creará el arreglo ```arreglo_1```."
   ]
  },
  {
   "cell_type": "code",
   "execution_count": null,
   "metadata": {},
   "outputs": [],
   "source": [
    "arreglo_1 = np.array([[1, 2, 3],\n",
    "                   [4, 0, -5],\n",
    "                   [-6, -7, -8]])"
   ]
  },
  {
   "cell_type": "code",
   "execution_count": null,
   "metadata": {},
   "outputs": [],
   "source": [
    "arreglo_1"
   ]
  },
  {
   "cell_type": "markdown",
   "metadata": {},
   "source": [
    "* La siguiente celda creará el arreglo ```copia_plana``` mendiante el método ```arreglo_1.flatten()```."
   ]
  },
  {
   "cell_type": "code",
   "execution_count": null,
   "metadata": {},
   "outputs": [],
   "source": [
    "copia_plana = arreglo_1.flatten()"
   ]
  },
  {
   "cell_type": "code",
   "execution_count": null,
   "metadata": {},
   "outputs": [],
   "source": [
    "copia_plana"
   ]
  },
  {
   "cell_type": "markdown",
   "metadata": {},
   "source": [
    "* La siguiente celda creará el arreglo ```ref_plana_1``` mediante el método ```arreglo_1.ravel()```."
   ]
  },
  {
   "cell_type": "code",
   "execution_count": null,
   "metadata": {},
   "outputs": [],
   "source": [
    "ref_plana_1 = arreglo_1.ravel()"
   ]
  },
  {
   "cell_type": "code",
   "execution_count": null,
   "metadata": {
    "scrolled": true
   },
   "outputs": [],
   "source": [
    "ref_plana_1"
   ]
  },
  {
   "cell_type": "markdown",
   "metadata": {},
   "source": [
    "* La siguiente celda creará el arreglo ```ref_plana_2``` a partir de ```arreglo_1``` mediante la función```np.ravel()```."
   ]
  },
  {
   "cell_type": "code",
   "execution_count": null,
   "metadata": {},
   "outputs": [],
   "source": [
    "ref_plana_2 = np.ravel(arreglo_1)"
   ]
  },
  {
   "cell_type": "code",
   "execution_count": null,
   "metadata": {},
   "outputs": [],
   "source": [
    "ref_plana_2"
   ]
  },
  {
   "cell_type": "markdown",
   "metadata": {},
   "source": [
    "* La siguiente celda modificará el contenido de ```arreglo_1```."
   ]
  },
  {
   "cell_type": "code",
   "execution_count": null,
   "metadata": {},
   "outputs": [],
   "source": [
    "arreglo_1[1, 1] = 1000"
   ]
  },
  {
   "cell_type": "code",
   "execution_count": null,
   "metadata": {},
   "outputs": [],
   "source": [
    "arreglo_1"
   ]
  },
  {
   "cell_type": "markdown",
   "metadata": {},
   "source": [
    "* El arreglo ```copia_plana``` no se modifica ante los cambios en ```arreglo_1```."
   ]
  },
  {
   "cell_type": "code",
   "execution_count": null,
   "metadata": {},
   "outputs": [],
   "source": [
    "copia_plana"
   ]
  },
  {
   "cell_type": "markdown",
   "metadata": {},
   "source": [
    "* Los arreglos ```ref_plana_1``` y ```ref_plana_1``` reflejan los cambios en ```arreglo_1```."
   ]
  },
  {
   "cell_type": "code",
   "execution_count": null,
   "metadata": {},
   "outputs": [],
   "source": [
    "ref_plana_1"
   ]
  },
  {
   "cell_type": "code",
   "execution_count": null,
   "metadata": {},
   "outputs": [],
   "source": [
    "ref_plana_2"
   ]
  },
  {
   "cell_type": "markdown",
   "metadata": {},
   "source": [
    "## Adecuación de la forma de los arreglos."
   ]
  },
  {
   "cell_type": "markdown",
   "metadata": {},
   "source": [
    "### El método ```np.ndarray.reshape()```.\n",
    "\n",
    "El método ```np.ndarray.reshape()``` regresará un arreglo compuesto por el mismo número de elementos que el arreglo original, pero con la forma que se ingrese como argumento. Las nuevas dimensiones deben de coincidir con el numero total de elementos del arreglo de origen.\n",
    "\n",
    "```\n",
    "<arreglo>.reshape(<forma>)\n",
    "```\n",
    "\n",
    "Donde:\n",
    "\n",
    "* ```<arreglo>``` es un arreglo de *Numpy*.\n",
    "* ```<forma>``` es una suceción de argumentos enteros separados por comas o un objeto de tipo ```tuple``` que describe la forma del arreglo resultante.\n",
    "\n",
    "La documentación del método ```np.ndarray.reshape()``` se encuentra disponible en:\n",
    "\n",
    "https://numpy.org/devdocs/reference/generated/numpy.ndarray.reshape.html"
   ]
  },
  {
   "cell_type": "markdown",
   "metadata": {},
   "source": [
    "### La función ```np.reshape()```.\n",
    "\n",
    "La función ```np.reshape()``` regresará un arreglo compuesto por el mismo número de elementos que el arreglo ingresado como prinmer argumento, pero con la forma descrita por el objeto de tipo ```tuple``` que se ingrese como segundo argumento. Las nuevas dimensiones deben de coincidir con el numero total de elementos del arreglo de origen.\n",
    "\n",
    "```\n",
    "np.reshape(<arreglo>, <forma>)\n",
    "```\n",
    "\n",
    "Donde:\n",
    "\n",
    "* ```<arreglo>``` es un arreglo de *Numpy*.\n",
    "* ```<forma>``` es un un objeto de tipo ```tuple``` que describe la forma del arreglo resultante.\n",
    "\n",
    "La documentación de la función ```np.reshape()``` se encuentra disponible en:\n",
    "\n",
    "https://numpy.org/devdocs/reference/generated/numpy.reshape.html\n"
   ]
  },
  {
   "cell_type": "markdown",
   "metadata": {},
   "source": [
    "**Ejemplos:**"
   ]
  },
  {
   "cell_type": "markdown",
   "metadata": {},
   "source": [
    "* La siguiente celda definirá el arreglo ```arreglo_2``` de forma ```(3, 4)```, el cual contiene ```12``` elementos."
   ]
  },
  {
   "cell_type": "code",
   "execution_count": null,
   "metadata": {},
   "outputs": [],
   "source": [
    "arreglo_2 = np.array([[1, 2, 3, 4],\n",
    "                  [5, 6, 7, 8],\n",
    "                  [9, 10, 11, 12]])"
   ]
  },
  {
   "cell_type": "code",
   "execution_count": null,
   "metadata": {},
   "outputs": [],
   "source": [
    "arreglo_2.shape"
   ]
  },
  {
   "cell_type": "markdown",
   "metadata": {},
   "source": [
    "* La siguiente celda regresará un arreglo de forma ```(3, 2, 2)``` a partir del método ```arreglo_2.reshape()```."
   ]
  },
  {
   "cell_type": "code",
   "execution_count": null,
   "metadata": {
    "scrolled": false
   },
   "outputs": [],
   "source": [
    "arreglo_2.reshape(3, 2, 2)"
   ]
  },
  {
   "cell_type": "code",
   "execution_count": null,
   "metadata": {},
   "outputs": [],
   "source": [
    "arreglo_2"
   ]
  },
  {
   "cell_type": "markdown",
   "metadata": {},
   "source": [
    "* La siguiente celda regresará un arreglo de forma ```(6, 2)``` a partir del método ```arreglo_2.reshape()```."
   ]
  },
  {
   "cell_type": "code",
   "execution_count": null,
   "metadata": {},
   "outputs": [],
   "source": [
    "arreglo_2.reshape(6, 2)"
   ]
  },
  {
   "cell_type": "markdown",
   "metadata": {},
   "source": [
    "* La siguiente celda regresará un arreglo de forma ```(12,)``` a partir del método ```arreglo_2.reshape()```."
   ]
  },
  {
   "cell_type": "code",
   "execution_count": null,
   "metadata": {
    "scrolled": true
   },
   "outputs": [],
   "source": [
    "arreglo_2.reshape(12)"
   ]
  },
  {
   "cell_type": "markdown",
   "metadata": {},
   "source": [
    "* La siguiente celda regresará un arreglo de forma ```(1, 12)``` a partir de ```arreglo_2``` usando la función ```np.reshape()```."
   ]
  },
  {
   "cell_type": "code",
   "execution_count": null,
   "metadata": {
    "scrolled": true
   },
   "outputs": [],
   "source": [
    "np.reshape(arreglo_2,(1, 12))"
   ]
  },
  {
   "cell_type": "markdown",
   "metadata": {},
   "source": [
    "* La siguiente celda regresará un arreglo de forma ```(12, 1)``` a partir de ```arreglo_2``` usando la función ```np.reshape()```."
   ]
  },
  {
   "cell_type": "code",
   "execution_count": null,
   "metadata": {},
   "outputs": [],
   "source": [
    "np.reshape(arreglo_2,(12, 1))"
   ]
  },
  {
   "cell_type": "markdown",
   "metadata": {},
   "source": [
    "* La siguiente celda intentará crear un arreglo de forma ```(5, 4)``` a partir de ```arreglo_2``` usando la función ```np.reshape()```, pero en vista de que un arreglo de esta forma debe de contener 20 elementos, se producirá un error de tipo ```ValueError```."
   ]
  },
  {
   "cell_type": "code",
   "execution_count": null,
   "metadata": {
    "scrolled": false
   },
   "outputs": [],
   "source": [
    "np.reshape(arreglo_2,(5, 4))"
   ]
  },
  {
   "cell_type": "markdown",
   "metadata": {},
   "source": [
    "## Modificación de la forma y tamaño de un arreglo.\n",
    "\n",
    "El método ```np.ndarray.resize()``` y la función ```np.resize()``` permiten adecuar la forma y el tamaño de un arreglo."
   ]
  },
  {
   "cell_type": "markdown",
   "metadata": {},
   "source": [
    "### El método ```np.ndarray.resize()```.\n",
    "\n",
    "El método ```np.ndarray.resize()``` cambiará la forma y en su caso, el tamaño del arreglo al que pertenece.\n",
    "\n",
    "En caso de que las nuevas dimensiones sean menores a tamaño original, se recortarán los últimos de ellos.\n",
    "\n",
    "En caso de que las nuevas dimensiones sean mayores al tamaño original, los elementos faltantes serán sustituidos por una secuencia de ```0```.\n",
    "```\n",
    "<arreglo>.resize(<forma>)\n",
    "```\n",
    "\n",
    "Donde:\n",
    "\n",
    "* ```<arreglo>``` es un arreglo de *Numpy*.\n",
    "* ```<forma>``` es un objeto de tipo ```tuple``` que describe la nueva forma del arreglo resultante.\n",
    "\n",
    "La documentación del método ```np.ndarray.resize()```  se encuentra disponible en:\n",
    "\n",
    "https://numpy.org/devdocs/reference/generated/numpy.ndarray.resize.html\n",
    "\n",
    "**Nota:** Debido a que el método ```np.ndarray.resize()``` modifica al arreglo que lo contiene, es necesario que no existan mas que un nombre o referencia para dicho arreglo. En caso de que el arreglo que contega al método tenga asignado más de un nombre o referencia, se desencadenará un error de tipo ```ValueError```."
   ]
  },
  {
   "cell_type": "markdown",
   "metadata": {},
   "source": [
    "**Ejemplo:**"
   ]
  },
  {
   "cell_type": "markdown",
   "metadata": {},
   "source": [
    "* La siguiente celda definirá el arreglo ```arreglo_3``` con forma ```(2, 2)```."
   ]
  },
  {
   "cell_type": "code",
   "execution_count": null,
   "metadata": {},
   "outputs": [],
   "source": [
    "arreglo_3 = np.array([[1, 2],\n",
    "                      [3, 4]])"
   ]
  },
  {
   "cell_type": "code",
   "execution_count": null,
   "metadata": {},
   "outputs": [],
   "source": [
    "arreglo_3.shape"
   ]
  },
  {
   "cell_type": "markdown",
   "metadata": {},
   "source": [
    "* La siguiente celda aplicará el método ```arreglo_3.resize()``` de tal forma que ```arreglo_3``` tenga la forma ```(3, 3, 2)```. En vista de que la nueva forma contiene más elementos, los elementos faltantes serán iguales a ```0```."
   ]
  },
  {
   "cell_type": "code",
   "execution_count": null,
   "metadata": {},
   "outputs": [],
   "source": [
    "arreglo_3.resize(3, 3, 2)"
   ]
  },
  {
   "cell_type": "markdown",
   "metadata": {},
   "source": [
    "* La siguiente celda regresará a ```arreglo_3```."
   ]
  },
  {
   "cell_type": "code",
   "execution_count": null,
   "metadata": {},
   "outputs": [],
   "source": [
    "arreglo_3"
   ]
  },
  {
   "cell_type": "markdown",
   "metadata": {},
   "source": [
    "* La siguiente celda intentará aplicar el método ```arreglo_3.resize()``` de modo que ```arreglo_3``` tenga la forma ```(2, 2)```. Sin embargo, debido a que la notebook de Jupyter realizó una referencia a dicho arreglo en la celda previa, se desencadenará un error de tipo ```ValueError```."
   ]
  },
  {
   "cell_type": "code",
   "execution_count": null,
   "metadata": {},
   "outputs": [],
   "source": [
    "arreglo_3.resize(2, 2)"
   ]
  },
  {
   "cell_type": "markdown",
   "metadata": {},
   "source": [
    "### La función ```np.resize()```.\n",
    "\n",
    "La función ```np.resize()``` regresará un nuevo arreglo a partir del arreglo que se ingrese como primer argumento, con la forma que se ingrese como segundo argumento.\n",
    "\n",
    "En caso de que las nuevas dimensiones sean menores a tamaño original, se recortarán los últimos de ellos.\n",
    "\n",
    "En caso de que las nuevas dimensiones sean mayores al tamaño original, los elementos faltantes serán sustituidos por una secuencia iterativa de los elementos contenidos en el arreglo.\n",
    "\n",
    "```\n",
    "np.resize(<arreglo>, <forma>)\n",
    "```\n",
    "\n",
    "Donde:\n",
    "\n",
    "* ```<arreglo>``` es un arreglo de *Numpy*.\n",
    "* ```<forma>``` es un objeto de tipo ```tuple``` que describe la nueva forma del arreglo resultante.\n",
    "\n",
    "La documentación de la función ```np.resize()```  se encuentra disponible en:\n",
    "\n",
    "https://numpy.org/devdocs/reference/generated/numpy.resize.html"
   ]
  },
  {
   "cell_type": "markdown",
   "metadata": {},
   "source": [
    "**Ejemplos:**"
   ]
  },
  {
   "cell_type": "markdown",
   "metadata": {},
   "source": [
    "* La siguiente celda creará el arreglo ```arreglo_4``` de forma ```(2, 2)```."
   ]
  },
  {
   "cell_type": "code",
   "execution_count": null,
   "metadata": {},
   "outputs": [],
   "source": [
    "arreglo_4 = np.array([[1, 2],\n",
    "                     [3, 4]])"
   ]
  },
  {
   "cell_type": "code",
   "execution_count": null,
   "metadata": {},
   "outputs": [],
   "source": [
    "arreglo_4.shape"
   ]
  },
  {
   "cell_type": "markdown",
   "metadata": {},
   "source": [
    "* La siguiente celda aplicará la función ```np.resize()``` de modo que regresará un arreglo de forma ```(2, 3, 2)``` a partir de ```arreglo_4```."
   ]
  },
  {
   "cell_type": "code",
   "execution_count": null,
   "metadata": {},
   "outputs": [],
   "source": [
    "np.resize(arreglo_4, (2, 3, 2))"
   ]
  },
  {
   "cell_type": "markdown",
   "metadata": {},
   "source": [
    "* El arreglo ```arreglo_4``` queda intacto."
   ]
  },
  {
   "cell_type": "code",
   "execution_count": null,
   "metadata": {},
   "outputs": [],
   "source": [
    "arreglo_4"
   ]
  },
  {
   "cell_type": "markdown",
   "metadata": {},
   "source": [
    "* La siguiente celda aplicará la función ```np.resize()``` para crear un arreglo de forma ```(2)``` a partir de ```arreglo_4```."
   ]
  },
  {
   "cell_type": "code",
   "execution_count": null,
   "metadata": {
    "scrolled": true
   },
   "outputs": [],
   "source": [
    "np.resize(arreglo_4,(2))"
   ]
  },
  {
   "cell_type": "markdown",
   "metadata": {},
   "source": [
    "## Funciones de *broadcasting*."
   ]
  },
  {
   "cell_type": "markdown",
   "metadata": {},
   "source": [
    "### La función ```np.broadcast()```.\n",
    "\n",
    "Esta función emula las operaciones de *broadcasting*. Da por resultado un objeto iterador que regresa una suscesión de objetos tipo ```tuple``` que describen el proceso de *broadcasting*.\n",
    "\n",
    "```\n",
    "np.broadcast(<arreglo>, <objeto>)\n",
    "```\n",
    "\n",
    "Donde:\n",
    "\n",
    "* ```<objeto>``` puede ser un valor, un objeto de *Python* o un arreglo de *Numpy*.\n",
    "\n",
    "La documentación de la función ```np.broadcast()```  se encuentra disponible en:\n",
    "\n",
    "https://numpy.org/devdocs/reference/generated/numpy.broadcast.html"
   ]
  },
  {
   "cell_type": "markdown",
   "metadata": {},
   "source": [
    "**Ejemplos:**"
   ]
  },
  {
   "cell_type": "markdown",
   "metadata": {},
   "source": [
    "* Se creará el arreglo ```origen```."
   ]
  },
  {
   "cell_type": "code",
   "execution_count": null,
   "metadata": {},
   "outputs": [],
   "source": [
    "origen = np.arange(12).reshape(4, 3)"
   ]
  },
  {
   "cell_type": "code",
   "execution_count": null,
   "metadata": {},
   "outputs": [],
   "source": [
    "origen"
   ]
  },
  {
   "cell_type": "markdown",
   "metadata": {},
   "source": [
    "* Se creará el objeto ```resultante``` al aplicar la función ```np.broadcast()``` al segundo elemento de la primera dimensión de ```origen``` aplicandole el número ```12```."
   ]
  },
  {
   "cell_type": "code",
   "execution_count": null,
   "metadata": {},
   "outputs": [],
   "source": [
    "resultante = np.broadcast(origen[1], 12)"
   ]
  },
  {
   "cell_type": "code",
   "execution_count": null,
   "metadata": {},
   "outputs": [],
   "source": [
    "type(resultante)"
   ]
  },
  {
   "cell_type": "code",
   "execution_count": null,
   "metadata": {
    "scrolled": true
   },
   "outputs": [],
   "source": [
    "for item in resultante:\n",
    "    print(item)"
   ]
  },
  {
   "cell_type": "code",
   "execution_count": null,
   "metadata": {},
   "outputs": [],
   "source": [
    "origen[1] = 3"
   ]
  },
  {
   "cell_type": "code",
   "execution_count": null,
   "metadata": {},
   "outputs": [],
   "source": [
    "origen"
   ]
  },
  {
   "cell_type": "markdown",
   "metadata": {},
   "source": [
    "* Se creará un objeto ```list``` que contendrá el resultado de  ejecutar la función ```np.broadcast()```  a todo el arreglo ```origen``` aplicándole el arreglo ```np.array([100, 200, 300])```."
   ]
  },
  {
   "cell_type": "code",
   "execution_count": null,
   "metadata": {},
   "outputs": [],
   "source": [
    "origen = np.arange(12).reshape(4, 3)"
   ]
  },
  {
   "cell_type": "code",
   "execution_count": null,
   "metadata": {},
   "outputs": [],
   "source": [
    "origen"
   ]
  },
  {
   "cell_type": "code",
   "execution_count": null,
   "metadata": {},
   "outputs": [],
   "source": [
    "list(np.broadcast(origen, np.array([100, 200, 300])))"
   ]
  },
  {
   "cell_type": "code",
   "execution_count": null,
   "metadata": {},
   "outputs": [],
   "source": [
    "origen[:] = np.array([100, 200, 300])"
   ]
  },
  {
   "cell_type": "code",
   "execution_count": null,
   "metadata": {},
   "outputs": [],
   "source": [
    "origen"
   ]
  },
  {
   "cell_type": "markdown",
   "metadata": {},
   "source": [
    "### La función ```np.broadcast_arrays()```.\n",
    "\n",
    "Esta función regresa un objeto tipo ```list``` que contiene al arreglo afectado y al arreglo resultante del *broadcast*.\n",
    "\n",
    "\n",
    "```\n",
    "np.broadcast_arrays(<arreglo>, <objeto>)\n",
    "```\n",
    "\n",
    "Donde:\n",
    "\n",
    "* ```<objeto>``` puede ser un valor, un objeto de Python o un arreglo.\n",
    "\n",
    "\n",
    "La documentación de la función ```np.broadcast_arrays()```  se encuentra disponible en:\n",
    "\n",
    "https://numpy.org/devdocs/reference/generated/numpy.broadcast_arrays.html"
   ]
  },
  {
   "cell_type": "markdown",
   "metadata": {},
   "source": [
    "**Ejemplo:**"
   ]
  },
  {
   "cell_type": "markdown",
   "metadata": {},
   "source": [
    "* Se creará un objeto ```list``` que contendrá el resultado de  ejecutar la función ```np.broadcast_arrays()```  a todo el arreglo ```origen``` aplicándole el arreglo ```np.array([100, 200, 300])```."
   ]
  },
  {
   "cell_type": "code",
   "execution_count": null,
   "metadata": {},
   "outputs": [],
   "source": [
    "origen = np.arange(12).reshape(4, 3)"
   ]
  },
  {
   "cell_type": "code",
   "execution_count": null,
   "metadata": {},
   "outputs": [],
   "source": [
    "origen"
   ]
  },
  {
   "cell_type": "code",
   "execution_count": null,
   "metadata": {
    "scrolled": true
   },
   "outputs": [],
   "source": [
    "np.broadcast_arrays(origen, np.array([100, 200, 300]))"
   ]
  },
  {
   "cell_type": "code",
   "execution_count": null,
   "metadata": {
    "scrolled": true
   },
   "outputs": [],
   "source": [
    "np.broadcast_arrays(origen, np.array([100, 200, 300]))[1]"
   ]
  },
  {
   "cell_type": "markdown",
   "metadata": {},
   "source": [
    "### La función ```np.broadcast_to()```.\n",
    "\n",
    "Esta función creará un arreglo de cierta forma a partir de aplicar un *broadcasting* con el dato o arreglo que se ingresa como primer argumento.\n",
    "\n",
    "\n",
    "```\n",
    "np.broadcast_to(<objeto>, <forma>)\n",
    "```\n",
    "\n",
    "Donde:\n",
    "\n",
    "* ```<objeto>``` puede ser un valor, un objeto de Python o un arreglo.\n",
    "* ```<forma>``` es un objeto de tipo ```tuple``` que describe la forma del nuevo arreglo.\n",
    "\n",
    "\n",
    "La documentación de la función ```np.broadcast_to()```  se encuentra disponible en:\n",
    "\n",
    "https://numpy.org/devdocs/reference/generated/numpy.broadcast_to.html"
   ]
  },
  {
   "cell_type": "markdown",
   "metadata": {},
   "source": [
    "**Ejemplos:**"
   ]
  },
  {
   "cell_type": "markdown",
   "metadata": {},
   "source": [
    "* Se ejecutará la función ```np.broadcast_to``` creando un nuevo arreglo de forma ```(3, 2, 2)``` aplicando el valor ```12```."
   ]
  },
  {
   "cell_type": "code",
   "execution_count": null,
   "metadata": {},
   "outputs": [],
   "source": [
    "np.broadcast_to(12, (3, 2, 2))"
   ]
  },
  {
   "cell_type": "markdown",
   "metadata": {},
   "source": [
    "* Se ejecutará la función ```np.broadcast_to``` creando un nuevo arreglo de forma ```(3, 4)``` aplicando el arreglo ```np.array(['a', 'b', 'c', 'd'])```."
   ]
  },
  {
   "cell_type": "code",
   "execution_count": null,
   "metadata": {},
   "outputs": [],
   "source": [
    "np.broadcast_to(np.array(['a', 'b', 'c', 'd']), (3, 4))"
   ]
  },
  {
   "cell_type": "markdown",
   "metadata": {},
   "source": [
    "## Transformaciones de arreglos a partir de sus ejes."
   ]
  },
  {
   "cell_type": "markdown",
   "metadata": {},
   "source": [
    "### Ejes de los arreglos de *Numpy*.\n",
    "\n",
    "En la terminología de *Numpy*, a cada dimensión de un arreglo le corresponde un número entero que se incrementa desde el cero a cada uno de estos enteros se le conoce como eje (axis).\n",
    "\n",
    "A partir de lo anterior:\n",
    "* Un arreglo unidimensional tiene al eje ```0```.\n",
    "* Un arreglo bidimensional tiene a los ejes ```0``` y ```1```.\n",
    "* Un arreglo tridimiensional tiene a los ejes ```0```, ```1``` y ```2```."
   ]
  },
  {
   "cell_type": "markdown",
   "metadata": {},
   "source": [
    "### El método ```np.ndarray.transpose()```.\n",
    "\n",
    "Regresará el arreglo transpuesto del original.\n",
    "\n",
    "```\n",
    "<arreglo>.transpose(*<ejes>)\n",
    "``` \n",
    "En este caso es posible indicar cada eje que será transpuesto mediante una tupla en donde el cada índice corresponde al eje al que se hará la trasposición y el valor en ese índice corresponde al eje que será transpuesto.\n",
    "\n",
    "Donde:\n",
    "\n",
    "* ```*<ejes>``` es una sucesión de objetos ```int``` que describe el nuevo orden de los ejes.\n",
    "\n",
    "La documentación del método ```np.ndarray.transpose()``` se encuentra disponible en:\n",
    "\n",
    "https://numpy.org/devdocs/reference/generated/numpy.ndarray.transpose.html\n"
   ]
  },
  {
   "cell_type": "markdown",
   "metadata": {},
   "source": [
    "### La función ```np.transpose()```.\n",
    "\n",
    "La función ```np.transpose()``` es una implementación del método ```np.ndarray.transpose()```.\n",
    "\n",
    "```\n",
    "np.transpose(<arreglo>, axes=(<ejes>))\n",
    "``` \n",
    "\n",
    "Donde:\n",
    "\n",
    "* ```<arreglo>``` es un arreglo de *Numpy*.\n",
    "* ```<ejes>``` es un objeto de tipo ```tuple``` que describe el nuevo orden de los ejes.\n",
    "\n",
    "La documentación de la función ```np.transpose()```  se encuentra disponible en:\n",
    "\n",
    "https://numpy.org/devdocs/reference/generated/numpy.transpose.html\n",
    "\n",
    "En caso de no definir los ejes, estos serán dispuestos en orden inverso."
   ]
  },
  {
   "cell_type": "markdown",
   "metadata": {},
   "source": [
    "**Ejemplos:**"
   ]
  },
  {
   "cell_type": "markdown",
   "metadata": {},
   "source": [
    "* Se creará el arreglo transpuesto de el arreglo ```matriz```."
   ]
  },
  {
   "cell_type": "code",
   "execution_count": null,
   "metadata": {},
   "outputs": [],
   "source": [
    "matriz = np.array([[1, 2, 3, 4],\n",
    "                  [5, 6, 7, 8],\n",
    "                  [9, 10, 11, 12]])"
   ]
  },
  {
   "cell_type": "code",
   "execution_count": null,
   "metadata": {},
   "outputs": [],
   "source": [
    "matriz.shape"
   ]
  },
  {
   "cell_type": "markdown",
   "metadata": {},
   "source": [
    "* Se aplicará el método ```transpose()``` al arreglo ```matriz```."
   ]
  },
  {
   "cell_type": "code",
   "execution_count": null,
   "metadata": {
    "scrolled": true
   },
   "outputs": [],
   "source": [
    "matriz.transpose()"
   ]
  },
  {
   "cell_type": "code",
   "execution_count": null,
   "metadata": {},
   "outputs": [],
   "source": [
    "matriz.transpose().shape"
   ]
  },
  {
   "cell_type": "markdown",
   "metadata": {},
   "source": [
    "* Esto es equivalente a ```matriz.transpose(1,0)```."
   ]
  },
  {
   "cell_type": "code",
   "execution_count": null,
   "metadata": {},
   "outputs": [],
   "source": [
    "matriz.transpose(1, 0)"
   ]
  },
  {
   "cell_type": "markdown",
   "metadata": {},
   "source": [
    "* Se ejecutará la función ```np.transpose()``` ingresando al arreglo ```matriz``` como argumento."
   ]
  },
  {
   "cell_type": "code",
   "execution_count": null,
   "metadata": {
    "scrolled": true
   },
   "outputs": [],
   "source": [
    "np.transpose(matriz)"
   ]
  },
  {
   "cell_type": "markdown",
   "metadata": {},
   "source": [
    "* Se creará el arreglo ```matriz_nueva```."
   ]
  },
  {
   "cell_type": "code",
   "execution_count": null,
   "metadata": {},
   "outputs": [],
   "source": [
    "matriz_nueva = np.array([[[1, 2],\n",
    "                    [3 ,4]],\n",
    "                   [[5, 6],\n",
    "                    [7, 8]]])"
   ]
  },
  {
   "cell_type": "code",
   "execution_count": null,
   "metadata": {},
   "outputs": [],
   "source": [
    "matriz_nueva.shape"
   ]
  },
  {
   "cell_type": "markdown",
   "metadata": {},
   "source": [
    "* Se realizará una transposición sin definir ejes."
   ]
  },
  {
   "cell_type": "code",
   "execution_count": null,
   "metadata": {},
   "outputs": [],
   "source": [
    "matriz_nueva.transpose()"
   ]
  },
  {
   "cell_type": "markdown",
   "metadata": {},
   "source": [
    "* Lo anterior es equivalente a ```matriz_nueva.transpose(2, 1, 0)```"
   ]
  },
  {
   "cell_type": "code",
   "execution_count": null,
   "metadata": {},
   "outputs": [],
   "source": [
    "matriz_nueva.transpose(2, 1, 0)"
   ]
  },
  {
   "cell_type": "markdown",
   "metadata": {},
   "source": [
    "* Estas son otras formas de trasponer a ```matriz_nueva```."
   ]
  },
  {
   "cell_type": "code",
   "execution_count": null,
   "metadata": {},
   "outputs": [],
   "source": [
    "matriz_nueva.transpose((1,2,0))"
   ]
  },
  {
   "cell_type": "code",
   "execution_count": null,
   "metadata": {},
   "outputs": [],
   "source": [
    "matriz_nueva.transpose((2,0,1))"
   ]
  },
  {
   "cell_type": "code",
   "execution_count": null,
   "metadata": {},
   "outputs": [],
   "source": [
    "matriz_nueva.T"
   ]
  },
  {
   "cell_type": "markdown",
   "metadata": {},
   "source": [
    "### La función ```np.rollaxis()```.\n",
    "\n",
    "Regresará un arreglo que será trasladado en un eje determinado.\n",
    "\n",
    "```\n",
    "np.rollaxis(<arreglo>, <eje>)\n",
    "```\n",
    "\n",
    "La documentación de la función ```np.rollaxis()```  se encuentra disponible en:\n",
    "\n",
    "https://numpy.org/devdocs/reference/generated/numpy.rollaxis.html"
   ]
  },
  {
   "cell_type": "markdown",
   "metadata": {},
   "source": [
    "**Ejemplos:**"
   ]
  },
  {
   "cell_type": "markdown",
   "metadata": {},
   "source": [
    "* Se creará al arreglo con nombre ```arreglo```."
   ]
  },
  {
   "cell_type": "code",
   "execution_count": null,
   "metadata": {},
   "outputs": [],
   "source": [
    "arreglo = np.arange(27).reshape(3, 3, 3)"
   ]
  },
  {
   "cell_type": "code",
   "execution_count": null,
   "metadata": {},
   "outputs": [],
   "source": [
    "arreglo"
   ]
  },
  {
   "cell_type": "markdown",
   "metadata": {},
   "source": [
    "* Se realizará una traslación de ```arreglo```en el eje ```1```. "
   ]
  },
  {
   "cell_type": "code",
   "execution_count": null,
   "metadata": {
    "scrolled": false
   },
   "outputs": [],
   "source": [
    "np.rollaxis(arreglo, 1)"
   ]
  },
  {
   "cell_type": "markdown",
   "metadata": {},
   "source": [
    "* Se realizará una traslación de ```arreglo```en el eje ```2```. "
   ]
  },
  {
   "cell_type": "code",
   "execution_count": null,
   "metadata": {
    "scrolled": true
   },
   "outputs": [],
   "source": [
    "np.rollaxis(arreglo, 2)"
   ]
  },
  {
   "cell_type": "markdown",
   "metadata": {},
   "source": [
    "* Realizar una traslación de ```arreglo```en el eje ```0``` regresa una arreglo sin cambios."
   ]
  },
  {
   "cell_type": "code",
   "execution_count": null,
   "metadata": {},
   "outputs": [],
   "source": [
    "np.rollaxis(arreglo, 0)"
   ]
  },
  {
   "cell_type": "markdown",
   "metadata": {},
   "source": [
    "## Modificación de dimensiones de arreglos."
   ]
  },
  {
   "cell_type": "markdown",
   "metadata": {},
   "source": [
    "### La función ```np.expand_dims()```.\n",
    "\n",
    "Esta función añadirá al arreglo ingresado como primer argumento el número de dimensiones indicadas como segundo argumento. El tamaño de cada dimensión será ajustado para ser compatible.\n",
    "\n",
    "```\n",
    "np.expand_dims(<arreglo>, <dimension>)\n",
    "```\n",
    "\n",
    "Donde:\n",
    "\n",
    "* ```<dimensión>``` indica el índice de la dimensión que será añadida.\n",
    "\n",
    "La documentación de la función ```np.expand_dims()```  se encuentra disponible en:\n",
    "\n",
    "https://numpy.org/devdocs/reference/generated/numpy.expand_dims.html"
   ]
  },
  {
   "cell_type": "markdown",
   "metadata": {},
   "source": [
    "**Ejemplos:**"
   ]
  },
  {
   "cell_type": "markdown",
   "metadata": {},
   "source": [
    "* Se creará el arreglo con nombre ```origen```."
   ]
  },
  {
   "cell_type": "code",
   "execution_count": null,
   "metadata": {},
   "outputs": [],
   "source": [
    "origen = np.arange(4).reshape(2, 2)"
   ]
  },
  {
   "cell_type": "code",
   "execution_count": null,
   "metadata": {},
   "outputs": [],
   "source": [
    "origen"
   ]
  },
  {
   "cell_type": "markdown",
   "metadata": {},
   "source": [
    "* Se anádirá una dimensión en la dimensión ```1```."
   ]
  },
  {
   "cell_type": "code",
   "execution_count": null,
   "metadata": {},
   "outputs": [],
   "source": [
    "np.expand_dims(origen, 1)"
   ]
  },
  {
   "cell_type": "code",
   "execution_count": null,
   "metadata": {},
   "outputs": [],
   "source": [
    "np.expand_dims(origen, 1).shape"
   ]
  },
  {
   "cell_type": "markdown",
   "metadata": {},
   "source": [
    "* Se anádirá una dimensión en la dimensión ```2```."
   ]
  },
  {
   "cell_type": "code",
   "execution_count": null,
   "metadata": {},
   "outputs": [],
   "source": [
    "np.expand_dims(origen, 2)"
   ]
  },
  {
   "cell_type": "code",
   "execution_count": null,
   "metadata": {},
   "outputs": [],
   "source": [
    "np.expand_dims(origen, 2).shape"
   ]
  },
  {
   "cell_type": "markdown",
   "metadata": {},
   "source": [
    "### La función ```np.squeeze()```.\n",
    "\n",
    "Esta función eliminará una dimensión al arreglo ingresado como  argumento.\n",
    "\n",
    "```\n",
    "np.squeeze(<arreglo>, <dimension>)\n",
    "```\n",
    "\n",
    "Donde:\n",
    "\n",
    "* ```<dimensión>``` indica el índice de la dimensión que será eliminada.\n",
    "\n",
    "La documentación de la función ```np.squeeze()```  se encuentra disponible en:\n",
    "\n",
    "https://numpy.org/devdocs/reference/generated/numpy.squeeze.html"
   ]
  },
  {
   "cell_type": "markdown",
   "metadata": {},
   "source": [
    "**Ejemplo:**"
   ]
  },
  {
   "cell_type": "markdown",
   "metadata": {},
   "source": [
    "* Se creará un arreglo llamado ```origen``` de dimensiones ```(3, 3, 1)```."
   ]
  },
  {
   "cell_type": "code",
   "execution_count": null,
   "metadata": {},
   "outputs": [],
   "source": [
    "origen = np.arange(9).reshape(3, 3, 1)"
   ]
  },
  {
   "cell_type": "code",
   "execution_count": null,
   "metadata": {},
   "outputs": [],
   "source": [
    "origen"
   ]
  },
  {
   "cell_type": "markdown",
   "metadata": {},
   "source": [
    "* Se ejecutará la función ```np.squeeze()``` en ```origen```, eliminando la dimensión ```2```. "
   ]
  },
  {
   "cell_type": "code",
   "execution_count": null,
   "metadata": {
    "scrolled": true
   },
   "outputs": [],
   "source": [
    "np.squeeze(origen, 2)"
   ]
  },
  {
   "cell_type": "code",
   "execution_count": null,
   "metadata": {},
   "outputs": [],
   "source": [
    "np.squeeze(origen, 2).shape"
   ]
  },
  {
   "cell_type": "code",
   "execution_count": null,
   "metadata": {},
   "outputs": [],
   "source": [
    "np.squeeze(origen, 0)"
   ]
  },
  {
   "cell_type": "markdown",
   "metadata": {},
   "source": [
    "## Adición y eliminación de elementos a arreglos."
   ]
  },
  {
   "cell_type": "markdown",
   "metadata": {},
   "source": [
    "### La función ```np.concatenate()```.\n",
    "\n",
    "Une una secuencia de arreglos contenidos dentro de un objeto ```tuple``` a un eje existente, se puede indicar el eje en el que se realizará la operación ingresando su número correspondiente como segundo argumento. \n",
    "\n",
    "```\n",
    "np.concatenate(<arreglo 1>, <arreglo 2>, <eje>)\n",
    "```\n",
    "\n",
    "La documentación de la función ```np.concatenate()```  se encuentra disponible en:\n",
    "\n",
    "https://numpy.org/devdocs/reference/generated/numpy.concatenate.html"
   ]
  },
  {
   "cell_type": "markdown",
   "metadata": {},
   "source": [
    "**Ejemplo:**"
   ]
  },
  {
   "cell_type": "markdown",
   "metadata": {},
   "source": [
    "* Se creará el arreglo ```arreglo_1```."
   ]
  },
  {
   "cell_type": "code",
   "execution_count": null,
   "metadata": {},
   "outputs": [],
   "source": [
    "arreglo_1 = np.array([[1, 2],\n",
    "                      [3, 4]])"
   ]
  },
  {
   "cell_type": "code",
   "execution_count": null,
   "metadata": {},
   "outputs": [],
   "source": [
    "arreglo_1"
   ]
  },
  {
   "cell_type": "markdown",
   "metadata": {
    "scrolled": true
   },
   "source": [
    "* Se creará el arreglo ```arreglo_2```."
   ]
  },
  {
   "cell_type": "code",
   "execution_count": null,
   "metadata": {},
   "outputs": [],
   "source": [
    "arreglo_2 = np.array([[5, 6],\n",
    "                      [7, 8]])"
   ]
  },
  {
   "cell_type": "code",
   "execution_count": null,
   "metadata": {},
   "outputs": [],
   "source": [
    "arreglo_2"
   ]
  },
  {
   "cell_type": "markdown",
   "metadata": {},
   "source": [
    "* Se conacatenarán ```arreglo_1``` y ```arreglo_2``` en el eje ```1```."
   ]
  },
  {
   "cell_type": "code",
   "execution_count": null,
   "metadata": {},
   "outputs": [],
   "source": [
    "np.concatenate((arreglo_1, arreglo_2), 1)"
   ]
  },
  {
   "cell_type": "markdown",
   "metadata": {},
   "source": [
    "* Se conacatenarán ```arreglo_1``` y ```arreglo_2``` en el eje ```0```."
   ]
  },
  {
   "cell_type": "code",
   "execution_count": null,
   "metadata": {},
   "outputs": [],
   "source": [
    "np.concatenate((arreglo_1, arreglo_2), 0)"
   ]
  },
  {
   "cell_type": "markdown",
   "metadata": {},
   "source": [
    "### La función ```np.append()```.\n",
    "\n",
    "Esta función inserta elementos de tipo ```nd.array``` a otro elemento de tipo ```nd.array``` en el eje indicado.\n",
    "\n",
    "Si no se le da un valor al parámetro ```axis``` el resultado será un arreglo plano.\n",
    "\n",
    "```\n",
    "np.append(<arreglo_1>, <arreglo 2>, axis=<eje>)\n",
    "```\n",
    "\n",
    "Donde:\n",
    "* ```<eje>``` corresponde al número del eje en el que se hará la inserción.\n",
    "\n",
    "**Nota:** La forma del arreglo a insertar debe de ser compatible con las dimensiones del eje.\n",
    "\n",
    "La documentación de la función ```np.append()```  se encuentra disponible en:\n",
    "\n",
    "https://numpy.org/devdocs/reference/generated/numpy.append.html"
   ]
  },
  {
   "cell_type": "markdown",
   "metadata": {},
   "source": [
    "**Ejemplos:**"
   ]
  },
  {
   "cell_type": "markdown",
   "metadata": {},
   "source": [
    "* Se creará el arreglo ```arreglo_original```."
   ]
  },
  {
   "cell_type": "code",
   "execution_count": null,
   "metadata": {},
   "outputs": [],
   "source": [
    "arreglo_original = np.arange(9).reshape(3, 3)"
   ]
  },
  {
   "cell_type": "code",
   "execution_count": null,
   "metadata": {},
   "outputs": [],
   "source": [
    "arreglo_original"
   ]
  },
  {
   "cell_type": "markdown",
   "metadata": {},
   "source": [
    "* Se creará el arreglo ```arreglo_eje_0```."
   ]
  },
  {
   "cell_type": "code",
   "execution_count": null,
   "metadata": {},
   "outputs": [],
   "source": [
    "arreglo_eje_0 = np.array([[5, 6, 7],[8, 9, 10]])"
   ]
  },
  {
   "cell_type": "code",
   "execution_count": null,
   "metadata": {},
   "outputs": [],
   "source": [
    "arreglo_eje_0"
   ]
  },
  {
   "cell_type": "code",
   "execution_count": null,
   "metadata": {},
   "outputs": [],
   "source": [
    "arreglo_eje_0.shape"
   ]
  },
  {
   "cell_type": "markdown",
   "metadata": {},
   "source": [
    "* Se ejecutará ```np.append()``` insertando ```arreglo_eje_0```dentro de ```arreglo_original``` sin definir ```axis```."
   ]
  },
  {
   "cell_type": "code",
   "execution_count": null,
   "metadata": {},
   "outputs": [],
   "source": [
    "np.append(arreglo_original, arreglo_eje_0)"
   ]
  },
  {
   "cell_type": "markdown",
   "metadata": {},
   "source": [
    "* Se ejecutará ```np.append()``` inseretando ```arreglo_eje_0```dentro de ```arreglo_original``` definiendo ```axis=0```."
   ]
  },
  {
   "cell_type": "code",
   "execution_count": null,
   "metadata": {},
   "outputs": [],
   "source": [
    "np.append(arreglo_original, arreglo_eje_0, axis=0)"
   ]
  },
  {
   "cell_type": "markdown",
   "metadata": {},
   "source": [
    "* Se ejecutará ```np.append()``` insertando ```arreglo_eje_0```dentro de ```arreglo_original``` definiendo ```axis=1```.\n",
    "\n",
    "Esto provocará un error."
   ]
  },
  {
   "cell_type": "code",
   "execution_count": null,
   "metadata": {},
   "outputs": [],
   "source": [
    "np.append(arreglo_original, arreglo_eje_0, axis=1)"
   ]
  },
  {
   "cell_type": "markdown",
   "metadata": {},
   "source": [
    "* Se creará el arreglo ```arreglo_eje_1```."
   ]
  },
  {
   "cell_type": "code",
   "execution_count": null,
   "metadata": {},
   "outputs": [],
   "source": [
    "arreglo_eje_1 = np.arange(7, 13).reshape(3, 2)"
   ]
  },
  {
   "cell_type": "code",
   "execution_count": null,
   "metadata": {},
   "outputs": [],
   "source": [
    "arreglo_eje_1"
   ]
  },
  {
   "cell_type": "markdown",
   "metadata": {},
   "source": [
    "* Se ejecutará ```np.append()``` inseretando ```arreglo_eje_1```dentro de ```arreglo_original``` definiendo ```axis=1```."
   ]
  },
  {
   "cell_type": "code",
   "execution_count": null,
   "metadata": {},
   "outputs": [],
   "source": [
    "np.append(arreglo_original, arreglo_eje_1, axis=1)"
   ]
  },
  {
   "cell_type": "markdown",
   "metadata": {},
   "source": [
    "* Se ejecutará ```np.append()``` inseretando ```arreglo_eje_1```dentro de ```arreglo_original``` definiendo ```axis=0```.\n",
    "\n",
    "Esto provocará un error."
   ]
  },
  {
   "cell_type": "code",
   "execution_count": null,
   "metadata": {},
   "outputs": [],
   "source": [
    "np.append(arreglo_original, arreglo_eje_1, axis=0)"
   ]
  },
  {
   "cell_type": "markdown",
   "metadata": {},
   "source": [
    "### La función ```np.insert()```.\n",
    "\n",
    "La función ```np.insert()``` regresa arreglos a los que se les insertan elementos a partir de un arreglo original en un eje indicado.\n",
    "\n",
    "```\n",
    "np.insert(<arreglo>, <posición>, <inserción>, axis=<n>)\n",
    "```\n",
    "\n",
    "Donde:\n",
    "\n",
    "* ```<arreglo>``` es un arreglo que se que se utilizará como referencia para hacer las inserciones.\n",
    "* ```<posición>``` es un índice o un rango que indica dónde se hará la inserción.\n",
    "* ```<inserción>``` es un valor o un arreglo que será insertado. En caso de que el objeto insertado no sea del tamaño del elemento a insertar, se realizará ```broadcasting```.\n",
    "* ```<axis>``` define el eje de referencia. En caso de no definirse, se regresará un arreglo aplanado.\n",
    "\n",
    "La documentación de la función ```np.insert()```  se encuentra disponible en:\n",
    "\n",
    "https://numpy.org/devdocs/reference/generated/numpy.insert.html"
   ]
  },
  {
   "cell_type": "markdown",
   "metadata": {},
   "source": [
    "**Ejemplos:**"
   ]
  },
  {
   "cell_type": "markdown",
   "metadata": {},
   "source": [
    "Se creará el arreglo ```original``` de forma ```(5, 5)```, el cual contendrá números ```0```."
   ]
  },
  {
   "cell_type": "code",
   "execution_count": null,
   "metadata": {},
   "outputs": [],
   "source": [
    "original = np.zeros((5, 5))"
   ]
  },
  {
   "cell_type": "code",
   "execution_count": null,
   "metadata": {},
   "outputs": [],
   "source": [
    "original"
   ]
  },
  {
   "cell_type": "markdown",
   "metadata": {},
   "source": [
    "* La siguiente celda regresará una arreglo de forma ```(26,)``` al que se insertárá el valor ```8``` en la posición ```3```."
   ]
  },
  {
   "cell_type": "code",
   "execution_count": null,
   "metadata": {
    "scrolled": true
   },
   "outputs": [],
   "source": [
    "np.insert(original, 3, 8)"
   ]
  },
  {
   "cell_type": "code",
   "execution_count": null,
   "metadata": {},
   "outputs": [],
   "source": [
    "np.insert(original, 3, 8).size"
   ]
  },
  {
   "cell_type": "markdown",
   "metadata": {},
   "source": [
    "* La siguiente celda regresará un arreglo de forma ```(8, 5)``` a partir de la posición ```3```  se insertarán sucesiones de números basados en el arreglo ```np.array([[1], [2], [3]])``` en el eje ```0```."
   ]
  },
  {
   "cell_type": "code",
   "execution_count": null,
   "metadata": {},
   "outputs": [],
   "source": [
    "np.array([[1], [2], [3]])"
   ]
  },
  {
   "cell_type": "code",
   "execution_count": null,
   "metadata": {
    "scrolled": true
   },
   "outputs": [],
   "source": [
    "np.insert(original, 3, np.array([[1], [2], [3]]), axis=0)"
   ]
  },
  {
   "cell_type": "markdown",
   "metadata": {},
   "source": [
    "* La siguiente celda regresará un arreglo de forma ```(8, 5)``` insertando en las posiciones ```0```, ```2``` y ```4```  sucesiones de números basados en el arreglo ```np.array([[1], [2], [3]])```."
   ]
  },
  {
   "cell_type": "code",
   "execution_count": null,
   "metadata": {},
   "outputs": [],
   "source": [
    "np.array([[1], [2], [3]])"
   ]
  },
  {
   "cell_type": "code",
   "execution_count": null,
   "metadata": {},
   "outputs": [],
   "source": [
    "np.insert(original, [0, 2, 4], np.array([[1], [2], [3]]), axis=0)"
   ]
  },
  {
   "cell_type": "markdown",
   "metadata": {},
   "source": [
    "* La siguiente celda regresará un arreglo de forma ```(6, 5)``` ìnsertando el arreglo ```np.array([1, 2, 3, 4, 5])``` en la posición 2 del eje ```0```."
   ]
  },
  {
   "cell_type": "code",
   "execution_count": null,
   "metadata": {},
   "outputs": [],
   "source": [
    "np.insert(original, 2, np.array([1, 2, 3, 4, 5]), axis=0)"
   ]
  },
  {
   "cell_type": "markdown",
   "metadata": {},
   "source": [
    "* La siguiente celda regresará un arreglo de forma ```(5, 6)``` ìnsertando el arreglo formado por el objeto ```list``` ```[[1], [2], [3], [4], [5]]``` en las posiciones ```0```y ```2``` del eje ```1```."
   ]
  },
  {
   "cell_type": "code",
   "execution_count": null,
   "metadata": {
    "scrolled": false
   },
   "outputs": [],
   "source": [
    "np.insert(original, [0, 2], [[1], [2], [3], [4], [5]], axis=1)"
   ]
  },
  {
   "cell_type": "markdown",
   "metadata": {},
   "source": [
    "* Las siguientes celda intentará insertar un elemento que no permite *broadcast* en el eje indicado y desencadenará una excepción ```Value Error```"
   ]
  },
  {
   "cell_type": "code",
   "execution_count": null,
   "metadata": {},
   "outputs": [],
   "source": [
    "np.insert(original, 1, [1, 2, 3], axis=1)"
   ]
  },
  {
   "cell_type": "code",
   "execution_count": null,
   "metadata": {},
   "outputs": [],
   "source": [
    "np.insert(original, 1, [1, 2], axis=0)"
   ]
  },
  {
   "cell_type": "markdown",
   "metadata": {},
   "source": [
    "### La función ```np.delete()```.\n",
    "\n",
    "La función ```np.delete``` regresará un arreglo que elimina los elementos en el o los índices que se ingresen como argumentos a partir de un arreglo que se ingresa como arumento.\n",
    "\n",
    "```\n",
    "np.delete(<arreglo>, <índice>, <dimensión>)\n",
    "```\n",
    "\n",
    "Donde:\n",
    "\n",
    "* ```<arreglo>``` es un arreglo de * Numpy*.\n",
    "* ```<índice> ``` es un número de tipo ```int``` o una colección que contiene objetos ```int```.\n",
    "* ```<dimensión>``` es la dimensión que se usará como referencia..\n",
    "\n",
    "En caso de no definir un eje, el arreglo será \"aplanado\".\n",
    "\n",
    "La documentación de la función ```np.delete()```  se encuentra disponible en:\n",
    "\n",
    "https://numpy.org/devdocs/reference/generated/numpy.delete.html"
   ]
  },
  {
   "cell_type": "markdown",
   "metadata": {},
   "source": [
    "**Ejemplo:**"
   ]
  },
  {
   "cell_type": "markdown",
   "metadata": {},
   "source": [
    "* La siguente celda creará al arreglo ```numérico``` de forma ```(4, 5)```."
   ]
  },
  {
   "cell_type": "code",
   "execution_count": null,
   "metadata": {},
   "outputs": [],
   "source": [
    "numerico = np.arange(20).reshape(4, 5)"
   ]
  },
  {
   "cell_type": "code",
   "execution_count": null,
   "metadata": {
    "scrolled": true
   },
   "outputs": [],
   "source": [
    "numerico"
   ]
  },
  {
   "cell_type": "markdown",
   "metadata": {},
   "source": [
    "* La siguiente celda regresará un arreglo de una dimensión creado a partir de ```numerico``` al que se le eliminará el elemento con índice ```1```."
   ]
  },
  {
   "cell_type": "code",
   "execution_count": null,
   "metadata": {},
   "outputs": [],
   "source": [
    "np.delete(numerico, 1)"
   ]
  },
  {
   "cell_type": "markdown",
   "metadata": {},
   "source": [
    "* La siguiente celda regresará un arreglo creado a partir de ```numerico``` al cual se le eliminará el elemento con índice ```2``` en el eje ```0```."
   ]
  },
  {
   "cell_type": "code",
   "execution_count": null,
   "metadata": {},
   "outputs": [],
   "source": [
    "np.delete(numerico, 2, axis=0)"
   ]
  },
  {
   "cell_type": "markdown",
   "metadata": {},
   "source": [
    "* La siguiente celda regresará un arreglo creado a partir de ```numerico``` al cual se le eliminará el elemento con índice ```2``` en el eje ```1```."
   ]
  },
  {
   "cell_type": "code",
   "execution_count": null,
   "metadata": {},
   "outputs": [],
   "source": [
    "np.delete(numerico, 2, axis=1)"
   ]
  },
  {
   "cell_type": "markdown",
   "metadata": {},
   "source": [
    "* La siguiente celda regresará un arreglo creado a partir de ```numerico``` al cual se le eliminará el elementos con los índices ```0```, ```4``` y ```2``` en el eje ```1```."
   ]
  },
  {
   "cell_type": "code",
   "execution_count": null,
   "metadata": {},
   "outputs": [],
   "source": [
    "np.delete(numerico, [0, 4, 2], axis=1)"
   ]
  },
  {
   "cell_type": "markdown",
   "metadata": {},
   "source": [
    "* La siguiente celda regresará un arreglo creado a partir de ```numerico``` al cual se le eliminará el elementos con los índices ```1``` a ```2``` en el eje ```0```."
   ]
  },
  {
   "cell_type": "code",
   "execution_count": null,
   "metadata": {
    "scrolled": true
   },
   "outputs": [],
   "source": [
    "np.delete(numerico, np.s_[1:3], axis=0)"
   ]
  },
  {
   "cell_type": "markdown",
   "metadata": {},
   "source": [
    "## Creación de tipos personalizados."
   ]
  },
  {
   "cell_type": "markdown",
   "metadata": {},
   "source": [
    "*Numpy* permite crear tipos compuestos."
   ]
  },
  {
   "cell_type": "markdown",
   "metadata": {},
   "source": [
    "### La clase ```np.dtype```.\n",
    "\n",
    "https://numpy.org/devdocs/reference/arrays.dtypes.html\n",
    "\n",
    "```\n",
    "np.dtype([<tipo 1>, <tipo 2>, ..., <tipo 3>])\n",
    "```"
   ]
  },
  {
   "cell_type": "markdown",
   "metadata": {},
   "source": [
    "```\n",
    "('<clave>', <tipo>)\n",
    "```"
   ]
  },
  {
   "cell_type": "markdown",
   "metadata": {},
   "source": [
    "**Ejemplo:**"
   ]
  },
  {
   "cell_type": "code",
   "execution_count": null,
   "metadata": {},
   "outputs": [],
   "source": [
    "tipo = np.dtype([('nombre', 'U20'), \n",
    "                 ('apellido', 'U20'), \n",
    "                 ('nacionalidad', 'S3'), \n",
    "                 ('saldo', np.float_)])"
   ]
  },
  {
   "cell_type": "code",
   "execution_count": null,
   "metadata": {},
   "outputs": [],
   "source": [
    "tipo"
   ]
  },
  {
   "cell_type": "code",
   "execution_count": null,
   "metadata": {},
   "outputs": [],
   "source": [
    "registro = np.array([('Juan', 'Pérez', 'MX', 14500),\n",
    "                    ('Martha', 'López', 'MX', 12600),\n",
    "                    ('John', 'Smith', 'USA', 22500)], dtype=tipo)"
   ]
  },
  {
   "cell_type": "code",
   "execution_count": null,
   "metadata": {},
   "outputs": [],
   "source": [
    "registro"
   ]
  },
  {
   "cell_type": "code",
   "execution_count": null,
   "metadata": {},
   "outputs": [],
   "source": [
    "registro['nombre']"
   ]
  },
  {
   "cell_type": "code",
   "execution_count": null,
   "metadata": {},
   "outputs": [],
   "source": [
    "registro['apellido']"
   ]
  },
  {
   "cell_type": "code",
   "execution_count": null,
   "metadata": {},
   "outputs": [],
   "source": [
    "registro['nacionalidad']"
   ]
  },
  {
   "cell_type": "code",
   "execution_count": null,
   "metadata": {},
   "outputs": [],
   "source": [
    "registro['saldo']"
   ]
  },
  {
   "cell_type": "markdown",
   "metadata": {},
   "source": [
    "<p style=\"text-align: center\"><a rel=\"license\" href=\"http://creativecommons.org/licenses/by/4.0/\"><img alt=\"Licencia Creative Commons\" style=\"border-width:0\" src=\"https://i.creativecommons.org/l/by/4.0/80x15.png\" /></a><br />Esta obra está bajo una <a rel=\"license\" href=\"http://creativecommons.org/licenses/by/4.0/\">Licencia Creative Commons Atribución 4.0 Internacional</a>.</p>\n",
    "<p style=\"text-align: center\">&copy; José Luis Chiquete Valdivieso. 2023.</p>"
   ]
  }
 ],
 "metadata": {
  "kernelspec": {
   "display_name": "Python 3 (ipykernel)",
   "language": "python",
   "name": "python3"
  },
  "language_info": {
   "codemirror_mode": {
    "name": "ipython",
    "version": 3
   },
   "file_extension": ".py",
   "mimetype": "text/x-python",
   "name": "python",
   "nbconvert_exporter": "python",
   "pygments_lexer": "ipython3",
   "version": "3.10.6"
  }
 },
 "nbformat": 4,
 "nbformat_minor": 2
}
