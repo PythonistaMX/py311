{
 "cells": [
  {
   "cell_type": "markdown",
   "metadata": {},
   "source": [
    "[![img/pythonista.png](img/pythonista.png)](https://www.pythonista.io)"
   ]
  },
  {
   "cell_type": "markdown",
   "metadata": {},
   "source": [
    "# Gestión y análisis de datos."
   ]
  },
  {
   "cell_type": "code",
   "execution_count": null,
   "metadata": {
    "scrolled": true
   },
   "outputs": [],
   "source": [
    "import numpy as np"
   ]
  },
  {
   "cell_type": "markdown",
   "metadata": {},
   "source": [
    "Debido a las características de los arreglos de *Numpy* para hacer *broadcasting*, la biblioteca cuenta con una amplia gama de funciones se transmiten a los elementos seleccionados de un arreglo."
   ]
  },
  {
   "cell_type": "markdown",
   "metadata": {},
   "source": [
    "## Funciones trigonométricas."
   ]
  },
  {
   "cell_type": "markdown",
   "metadata": {},
   "source": [
    "A continuación se enumeran las prioncipales funciones trigonométricas de *Numpy* para arreglos."
   ]
  },
  {
   "cell_type": "markdown",
   "metadata": {},
   "source": [
    "### Funciones trigonométricas en función de ángulos.\n",
    "\n",
    "Las siguientes funciones regresarán un arreglo en el que cada elemento corresponde al resultado de aplicar la función trigonométrica especificada a cada elemento del arreglo que se ingresa como argumento, interpretando el valor en radianes. \n",
    "\n",
    "```\n",
    "<func>(<arreglo>)\n",
    "```\n",
    "Donde:\n",
    "\n",
    "* ```<func>``` es la función.\n",
    "* ```<arreglo>```es un arreglo o un objeto que puede representar a un arreglo.\n",
    "\n",
    "* [```np.sin()```](https://numpy.org/doc/stable/reference/generated/numpy.sin.html).\n",
    "* [```np.cos()```](https://numpy.org/doc/stable/reference/generated/numpy.cos.html).\n",
    "* [```np.tan()```](https://numpy.org/doc/stable/reference/generated/numpy.tan.html).\n",
    "* [```np.sinh()```](https://numpy.org/doc/stable/reference/generated/numpy.sinh.html).\n",
    "* [```np.cosh()```](https://numpy.org/doc/stable/reference/generated/numpy.cosh.html).\n",
    "* [```np.tanh()```](https://numpy.org/doc/stable/reference/generated/numpy.tanh.html)."
   ]
  },
  {
   "cell_type": "markdown",
   "metadata": {},
   "source": [
    "### Funciones trigonométricas inversas en radianes.\n",
    "\n",
    "Las siguientes funciones regresarán un arreglo en el que cada elemento corresponde al ángulo expresado en radianes obtenido al aplicar la función trigonométrica inversa especificada a cada elemento del arreglo que se ingresa como argumento.\n",
    "\n",
    "```\n",
    "<func>(<arreglo>)\n",
    "```\n",
    "Donde:\n",
    "\n",
    "* ```<func>``` es la función.\n",
    "* ```<arreglo>```es un arreglo o un objeto que puede representar a un arreglo.\n",
    "\n",
    "Las funciones referidas son:\n",
    "\n",
    "* [```np.arcsin()```](https://numpy.org/doc/stable/reference/generated/numpy.arcsin.html).\n",
    "* [```np.arccos()```](https://numpy.org/doc/stable/reference/generated/numpy.arccos.html).\n",
    "* [```np.arctan()```](https://numpy.org/doc/stable/reference/generated/numpy.arctan.html).\n",
    "* [```np.arcsinh()```](https://numpy.org/doc/stable/reference/generated/numpy.arcsinh.html).\n",
    "* [```np.arccosh()```](https://numpy.org/doc/stable/reference/generated/numpy.arccosh.html).\n",
    "* [```np.arctanh()```](https://numpy.org/doc/stable/reference/generated/numpy.arctanh.html)."
   ]
  },
  {
   "cell_type": "markdown",
   "metadata": {},
   "source": [
    "### Funciones trigonométricas inversas con magnitudes.\n",
    "\n",
    "Regresa un arreglo en el que cada elemento corresponde ángulo expresado en radianes calculado a partir de la función trigonométrica inversa.\n",
    "\n",
    "```\n",
    "<func>(<arreglo_1>, <arreglo_2>)\n",
    "```\n",
    "Donde:\n",
    "\n",
    "* ```<func>``` es la función.\n",
    "* ```<arreglo_n>``` es un arreglo o un objeto que puede representar a un arreglo.\n",
    "\n",
    "Las funciones referidas son:\n",
    "\n",
    "* [```np.arctan2()```](https://numpy.org/doc/stable/reference/generated/numpy.arctan2.html).\n",
    "* [```np.arctanh2()```](https://numpy.org/doc/stable/reference/generated/numpy.arctan2.html)."
   ]
  },
  {
   "cell_type": "markdown",
   "metadata": {},
   "source": [
    "### La función  ```np.hypot()```.\n",
    "\n",
    "```\n",
    "np.hypot(<arreglo_1>, <arreglo_2>)\n",
    "```\n",
    "Donde:\n",
    "* ```<arreglo_n>``` es un arreglo o un objeto que puede representar a un arreglo.\n",
    "\n",
    "Regresa un arreglo en el que cada elemento corresponde a la hipotenusa de un triángulo  rectángulo calculado a partir del inverso de la tangente hiperbólica calculada partir de dos arreglos que se ingresan como argumentos y que corresponden al lado opuesto y al adyacente.\n",
    "\n",
    "La documentación de dicha función se encuentra en:\n",
    "\n",
    "https://numpy.org/doc/stable/reference/generated/numpy.hypot.html"
   ]
  },
  {
   "cell_type": "markdown",
   "metadata": {},
   "source": [
    "### Las funciones  ```np.deg2rad()``` y ```np.radians()```.\n",
    "\n",
    "Estas funciones regresan un arreglo en el que cada elemento corresponde a un ángulo en radianes a partir de un arreglo que contiene ámgulos en grados.\n",
    "\n",
    "```\n",
    "<func>(<arreglo>)\n",
    "```\n",
    "Donde:\n",
    "\n",
    "* ```<func>``` es la función.\n",
    "* ```<arreglo>```es un arreglo o un objeto que puede representar a un arreglo.\n",
    "\n",
    "\n",
    "La documentación de dichas funciones se encuentra en:\n",
    "\n",
    "https://numpy.org/doc/stable/reference/generated/numpy.radians.html"
   ]
  },
  {
   "cell_type": "markdown",
   "metadata": {},
   "source": [
    "### Las funciones  ```np.rad2deg()``` y ```np.degrees()```.\n",
    "\n",
    "Estas funciones regresan un arreglo en el que cada elemento corresponde a un ángulo en grados a partir de un arreglo que contiene ángulos en radianes.\n",
    "\n",
    "\n",
    "```\n",
    "<func>(<arreglo>)\n",
    "```\n",
    "Donde:\n",
    "\n",
    "* ```<func>``` es la función.\n",
    "* ```<arreglo>```es un arreglo o un objeto que puede representar a un arreglo.\n",
    "\n",
    "La documentación de dichas funciones se encuentra en:\n",
    "\n",
    "https://numpy.org/doc/stable/reference/generated/numpy.degrees.html"
   ]
  },
  {
   "cell_type": "markdown",
   "metadata": {},
   "source": [
    "**Ejemplos:**"
   ]
  },
  {
   "cell_type": "code",
   "execution_count": null,
   "metadata": {
    "scrolled": true
   },
   "outputs": [],
   "source": [
    "opuesto = np.ones((4,4))"
   ]
  },
  {
   "cell_type": "code",
   "execution_count": null,
   "metadata": {
    "scrolled": true
   },
   "outputs": [],
   "source": [
    "opuesto"
   ]
  },
  {
   "cell_type": "code",
   "execution_count": null,
   "metadata": {
    "scrolled": true
   },
   "outputs": [],
   "source": [
    "adyacente = np.ones((4,4))"
   ]
  },
  {
   "cell_type": "code",
   "execution_count": null,
   "metadata": {
    "scrolled": true
   },
   "outputs": [],
   "source": [
    "adyacente"
   ]
  },
  {
   "cell_type": "code",
   "execution_count": null,
   "metadata": {
    "scrolled": true
   },
   "outputs": [],
   "source": [
    "angulo = np.arctan2(opuesto, adyacente)"
   ]
  },
  {
   "cell_type": "code",
   "execution_count": null,
   "metadata": {
    "scrolled": false
   },
   "outputs": [],
   "source": [
    "angulo"
   ]
  },
  {
   "cell_type": "code",
   "execution_count": null,
   "metadata": {
    "scrolled": true
   },
   "outputs": [],
   "source": [
    "np.degrees([0.78539816])"
   ]
  },
  {
   "cell_type": "code",
   "execution_count": null,
   "metadata": {
    "scrolled": true
   },
   "outputs": [],
   "source": [
    "np.degrees(angulo)"
   ]
  },
  {
   "cell_type": "markdown",
   "metadata": {},
   "source": [
    "## Funciones para ajuste  de valores."
   ]
  },
  {
   "cell_type": "markdown",
   "metadata": {},
   "source": [
    "Las siguientes funciones regresarán un arreglo en el que cada elemento corresponde a valores ajustados obtenidos al aplicar la función especificada a cada elemento del arreglo que se ingresa como argumento.\n",
    "\n",
    "```\n",
    "<func>(<arreglo>)\n",
    "```\n",
    "Donde:\n",
    "\n",
    "* ```<func>``` es la función.\n",
    "* ```<arreglo>```es un arreglo o un objeto que puede representar a un arreglo.\n",
    "\n",
    "Las funciones referidas son:\n",
    "\n",
    "* [```np.absolute()```](https://numpy.org/doc/stable/reference/generated/numpy.absolute.html).\n",
    "* [```np.fabs()```](https://numpy.org/doc/stable/reference/generated/numpy.fabs.html).\n",
    "* [```np.floor()```](https://numpy.org/doc/stable/reference/generated/numpy.floor.html).\n",
    "* [```np.ceil()```](https://numpy.org/doc/stable/reference/generated/numpy.ceil.html).\n",
    "* [```np.round()```](https://numpy.org/doc/stable/reference/generated/numpy.round.html).\n",
    "* [```np.fix()```](https://numpy.org/doc/stable/reference/generated/numpy.fix.html).\n",
    "* [```np.around()```](https://numpy.org/doc/stable/reference/generated/numpy.around.html)."
   ]
  },
  {
   "cell_type": "markdown",
   "metadata": {},
   "source": [
    "**Ejemplos:**"
   ]
  },
  {
   "cell_type": "code",
   "execution_count": null,
   "metadata": {
    "scrolled": true
   },
   "outputs": [],
   "source": [
    "numeros = np.array([[1.43, -1, 45.9999, -3.41],\n",
    "                   [np.inf, -np.inf, np.inf, np.inf],\n",
    "                   [np.nan, 13.45, 11, 21]])"
   ]
  },
  {
   "cell_type": "code",
   "execution_count": null,
   "metadata": {
    "scrolled": true
   },
   "outputs": [],
   "source": [
    "numeros"
   ]
  },
  {
   "cell_type": "code",
   "execution_count": null,
   "metadata": {
    "scrolled": true
   },
   "outputs": [],
   "source": [
    "np.abs(numeros)"
   ]
  },
  {
   "cell_type": "code",
   "execution_count": null,
   "metadata": {
    "scrolled": true
   },
   "outputs": [],
   "source": [
    "np.floor(numeros)"
   ]
  },
  {
   "cell_type": "code",
   "execution_count": null,
   "metadata": {
    "scrolled": true
   },
   "outputs": [],
   "source": [
    "np.ceil(numeros)"
   ]
  },
  {
   "cell_type": "code",
   "execution_count": null,
   "metadata": {
    "scrolled": false
   },
   "outputs": [],
   "source": [
    "np.round(numeros)"
   ]
  },
  {
   "cell_type": "code",
   "execution_count": null,
   "metadata": {},
   "outputs": [],
   "source": [
    "np.absolute(numeros)"
   ]
  },
  {
   "cell_type": "code",
   "execution_count": null,
   "metadata": {
    "scrolled": false
   },
   "outputs": [],
   "source": [
    "np.fix(numeros)"
   ]
  },
  {
   "cell_type": "markdown",
   "metadata": {},
   "source": [
    "## Funciones lograrítmicas y exponenciales."
   ]
  },
  {
   "cell_type": "markdown",
   "metadata": {},
   "source": [
    "Las siguientes funciones regresarán un arreglo en el que cada elemento corresponde a valores obtenidos al aplicar la función especificada a cada elemento del arreglo que se ingresa como argumento.\n",
    "\n",
    "```\n",
    "<func>(<arreglo>)\n",
    "```\n",
    "Donde:\n",
    "\n",
    "* ```<func>``` es la función.\n",
    "* ```<arreglo>```es un arreglo o un objeto que puede representar a un arreglo.\n",
    "\n",
    "Las funciones referidas son:\n",
    "\n",
    "* [```np.exp()```](https://numpy.org/doc/stable/reference/generated/numpy.exp.html).\n",
    "* [```np.exp2()```](https://numpy.org/doc/stable/reference/generated/numpy.exp2.html).\n",
    "* [```np.log()```](https://numpy.org/doc/stable/reference/generated/numpy.log.html).\n",
    "* [```np.log10()```](https://numpy.org/doc/stable/reference/generated/numpy.log10.html).\n",
    "* [```np.log1p()```](https://numpy.org/doc/stable/reference/generated/numpy.log1p.html).\n",
    "* [```np.log2()```](https://numpy.org/doc/stable/reference/generated/numpy.log2.html)."
   ]
  },
  {
   "cell_type": "markdown",
   "metadata": {},
   "source": [
    "**Ejemplos:**"
   ]
  },
  {
   "cell_type": "code",
   "execution_count": null,
   "metadata": {},
   "outputs": [],
   "source": [
    "numeros = np.array([[1.43, -1, 45.9999, -3.41],\n",
    "                   [np.inf, -np.inf, np.inf, np.inf],\n",
    "                   [np.nan, 13.45, 11, 21]])"
   ]
  },
  {
   "cell_type": "code",
   "execution_count": null,
   "metadata": {},
   "outputs": [],
   "source": [
    "np.exp(numeros)"
   ]
  },
  {
   "cell_type": "code",
   "execution_count": null,
   "metadata": {
    "scrolled": true
   },
   "outputs": [],
   "source": [
    "np.log(numeros)"
   ]
  },
  {
   "cell_type": "markdown",
   "metadata": {},
   "source": [
    "## Funciones de evaluación de arreglos."
   ]
  },
  {
   "cell_type": "markdown",
   "metadata": {},
   "source": [
    "Las siguientes funciones regresarán un arreglo en el que cada elemento corresponde a valores booleanos obtenidos al aplicar la función especificada a cada elemento del arreglo que se ingresa como argumento.\n",
    "\n",
    "```\n",
    "<func>(<arreglo>)\n",
    "```\n",
    "Donde:\n",
    "\n",
    "* ```<func>``` es la función.\n",
    "* ```<arreglo>```es un arreglo o un objeto que puede representar a un arreglo.\n",
    "\n",
    "Las funciones referidas son:\n",
    "\n",
    "* [```np.isreal()```](https://numpy.org/doc/stable/reference/generated/numpy.isreal.html)\n",
    "* [```np.isnat()```](https://numpy.org/doc/stable/reference/generated/numpy.isnat.html)\n",
    "* [```np.iscomplex()```](https://numpy.org/doc/stable/reference/generated/numpy.iscomplex.html)\n",
    "* [```np.isfinite()```](https://numpy.org/doc/stable/reference/generated/numpy.isfinite.html)\n",
    "* [```np.isinf()```](https://numpy.org/doc/stable/reference/generated/numpy.isinf.html)\n",
    "* [```np.isneginf()```](https://numpy.org/doc/stable/reference/generated/numpy.isneginf.html)\n",
    "* [```np.isposinf()```](https://numpy.org/doc/stable/reference/generated/numpy.isposinf.html)\n",
    "* [```np.isnan()```](https://numpy.org/doc/stable/reference/generated/numpy.isnan.html)\n",
    "* [```np.isin()```](https://numpy.org/doc/stable/reference/generated/numpy.isin.html)\n",
    "* [```np.isscalar()```](https://numpy.org/doc/stable/reference/generated/numpy.isscalar.html)"
   ]
  },
  {
   "cell_type": "markdown",
   "metadata": {},
   "source": [
    "**Ejemplos:**"
   ]
  },
  {
   "cell_type": "code",
   "execution_count": null,
   "metadata": {
    "scrolled": true
   },
   "outputs": [],
   "source": [
    "numeros = np.array([[1.43, -1, 45.9999, -3.41],\n",
    "                   [np.inf, -np.inf, np.inf, np.inf],\n",
    "                   [np.nan, 13.45, 11, 21]])"
   ]
  },
  {
   "cell_type": "code",
   "execution_count": null,
   "metadata": {
    "scrolled": true
   },
   "outputs": [],
   "source": [
    "np.isfinite(numeros)"
   ]
  },
  {
   "cell_type": "code",
   "execution_count": null,
   "metadata": {
    "scrolled": true
   },
   "outputs": [],
   "source": [
    "np.isnan(numeros)"
   ]
  },
  {
   "cell_type": "code",
   "execution_count": null,
   "metadata": {
    "scrolled": true
   },
   "outputs": [],
   "source": [
    "np.isreal(numeros)"
   ]
  },
  {
   "cell_type": "code",
   "execution_count": null,
   "metadata": {},
   "outputs": [],
   "source": [
    "np.isin(numeros, [np.inf, -np.inf])"
   ]
  },
  {
   "cell_type": "code",
   "execution_count": null,
   "metadata": {},
   "outputs": [],
   "source": [
    "np.isscalar(numeros)"
   ]
  },
  {
   "cell_type": "code",
   "execution_count": null,
   "metadata": {},
   "outputs": [],
   "source": [
    "np.isscalar(12)"
   ]
  },
  {
   "cell_type": "markdown",
   "metadata": {},
   "source": [
    "## Funciones lógicas."
   ]
  },
  {
   "cell_type": "markdown",
   "metadata": {},
   "source": [
    "### Funciones de operaciones lógicas.\n",
    "\n",
    "Las siguientes funciones regresarán un arreglo en el que cada elemento corresponde a valores booleanos obtenidos al aplicar la operación logíca entre cada uno lo elementos de dos arreglos ingresados como argumentos.\n",
    "\n",
    "```\n",
    "<func>(<arreglo_1>, <arreglo_2>)\n",
    "```\n",
    "Donde: \n",
    "\n",
    "* ```<arreglo_i>``` es un arreglo cuyos elementos pueden ser convertidos a valores booleanos de forma idéntica a la de los demás.\n",
    "\n",
    "Las funciones referidas son:\n",
    "\n",
    "* [```np.logical_and()```](https://numpy.org/doc/stable/reference/generated/numpy.logical_and.html)\n",
    "* [```np.logical_or()```](https://numpy.org/doc/stable/reference/generated/numpy.logical_or.html)\n",
    "* [```np.logical_xor()```](https://numpy.org/doc/stable/reference/generated/numpy.logical_xor.html)"
   ]
  },
  {
   "cell_type": "markdown",
   "metadata": {},
   "source": [
    "### La función ```np.logical_not()```.\n",
    "\n",
    "Esta función regresa un a\n",
    " \n",
    "```\n",
    "np.logical_not(<arreglo>)\n",
    "```\n",
    "Donde: \n",
    "\n",
    "* ```<arreglo>``` es un arreglo cuyos elementos pueden ser convertidos a valores booleanos."
   ]
  },
  {
   "cell_type": "markdown",
   "metadata": {},
   "source": [
    "**Ejemplos:**"
   ]
  },
  {
   "cell_type": "code",
   "execution_count": null,
   "metadata": {
    "scrolled": true
   },
   "outputs": [],
   "source": [
    "booleano_1 = np.array([[0, 1, 1],\n",
    "                   [1, 0, 1],\n",
    "                   [1, 1, 1,]], dtype=np.bool_)"
   ]
  },
  {
   "cell_type": "code",
   "execution_count": null,
   "metadata": {},
   "outputs": [],
   "source": [
    "booleano_1"
   ]
  },
  {
   "cell_type": "code",
   "execution_count": null,
   "metadata": {
    "scrolled": true
   },
   "outputs": [],
   "source": [
    "booleano_2 = np.ones((3,3), dtype=np.bool_)"
   ]
  },
  {
   "cell_type": "code",
   "execution_count": null,
   "metadata": {
    "scrolled": true
   },
   "outputs": [],
   "source": [
    "booleano_2"
   ]
  },
  {
   "cell_type": "code",
   "execution_count": null,
   "metadata": {},
   "outputs": [],
   "source": [
    "np.logical_and(booleano_1, booleano_2)"
   ]
  },
  {
   "cell_type": "code",
   "execution_count": null,
   "metadata": {},
   "outputs": [],
   "source": [
    "np.logical_or(booleano_1, booleano_2)"
   ]
  },
  {
   "cell_type": "code",
   "execution_count": null,
   "metadata": {},
   "outputs": [],
   "source": [
    "np.logical_xor(booleano_1, booleano_2)"
   ]
  },
  {
   "cell_type": "code",
   "execution_count": null,
   "metadata": {
    "scrolled": true
   },
   "outputs": [],
   "source": [
    "np.logical_not(booleano_2)"
   ]
  },
  {
   "cell_type": "markdown",
   "metadata": {},
   "source": [
    "### Funciones de evaluación lógica de arreglos."
   ]
  },
  {
   "cell_type": "markdown",
   "metadata": {},
   "source": [
    "* ```np.all()```\n",
    "* ```np.any()```"
   ]
  },
  {
   "cell_type": "code",
   "execution_count": null,
   "metadata": {},
   "outputs": [],
   "source": [
    "booleano = np.array([[0, 1, 1],\n",
    "                   [1, 0, 1],\n",
    "                   [1, 1, 1,]], dtype=np.bool_)"
   ]
  },
  {
   "cell_type": "code",
   "execution_count": null,
   "metadata": {
    "scrolled": true
   },
   "outputs": [],
   "source": [
    "np.any(booleano)"
   ]
  },
  {
   "cell_type": "code",
   "execution_count": null,
   "metadata": {
    "scrolled": true
   },
   "outputs": [],
   "source": [
    "np.all(booleano)"
   ]
  },
  {
   "cell_type": "code",
   "execution_count": null,
   "metadata": {
    "scrolled": true
   },
   "outputs": [],
   "source": [
    "np.all(booleano[2])"
   ]
  },
  {
   "cell_type": "markdown",
   "metadata": {},
   "source": [
    "## Funciones polinomiales."
   ]
  },
  {
   "cell_type": "markdown",
   "metadata": {},
   "source": [
    "### La función  ```np.poly1d()```.\n",
    "\n",
    "Esta función define un polinomio con coeficientes:\n",
    "\n",
    "```\n",
    "array[<c_n>, <c_n-1>, .... <c_1>, <c_0>]\n",
    "```\n",
    "\n",
    "Donde:\n",
    "\n",
    "* ```<c_i>``` es el coeficiente de una polinomio de la siguiente forma:\n",
    "\n",
    "$ c_nx^n + c_{n-1}x^{n-1} + ... + c_1x + c_0$"
   ]
  },
  {
   "cell_type": "markdown",
   "metadata": {},
   "source": [
    "**Ejemplo:**"
   ]
  },
  {
   "cell_type": "markdown",
   "metadata": {},
   "source": [
    "* La siguiente celda creará un arreglo que correponde al polinomio: \n",
    "\n",
    "$2x^4 + 4x^3 - 3x^2 + 0.5$"
   ]
  },
  {
   "cell_type": "code",
   "execution_count": null,
   "metadata": {
    "scrolled": true
   },
   "outputs": [],
   "source": [
    "ecuacion = np.poly1d([2, 4, -3, 0, 0.5])"
   ]
  },
  {
   "cell_type": "code",
   "execution_count": null,
   "metadata": {
    "scrolled": true
   },
   "outputs": [],
   "source": [
    "ecuacion"
   ]
  },
  {
   "cell_type": "markdown",
   "metadata": {},
   "source": [
    "La siguiente celda calculará la derivada de ```ecuacion```, la cual da por resultado: \n",
    "\n",
    "$8x^3 + 12x^2 - 6x$"
   ]
  },
  {
   "cell_type": "markdown",
   "metadata": {},
   "source": [
    "### La función ```np.polyder```."
   ]
  },
  {
   "cell_type": "code",
   "execution_count": null,
   "metadata": {
    "scrolled": true
   },
   "outputs": [],
   "source": [
    "np.polyder(ecuacion)"
   ]
  },
  {
   "cell_type": "markdown",
   "metadata": {},
   "source": [
    "### La función ```np.polyint```."
   ]
  },
  {
   "cell_type": "markdown",
   "metadata": {},
   "source": [
    "La siguiente celda calculará la integral indefinida de ```ecuacion```, la cual da por resultado: \n",
    "\n",
    "$0.4x^5 + x^4 -x^3 + 0.5x + c$"
   ]
  },
  {
   "cell_type": "code",
   "execution_count": null,
   "metadata": {
    "scrolled": true
   },
   "outputs": [],
   "source": [
    "np.polyint(ecuacion)"
   ]
  },
  {
   "cell_type": "markdown",
   "metadata": {},
   "source": [
    "## Funciones estadísticas.\n",
    "\n",
    "* ```np.amax()```\n",
    "* ```np amin()```\n",
    "* ```np.argmax()```\n",
    "* ```np.argmin()```\n",
    "* ```np.average()```\n",
    "* ```np.correlate()```\n",
    "* ```np.corrcoef()```\n",
    "* ```np.count_nonzero()```\n",
    "* ```np.cov()```\n",
    "* ```np.cumprod()```\n",
    "* ```np.cumsum()```\n",
    "* ```np.histogram()```\n",
    "* ```np.histogram2d()```\n",
    "* ```np.histogram_bin_edges()```\n",
    "* ```np.histogramdd()```\n",
    "* ```np.max()```\n",
    "* ```np.mean()```\n",
    "* ```np.median()```\n",
    "* ```np.min()```\n",
    "* ```np.nanargmax()```\n",
    "* ```np.nanargmin()```\n",
    "* ```np.nancumprod()```\n",
    "* ```np.nancumsum()```\n",
    "* ```np.nanmax()```\n",
    "* ```np.nanmean()```\n",
    "* ```np.nanmedian()```\n",
    "* ```np.nanmin()```\n",
    "* ```np.nanpercentile()```\n",
    "* ```np.nanquantile()```\n",
    "* ```np.nanstd()```\n",
    "* ```np.nansum()```\n",
    "* ```np.nanvar()```\n",
    "* ```np.percentile()```\n",
    "* ```np.quantile()```\n",
    "* ```np.std()```\n",
    "* ```np.var()```"
   ]
  },
  {
   "cell_type": "markdown",
   "metadata": {},
   "source": [
    "**Ejemplos:**"
   ]
  },
  {
   "cell_type": "code",
   "execution_count": null,
   "metadata": {
    "scrolled": true
   },
   "outputs": [],
   "source": [
    "numeros"
   ]
  },
  {
   "cell_type": "code",
   "execution_count": null,
   "metadata": {
    "scrolled": true
   },
   "outputs": [],
   "source": [
    "np.max(numeros)"
   ]
  },
  {
   "cell_type": "code",
   "execution_count": null,
   "metadata": {
    "scrolled": true
   },
   "outputs": [],
   "source": [
    "np.nanmax(numeros)"
   ]
  },
  {
   "cell_type": "code",
   "execution_count": null,
   "metadata": {
    "scrolled": true
   },
   "outputs": [],
   "source": [
    "np.nanmin(numeros)"
   ]
  },
  {
   "cell_type": "code",
   "execution_count": null,
   "metadata": {
    "scrolled": true
   },
   "outputs": [],
   "source": [
    "np.nanmean(numeros)"
   ]
  },
  {
   "cell_type": "code",
   "execution_count": null,
   "metadata": {
    "scrolled": true
   },
   "outputs": [],
   "source": [
    "np.nanmean(numeros[0])"
   ]
  },
  {
   "cell_type": "code",
   "execution_count": null,
   "metadata": {
    "scrolled": true
   },
   "outputs": [],
   "source": [
    "np.nanmean(numeros[2])"
   ]
  },
  {
   "cell_type": "code",
   "execution_count": null,
   "metadata": {
    "scrolled": true
   },
   "outputs": [],
   "source": [
    "np.nanmean(numeros[1])"
   ]
  },
  {
   "cell_type": "code",
   "execution_count": null,
   "metadata": {
    "scrolled": true
   },
   "outputs": [],
   "source": [
    "aleatorios = np.random.randint(100,size=(20))"
   ]
  },
  {
   "cell_type": "code",
   "execution_count": null,
   "metadata": {
    "scrolled": true
   },
   "outputs": [],
   "source": [
    "aleatorios"
   ]
  },
  {
   "cell_type": "code",
   "execution_count": null,
   "metadata": {
    "scrolled": true
   },
   "outputs": [],
   "source": [
    "np.histogram(aleatorios)"
   ]
  },
  {
   "cell_type": "markdown",
   "metadata": {},
   "source": [
    "<p style=\"text-align: center\"><a rel=\"license\" href=\"http://creativecommons.org/licenses/by/4.0/\"><img alt=\"Licencia Creative Commons\" style=\"border-width:0\" src=\"https://i.creativecommons.org/l/by/4.0/80x15.png\" /></a><br />Esta obra está bajo una <a rel=\"license\" href=\"http://creativecommons.org/licenses/by/4.0/\">Licencia Creative Commons Atribución 4.0 Internacional</a>.</p>\n",
    "<p style=\"text-align: center\">&copy; José Luis Chiquete Valdivieso. 2021.</p>"
   ]
  }
 ],
 "metadata": {
  "kernelspec": {
   "display_name": "Python 3 (ipykernel)",
   "language": "python",
   "name": "python3"
  },
  "language_info": {
   "codemirror_mode": {
    "name": "ipython",
    "version": 3
   },
   "file_extension": ".py",
   "mimetype": "text/x-python",
   "name": "python",
   "nbconvert_exporter": "python",
   "pygments_lexer": "ipython3",
   "version": "3.10.6"
  }
 },
 "nbformat": 4,
 "nbformat_minor": 2
}
