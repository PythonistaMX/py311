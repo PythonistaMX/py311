{
 "cells": [
  {
   "cell_type": "markdown",
   "metadata": {},
   "source": [
    "[![img/pythonista.png](img/pythonista.png)](https://www.pythonista.io)"
   ]
  },
  {
   "cell_type": "markdown",
   "metadata": {},
   "source": [
    "# Gestión de arreglos de *Numpy*."
   ]
  },
  {
   "cell_type": "code",
   "execution_count": null,
   "metadata": {
    "scrolled": true
   },
   "outputs": [],
   "source": [
    "import numpy as np"
   ]
  },
  {
   "cell_type": "markdown",
   "metadata": {},
   "source": [
    "## Creación de arreglos.\n",
    "\n",
    "Además de ```np.array()``` es posible crear arreglos con ciertas características particulares.\n",
    "\n",
    "La documentación completa de las rutinas para la creación de arreglos puede consultarse en: \n",
    "\n",
    "https://numpy.org/doc/stable/reference/routines.array-creation.html"
   ]
  },
  {
   "cell_type": "markdown",
   "metadata": {},
   "source": [
    "### La función ```np.ndarray()```.\n",
    "\n",
    "Esta función regresa un arreglo con valores no definidos, por lo general, muy cercanos a ```0```.\n",
    "\n",
    "```\n",
    "np.ndarray(<forma>, dtype=<tipo>)\n",
    "```\n",
    "\n",
    "Donde:\n",
    "\n",
    "* ```<forma>``` es una tupla que indica la forma del arreglo.\n",
    "* ```<tipo>``` es el tipo de dato que tendrá el arreglo.\n",
    "\n",
    "El tipo por defecto del arreglo es ```np.float```.\n",
    "\n",
    "https://numpy.org/doc/stable/reference/generated/numpy.ndarray.html"
   ]
  },
  {
   "cell_type": "markdown",
   "metadata": {},
   "source": [
    "**Ejemplos:**"
   ]
  },
  {
   "cell_type": "markdown",
   "metadata": {},
   "source": [
    "* La siguiente celda creará un arreglo de forma ```(2, 2)``` de tipo entero."
   ]
  },
  {
   "cell_type": "code",
   "execution_count": null,
   "metadata": {
    "scrolled": true
   },
   "outputs": [],
   "source": [
    "np.ndarray((2, 2), dtype=float)"
   ]
  },
  {
   "cell_type": "markdown",
   "metadata": {},
   "source": [
    "* La siguiente celda creará un arreglo de forma ```(2, 2)``` de tipo ```'>U10'```."
   ]
  },
  {
   "cell_type": "code",
   "execution_count": null,
   "metadata": {
    "scrolled": true
   },
   "outputs": [],
   "source": [
    "np.ndarray((2, 2), dtype='>U10')"
   ]
  },
  {
   "cell_type": "markdown",
   "metadata": {},
   "source": [
    "### La función ```np.ones()```.\n",
    "\n",
    "Para crear un arreglo que contenga exclusivamente el número ```1``` en cada elemento se utiliza la función ```np.ones()```.\n",
    "\n",
    "```\n",
    "np.ones(<forma>, dtype=<tipo>)\n",
    "```\n",
    "\n",
    "Donde:\n",
    "\n",
    "* ```<forma>``` es una tupla que indica la forma del arreglo.\n",
    "* ```<tipo>``` es el tipo de dato que tendrá el arreglo.\n",
    "\n",
    "El valor por defecto del parámetro ```dtype``` es ```np.float```.\n",
    "\n",
    "https://numpy.org/doc/stable/reference/generated/numpy.ones.html"
   ]
  },
  {
   "cell_type": "markdown",
   "metadata": {},
   "source": [
    "**Ejemplos:**"
   ]
  },
  {
   "cell_type": "markdown",
   "metadata": {},
   "source": [
    "* La siguiente celda creará un arreglo de forma ```(2, 5, 3, 6)``` de tipo ```np.float```."
   ]
  },
  {
   "cell_type": "code",
   "execution_count": null,
   "metadata": {
    "scrolled": true
   },
   "outputs": [],
   "source": [
    "np.ones((2, 5, 3, 6))"
   ]
  },
  {
   "cell_type": "markdown",
   "metadata": {},
   "source": [
    "* La siguiente celda creará un arreglo de forma ```(2, 5, 3, 6)``` de tipo ```'|S1'```"
   ]
  },
  {
   "cell_type": "code",
   "execution_count": null,
   "metadata": {
    "scrolled": true
   },
   "outputs": [],
   "source": [
    "np.ones((3, 3), dtype='|S1')"
   ]
  },
  {
   "cell_type": "markdown",
   "metadata": {},
   "source": [
    "### La función ```np.zeros()```.\n",
    "\n",
    "Esta función regresará un arreglo que contiene exclusivamente el número ```0``` en cada elemento.\n",
    "\n",
    "```\n",
    "np.zeros(<forma>, dtype=<tipo>)\n",
    "```\n",
    "\n",
    "Donde:\n",
    "\n",
    "* ```<forma>``` es una tupla que indica la forma del arreglo.\n",
    "* ```<tipo>``` es el tipo de dato que tendrá el arreglo.\n",
    "\n",
    "El valor por defecto del parámetro ```dtype``` es ```np.float```.\n",
    "\n",
    "https://numpy.org/doc/stable/reference/generated/numpy.zeros.html"
   ]
  },
  {
   "cell_type": "markdown",
   "metadata": {},
   "source": [
    "**Ejemplos:**"
   ]
  },
  {
   "cell_type": "markdown",
   "metadata": {},
   "source": [
    "* La siguiente celda creará un arreglo de forma ```(3, 3)``` de tipo ```np.float```."
   ]
  },
  {
   "cell_type": "code",
   "execution_count": null,
   "metadata": {
    "scrolled": true
   },
   "outputs": [],
   "source": [
    "np.zeros((3, 3))"
   ]
  },
  {
   "cell_type": "markdown",
   "metadata": {},
   "source": [
    "* La siguiente celda creará un arreglo de forma ```(2, 2)``` de tipo ```np.bool```."
   ]
  },
  {
   "cell_type": "code",
   "execution_count": null,
   "metadata": {
    "scrolled": true
   },
   "outputs": [],
   "source": [
    "np.zeros((2, 2, 2), dtype=bool)"
   ]
  },
  {
   "cell_type": "markdown",
   "metadata": {},
   "source": [
    "### La función ```np.empty()```.\n",
    "\n",
    "Esta función regresará un arreglo con valores vacíos.\n",
    "\n",
    "```\n",
    "np.empty(<forma>, dtype=<tipo>)\n",
    "```\n",
    "\n",
    "Donde:\n",
    "\n",
    "* ```<forma>``` es una tupla que indica la forma del arreglo.\n",
    "* ```<tipo>``` es el tipo de dato que tendrá el arreglo.\n",
    "\n",
    "El valor por defecto del parámetro ```dtype``` es ```np.float```.\n",
    "\n",
    "https://numpy.org/doc/stable/reference/generated/numpy.empty.html"
   ]
  },
  {
   "cell_type": "markdown",
   "metadata": {},
   "source": [
    "**Ejemplos:**"
   ]
  },
  {
   "cell_type": "markdown",
   "metadata": {},
   "source": [
    "* La siguiente celda creará un arreglo que contiene valores muy cercanos a ```0``` de tipo ```np.float64```."
   ]
  },
  {
   "cell_type": "code",
   "execution_count": null,
   "metadata": {
    "scrolled": true
   },
   "outputs": [],
   "source": [
    "np.empty((2, 2, 2))"
   ]
  },
  {
   "cell_type": "code",
   "execution_count": null,
   "metadata": {},
   "outputs": [],
   "source": [
    "np.empty((2, 2, 2)).dtype"
   ]
  },
  {
   "cell_type": "markdown",
   "metadata": {},
   "source": [
    "* La siguiente celda creará un arreglo que contiene valores de tipo ```np.int8``` iguales ```0```."
   ]
  },
  {
   "cell_type": "code",
   "execution_count": null,
   "metadata": {
    "scrolled": false
   },
   "outputs": [],
   "source": [
    "np.empty((2, 2, 2), dtype=np.int8)"
   ]
  },
  {
   "cell_type": "markdown",
   "metadata": {},
   "source": [
    "* La siguiente celda creará un arreglo que contiene valores iguales ```False```."
   ]
  },
  {
   "cell_type": "code",
   "execution_count": null,
   "metadata": {
    "scrolled": true
   },
   "outputs": [],
   "source": [
    "np.empty((2, 2, 2), dtype=np.bool_)"
   ]
  },
  {
   "cell_type": "markdown",
   "metadata": {},
   "source": [
    "* La siguiente celda creará un arreglo que contiene valores iguales de tipo ```np.str_``` con valor de `''`."
   ]
  },
  {
   "cell_type": "code",
   "execution_count": null,
   "metadata": {},
   "outputs": [],
   "source": [
    "np.empty((3, 3), dtype=np.str_)"
   ]
  },
  {
   "cell_type": "markdown",
   "metadata": {},
   "source": [
    "### La función ```np.arange()```.\n",
    "\n",
    "La función ```np.arange()``` generará un arreglo de una dimensión que contiene los enteros definidos en un rango al estilo de ```range()```.\n",
    "\n",
    "```\n",
    "np.arange(<inicio>, <fin>, <incrementos>, dtype=<tipo>)\n",
    "```\n",
    "Donde:\n",
    "\n",
    "* ```<inicio>``` corresponde al número a partir del cual comenzará la secuencia.\n",
    "* ```<fin>``` corresponde al número en el que terminará la secuencia.\n",
    "* ```<incrementos>``` correpsonde al número  unidades que se incrementarán sucesivamente desde el valor inicial hasta uno antes del valor final.\n",
    "* ```<tipo>``` es el tipo de dato que tendrá el arreglo.\n",
    "\n",
    "El valor por defecto del valor inicial es ```0```.\n",
    "\n",
    "El valor por defecto de los incrementos es de ```1```.\n",
    "\n",
    "Si no se define el valor de ```dtype```, se inferirá el tipo de dato del que se trata.\n",
    "\n",
    "https://numpy.org/doc/stable/reference/generated/numpy.arange.html"
   ]
  },
  {
   "cell_type": "markdown",
   "metadata": {},
   "source": [
    "**Ejemplos:**"
   ]
  },
  {
   "cell_type": "markdown",
   "metadata": {},
   "source": [
    "* Se creará un arreglo de una dimensión com valores de tipo ```np.int``` que van del ```5``` a antes del ```12``` en  incrementos de ```1 ```."
   ]
  },
  {
   "cell_type": "code",
   "execution_count": null,
   "metadata": {},
   "outputs": [],
   "source": [
    "np.arange(5, 12)"
   ]
  },
  {
   "cell_type": "markdown",
   "metadata": {},
   "source": [
    "* Se creará un arreglo de una dimensión con valores de tipo ```np.float``` que van del ```-3``` a antes del ```10``` en  incrementos de ```4 ```."
   ]
  },
  {
   "cell_type": "code",
   "execution_count": null,
   "metadata": {},
   "outputs": [],
   "source": [
    "np.arange(-3, 10, 4, dtype=float)"
   ]
  },
  {
   "cell_type": "markdown",
   "metadata": {},
   "source": [
    "* Se creará un arreglo de una dimensión con valores de tipo ```np.float``` que van del ```6.24``` a antes del ```15.2``` en  incrementos de ```0.8```."
   ]
  },
  {
   "cell_type": "code",
   "execution_count": null,
   "metadata": {},
   "outputs": [],
   "source": [
    "np.arange(6.24, 15.2, 0.8)"
   ]
  },
  {
   "cell_type": "markdown",
   "metadata": {},
   "source": [
    "### La función ```np.linspace()```.\n",
    "\n",
    "La función ```np.linspace()``` creará un arreglo de una dimensión que contiene una secuencia lineal de números dentro de un rango dado entre un valor incial y un valor final. El número de segmentos incluyendo el valor incial y el valor final es definido meduante el parámentro ```num```. El valor por defecto del parámetro ```num``` es de ```50```.\n",
    "\n",
    "```\n",
    "np.linspace(<inicio, <fin>, num=<n>, dtype=<tipo de dato>)\n",
    "```\n",
    "\n",
    "Donde:\n",
    "\n",
    "* ```<inicio>``` corresponde al número a partir del cual comenzará la secuencia.\n",
    "* ```<fin>``` corresponde al número en el que terminará la secuencia\n",
    "* ```<segmentos>``` correpsonde al número de segmentos, incluyendo el valor inicial y el final que se generarán, que contendrá el arreglo.\n",
    "* ```<tipo>``` es el tipo de dato que tendrá el arreglo.\n",
    "\n",
    "\n",
    "El valor por defecto del parámetro ```dtype``` es ```np.float```.\n",
    "\n",
    "https://numpy.org/doc/stable/reference/generated/numpy.linspace.html"
   ]
  },
  {
   "cell_type": "markdown",
   "metadata": {},
   "source": [
    "**Ejemplos:**"
   ]
  },
  {
   "cell_type": "markdown",
   "metadata": {},
   "source": [
    "* La siguiente celda creará un arreglo compuesto por una secuencia lineal ```50``` segmentos que van del ```0``` al ```7```."
   ]
  },
  {
   "cell_type": "code",
   "execution_count": null,
   "metadata": {},
   "outputs": [],
   "source": [
    "np.linspace(0, 7)"
   ]
  },
  {
   "cell_type": "markdown",
   "metadata": {},
   "source": [
    "* La siguiente celda creará un arreglo compuesto por una secuencia lineal de ```100``` segmentos que van del ```0``` al ```7```."
   ]
  },
  {
   "cell_type": "code",
   "execution_count": null,
   "metadata": {},
   "outputs": [],
   "source": [
    "np.linspace(0, 7, num=100)"
   ]
  },
  {
   "cell_type": "markdown",
   "metadata": {},
   "source": [
    "### La función ```np.geomspace()```.\n",
    "\n",
    "La función ```np.geomspace()```  creará un arreglo de una dimensión que contiene una secuencia de números en una escala geométrica dentro de un rango dado entre un valor incial y un valor final. El número de segmentos incluyendo el valor incial y el valor final es definido meduante el parámentro ```num```. El valor por defecto del parámetro ```num``` es de ```50```.\n",
    "\n",
    "```\n",
    "np.geomspace(<inicio, <fin>, num=<n>, dtype=<tipo>)\n",
    "```\n",
    "\n",
    "Donde:\n",
    "\n",
    "* ```<inicio>``` corresponde al número a partir del cual comenzará la secuencia.\n",
    "* ```<fin>``` corresponde al número en el que terminará la secuencia\n",
    "* ```<n>``` correpsonde al número de segmentos, incluyendo el valor inicial y el final que se generarán, que contendrá el arreglo.\n",
    "* ```<tipo>``` es el tipo de dato que tendrá el arreglo.\n",
    "\n",
    "\n",
    "El valor por defecto del parámetro ```dtype``` es ```np.float```.\n",
    "\n",
    "https://numpy.org/doc/stable/reference/generated/numpy.geomspace.html"
   ]
  },
  {
   "cell_type": "markdown",
   "metadata": {},
   "source": [
    "**Ejemplo:**"
   ]
  },
  {
   "cell_type": "markdown",
   "metadata": {},
   "source": [
    "* La siguiente celda creará un arreglo compuesto por una secuencia geométrica de ```100``` segmentos que van del ```0``` al ```100```."
   ]
  },
  {
   "cell_type": "code",
   "execution_count": null,
   "metadata": {},
   "outputs": [],
   "source": [
    "np.geomspace(1, 100, 100)"
   ]
  },
  {
   "cell_type": "markdown",
   "metadata": {},
   "source": [
    "### La función ```np.logspace()```.\n",
    "\n",
    "La función ```np.logspace()``` creará un arreglo de una dimensión que contiene una secuencia de números en una escala logarítmica que va de un rango dado entre $e^{incio}$ y un  $e^{fin}$ . El número de segmentos incluyendo el valor incial y el valor final es definido meduante el parámentro ```num```. El valor por defecto del parámetro ```num``` es de ```50```.\n",
    "\n",
    "```\n",
    "np.logspace(<inicio>, <fin>, num=<n>, dtype=<tipo>)\n",
    "```\n",
    "\n",
    "Donde:\n",
    "\n",
    "* ```<inicio>``` define el valor inicial de la secuencia. Este valor se calcula como $e^{<inicio>}$.\n",
    "* ```<fin>``` define el valor final de la secuencia. Este valor se calcula como $e^{<fin>}$.\n",
    "* ```<n>``` correpsonde al número de segmentos, incluyendo el valor inicial y el final que se generarán, que contendrá el arreglo.\n",
    "* ```<tipo>``` es el tipo de dato que tendrá el arreglo.\n",
    "\n",
    "\n",
    "El valor por defecto del parámetro ```dtype``` es ```np.float```.\n",
    "\n",
    "https://numpy.org/doc/stable/reference/generated/numpy.logspace.html"
   ]
  },
  {
   "cell_type": "markdown",
   "metadata": {},
   "source": [
    "**Ejemplo:**"
   ]
  },
  {
   "cell_type": "markdown",
   "metadata": {},
   "source": [
    "* La siguiente celda creará un arreglo compuesto por una secuencia logarítmica de 100 segmentos que van del $e^{12}$ a $e^{25}$."
   ]
  },
  {
   "cell_type": "code",
   "execution_count": null,
   "metadata": {
    "scrolled": false
   },
   "outputs": [],
   "source": [
    "np.logspace(12, 25, num=100)"
   ]
  },
  {
   "cell_type": "markdown",
   "metadata": {},
   "source": [
    "## Copiado de un arreglo.\n",
    "\n",
    "La función ```np.copy()``` permite crear un nuevo arreglo a partir del que se ingresa como argumento.\n",
    "\n",
    "```\n",
    "np.copy(<arreglo>)\n",
    "```\n",
    "\n",
    "Donde:\n",
    "\n",
    "* ```<arreglo>``` es un arreglo de *Numpy*.\n",
    "\n",
    "https://numpy.org/doc/stable/reference/generated/numpy.copy.html"
   ]
  },
  {
   "cell_type": "markdown",
   "metadata": {},
   "source": [
    "**Ejemplos:**"
   ]
  },
  {
   "cell_type": "markdown",
   "metadata": {},
   "source": [
    "* La siguiente celda creará el arreglo ```arreglo_1```."
   ]
  },
  {
   "cell_type": "code",
   "execution_count": null,
   "metadata": {
    "scrolled": true
   },
   "outputs": [],
   "source": [
    "arreglo_1 = np.array(([1, 2], [3, 4]))"
   ]
  },
  {
   "cell_type": "code",
   "execution_count": null,
   "metadata": {},
   "outputs": [],
   "source": [
    "arreglo_1"
   ]
  },
  {
   "cell_type": "markdown",
   "metadata": {},
   "source": [
    "* La siguiente celda creará al objeto ```arreglo_2``` a partir  de ```arreglo_1```."
   ]
  },
  {
   "cell_type": "code",
   "execution_count": null,
   "metadata": {
    "scrolled": true
   },
   "outputs": [],
   "source": [
    "arreglo_2 = np.copy(arreglo_1)"
   ]
  },
  {
   "cell_type": "code",
   "execution_count": null,
   "metadata": {},
   "outputs": [],
   "source": [
    "arreglo_2"
   ]
  },
  {
   "cell_type": "markdown",
   "metadata": {},
   "source": [
    "* La siguiente celda verificará si ```arreglo_1``` y ```arreglo_2``` son el mismo objeto. El resultado será ```False```."
   ]
  },
  {
   "cell_type": "code",
   "execution_count": null,
   "metadata": {
    "scrolled": true
   },
   "outputs": [],
   "source": [
    "arreglo_1 is arreglo_2"
   ]
  },
  {
   "cell_type": "markdown",
   "metadata": {},
   "source": [
    "* La siguiente celda evaluará si ```arreglo_1``` y ```arreglo_2``` contienen los mismos valores. El resultado será ```True``` para cada elemento de los arreglos."
   ]
  },
  {
   "cell_type": "code",
   "execution_count": null,
   "metadata": {
    "scrolled": true
   },
   "outputs": [],
   "source": [
    "arreglo_1 == arreglo_2 "
   ]
  },
  {
   "cell_type": "markdown",
   "metadata": {},
   "source": [
    "## Escritura y lectura de arreglos en el sistema de archivos.\n",
    "\n",
    "*Numpy* cuenta con varias funciones para realizar operaciones de lectura/escritura. La documentación completa puede consultarse en:\n",
    "\n",
    "https://numpy.org/doc/stable/reference/routines.io.html#"
   ]
  },
  {
   "cell_type": "markdown",
   "metadata": {},
   "source": [
    "### Escritura de un arreglo  en un archivo de texto con la función ```np.savetxt()```.\n",
    "\n",
    "La función ```np.savetxt()``` permite guardar un arreglo en un archivo  de texto en formato *CSV*.\n",
    "\n",
    "```\n",
    "np.savetxt('<ruta>', <arreglo>, delimiter='<caracter>')\n",
    "```\n",
    "\n",
    "Donde:\n",
    "\n",
    "* ```<arreglo>``` es un arreglo de *Numpy*.\n",
    "* ```<ruta>``` es la ruta de; archivo de texto que contendrá la representación de ```<arreglo>```.\n",
    "* ```<caracter>``` es el caracter que se utilizará como delimitador.\n",
    "\n",
    "https://numpy.org/doc/stable/reference/generated/numpy.savetxt.html\n",
    "\n",
    "\n",
    "En la que el caracter delimitador por defecto es un espacio."
   ]
  },
  {
   "cell_type": "markdown",
   "metadata": {},
   "source": [
    "**Ejemplo:**"
   ]
  },
  {
   "cell_type": "markdown",
   "metadata": {},
   "source": [
    "* Se creará el arreglo llamado ```arreglo```."
   ]
  },
  {
   "cell_type": "code",
   "execution_count": null,
   "metadata": {},
   "outputs": [],
   "source": [
    "arreglo = np.array(([1, 2], [3, 4]))"
   ]
  },
  {
   "cell_type": "markdown",
   "metadata": {},
   "source": [
    "* El contenido de arreglo será guardado en un archivo de texto llamado ```arreglo.txt```."
   ]
  },
  {
   "cell_type": "code",
   "execution_count": null,
   "metadata": {
    "scrolled": true
   },
   "outputs": [],
   "source": [
    "np.savetxt('arreglo.csv', arreglo)"
   ]
  },
  {
   "cell_type": "markdown",
   "metadata": {},
   "source": [
    "* La siguiente celda mostrará el contenido del archivo `arreglo.csv`."
   ]
  },
  {
   "cell_type": "code",
   "execution_count": null,
   "metadata": {},
   "outputs": [],
   "source": [
    "%cat arreglo.csv"
   ]
  },
  {
   "cell_type": "markdown",
   "metadata": {},
   "source": [
    "### Escritura de un arreglo en un archivo binario con la función ```np.save()```.\n",
    "\n",
    "Esta función es capaz de guardar un arreglo de *Numpy* en formato binario con la extensión ```.npy```.\n",
    "\n",
    "```\n",
    "np.save('<ruta>' <arreglo>)\n",
    "```\n",
    "\n",
    "https://numpy.org/doc/stable/reference/generated/numpy.save.html"
   ]
  },
  {
   "cell_type": "markdown",
   "metadata": {},
   "source": [
    "**Ejemplo:**"
   ]
  },
  {
   "cell_type": "markdown",
   "metadata": {},
   "source": [
    "* A continuación se creará el arreglo con nombre ```arreglo```."
   ]
  },
  {
   "cell_type": "code",
   "execution_count": null,
   "metadata": {},
   "outputs": [],
   "source": [
    "arreglo = np.array(([1, 2], [3, 4]))"
   ]
  },
  {
   "cell_type": "markdown",
   "metadata": {},
   "source": [
    "* Se ejecutará  la función ```np.save()``` para guardar ```arreglo``` en el archivo ```arreglo.npy``` (no es necesario poner la extensión)."
   ]
  },
  {
   "cell_type": "code",
   "execution_count": null,
   "metadata": {
    "scrolled": true
   },
   "outputs": [],
   "source": [
    "np.save('arreglo', arreglo)"
   ]
  },
  {
   "cell_type": "code",
   "execution_count": null,
   "metadata": {},
   "outputs": [],
   "source": [
    "%ls arreglo.npy"
   ]
  },
  {
   "cell_type": "markdown",
   "metadata": {},
   "source": [
    "### Escritura de varios arreglos en un archivo binario con la función ```np.savez()```.\n",
    "\n",
    "Esta función es capaz de guardar más de un arreglo de *Numpy* en formato binario con la extensión La extensión ```.npz```.\n",
    "\n",
    "```\n",
    "np.savez('<ruta>' <arreglo 1>, <arreglo 2>,... <arreglo n>)\n",
    "```\n",
    "\n",
    "https://numpy.org/doc/stable/reference/generated/numpy.savez.html"
   ]
  },
  {
   "cell_type": "markdown",
   "metadata": {},
   "source": [
    "**Ejemplo:**"
   ]
  },
  {
   "cell_type": "markdown",
   "metadata": {},
   "source": [
    "* A continuación se crearán los arreglos con nombre ```arreglo``` y ```otro_arreglo```."
   ]
  },
  {
   "cell_type": "code",
   "execution_count": null,
   "metadata": {},
   "outputs": [],
   "source": [
    "arreglo = np.array(([1, 2], [3, 4]))\n",
    "otro_arreglo = np.array(([5, 6], [7, 8]))"
   ]
  },
  {
   "cell_type": "markdown",
   "metadata": {},
   "source": [
    "* Se ejecutará  la función ```np.savez()``` para guardar ```arreglo``` y ```otro_arreglo``` en el archivo ```arreglos.npz``` (no es necesario poner la extensión)."
   ]
  },
  {
   "cell_type": "code",
   "execution_count": null,
   "metadata": {
    "scrolled": true
   },
   "outputs": [],
   "source": [
    "np.savez('arreglos', arreglo, otro_arreglo)"
   ]
  },
  {
   "cell_type": "code",
   "execution_count": null,
   "metadata": {
    "scrolled": true
   },
   "outputs": [],
   "source": [
    "%ls arreglos.npz"
   ]
  },
  {
   "cell_type": "markdown",
   "metadata": {},
   "source": [
    "### Extracción de un arreglo a partir de un archivo de texto con la función  ```np.loadtxt()```.\n",
    "\n",
    "\n",
    "La función ```np.loadtxt()``` permite leer un arreglo en un archivo  de texto.\n",
    "\n",
    "La sintaxis es:\n",
    "\n",
    "```\n",
    "np.loadtxt('<ruta>', delimiter='<caracter delimitador>')\n",
    "```\n",
    "\n",
    "https://numpy.org/doc/stable/reference/generated/numpy.loadtxt.html"
   ]
  },
  {
   "cell_type": "markdown",
   "metadata": {},
   "source": [
    "**Ejemplo:**"
   ]
  },
  {
   "cell_type": "code",
   "execution_count": null,
   "metadata": {},
   "outputs": [],
   "source": [
    "np.loadtxt(\"arreglo.csv\")"
   ]
  },
  {
   "cell_type": "markdown",
   "metadata": {},
   "source": [
    "### Extracción de arreglos a partir de un archivo binario con la función  ```np.load()```.\n",
    "\n",
    "La función ```np.load()``` permite leer arreglos a partir de un archivo con extensión ```.npy``` o ```npz```.\n",
    "\n",
    "La sintaxis es:\n",
    "\n",
    "```\n",
    "np.load('<ruta>')\n",
    "```\n",
    "\n",
    "https://numpy.org/doc/stable/reference/generated/numpy.load.html"
   ]
  },
  {
   "cell_type": "markdown",
   "metadata": {},
   "source": [
    "#### Extracción de archivos ```.npy```.\n",
    "\n",
    "En el caso de los archivos ```.npy```, la función ```np.load()``` regresará un arreglo de tipo ```np.ndarray```."
   ]
  },
  {
   "cell_type": "markdown",
   "metadata": {},
   "source": [
    "**Ejemplo:**"
   ]
  },
  {
   "cell_type": "markdown",
   "metadata": {},
   "source": [
    "* La siguiente celda extraerá los datos contenidos en el archivo ```arreglo.npy``` y los regresará al arreglo con nombre ```arreglo_nuevo```."
   ]
  },
  {
   "cell_type": "code",
   "execution_count": null,
   "metadata": {},
   "outputs": [],
   "source": [
    "arreglo_nuevo = np.load('arreglo.npy')"
   ]
  },
  {
   "cell_type": "code",
   "execution_count": null,
   "metadata": {},
   "outputs": [],
   "source": [
    "arreglo_nuevo"
   ]
  },
  {
   "cell_type": "markdown",
   "metadata": {},
   "source": [
    "#### Extracción de archivos ```.npz```.\n",
    "\n",
    "En el caso de los archivos ```.npz```, la función ```np.load()``` regresará un objeto del tipo ```numpy.lib.npyio.NpzFile```, el cual permite leer el archivo indicado como argumento y extraer su contenido de forma similar a como lo hace la función ```open()```. \n",
    "\n",
    "Los arreglos pueden ser accedidos ya sea mediante iteraciones con ```for``` o mediante una clave con la siguiente sintaxis:\n",
    "\n",
    "```\n",
    "<objeto>['arr_<n>']\n",
    "```\n",
    "\n",
    "Donde ```<n>``` es el índice del arreglo correspondiente a un número entero que va en orden ascendente a partir de ```0```. "
   ]
  },
  {
   "cell_type": "markdown",
   "metadata": {},
   "source": [
    "**Ejemplo:**"
   ]
  },
  {
   "cell_type": "markdown",
   "metadata": {},
   "source": [
    "* La siguiente celda extraerá los datos contenidos en el archivo ```arreglo.npz``` y los regresará al objeto con nombre ```arreglos_cargados```."
   ]
  },
  {
   "cell_type": "code",
   "execution_count": null,
   "metadata": {},
   "outputs": [],
   "source": [
    "arreglos_cargados = np.load('arreglos.npz')"
   ]
  },
  {
   "cell_type": "code",
   "execution_count": null,
   "metadata": {},
   "outputs": [],
   "source": [
    "type(arreglos_cargados)"
   ]
  },
  {
   "cell_type": "markdown",
   "metadata": {},
   "source": [
    "* A continuación se accederá al primer arreglo de ```arreglos_cargados``` cuya clave es ```['arr_0']```."
   ]
  },
  {
   "cell_type": "code",
   "execution_count": null,
   "metadata": {},
   "outputs": [],
   "source": [
    "arreglos_cargados['arr_0']"
   ]
  },
  {
   "cell_type": "markdown",
   "metadata": {},
   "source": [
    "* A continuación se despelgarán todos los arreglos contenidos en ```arreglos_cargados```."
   ]
  },
  {
   "cell_type": "code",
   "execution_count": null,
   "metadata": {
    "scrolled": true
   },
   "outputs": [],
   "source": [
    "with np.load('arreglos.npz') as datos:\n",
    "    for item in datos: \n",
    "        print(item, datos[item])"
   ]
  },
  {
   "cell_type": "markdown",
   "metadata": {},
   "source": [
    "* A continuación se accederá al archivo ```arreglos.npz``` mediante ```with``` y se extraerán los 2 arreglos que contiene guardándolos en ```arreglo_3``` y ```arreglo_4```."
   ]
  },
  {
   "cell_type": "code",
   "execution_count": null,
   "metadata": {},
   "outputs": [],
   "source": [
    "with np.load('arreglos.npz') as datos:\n",
    "    arreglo_3 = datos['arr_0']\n",
    "    arreglo_4 = datos['arr_1']"
   ]
  },
  {
   "cell_type": "code",
   "execution_count": null,
   "metadata": {},
   "outputs": [],
   "source": [
    "arreglo_3"
   ]
  },
  {
   "cell_type": "code",
   "execution_count": null,
   "metadata": {},
   "outputs": [],
   "source": [
    "arreglo_4"
   ]
  },
  {
   "cell_type": "markdown",
   "metadata": {},
   "source": [
    "<p style=\"text-align: center\"><a rel=\"license\" href=\"http://creativecommons.org/licenses/by/4.0/\"><img alt=\"Licencia Creative Commons\" style=\"border-width:0\" src=\"https://i.creativecommons.org/l/by/4.0/80x15.png\" /></a><br />Esta obra está bajo una <a rel=\"license\" href=\"http://creativecommons.org/licenses/by/4.0/\">Licencia Creative Commons Atribución 4.0 Internacional</a>.</p>\n",
    "<p style=\"text-align: center\">&copy; José Luis Chiquete Valdivieso. 2025.</p>"
   ]
  }
 ],
 "metadata": {
  "kernelspec": {
   "display_name": "py3",
   "language": "python",
   "name": "python3"
  },
  "language_info": {
   "codemirror_mode": {
    "name": "ipython",
    "version": 3
   },
   "file_extension": ".py",
   "mimetype": "text/x-python",
   "name": "python",
   "nbconvert_exporter": "python",
   "pygments_lexer": "ipython3",
   "version": "3.12.3"
  }
 },
 "nbformat": 4,
 "nbformat_minor": 2
}
