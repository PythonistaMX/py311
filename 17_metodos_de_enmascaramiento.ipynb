{
 "cells": [
  {
   "cell_type": "markdown",
   "metadata": {},
   "source": [
    "[![img/pythonista.png](img/pythonista.png)](https://www.pythonista.io)"
   ]
  },
  {
   "cell_type": "markdown",
   "metadata": {},
   "source": [
    "# Métodos de enmascaramiento."
   ]
  },
  {
   "cell_type": "code",
   "execution_count": 2,
   "metadata": {},
   "outputs": [],
   "source": [
    "import pandas as pd"
   ]
  },
  {
   "cell_type": "markdown",
   "metadata": {},
   "source": [
    "En este capítulo se explorarán los métodos que permiten sustituir los valores de un *dataframe* mediante otro *dataframe* con valores booleanos."
   ]
  },
  {
   "cell_type": "markdown",
   "metadata": {},
   "source": [
    "## *Dataframe* ilustrativo. "
   ]
  },
  {
   "cell_type": "markdown",
   "metadata": {},
   "source": [
    "El *dataframe* ```poblacion``` representa un censo poblacional de especies animales en diversas regiones geográficas.\n",
    "\n",
    "Las poblaciones de animales censadas representan los índices del *dataframe* y son:\n",
    "* ```'lobo'```.\n",
    "* ```'jaguar'```.\n",
    "* ```'coyote'```.\n",
    "* ```'halcón'```. \n",
    "* ```'lechuza'```.\n",
    "* ```'aguila'```.\n",
    "\n",
    "Las regiones geográficas representan la columnas del *dataframe* y son:\n",
    "\n",
    "* ```Norte_1```.\n",
    "* ```Norte_2```.\n",
    "* ```Sur_1```.\n",
    "* ```Sur_2```."
   ]
  },
  {
   "cell_type": "code",
   "execution_count": 6,
   "metadata": {},
   "outputs": [],
   "source": [
    "indice = ('lobo', 'jaguar', 'coyote', 'halcón', 'lechuza', 'aguila')\n",
    "poblacion = pd.DataFrame({'Norte_1':(25,\n",
    "                                                0,\n",
    "                                                45,\n",
    "                                                23,\n",
    "                                                67,\n",
    "                                                12),\n",
    "                                     'Norte_2':(31,\n",
    "                                                0,\n",
    "                                                23,\n",
    "                                                3,\n",
    "                                                34,\n",
    "                                                 2),\n",
    "                                     'Sur_1':(0,\n",
    "                                              4,\n",
    "                                              3,\n",
    "                                              1,\n",
    "                                              1,\n",
    "                                              2),\n",
    "                                     'Sur_2':(2,\n",
    "                                              0,\n",
    "                                              12,\n",
    "                                              23,\n",
    "                                              11,\n",
    "                                              2)},\n",
    "                                   index=indice)"
   ]
  },
  {
   "cell_type": "markdown",
   "metadata": {},
   "source": [
    "## Enmascaramiento.\n",
    "\n",
    "Se entiende por \"enmascaramiento\" la aplicación sobre un *datraframe* otro *dataframe* de tamaño idéntico, pero compuesto por valores booleanos (*dataframe* de máscara), con la finalidad de sustituir cada valor del *dataframe* original en función del valor booleano correspondiente.\n"
   ]
  },
  {
   "cell_type": "markdown",
   "metadata": {},
   "source": [
    "## El método ```mask()```.\n",
    "\n",
    "El método ```mask()``` permite sutituir por un valor predeterminado a aquellos elementos cuya contraparte en el objeto usado como máscara sea ```True```.\n",
    "\n",
    "```\n",
    "<objeto>.mask(<objeto máscara>, <valor>)\n",
    "```\n",
    "\n",
    "Donde:\n",
    "\n",
    "* ```<objeto>``` es una serie o un *dataframe*.\n",
    "* ```<objeto máscara>``` es una serie o un *dataframe* de dimensiones idénticas a ```<objeto>``` donde todos su elementos son de tipo ```bool```.\n",
    "* ```valor``` es el valor que sutituirá a aquellos elementos en ```<objeto>``` cuya contraparte en ```<objeto máscara>``` sea ```True```.\n"
   ]
  },
  {
   "cell_type": "markdown",
   "metadata": {},
   "source": [
    "**Ejemplo:**"
   ]
  },
  {
   "cell_type": "markdown",
   "metadata": {},
   "source": [
    "* Se uitlizará el *dataframe* ```poblacion``` definido previamente."
   ]
  },
  {
   "cell_type": "code",
   "execution_count": null,
   "metadata": {},
   "outputs": [],
   "source": [
    "poblacion"
   ]
  },
  {
   "cell_type": "markdown",
   "metadata": {},
   "source": [
    "* Se creará el *dataframe* ```poblacion_evaluada``` validando si cada elemento del ```poblacion``` es igual a ```0```."
   ]
  },
  {
   "cell_type": "code",
   "execution_count": null,
   "metadata": {},
   "outputs": [],
   "source": [
    "poblacion_evaluada = poblacion == 0"
   ]
  },
  {
   "cell_type": "code",
   "execution_count": null,
   "metadata": {},
   "outputs": [],
   "source": [
    "poblacion_evaluada"
   ]
  },
  {
   "cell_type": "markdown",
   "metadata": {},
   "source": [
    "* La siguiente celda sustiruirá con la cadena ```'extinto'``` a cada valor en el *dataframe* ```poblacion``` que corresponda a ```True``` en el *dataframe* ```poblacion_evaluada```."
   ]
  },
  {
   "cell_type": "code",
   "execution_count": null,
   "metadata": {},
   "outputs": [],
   "source": [
    "poblacion.mask(poblacion_evaluada, 'extinto')"
   ]
  },
  {
   "cell_type": "markdown",
   "metadata": {},
   "source": [
    "## El método ```where()```.\n",
    "\n",
    "\n",
    "El método ```where()``` permite sustituir por un valor predeterminado a aquellos elementos cuya contraparte en el objeto usado como máscara sea ```False```.\n",
    "\n",
    "```\n",
    "<objeto>.where(<objeto máscara>, <valor>)\n",
    "```\n",
    "\n",
    "Donde:\n",
    "\n",
    "* ```<objeto>``` es una serie o un *dataframe*.\n",
    "* ```<objeto máscara>``` es una serie o un *dataframe* de dimensiones idénticas a ```<objeto>``` donde todos su elementos son de tipo ```bool```.\n",
    "* ```valor``` es el valor que sutituirá a aquellos elementos en ```<objeto>``` cuya contraparte en ```<objeto máscara>``` sea ```False```.\n"
   ]
  },
  {
   "cell_type": "markdown",
   "metadata": {},
   "source": [
    "**Ejemplo:**"
   ]
  },
  {
   "cell_type": "markdown",
   "metadata": {},
   "source": [
    "* La siguiente celda sustituirá a cada valor del *dataframe* ```poblacion``` que al validar si es menor que ```10``` de por resultado ```False``` por la cadena ```'sin riesgo'```."
   ]
  },
  {
   "cell_type": "code",
   "execution_count": null,
   "metadata": {},
   "outputs": [],
   "source": [
    "poblacion.where(poblacion < 10, 'sin riesgo')"
   ]
  },
  {
   "cell_type": "markdown",
   "metadata": {},
   "source": [
    "## Ejemplo de combinación de ```mask()``` y ```where()```."
   ]
  },
  {
   "cell_type": "markdown",
   "metadata": {},
   "source": [
    "* La siguiente celda sustituirá por ```'sin riesgo'``` a aquellos elementos cuyo valor sea mayor o igual ```10``` y sustituirá por ```'amenazado'``` a aquellos elementos cuyo valor sea menor a ```2``` en el *dataframe* ```poblacion```."
   ]
  },
  {
   "cell_type": "code",
   "execution_count": null,
   "metadata": {},
   "outputs": [],
   "source": [
    "poblacion.where(poblacion < 10, 'sin riesgo').\\\n",
    "    mask(poblacion < 2, 'amenazados')"
   ]
  },
  {
   "cell_type": "markdown",
   "metadata": {},
   "source": [
    "* La siguiente celda usará los métodos ```filter()```, ```where()``` y ```mask()``` para aplicar el criterio del ejemplo previo, pero sólo a la columna ```'Sur-2```."
   ]
  },
  {
   "cell_type": "code",
   "execution_count": null,
   "metadata": {},
   "outputs": [],
   "source": [
    "poblacion.filter(items=['Sur_2']).\\\n",
    "           where(poblacion < 10, 'sin riesgo').\\\n",
    "           mask(poblacion < 2, 'amenazados')"
   ]
  },
  {
   "cell_type": "markdown",
   "metadata": {},
   "source": [
    "## El método ```query()```."
   ]
  },
  {
   "cell_type": "code",
   "execution_count": 4,
   "metadata": {
    "scrolled": true
   },
   "outputs": [
    {
     "data": {
      "text/html": [
       "<div>\n",
       "<style scoped>\n",
       "    .dataframe tbody tr th:only-of-type {\n",
       "        vertical-align: middle;\n",
       "    }\n",
       "\n",
       "    .dataframe tbody tr th {\n",
       "        vertical-align: top;\n",
       "    }\n",
       "\n",
       "    .dataframe thead th {\n",
       "        text-align: right;\n",
       "    }\n",
       "</style>\n",
       "<table border=\"1\" class=\"dataframe\">\n",
       "  <thead>\n",
       "    <tr style=\"text-align: right;\">\n",
       "      <th></th>\n",
       "      <th>Norte_1</th>\n",
       "      <th>Norte_2</th>\n",
       "      <th>Sur_1</th>\n",
       "      <th>Sur_2</th>\n",
       "    </tr>\n",
       "  </thead>\n",
       "  <tbody>\n",
       "    <tr>\n",
       "      <th>lobo</th>\n",
       "      <td>25</td>\n",
       "      <td>31</td>\n",
       "      <td>0</td>\n",
       "      <td>2</td>\n",
       "    </tr>\n",
       "    <tr>\n",
       "      <th>jaguar</th>\n",
       "      <td>0</td>\n",
       "      <td>0</td>\n",
       "      <td>4</td>\n",
       "      <td>0</td>\n",
       "    </tr>\n",
       "    <tr>\n",
       "      <th>coyote</th>\n",
       "      <td>45</td>\n",
       "      <td>23</td>\n",
       "      <td>3</td>\n",
       "      <td>12</td>\n",
       "    </tr>\n",
       "    <tr>\n",
       "      <th>halcón</th>\n",
       "      <td>23</td>\n",
       "      <td>3</td>\n",
       "      <td>1</td>\n",
       "      <td>23</td>\n",
       "    </tr>\n",
       "    <tr>\n",
       "      <th>lechuza</th>\n",
       "      <td>67</td>\n",
       "      <td>34</td>\n",
       "      <td>1</td>\n",
       "      <td>11</td>\n",
       "    </tr>\n",
       "    <tr>\n",
       "      <th>aguila</th>\n",
       "      <td>12</td>\n",
       "      <td>2</td>\n",
       "      <td>2</td>\n",
       "      <td>2</td>\n",
       "    </tr>\n",
       "  </tbody>\n",
       "</table>\n",
       "</div>"
      ],
      "text/plain": [
       "         Norte_1  Norte_2  Sur_1  Sur_2\n",
       "lobo          25       31      0      2\n",
       "jaguar         0        0      4      0\n",
       "coyote        45       23      3     12\n",
       "halcón        23        3      1     23\n",
       "lechuza       67       34      1     11\n",
       "aguila        12        2      2      2"
      ]
     },
     "execution_count": 4,
     "metadata": {},
     "output_type": "execute_result"
    }
   ],
   "source": [
    "poblacion"
   ]
  },
  {
   "cell_type": "code",
   "execution_count": 9,
   "metadata": {},
   "outputs": [
    {
     "data": {
      "text/plain": [
       "lobo       False\n",
       "jaguar      True\n",
       "coyote     False\n",
       "halcón     False\n",
       "lechuza    False\n",
       "aguila     False\n",
       "Name: Norte_1, dtype: bool"
      ]
     },
     "execution_count": 9,
     "metadata": {},
     "output_type": "execute_result"
    }
   ],
   "source": [
    "poblacion[\"Norte_1\"] == 0"
   ]
  },
  {
   "cell_type": "code",
   "execution_count": 10,
   "metadata": {},
   "outputs": [
    {
     "data": {
      "text/html": [
       "<div>\n",
       "<style scoped>\n",
       "    .dataframe tbody tr th:only-of-type {\n",
       "        vertical-align: middle;\n",
       "    }\n",
       "\n",
       "    .dataframe tbody tr th {\n",
       "        vertical-align: top;\n",
       "    }\n",
       "\n",
       "    .dataframe thead th {\n",
       "        text-align: right;\n",
       "    }\n",
       "</style>\n",
       "<table border=\"1\" class=\"dataframe\">\n",
       "  <thead>\n",
       "    <tr style=\"text-align: right;\">\n",
       "      <th></th>\n",
       "      <th>Norte_1</th>\n",
       "      <th>Norte_2</th>\n",
       "      <th>Sur_1</th>\n",
       "      <th>Sur_2</th>\n",
       "    </tr>\n",
       "  </thead>\n",
       "  <tbody>\n",
       "    <tr>\n",
       "      <th>jaguar</th>\n",
       "      <td>0</td>\n",
       "      <td>0</td>\n",
       "      <td>4</td>\n",
       "      <td>0</td>\n",
       "    </tr>\n",
       "  </tbody>\n",
       "</table>\n",
       "</div>"
      ],
      "text/plain": [
       "        Norte_1  Norte_2  Sur_1  Sur_2\n",
       "jaguar        0        0      4      0"
      ]
     },
     "execution_count": 10,
     "metadata": {},
     "output_type": "execute_result"
    }
   ],
   "source": [
    "poblacion[poblacion[\"Norte_1\"] == 0]"
   ]
  },
  {
   "cell_type": "code",
   "execution_count": 14,
   "metadata": {},
   "outputs": [
    {
     "data": {
      "text/html": [
       "<div>\n",
       "<style scoped>\n",
       "    .dataframe tbody tr th:only-of-type {\n",
       "        vertical-align: middle;\n",
       "    }\n",
       "\n",
       "    .dataframe tbody tr th {\n",
       "        vertical-align: top;\n",
       "    }\n",
       "\n",
       "    .dataframe thead th {\n",
       "        text-align: right;\n",
       "    }\n",
       "</style>\n",
       "<table border=\"1\" class=\"dataframe\">\n",
       "  <thead>\n",
       "    <tr style=\"text-align: right;\">\n",
       "      <th></th>\n",
       "      <th>Norte_1</th>\n",
       "      <th>Norte_2</th>\n",
       "      <th>Sur_1</th>\n",
       "      <th>Sur_2</th>\n",
       "    </tr>\n",
       "  </thead>\n",
       "  <tbody>\n",
       "    <tr>\n",
       "      <th>jaguar</th>\n",
       "      <td>0</td>\n",
       "      <td>0</td>\n",
       "      <td>4</td>\n",
       "      <td>0</td>\n",
       "    </tr>\n",
       "  </tbody>\n",
       "</table>\n",
       "</div>"
      ],
      "text/plain": [
       "        Norte_1  Norte_2  Sur_1  Sur_2\n",
       "jaguar        0        0      4      0"
      ]
     },
     "execution_count": 14,
     "metadata": {},
     "output_type": "execute_result"
    }
   ],
   "source": [
    "poblacion.query('Norte_1 == 0')"
   ]
  },
  {
   "cell_type": "markdown",
   "metadata": {},
   "source": [
    "<p style=\"text-align: center\"><a rel=\"license\" href=\"http://creativecommons.org/licenses/by/4.0/\"><img alt=\"Licencia Creative Commons\" style=\"border-width:0\" src=\"https://i.creativecommons.org/l/by/4.0/80x15.png\" /></a><br />Esta obra está bajo una <a rel=\"license\" href=\"http://creativecommons.org/licenses/by/4.0/\">Licencia Creative Commons Atribución 4.0 Internacional</a>.</p>\n",
    "<p style=\"text-align: center\">&copy; José Luis Chiquete Valdivieso. 2022.</p>"
   ]
  }
 ],
 "metadata": {
  "kernelspec": {
   "display_name": "Python 3 (ipykernel)",
   "language": "python",
   "name": "python3"
  },
  "language_info": {
   "codemirror_mode": {
    "name": "ipython",
    "version": 3
   },
   "file_extension": ".py",
   "mimetype": "text/x-python",
   "name": "python",
   "nbconvert_exporter": "python",
   "pygments_lexer": "ipython3",
   "version": "3.10.6"
  }
 },
 "nbformat": 4,
 "nbformat_minor": 2
}
