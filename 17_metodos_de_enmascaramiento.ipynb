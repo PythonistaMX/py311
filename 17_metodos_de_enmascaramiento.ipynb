{
 "cells": [
  {
   "cell_type": "markdown",
   "metadata": {},
   "source": [
    "[![img/pythonista.png](img/pythonista.png)](https://www.pythonista.io)"
   ]
  },
  {
   "cell_type": "markdown",
   "metadata": {},
   "source": [
    "# Métodos de enmascaramiento."
   ]
  },
  {
   "cell_type": "code",
   "execution_count": null,
   "metadata": {},
   "outputs": [],
   "source": [
    "import pandas as pd"
   ]
  },
  {
   "cell_type": "markdown",
   "metadata": {},
   "source": [
    "En este capítulo se explorarán los métodos que permiten sustituir los valores de un arreglo mediante otro arreglo con valores booleanos."
   ]
  },
  {
   "cell_type": "markdown",
   "metadata": {},
   "source": [
    "## Enmascaramiento.\n",
    "\n",
    "Se entiende por \"enmascaramiento\" la aplicación sobre un datraframe otro dataframe de tamaño idéntico, pero compuesto por valores booleanos (dataframe de máscara), con la finalidad de sustituir cada valor del dataframe original en función del valor booleano correspondiente.\n"
   ]
  },
  {
   "cell_type": "markdown",
   "metadata": {},
   "source": [
    "## El método ```mask()```.\n",
    "\n",
    "El método ```mask()``` permite sutituir por un valor predeterminado a aquellos elementos cuya contraparte en el objeto usado como máscara sea ```True```.\n",
    "\n",
    "```\n",
    "<objeto>.mask(<objeto máscara>, <valor>)\n",
    "```\n",
    "\n",
    "Donde:\n",
    "\n",
    "* ```<objeto>``` es una serie o un dataframe.\n",
    "* ```<objeto máscara>``` es una serie o un dataframe de dimensiones idénticas a ```<objeto>``` donde todos su elementos son de tipo ```bool```.\n",
    "* ```valor``` es el valor que sutituirá a aquellos elementos en ```<objeto>``` cuya contraparte en ```<objeto máscara>``` sea ```True```.\n"
   ]
  },
  {
   "cell_type": "markdown",
   "metadata": {},
   "source": [
    "**Ejemplo:**"
   ]
  },
  {
   "cell_type": "markdown",
   "metadata": {},
   "source": [
    "* Se creará el dataframe ```poblacion```."
   ]
  },
  {
   "cell_type": "code",
   "execution_count": null,
   "metadata": {},
   "outputs": [],
   "source": [
    "indice = ('lobo', 'jaguar', 'coyote', 'halcón', 'lechuza', 'aguila')\n",
    "poblacion = pd.DataFrame({'Norte-1':(25,\n",
    "                                                0,\n",
    "                                                45,\n",
    "                                                23,\n",
    "                                                67,\n",
    "                                                12),\n",
    "                                     'Norte-2':(31,\n",
    "                                                0,\n",
    "                                                23,\n",
    "                                                3,\n",
    "                                                34,\n",
    "                                                 2),\n",
    "                                     'Sureste-1':(0,\n",
    "                                                  4,\n",
    "                                                  3,\n",
    "                                                  1,\n",
    "                                                  1,\n",
    "                                                  2),\n",
    "                                     'Sureste-2':(2,\n",
    "                                                 0,\n",
    "                                                 12,\n",
    "                                                 23,\n",
    "                                                 11,\n",
    "                                                 2)},\n",
    "                                   index=indice)"
   ]
  },
  {
   "cell_type": "code",
   "execution_count": null,
   "metadata": {},
   "outputs": [],
   "source": [
    "poblacion"
   ]
  },
  {
   "cell_type": "markdown",
   "metadata": {},
   "source": [
    "* Se creará el dataframe ```poblacion_evaluada``` validando si cada elemento del ```poblacion``` es igual a cero."
   ]
  },
  {
   "cell_type": "code",
   "execution_count": null,
   "metadata": {},
   "outputs": [],
   "source": [
    "poblacion_evaluada = poblacion == 0"
   ]
  },
  {
   "cell_type": "code",
   "execution_count": null,
   "metadata": {},
   "outputs": [],
   "source": [
    "poblacion_evaluada"
   ]
  },
  {
   "cell_type": "markdown",
   "metadata": {},
   "source": [
    "* La siguiente celda sustiruirá a cada valor en el dataframe ```poblacion``` que corresponda a ```True``` en el dataframe ```poblacion_evaluada```."
   ]
  },
  {
   "cell_type": "code",
   "execution_count": null,
   "metadata": {},
   "outputs": [],
   "source": [
    "poblacion.mask(poblacion_evaluada, 'extinto')"
   ]
  },
  {
   "cell_type": "markdown",
   "metadata": {},
   "source": [
    "## El método ```where()```.\n",
    "\n",
    "\n",
    "El método ```where()``` permite sutituir por un valor predeterminado a aquellos elementos cuya contraparte en el objeto usado como máscara sea ```False```.\n",
    "\n",
    "```\n",
    "<objeto>.where(<objeto máscara>, <valor>)\n",
    "```\n",
    "\n",
    "Donde:\n",
    "\n",
    "* ```<objeto>``` es una serie o un dataframe.\n",
    "* ```<objeto máscara>``` es una serie o un dataframe de dimensiones idénticas a ```<objeto>``` donde todos su elementos son de tipo ```bool```.\n",
    "* ```valor``` es el valor que sutituirá a aquellos elementos en ```<objeto>``` cuya contraparte en ```<objeto máscara>``` sea ```Flase```.\n"
   ]
  },
  {
   "cell_type": "markdown",
   "metadata": {},
   "source": [
    "**Ejemplo:**"
   ]
  },
  {
   "cell_type": "markdown",
   "metadata": {},
   "source": [
    "* La siguiente celda sustituirá a cada valor del dataframe ```poblacion``` que al validar si es menor que ```10``` de por resultado ```False``` por la cadena ```'sin riesgo'```."
   ]
  },
  {
   "cell_type": "code",
   "execution_count": null,
   "metadata": {},
   "outputs": [],
   "source": [
    "poblacion.where(poblacion < 10, 'sin riesgo')"
   ]
  },
  {
   "cell_type": "markdown",
   "metadata": {},
   "source": [
    "## Ejemplo de combinación de ```mask()``` y where```()```."
   ]
  },
  {
   "cell_type": "markdown",
   "metadata": {},
   "source": [
    "* La siguiente celda sustituirá por ```'sin riesgo'``` a aquellos elementos cuyo valor sea mayor o igual ```10``` y sustituirá por ```'amenazado'``` a aquellos elementos cuyo valor sea menor a ```2```."
   ]
  },
  {
   "cell_type": "code",
   "execution_count": null,
   "metadata": {},
   "outputs": [],
   "source": [
    "poblacion.where(poblacion < 10, 'sin riesgo').mask(poblacion < 2, 'amenazados')"
   ]
  },
  {
   "cell_type": "markdown",
   "metadata": {},
   "source": [
    "* La siguiente celda usará los métodos ```filter()```, ```where()``` y ```mask()``` para aplicar el criterio del ejemplo previo, pero sólo a la columna ```'Sureste-2```."
   ]
  },
  {
   "cell_type": "code",
   "execution_count": null,
   "metadata": {},
   "outputs": [],
   "source": [
    "poblacion.filter(items=['Sureste-2']).where(poblacion < 10, 'sin riesgo').mask(poblacion < 2, 'amenazados')"
   ]
  },
  {
   "cell_type": "code",
   "execution_count": null,
   "metadata": {},
   "outputs": [],
   "source": [
    "poblacion"
   ]
  },
  {
   "cell_type": "markdown",
   "metadata": {},
   "source": [
    "<p style=\"text-align: center\"><a rel=\"license\" href=\"http://creativecommons.org/licenses/by/4.0/\"><img alt=\"Licencia Creative Commons\" style=\"border-width:0\" src=\"https://i.creativecommons.org/l/by/4.0/80x15.png\" /></a><br />Esta obra está bajo una <a rel=\"license\" href=\"http://creativecommons.org/licenses/by/4.0/\">Licencia Creative Commons Atribución 4.0 Internacional</a>.</p>\n",
    "<p style=\"text-align: center\">&copy; José Luis Chiquete Valdivieso. 2021.</p>"
   ]
  }
 ],
 "metadata": {
  "kernelspec": {
   "display_name": "Python 3 (ipykernel)",
   "language": "python",
   "name": "python3"
  },
  "language_info": {
   "codemirror_mode": {
    "name": "ipython",
    "version": 3
   },
   "file_extension": ".py",
   "mimetype": "text/x-python",
   "name": "python",
   "nbconvert_exporter": "python",
   "pygments_lexer": "ipython3",
   "version": "3.9.7"
  }
 },
 "nbformat": 4,
 "nbformat_minor": 2
}
