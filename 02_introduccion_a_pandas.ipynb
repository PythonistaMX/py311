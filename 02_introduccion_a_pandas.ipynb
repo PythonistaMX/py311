{
 "cells": [
  {
   "cell_type": "markdown",
   "metadata": {},
   "source": [
    "[![imagenes/pythonista.png](imagenes/pythonista.png)](https://pythonista.io)"
   ]
  },
  {
   "cell_type": "markdown",
   "metadata": {},
   "source": [
    "# Introducción a *Pandas*."
   ]
  },
  {
   "cell_type": "markdown",
   "metadata": {},
   "source": [
    "El proyecto [*Pandas*](https://pandas.pydata.org/) es una herramienta especializada en la gestión de \"series\" y \"dataframes\", utilizándolos como materia prima para la realización de operaciones de manipulación, transformación y análisis de datos.\n",
    "\n",
    "\n",
    "*Pandas* cuenta con las siguientes funcionalidades.\n",
    "\n",
    "\n",
    "* Hace uso intensivo de series y dataframes.\n",
    "* Realiza operaciones de lectura y escritura de datos entre estructuras en memoria y diversos formatos de archivos y bases de datos.\n",
    "* Alineación de datos y manejo de datos faltantes.\n",
    "* Modificación de conjuntos de datos.\n",
    "* Manejo de series de tiempo.\n",
    "\n",
    "Por convención, el paquete ```pandas``` es importado con el nombre de ```pd```. A lo largo de este curso, se utilizará dicha convención."
   ]
  },
  {
   "cell_type": "code",
   "execution_count": null,
   "metadata": {},
   "outputs": [],
   "source": [
    "!pip install pandas"
   ]
  },
  {
   "cell_type": "code",
   "execution_count": null,
   "metadata": {
    "scrolled": true
   },
   "outputs": [],
   "source": [
    "import pandas as pd"
   ]
  },
  {
   "cell_type": "markdown",
   "metadata": {},
   "source": [
    "## Los *dataframes*.\n",
    "\n",
    "Los dataframes representan el componente primordial tanto de *Pandas* como de *R*.\n",
    "\n",
    "Los dataframes de *Pandas* se basan en los arreglos de *Numpy*, conformando arreglos de datos de 2 dimensiones compuesto por columnas y renglones."
   ]
  },
  {
   "cell_type": "markdown",
   "metadata": {},
   "source": [
    "### La clase ```pd.DataFrame```.\n",
    "\n",
    "La clase ```pd.DataFrame``` se utiliza para crear los dataframes de *Pandas*. \n",
    "\n",
    "```\n",
    "pd.DataFrame(data=<objeto>, index=<índices>, columns=<indices de columnas>)\n",
    "```\n",
    "\n",
    "Donde:\n",
    "\n",
    "* ```<objeto>``` es un objeto con las siguientes características:\n",
    "  * Un objeto de tipo ```dict```.\n",
    "  * Un objeto de tipo ```tuple``` que contiene  a otros objetos tipo ```tuple```.\n",
    "  * Un arreglo de tipo ```numpy.ndarray``` de 2 dimensiones.\n",
    "  * Otra instancia de  ```pd.DataFrame```.\n",
    "* ```<índices>``` es un objeto iterable compuesto por cadenas de caracteres que serán usadas como identificadores para cada renglón del dataframe.\n",
    "* ```<columnas>``` ees un objeto iterable compuesto por cadenas de caracteres que serán usadas como identificadores para cada columna del dataframe.  \n",
    "\n",
    "**Nota:** ```<objeto>``` puede ser ingresado como argumento del parámetro ```data``` o simplemente ingresándolo como primer argumento. \n",
    "\n",
    "La documentación de ```pd.DataFrame``` puede ser consultada en:\n",
    "\n",
    "https://pandas.pydata.org/pandas-docs/stable/reference/api/pandas.DataFrame.html"
   ]
  },
  {
   "cell_type": "markdown",
   "metadata": {},
   "source": [
    "**Ejemplo:**"
   ]
  },
  {
   "cell_type": "markdown",
   "metadata": {},
   "source": [
    "* La siguiente celda regresará un dataframe a partir de una colección de objetos tipo ```tuple```."
   ]
  },
  {
   "cell_type": "code",
   "execution_count": null,
   "metadata": {},
   "outputs": [],
   "source": [
    "pd.DataFrame(data=[(0, 1, 2), (1, 2, 3), (2, 3, 4), (3, 4, 5)])"
   ]
  },
  {
   "cell_type": "markdown",
   "metadata": {},
   "source": [
    "* La siguiente creará al objeto de tipo ```dict``` al que se le asignará el nombre ```diccionarios```."
   ]
  },
  {
   "cell_type": "code",
   "execution_count": null,
   "metadata": {},
   "outputs": [],
   "source": [
    "diccionarios = {'py101':[10, 5, 33 ,45, 25, 22], \n",
    "                'py111':[0, 15, 21 , 30, 31, 11], \n",
    "                'py121':[15, 5, 1 ,10, 42, 21], \n",
    "                'py301':[20, 35, 3 ,15, 0, 0], }"
   ]
  },
  {
   "cell_type": "markdown",
   "metadata": {},
   "source": [
    "* La siguiente celda rgresará un dataframe  a partir del objeto ```diccionarios```.\n",
    "* En este caso, la clave de cada elemento de ```diccionario``` será el identificador de cada columna del dataframe y los elementos del objeto tipo ```list``` correspondientes a cada clave serán los elementos de dicha columna."
   ]
  },
  {
   "cell_type": "code",
   "execution_count": null,
   "metadata": {
    "scrolled": true
   },
   "outputs": [],
   "source": [
    "pd.DataFrame(data=diccionarios)"
   ]
  },
  {
   "cell_type": "markdown",
   "metadata": {},
   "source": [
    "* Se creará un dataframe a partir de un objeto creado con ```numpy.arange()```."
   ]
  },
  {
   "cell_type": "code",
   "execution_count": null,
   "metadata": {},
   "outputs": [],
   "source": [
    "import numpy as np"
   ]
  },
  {
   "cell_type": "markdown",
   "metadata": {},
   "source": [
    "* La siguiente celda creará un arreglo de *Numpy* de forma ```(3, 3)``` con nombre ```matriz```."
   ]
  },
  {
   "cell_type": "code",
   "execution_count": null,
   "metadata": {},
   "outputs": [],
   "source": [
    "matriz = np.arange(9).reshape(3, 3)"
   ]
  },
  {
   "cell_type": "code",
   "execution_count": null,
   "metadata": {},
   "outputs": [],
   "source": [
    "matriz"
   ]
  },
  {
   "cell_type": "markdown",
   "metadata": {},
   "source": [
    "* La siguiente celda regresará un dataframe a partir de el arreglo ```matriz```."
   ]
  },
  {
   "cell_type": "code",
   "execution_count": null,
   "metadata": {
    "scrolled": true
   },
   "outputs": [],
   "source": [
    "pd.DataFrame(matriz)"
   ]
  },
  {
   "cell_type": "markdown",
   "metadata": {},
   "source": [
    "## Índices en un dataframe.\n",
    "\n",
    "Los dataframes de *Pandas* define índices para cada renglon (eje ```0```) y a cada columna (eje ```1```) de un dataframe.\n",
    "\n",
    "Los índices pueden ser numéros enteros positivos que inician en ```0``` se incrementan de uno en uno, pero también se les puede asignar un identificador de tipo ```str```.\n",
    "\n",
    "* *Pandas* identifica a los índices de los renglones simplemente como \"índices\".\n",
    "* Tanto los índices (de los renglones) como los índices de las columnas son instancias de la clase ```pd.Index```."
   ]
  },
  {
   "cell_type": "markdown",
   "metadata": {},
   "source": [
    "### Definición de identificadores de índices al crear un dataframe.\n",
    "\n",
    "Al instanciar un objeto a partir de ```pd.DataFrame``` es posible asignarle los identificadores de los índices por medio de los siguientes parámetros:\n",
    "\n",
    "* ```index```, al que se le asignará un objeto iterable que contiene a su vez objetos ```str``` que corresponderán al identificador cada índice (de renglón) del dataframe.\n",
    "* ```columns```, al que se le asignará un objeto iterable  que contiene a su vez objetos ```str``` que corresponderán al identificador de cada índice de columna del dataframe."
   ]
  },
  {
   "cell_type": "markdown",
   "metadata": {},
   "source": [
    "**Ejemplos:**"
   ]
  },
  {
   "cell_type": "markdown",
   "metadata": {},
   "source": [
    "* La siguiente celda definirá un objeto de tipo ```tuple``` con nombre ```indice```."
   ]
  },
  {
   "cell_type": "code",
   "execution_count": null,
   "metadata": {},
   "outputs": [],
   "source": [
    "indice = ('enero', 'febrero', 'marzo', 'abril', 'mayo', 'junio')"
   ]
  },
  {
   "cell_type": "markdown",
   "metadata": {},
   "source": [
    "* La siguiente celda regresará un dataframe creado a partir del objeto ```diccionarios``` definido previamente y asignando ```índice``` al parámetro ```index```."
   ]
  },
  {
   "cell_type": "code",
   "execution_count": null,
   "metadata": {
    "scrolled": true
   },
   "outputs": [],
   "source": [
    "pd.DataFrame(data=diccionarios, index=indice)"
   ]
  },
  {
   "cell_type": "markdown",
   "metadata": {},
   "source": [
    "* La siguiente celda regresará un dataframe a partir de:\n",
    "    * Los datos del objeto ```matriz```, definido previamente.\n",
    "    * El objeto ```['uno','dos','tres']``` que será asignado como argumento para el parámetro ```index```.\n",
    "   * El objeto ```['a', 'b', 'c']``` que será asignado como argumento para el parámetro ```columns```."
   ]
  },
  {
   "cell_type": "code",
   "execution_count": null,
   "metadata": {},
   "outputs": [],
   "source": [
    "pd.DataFrame(matriz, index=['uno','dos','tres'], columns=['a', 'b', 'c'])"
   ]
  },
  {
   "cell_type": "markdown",
   "metadata": {},
   "source": [
    "## Selección básica de elementos en un dataframe."
   ]
  },
  {
   "cell_type": "markdown",
   "metadata": {},
   "source": [
    "### Selección de columnas mediante identificadores.\n",
    "\n",
    "Los dataframes permiten extraer los datos de una columna usando el identificador de la columna de forma similar a una clave de un objeto de tipo ```dict```.\n",
    "\n",
    "```\n",
    "<df>[<col>]\n",
    "```\n",
    "\n",
    "Donde:\n",
    "\n",
    "* ```<df>``` es un dataframe de *Pandas*.\n",
    "* ```<col>``` es un objeto de tipo ```str``` correspondiente al identificador de una columna del dataframe."
   ]
  },
  {
   "cell_type": "markdown",
   "metadata": {},
   "source": [
    "**Ejemplo:**"
   ]
  },
  {
   "cell_type": "markdown",
   "metadata": {},
   "source": [
    "* Se creará el dataframe ``cursos`` a partir de un objeto de tipo ```dict```, por lo que las claves del objeto ```dict``` corresponderán los identificadores de las columnas del dataframe."
   ]
  },
  {
   "cell_type": "code",
   "execution_count": null,
   "metadata": {},
   "outputs": [],
   "source": [
    "cursos = pd.DataFrame({'py101':[10, 5, 33 ,45, 25, 22], \n",
    "         'py111':[0, 15, 21 , 30, 31, 11], \n",
    "         'py121':[15, 5, 1 ,10, 42, 21], \n",
    "         'py301':[20, 35, 3 ,15, 0, 0]},\n",
    "         index=('enero', 'febrero', 'marzo', 'abril', 'mayo', 'junio'))"
   ]
  },
  {
   "cell_type": "code",
   "execution_count": null,
   "metadata": {},
   "outputs": [],
   "source": [
    "cursos"
   ]
  },
  {
   "cell_type": "markdown",
   "metadata": {},
   "source": [
    "* La siguiente celda regresará la columna con identificador ```'py121'```."
   ]
  },
  {
   "cell_type": "code",
   "execution_count": null,
   "metadata": {},
   "outputs": [],
   "source": [
    "cursos['py121']"
   ]
  },
  {
   "cell_type": "markdown",
   "metadata": {},
   "source": [
    "* Las columnas de un dataframe de *Pandas* son objetos instaciados de ```pd.Series``` o simplemente \"series\"."
   ]
  },
  {
   "cell_type": "code",
   "execution_count": null,
   "metadata": {},
   "outputs": [],
   "source": [
    "type(cursos['py121'])"
   ]
  },
  {
   "cell_type": "markdown",
   "metadata": {},
   "source": [
    "### Selección de columnas mediante índices numéricos.\n",
    "\n",
    "Si las columnas de un dataframe no tiene identifcadores asignados, es posible seleccionar una de ellas mediante su índice numérico.\n",
    "\n",
    "```\n",
    "<df>[<ncol>]\n",
    "```\n",
    "Donde:\n",
    "\n",
    "* ```<df>``` es un dataframe de *Pandas*.\n",
    "* ```<ncol>``` es un objeto de tipo ```int``` correspondiente a un índice del dataframe.\n",
    "\n",
    "\n",
    "**Nota:** En caso de que las columnas tengan identificadores asignados, se desencadenará un error de tipo ```KeyError``` si se usa in índice numérico."
   ]
  },
  {
   "cell_type": "markdown",
   "metadata": {},
   "source": [
    "**Ejemplos:**"
   ]
  },
  {
   "cell_type": "markdown",
   "metadata": {},
   "source": [
    "* El dataframe ```datos``` contiene columnas con identificadores numéricos."
   ]
  },
  {
   "cell_type": "code",
   "execution_count": null,
   "metadata": {},
   "outputs": [],
   "source": [
    "datos = pd.DataFrame([[1, 2, 3, 4],[5, 6, 7, 8], [9, 10, 11, 12]])"
   ]
  },
  {
   "cell_type": "code",
   "execution_count": null,
   "metadata": {},
   "outputs": [],
   "source": [
    "datos"
   ]
  },
  {
   "cell_type": "markdown",
   "metadata": {},
   "source": [
    "* La siguiente celda regresará la columna con índice ```2``` del dataframe ```datos```."
   ]
  },
  {
   "cell_type": "code",
   "execution_count": null,
   "metadata": {},
   "outputs": [],
   "source": [
    "datos[2]"
   ]
  },
  {
   "cell_type": "markdown",
   "metadata": {},
   "source": [
    "* El dataframe ```cursos``` define identificadores de columnas. "
   ]
  },
  {
   "cell_type": "code",
   "execution_count": null,
   "metadata": {},
   "outputs": [],
   "source": [
    "cursos = pd.DataFrame({'py101':[10, 5, 33 ,45, 25, 22], \n",
    "         'py111':[0, 15, 21 , 30, 31, 11], \n",
    "         'py121':[15, 5, 1 ,10, 42, 21], \n",
    "         'py301':[20, 35, 3 ,15, 0, 0]})"
   ]
  },
  {
   "cell_type": "code",
   "execution_count": null,
   "metadata": {},
   "outputs": [],
   "source": [
    "cursos"
   ]
  },
  {
   "cell_type": "markdown",
   "metadata": {},
   "source": [
    "* En este caso, el índice numérico no será aceptado y se generará un ```KeyError```."
   ]
  },
  {
   "cell_type": "code",
   "execution_count": null,
   "metadata": {},
   "outputs": [],
   "source": [
    "cursos[3]"
   ]
  },
  {
   "cell_type": "markdown",
   "metadata": {},
   "source": [
    "### Selección de índices mediante rangos numéricos.\n",
    "\n",
    "Para seleccionar los renglones de un dataframe se usa una sintaxis de rangos por medio de dos puntos ```:```.\n",
    "\n",
    "```\n",
    "<df>[<inicio>:<fin>:<ipasos>]\n",
    "```\n",
    "\n",
    "Donde:\n",
    "\n",
    "* ```<df>``` es un dataframe de *Pandas*.\n",
    "* ```<inicio>``` es un objeto ```int``` correspondiente al índice a partir del cual se iniciará el rango.\n",
    "* ```<fin>``` es un objeto ```int``` correspondiente al índice del elemento previo al final del rango. El rango nunca llegará a este índice.\n",
    "* ```<pasos>``` corresponde al tamaño de incrementos/decrementos que se aplicará al rango.\n",
    "\n",
    "En este caso, se pueden usar ya sea valores enteros o los identificadores de los índices para definir el rango."
   ]
  },
  {
   "cell_type": "markdown",
   "metadata": {},
   "source": [
    "**Ejemplos:** "
   ]
  },
  {
   "cell_type": "markdown",
   "metadata": {},
   "source": [
    "* El dataframe ```cursos``` define identificadores columnas e índices que no son numéricos. "
   ]
  },
  {
   "cell_type": "code",
   "execution_count": null,
   "metadata": {},
   "outputs": [],
   "source": [
    "cursos = pd.DataFrame({'py101':[10, 5, 33 ,45, 25, 22], \n",
    "                       'py111':[0, 15, 21 , 30, 31, 11], \n",
    "                       'py121':[15, 5, 1 ,10, 42, 21], \n",
    "                       'py301':[20, 35, 3 ,15, 0, 0]},  \n",
    "                      index=('enero', 'febrero', 'marzo', 'abril', 'mayo', 'junio'))"
   ]
  },
  {
   "cell_type": "markdown",
   "metadata": {},
   "source": [
    "* La siguiente celda regresará el renglón correspondiente al índice ```'enero'``` usando la sintaxis ```cursos[:1]```."
   ]
  },
  {
   "cell_type": "code",
   "execution_count": null,
   "metadata": {},
   "outputs": [],
   "source": [
    "cursos[:1]"
   ]
  },
  {
   "cell_type": "markdown",
   "metadata": {},
   "source": [
    "* El objeto resultante es un dataframe de *Pandas*."
   ]
  },
  {
   "cell_type": "code",
   "execution_count": null,
   "metadata": {},
   "outputs": [],
   "source": [
    "type(cursos[:1])"
   ]
  },
  {
   "cell_type": "markdown",
   "metadata": {},
   "source": [
    "* La siguiente celda regresará los renglones del objeto ```cursos``` correspondientes a los índices ```'enero'```, ```'marzo'``` y ```'mayo'``` usando la sintaxis ```cursos[::2]```."
   ]
  },
  {
   "cell_type": "code",
   "execution_count": null,
   "metadata": {},
   "outputs": [],
   "source": [
    "cursos[::2]"
   ]
  },
  {
   "cell_type": "markdown",
   "metadata": {},
   "source": [
    "### Selección de índices mediante rangos de identificadores.\n",
    "\n",
    "Para seleccionar los renglones de un dataframe mediante un rango de identificadores,  se usa una sintaxis de rangos por medio de dos puntos ```:```.\n",
    "\n",
    "```\n",
    "<df>[<id_inicio>:<id_fin>]\n",
    "```\n",
    "\n",
    "Donde:\n",
    "* ```<id_inicio>``` es un objeto ```str``` correspondiente al identificador de renglón a partir del cual se iniciará el rango.\n",
    "* ```<id_fin>``` es un objeto ```str``` correspondiente al identificador de renglón a partir del cual finalizará el rango.\n",
    "\n",
    "\n",
    "En este caso, se pueden usar ya sea valores enteros o los identificadores de los índices para definir el rango."
   ]
  },
  {
   "cell_type": "markdown",
   "metadata": {},
   "source": [
    "**Ejemplos:**"
   ]
  },
  {
   "cell_type": "markdown",
   "metadata": {},
   "source": [
    "* La siguiente celda regresará los renglones del objeto ```cursos``` correspondientes a los índices ```'marzo'```, ```'abril'``` y ```'mayo'``` usando la sintaxis ```cursos['marzo':'mayo']```."
   ]
  },
  {
   "cell_type": "code",
   "execution_count": null,
   "metadata": {},
   "outputs": [],
   "source": [
    "cursos['marzo':'mayo']"
   ]
  },
  {
   "cell_type": "markdown",
   "metadata": {},
   "source": [
    "* La siguiente celda no corresponde a un rango, por lo que el identificados se aplicará a las columnas y desencadenará un error ```KeyError```."
   ]
  },
  {
   "cell_type": "code",
   "execution_count": null,
   "metadata": {},
   "outputs": [],
   "source": [
    "cursos['enero']"
   ]
  },
  {
   "cell_type": "markdown",
   "metadata": {},
   "source": [
    "* El siguiente rango hace referencia a identificadores de columna, por lo que se desencadenará un error ```KeyError```."
   ]
  },
  {
   "cell_type": "code",
   "execution_count": null,
   "metadata": {},
   "outputs": [],
   "source": [
    "cursos['py101': 'py121']"
   ]
  },
  {
   "cell_type": "markdown",
   "metadata": {},
   "source": [
    "### Selección de un elemento dentro de un dataframe.\n",
    "\n",
    "Para acceder a un elemento de un dataframe se utiliza la siguiente sintaxis:\n",
    "\n",
    "```\n",
    "<df>[<col>][<índice>]\n",
    "```"
   ]
  },
  {
   "cell_type": "markdown",
   "metadata": {},
   "source": [
    "**Ejemplo:**"
   ]
  },
  {
   "cell_type": "markdown",
   "metadata": {},
   "source": [
    "* A partir del dataframe ```cursos``` se pueden seleccionar los siguientes elementos:"
   ]
  },
  {
   "cell_type": "code",
   "execution_count": null,
   "metadata": {},
   "outputs": [],
   "source": [
    "cursos = pd.DataFrame({'py101':[10, 5, 33 ,45, 25, 22], \n",
    "                       'py111':[0, 15, 21 , 30, 31, 11], \n",
    "                       'py121':[15, 5, 1 ,10, 42, 21], \n",
    "                       'py301':[20, 35, 3 ,15, 0, 0]},  \n",
    "                      index=('enero', 'febrero', 'marzo', 'abril', 'mayo', 'junio'))"
   ]
  },
  {
   "cell_type": "code",
   "execution_count": null,
   "metadata": {},
   "outputs": [],
   "source": [
    "cursos"
   ]
  },
  {
   "cell_type": "markdown",
   "metadata": {},
   "source": [
    "* Las siguientes celdas obtendrán el contenido de la celda correspondiente a la columna con identificador ```py101``` e índice con identificador ```marzo```."
   ]
  },
  {
   "cell_type": "code",
   "execution_count": null,
   "metadata": {},
   "outputs": [],
   "source": [
    "cursos['py101'][2]"
   ]
  },
  {
   "cell_type": "code",
   "execution_count": null,
   "metadata": {},
   "outputs": [],
   "source": [
    "cursos['py101']['marzo']"
   ]
  },
  {
   "cell_type": "markdown",
   "metadata": {},
   "source": [
    "* Las siguientes celdas obtendrán un dataframe el contenido de las celdas correspondiente a la columna con identificador ```py111``` y las celdas con los índices ```abril``` y ```mayo```."
   ]
  },
  {
   "cell_type": "code",
   "execution_count": null,
   "metadata": {},
   "outputs": [],
   "source": [
    "cursos['py111'][3:5]"
   ]
  },
  {
   "cell_type": "markdown",
   "metadata": {},
   "source": [
    "* Las columnas no aceptan rangos y la siguiente celda desencadenará un error ```ValueError```."
   ]
  },
  {
   "cell_type": "code",
   "execution_count": null,
   "metadata": {},
   "outputs": [],
   "source": [
    "cursos['py101':'py111'][3:5]"
   ]
  },
  {
   "cell_type": "markdown",
   "metadata": {},
   "source": [
    "### La clase ```pandas.Series```.\n",
    "\n",
    "Las series son objetos instanciado de la clase ```pandas.Series``` y son de una sola dimensión y se pueden definir de cualquera de las siguientes formas.\n",
    "\n",
    "```\n",
    "pd.Series(data=<datos>, name=\"nombre\">)\n",
    "```\n",
    "\n",
    "```\n",
    "pd.Series(<datos>, name=\"nombre\">)\n",
    "```\n",
    "\n",
    "Donde:\n",
    "\n",
    "* ```<datos>``` puede ser un objeto de tipo:\n",
    "    * ```tuple```\n",
    "    * ```list```\n",
    "    * ```dict``` \n",
    "    * ```numpy.ndarray```\n",
    "* ```<nombre>``` es un objetop de tipo ```str```.\n",
    "\n",
    "\n",
    "La documentación de las series de pandas puede ser consultada en:\n",
    "\n",
    "https://pandas.pydata.org/pandas-docs/stable/reference/api/pandas.Series.html"
   ]
  },
  {
   "cell_type": "markdown",
   "metadata": {},
   "source": [
    "**Ejemplo:**"
   ]
  },
  {
   "cell_type": "markdown",
   "metadata": {},
   "source": [
    "* La siguiente celda creará una serie."
   ]
  },
  {
   "cell_type": "code",
   "execution_count": null,
   "metadata": {},
   "outputs": [],
   "source": [
    "pd.Series([12, 4, 32, 41, 33, 28], name='py201')"
   ]
  },
  {
   "cell_type": "markdown",
   "metadata": {},
   "source": [
    "### Índices en las series."
   ]
  },
  {
   "cell_type": "markdown",
   "metadata": {},
   "source": [
    "Al igual que con los dataframes, las series soportan el atributo ```index```."
   ]
  },
  {
   "cell_type": "markdown",
   "metadata": {},
   "source": [
    "**Ejemplo:**"
   ]
  },
  {
   "cell_type": "code",
   "execution_count": null,
   "metadata": {},
   "outputs": [],
   "source": [
    "pd.Series([12, 4, 32, 41, 33, 28], index=indice, name='py201')"
   ]
  },
  {
   "cell_type": "markdown",
   "metadata": {},
   "source": [
    "## Conversión de series a dataframes. \n",
    "\n",
    "El método ```to_frame()```de las series permite transformar una serie en un dataframe de una columna.\n",
    "\n",
    "```\n",
    "<serie>.to_frame()\n",
    "```"
   ]
  },
  {
   "cell_type": "markdown",
   "metadata": {},
   "source": [
    "**Ejemplo:**"
   ]
  },
  {
   "cell_type": "code",
   "execution_count": null,
   "metadata": {},
   "outputs": [],
   "source": [
    "pd.Series([12, 4, 32, 41, 33, 28], index=indice, name='py201').to_frame()"
   ]
  },
  {
   "cell_type": "markdown",
   "metadata": {},
   "source": [
    "<p style=\"text-align: center\"><a rel=\"license\" href=\"http://creativecommons.org/licenses/by/4.0/\"><img alt=\"Licencia Creative Commons\" style=\"border-width:0\" src=\"https://i.creativecommons.org/l/by/4.0/80x15.png\" /></a><br />Esta obra está bajo una <a rel=\"license\" href=\"http://creativecommons.org/licenses/by/4.0/\">Licencia Creative Commons Atribución 4.0 Internacional</a>.</p>\n",
    "<p style=\"text-align: center\">&copy; José Luis Chiquete Valdivieso. 2020.</p>"
   ]
  }
 ],
 "metadata": {
  "kernelspec": {
   "display_name": "Python 3",
   "language": "python",
   "name": "python3"
  },
  "language_info": {
   "codemirror_mode": {
    "name": "ipython",
    "version": 3
   },
   "file_extension": ".py",
   "mimetype": "text/x-python",
   "name": "python",
   "nbconvert_exporter": "python",
   "pygments_lexer": "ipython3",
   "version": "3.7.3"
  }
 },
 "nbformat": 4,
 "nbformat_minor": 2
}
