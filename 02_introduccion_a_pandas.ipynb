{
 "cells": [
  {
   "cell_type": "markdown",
   "metadata": {},
   "source": [
    "[![imagenes/pythonista.png](imagenes/pythonista.png)](https://pythonista.io)"
   ]
  },
  {
   "cell_type": "markdown",
   "metadata": {},
   "source": [
    "# Introducción a *Pandas*."
   ]
  },
  {
   "cell_type": "markdown",
   "metadata": {},
   "source": [
    "El proyecto [*Pandas*](https://pandas.pydata.org/) es una herramienta especializada en la gestión de \"series\" y \"dataframes\", utilizándolos como materia prima para la realización de operaciones de análisis de datos.\n",
    "\n",
    "\n",
    "*Pandas* cuenta con las siguientes funcionalidades.\n",
    "\n",
    "\n",
    "* Los dataframes.\n",
    "* Lectura y escritura de datos entre estructuras en memoria y diversos formatos de archivos y bases de datos.\n",
    "* Alineación de datos y manejo de datos faltantes.\n",
    "* Modificación de conjuntos de datos.\n",
    "* Manejo de series de tiempo.\n",
    "\n",
    "Por convención, el paquete ```pandas``` es importado con el nombre de ```pd```. A lo largo de este curso, se utilizará dicha convención."
   ]
  },
  {
   "cell_type": "code",
   "execution_count": null,
   "metadata": {},
   "outputs": [],
   "source": [
    "!pip install pandas"
   ]
  },
  {
   "cell_type": "code",
   "execution_count": null,
   "metadata": {
    "scrolled": true
   },
   "outputs": [],
   "source": [
    "import pandas as pd"
   ]
  },
  {
   "cell_type": "markdown",
   "metadata": {},
   "source": [
    "## Los *dataframes*.\n",
    "\n",
    "Los dataframes representan el componente primordial tanto de *Pandas* como de *R*.\n",
    "\n",
    "Los dataframes de *Pandas* se basan en los arreglos de *Numpy*, conformando arreglos de datos de 2 dimensones compuesto por columnas e índices.\n",
    "\n",
    "* Cada dato de un dataframe puede ser indexado usando su columna y su índice. \n",
    "* Si no se definen, las columnas y los índices serán identificados con números enteros que se irán incrementando en una unidad a partir del ```0```. "
   ]
  },
  {
   "cell_type": "markdown",
   "metadata": {},
   "source": [
    "### La clase ```pd.DataFrame```.\n",
    "\n",
    "La clase ```pd.DataFrame``` se utiliza para crear los dataframes de *Pandas*. \n",
    "\n",
    "```\n",
    "pd.DataFrame(data=<objeto con datos>, index=<índices>, columns=<indices de columnas>)\n",
    "```\n",
    "\n",
    "Donde:\n",
    "\n",
    "* ```<objeto con datos>``` es un objeto con las siguientes características:\n",
    "  * Tipo ```dict```.\n",
    "  * Un objeto de tipo ```tuple``` que contiene  a otros objetos tipo ```tuple```.\n",
    "  * Un arreglo de tipo ```numpy.ndarray``` de 2 dimensiones.\n",
    "  * Otra instancia de  ```pandas.DataFrame```.\n",
    "* <índices> es una colección ordenada de elementos que será usada para identificar a cada renglón del dataframe.\n",
    "* <índices de columnas> es una colección ordenada de elementos que será usada para identificar a cada columna del dataframe.  \n",
    "\n",
    "**Nota:** ```<objeto con datos>``` puede ser ingresado como argumento del parámetro ```data``` o simplemente ingresándolos como primer argumento. "
   ]
  },
  {
   "cell_type": "markdown",
   "metadata": {},
   "source": [
    "**Ejemplo:**"
   ]
  },
  {
   "cell_type": "markdown",
   "metadata": {},
   "source": [
    "* Se creará un dataframe a partir de una colección de objetos tipo ```tuple```."
   ]
  },
  {
   "cell_type": "code",
   "execution_count": null,
   "metadata": {},
   "outputs": [],
   "source": [
    "pd.DataFrame(data=[(0, 1, 2), (1, 2, 3), (2, 3, 4), (3, 4, 5)])"
   ]
  },
  {
   "cell_type": "markdown",
   "metadata": {},
   "source": [
    "* Se creará un dataframe a partir de un objeto tipo ```dict```.\n",
    "\n",
    "* En este caso, el identificador de cada colección de datos corresponderá al encabezado de cada columna."
   ]
  },
  {
   "cell_type": "code",
   "execution_count": null,
   "metadata": {},
   "outputs": [],
   "source": [
    "diccionarios = data ={'py101':[10, 5, 33 ,45, 25, 22], \n",
    "                'py111':[0, 15, 21 , 30, 31, 11], \n",
    "                'py121':[15, 5, 1 ,10, 42, 21], \n",
    "                'py301':[20, 35, 3 ,15, 0, 0], }"
   ]
  },
  {
   "cell_type": "code",
   "execution_count": null,
   "metadata": {
    "scrolled": true
   },
   "outputs": [],
   "source": [
    "pd.DataFrame(data=diccionarios)"
   ]
  },
  {
   "cell_type": "markdown",
   "metadata": {},
   "source": [
    "* Se creará un dataframe a partir de un objeto creado con ```numpy.arange()```."
   ]
  },
  {
   "cell_type": "code",
   "execution_count": null,
   "metadata": {},
   "outputs": [],
   "source": [
    "import numpy as np"
   ]
  },
  {
   "cell_type": "code",
   "execution_count": null,
   "metadata": {},
   "outputs": [],
   "source": [
    "matriz = np.arange(9).reshape(3,3)"
   ]
  },
  {
   "cell_type": "code",
   "execution_count": null,
   "metadata": {},
   "outputs": [],
   "source": [
    "matriz"
   ]
  },
  {
   "cell_type": "code",
   "execution_count": null,
   "metadata": {},
   "outputs": [],
   "source": [
    "pd.DataFrame(matriz)"
   ]
  },
  {
   "cell_type": "markdown",
   "metadata": {},
   "source": [
    "### Definición de índices.\n",
    "\n",
    "Aún cuando por defecto los índices pueden son numéricos, es posible asignarle un identificador a cada uno de ellos. El parámetro ```index```, permite asignar un índice a cada renglón.\n",
    "\n",
    "``` python\n",
    "index = <colección ordenada de elementos>\n",
    "```"
   ]
  },
  {
   "cell_type": "markdown",
   "metadata": {},
   "source": [
    "**Ejemplo:**"
   ]
  },
  {
   "cell_type": "code",
   "execution_count": null,
   "metadata": {},
   "outputs": [],
   "source": [
    "indice = ('enero', 'febrero', 'marzo', 'abril', 'mayo', 'junio')"
   ]
  },
  {
   "cell_type": "code",
   "execution_count": null,
   "metadata": {
    "scrolled": true
   },
   "outputs": [],
   "source": [
    "pd.DataFrame(data=diccionarios, index=indice)"
   ]
  },
  {
   "cell_type": "markdown",
   "metadata": {},
   "source": [
    "### Definición de columnas.\n",
    "\n",
    "El parámetro ```columns``` permite nombrar a las columnas de un dataframe. \n",
    "\n",
    "``` python\n",
    "columns = <colección ordenada de elementos>\n",
    "```"
   ]
  },
  {
   "cell_type": "code",
   "execution_count": null,
   "metadata": {},
   "outputs": [],
   "source": [
    "pd.DataFrame(matriz, index=['uno','dos','tres'], columns=['a', 'b', 'c'])"
   ]
  },
  {
   "cell_type": "markdown",
   "metadata": {},
   "source": [
    "## Selección básica de elementos en un dataframe."
   ]
  },
  {
   "cell_type": "markdown",
   "metadata": {},
   "source": [
    "### Selección de columnas.\n",
    "\n",
    "Los dataframes permiten extraer los datos de una columna usando el identificador de la columna de forma similar a una clave de un objeto de tipo ```dict```.\n",
    "\n",
    "```\n",
    "<dataframe>[<columna>]\n",
    "```"
   ]
  },
  {
   "cell_type": "markdown",
   "metadata": {},
   "source": [
    "**Ejemplo:**"
   ]
  },
  {
   "cell_type": "markdown",
   "metadata": {},
   "source": [
    "* Se creará el dataframe ``cursos`` a partir de un obvjetop de tipo ```dict```, por lo que las claves del objeto ```dict``` corresponderán los identificadores de las columnas del dataframe."
   ]
  },
  {
   "cell_type": "code",
   "execution_count": null,
   "metadata": {},
   "outputs": [],
   "source": [
    "cursos = pd.DataFrame({'py101':[10, 5, 33 ,45, 25, 22], \n",
    "         'py111':[0, 15, 21 , 30, 31, 11], \n",
    "         'py121':[15, 5, 1 ,10, 42, 21], \n",
    "         'py301':[20, 35, 3 ,15, 0, 0]},\n",
    "         index=('enero', 'febrero', 'marzo', 'abril', 'mayo', 'junio'))"
   ]
  },
  {
   "cell_type": "code",
   "execution_count": null,
   "metadata": {},
   "outputs": [],
   "source": [
    "cursos"
   ]
  },
  {
   "cell_type": "markdown",
   "metadata": {},
   "source": [
    "* La siguiente celda regresará la columna con identificador ```'py121'```"
   ]
  },
  {
   "cell_type": "code",
   "execution_count": null,
   "metadata": {},
   "outputs": [],
   "source": [
    "cursos['py121']"
   ]
  },
  {
   "cell_type": "markdown",
   "metadata": {},
   "source": [
    "### Selección de columnas mediante índices numéricos.\n",
    "\n",
    "Es posible seleccionar una sección de un dataframe a partir de un índice numéricos mediante la siguiente sintaxis:\n",
    "\n",
    "```\n",
    "<dataframe>[<índice numérico>]\n",
    "```\n",
    "\n",
    "Esto sólo es posible si las columnas tienen identificadores numéricos. En caso de que las columnas contengan identificadores no numéricos, se desencadenará un error de tipo ```KeyError```."
   ]
  },
  {
   "cell_type": "markdown",
   "metadata": {},
   "source": [
    "**Ejemplos:**"
   ]
  },
  {
   "cell_type": "markdown",
   "metadata": {},
   "source": [
    "* El dataframe ```datos``` contiene columnas con identificadores numéricos."
   ]
  },
  {
   "cell_type": "code",
   "execution_count": null,
   "metadata": {},
   "outputs": [],
   "source": [
    "datos = pd.DataFrame([[1, 2, 3, 4],[5, 6, 7, 8], [9, 10, 11, 12]])"
   ]
  },
  {
   "cell_type": "code",
   "execution_count": null,
   "metadata": {},
   "outputs": [],
   "source": [
    "datos"
   ]
  },
  {
   "cell_type": "markdown",
   "metadata": {},
   "source": [
    "* La siguiente celda regresará la columna ```2``` del dataframe ```datos``` usando la sintaxis ```datos[2]```."
   ]
  },
  {
   "cell_type": "code",
   "execution_count": null,
   "metadata": {},
   "outputs": [],
   "source": [
    "datos[2]"
   ]
  },
  {
   "cell_type": "markdown",
   "metadata": {},
   "source": [
    "* El dataframe ```cursos``` define identificadores columnas que no son numéricos. "
   ]
  },
  {
   "cell_type": "code",
   "execution_count": null,
   "metadata": {},
   "outputs": [],
   "source": [
    "cursos = pd.DataFrame({'py101':[10, 5, 33 ,45, 25, 22], \n",
    "         'py111':[0, 15, 21 , 30, 31, 11], \n",
    "         'py121':[15, 5, 1 ,10, 42, 21], \n",
    "         'py301':[20, 35, 3 ,15, 0, 0]})"
   ]
  },
  {
   "cell_type": "code",
   "execution_count": null,
   "metadata": {},
   "outputs": [],
   "source": [
    "cursos"
   ]
  },
  {
   "cell_type": "markdown",
   "metadata": {},
   "source": [
    "* En este caso, el índice numérico no será aceptado y se generará un ```KeyError```."
   ]
  },
  {
   "cell_type": "code",
   "execution_count": null,
   "metadata": {},
   "outputs": [],
   "source": [
    "cursos[3]"
   ]
  },
  {
   "cell_type": "markdown",
   "metadata": {},
   "source": [
    "### Selección de índices mediante rangos.\n",
    "\n",
    "Para seleccionar las columnas de un dataframe se usa una sintaxis de rangos por medio de dos puntos ```:```.\n",
    "\n",
    "```\n",
    "<dataframe>[<inicio>:<fin>:<incremento>]\n",
    "```\n",
    "\n",
    "Donde:\n",
    "* ```<inicio>``` corresponde al índice a partir del cual se iniciará el rango.\n",
    "* ```<fin>``` corresponde al índice final del rango, el cual no será incluído en el resultado.\n",
    "* ```<incremento>``` corresponde al tamaño incrementos/decrementos que se aplicará al rango.\n",
    "\n",
    "En este caso, se pueden usar ya sea valores enteros o los identificadores de los índices para definir el rango."
   ]
  },
  {
   "cell_type": "markdown",
   "metadata": {},
   "source": [
    "**Ejemplos:** "
   ]
  },
  {
   "cell_type": "markdown",
   "metadata": {},
   "source": [
    "* El dataframe ```cursos``` define identificadores columnas e índices que no son numéricos. "
   ]
  },
  {
   "cell_type": "code",
   "execution_count": null,
   "metadata": {},
   "outputs": [],
   "source": [
    "cursos = pd.DataFrame({'py101':[10, 5, 33 ,45, 25, 22], \n",
    "                       'py111':[0, 15, 21 , 30, 31, 11], \n",
    "                       'py121':[15, 5, 1 ,10, 42, 21], \n",
    "                       'py301':[20, 35, 3 ,15, 0, 0]},  \n",
    "                      index=('enero', 'febrero', 'marzo', 'abril', 'mayo', 'junio'))"
   ]
  },
  {
   "cell_type": "markdown",
   "metadata": {},
   "source": [
    "* La siguiente celda regresará el renglón correspondiente al índice ```'enero'``` usando la sintaxis ```cursos[:1]```."
   ]
  },
  {
   "cell_type": "code",
   "execution_count": null,
   "metadata": {},
   "outputs": [],
   "source": [
    "cursos[:1]"
   ]
  },
  {
   "cell_type": "markdown",
   "metadata": {},
   "source": [
    "* La siguiente celda regresará el renglón correspondiente al índice ```'enero'```, ```'marzo'``` y ```'mayo'``` usando la sintaxis ```cursos[::2]```."
   ]
  },
  {
   "cell_type": "code",
   "execution_count": null,
   "metadata": {},
   "outputs": [],
   "source": [
    "cursos[::2]"
   ]
  },
  {
   "cell_type": "markdown",
   "metadata": {},
   "source": [
    "* La siguiente celda regresará el renglón correspondiente al índice ```'marzo'```, ```'abril'``` y ```'mayo'``` usando la sintaxis ```cursos['marzo':'mayo']```."
   ]
  },
  {
   "cell_type": "code",
   "execution_count": null,
   "metadata": {},
   "outputs": [],
   "source": [
    "cursos['marzo':'mayo']"
   ]
  },
  {
   "cell_type": "markdown",
   "metadata": {},
   "source": [
    "* La siguiente celda no corresponde a un rango, por lo que el identificados se aplicará a las columnas y desencadenará un error ```KeyError```."
   ]
  },
  {
   "cell_type": "code",
   "execution_count": null,
   "metadata": {},
   "outputs": [],
   "source": [
    "cursos['enero']"
   ]
  },
  {
   "cell_type": "markdown",
   "metadata": {},
   "source": [
    "* El siguiente rango hace referencia a identificadores de columna, por lo que se desencadenará un error ```KeyError```."
   ]
  },
  {
   "cell_type": "code",
   "execution_count": null,
   "metadata": {},
   "outputs": [],
   "source": [
    "cursos['py101': 'py121']"
   ]
  },
  {
   "cell_type": "markdown",
   "metadata": {},
   "source": [
    "### Selección de un elemento del dataframe.\n",
    "\n",
    "Para acceder a un elemento de un dataframe se utiliza la siguiente sintaxis:\n",
    "\n",
    "```\n",
    "<dataframe>[<columna>][<índice>]\n",
    "```"
   ]
  },
  {
   "cell_type": "markdown",
   "metadata": {},
   "source": [
    "**Ejemplo:**"
   ]
  },
  {
   "cell_type": "markdown",
   "metadata": {},
   "source": [
    "* A partir del dataframe ```cursos``` se pueden seleccionar los siguientes elementos:"
   ]
  },
  {
   "cell_type": "code",
   "execution_count": null,
   "metadata": {},
   "outputs": [],
   "source": [
    "cursos = pd.DataFrame({'py101':[10, 5, 33 ,45, 25, 22], \n",
    "                       'py111':[0, 15, 21 , 30, 31, 11], \n",
    "                       'py121':[15, 5, 1 ,10, 42, 21], \n",
    "                       'py301':[20, 35, 3 ,15, 0, 0]},  \n",
    "                      index=('enero', 'febrero', 'marzo', 'abril', 'mayo', 'junio'))"
   ]
  },
  {
   "cell_type": "code",
   "execution_count": null,
   "metadata": {},
   "outputs": [],
   "source": [
    "cursos"
   ]
  },
  {
   "cell_type": "markdown",
   "metadata": {},
   "source": [
    "* Las siguientes celdas obtendrán el contenido de la celda correspondiente a la columna con identificador ```py101``` e índice con identificador ```marzo```."
   ]
  },
  {
   "cell_type": "code",
   "execution_count": null,
   "metadata": {},
   "outputs": [],
   "source": [
    "cursos['py101'][2]"
   ]
  },
  {
   "cell_type": "code",
   "execution_count": null,
   "metadata": {},
   "outputs": [],
   "source": [
    "cursos['py101']['marzo']"
   ]
  },
  {
   "cell_type": "markdown",
   "metadata": {},
   "source": [
    "* Las siguientes celdas obtendrán un dataframe el contenido de las celdas correspondiente a la columna con identificador ```py111``` y las celdas con los índices ```abril``` y ```mayo```."
   ]
  },
  {
   "cell_type": "code",
   "execution_count": null,
   "metadata": {},
   "outputs": [],
   "source": [
    "cursos['py111'][3:5]"
   ]
  },
  {
   "cell_type": "markdown",
   "metadata": {},
   "source": [
    "* Las columnas no aceptan rangos y la siguiente celda desencadenará un error ```ValueError```."
   ]
  },
  {
   "cell_type": "code",
   "execution_count": null,
   "metadata": {},
   "outputs": [],
   "source": [
    "cursos['py101':'py111'][3:5]"
   ]
  },
  {
   "cell_type": "markdown",
   "metadata": {},
   "source": [
    "### La clase ```pandas.Series```.\n",
    "\n",
    "Los objetos instanciado de la clase ```pandas.Series``` son de una sola dimensión y pueden ser al ingresar como argumento de ```data``` objetos de tipo:\n",
    "\n",
    "* ```tuple```\n",
    "* ```list```\n",
    "* ```dict``` \n",
    "* ```numpy.ndarray```\n",
    "\n",
    "A las series se les puede asignar un nombre mediante el parametro ```name```."
   ]
  },
  {
   "cell_type": "markdown",
   "metadata": {},
   "source": [
    "**Ejemplo:**"
   ]
  },
  {
   "cell_type": "code",
   "execution_count": null,
   "metadata": {},
   "outputs": [],
   "source": [
    "pd.Series([12, 4, 32, 41, 33, 28], name='py201')"
   ]
  },
  {
   "cell_type": "markdown",
   "metadata": {},
   "source": [
    "### Índices en las series."
   ]
  },
  {
   "cell_type": "markdown",
   "metadata": {},
   "source": [
    "Al igual que con los dataframes, las series soportan el atributo ```index```."
   ]
  },
  {
   "cell_type": "markdown",
   "metadata": {},
   "source": [
    "**Ejemplo:**"
   ]
  },
  {
   "cell_type": "code",
   "execution_count": null,
   "metadata": {},
   "outputs": [],
   "source": [
    "pd.Series([12, 4, 32, 41, 33, 28], index=indice, name='py201')"
   ]
  },
  {
   "cell_type": "markdown",
   "metadata": {},
   "source": [
    "## Conversión de series a dataframes. \n",
    "\n",
    "El método ```to_frame()```de las series permite transformar una serie en un dataframe de una columna.\n",
    "\n",
    "```\n",
    "<serie>.to_frame()\n",
    "```"
   ]
  },
  {
   "cell_type": "markdown",
   "metadata": {},
   "source": [
    "**Ejemplo:**"
   ]
  },
  {
   "cell_type": "code",
   "execution_count": null,
   "metadata": {},
   "outputs": [],
   "source": [
    "pd.Series([12, 4, 32, 41, 33, 28], index=indice, name='py201').to_frame()"
   ]
  },
  {
   "cell_type": "markdown",
   "metadata": {},
   "source": [
    "<p style=\"text-align: center\"><a rel=\"license\" href=\"http://creativecommons.org/licenses/by/4.0/\"><img alt=\"Licencia Creative Commons\" style=\"border-width:0\" src=\"https://i.creativecommons.org/l/by/4.0/80x15.png\" /></a><br />Esta obra está bajo una <a rel=\"license\" href=\"http://creativecommons.org/licenses/by/4.0/\">Licencia Creative Commons Atribución 4.0 Internacional</a>.</p>\n",
    "<p style=\"text-align: center\">&copy; José Luis Chiquete Valdivieso. 2019.</p>"
   ]
  }
 ],
 "metadata": {
  "kernelspec": {
   "display_name": "Python 3",
   "language": "python",
   "name": "python3"
  },
  "language_info": {
   "codemirror_mode": {
    "name": "ipython",
    "version": 3
   },
   "file_extension": ".py",
   "mimetype": "text/x-python",
   "name": "python",
   "nbconvert_exporter": "python",
   "pygments_lexer": "ipython3",
   "version": "3.7.3"
  }
 },
 "nbformat": 4,
 "nbformat_minor": 2
}
