{
 "cells": [
  {
   "cell_type": "markdown",
   "metadata": {},
   "source": [
    "[![imagenes/pythonista.png](imagenes/pythonista.png)](https://pythonista.io)"
   ]
  },
  {
   "cell_type": "markdown",
   "metadata": {},
   "source": [
    "# Gestión de datos."
   ]
  },
  {
   "cell_type": "markdown",
   "metadata": {},
   "source": [
    "Este capítulo explorará diversos atributos y métodos de las series y los dataframes de *Pandas* que pueden ser útiles para la gestión de los datos que contienen."
   ]
  },
  {
   "cell_type": "code",
   "execution_count": null,
   "metadata": {},
   "outputs": [],
   "source": [
    "import pandas as pd\n",
    "import numpy as np"
   ]
  },
  {
   "cell_type": "markdown",
   "metadata": {},
   "source": [
    "## El dataframe ilustrativo.\n",
    "\n",
    "El siguiente dataframe describe un censo poblacional de animmales en diversas regiones geográficas."
   ]
  },
  {
   "cell_type": "code",
   "execution_count": null,
   "metadata": {},
   "outputs": [],
   "source": [
    "poblacion = pd.DataFrame({'Animal':('lobo',\n",
    "                                   'coyote',\n",
    "                                   'jaguar',\n",
    "                                   'cerdo salvaje',\n",
    "                                    'tapir',\n",
    "                                    'venado',\n",
    "                                    'ocelote',\n",
    "                                    'puma'),\n",
    "                         'Norte_I':(12,\n",
    "                                   np.NAN,\n",
    "                                    None,\n",
    "                                    2,\n",
    "                                    4,\n",
    "                                    2,\n",
    "                                    14,\n",
    "                                    5\n",
    "                                   ),\n",
    "                          'Norte_II':(23,\n",
    "                                    4,\n",
    "                                    25,\n",
    "                                    21,\n",
    "                                    9,\n",
    "                                    121,\n",
    "                                    1,\n",
    "                                    2\n",
    "                                   ),\n",
    "                         'Centro_I':(15,\n",
    "                                    23,\n",
    "                                    2,\n",
    "                                    120,\n",
    "                                    40,\n",
    "                                    121,\n",
    "                                    0,\n",
    "                                    5),\n",
    "                         'Sur_I':(28,\n",
    "                                  46,\n",
    "                                  14,\n",
    "                                  156,\n",
    "                                  79,\n",
    "                                  12,\n",
    "                                  2,\n",
    "                                  np.NAN)}).set_index('Animal')"
   ]
  },
  {
   "cell_type": "code",
   "execution_count": null,
   "metadata": {
    "scrolled": true
   },
   "outputs": [],
   "source": [
    "poblacion"
   ]
  },
  {
   "cell_type": "markdown",
   "metadata": {},
   "source": [
    "## El atributo ```values```.\n",
    "\n",
    "El atributo ```values``` regresa un arreglo de ```numpy``` con los valores que contiene una serie o dataframe."
   ]
  },
  {
   "cell_type": "markdown",
   "metadata": {},
   "source": [
    "**Ejemplo:**"
   ]
  },
  {
   "cell_type": "code",
   "execution_count": null,
   "metadata": {},
   "outputs": [],
   "source": [
    "poblacion.values"
   ]
  },
  {
   "cell_type": "markdown",
   "metadata": {},
   "source": [
    "## El método ```head()```\n",
    "\n",
    "Regresa los primeros ```n``` renglones de un objeto de Pandas.\n",
    "\n",
    "```\n",
    "<objeto de Pandas>.head(<n>)\n",
    "```\n",
    "\n",
    "En caso de no definir ```<n>``` el método regresa los primeros 5 renglones."
   ]
  },
  {
   "cell_type": "markdown",
   "metadata": {},
   "source": [
    "**Ejemplos:**"
   ]
  },
  {
   "cell_type": "code",
   "execution_count": null,
   "metadata": {},
   "outputs": [],
   "source": [
    "poblacion.head()"
   ]
  },
  {
   "cell_type": "code",
   "execution_count": null,
   "metadata": {},
   "outputs": [],
   "source": [
    "poblacion.head(3)"
   ]
  },
  {
   "cell_type": "markdown",
   "metadata": {},
   "source": [
    "## El método ```tail()```.\n",
    "\n",
    "Regresa los últimos *n* renglones de un objeto de *Pandas*.\n",
    "\n",
    "```\n",
    "<objeto de Pandas>.tail(<n>)\n",
    "```\n",
    "\n",
    "En caso de no definir ```<n>``` el método regresa los últimos 5 renglones."
   ]
  },
  {
   "cell_type": "markdown",
   "metadata": {},
   "source": [
    "**Ejemplos:**"
   ]
  },
  {
   "cell_type": "code",
   "execution_count": null,
   "metadata": {},
   "outputs": [],
   "source": [
    "poblacion.tail()"
   ]
  },
  {
   "cell_type": "code",
   "execution_count": null,
   "metadata": {},
   "outputs": [],
   "source": [
    "poblacion.tail(2)"
   ]
  },
  {
   "cell_type": "markdown",
   "metadata": {},
   "source": [
    "## El método ```smallest()```\n",
    "\n",
    "Regresa un número indicado de ```n``` renglones con los valores más pequeños de una o varias columnas de un objeto de *Pandas*.\n",
    "\n",
    "```\n",
    "<objeto de Pandas>.nsmallest(<n>, columms=[<columnas>])\n",
    "```\n",
    "\n",
    "El criterio de ordenamiento se da a partir de la primera columna enumerada en ```columns``` en adelante."
   ]
  },
  {
   "cell_type": "markdown",
   "metadata": {},
   "source": [
    "**Ejemplos:**"
   ]
  },
  {
   "cell_type": "markdown",
   "metadata": {},
   "source": [
    "* La siguiente celda regresará los 3 renglones que contienen los valores más pequeños en la columna ```'Norte-1'``` del dataframe ```poblacion```."
   ]
  },
  {
   "cell_type": "code",
   "execution_count": null,
   "metadata": {},
   "outputs": [],
   "source": [
    "poblacion.nsmallest(3, columns='Norte_I')"
   ]
  },
  {
   "cell_type": "markdown",
   "metadata": {},
   "source": [
    "* La siguiente celda regresará los 3 renglones que contienen los valores más pequeños en las columnas ```'Norte-1'``` y ```'Sur-1'``` del dataframe ```poblacion```."
   ]
  },
  {
   "cell_type": "code",
   "execution_count": null,
   "metadata": {},
   "outputs": [],
   "source": [
    "poblacion.nsmallest(3, columns=['Norte_I', 'Sur_I'])"
   ]
  },
  {
   "cell_type": "markdown",
   "metadata": {},
   "source": [
    "## El método ```nlargest()```.\n",
    "\n",
    "Regresa un número indicado de ```n``` renglones con los valores más grandes de una o varias columnas de un objeto de *Pandas*.\n",
    "\n",
    "```\n",
    "<objeto de Pandas>.nsmallest(<n>, columms=[<columnas>])\n",
    "```\n",
    "\n",
    "El criterio de ordenamiento se da a partir de la primera columna enumerada en ```columns``` en adelante."
   ]
  },
  {
   "cell_type": "markdown",
   "metadata": {},
   "source": [
    "**Ejemplos:**"
   ]
  },
  {
   "cell_type": "markdown",
   "metadata": {},
   "source": [
    "* La siguiente celda regresará los 3 renglones que contienen los valores más grandes en la columna ```'Sur-1'``` del dataframe ```poblacion```."
   ]
  },
  {
   "cell_type": "code",
   "execution_count": null,
   "metadata": {},
   "outputs": [],
   "source": [
    "poblacion.nlargest(3, columns='Sur_I')"
   ]
  },
  {
   "cell_type": "markdown",
   "metadata": {},
   "source": [
    "* La siguiente celda regresará los 3 renglones que contienen los valores más grandes en la columna ```'Sur-1'``` y ```'Norte-1``` del dataframe ```poblacion```."
   ]
  },
  {
   "cell_type": "code",
   "execution_count": null,
   "metadata": {},
   "outputs": [],
   "source": [
    "poblacion.nlargest(3, columns=['Sur_I', 'Norte_I'])"
   ]
  },
  {
   "cell_type": "markdown",
   "metadata": {},
   "source": [
    "## El método ```isin()``` .\n",
    "\n",
    "Regresa otro objeto con contenidos booleanos indicando si el elemento del  objeto original se encuentra dentro de un iterable dado como argumento.\n",
    "```\n",
    "<objeto de Pandas>.isin(<iterable>)\n",
    "```"
   ]
  },
  {
   "cell_type": "markdown",
   "metadata": {},
   "source": [
    "**Ejemplo:**"
   ]
  },
  {
   "cell_type": "markdown",
   "metadata": {},
   "source": [
    "* La siguiente celda regresará un dataframe evaluando si cada elemento de ```poblacion``` tiene un valor entre ```20``` y ```30```."
   ]
  },
  {
   "cell_type": "code",
   "execution_count": null,
   "metadata": {},
   "outputs": [],
   "source": [
    "poblacion.isin(range(20, 31))"
   ]
  },
  {
   "cell_type": "markdown",
   "metadata": {},
   "source": [
    "* La siguiente celda creará al dataframe ```especies```."
   ]
  },
  {
   "cell_type": "code",
   "execution_count": null,
   "metadata": {},
   "outputs": [],
   "source": [
    "especies = pd.DataFrame({'Animal':('lobo',\n",
    "                                   'coyote',\n",
    "                                   'jaguar'),\n",
    "                         'Norte_I':('estable',\n",
    "                                   'amenzado',\n",
    "                                'amenazado'),\n",
    "                          'Norte_II':('estable',\n",
    "                                    'estable',\n",
    "                                    'extinto'),\n",
    "                         'Centro_I':('estable',\n",
    "                                    'amenazado',\n",
    "                                    'extinto'),\n",
    "                         'Sur_I':('amenazado',\n",
    "                                  'extinto',\n",
    "                                  'estable')}).set_index('Animal')"
   ]
  },
  {
   "cell_type": "code",
   "execution_count": null,
   "metadata": {},
   "outputs": [],
   "source": [
    "especies"
   ]
  },
  {
   "cell_type": "markdown",
   "metadata": {},
   "source": [
    "* La siguiente celda regresará un dataframe evaluando si cada elemento de ```especies``` tiene un valor que sea  ```'amenazado'``` o ```'extinto'```."
   ]
  },
  {
   "cell_type": "code",
   "execution_count": null,
   "metadata": {},
   "outputs": [],
   "source": [
    "especies.isin(['amenazado', 'extinto'])"
   ]
  },
  {
   "cell_type": "markdown",
   "metadata": {},
   "source": [
    "## El método ```diff()```.\n",
    "\n",
    "Calcula la diferencia entre un elemento previo en el eje indicado (```0``` para los renglones y ```1``` para las columnas).\n",
    "\n",
    "```\n",
    "<objeto de Pandas>.diff(axis=<eje>)\n",
    "```\n",
    "\n",
    "El valor por defecto para ```axis``` es ```0```."
   ]
  },
  {
   "cell_type": "markdown",
   "metadata": {},
   "source": [
    "**Ejemplos:**"
   ]
  },
  {
   "cell_type": "markdown",
   "metadata": {},
   "source": [
    "* Se utilizará el dataframe ```poblacion```."
   ]
  },
  {
   "cell_type": "code",
   "execution_count": null,
   "metadata": {},
   "outputs": [],
   "source": [
    "poblacion"
   ]
  },
  {
   "cell_type": "markdown",
   "metadata": {},
   "source": [
    "* Se aplicará el método ```diff()``` en el eje ```0```."
   ]
  },
  {
   "cell_type": "code",
   "execution_count": null,
   "metadata": {},
   "outputs": [],
   "source": [
    "poblacion.diff()"
   ]
  },
  {
   "cell_type": "markdown",
   "metadata": {},
   "source": [
    "* Se aplicará el método ```diff()``` en el eje ```1```."
   ]
  },
  {
   "cell_type": "code",
   "execution_count": null,
   "metadata": {},
   "outputs": [],
   "source": [
    "poblacion.diff(axis=1)"
   ]
  },
  {
   "cell_type": "markdown",
   "metadata": {},
   "source": [
    "## El método  ```eval()```.\n",
    "\n",
    "Ese método evalúa expresiones que se ingresan como cadenas de catacteres y que implican a las columnas de un dataframe.\n",
    "\n",
    "```\n",
    "<objeto de Pandas>.eval('<expresion>')\n",
    "```\n",
    "\n",
    "El resultado es una serie."
   ]
  },
  {
   "cell_type": "markdown",
   "metadata": {},
   "source": [
    "**Ejemplos:**"
   ]
  },
  {
   "cell_type": "markdown",
   "metadata": {},
   "source": [
    "* Se realizará la operación de adición renglón por renglón de la columna ```'Norte_1'``` a la ```'Norte_2'```."
   ]
  },
  {
   "cell_type": "code",
   "execution_count": null,
   "metadata": {},
   "outputs": [],
   "source": [
    "poblacion.eval(\"Norte_I + Norte_II\")"
   ]
  },
  {
   "cell_type": "markdown",
   "metadata": {},
   "source": [
    "* El dataframe ```poblacion_erronea``` incluye índices de columnas que impiden usar el método ```eval()``` debido a que las cadenas contienen al caracter ```-```, el cual puede ser interpretado como un operador."
   ]
  },
  {
   "cell_type": "code",
   "execution_count": null,
   "metadata": {},
   "outputs": [],
   "source": [
    "poblacion_erronea = pd.DataFrame({'Animal':('lobo',\n",
    "                                   'coyote',\n",
    "                                   'jaguar',\n",
    "                                   'cerdo salvaje',\n",
    "                                    'tapir',\n",
    "                                    'venado',\n",
    "                                    'ocelote',\n",
    "                                    'puma'),\n",
    "                         'Norte-I':(12,\n",
    "                                   np.NAN,\n",
    "                                    None,\n",
    "                                    2,\n",
    "                                    4,\n",
    "                                    2,\n",
    "                                    14,\n",
    "                                    5\n",
    "                                   ),\n",
    "                          'Norte-II':(23,\n",
    "                                    4,\n",
    "                                    25,\n",
    "                                    21,\n",
    "                                    9,\n",
    "                                    121,\n",
    "                                    1,\n",
    "                                    2\n",
    "                                   ),\n",
    "                         'Centro-I':(15,\n",
    "                                    23,\n",
    "                                    2,\n",
    "                                    120,\n",
    "                                    40,\n",
    "                                    121,\n",
    "                                    0,\n",
    "                                    5),\n",
    "                         'Sur-I':(28,\n",
    "                                  46,\n",
    "                                  14,\n",
    "                                  156,\n",
    "                                  79,\n",
    "                                  12,\n",
    "                                  2,\n",
    "                                  np.NAN)}).set_index('Animal')"
   ]
  },
  {
   "cell_type": "markdown",
   "metadata": {},
   "source": [
    "* La siguiente celda generará un error de tipo ```KeyError```."
   ]
  },
  {
   "cell_type": "code",
   "execution_count": null,
   "metadata": {
    "scrolled": false
   },
   "outputs": [],
   "source": [
    "poblacion_erronea.eval(\"Norte-I + Norte-II\")"
   ]
  },
  {
   "cell_type": "markdown",
   "metadata": {},
   "source": [
    "### Creación de una nueva columna mediante ```eval()```.\n",
    "\n",
    "Si la expresión definida en eval incluye un operador de asignación ```=```, el resultado se guardará en la columna que rse indica para recibir el resultado de la operación."
   ]
  },
  {
   "cell_type": "markdown",
   "metadata": {},
   "source": [
    "**Ejemplo:**"
   ]
  },
  {
   "cell_type": "markdown",
   "metadata": {},
   "source": [
    "* Se creará la columna ```'Norte'``` a partir de la operación de suma de ```'Norte_1'``` y ```'Norte_2'```."
   ]
  },
  {
   "cell_type": "code",
   "execution_count": null,
   "metadata": {},
   "outputs": [],
   "source": [
    "poblacion.eval(\"Norte = Norte_I + Norte_II\")"
   ]
  },
  {
   "cell_type": "code",
   "execution_count": null,
   "metadata": {},
   "outputs": [],
   "source": [
    "poblacion"
   ]
  },
  {
   "cell_type": "markdown",
   "metadata": {},
   "source": [
    "### El parámetro ```inplace```.\n",
    "\n",
    "Este parámetro con valor ```True``` indica que en lugar de regresar un  nuevo dataframe, las operaciones se reflejan en el dataframe original.\n",
    "\n",
    "El valor por defecto de ```inplace```es ```False```."
   ]
  },
  {
   "cell_type": "code",
   "execution_count": null,
   "metadata": {},
   "outputs": [],
   "source": [
    "poblacion.eval(\"Norte = Norte_I + Norte_II\", inplace=True)"
   ]
  },
  {
   "cell_type": "code",
   "execution_count": null,
   "metadata": {},
   "outputs": [],
   "source": [
    "poblacion"
   ]
  },
  {
   "cell_type": "markdown",
   "metadata": {},
   "source": [
    "## El método ```take()```.\n",
    "\n",
    " Este método regresa los renglones que se indiquen en función de un índice numérico.\n",
    " \n",
    " \n",
    " ```\n",
    " <objeto de Pandas>.take(<colección de índices numéricos>)\n",
    " ```"
   ]
  },
  {
   "cell_type": "markdown",
   "metadata": {},
   "source": [
    "**Ejemplos:**"
   ]
  },
  {
   "cell_type": "code",
   "execution_count": null,
   "metadata": {},
   "outputs": [],
   "source": [
    "poblacion.take([1,4])"
   ]
  },
  {
   "cell_type": "code",
   "execution_count": null,
   "metadata": {},
   "outputs": [],
   "source": [
    "poblacion.take(range(2, 7, 2))"
   ]
  },
  {
   "cell_type": "markdown",
   "metadata": {},
   "source": [
    "## El método ```replace()```.\n",
    "\n",
    "Este método sustituye un valor a que coincida con uno de los valores dados como argumento.\n",
    "\n",
    " ```\n",
    " <objeto de Pandas>.relace(<colección de valores>, <valor de sustitución>)\n",
    " ```"
   ]
  },
  {
   "cell_type": "markdown",
   "metadata": {},
   "source": [
    "**Ejemplos:**"
   ]
  },
  {
   "cell_type": "markdown",
   "metadata": {},
   "source": [
    "* La siguiente celda sustituirá al valor ```NaN``` por ```0``` en ```poblacion```."
   ]
  },
  {
   "cell_type": "code",
   "execution_count": null,
   "metadata": {},
   "outputs": [],
   "source": [
    "poblacion.replace(np.NaN, 0)"
   ]
  },
  {
   "cell_type": "markdown",
   "metadata": {},
   "source": [
    "* La siguiente celda sustituirá a los valore ```NaN``` y ```0``` por ```'extinto'``` en ```poblacion```."
   ]
  },
  {
   "cell_type": "code",
   "execution_count": null,
   "metadata": {},
   "outputs": [],
   "source": [
    "poblacion.replace([0, np.NaN], 'extinto')"
   ]
  },
  {
   "cell_type": "markdown",
   "metadata": {},
   "source": [
    "## El método ```assign()```.\n",
    "\n",
    "Crea una columna que contendrá los datos resultantes de una función.\n",
    "```\n",
    "<objeto de Pandas>.assign(<Identificador de columna>=<función>)\n",
    "```"
   ]
  },
  {
   "cell_type": "markdown",
   "metadata": {},
   "source": [
    "**Ejemplo:**"
   ]
  },
  {
   "cell_type": "code",
   "execution_count": null,
   "metadata": {},
   "outputs": [],
   "source": [
    "poblacion.assign(Sureste=poblacion['Sur_I'] + poblacion['Centro_I'])"
   ]
  },
  {
   "cell_type": "code",
   "execution_count": null,
   "metadata": {
    "scrolled": true
   },
   "outputs": [],
   "source": [
    "poblacion.assign(Sureste=lambda x: x['Sur_I'] * .5)"
   ]
  },
  {
   "cell_type": "markdown",
   "metadata": {},
   "source": [
    "## El método ```update()```.\n",
    "\n",
    "Este método combinará 2 dataframes. Sólo va a sustituir los elemento que ya existan."
   ]
  },
  {
   "cell_type": "code",
   "execution_count": null,
   "metadata": {},
   "outputs": [],
   "source": [
    "especies"
   ]
  },
  {
   "cell_type": "code",
   "execution_count": null,
   "metadata": {},
   "outputs": [],
   "source": [
    "otras_especies = pd.DataFrame({'Animal':('lobo',\n",
    "                                   'antilope',\n",
    "                                   'tucán'),\n",
    "                         'Norte_I':('estable',\n",
    "                                   'estable',\n",
    "                                   'estable'),\n",
    "                          'Norte_II':('extinto',\n",
    "                                    'estable',\n",
    "                                    'estable'),\n",
    "                         'Centro_I':('estable',\n",
    "                                    'estable',\n",
    "                                    'estable'),\n",
    "                         'Sur_I':('estable',\n",
    "                                  'estable',\n",
    "                                  'estable')}).set_index('Animal')"
   ]
  },
  {
   "cell_type": "code",
   "execution_count": null,
   "metadata": {
    "scrolled": true
   },
   "outputs": [],
   "source": [
    "otras_especies"
   ]
  },
  {
   "cell_type": "code",
   "execution_count": null,
   "metadata": {},
   "outputs": [],
   "source": [
    "especies.update(otras_especies)"
   ]
  },
  {
   "cell_type": "code",
   "execution_count": null,
   "metadata": {},
   "outputs": [],
   "source": [
    "especies"
   ]
  },
  {
   "cell_type": "markdown",
   "metadata": {},
   "source": [
    "## El metodo *all()*.\n",
    "\n",
    "Ese método se aplica para validar si todos los elementos de una columna (*axis=0*) o renglón (*axis=1*) son *True*.\n",
    "\n",
    "```\n",
    "<objeto>.all(axis=<n>)\n",
    "```"
   ]
  },
  {
   "cell_type": "code",
   "execution_count": null,
   "metadata": {},
   "outputs": [],
   "source": [
    "poblacion"
   ]
  },
  {
   "cell_type": "code",
   "execution_count": null,
   "metadata": {},
   "outputs": [],
   "source": [
    "poblacion > 0"
   ]
  },
  {
   "cell_type": "code",
   "execution_count": null,
   "metadata": {},
   "outputs": [],
   "source": [
    "(poblacion > 0).all()"
   ]
  },
  {
   "cell_type": "code",
   "execution_count": null,
   "metadata": {},
   "outputs": [],
   "source": [
    "(poblacion > 0).all(axis=1)"
   ]
  },
  {
   "cell_type": "markdown",
   "metadata": {},
   "source": [
    "* Python toma como *True* a cualquier valor distinto de 0."
   ]
  },
  {
   "cell_type": "code",
   "execution_count": null,
   "metadata": {},
   "outputs": [],
   "source": [
    "poblacion.all()"
   ]
  },
  {
   "cell_type": "markdown",
   "metadata": {},
   "source": [
    "## El método *any()*.\n",
    "\n",
    "Ese método se aplica para validar si al menos un elemento de una columna (*axis=0*) o renglón (*axis-1*) es *True*.\n",
    "\n",
    "```\n",
    "<objeto>.any(axis=<n>)\n",
    "```"
   ]
  },
  {
   "cell_type": "code",
   "execution_count": null,
   "metadata": {},
   "outputs": [],
   "source": [
    "(poblacion > 0).any()"
   ]
  },
  {
   "cell_type": "code",
   "execution_count": null,
   "metadata": {},
   "outputs": [],
   "source": [
    "(poblacion > 0).any(axis=1)"
   ]
  },
  {
   "cell_type": "markdown",
   "metadata": {},
   "source": [
    "## El método *items()*.\n",
    "\n",
    "Este método crea un generador, el cual regresa tuplas de 2 elementos a partir de un  objeto de Pandas.\n",
    "\n",
    "### El método *items()* en dataframes.\n",
    "* En el caso de un dataframe, el generador regresa tuplas compiestas por los datos de cada columna con la siguiente estructura:\n",
    "\n",
    "```\n",
    "('<identificador de encabezado>', <objeto tipo pd.Series>)\n",
    "```\n",
    "\n",
    "### El método *items()* en series.\n",
    "* En el caso de una serie, el generador regresa tuplas con la siguiente estructura:\n",
    "\n",
    "```\n",
    "('<identificador de índice>', <valor>)\n",
    "```"
   ]
  },
  {
   "cell_type": "code",
   "execution_count": null,
   "metadata": {},
   "outputs": [],
   "source": [
    "poblacion.items()"
   ]
  },
  {
   "cell_type": "code",
   "execution_count": null,
   "metadata": {},
   "outputs": [],
   "source": [
    "for item in poblacion.items():\n",
    "    print(item[0])\n",
    "    print(item[1])"
   ]
  },
  {
   "cell_type": "code",
   "execution_count": null,
   "metadata": {},
   "outputs": [],
   "source": [
    "for i in poblacion.items():\n",
    "    print(i[0])\n",
    "    for j in i[1].items():\n",
    "        print(j)"
   ]
  },
  {
   "cell_type": "markdown",
   "metadata": {},
   "source": [
    "## El método *drop()*.\n",
    "\n",
    "Elimina los identficadores de los índices (*axis=0*) o columnas (*axis=1*) localizados dentro de una colección ingresada como argumento.\n",
    "```\n",
    "<objeto de Pandas>.drop(<colección de identificadores>, axis=<n>)\n",
    "```"
   ]
  },
  {
   "cell_type": "code",
   "execution_count": null,
   "metadata": {},
   "outputs": [],
   "source": [
    "poblacion"
   ]
  },
  {
   "cell_type": "code",
   "execution_count": null,
   "metadata": {
    "scrolled": true
   },
   "outputs": [],
   "source": [
    "poblacion.drop(['Centro_I'], axis=1)"
   ]
  },
  {
   "cell_type": "code",
   "execution_count": null,
   "metadata": {
    "scrolled": true
   },
   "outputs": [],
   "source": [
    "poblacion.drop(['lobo', 'tapir'])"
   ]
  },
  {
   "cell_type": "markdown",
   "metadata": {},
   "source": [
    "## El método *combine()*."
   ]
  },
  {
   "cell_type": "code",
   "execution_count": null,
   "metadata": {},
   "outputs": [],
   "source": [
    "menor = lambda s1, s2: s1 if s1.sum() < s2.sum() else s2"
   ]
  },
  {
   "cell_type": "code",
   "execution_count": null,
   "metadata": {},
   "outputs": [],
   "source": [
    "df1 = pd.DataFrame({'A': [0, 0], 'B': [None, 4]})"
   ]
  },
  {
   "cell_type": "code",
   "execution_count": null,
   "metadata": {},
   "outputs": [],
   "source": [
    "df1"
   ]
  },
  {
   "cell_type": "code",
   "execution_count": null,
   "metadata": {},
   "outputs": [],
   "source": [
    "df2 = pd.DataFrame({'A': [1, 1], 'B': [None, 3]})"
   ]
  },
  {
   "cell_type": "code",
   "execution_count": null,
   "metadata": {},
   "outputs": [],
   "source": [
    "df2"
   ]
  },
  {
   "cell_type": "code",
   "execution_count": null,
   "metadata": {},
   "outputs": [],
   "source": [
    " df1.combine(df2, menor)"
   ]
  },
  {
   "cell_type": "markdown",
   "metadata": {},
   "source": [
    "## El método *insert()*.\n",
    "\n",
    "Este método insertará una columna en la posición que se le indique.\n",
    "\n",
    "```\n",
    "<objeto de Pandas>.insert(<posición numérica>. <nombre de columna>, <valores>)\n",
    "```"
   ]
  },
  {
   "cell_type": "code",
   "execution_count": null,
   "metadata": {},
   "outputs": [],
   "source": [
    "poblacion.insert(4, 'Sur_II', [7, 21, 23, 6, 11, 32, 21, 1])"
   ]
  },
  {
   "cell_type": "markdown",
   "metadata": {},
   "source": [
    "<p style=\"text-align: center\"><a rel=\"license\" href=\"http://creativecommons.org/licenses/by/4.0/\"><img alt=\"Licencia Creative Commons\" style=\"border-width:0\" src=\"https://i.creativecommons.org/l/by/4.0/80x15.png\" /></a><br />Esta obra está bajo una <a rel=\"license\" href=\"http://creativecommons.org/licenses/by/4.0/\">Licencia Creative Commons Atribución 4.0 Internacional</a>.</p>\n",
    "<p style=\"text-align: center\">&copy; José Luis Chiquete Valdivieso. 2019.</p>"
   ]
  }
 ],
 "metadata": {
  "kernelspec": {
   "display_name": "Python 3",
   "language": "python",
   "name": "python3"
  },
  "language_info": {
   "codemirror_mode": {
    "name": "ipython",
    "version": 3
   },
   "file_extension": ".py",
   "mimetype": "text/x-python",
   "name": "python",
   "nbconvert_exporter": "python",
   "pygments_lexer": "ipython3",
   "version": "3.7.3"
  }
 },
 "nbformat": 4,
 "nbformat_minor": 2
}
