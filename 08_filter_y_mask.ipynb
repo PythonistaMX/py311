{
 "cells": [
  {
   "cell_type": "markdown",
   "metadata": {},
   "source": [
    "[![imagenes/pythonista.png](imagenes/pythonista.png)](https://pythonista.io)"
   ]
  },
  {
   "cell_type": "markdown",
   "metadata": {},
   "source": [
    "\n"
   ]
  },
  {
   "cell_type": "code",
   "execution_count": null,
   "metadata": {},
   "outputs": [],
   "source": [
    "import pandas as pd"
   ]
  },
  {
   "cell_type": "code",
   "execution_count": null,
   "metadata": {},
   "outputs": [],
   "source": [
    "facturas = pd.DataFrame({'folio':(15234, \n",
    "                      15235, \n",
    "                      15236, \n",
    "                      15237, \n",
    "                      15238, \n",
    "                      15239, \n",
    "                      15240,\n",
    "                      15241,\n",
    "                      15242),\n",
    "             'sucursal':('CDMX01',\n",
    "                         'MTY01',\n",
    "                         'CDMX02',\n",
    "                         'CDMX02',\n",
    "                         'MTY01',\n",
    "                         'GDL01',\n",
    "                         'CDMX02',\n",
    "                         'MTY01',\n",
    "                         'GDL01'),\n",
    "             'monto':(1420.00,\n",
    "                     1532.00,\n",
    "                     890.00,\n",
    "                     1300.00,\n",
    "                     3121.47,\n",
    "                     1100.5,\n",
    "                     12230,\n",
    "                     230.85,\n",
    "                     1569),\n",
    "             'fecha':(pd.datetime(2019,3,11,17,24),\n",
    "                     pd.datetime(2019,3,24,14,46),\n",
    "                     pd.datetime(2019,3,25,17,58),\n",
    "                     pd.datetime(2019,3,27,13,11),\n",
    "                     pd.datetime(2019,3,31,10,25),\n",
    "                     pd.datetime(2019,4,1,18,32),\n",
    "                     pd.datetime(2019,4,3,11,43),\n",
    "                     pd.datetime(2019,4,4,16,55),\n",
    "                     pd.datetime(2019,4,5,12,59)),\n",
    "            'cliente':(19234,\n",
    "                       19232,\n",
    "                       19235,\n",
    "                       19233,\n",
    "                       19236,\n",
    "                       19237,\n",
    "                       19232,\n",
    "                       19233,\n",
    "                       19232)\n",
    "                        })"
   ]
  },
  {
   "cell_type": "code",
   "execution_count": null,
   "metadata": {},
   "outputs": [],
   "source": [
    "facturas"
   ]
  },
  {
   "cell_type": "code",
   "execution_count": null,
   "metadata": {},
   "outputs": [],
   "source": [
    "facturas"
   ]
  },
  {
   "cell_type": "code",
   "execution_count": null,
   "metadata": {},
   "outputs": [],
   "source": [
    "facturas.filter(items=['cliente','sucursal'])"
   ]
  },
  {
   "cell_type": "code",
   "execution_count": null,
   "metadata": {},
   "outputs": [],
   "source": [
    "facturas.filter(like=\"mon\")"
   ]
  },
  {
   "cell_type": "markdown",
   "metadata": {},
   "source": [
    "<p style=\"text-align: center\"><a rel=\"license\" href=\"http://creativecommons.org/licenses/by/4.0/\"><img alt=\"Licencia Creative Commons\" style=\"border-width:0\" src=\"https://i.creativecommons.org/l/by/4.0/80x15.png\" /></a><br />Esta obra está bajo una <a rel=\"license\" href=\"http://creativecommons.org/licenses/by/4.0/\">Licencia Creative Commons Atribución 4.0 Internacional</a>.</p>\n",
    "<p style=\"text-align: center\">&copy; José Luis Chiquete Valdivieso. 2019.</p>"
   ]
  }
 ],
 "metadata": {
  "kernelspec": {
   "display_name": "Python 3",
   "language": "python",
   "name": "python3"
  },
  "language_info": {
   "codemirror_mode": {
    "name": "ipython",
    "version": 3
   },
   "file_extension": ".py",
   "mimetype": "text/x-python",
   "name": "python",
   "nbconvert_exporter": "python",
   "pygments_lexer": "ipython3",
   "version": "3.6.6"
  }
 },
 "nbformat": 4,
 "nbformat_minor": 2
}
