{
 "cells": [
  {
   "cell_type": "markdown",
   "metadata": {},
   "source": [
    "[![imagenes/pythonista.png](imagenes/pythonista.png)](https://pythonista.io)"
   ]
  },
  {
   "cell_type": "markdown",
   "metadata": {},
   "source": [
    "**Ejemplo:**"
   ]
  },
  {
   "cell_type": "code",
   "execution_count": 1,
   "metadata": {},
   "outputs": [],
   "source": [
    "import pandas as pd"
   ]
  },
  {
   "cell_type": "code",
   "execution_count": 9,
   "metadata": {},
   "outputs": [
    {
     "name": "stdout",
     "output_type": "stream",
     "text": [
      "Help on function as_matrix in module pandas.core.generic:\n",
      "\n",
      "as_matrix(self, columns=None)\n",
      "    Convert the frame to its Numpy-array representation.\n",
      "    \n",
      "    .. deprecated:: 0.23.0\n",
      "        Use :meth:`DataFrame.values` instead.\n",
      "    \n",
      "    Parameters\n",
      "    ----------\n",
      "    columns : list, optional, default:None\n",
      "        If None, return all columns, otherwise, returns specified columns.\n",
      "    \n",
      "    Returns\n",
      "    -------\n",
      "    values : ndarray\n",
      "        If the caller is heterogeneous and contains booleans or objects,\n",
      "        the result will be of dtype=object. See Notes.\n",
      "    \n",
      "    See Also\n",
      "    --------\n",
      "    DataFrame.values\n",
      "    \n",
      "    Notes\n",
      "    -----\n",
      "    Return is NOT a Numpy-matrix, rather, a Numpy-array.\n",
      "    \n",
      "    The dtype will be a lower-common-denominator dtype (implicit\n",
      "    upcasting); that is to say if the dtypes (even of numeric types)\n",
      "    are mixed, the one that accommodates all will be chosen. Use this\n",
      "    with care if you are not dealing with the blocks.\n",
      "    \n",
      "    e.g. If the dtypes are float16 and float32, dtype will be upcast to\n",
      "    float32.  If dtypes are int32 and uint8, dtype will be upcase to\n",
      "    int32. By numpy.find_common_type convention, mixing int64 and uint64\n",
      "    will result in a float64 dtype.\n",
      "    \n",
      "    This method is provided for backwards compatibility. Generally,\n",
      "    it is recommended to use '.values'.\n",
      "\n"
     ]
    }
   ],
   "source": [
    "help(pd.DataFrame.as_matrix)"
   ]
  },
  {
   "cell_type": "code",
   "execution_count": null,
   "metadata": {},
   "outputs": [],
   "source": []
  },
  {
   "cell_type": "markdown",
   "metadata": {},
   "source": [
    "<p style=\"text-align: center\"><a rel=\"license\" href=\"http://creativecommons.org/licenses/by/4.0/\"><img alt=\"Licencia Creative Commons\" style=\"border-width:0\" src=\"https://i.creativecommons.org/l/by/4.0/80x15.png\" /></a><br />Esta obra está bajo una <a rel=\"license\" href=\"http://creativecommons.org/licenses/by/4.0/\">Licencia Creative Commons Atribución 4.0 Internacional</a>.</p>\n",
    "<p style=\"text-align: center\">&copy; José Luis Chiquete Valdivieso. 2019.</p>"
   ]
  }
 ],
 "metadata": {
  "kernelspec": {
   "display_name": "Python 3",
   "language": "python",
   "name": "python3"
  },
  "language_info": {
   "codemirror_mode": {
    "name": "ipython",
    "version": 3
   },
   "file_extension": ".py",
   "mimetype": "text/x-python",
   "name": "python",
   "nbconvert_exporter": "python",
   "pygments_lexer": "ipython3",
   "version": "3.6.6"
  }
 },
 "nbformat": 4,
 "nbformat_minor": 2
}
