{
 "cells": [
  {
   "cell_type": "markdown",
   "metadata": {},
   "source": [
    "[![imagenes/pythonista.png](imagenes/pythonista.png)](https://pythonista.io)"
   ]
  },
  {
   "cell_type": "markdown",
   "metadata": {},
   "source": [
    "# Índices y multiíndeces.\n",
    "\n",
    "Los índices e índices de columnas son objetos de *Pandas* que pueden ser tan simple como un listado de cadenas de caracteres o estructuras compleja de múltiples niveles.\n",
    "\n",
    "En este capítulo se estudiarán a los objetos instanciados de las clases ```pd.Index``` y ```pd.MultiIndex```."
   ]
  },
  {
   "cell_type": "code",
   "execution_count": 1,
   "metadata": {},
   "outputs": [],
   "source": [
    "import pandas as pd\n",
    "import numpy as np"
   ]
  },
  {
   "cell_type": "markdown",
   "metadata": {},
   "source": [
    "## El atributo ```axes```.\n",
    "\n",
    "Este atributo ```axes``` es una lista que contiene al índice y al índice de las columnas de un dataframe.\n",
    "\n",
    "* El objeto ```axes[0]``` corresponde al índice del dataframe.\n",
    "* El objeto ```axes[1]``` corresponde al índice de columnas del dataframe.\n",
    "\n",
    "Los índices pueden ser de tipo ```pd.Index``` o ```pd.MultiIndex```."
   ]
  },
  {
   "cell_type": "markdown",
   "metadata": {},
   "source": [
    "**Ejemplo:**"
   ]
  },
  {
   "cell_type": "markdown",
   "metadata": {},
   "source": [
    "* Se creará al dataframe ```poblacion```. "
   ]
  },
  {
   "cell_type": "code",
   "execution_count": 7,
   "metadata": {},
   "outputs": [],
   "source": [
    "poblacion = pd.DataFrame({'Animal':('lobo',\n",
    "                                    'coyote',\n",
    "                                   'jaguar',\n",
    "                                   'cerdo salvaje',\n",
    "                                    'tapir',\n",
    "                                    'venado',\n",
    "                                    'ocelote',\n",
    "                                    'puma'),\n",
    "                         'Norte_I':(12,\n",
    "                                   np.NAN,\n",
    "                                    None,\n",
    "                                    2,\n",
    "                                    4,\n",
    "                                    2,\n",
    "                                    14,\n",
    "                                    5\n",
    "                                   ),\n",
    "                          'Norte_II':(23,\n",
    "                                    4,\n",
    "                                    25,\n",
    "                                    21,\n",
    "                                    9,\n",
    "                                    121,\n",
    "                                    1,\n",
    "                                    2\n",
    "                                   ),\n",
    "                         'Centro_I':(15,\n",
    "                                    23,\n",
    "                                    2,\n",
    "                                    120,\n",
    "                                    40,\n",
    "                                    121,\n",
    "                                    0,\n",
    "                                    5),\n",
    "                         'Sur_I':(28,\n",
    "                                  46,\n",
    "                                  14,\n",
    "                                  156,\n",
    "                                  79,\n",
    "                                  12,\n",
    "                                  2,\n",
    "                                  np.NAN)}).set_index('Animal')"
   ]
  },
  {
   "cell_type": "code",
   "execution_count": 8,
   "metadata": {},
   "outputs": [
    {
     "data": {
      "text/html": [
       "<div>\n",
       "<style scoped>\n",
       "    .dataframe tbody tr th:only-of-type {\n",
       "        vertical-align: middle;\n",
       "    }\n",
       "\n",
       "    .dataframe tbody tr th {\n",
       "        vertical-align: top;\n",
       "    }\n",
       "\n",
       "    .dataframe thead th {\n",
       "        text-align: right;\n",
       "    }\n",
       "</style>\n",
       "<table border=\"1\" class=\"dataframe\">\n",
       "  <thead>\n",
       "    <tr style=\"text-align: right;\">\n",
       "      <th></th>\n",
       "      <th>Norte_I</th>\n",
       "      <th>Norte_II</th>\n",
       "      <th>Centro_I</th>\n",
       "      <th>Sur_I</th>\n",
       "    </tr>\n",
       "    <tr>\n",
       "      <th>Animal</th>\n",
       "      <th></th>\n",
       "      <th></th>\n",
       "      <th></th>\n",
       "      <th></th>\n",
       "    </tr>\n",
       "  </thead>\n",
       "  <tbody>\n",
       "    <tr>\n",
       "      <th>lobo</th>\n",
       "      <td>12.0</td>\n",
       "      <td>23</td>\n",
       "      <td>15</td>\n",
       "      <td>28.0</td>\n",
       "    </tr>\n",
       "    <tr>\n",
       "      <th>coyote</th>\n",
       "      <td>NaN</td>\n",
       "      <td>4</td>\n",
       "      <td>23</td>\n",
       "      <td>46.0</td>\n",
       "    </tr>\n",
       "    <tr>\n",
       "      <th>jaguar</th>\n",
       "      <td>NaN</td>\n",
       "      <td>25</td>\n",
       "      <td>2</td>\n",
       "      <td>14.0</td>\n",
       "    </tr>\n",
       "    <tr>\n",
       "      <th>cerdo salvaje</th>\n",
       "      <td>2.0</td>\n",
       "      <td>21</td>\n",
       "      <td>120</td>\n",
       "      <td>156.0</td>\n",
       "    </tr>\n",
       "    <tr>\n",
       "      <th>tapir</th>\n",
       "      <td>4.0</td>\n",
       "      <td>9</td>\n",
       "      <td>40</td>\n",
       "      <td>79.0</td>\n",
       "    </tr>\n",
       "    <tr>\n",
       "      <th>venado</th>\n",
       "      <td>2.0</td>\n",
       "      <td>121</td>\n",
       "      <td>121</td>\n",
       "      <td>12.0</td>\n",
       "    </tr>\n",
       "    <tr>\n",
       "      <th>ocelote</th>\n",
       "      <td>14.0</td>\n",
       "      <td>1</td>\n",
       "      <td>0</td>\n",
       "      <td>2.0</td>\n",
       "    </tr>\n",
       "    <tr>\n",
       "      <th>puma</th>\n",
       "      <td>5.0</td>\n",
       "      <td>2</td>\n",
       "      <td>5</td>\n",
       "      <td>NaN</td>\n",
       "    </tr>\n",
       "  </tbody>\n",
       "</table>\n",
       "</div>"
      ],
      "text/plain": [
       "               Norte_I  Norte_II  Centro_I  Sur_I\n",
       "Animal                                           \n",
       "lobo              12.0        23        15   28.0\n",
       "coyote             NaN         4        23   46.0\n",
       "jaguar             NaN        25         2   14.0\n",
       "cerdo salvaje      2.0        21       120  156.0\n",
       "tapir              4.0         9        40   79.0\n",
       "venado             2.0       121       121   12.0\n",
       "ocelote           14.0         1         0    2.0\n",
       "puma               5.0         2         5    NaN"
      ]
     },
     "execution_count": 8,
     "metadata": {},
     "output_type": "execute_result"
    }
   ],
   "source": [
    "poblacion"
   ]
  },
  {
   "cell_type": "markdown",
   "metadata": {},
   "source": [
    "* Se desplegará ```poblacion.axes```."
   ]
  },
  {
   "cell_type": "code",
   "execution_count": 9,
   "metadata": {},
   "outputs": [
    {
     "data": {
      "text/plain": [
       "[Index(['lobo', 'coyote', 'jaguar', 'cerdo salvaje', 'tapir', 'venado',\n",
       "        'ocelote', 'puma'],\n",
       "       dtype='object', name='Animal'),\n",
       " Index(['Norte_I', 'Norte_II', 'Centro_I', 'Sur_I'], dtype='object')]"
      ]
     },
     "execution_count": 9,
     "metadata": {},
     "output_type": "execute_result"
    }
   ],
   "source": [
    "poblacion.axes"
   ]
  },
  {
   "cell_type": "code",
   "execution_count": 10,
   "metadata": {},
   "outputs": [
    {
     "data": {
      "text/plain": [
       "Index(['lobo', 'coyote', 'jaguar', 'cerdo salvaje', 'tapir', 'venado',\n",
       "       'ocelote', 'puma'],\n",
       "      dtype='object', name='Animal')"
      ]
     },
     "execution_count": 10,
     "metadata": {},
     "output_type": "execute_result"
    }
   ],
   "source": [
    "poblacion.axes[0]"
   ]
  },
  {
   "cell_type": "code",
   "execution_count": 11,
   "metadata": {},
   "outputs": [
    {
     "data": {
      "text/plain": [
       "Index(['Norte_I', 'Norte_II', 'Centro_I', 'Sur_I'], dtype='object')"
      ]
     },
     "execution_count": 11,
     "metadata": {},
     "output_type": "execute_result"
    }
   ],
   "source": [
    "poblacion.axes[1]"
   ]
  },
  {
   "cell_type": "markdown",
   "metadata": {},
   "source": [
    "## La clase ```pd.Index```.\n",
    "\n",
    "Esta clase es la clase que permite crear índices simples y se instancia de esta manera.\n",
    "\n",
    "```\n",
    "pd.Index(['<índice 1>', '<índice 2>',..., '<índice n>'], name='<nombre>')\n",
    "```\n",
    "Donde:\n",
    "\n",
    "* ```<índice x>``` es una cadena de caracteres correpsondiente al nombre de un índice.\n",
    "* ```<nombre>``` es una cadena de caracteres para el atributo ```name``` del objeto ```pd.Index```."
   ]
  },
  {
   "cell_type": "markdown",
   "metadata": {},
   "source": [
    "**Ejemplo:**"
   ]
  },
  {
   "cell_type": "markdown",
   "metadata": {},
   "source": [
    "* Se creará el objeto ```pd.Index``` con nombre ```indice```."
   ]
  },
  {
   "cell_type": "code",
   "execution_count": 12,
   "metadata": {},
   "outputs": [],
   "source": [
    "indice = pd.Index(['N_1', 'N_2', 'C', 'S'], name='Regiones')"
   ]
  },
  {
   "cell_type": "markdown",
   "metadata": {},
   "source": [
    "* Se asignará ```indice``` al atributo ```poblacion.columns```."
   ]
  },
  {
   "cell_type": "code",
   "execution_count": 13,
   "metadata": {},
   "outputs": [
    {
     "data": {
      "text/html": [
       "<div>\n",
       "<style scoped>\n",
       "    .dataframe tbody tr th:only-of-type {\n",
       "        vertical-align: middle;\n",
       "    }\n",
       "\n",
       "    .dataframe tbody tr th {\n",
       "        vertical-align: top;\n",
       "    }\n",
       "\n",
       "    .dataframe thead th {\n",
       "        text-align: right;\n",
       "    }\n",
       "</style>\n",
       "<table border=\"1\" class=\"dataframe\">\n",
       "  <thead>\n",
       "    <tr style=\"text-align: right;\">\n",
       "      <th></th>\n",
       "      <th>Norte_I</th>\n",
       "      <th>Norte_II</th>\n",
       "      <th>Centro_I</th>\n",
       "      <th>Sur_I</th>\n",
       "    </tr>\n",
       "    <tr>\n",
       "      <th>Animal</th>\n",
       "      <th></th>\n",
       "      <th></th>\n",
       "      <th></th>\n",
       "      <th></th>\n",
       "    </tr>\n",
       "  </thead>\n",
       "  <tbody>\n",
       "    <tr>\n",
       "      <th>lobo</th>\n",
       "      <td>12.0</td>\n",
       "      <td>23</td>\n",
       "      <td>15</td>\n",
       "      <td>28.0</td>\n",
       "    </tr>\n",
       "    <tr>\n",
       "      <th>coyote</th>\n",
       "      <td>NaN</td>\n",
       "      <td>4</td>\n",
       "      <td>23</td>\n",
       "      <td>46.0</td>\n",
       "    </tr>\n",
       "    <tr>\n",
       "      <th>jaguar</th>\n",
       "      <td>NaN</td>\n",
       "      <td>25</td>\n",
       "      <td>2</td>\n",
       "      <td>14.0</td>\n",
       "    </tr>\n",
       "    <tr>\n",
       "      <th>cerdo salvaje</th>\n",
       "      <td>2.0</td>\n",
       "      <td>21</td>\n",
       "      <td>120</td>\n",
       "      <td>156.0</td>\n",
       "    </tr>\n",
       "    <tr>\n",
       "      <th>tapir</th>\n",
       "      <td>4.0</td>\n",
       "      <td>9</td>\n",
       "      <td>40</td>\n",
       "      <td>79.0</td>\n",
       "    </tr>\n",
       "    <tr>\n",
       "      <th>venado</th>\n",
       "      <td>2.0</td>\n",
       "      <td>121</td>\n",
       "      <td>121</td>\n",
       "      <td>12.0</td>\n",
       "    </tr>\n",
       "    <tr>\n",
       "      <th>ocelote</th>\n",
       "      <td>14.0</td>\n",
       "      <td>1</td>\n",
       "      <td>0</td>\n",
       "      <td>2.0</td>\n",
       "    </tr>\n",
       "    <tr>\n",
       "      <th>puma</th>\n",
       "      <td>5.0</td>\n",
       "      <td>2</td>\n",
       "      <td>5</td>\n",
       "      <td>NaN</td>\n",
       "    </tr>\n",
       "  </tbody>\n",
       "</table>\n",
       "</div>"
      ],
      "text/plain": [
       "               Norte_I  Norte_II  Centro_I  Sur_I\n",
       "Animal                                           \n",
       "lobo              12.0        23        15   28.0\n",
       "coyote             NaN         4        23   46.0\n",
       "jaguar             NaN        25         2   14.0\n",
       "cerdo salvaje      2.0        21       120  156.0\n",
       "tapir              4.0         9        40   79.0\n",
       "venado             2.0       121       121   12.0\n",
       "ocelote           14.0         1         0    2.0\n",
       "puma               5.0         2         5    NaN"
      ]
     },
     "execution_count": 13,
     "metadata": {},
     "output_type": "execute_result"
    }
   ],
   "source": [
    "poblacion"
   ]
  },
  {
   "cell_type": "code",
   "execution_count": 14,
   "metadata": {},
   "outputs": [],
   "source": [
    "poblacion.columns = indice"
   ]
  },
  {
   "cell_type": "code",
   "execution_count": 15,
   "metadata": {},
   "outputs": [
    {
     "data": {
      "text/html": [
       "<div>\n",
       "<style scoped>\n",
       "    .dataframe tbody tr th:only-of-type {\n",
       "        vertical-align: middle;\n",
       "    }\n",
       "\n",
       "    .dataframe tbody tr th {\n",
       "        vertical-align: top;\n",
       "    }\n",
       "\n",
       "    .dataframe thead th {\n",
       "        text-align: right;\n",
       "    }\n",
       "</style>\n",
       "<table border=\"1\" class=\"dataframe\">\n",
       "  <thead>\n",
       "    <tr style=\"text-align: right;\">\n",
       "      <th>Regiones</th>\n",
       "      <th>N_1</th>\n",
       "      <th>N_2</th>\n",
       "      <th>C</th>\n",
       "      <th>S</th>\n",
       "    </tr>\n",
       "    <tr>\n",
       "      <th>Animal</th>\n",
       "      <th></th>\n",
       "      <th></th>\n",
       "      <th></th>\n",
       "      <th></th>\n",
       "    </tr>\n",
       "  </thead>\n",
       "  <tbody>\n",
       "    <tr>\n",
       "      <th>lobo</th>\n",
       "      <td>12.0</td>\n",
       "      <td>23</td>\n",
       "      <td>15</td>\n",
       "      <td>28.0</td>\n",
       "    </tr>\n",
       "    <tr>\n",
       "      <th>coyote</th>\n",
       "      <td>NaN</td>\n",
       "      <td>4</td>\n",
       "      <td>23</td>\n",
       "      <td>46.0</td>\n",
       "    </tr>\n",
       "    <tr>\n",
       "      <th>jaguar</th>\n",
       "      <td>NaN</td>\n",
       "      <td>25</td>\n",
       "      <td>2</td>\n",
       "      <td>14.0</td>\n",
       "    </tr>\n",
       "    <tr>\n",
       "      <th>cerdo salvaje</th>\n",
       "      <td>2.0</td>\n",
       "      <td>21</td>\n",
       "      <td>120</td>\n",
       "      <td>156.0</td>\n",
       "    </tr>\n",
       "    <tr>\n",
       "      <th>tapir</th>\n",
       "      <td>4.0</td>\n",
       "      <td>9</td>\n",
       "      <td>40</td>\n",
       "      <td>79.0</td>\n",
       "    </tr>\n",
       "    <tr>\n",
       "      <th>venado</th>\n",
       "      <td>2.0</td>\n",
       "      <td>121</td>\n",
       "      <td>121</td>\n",
       "      <td>12.0</td>\n",
       "    </tr>\n",
       "    <tr>\n",
       "      <th>ocelote</th>\n",
       "      <td>14.0</td>\n",
       "      <td>1</td>\n",
       "      <td>0</td>\n",
       "      <td>2.0</td>\n",
       "    </tr>\n",
       "    <tr>\n",
       "      <th>puma</th>\n",
       "      <td>5.0</td>\n",
       "      <td>2</td>\n",
       "      <td>5</td>\n",
       "      <td>NaN</td>\n",
       "    </tr>\n",
       "  </tbody>\n",
       "</table>\n",
       "</div>"
      ],
      "text/plain": [
       "Regiones        N_1  N_2    C      S\n",
       "Animal                              \n",
       "lobo           12.0   23   15   28.0\n",
       "coyote          NaN    4   23   46.0\n",
       "jaguar          NaN   25    2   14.0\n",
       "cerdo salvaje   2.0   21  120  156.0\n",
       "tapir           4.0    9   40   79.0\n",
       "venado          2.0  121  121   12.0\n",
       "ocelote        14.0    1    0    2.0\n",
       "puma            5.0    2    5    NaN"
      ]
     },
     "execution_count": 15,
     "metadata": {},
     "output_type": "execute_result"
    }
   ],
   "source": [
    "poblacion"
   ]
  },
  {
   "cell_type": "markdown",
   "metadata": {},
   "source": [
    "### El atributo ```pd.Index.name```.\n",
    "\n",
    "Este atributo contiene el nombre del objeto pd.Index.name, el cual será desplegado como parte de un índice."
   ]
  },
  {
   "cell_type": "markdown",
   "metadata": {},
   "source": [
    "* Se despegará el atributo ```name``` de ```poblacion.index```."
   ]
  },
  {
   "cell_type": "code",
   "execution_count": 16,
   "metadata": {},
   "outputs": [
    {
     "data": {
      "text/plain": [
       "'Animal'"
      ]
     },
     "execution_count": 16,
     "metadata": {},
     "output_type": "execute_result"
    }
   ],
   "source": [
    "poblacion.index.name"
   ]
  },
  {
   "cell_type": "code",
   "execution_count": 17,
   "metadata": {},
   "outputs": [
    {
     "data": {
      "text/plain": [
       "'Regiones'"
      ]
     },
     "execution_count": 17,
     "metadata": {},
     "output_type": "execute_result"
    }
   ],
   "source": [
    "poblacion.columns.name"
   ]
  },
  {
   "cell_type": "markdown",
   "metadata": {},
   "source": [
    "### El atributo ```pd.Index.values```.\n",
    "\n",
    "Este atributo es un objeto ```np.ndarray``` que contiene los nombres de cada índice."
   ]
  },
  {
   "cell_type": "markdown",
   "metadata": {},
   "source": [
    "**Ejemplos:**"
   ]
  },
  {
   "cell_type": "markdown",
   "metadata": {},
   "source": [
    "* Se desplegará el atributo ```poblacion.columns.values```."
   ]
  },
  {
   "cell_type": "code",
   "execution_count": 18,
   "metadata": {},
   "outputs": [
    {
     "data": {
      "text/plain": [
       "array(['N_1', 'N_2', 'C', 'S'], dtype=object)"
      ]
     },
     "execution_count": 18,
     "metadata": {},
     "output_type": "execute_result"
    }
   ],
   "source": [
    "poblacion.columns.values"
   ]
  },
  {
   "cell_type": "markdown",
   "metadata": {},
   "source": [
    "* Se sustituirá el valor de ```poblacion.columns.values[3]``` por la cadena ```'Sur'```."
   ]
  },
  {
   "cell_type": "code",
   "execution_count": 19,
   "metadata": {},
   "outputs": [],
   "source": [
    "poblacion.columns.values[3] = 'Sur'"
   ]
  },
  {
   "cell_type": "code",
   "execution_count": 20,
   "metadata": {},
   "outputs": [
    {
     "data": {
      "text/html": [
       "<div>\n",
       "<style scoped>\n",
       "    .dataframe tbody tr th:only-of-type {\n",
       "        vertical-align: middle;\n",
       "    }\n",
       "\n",
       "    .dataframe tbody tr th {\n",
       "        vertical-align: top;\n",
       "    }\n",
       "\n",
       "    .dataframe thead th {\n",
       "        text-align: right;\n",
       "    }\n",
       "</style>\n",
       "<table border=\"1\" class=\"dataframe\">\n",
       "  <thead>\n",
       "    <tr style=\"text-align: right;\">\n",
       "      <th>Regiones</th>\n",
       "      <th>N_1</th>\n",
       "      <th>N_2</th>\n",
       "      <th>C</th>\n",
       "      <th>Sur</th>\n",
       "    </tr>\n",
       "    <tr>\n",
       "      <th>Animal</th>\n",
       "      <th></th>\n",
       "      <th></th>\n",
       "      <th></th>\n",
       "      <th></th>\n",
       "    </tr>\n",
       "  </thead>\n",
       "  <tbody>\n",
       "    <tr>\n",
       "      <th>lobo</th>\n",
       "      <td>12.0</td>\n",
       "      <td>23</td>\n",
       "      <td>15</td>\n",
       "      <td>28.0</td>\n",
       "    </tr>\n",
       "    <tr>\n",
       "      <th>coyote</th>\n",
       "      <td>NaN</td>\n",
       "      <td>4</td>\n",
       "      <td>23</td>\n",
       "      <td>46.0</td>\n",
       "    </tr>\n",
       "    <tr>\n",
       "      <th>jaguar</th>\n",
       "      <td>NaN</td>\n",
       "      <td>25</td>\n",
       "      <td>2</td>\n",
       "      <td>14.0</td>\n",
       "    </tr>\n",
       "    <tr>\n",
       "      <th>cerdo salvaje</th>\n",
       "      <td>2.0</td>\n",
       "      <td>21</td>\n",
       "      <td>120</td>\n",
       "      <td>156.0</td>\n",
       "    </tr>\n",
       "    <tr>\n",
       "      <th>tapir</th>\n",
       "      <td>4.0</td>\n",
       "      <td>9</td>\n",
       "      <td>40</td>\n",
       "      <td>79.0</td>\n",
       "    </tr>\n",
       "    <tr>\n",
       "      <th>venado</th>\n",
       "      <td>2.0</td>\n",
       "      <td>121</td>\n",
       "      <td>121</td>\n",
       "      <td>12.0</td>\n",
       "    </tr>\n",
       "    <tr>\n",
       "      <th>ocelote</th>\n",
       "      <td>14.0</td>\n",
       "      <td>1</td>\n",
       "      <td>0</td>\n",
       "      <td>2.0</td>\n",
       "    </tr>\n",
       "    <tr>\n",
       "      <th>puma</th>\n",
       "      <td>5.0</td>\n",
       "      <td>2</td>\n",
       "      <td>5</td>\n",
       "      <td>NaN</td>\n",
       "    </tr>\n",
       "  </tbody>\n",
       "</table>\n",
       "</div>"
      ],
      "text/plain": [
       "Regiones        N_1  N_2    C    Sur\n",
       "Animal                              \n",
       "lobo           12.0   23   15   28.0\n",
       "coyote          NaN    4   23   46.0\n",
       "jaguar          NaN   25    2   14.0\n",
       "cerdo salvaje   2.0   21  120  156.0\n",
       "tapir           4.0    9   40   79.0\n",
       "venado          2.0  121  121   12.0\n",
       "ocelote        14.0    1    0    2.0\n",
       "puma            5.0    2    5    NaN"
      ]
     },
     "execution_count": 20,
     "metadata": {},
     "output_type": "execute_result"
    }
   ],
   "source": [
    "poblacion"
   ]
  },
  {
   "cell_type": "markdown",
   "metadata": {},
   "source": [
    "## La clase ```pd.MultiIndex```.\n",
    "\n",
    "Los objetos instanciados de la clase ```pd.MultiIndex``` permiten tener más de un nivel de índices.\n",
    "\n",
    "Estos objetos están conformados por:\n",
    "* niveles (```levels```), los cuales se van desagregando conforme descienden.\n",
    "* codigos de ordenamiento (```codes```), ls cuales contienen listas describiendo la distribución de los índices por nivel.\n",
    "* nombres (```names```) correspondientes a cada nivel."
   ]
  },
  {
   "cell_type": "markdown",
   "metadata": {},
   "source": [
    " ## Creación de un objeto *pd.MultiIndex*.\n",
    " \n",
    " Para la creación de objetos instanciados de ```pd.MultiIndex``` se pueden utilizar los siguientes métodos de clase:\n",
    " \n",
    " * ```pd.MultiIndex.from_arrays()```.\n",
    " * ```pd.MultiIndex.from_tuples()```.\n",
    " * ```pd.MultiIndex.from_products()```.\n",
    " * ```pd.MultiIndex.from_dataframes()```. \n",
    " \n",
    " \n",
    " ```\n",
    " pd.MultiIndex.<método>(<objeto>, names=<interable con un nombre para cada nivel>)\n",
    " ```"
   ]
  },
  {
   "cell_type": "markdown",
   "metadata": {},
   "source": [
    "**Ejemplos:**"
   ]
  },
  {
   "cell_type": "markdown",
   "metadata": {},
   "source": [
    "* A continuación se creará una tupla que describe diversos índices."
   ]
  },
  {
   "cell_type": "code",
   "execution_count": 27,
   "metadata": {},
   "outputs": [],
   "source": [
    "lista = []\n",
    "for zona in ('Norte_I', 'Sur_I', 'Centro_I'):\n",
    "    for animal in ('jaguar', 'conejo', 'lobo'):\n",
    "        lista.append((zona, animal))      "
   ]
  },
  {
   "cell_type": "code",
   "execution_count": 23,
   "metadata": {},
   "outputs": [],
   "source": [
    "lista = [[zona, animal] for animal in ('jaguar', 'conejo', 'lobo') for zona in ('Norte_I', 'Sur_I', 'Centro_I')]"
   ]
  },
  {
   "cell_type": "code",
   "execution_count": 28,
   "metadata": {},
   "outputs": [],
   "source": [
    "tupla=tuple(lista) "
   ]
  },
  {
   "cell_type": "code",
   "execution_count": 29,
   "metadata": {},
   "outputs": [
    {
     "data": {
      "text/plain": [
       "(('Norte_I', 'jaguar'),\n",
       " ('Norte_I', 'conejo'),\n",
       " ('Norte_I', 'lobo'),\n",
       " ('Sur_I', 'jaguar'),\n",
       " ('Sur_I', 'conejo'),\n",
       " ('Sur_I', 'lobo'),\n",
       " ('Centro_I', 'jaguar'),\n",
       " ('Centro_I', 'conejo'),\n",
       " ('Centro_I', 'lobo'))"
      ]
     },
     "execution_count": 29,
     "metadata": {},
     "output_type": "execute_result"
    }
   ],
   "source": [
    "tupla"
   ]
  },
  {
   "cell_type": "markdown",
   "metadata": {},
   "source": [
    "* La siguiente celda creará un objeto a partir de ```pd.MultiIndex.from_tuples```."
   ]
  },
  {
   "cell_type": "code",
   "execution_count": 30,
   "metadata": {
    "scrolled": true
   },
   "outputs": [
    {
     "data": {
      "text/plain": [
       "MultiIndex([( 'Norte_I', 'jaguar'),\n",
       "            ( 'Norte_I', 'conejo'),\n",
       "            ( 'Norte_I',   'lobo'),\n",
       "            (   'Sur_I', 'jaguar'),\n",
       "            (   'Sur_I', 'conejo'),\n",
       "            (   'Sur_I',   'lobo'),\n",
       "            ('Centro_I', 'jaguar'),\n",
       "            ('Centro_I', 'conejo'),\n",
       "            ('Centro_I',   'lobo')],\n",
       "           names=['zona', 'animal'])"
      ]
     },
     "execution_count": 30,
     "metadata": {},
     "output_type": "execute_result"
    }
   ],
   "source": [
    "pd.MultiIndex.from_tuples(tupla, names=['zona', 'animal'])"
   ]
  },
  {
   "cell_type": "markdown",
   "metadata": {},
   "source": [
    "* A continuación se crearán objetos similares utilizando  ```pd.MultiIndex.from_product```."
   ]
  },
  {
   "cell_type": "code",
   "execution_count": 31,
   "metadata": {},
   "outputs": [
    {
     "data": {
      "text/plain": [
       "MultiIndex([( 'Norte_I', 'jaguar'),\n",
       "            ( 'Norte_I', 'conejo'),\n",
       "            ( 'Norte_I',   'lobo'),\n",
       "            (   'Sur_I', 'jaguar'),\n",
       "            (   'Sur_I', 'conejo'),\n",
       "            (   'Sur_I',   'lobo'),\n",
       "            ('Centro_I', 'jaguar'),\n",
       "            ('Centro_I', 'conejo'),\n",
       "            ('Centro_I',   'lobo')],\n",
       "           names=['zona', 'animal'])"
      ]
     },
     "execution_count": 31,
     "metadata": {},
     "output_type": "execute_result"
    }
   ],
   "source": [
    "pd.MultiIndex.from_product([('Norte_I', 'Sur_I', 'Centro_I'), \n",
    "                            ('jaguar', 'conejo', 'lobo')],\n",
    "                           names=['zona', 'animal'])"
   ]
  },
  {
   "cell_type": "markdown",
   "metadata": {},
   "source": [
    "* Del objeto anterior se definirán las columnas de un dataframe."
   ]
  },
  {
   "cell_type": "code",
   "execution_count": 32,
   "metadata": {},
   "outputs": [],
   "source": [
    "columnas = pd.MultiIndex.from_product([('Norte_I', 'Sur_I', 'Centro_I'),\n",
    "                                       ('jaguar', 'conejo', 'lobo')],\n",
    "                                     names=['zona', 'animal'])"
   ]
  },
  {
   "cell_type": "code",
   "execution_count": 33,
   "metadata": {},
   "outputs": [],
   "source": [
    "poblacion = pd.DataFrame([[12, 11, 24, 32, 15, 42, 35, 11, 35],\n",
    "                          [23, 22, 54, 3, 34, 24, 39, 29, 11],\n",
    "                          [35, 32, 67, 15, 42, 34, 46, 40, 13],\n",
    "                          [33, 43, 87, 11, 61, 42, 52, 41, 15],\n",
    "                          [44, 56, 98, 16, 70, 50, 57, 41, 17],\n",
    "                          [53, 62, 103, 21, 74, 54, 69, 55, 23]], \n",
    "                         index=('enero', 'febrero', 'marzo', 'abril', 'mayo', 'junio'),\n",
    "                         columns=columnas)"
   ]
  },
  {
   "cell_type": "code",
   "execution_count": 34,
   "metadata": {
    "scrolled": true
   },
   "outputs": [
    {
     "data": {
      "text/html": [
       "<div>\n",
       "<style scoped>\n",
       "    .dataframe tbody tr th:only-of-type {\n",
       "        vertical-align: middle;\n",
       "    }\n",
       "\n",
       "    .dataframe tbody tr th {\n",
       "        vertical-align: top;\n",
       "    }\n",
       "\n",
       "    .dataframe thead tr th {\n",
       "        text-align: left;\n",
       "    }\n",
       "</style>\n",
       "<table border=\"1\" class=\"dataframe\">\n",
       "  <thead>\n",
       "    <tr>\n",
       "      <th>zona</th>\n",
       "      <th colspan=\"3\" halign=\"left\">Norte_I</th>\n",
       "      <th colspan=\"3\" halign=\"left\">Sur_I</th>\n",
       "      <th colspan=\"3\" halign=\"left\">Centro_I</th>\n",
       "    </tr>\n",
       "    <tr>\n",
       "      <th>animal</th>\n",
       "      <th>jaguar</th>\n",
       "      <th>conejo</th>\n",
       "      <th>lobo</th>\n",
       "      <th>jaguar</th>\n",
       "      <th>conejo</th>\n",
       "      <th>lobo</th>\n",
       "      <th>jaguar</th>\n",
       "      <th>conejo</th>\n",
       "      <th>lobo</th>\n",
       "    </tr>\n",
       "  </thead>\n",
       "  <tbody>\n",
       "    <tr>\n",
       "      <th>enero</th>\n",
       "      <td>12</td>\n",
       "      <td>11</td>\n",
       "      <td>24</td>\n",
       "      <td>32</td>\n",
       "      <td>15</td>\n",
       "      <td>42</td>\n",
       "      <td>35</td>\n",
       "      <td>11</td>\n",
       "      <td>35</td>\n",
       "    </tr>\n",
       "    <tr>\n",
       "      <th>febrero</th>\n",
       "      <td>23</td>\n",
       "      <td>22</td>\n",
       "      <td>54</td>\n",
       "      <td>3</td>\n",
       "      <td>34</td>\n",
       "      <td>24</td>\n",
       "      <td>39</td>\n",
       "      <td>29</td>\n",
       "      <td>11</td>\n",
       "    </tr>\n",
       "    <tr>\n",
       "      <th>marzo</th>\n",
       "      <td>35</td>\n",
       "      <td>32</td>\n",
       "      <td>67</td>\n",
       "      <td>15</td>\n",
       "      <td>42</td>\n",
       "      <td>34</td>\n",
       "      <td>46</td>\n",
       "      <td>40</td>\n",
       "      <td>13</td>\n",
       "    </tr>\n",
       "    <tr>\n",
       "      <th>abril</th>\n",
       "      <td>33</td>\n",
       "      <td>43</td>\n",
       "      <td>87</td>\n",
       "      <td>11</td>\n",
       "      <td>61</td>\n",
       "      <td>42</td>\n",
       "      <td>52</td>\n",
       "      <td>41</td>\n",
       "      <td>15</td>\n",
       "    </tr>\n",
       "    <tr>\n",
       "      <th>mayo</th>\n",
       "      <td>44</td>\n",
       "      <td>56</td>\n",
       "      <td>98</td>\n",
       "      <td>16</td>\n",
       "      <td>70</td>\n",
       "      <td>50</td>\n",
       "      <td>57</td>\n",
       "      <td>41</td>\n",
       "      <td>17</td>\n",
       "    </tr>\n",
       "    <tr>\n",
       "      <th>junio</th>\n",
       "      <td>53</td>\n",
       "      <td>62</td>\n",
       "      <td>103</td>\n",
       "      <td>21</td>\n",
       "      <td>74</td>\n",
       "      <td>54</td>\n",
       "      <td>69</td>\n",
       "      <td>55</td>\n",
       "      <td>23</td>\n",
       "    </tr>\n",
       "  </tbody>\n",
       "</table>\n",
       "</div>"
      ],
      "text/plain": [
       "zona    Norte_I              Sur_I             Centro_I            \n",
       "animal   jaguar conejo lobo jaguar conejo lobo   jaguar conejo lobo\n",
       "enero        12     11   24     32     15   42       35     11   35\n",
       "febrero      23     22   54      3     34   24       39     29   11\n",
       "marzo        35     32   67     15     42   34       46     40   13\n",
       "abril        33     43   87     11     61   42       52     41   15\n",
       "mayo         44     56   98     16     70   50       57     41   17\n",
       "junio        53     62  103     21     74   54       69     55   23"
      ]
     },
     "execution_count": 34,
     "metadata": {},
     "output_type": "execute_result"
    }
   ],
   "source": [
    "poblacion"
   ]
  },
  {
   "cell_type": "markdown",
   "metadata": {},
   "source": [
    "## Indexado.\n",
    "\n",
    "El indexado de un índice se realiza mediante corchetes. El corchete inicial corresponde al nivel superior."
   ]
  },
  {
   "cell_type": "code",
   "execution_count": 35,
   "metadata": {},
   "outputs": [
    {
     "data": {
      "text/html": [
       "<div>\n",
       "<style scoped>\n",
       "    .dataframe tbody tr th:only-of-type {\n",
       "        vertical-align: middle;\n",
       "    }\n",
       "\n",
       "    .dataframe tbody tr th {\n",
       "        vertical-align: top;\n",
       "    }\n",
       "\n",
       "    .dataframe thead th {\n",
       "        text-align: right;\n",
       "    }\n",
       "</style>\n",
       "<table border=\"1\" class=\"dataframe\">\n",
       "  <thead>\n",
       "    <tr style=\"text-align: right;\">\n",
       "      <th>animal</th>\n",
       "      <th>jaguar</th>\n",
       "      <th>conejo</th>\n",
       "      <th>lobo</th>\n",
       "    </tr>\n",
       "  </thead>\n",
       "  <tbody>\n",
       "    <tr>\n",
       "      <th>enero</th>\n",
       "      <td>12</td>\n",
       "      <td>11</td>\n",
       "      <td>24</td>\n",
       "    </tr>\n",
       "    <tr>\n",
       "      <th>febrero</th>\n",
       "      <td>23</td>\n",
       "      <td>22</td>\n",
       "      <td>54</td>\n",
       "    </tr>\n",
       "    <tr>\n",
       "      <th>marzo</th>\n",
       "      <td>35</td>\n",
       "      <td>32</td>\n",
       "      <td>67</td>\n",
       "    </tr>\n",
       "    <tr>\n",
       "      <th>abril</th>\n",
       "      <td>33</td>\n",
       "      <td>43</td>\n",
       "      <td>87</td>\n",
       "    </tr>\n",
       "    <tr>\n",
       "      <th>mayo</th>\n",
       "      <td>44</td>\n",
       "      <td>56</td>\n",
       "      <td>98</td>\n",
       "    </tr>\n",
       "    <tr>\n",
       "      <th>junio</th>\n",
       "      <td>53</td>\n",
       "      <td>62</td>\n",
       "      <td>103</td>\n",
       "    </tr>\n",
       "  </tbody>\n",
       "</table>\n",
       "</div>"
      ],
      "text/plain": [
       "animal   jaguar  conejo  lobo\n",
       "enero        12      11    24\n",
       "febrero      23      22    54\n",
       "marzo        35      32    67\n",
       "abril        33      43    87\n",
       "mayo         44      56    98\n",
       "junio        53      62   103"
      ]
     },
     "execution_count": 35,
     "metadata": {},
     "output_type": "execute_result"
    }
   ],
   "source": [
    "poblacion['Norte_I']"
   ]
  },
  {
   "cell_type": "code",
   "execution_count": 36,
   "metadata": {},
   "outputs": [
    {
     "data": {
      "text/plain": [
       "enero      32\n",
       "febrero     3\n",
       "marzo      15\n",
       "abril      11\n",
       "mayo       16\n",
       "junio      21\n",
       "Name: jaguar, dtype: int64"
      ]
     },
     "execution_count": 36,
     "metadata": {},
     "output_type": "execute_result"
    }
   ],
   "source": [
    "poblacion['Sur_I']['jaguar']"
   ]
  },
  {
   "cell_type": "markdown",
   "metadata": {},
   "source": [
    "## El metódo ```pd.MultiIndex.droplevel()```.\n",
    "\n",
    "Este método elimina un nivel de un MultiIndex.\n",
    "\n",
    "```\n",
    "<objeto MultiIndex>.droplevel(<nivel>)\n",
    "```"
   ]
  },
  {
   "cell_type": "code",
   "execution_count": 37,
   "metadata": {},
   "outputs": [
    {
     "data": {
      "text/plain": [
       "MultiIndex([( 'Norte_I', 'jaguar'),\n",
       "            ( 'Norte_I', 'conejo'),\n",
       "            ( 'Norte_I',   'lobo'),\n",
       "            (   'Sur_I', 'jaguar'),\n",
       "            (   'Sur_I', 'conejo'),\n",
       "            (   'Sur_I',   'lobo'),\n",
       "            ('Centro_I', 'jaguar'),\n",
       "            ('Centro_I', 'conejo'),\n",
       "            ('Centro_I',   'lobo')],\n",
       "           names=['zona', 'animal'])"
      ]
     },
     "execution_count": 37,
     "metadata": {},
     "output_type": "execute_result"
    }
   ],
   "source": [
    "columnas"
   ]
  },
  {
   "cell_type": "code",
   "execution_count": 38,
   "metadata": {},
   "outputs": [
    {
     "data": {
      "text/plain": [
       "Index(['jaguar', 'conejo', 'lobo', 'jaguar', 'conejo', 'lobo', 'jaguar',\n",
       "       'conejo', 'lobo'],\n",
       "      dtype='object', name='animal')"
      ]
     },
     "execution_count": 38,
     "metadata": {},
     "output_type": "execute_result"
    }
   ],
   "source": [
    "columnas.droplevel(0)"
   ]
  },
  {
   "cell_type": "code",
   "execution_count": 39,
   "metadata": {},
   "outputs": [],
   "source": [
    "nuevas_cols = poblacion.columns.droplevel('zona')"
   ]
  },
  {
   "cell_type": "code",
   "execution_count": 40,
   "metadata": {},
   "outputs": [
    {
     "data": {
      "text/plain": [
       "Index(['jaguar', 'conejo', 'lobo', 'jaguar', 'conejo', 'lobo', 'jaguar',\n",
       "       'conejo', 'lobo'],\n",
       "      dtype='object', name='animal')"
      ]
     },
     "execution_count": 40,
     "metadata": {},
     "output_type": "execute_result"
    }
   ],
   "source": [
    "nuevas_cols"
   ]
  },
  {
   "cell_type": "code",
   "execution_count": 41,
   "metadata": {},
   "outputs": [],
   "source": [
    "poblacion.columns = nuevas_cols"
   ]
  },
  {
   "cell_type": "code",
   "execution_count": 42,
   "metadata": {},
   "outputs": [
    {
     "data": {
      "text/html": [
       "<div>\n",
       "<style scoped>\n",
       "    .dataframe tbody tr th:only-of-type {\n",
       "        vertical-align: middle;\n",
       "    }\n",
       "\n",
       "    .dataframe tbody tr th {\n",
       "        vertical-align: top;\n",
       "    }\n",
       "\n",
       "    .dataframe thead th {\n",
       "        text-align: right;\n",
       "    }\n",
       "</style>\n",
       "<table border=\"1\" class=\"dataframe\">\n",
       "  <thead>\n",
       "    <tr style=\"text-align: right;\">\n",
       "      <th>animal</th>\n",
       "      <th>jaguar</th>\n",
       "      <th>conejo</th>\n",
       "      <th>lobo</th>\n",
       "      <th>jaguar</th>\n",
       "      <th>conejo</th>\n",
       "      <th>lobo</th>\n",
       "      <th>jaguar</th>\n",
       "      <th>conejo</th>\n",
       "      <th>lobo</th>\n",
       "    </tr>\n",
       "  </thead>\n",
       "  <tbody>\n",
       "    <tr>\n",
       "      <th>enero</th>\n",
       "      <td>12</td>\n",
       "      <td>11</td>\n",
       "      <td>24</td>\n",
       "      <td>32</td>\n",
       "      <td>15</td>\n",
       "      <td>42</td>\n",
       "      <td>35</td>\n",
       "      <td>11</td>\n",
       "      <td>35</td>\n",
       "    </tr>\n",
       "    <tr>\n",
       "      <th>febrero</th>\n",
       "      <td>23</td>\n",
       "      <td>22</td>\n",
       "      <td>54</td>\n",
       "      <td>3</td>\n",
       "      <td>34</td>\n",
       "      <td>24</td>\n",
       "      <td>39</td>\n",
       "      <td>29</td>\n",
       "      <td>11</td>\n",
       "    </tr>\n",
       "    <tr>\n",
       "      <th>marzo</th>\n",
       "      <td>35</td>\n",
       "      <td>32</td>\n",
       "      <td>67</td>\n",
       "      <td>15</td>\n",
       "      <td>42</td>\n",
       "      <td>34</td>\n",
       "      <td>46</td>\n",
       "      <td>40</td>\n",
       "      <td>13</td>\n",
       "    </tr>\n",
       "    <tr>\n",
       "      <th>abril</th>\n",
       "      <td>33</td>\n",
       "      <td>43</td>\n",
       "      <td>87</td>\n",
       "      <td>11</td>\n",
       "      <td>61</td>\n",
       "      <td>42</td>\n",
       "      <td>52</td>\n",
       "      <td>41</td>\n",
       "      <td>15</td>\n",
       "    </tr>\n",
       "    <tr>\n",
       "      <th>mayo</th>\n",
       "      <td>44</td>\n",
       "      <td>56</td>\n",
       "      <td>98</td>\n",
       "      <td>16</td>\n",
       "      <td>70</td>\n",
       "      <td>50</td>\n",
       "      <td>57</td>\n",
       "      <td>41</td>\n",
       "      <td>17</td>\n",
       "    </tr>\n",
       "    <tr>\n",
       "      <th>junio</th>\n",
       "      <td>53</td>\n",
       "      <td>62</td>\n",
       "      <td>103</td>\n",
       "      <td>21</td>\n",
       "      <td>74</td>\n",
       "      <td>54</td>\n",
       "      <td>69</td>\n",
       "      <td>55</td>\n",
       "      <td>23</td>\n",
       "    </tr>\n",
       "  </tbody>\n",
       "</table>\n",
       "</div>"
      ],
      "text/plain": [
       "animal   jaguar  conejo  lobo  jaguar  conejo  lobo  jaguar  conejo  lobo\n",
       "enero        12      11    24      32      15    42      35      11    35\n",
       "febrero      23      22    54       3      34    24      39      29    11\n",
       "marzo        35      32    67      15      42    34      46      40    13\n",
       "abril        33      43    87      11      61    42      52      41    15\n",
       "mayo         44      56    98      16      70    50      57      41    17\n",
       "junio        53      62   103      21      74    54      69      55    23"
      ]
     },
     "execution_count": 42,
     "metadata": {},
     "output_type": "execute_result"
    }
   ],
   "source": [
    "poblacion"
   ]
  },
  {
   "cell_type": "code",
   "execution_count": 43,
   "metadata": {},
   "outputs": [
    {
     "data": {
      "text/html": [
       "<div>\n",
       "<style scoped>\n",
       "    .dataframe tbody tr th:only-of-type {\n",
       "        vertical-align: middle;\n",
       "    }\n",
       "\n",
       "    .dataframe tbody tr th {\n",
       "        vertical-align: top;\n",
       "    }\n",
       "\n",
       "    .dataframe thead th {\n",
       "        text-align: right;\n",
       "    }\n",
       "</style>\n",
       "<table border=\"1\" class=\"dataframe\">\n",
       "  <thead>\n",
       "    <tr style=\"text-align: right;\">\n",
       "      <th>animal</th>\n",
       "      <th>jaguar</th>\n",
       "      <th>jaguar</th>\n",
       "      <th>jaguar</th>\n",
       "    </tr>\n",
       "  </thead>\n",
       "  <tbody>\n",
       "    <tr>\n",
       "      <th>enero</th>\n",
       "      <td>12</td>\n",
       "      <td>32</td>\n",
       "      <td>35</td>\n",
       "    </tr>\n",
       "    <tr>\n",
       "      <th>febrero</th>\n",
       "      <td>23</td>\n",
       "      <td>3</td>\n",
       "      <td>39</td>\n",
       "    </tr>\n",
       "    <tr>\n",
       "      <th>marzo</th>\n",
       "      <td>35</td>\n",
       "      <td>15</td>\n",
       "      <td>46</td>\n",
       "    </tr>\n",
       "    <tr>\n",
       "      <th>abril</th>\n",
       "      <td>33</td>\n",
       "      <td>11</td>\n",
       "      <td>52</td>\n",
       "    </tr>\n",
       "    <tr>\n",
       "      <th>mayo</th>\n",
       "      <td>44</td>\n",
       "      <td>16</td>\n",
       "      <td>57</td>\n",
       "    </tr>\n",
       "    <tr>\n",
       "      <th>junio</th>\n",
       "      <td>53</td>\n",
       "      <td>21</td>\n",
       "      <td>69</td>\n",
       "    </tr>\n",
       "  </tbody>\n",
       "</table>\n",
       "</div>"
      ],
      "text/plain": [
       "animal   jaguar  jaguar  jaguar\n",
       "enero        12      32      35\n",
       "febrero      23       3      39\n",
       "marzo        35      15      46\n",
       "abril        33      11      52\n",
       "mayo         44      16      57\n",
       "junio        53      21      69"
      ]
     },
     "execution_count": 43,
     "metadata": {},
     "output_type": "execute_result"
    }
   ],
   "source": [
    "poblacion['jaguar']"
   ]
  },
  {
   "cell_type": "markdown",
   "metadata": {},
   "source": [
    "<p style=\"text-align: center\"><a rel=\"license\" href=\"http://creativecommons.org/licenses/by/4.0/\"><img alt=\"Licencia Creative Commons\" style=\"border-width:0\" src=\"https://i.creativecommons.org/l/by/4.0/80x15.png\" /></a><br />Esta obra está bajo una <a rel=\"license\" href=\"http://creativecommons.org/licenses/by/4.0/\">Licencia Creative Commons Atribución 4.0 Internacional</a>.</p>\n",
    "<p style=\"text-align: center\">&copy; José Luis Chiquete Valdivieso. 2019.</p>"
   ]
  }
 ],
 "metadata": {
  "kernelspec": {
   "display_name": "Python 3",
   "language": "python",
   "name": "python3"
  },
  "language_info": {
   "codemirror_mode": {
    "name": "ipython",
    "version": 3
   },
   "file_extension": ".py",
   "mimetype": "text/x-python",
   "name": "python",
   "nbconvert_exporter": "python",
   "pygments_lexer": "ipython3",
   "version": "3.7.3"
  }
 },
 "nbformat": 4,
 "nbformat_minor": 2
}
