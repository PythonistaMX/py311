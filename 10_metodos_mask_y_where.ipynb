{
 "cells": [
  {
   "cell_type": "markdown",
   "metadata": {},
   "source": [
    "[![imagenes/pythonista.png](imagenes/pythonista.png)](https://pythonista.io)"
   ]
  },
  {
   "cell_type": "markdown",
   "metadata": {},
   "source": [
    "# Los métodos ```mask()``` y ```where()```."
   ]
  },
  {
   "cell_type": "code",
   "execution_count": 6,
   "metadata": {},
   "outputs": [],
   "source": [
    "import pandas as pd"
   ]
  },
  {
   "cell_type": "markdown",
   "metadata": {},
   "source": [
    "En este capítulo se explorarán los métodos que permiten sustituir los valores de un arreglo mediante otro arreglo con valores booleanos."
   ]
  },
  {
   "cell_type": "markdown",
   "metadata": {},
   "source": [
    "## Enmascaramiento.\n",
    "\n",
    "Se entiende por \"enmascaramiento\" la sustitución por un valor determinado de los elementos de una serie o dataframe de *Pandas* al aplicar otro dataframe o serie de tamaño idéntico que contiene valores booleanos.\n"
   ]
  },
  {
   "cell_type": "markdown",
   "metadata": {},
   "source": [
    "## El método ```mask()```.\n",
    "\n",
    "El método ```mask()``` permite sutituir por un valor predeterminado a aquellos elementos cuya contraparte en el objeto usado como máscara sea ```True```.\n",
    "\n",
    "```\n",
    "<objeto>.mask(<objeto máscara>, <valor>)\n",
    "```\n",
    "\n",
    "Donde:\n",
    "\n",
    "* ```<objeto>``` es una serie o un dataframe.\n",
    "* ```<objeto máscara>``` es una serie o un dataframe de dimensiones idénticas a ```<objeto>``` donde todos su elementos son de tipo ```bool```.\n",
    "* ```valor``` es el valor que sutituirá a aquellos elementos en ```<objeto>``` cuya contraparte en ```<objeto máscara>``` sea ```True```.\n"
   ]
  },
  {
   "cell_type": "markdown",
   "metadata": {},
   "source": [
    "**Ejemplo:**"
   ]
  },
  {
   "cell_type": "markdown",
   "metadata": {},
   "source": [
    "* Se creará el dataframe ```poblacion_depredadores````."
   ]
  },
  {
   "cell_type": "code",
   "execution_count": 9,
   "metadata": {},
   "outputs": [],
   "source": [
    "indice = ('lobo', 'jaguar', 'coyote', 'halcón', 'lechuza', 'aguila')\n",
    "poblacion_depredadores = pd.DataFrame({'Norte-1':(25,\n",
    "                                                0,\n",
    "                                                45,\n",
    "                                                23,\n",
    "                                                67,\n",
    "                                                12),\n",
    "                                     'Norte-2':(31,\n",
    "                                                0,\n",
    "                                                23,\n",
    "                                                3,\n",
    "                                                34,\n",
    "                                                 2),\n",
    "                                     'Sureste-1':(0,\n",
    "                                                  4,\n",
    "                                                  3,\n",
    "                                                  1,\n",
    "                                                  1,\n",
    "                                                  2),\n",
    "                                     'Sureste-2':(2,\n",
    "                                                 0,\n",
    "                                                 12,\n",
    "                                                 23,\n",
    "                                                 11,\n",
    "                                                 2)},\n",
    "                                   index=indice)"
   ]
  },
  {
   "cell_type": "code",
   "execution_count": 10,
   "metadata": {},
   "outputs": [
    {
     "data": {
      "text/html": [
       "<div>\n",
       "<style scoped>\n",
       "    .dataframe tbody tr th:only-of-type {\n",
       "        vertical-align: middle;\n",
       "    }\n",
       "\n",
       "    .dataframe tbody tr th {\n",
       "        vertical-align: top;\n",
       "    }\n",
       "\n",
       "    .dataframe thead th {\n",
       "        text-align: right;\n",
       "    }\n",
       "</style>\n",
       "<table border=\"1\" class=\"dataframe\">\n",
       "  <thead>\n",
       "    <tr style=\"text-align: right;\">\n",
       "      <th></th>\n",
       "      <th>Norte-1</th>\n",
       "      <th>Norte-2</th>\n",
       "      <th>Sureste-1</th>\n",
       "      <th>Sureste-2</th>\n",
       "    </tr>\n",
       "  </thead>\n",
       "  <tbody>\n",
       "    <tr>\n",
       "      <th>lobo</th>\n",
       "      <td>25</td>\n",
       "      <td>31</td>\n",
       "      <td>0</td>\n",
       "      <td>2</td>\n",
       "    </tr>\n",
       "    <tr>\n",
       "      <th>jaguar</th>\n",
       "      <td>0</td>\n",
       "      <td>0</td>\n",
       "      <td>4</td>\n",
       "      <td>0</td>\n",
       "    </tr>\n",
       "    <tr>\n",
       "      <th>coyote</th>\n",
       "      <td>45</td>\n",
       "      <td>23</td>\n",
       "      <td>3</td>\n",
       "      <td>12</td>\n",
       "    </tr>\n",
       "    <tr>\n",
       "      <th>halcón</th>\n",
       "      <td>23</td>\n",
       "      <td>3</td>\n",
       "      <td>1</td>\n",
       "      <td>23</td>\n",
       "    </tr>\n",
       "    <tr>\n",
       "      <th>lechuza</th>\n",
       "      <td>67</td>\n",
       "      <td>34</td>\n",
       "      <td>1</td>\n",
       "      <td>11</td>\n",
       "    </tr>\n",
       "    <tr>\n",
       "      <th>aguila</th>\n",
       "      <td>12</td>\n",
       "      <td>2</td>\n",
       "      <td>2</td>\n",
       "      <td>2</td>\n",
       "    </tr>\n",
       "  </tbody>\n",
       "</table>\n",
       "</div>"
      ],
      "text/plain": [
       "         Norte-1  Norte-2  Sureste-1  Sureste-2\n",
       "lobo          25       31          0          2\n",
       "jaguar         0        0          4          0\n",
       "coyote        45       23          3         12\n",
       "halcón        23        3          1         23\n",
       "lechuza       67       34          1         11\n",
       "aguila        12        2          2          2"
      ]
     },
     "execution_count": 10,
     "metadata": {},
     "output_type": "execute_result"
    }
   ],
   "source": [
    "poblacion_depredadores"
   ]
  },
  {
   "cell_type": "markdown",
   "metadata": {},
   "source": [
    "* Se creará el dataframe ```poblacion_evaluada``` validando si cada elemento del ```poblacion_depredadores``` es igual a cero."
   ]
  },
  {
   "cell_type": "code",
   "execution_count": 4,
   "metadata": {},
   "outputs": [],
   "source": [
    "poblacion_evaluada = poblacion_depredadores == 0"
   ]
  },
  {
   "cell_type": "code",
   "execution_count": 5,
   "metadata": {},
   "outputs": [
    {
     "data": {
      "text/html": [
       "<div>\n",
       "<style scoped>\n",
       "    .dataframe tbody tr th:only-of-type {\n",
       "        vertical-align: middle;\n",
       "    }\n",
       "\n",
       "    .dataframe tbody tr th {\n",
       "        vertical-align: top;\n",
       "    }\n",
       "\n",
       "    .dataframe thead th {\n",
       "        text-align: right;\n",
       "    }\n",
       "</style>\n",
       "<table border=\"1\" class=\"dataframe\">\n",
       "  <thead>\n",
       "    <tr style=\"text-align: right;\">\n",
       "      <th></th>\n",
       "      <th>Norte-1</th>\n",
       "      <th>Norte-2</th>\n",
       "      <th>Sureste-1</th>\n",
       "      <th>Sureste-2</th>\n",
       "    </tr>\n",
       "  </thead>\n",
       "  <tbody>\n",
       "    <tr>\n",
       "      <th>lobo</th>\n",
       "      <td>False</td>\n",
       "      <td>False</td>\n",
       "      <td>True</td>\n",
       "      <td>False</td>\n",
       "    </tr>\n",
       "    <tr>\n",
       "      <th>jaguar</th>\n",
       "      <td>True</td>\n",
       "      <td>True</td>\n",
       "      <td>False</td>\n",
       "      <td>True</td>\n",
       "    </tr>\n",
       "    <tr>\n",
       "      <th>coyote</th>\n",
       "      <td>False</td>\n",
       "      <td>False</td>\n",
       "      <td>False</td>\n",
       "      <td>False</td>\n",
       "    </tr>\n",
       "    <tr>\n",
       "      <th>halcón</th>\n",
       "      <td>False</td>\n",
       "      <td>False</td>\n",
       "      <td>False</td>\n",
       "      <td>False</td>\n",
       "    </tr>\n",
       "    <tr>\n",
       "      <th>lechuza</th>\n",
       "      <td>False</td>\n",
       "      <td>False</td>\n",
       "      <td>False</td>\n",
       "      <td>False</td>\n",
       "    </tr>\n",
       "    <tr>\n",
       "      <th>aguila</th>\n",
       "      <td>False</td>\n",
       "      <td>False</td>\n",
       "      <td>False</td>\n",
       "      <td>False</td>\n",
       "    </tr>\n",
       "  </tbody>\n",
       "</table>\n",
       "</div>"
      ],
      "text/plain": [
       "         Norte-1  Norte-2  Sureste-1  Sureste-2\n",
       "lobo       False    False       True      False\n",
       "jaguar      True     True      False       True\n",
       "coyote     False    False      False      False\n",
       "halcón     False    False      False      False\n",
       "lechuza    False    False      False      False\n",
       "aguila     False    False      False      False"
      ]
     },
     "execution_count": 5,
     "metadata": {},
     "output_type": "execute_result"
    }
   ],
   "source": [
    "poblacion_evaluada"
   ]
  },
  {
   "cell_type": "markdown",
   "metadata": {},
   "source": [
    "* La siguiente celda sustiruirá por ```'extinto'``` aquellos valores en ```poblacion_depredadores``` que correspondan a ```True``` en la contraparte de ```poblacion_evaluada```."
   ]
  },
  {
   "cell_type": "code",
   "execution_count": 11,
   "metadata": {},
   "outputs": [
    {
     "data": {
      "text/html": [
       "<div>\n",
       "<style scoped>\n",
       "    .dataframe tbody tr th:only-of-type {\n",
       "        vertical-align: middle;\n",
       "    }\n",
       "\n",
       "    .dataframe tbody tr th {\n",
       "        vertical-align: top;\n",
       "    }\n",
       "\n",
       "    .dataframe thead th {\n",
       "        text-align: right;\n",
       "    }\n",
       "</style>\n",
       "<table border=\"1\" class=\"dataframe\">\n",
       "  <thead>\n",
       "    <tr style=\"text-align: right;\">\n",
       "      <th></th>\n",
       "      <th>Norte-1</th>\n",
       "      <th>Norte-2</th>\n",
       "      <th>Sureste-1</th>\n",
       "      <th>Sureste-2</th>\n",
       "    </tr>\n",
       "  </thead>\n",
       "  <tbody>\n",
       "    <tr>\n",
       "      <th>lobo</th>\n",
       "      <td>25</td>\n",
       "      <td>31</td>\n",
       "      <td>extinto</td>\n",
       "      <td>2</td>\n",
       "    </tr>\n",
       "    <tr>\n",
       "      <th>jaguar</th>\n",
       "      <td>extinto</td>\n",
       "      <td>extinto</td>\n",
       "      <td>4</td>\n",
       "      <td>extinto</td>\n",
       "    </tr>\n",
       "    <tr>\n",
       "      <th>coyote</th>\n",
       "      <td>45</td>\n",
       "      <td>23</td>\n",
       "      <td>3</td>\n",
       "      <td>12</td>\n",
       "    </tr>\n",
       "    <tr>\n",
       "      <th>halcón</th>\n",
       "      <td>23</td>\n",
       "      <td>3</td>\n",
       "      <td>1</td>\n",
       "      <td>23</td>\n",
       "    </tr>\n",
       "    <tr>\n",
       "      <th>lechuza</th>\n",
       "      <td>67</td>\n",
       "      <td>34</td>\n",
       "      <td>1</td>\n",
       "      <td>11</td>\n",
       "    </tr>\n",
       "    <tr>\n",
       "      <th>aguila</th>\n",
       "      <td>12</td>\n",
       "      <td>2</td>\n",
       "      <td>2</td>\n",
       "      <td>2</td>\n",
       "    </tr>\n",
       "  </tbody>\n",
       "</table>\n",
       "</div>"
      ],
      "text/plain": [
       "         Norte-1  Norte-2 Sureste-1 Sureste-2\n",
       "lobo          25       31   extinto         2\n",
       "jaguar   extinto  extinto         4   extinto\n",
       "coyote        45       23         3        12\n",
       "halcón        23        3         1        23\n",
       "lechuza       67       34         1        11\n",
       "aguila        12        2         2         2"
      ]
     },
     "execution_count": 11,
     "metadata": {},
     "output_type": "execute_result"
    }
   ],
   "source": [
    "poblacion_depredadores.mask(poblacion_evaluada, 'extinto')"
   ]
  },
  {
   "cell_type": "markdown",
   "metadata": {},
   "source": [
    "## El método *where()*.\n",
    "\n",
    "\n",
    "El método ```WHERE()``` permite sutituir por un valor predeterminado a aquellos elementos cuya contraparte en el objeto usado como máscara sea ```False```.\n",
    "\n",
    "```\n",
    "<objeto>.where(<objeto máscara>, <valor>)\n",
    "```\n",
    "\n",
    "Donde:\n",
    "\n",
    "* ```<objeto>``` es una serie o un dataframe.\n",
    "* ```<objeto máscara>``` es una serie o un dataframe de dimensiones idénticas a ```<objeto>``` donde todos su elementos son de tipo ```bool```.\n",
    "* ```valor``` es el valor que sutituirá a aquellos elementos en ```<objeto>``` cuya contraparte en ```<objeto máscara>``` sea ```Flase```.\n"
   ]
  },
  {
   "cell_type": "markdown",
   "metadata": {},
   "source": [
    "**Ejemplo:**"
   ]
  },
  {
   "cell_type": "markdown",
   "metadata": {},
   "source": [
    "* La siguiente celda sustituirá por ```'sin riesgo'``` a aquellos elementos cuyo valor sea mayor o igual ```10```."
   ]
  },
  {
   "cell_type": "code",
   "execution_count": 13,
   "metadata": {},
   "outputs": [
    {
     "data": {
      "text/html": [
       "<div>\n",
       "<style scoped>\n",
       "    .dataframe tbody tr th:only-of-type {\n",
       "        vertical-align: middle;\n",
       "    }\n",
       "\n",
       "    .dataframe tbody tr th {\n",
       "        vertical-align: top;\n",
       "    }\n",
       "\n",
       "    .dataframe thead th {\n",
       "        text-align: right;\n",
       "    }\n",
       "</style>\n",
       "<table border=\"1\" class=\"dataframe\">\n",
       "  <thead>\n",
       "    <tr style=\"text-align: right;\">\n",
       "      <th></th>\n",
       "      <th>Norte-1</th>\n",
       "      <th>Norte-2</th>\n",
       "      <th>Sureste-1</th>\n",
       "      <th>Sureste-2</th>\n",
       "    </tr>\n",
       "  </thead>\n",
       "  <tbody>\n",
       "    <tr>\n",
       "      <th>lobo</th>\n",
       "      <td>sin riesgo</td>\n",
       "      <td>sin riesgo</td>\n",
       "      <td>0</td>\n",
       "      <td>2</td>\n",
       "    </tr>\n",
       "    <tr>\n",
       "      <th>jaguar</th>\n",
       "      <td>0</td>\n",
       "      <td>0</td>\n",
       "      <td>4</td>\n",
       "      <td>0</td>\n",
       "    </tr>\n",
       "    <tr>\n",
       "      <th>coyote</th>\n",
       "      <td>sin riesgo</td>\n",
       "      <td>sin riesgo</td>\n",
       "      <td>3</td>\n",
       "      <td>sin riesgo</td>\n",
       "    </tr>\n",
       "    <tr>\n",
       "      <th>halcón</th>\n",
       "      <td>sin riesgo</td>\n",
       "      <td>3</td>\n",
       "      <td>1</td>\n",
       "      <td>sin riesgo</td>\n",
       "    </tr>\n",
       "    <tr>\n",
       "      <th>lechuza</th>\n",
       "      <td>sin riesgo</td>\n",
       "      <td>sin riesgo</td>\n",
       "      <td>1</td>\n",
       "      <td>sin riesgo</td>\n",
       "    </tr>\n",
       "    <tr>\n",
       "      <th>aguila</th>\n",
       "      <td>sin riesgo</td>\n",
       "      <td>2</td>\n",
       "      <td>2</td>\n",
       "      <td>2</td>\n",
       "    </tr>\n",
       "  </tbody>\n",
       "</table>\n",
       "</div>"
      ],
      "text/plain": [
       "            Norte-1     Norte-2  Sureste-1   Sureste-2\n",
       "lobo     sin riesgo  sin riesgo          0           2\n",
       "jaguar            0           0          4           0\n",
       "coyote   sin riesgo  sin riesgo          3  sin riesgo\n",
       "halcón   sin riesgo           3          1  sin riesgo\n",
       "lechuza  sin riesgo  sin riesgo          1  sin riesgo\n",
       "aguila   sin riesgo           2          2           2"
      ]
     },
     "execution_count": 13,
     "metadata": {},
     "output_type": "execute_result"
    }
   ],
   "source": [
    "poblacion_depredadores.where(poblacion_depredadores < 10, 'sin riesgo')"
   ]
  },
  {
   "cell_type": "markdown",
   "metadata": {},
   "source": [
    "## Ejemplo de combinación de ```mask()``` y where```()```."
   ]
  },
  {
   "cell_type": "markdown",
   "metadata": {},
   "source": [
    "* La siguiente celda sustituirá por ```'sin riesgo'``` a aquellos elementos cuyo valor sea mayor o igual ```10``` y sustituirá por ```'amenazado'``` a aquellos elementos cuyo valor sea menor a ```10```."
   ]
  },
  {
   "cell_type": "code",
   "execution_count": 15,
   "metadata": {},
   "outputs": [
    {
     "data": {
      "text/html": [
       "<div>\n",
       "<style scoped>\n",
       "    .dataframe tbody tr th:only-of-type {\n",
       "        vertical-align: middle;\n",
       "    }\n",
       "\n",
       "    .dataframe tbody tr th {\n",
       "        vertical-align: top;\n",
       "    }\n",
       "\n",
       "    .dataframe thead th {\n",
       "        text-align: right;\n",
       "    }\n",
       "</style>\n",
       "<table border=\"1\" class=\"dataframe\">\n",
       "  <thead>\n",
       "    <tr style=\"text-align: right;\">\n",
       "      <th></th>\n",
       "      <th>Norte-1</th>\n",
       "      <th>Norte-2</th>\n",
       "      <th>Sureste-1</th>\n",
       "      <th>Sureste-2</th>\n",
       "    </tr>\n",
       "  </thead>\n",
       "  <tbody>\n",
       "    <tr>\n",
       "      <th>lobo</th>\n",
       "      <td>sin riesgo</td>\n",
       "      <td>sin riesgo</td>\n",
       "      <td>amenazados</td>\n",
       "      <td>amenazados</td>\n",
       "    </tr>\n",
       "    <tr>\n",
       "      <th>jaguar</th>\n",
       "      <td>amenazados</td>\n",
       "      <td>amenazados</td>\n",
       "      <td>amenazados</td>\n",
       "      <td>amenazados</td>\n",
       "    </tr>\n",
       "    <tr>\n",
       "      <th>coyote</th>\n",
       "      <td>sin riesgo</td>\n",
       "      <td>sin riesgo</td>\n",
       "      <td>amenazados</td>\n",
       "      <td>sin riesgo</td>\n",
       "    </tr>\n",
       "    <tr>\n",
       "      <th>halcón</th>\n",
       "      <td>sin riesgo</td>\n",
       "      <td>amenazados</td>\n",
       "      <td>amenazados</td>\n",
       "      <td>sin riesgo</td>\n",
       "    </tr>\n",
       "    <tr>\n",
       "      <th>lechuza</th>\n",
       "      <td>sin riesgo</td>\n",
       "      <td>sin riesgo</td>\n",
       "      <td>amenazados</td>\n",
       "      <td>sin riesgo</td>\n",
       "    </tr>\n",
       "    <tr>\n",
       "      <th>aguila</th>\n",
       "      <td>sin riesgo</td>\n",
       "      <td>amenazados</td>\n",
       "      <td>amenazados</td>\n",
       "      <td>amenazados</td>\n",
       "    </tr>\n",
       "  </tbody>\n",
       "</table>\n",
       "</div>"
      ],
      "text/plain": [
       "            Norte-1     Norte-2   Sureste-1   Sureste-2\n",
       "lobo     sin riesgo  sin riesgo  amenazados  amenazados\n",
       "jaguar   amenazados  amenazados  amenazados  amenazados\n",
       "coyote   sin riesgo  sin riesgo  amenazados  sin riesgo\n",
       "halcón   sin riesgo  amenazados  amenazados  sin riesgo\n",
       "lechuza  sin riesgo  sin riesgo  amenazados  sin riesgo\n",
       "aguila   sin riesgo  amenazados  amenazados  amenazados"
      ]
     },
     "execution_count": 15,
     "metadata": {},
     "output_type": "execute_result"
    }
   ],
   "source": [
    "poblacion_depredadores.where(poblacion_depredadores < 10, 'sin riesgo').mask(poblacion_depredadores < 10, 'amenazados')"
   ]
  },
  {
   "cell_type": "markdown",
   "metadata": {},
   "source": [
    "* La siguiente celda usará los métodos ```filter()```, ```where()``` y ```mask()``` para aplicar el criterio del ejemplo previo, pero sólo a la columna ```'Sureste-2```."
   ]
  },
  {
   "cell_type": "code",
   "execution_count": 17,
   "metadata": {},
   "outputs": [
    {
     "data": {
      "text/html": [
       "<div>\n",
       "<style scoped>\n",
       "    .dataframe tbody tr th:only-of-type {\n",
       "        vertical-align: middle;\n",
       "    }\n",
       "\n",
       "    .dataframe tbody tr th {\n",
       "        vertical-align: top;\n",
       "    }\n",
       "\n",
       "    .dataframe thead th {\n",
       "        text-align: right;\n",
       "    }\n",
       "</style>\n",
       "<table border=\"1\" class=\"dataframe\">\n",
       "  <thead>\n",
       "    <tr style=\"text-align: right;\">\n",
       "      <th></th>\n",
       "      <th>Sureste-2</th>\n",
       "    </tr>\n",
       "  </thead>\n",
       "  <tbody>\n",
       "    <tr>\n",
       "      <th>lobo</th>\n",
       "      <td>amenazados</td>\n",
       "    </tr>\n",
       "    <tr>\n",
       "      <th>jaguar</th>\n",
       "      <td>amenazados</td>\n",
       "    </tr>\n",
       "    <tr>\n",
       "      <th>coyote</th>\n",
       "      <td>sin riesgo</td>\n",
       "    </tr>\n",
       "    <tr>\n",
       "      <th>halcón</th>\n",
       "      <td>sin riesgo</td>\n",
       "    </tr>\n",
       "    <tr>\n",
       "      <th>lechuza</th>\n",
       "      <td>sin riesgo</td>\n",
       "    </tr>\n",
       "    <tr>\n",
       "      <th>aguila</th>\n",
       "      <td>amenazados</td>\n",
       "    </tr>\n",
       "  </tbody>\n",
       "</table>\n",
       "</div>"
      ],
      "text/plain": [
       "          Sureste-2\n",
       "lobo     amenazados\n",
       "jaguar   amenazados\n",
       "coyote   sin riesgo\n",
       "halcón   sin riesgo\n",
       "lechuza  sin riesgo\n",
       "aguila   amenazados"
      ]
     },
     "execution_count": 17,
     "metadata": {},
     "output_type": "execute_result"
    }
   ],
   "source": [
    "poblacion_depredadores.filter(items=['Sureste-2']).where(poblacion_depredadores < 10, 'sin riesgo').mask(poblacion_depredadores < 10, 'amenazados')"
   ]
  },
  {
   "cell_type": "markdown",
   "metadata": {},
   "source": [
    "<p style=\"text-align: center\"><a rel=\"license\" href=\"http://creativecommons.org/licenses/by/4.0/\"><img alt=\"Licencia Creative Commons\" style=\"border-width:0\" src=\"https://i.creativecommons.org/l/by/4.0/80x15.png\" /></a><br />Esta obra está bajo una <a rel=\"license\" href=\"http://creativecommons.org/licenses/by/4.0/\">Licencia Creative Commons Atribución 4.0 Internacional</a>.</p>\n",
    "<p style=\"text-align: center\">&copy; José Luis Chiquete Valdivieso. 2019.</p>"
   ]
  }
 ],
 "metadata": {
  "kernelspec": {
   "display_name": "Python 3",
   "language": "python",
   "name": "python3"
  },
  "language_info": {
   "codemirror_mode": {
    "name": "ipython",
    "version": 3
   },
   "file_extension": ".py",
   "mimetype": "text/x-python",
   "name": "python",
   "nbconvert_exporter": "python",
   "pygments_lexer": "ipython3",
   "version": "3.7.3"
  }
 },
 "nbformat": 4,
 "nbformat_minor": 2
}
