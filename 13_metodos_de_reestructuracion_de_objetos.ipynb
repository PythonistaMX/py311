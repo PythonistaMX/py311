{
 "cells": [
  {
   "cell_type": "markdown",
   "metadata": {},
   "source": [
    "[![imagenes/pythonista.png](imagenes/pythonista.png)](https://pythonista.io)"
   ]
  },
  {
   "cell_type": "markdown",
   "metadata": {},
   "source": [
    "## Dataframes Ilustrativo."
   ]
  },
  {
   "cell_type": "code",
   "execution_count": null,
   "metadata": {},
   "outputs": [],
   "source": [
    "import pandas as pd\n",
    "import numpy as np"
   ]
  },
  {
   "cell_type": "code",
   "execution_count": null,
   "metadata": {},
   "outputs": [],
   "source": [
    "poblacion = pd.DataFrame({'Animal':('lobo',\n",
    "                                   'coyote',\n",
    "                                   'jaguar',\n",
    "                                   'cerdo salvaje',\n",
    "                                    'tapir',\n",
    "                                    'venado',\n",
    "                                    'ocelote',\n",
    "                                    'puma'),\n",
    "                         'Norte_I':(12,\n",
    "                                   np.NAN,\n",
    "                                    None,\n",
    "                                    2,\n",
    "                                    4,\n",
    "                                    2,\n",
    "                                    14,\n",
    "                                    5\n",
    "                                   ),\n",
    "                          'Norte_II':(23,\n",
    "                                    4,\n",
    "                                    25,\n",
    "                                    21,\n",
    "                                    9,\n",
    "                                    121,\n",
    "                                    1,\n",
    "                                    2\n",
    "                                   ),\n",
    "                         'Centro_I':(15,\n",
    "                                    23,\n",
    "                                    2,\n",
    "                                    120,\n",
    "                                    40,\n",
    "                                    121,\n",
    "                                    0,\n",
    "                                    5),\n",
    "                         'Sur_I':(28,\n",
    "                                  46,\n",
    "                                  14,\n",
    "                                  156,\n",
    "                                  79,\n",
    "                                  12,\n",
    "                                  2,\n",
    "                                  np.NAN)}).set_index('Animal')"
   ]
  },
  {
   "cell_type": "code",
   "execution_count": null,
   "metadata": {},
   "outputs": [],
   "source": [
    "poblacion"
   ]
  },
  {
   "cell_type": "markdown",
   "metadata": {},
   "source": [
    "## El método *melt()*.\n",
    "\n",
    "Este metódo modifica la esrtuctura de un dataframe identifando dos elementos:\n",
    "* identificadores.\n",
    "* variables."
   ]
  },
  {
   "cell_type": "code",
   "execution_count": null,
   "metadata": {},
   "outputs": [],
   "source": [
    "pd.melt(poblaciones, id_vars=[\"animal\", \"region\"], value_vars=[\"poblacion\"])"
   ]
  },
  {
   "cell_type": "markdown",
   "metadata": {},
   "source": [
    "## El método *stack()*.\n",
    "\n",
    "Este método transforma a un dataframe en un conjunto de series.\n",
    "\n",
    "Lasd series resultantes cuentan con más de un índice y por eso se conocen como *MultiIndex*."
   ]
  },
  {
   "cell_type": "code",
   "execution_count": null,
   "metadata": {},
   "outputs": [],
   "source": [
    "poblacion"
   ]
  },
  {
   "cell_type": "code",
   "execution_count": null,
   "metadata": {},
   "outputs": [],
   "source": [
    "serie_poblacion = poblacion.stack()"
   ]
  },
  {
   "cell_type": "code",
   "execution_count": null,
   "metadata": {},
   "outputs": [],
   "source": [
    "serie_poblacion "
   ]
  },
  {
   "cell_type": "code",
   "execution_count": null,
   "metadata": {},
   "outputs": [],
   "source": [
    "type(poblacion.stack())"
   ]
  },
  {
   "cell_type": "code",
   "execution_count": null,
   "metadata": {},
   "outputs": [],
   "source": [
    "serie_poblacion.index"
   ]
  },
  {
   "cell_type": "code",
   "execution_count": null,
   "metadata": {},
   "outputs": [],
   "source": [
    "serie_poblacion['lobo']"
   ]
  },
  {
   "cell_type": "code",
   "execution_count": null,
   "metadata": {},
   "outputs": [],
   "source": [
    "serie_poblacion['lobo']['Norte_I']"
   ]
  },
  {
   "cell_type": "markdown",
   "metadata": {},
   "source": [
    "## El método *unstack()*\n",
    "\n",
    "Convierte una serie creada con el método *stack()* en un dataframe."
   ]
  },
  {
   "cell_type": "code",
   "execution_count": null,
   "metadata": {},
   "outputs": [],
   "source": [
    "serie_poblacion.unstack()"
   ]
  },
  {
   "cell_type": "markdown",
   "metadata": {},
   "source": [
    "## El método *pivot()*.\n",
    "\n",
    "Este método permite crear estructuras de dataframes a partir de columnas de otro dataframe.\n",
    "\n",
    "```\n",
    "<dataframe>.pivot(columns=<identificador de columna 1>, index=<identificador de columna 2>, values=<identificador de columna 2>)\n",
    "```\n",
    "\n",
    "**NOTA:** Los valores que se utilziarán para crear ewn unevo datavrame deben de ser del mismo tamaño."
   ]
  },
  {
   "cell_type": "code",
   "execution_count": null,
   "metadata": {},
   "outputs": [],
   "source": [
    "observaciones = pd.DataFrame({'region':('Norte', 'Norte', 'Norte',\n",
    "                                        'Sur', 'Sur', 'Sur',\n",
    "                                        'Este', 'Este', 'Este',\n",
    "                                        'Oeste', 'Oeste', 'Oeste'),\n",
    "                             'horario':('madrugada', 'tarde', 'media_noche',\n",
    "                                        'madrugada', 'tarde', 'media_noche',\n",
    "                                        'madrugada', 'tarde', 'media_noche',\n",
    "                                        'madrugada', 'tarde', 'media_noche'),\n",
    "                              'peatones':(153, 589, 35,\n",
    "                                          215, 702, 87,\n",
    "                                          95, 806, 22,\n",
    "                                          290, 1390, 150),\n",
    "                             'vehículos': (np.NaN, 1003, 304,\n",
    "                                          506, 1421, 150,\n",
    "                                          271, 1863, 198,\n",
    "                                          948, 2279, 804)})"
   ]
  },
  {
   "cell_type": "code",
   "execution_count": null,
   "metadata": {},
   "outputs": [],
   "source": [
    "observaciones"
   ]
  },
  {
   "cell_type": "code",
   "execution_count": null,
   "metadata": {},
   "outputs": [],
   "source": [
    "observaciones.pivot(columns='region', \n",
    "                    values='peatones', \n",
    "                    index='horario')"
   ]
  },
  {
   "cell_type": "code",
   "execution_count": null,
   "metadata": {
    "scrolled": false
   },
   "outputs": [],
   "source": [
    "observaciones.pivot(columns='region', \n",
    "                    values='vehículos', \n",
    "                    index='horario')"
   ]
  },
  {
   "cell_type": "markdown",
   "metadata": {},
   "source": [
    "## El método *pivot_table()*."
   ]
  },
  {
   "cell_type": "code",
   "execution_count": null,
   "metadata": {},
   "outputs": [],
   "source": [
    "observaciones_2 = pd.DataFrame({'region':('Norte', 'Norte', 'Norte',\n",
    "                                        'Sur', 'Sur', 'Sur', 'Sur',\n",
    "                                        'Este', 'Este', 'Este',\n",
    "                                        'Oeste', 'Oeste', 'Oeste'),\n",
    "                             'horario':('madrugada', 'tarde', 'media_noche',\n",
    "                                        'madrugada', 'tarde', 'media_noche', 'madrugada',\n",
    "                                        'madrugada', 'tarde', 'media_noche',\n",
    "                                        'madrugada', 'tarde', 'media_noche'),\n",
    "                              'peatones':(153, 589, 35,\n",
    "                                          215, 702, 87, 221,\n",
    "                                          95, 806, 22,\n",
    "                                          290, 1390, 150),\n",
    "                             'vehículos': (np.NaN, 1003, 304,\n",
    "                                          506, 1421, 150, np.NaN,\n",
    "                                          271, 1863, 198,\n",
    "                                          948, 2279, 804)})"
   ]
  },
  {
   "cell_type": "code",
   "execution_count": null,
   "metadata": {},
   "outputs": [],
   "source": [
    "observaciones_2"
   ]
  },
  {
   "cell_type": "code",
   "execution_count": null,
   "metadata": {},
   "outputs": [],
   "source": [
    "observaciones_2.pivot(columns='region', \n",
    "                    values='vehículos', \n",
    "                    index='horario')"
   ]
  },
  {
   "cell_type": "code",
   "execution_count": null,
   "metadata": {},
   "outputs": [],
   "source": [
    "observaciones_2.pivot_table(columns='region', \n",
    "                    values='vehículos', \n",
    "                    index='horario')"
   ]
  },
  {
   "cell_type": "code",
   "execution_count": null,
   "metadata": {},
   "outputs": [],
   "source": [
    "observaciones_2.pivot_table(columns='region', \n",
    "                    values='peatones', \n",
    "                    index='horario')"
   ]
  },
  {
   "cell_type": "code",
   "execution_count": null,
   "metadata": {},
   "outputs": [],
   "source": [
    "observaciones_2.pivot_table(columns='region', \n",
    "                    values='peatones', \n",
    "                    index='horario',\n",
    "                    aggfunc=np.sum)"
   ]
  },
  {
   "cell_type": "code",
   "execution_count": null,
   "metadata": {},
   "outputs": [],
   "source": [
    "observaciones_2.pivot_table(columns='region', \n",
    "                    values='peatones')"
   ]
  },
  {
   "cell_type": "code",
   "execution_count": null,
   "metadata": {},
   "outputs": [],
   "source": [
    "observaciones_2.pivot(columns='region', \n",
    "                    values='peatones')"
   ]
  },
  {
   "cell_type": "markdown",
   "metadata": {},
   "source": [
    "<p style=\"text-align: center\"><a rel=\"license\" href=\"http://creativecommons.org/licenses/by/4.0/\"><img alt=\"Licencia Creative Commons\" style=\"border-width:0\" src=\"https://i.creativecommons.org/l/by/4.0/80x15.png\" /></a><br />Esta obra está bajo una <a rel=\"license\" href=\"http://creativecommons.org/licenses/by/4.0/\">Licencia Creative Commons Atribución 4.0 Internacional</a>.</p>\n",
    "<p style=\"text-align: center\">&copy; José Luis Chiquete Valdivieso. 2019.</p>"
   ]
  }
 ],
 "metadata": {
  "kernelspec": {
   "display_name": "Python 3",
   "language": "python",
   "name": "python3"
  },
  "language_info": {
   "codemirror_mode": {
    "name": "ipython",
    "version": 3
   },
   "file_extension": ".py",
   "mimetype": "text/x-python",
   "name": "python",
   "nbconvert_exporter": "python",
   "pygments_lexer": "ipython3",
   "version": "3.6.6"
  }
 },
 "nbformat": 4,
 "nbformat_minor": 2
}
