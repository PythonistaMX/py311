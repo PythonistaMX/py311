{
 "cells": [
  {
   "cell_type": "markdown",
   "metadata": {},
   "source": [
    "[![imagenes/pythonista.png](imagenes/pythonista.png)](https://pythonista.io)"
   ]
  },
  {
   "cell_type": "code",
   "execution_count": null,
   "metadata": {},
   "outputs": [],
   "source": [
    "import pandas as pd"
   ]
  },
  {
   "cell_type": "markdown",
   "metadata": {},
   "source": [
    "Los objetos instanciados de la clase *pd.MultiIndex* son estructuras que permiten crear identificadores que agrupan a otros identificadores tanto de columnas como de índices en un dataframe."
   ]
  },
  {
   "cell_type": "markdown",
   "metadata": {},
   "source": [
    "Estos objetos están conformados por:\n",
    "    * niveles(levels) es se van desagregando conforme descienden).\n",
    "    * codigos de ordenamiento (codes).\n",
    "    * nombres(names) correspondientes a cada nivel."
   ]
  },
  {
   "cell_type": "markdown",
   "metadata": {},
   "source": [
    " ## Creación de un objeto *pd.MultiIndex*.\n",
    " \n",
    " Para la creación de objetos instanciados de *pd.MultiIndex* s epeuden utilizar los siguientes métodos de clase:\n",
    " \n",
    " * *from_arrays()*\n",
    " * *from_tuples()*\n",
    " * *from_products()*\n",
    " * *from_dataframes()*\n",
    " \n",
    " ```\n",
    " pd.MultiIndex.<método>(<objeto>, names=<interable con un nombre para cada nivel>)\n",
    " ```"
   ]
  },
  {
   "cell_type": "markdown",
   "metadata": {},
   "source": [
    "* A continuación se crearán objetos similares utilizando  *from_tuples()*."
   ]
  },
  {
   "cell_type": "code",
   "execution_count": null,
   "metadata": {},
   "outputs": [],
   "source": [
    "lista = []\n",
    "for zona in ('Norte_I', 'Sur_I', 'Centro_I'):\n",
    "    for animal in ('jaguar', 'conejo', 'lobo'):\n",
    "        lista.append((zona, animal))\n",
    "tupla=tuple(lista)       "
   ]
  },
  {
   "cell_type": "code",
   "execution_count": null,
   "metadata": {},
   "outputs": [],
   "source": [
    "tupla"
   ]
  },
  {
   "cell_type": "code",
   "execution_count": null,
   "metadata": {
    "scrolled": true
   },
   "outputs": [],
   "source": [
    "pd.MultiIndex.from_tuples(tupla, names=['zona', 'animal'])"
   ]
  },
  {
   "cell_type": "markdown",
   "metadata": {},
   "source": [
    "* A continuación se crearán objetos similares utilizando  *from_products()*."
   ]
  },
  {
   "cell_type": "code",
   "execution_count": null,
   "metadata": {},
   "outputs": [],
   "source": [
    "pd.MultiIndex.from_product([('Norte_I', 'Sur_I', 'Centro_I'), \n",
    "                            ('jaguar', 'conejo', 'lobo')],\n",
    "                           names=['zona', 'animal'])"
   ]
  },
  {
   "cell_type": "markdown",
   "metadata": {},
   "source": [
    "* Del objeto anterior se definirán las columnas de un dataframe."
   ]
  },
  {
   "cell_type": "code",
   "execution_count": null,
   "metadata": {},
   "outputs": [],
   "source": [
    "columnas = pd.MultiIndex.from_product([('Norte_I', 'Sur_I', 'Centro_I'),\n",
    "                                       ('jaguar', 'conejo', 'lobo')],\n",
    "                                     names=['zona', 'animal'])"
   ]
  },
  {
   "cell_type": "code",
   "execution_count": null,
   "metadata": {},
   "outputs": [],
   "source": [
    "poblacion = pd.DataFrame([[12, 11, 24, 32, 15, 42, 35, 11, 35],\n",
    "                          [23, 22, 54, 3, 34, 24, 39, 29, 11],\n",
    "                          [35, 32, 67, 15, 42, 34, 46, 40, 13],\n",
    "                          [33, 43, 87, 11, 61, 42, 52, 41, 15],\n",
    "                          [44, 56, 98, 16, 70, 50, 57, 41, 17],\n",
    "                          [53, 62, 103, 21, 74, 54, 69, 55, 23]], \n",
    "                         index=('enero', 'febrero', 'marzo', 'abril', 'mayo', 'junio'),\n",
    "                         columns=columnas)"
   ]
  },
  {
   "cell_type": "code",
   "execution_count": null,
   "metadata": {
    "scrolled": true
   },
   "outputs": [],
   "source": [
    "poblacion"
   ]
  },
  {
   "cell_type": "markdown",
   "metadata": {},
   "source": [
    "## Indexado."
   ]
  },
  {
   "cell_type": "code",
   "execution_count": null,
   "metadata": {},
   "outputs": [],
   "source": [
    "poblacion['Norte_I']"
   ]
  },
  {
   "cell_type": "code",
   "execution_count": null,
   "metadata": {},
   "outputs": [],
   "source": [
    "poblacion['Sur_I']['jaguar']"
   ]
  },
  {
   "cell_type": "markdown",
   "metadata": {},
   "source": [
    "## El metódo *droplevel()*.\n",
    "\n",
    "```\n",
    "<objeto MultiIndex>.droplevel(<nivel>)\n",
    "```"
   ]
  },
  {
   "cell_type": "code",
   "execution_count": null,
   "metadata": {},
   "outputs": [],
   "source": [
    "columnas"
   ]
  },
  {
   "cell_type": "code",
   "execution_count": null,
   "metadata": {},
   "outputs": [],
   "source": [
    "columnas.droplevel(0)"
   ]
  },
  {
   "cell_type": "code",
   "execution_count": null,
   "metadata": {},
   "outputs": [],
   "source": [
    "poblacion.columns.droplevel('zona')"
   ]
  },
  {
   "cell_type": "code",
   "execution_count": null,
   "metadata": {
    "scrolled": true
   },
   "outputs": [],
   "source": [
    "poblacion"
   ]
  },
  {
   "cell_type": "code",
   "execution_count": null,
   "metadata": {},
   "outputs": [],
   "source": [
    "nuevas_cols = poblacion.columns.droplevel('zona')"
   ]
  },
  {
   "cell_type": "code",
   "execution_count": null,
   "metadata": {},
   "outputs": [],
   "source": [
    "poblacion.columns = nuevas_cols"
   ]
  },
  {
   "cell_type": "code",
   "execution_count": null,
   "metadata": {},
   "outputs": [],
   "source": [
    "poblacion"
   ]
  },
  {
   "cell_type": "code",
   "execution_count": null,
   "metadata": {},
   "outputs": [],
   "source": [
    "poblacion['jaguar']"
   ]
  },
  {
   "cell_type": "code",
   "execution_count": null,
   "metadata": {},
   "outputs": [],
   "source": [
    "poblacion['jaguar']"
   ]
  },
  {
   "cell_type": "markdown",
   "metadata": {},
   "source": [
    "<p style=\"text-align: center\"><a rel=\"license\" href=\"http://creativecommons.org/licenses/by/4.0/\"><img alt=\"Licencia Creative Commons\" style=\"border-width:0\" src=\"https://i.creativecommons.org/l/by/4.0/80x15.png\" /></a><br />Esta obra está bajo una <a rel=\"license\" href=\"http://creativecommons.org/licenses/by/4.0/\">Licencia Creative Commons Atribución 4.0 Internacional</a>.</p>\n",
    "<p style=\"text-align: center\">&copy; José Luis Chiquete Valdivieso. 2019.</p>"
   ]
  }
 ],
 "metadata": {
  "kernelspec": {
   "display_name": "Python 3",
   "language": "python",
   "name": "python3"
  },
  "language_info": {
   "codemirror_mode": {
    "name": "ipython",
    "version": 3
   },
   "file_extension": ".py",
   "mimetype": "text/x-python",
   "name": "python",
   "nbconvert_exporter": "python",
   "pygments_lexer": "ipython3",
   "version": "3.6.6"
  }
 },
 "nbformat": 4,
 "nbformat_minor": 2
}
