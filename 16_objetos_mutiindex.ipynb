{
 "cells": [
  {
   "cell_type": "markdown",
   "metadata": {},
   "source": [
    "[![imagenes/pythonista.png](imagenes/pythonista.png)](https://pythonista.io)"
   ]
  },
  {
   "cell_type": "code",
   "execution_count": 3,
   "metadata": {},
   "outputs": [],
   "source": [
    "import pandas as pd"
   ]
  },
  {
   "cell_type": "markdown",
   "metadata": {},
   "source": [
    "Los objetos instamciado de la clase *pd.MultiIndex* son estructuras que permiten crear identificadores que agrupan a otros identificadores tanto de columnas como de índices en un dataframe."
   ]
  },
  {
   "cell_type": "markdown",
   "metadata": {},
   "source": [
    "Estos objetos están conformados por:\n",
    "    * niveles(levels) es se van desagregando conforme descienden).\n",
    "    * codigos de ordenamiento (codes).\n",
    "    * nombres(names) correspondientes a cada nivel."
   ]
  },
  {
   "cell_type": "markdown",
   "metadata": {},
   "source": [
    " ## Creación de un objeto *pd.MultiIndex*.\n",
    " \n",
    " Para la creación de objetos instanciados de *pd.MultiIndex* s epeuden utilizar los siguientes métodos de clase:\n",
    " \n",
    " * *from_arrays()*\n",
    " * *from_tuples()*\n",
    " * *from_products()*\n",
    " * *from_dataframes()*\n",
    " \n",
    " ```\n",
    " pd.MultiIndex.<método>(<objeto>, names=<interable con un nombre para cada nivel>\n",
    " ```"
   ]
  },
  {
   "cell_type": "markdown",
   "metadata": {},
   "source": [
    "* A continuación se crearán objetos similares utilizando  *from_tuples()*."
   ]
  },
  {
   "cell_type": "code",
   "execution_count": 13,
   "metadata": {},
   "outputs": [],
   "source": [
    "lista = []\n",
    "for zona in ('Norte_I', 'Sur_I', 'Centro_I'):\n",
    "    for animal in ('jaguar', 'conejo', 'lobo'):\n",
    "        lista.append((zona, animal))\n",
    "tupla=tuple(lista)       "
   ]
  },
  {
   "cell_type": "code",
   "execution_count": 14,
   "metadata": {},
   "outputs": [
    {
     "data": {
      "text/plain": [
       "(('Norte_I', 'jaguar'),\n",
       " ('Norte_I', 'conejo'),\n",
       " ('Norte_I', 'lobo'),\n",
       " ('Sur_I', 'jaguar'),\n",
       " ('Sur_I', 'conejo'),\n",
       " ('Sur_I', 'lobo'),\n",
       " ('Centro_I', 'jaguar'),\n",
       " ('Centro_I', 'conejo'),\n",
       " ('Centro_I', 'lobo'))"
      ]
     },
     "execution_count": 14,
     "metadata": {},
     "output_type": "execute_result"
    }
   ],
   "source": [
    "tupla"
   ]
  },
  {
   "cell_type": "code",
   "execution_count": 56,
   "metadata": {
    "scrolled": true
   },
   "outputs": [
    {
     "data": {
      "text/plain": [
       "MultiIndex(levels=[['Centro_I', 'Norte_I', 'Sur_I'], ['conejo', 'jaguar', 'lobo']],\n",
       "           codes=[[1, 1, 1, 2, 2, 2, 0, 0, 0], [1, 0, 2, 1, 0, 2, 1, 0, 2]],\n",
       "           names=['región', 'animal'])"
      ]
     },
     "execution_count": 56,
     "metadata": {},
     "output_type": "execute_result"
    }
   ],
   "source": [
    "pd.MultiIndex.from_tuples(tupla, names=['región', 'animal'])"
   ]
  },
  {
   "cell_type": "markdown",
   "metadata": {},
   "source": [
    "* A continuación se crearán objetos similares utilizando  *from_products()*."
   ]
  },
  {
   "cell_type": "code",
   "execution_count": 58,
   "metadata": {},
   "outputs": [
    {
     "data": {
      "text/plain": [
       "MultiIndex(levels=[['Centro_I', 'Norte_I', 'Sur_I'], ['conejo', 'jaguar', 'lobo']],\n",
       "           codes=[[1, 1, 1, 2, 2, 2, 0, 0, 0], [1, 0, 2, 1, 0, 2, 1, 0, 2]])"
      ]
     },
     "execution_count": 58,
     "metadata": {},
     "output_type": "execute_result"
    }
   ],
   "source": [
    "pd.MultiIndex.from_product([('Norte_I', 'Sur_I', 'Centro_I'), \n",
    "                            ('jaguar', 'conejo', 'lobo')])"
   ]
  },
  {
   "cell_type": "markdown",
   "metadata": {},
   "source": [
    "* Del objeto anterior se definirán las columnas de un dataframe."
   ]
  },
  {
   "cell_type": "code",
   "execution_count": 59,
   "metadata": {},
   "outputs": [],
   "source": [
    "columnas = pd.MultiIndex.from_product([('Norte_I', 'Sur_I', 'Centro_I'),\n",
    "                                       ('jaguar', 'conejo', 'lobo')])"
   ]
  },
  {
   "cell_type": "code",
   "execution_count": 38,
   "metadata": {},
   "outputs": [],
   "source": [
    "poblacion = pd.DataFrame([[12, 11, 24, 32, 15, 42, 35, 11, 35],\n",
    "                          [23, 22, 54, 3, 34, 24, 39, 29, 11],\n",
    "                          [35, 32, 67, 15, 42, 34, 46, 40, 13],\n",
    "                          [33, 43, 87, 11, 61, 42, 52, 41, 15],\n",
    "                          [44, 56, 98, 16, 70, 50, 57, 41, 17],\n",
    "                          [53, 62, 103, 21, 74, 54, 69, 55, 23]], \n",
    "                         index=('enero', 'febrero', 'marzo', 'abril', 'mayo', 'junio'),\n",
    "                         columns=columnas)"
   ]
  },
  {
   "cell_type": "code",
   "execution_count": 30,
   "metadata": {
    "scrolled": true
   },
   "outputs": [
    {
     "data": {
      "text/html": [
       "<div>\n",
       "<style scoped>\n",
       "    .dataframe tbody tr th:only-of-type {\n",
       "        vertical-align: middle;\n",
       "    }\n",
       "\n",
       "    .dataframe tbody tr th {\n",
       "        vertical-align: top;\n",
       "    }\n",
       "\n",
       "    .dataframe thead tr th {\n",
       "        text-align: left;\n",
       "    }\n",
       "</style>\n",
       "<table border=\"1\" class=\"dataframe\">\n",
       "  <thead>\n",
       "    <tr>\n",
       "      <th>región</th>\n",
       "      <th colspan=\"3\" halign=\"left\">Norte_I</th>\n",
       "      <th colspan=\"3\" halign=\"left\">Sur_I</th>\n",
       "      <th colspan=\"3\" halign=\"left\">Centro_I</th>\n",
       "    </tr>\n",
       "    <tr>\n",
       "      <th>animal</th>\n",
       "      <th>jaguar</th>\n",
       "      <th>conejo</th>\n",
       "      <th>lobo</th>\n",
       "      <th>jaguar</th>\n",
       "      <th>conejo</th>\n",
       "      <th>lobo</th>\n",
       "      <th>jaguar</th>\n",
       "      <th>conejo</th>\n",
       "      <th>lobo</th>\n",
       "    </tr>\n",
       "  </thead>\n",
       "  <tbody>\n",
       "    <tr>\n",
       "      <th>enero</th>\n",
       "      <td>12</td>\n",
       "      <td>11</td>\n",
       "      <td>24</td>\n",
       "      <td>32</td>\n",
       "      <td>15</td>\n",
       "      <td>42</td>\n",
       "      <td>35</td>\n",
       "      <td>11</td>\n",
       "      <td>35</td>\n",
       "    </tr>\n",
       "    <tr>\n",
       "      <th>febrero</th>\n",
       "      <td>23</td>\n",
       "      <td>22</td>\n",
       "      <td>54</td>\n",
       "      <td>3</td>\n",
       "      <td>34</td>\n",
       "      <td>24</td>\n",
       "      <td>39</td>\n",
       "      <td>29</td>\n",
       "      <td>11</td>\n",
       "    </tr>\n",
       "    <tr>\n",
       "      <th>marzo</th>\n",
       "      <td>35</td>\n",
       "      <td>32</td>\n",
       "      <td>67</td>\n",
       "      <td>15</td>\n",
       "      <td>42</td>\n",
       "      <td>34</td>\n",
       "      <td>46</td>\n",
       "      <td>40</td>\n",
       "      <td>13</td>\n",
       "    </tr>\n",
       "    <tr>\n",
       "      <th>abril</th>\n",
       "      <td>33</td>\n",
       "      <td>43</td>\n",
       "      <td>87</td>\n",
       "      <td>11</td>\n",
       "      <td>61</td>\n",
       "      <td>42</td>\n",
       "      <td>52</td>\n",
       "      <td>41</td>\n",
       "      <td>15</td>\n",
       "    </tr>\n",
       "    <tr>\n",
       "      <th>mayo</th>\n",
       "      <td>44</td>\n",
       "      <td>56</td>\n",
       "      <td>98</td>\n",
       "      <td>16</td>\n",
       "      <td>70</td>\n",
       "      <td>50</td>\n",
       "      <td>57</td>\n",
       "      <td>41</td>\n",
       "      <td>17</td>\n",
       "    </tr>\n",
       "    <tr>\n",
       "      <th>junio</th>\n",
       "      <td>53</td>\n",
       "      <td>62</td>\n",
       "      <td>103</td>\n",
       "      <td>21</td>\n",
       "      <td>74</td>\n",
       "      <td>54</td>\n",
       "      <td>69</td>\n",
       "      <td>55</td>\n",
       "      <td>23</td>\n",
       "    </tr>\n",
       "  </tbody>\n",
       "</table>\n",
       "</div>"
      ],
      "text/plain": [
       "región  Norte_I              Sur_I             Centro_I            \n",
       "animal   jaguar conejo lobo jaguar conejo lobo   jaguar conejo lobo\n",
       "enero        12     11   24     32     15   42       35     11   35\n",
       "febrero      23     22   54      3     34   24       39     29   11\n",
       "marzo        35     32   67     15     42   34       46     40   13\n",
       "abril        33     43   87     11     61   42       52     41   15\n",
       "mayo         44     56   98     16     70   50       57     41   17\n",
       "junio        53     62  103     21     74   54       69     55   23"
      ]
     },
     "execution_count": 30,
     "metadata": {},
     "output_type": "execute_result"
    }
   ],
   "source": [
    "poblacion"
   ]
  },
  {
   "cell_type": "markdown",
   "metadata": {},
   "source": [
    "## Indexado."
   ]
  },
  {
   "cell_type": "code",
   "execution_count": 43,
   "metadata": {},
   "outputs": [
    {
     "data": {
      "text/html": [
       "<div>\n",
       "<style scoped>\n",
       "    .dataframe tbody tr th:only-of-type {\n",
       "        vertical-align: middle;\n",
       "    }\n",
       "\n",
       "    .dataframe tbody tr th {\n",
       "        vertical-align: top;\n",
       "    }\n",
       "\n",
       "    .dataframe thead th {\n",
       "        text-align: right;\n",
       "    }\n",
       "</style>\n",
       "<table border=\"1\" class=\"dataframe\">\n",
       "  <thead>\n",
       "    <tr style=\"text-align: right;\">\n",
       "      <th>animal</th>\n",
       "      <th>jaguar</th>\n",
       "      <th>conejo</th>\n",
       "      <th>lobo</th>\n",
       "    </tr>\n",
       "  </thead>\n",
       "  <tbody>\n",
       "    <tr>\n",
       "      <th>enero</th>\n",
       "      <td>12</td>\n",
       "      <td>11</td>\n",
       "      <td>24</td>\n",
       "    </tr>\n",
       "    <tr>\n",
       "      <th>febrero</th>\n",
       "      <td>23</td>\n",
       "      <td>22</td>\n",
       "      <td>54</td>\n",
       "    </tr>\n",
       "    <tr>\n",
       "      <th>marzo</th>\n",
       "      <td>35</td>\n",
       "      <td>32</td>\n",
       "      <td>67</td>\n",
       "    </tr>\n",
       "    <tr>\n",
       "      <th>abril</th>\n",
       "      <td>33</td>\n",
       "      <td>43</td>\n",
       "      <td>87</td>\n",
       "    </tr>\n",
       "    <tr>\n",
       "      <th>mayo</th>\n",
       "      <td>44</td>\n",
       "      <td>56</td>\n",
       "      <td>98</td>\n",
       "    </tr>\n",
       "    <tr>\n",
       "      <th>junio</th>\n",
       "      <td>53</td>\n",
       "      <td>62</td>\n",
       "      <td>103</td>\n",
       "    </tr>\n",
       "  </tbody>\n",
       "</table>\n",
       "</div>"
      ],
      "text/plain": [
       "animal   jaguar  conejo  lobo\n",
       "enero        12      11    24\n",
       "febrero      23      22    54\n",
       "marzo        35      32    67\n",
       "abril        33      43    87\n",
       "mayo         44      56    98\n",
       "junio        53      62   103"
      ]
     },
     "execution_count": 43,
     "metadata": {},
     "output_type": "execute_result"
    }
   ],
   "source": [
    "poblacion['Norte_I']"
   ]
  },
  {
   "cell_type": "code",
   "execution_count": 44,
   "metadata": {},
   "outputs": [
    {
     "data": {
      "text/plain": [
       "enero      32\n",
       "febrero     3\n",
       "marzo      15\n",
       "abril      11\n",
       "mayo       16\n",
       "junio      21\n",
       "Name: jaguar, dtype: int64"
      ]
     },
     "execution_count": 44,
     "metadata": {},
     "output_type": "execute_result"
    }
   ],
   "source": [
    "poblacion['Sur_I']['jaguar']"
   ]
  },
  {
   "cell_type": "markdown",
   "metadata": {},
   "source": [
    "## El metódo *droplevel()*.\n",
    "\n",
    "```\n",
    "<objeto MultiIndex>.droplevel(<nivel>)\n",
    "```"
   ]
  },
  {
   "cell_type": "code",
   "execution_count": 61,
   "metadata": {},
   "outputs": [
    {
     "data": {
      "text/plain": [
       "MultiIndex(levels=[['Centro_I', 'Norte_I', 'Sur_I'], ['conejo', 'jaguar', 'lobo']],\n",
       "           codes=[[1, 1, 1, 2, 2, 2, 0, 0, 0], [1, 0, 2, 1, 0, 2, 1, 0, 2]])"
      ]
     },
     "execution_count": 61,
     "metadata": {},
     "output_type": "execute_result"
    }
   ],
   "source": [
    "columnas"
   ]
  },
  {
   "cell_type": "code",
   "execution_count": 62,
   "metadata": {},
   "outputs": [
    {
     "data": {
      "text/plain": [
       "Index(['jaguar', 'conejo', 'lobo', 'jaguar', 'conejo', 'lobo', 'jaguar',\n",
       "       'conejo', 'lobo'],\n",
       "      dtype='object')"
      ]
     },
     "execution_count": 62,
     "metadata": {},
     "output_type": "execute_result"
    }
   ],
   "source": [
    "columnas.droplevel(0)"
   ]
  },
  {
   "cell_type": "code",
   "execution_count": 63,
   "metadata": {},
   "outputs": [
    {
     "data": {
      "text/plain": [
       "Index(['jaguar', 'conejo', 'lobo', 'jaguar', 'conejo', 'lobo', 'jaguar',\n",
       "       'conejo', 'lobo'],\n",
       "      dtype='object', name='animal')"
      ]
     },
     "execution_count": 63,
     "metadata": {},
     "output_type": "execute_result"
    }
   ],
   "source": [
    "poblacion.columns.droplevel('región')"
   ]
  },
  {
   "cell_type": "code",
   "execution_count": 64,
   "metadata": {},
   "outputs": [
    {
     "data": {
      "text/html": [
       "<div>\n",
       "<style scoped>\n",
       "    .dataframe tbody tr th:only-of-type {\n",
       "        vertical-align: middle;\n",
       "    }\n",
       "\n",
       "    .dataframe tbody tr th {\n",
       "        vertical-align: top;\n",
       "    }\n",
       "\n",
       "    .dataframe thead tr th {\n",
       "        text-align: left;\n",
       "    }\n",
       "</style>\n",
       "<table border=\"1\" class=\"dataframe\">\n",
       "  <thead>\n",
       "    <tr>\n",
       "      <th>región</th>\n",
       "      <th colspan=\"3\" halign=\"left\">Norte_I</th>\n",
       "      <th colspan=\"3\" halign=\"left\">Sur_I</th>\n",
       "      <th colspan=\"3\" halign=\"left\">Centro_I</th>\n",
       "    </tr>\n",
       "    <tr>\n",
       "      <th>animal</th>\n",
       "      <th>jaguar</th>\n",
       "      <th>conejo</th>\n",
       "      <th>lobo</th>\n",
       "      <th>jaguar</th>\n",
       "      <th>conejo</th>\n",
       "      <th>lobo</th>\n",
       "      <th>jaguar</th>\n",
       "      <th>conejo</th>\n",
       "      <th>lobo</th>\n",
       "    </tr>\n",
       "  </thead>\n",
       "  <tbody>\n",
       "    <tr>\n",
       "      <th>enero</th>\n",
       "      <td>12</td>\n",
       "      <td>11</td>\n",
       "      <td>24</td>\n",
       "      <td>32</td>\n",
       "      <td>15</td>\n",
       "      <td>42</td>\n",
       "      <td>35</td>\n",
       "      <td>11</td>\n",
       "      <td>35</td>\n",
       "    </tr>\n",
       "    <tr>\n",
       "      <th>febrero</th>\n",
       "      <td>23</td>\n",
       "      <td>22</td>\n",
       "      <td>54</td>\n",
       "      <td>3</td>\n",
       "      <td>34</td>\n",
       "      <td>24</td>\n",
       "      <td>39</td>\n",
       "      <td>29</td>\n",
       "      <td>11</td>\n",
       "    </tr>\n",
       "    <tr>\n",
       "      <th>marzo</th>\n",
       "      <td>35</td>\n",
       "      <td>32</td>\n",
       "      <td>67</td>\n",
       "      <td>15</td>\n",
       "      <td>42</td>\n",
       "      <td>34</td>\n",
       "      <td>46</td>\n",
       "      <td>40</td>\n",
       "      <td>13</td>\n",
       "    </tr>\n",
       "    <tr>\n",
       "      <th>abril</th>\n",
       "      <td>33</td>\n",
       "      <td>43</td>\n",
       "      <td>87</td>\n",
       "      <td>11</td>\n",
       "      <td>61</td>\n",
       "      <td>42</td>\n",
       "      <td>52</td>\n",
       "      <td>41</td>\n",
       "      <td>15</td>\n",
       "    </tr>\n",
       "    <tr>\n",
       "      <th>mayo</th>\n",
       "      <td>44</td>\n",
       "      <td>56</td>\n",
       "      <td>98</td>\n",
       "      <td>16</td>\n",
       "      <td>70</td>\n",
       "      <td>50</td>\n",
       "      <td>57</td>\n",
       "      <td>41</td>\n",
       "      <td>17</td>\n",
       "    </tr>\n",
       "    <tr>\n",
       "      <th>junio</th>\n",
       "      <td>53</td>\n",
       "      <td>62</td>\n",
       "      <td>103</td>\n",
       "      <td>21</td>\n",
       "      <td>74</td>\n",
       "      <td>54</td>\n",
       "      <td>69</td>\n",
       "      <td>55</td>\n",
       "      <td>23</td>\n",
       "    </tr>\n",
       "  </tbody>\n",
       "</table>\n",
       "</div>"
      ],
      "text/plain": [
       "región  Norte_I              Sur_I             Centro_I            \n",
       "animal   jaguar conejo lobo jaguar conejo lobo   jaguar conejo lobo\n",
       "enero        12     11   24     32     15   42       35     11   35\n",
       "febrero      23     22   54      3     34   24       39     29   11\n",
       "marzo        35     32   67     15     42   34       46     40   13\n",
       "abril        33     43   87     11     61   42       52     41   15\n",
       "mayo         44     56   98     16     70   50       57     41   17\n",
       "junio        53     62  103     21     74   54       69     55   23"
      ]
     },
     "execution_count": 64,
     "metadata": {},
     "output_type": "execute_result"
    }
   ],
   "source": [
    "poblacion"
   ]
  },
  {
   "cell_type": "markdown",
   "metadata": {},
   "source": [
    "<p style=\"text-align: center\"><a rel=\"license\" href=\"http://creativecommons.org/licenses/by/4.0/\"><img alt=\"Licencia Creative Commons\" style=\"border-width:0\" src=\"https://i.creativecommons.org/l/by/4.0/80x15.png\" /></a><br />Esta obra está bajo una <a rel=\"license\" href=\"http://creativecommons.org/licenses/by/4.0/\">Licencia Creative Commons Atribución 4.0 Internacional</a>.</p>\n",
    "<p style=\"text-align: center\">&copy; José Luis Chiquete Valdivieso. 2019.</p>"
   ]
  }
 ],
 "metadata": {
  "kernelspec": {
   "display_name": "Python 3",
   "language": "python",
   "name": "python3"
  },
  "language_info": {
   "codemirror_mode": {
    "name": "ipython",
    "version": 3
   },
   "file_extension": ".py",
   "mimetype": "text/x-python",
   "name": "python",
   "nbconvert_exporter": "python",
   "pygments_lexer": "ipython3",
   "version": "3.6.6"
  }
 },
 "nbformat": 4,
 "nbformat_minor": 2
}
