{
 "cells": [
  {
   "cell_type": "markdown",
   "metadata": {},
   "source": [
    "[![img/pythonista.png](img/pythonista.png)](https://www.pythonista.io)"
   ]
  },
  {
   "cell_type": "markdown",
   "metadata": {},
   "source": [
    "# Tipos de datos de *Pandas*."
   ]
  },
  {
   "cell_type": "markdown",
   "metadata": {},
   "source": [
    "*Pandas* toma como base a *Numpy* y lo extiende para poder realizar operaciones de análisis de datos, por lo que es compatible con elementos como:\n",
    "\n",
    "* ```np.nan```.\n",
    "* ```np.inf```."
   ]
  },
  {
   "cell_type": "code",
   "execution_count": null,
   "metadata": {},
   "outputs": [],
   "source": [
    "import pandas as pd\n",
    "import numpy as np\n",
    "from datetime import datetime"
   ]
  },
  {
   "cell_type": "markdown",
   "metadata": {},
   "source": [
    "## Convenciones de nombres."
   ]
  },
  {
   "cell_type": "markdown",
   "metadata": {},
   "source": [
    "En este capítulo se hará referencia al paquete ```pandas``` como ```pd```,  al paquete ```numpy``` como ```np```y  a los  *dataframes* instanciados de  ```pd.DataFrame``` como ```df```."
   ]
  },
  {
   "cell_type": "markdown",
   "metadata": {},
   "source": [
    "## Tipos de datos de *Pandas*.\n",
    "\n",
    "*Pandas* extiende y a su vez restringe los tipos de datos de *Python* y de *Numpy* a los siguientes:\n",
    "\n",
    "* ```object``` el cual representa a una cadena de caracteres.\n",
    "* ```int64``` es el tipo para números enteros. \n",
    "* ```float64``` es el tipo para números de punto flotante.\n",
    "* ```bool``` es el tipo para valores booleanos.\n",
    "* ```datetime64``` es el tipo usado para gestionar fechas y horas.\n",
    "* ```timedelta64``` es el tipo de diferencias de tiempo. \n",
    "* ```category``` es un tipo de dato que contiene una colección finita de posibles valores (no se estudiará en este curso)."
   ]
  },
  {
   "cell_type": "markdown",
   "metadata": {},
   "source": [
    "**Ejemplo:**"
   ]
  },
  {
   "cell_type": "markdown",
   "metadata": {},
   "source": [
    "* A continuación se creará el *dataframe* ```datos``` que define las columnas.\n",
    "    * *nombres* de tipo ```object```.\n",
    "    * *fechas* de tipo ```datetime64```.\n",
    "    * *saldo* de tipo ```float64```.\n",
    "    * *al corriente* de tipo ```bool```."
   ]
  },
  {
   "cell_type": "code",
   "execution_count": null,
   "metadata": {},
   "outputs": [],
   "source": [
    "datos = pd.DataFrame({'nombres':('Juan Pérez',\n",
    "                                 'María Sánchez'\n",
    "                                 , 'Jorge Vargas',\n",
    "                                 'Rodrigo Martínez'),\n",
    "            'fechas':(datetime(1995,12,21), \n",
    "                      datetime(1989,1,13), \n",
    "                      datetime(1992,9,14), \n",
    "                      datetime(1993,7,8)),\n",
    "            'saldo': (2500, \n",
    "                      5345, \n",
    "                      np.nan, \n",
    "                      11323.2),\n",
    "            'al corriente':(True, \n",
    "                            True, \n",
    "                            False, \n",
    "                            True)})"
   ]
  },
  {
   "cell_type": "code",
   "execution_count": null,
   "metadata": {
    "scrolled": true
   },
   "outputs": [],
   "source": [
    "datos"
   ]
  },
  {
   "cell_type": "markdown",
   "metadata": {},
   "source": [
    "## El atributo ```df.dtypes```.\n",
    "\n",
    "Este atributo es una serie de *Pandas* que contienen la relación de los tipos de datos de cada columna del *dataframe*.\n",
    "\n",
    "https://pandas.pydata.org/docs/reference/api/pandas.DataFrame.dtypes.html"
   ]
  },
  {
   "cell_type": "markdown",
   "metadata": {},
   "source": [
    "**Ejemplo:**\n",
    "\n",
    "* A partir del *dataframe* ```datos``` se obtendrá el tipo de datos de cada columna. "
   ]
  },
  {
   "cell_type": "code",
   "execution_count": null,
   "metadata": {},
   "outputs": [],
   "source": [
    "datos.dtypes"
   ]
  },
  {
   "cell_type": "markdown",
   "metadata": {},
   "source": [
    "## El método ```df.astype()```.\n",
    "\n",
    "Este método permite regresar los datos contenidos en un dataframe de *Pandas* a un tipo de dato específico. \n",
    "\n",
    "```\n",
    "df.astype(<tipo>)\n",
    "```\n",
    "\n",
    "Donde:\n",
    "\n",
    "* ```<tipo>``` es un tipo de dato soportado por *Pandas*.\n",
    "\n",
    "https://pandas.pydata.org/docs/reference/api/pandas.DataFrame.astype.html"
   ]
  },
  {
   "cell_type": "markdown",
   "metadata": {},
   "source": [
    "**Ejemplos:**"
   ]
  },
  {
   "cell_type": "markdown",
   "metadata": {},
   "source": [
    "* La siguiente celda convertirá el contenido del *dataframe* ```datos``` a ```str```, lo cual dará por resultado elementos de tipo ```object```."
   ]
  },
  {
   "cell_type": "code",
   "execution_count": null,
   "metadata": {},
   "outputs": [],
   "source": [
    "datos"
   ]
  },
  {
   "cell_type": "code",
   "execution_count": null,
   "metadata": {},
   "outputs": [],
   "source": [
    "datos.astype(str)"
   ]
  },
  {
   "cell_type": "code",
   "execution_count": null,
   "metadata": {},
   "outputs": [],
   "source": [
    "datos.astype(str).dtypes"
   ]
  },
  {
   "cell_type": "code",
   "execution_count": null,
   "metadata": {},
   "outputs": [],
   "source": [
    "datos.dtypes"
   ]
  },
  {
   "cell_type": "markdown",
   "metadata": {},
   "source": [
    "* La siguiente celda intentará convertir el contenido de la columna ```datos['saldo']``` a ```int64```. Sin embargo, algunos de sus contenidos no pueden ser convertidos a ese tipo de datos y se generará una excepciónde tipo ```IntCastingNaNError```."
   ]
  },
  {
   "cell_type": "code",
   "execution_count": null,
   "metadata": {},
   "outputs": [],
   "source": [
    "datos['saldo'].astype(\"int64\")"
   ]
  },
  {
   "cell_type": "markdown",
   "metadata": {},
   "source": [
    "## La función ```pd.to_datetime()```.\n",
    "\n",
    "Esta función permite crear una columna de tipo ```datetime64``` a partir de un *dataframe* con columnas cuyos encabezados sean:\n",
    "\n",
    "* ```year``` (obligatorio)\n",
    "* ```month``` (obligatorio)\n",
    "* ```day``` (obligatorio)\n",
    "* ```hour```\n",
    "* ```minutes```\n",
    "* ```seconds```\n",
    "\n",
    "```\n",
    "pd.to_datetime(<df>)\n",
    "```\n",
    "\n",
    "Donde:\n",
    "\n",
    "* ```<df>``` es un *dataframe* con los identificadores de las columnas  dispuesto en el formato descrito.\n",
    "\n",
    "https://pandas.pydata.org/pandas-docs/stable/reference/api/pandas.to_datetime.html"
   ]
  },
  {
   "cell_type": "markdown",
   "metadata": {},
   "source": [
    "**Ejemplo:**"
   ]
  },
  {
   "cell_type": "markdown",
   "metadata": {},
   "source": [
    "* La siguiente celda creará al *dataframe* ```fechas``` con las columnas:\n",
    "    * ```year```\n",
    "    * ```month```\n",
    "    * ```day```\n",
    "    * ```hour```\n",
    "    * ```minutes```\n",
    "    * ```seconds```"
   ]
  },
  {
   "cell_type": "code",
   "execution_count": null,
   "metadata": {},
   "outputs": [],
   "source": [
    "fechas = pd.DataFrame({'year': [1997, 1982, 1985],\n",
    "                       'month': [1, 12, 3],\n",
    "                       'day': [14, 5, 21],\n",
    "                       'hour':[17, 0, 4],\n",
    "                       'minutes':[45, 39, 28],\n",
    "                      'seconds':[11.1803, 23.74583, 3.8798]})"
   ]
  },
  {
   "cell_type": "code",
   "execution_count": null,
   "metadata": {},
   "outputs": [],
   "source": [
    "fechas"
   ]
  },
  {
   "cell_type": "markdown",
   "metadata": {},
   "source": [
    "* A continuacion se creará la serie ```nuevas_fechas```, compuesta por elementos de tipo ```datetime64``` al aplicar la función ```pd.to_datetime()``` al *dataframe* ```fechas```."
   ]
  },
  {
   "cell_type": "code",
   "execution_count": null,
   "metadata": {},
   "outputs": [],
   "source": [
    "nuevas_fechas = pd.to_datetime(fechas)"
   ]
  },
  {
   "cell_type": "code",
   "execution_count": null,
   "metadata": {},
   "outputs": [],
   "source": [
    "nuevas_fechas"
   ]
  },
  {
   "cell_type": "code",
   "execution_count": null,
   "metadata": {},
   "outputs": [],
   "source": [
    "type(nuevas_fechas)"
   ]
  },
  {
   "cell_type": "markdown",
   "metadata": {},
   "source": [
    "## La función ```pd.to_numeric()```.\n",
    "\n",
    "Esta función transforma al contenido de  un *dataframe* o serie a un formato numérico."
   ]
  },
  {
   "cell_type": "markdown",
   "metadata": {},
   "source": [
    "**Ejemplo:**"
   ]
  },
  {
   "cell_type": "markdown",
   "metadata": {},
   "source": [
    "* La siguiente celda transformará la serie ```nuevas_fechas``` a formato numérico."
   ]
  },
  {
   "cell_type": "code",
   "execution_count": null,
   "metadata": {},
   "outputs": [],
   "source": [
    "pd.to_numeric(nuevas_fechas)"
   ]
  },
  {
   "cell_type": "code",
   "execution_count": null,
   "metadata": {},
   "outputs": [],
   "source": [
    "pd.to_datetime(pd.to_numeric(nuevas_fechas))"
   ]
  },
  {
   "cell_type": "markdown",
   "metadata": {},
   "source": [
    "## La función ```pd.to_timedelta()```.\n",
    "\n",
    "Esta función convertirá valores numéricos a formato ```timedelta64``` usando nanosegundos como referencia."
   ]
  },
  {
   "cell_type": "markdown",
   "metadata": {},
   "source": [
    "**Ejemplo:**"
   ]
  },
  {
   "cell_type": "markdown",
   "metadata": {},
   "source": [
    "* La siguiente celda generará al *dataframe* ```datos``` que contiene una secuencia de 20 números."
   ]
  },
  {
   "cell_type": "code",
   "execution_count": null,
   "metadata": {},
   "outputs": [],
   "source": [
    "datos = pd.DataFrame(np.arange(2811154301025,\n",
    "                               2811154301125, 5).reshape(10, 2))"
   ]
  },
  {
   "cell_type": "code",
   "execution_count": null,
   "metadata": {},
   "outputs": [],
   "source": [
    "datos"
   ]
  },
  {
   "cell_type": "markdown",
   "metadata": {},
   "source": [
    "* Se aplicará la función ```pd.to_timedelta()``` a ```datos[1]```."
   ]
  },
  {
   "cell_type": "code",
   "execution_count": null,
   "metadata": {
    "scrolled": true
   },
   "outputs": [],
   "source": [
    "pd.to_timedelta(datos[1])"
   ]
  },
  {
   "cell_type": "markdown",
   "metadata": {},
   "source": [
    "* La siguiente celda intentará ejecutar la función ```pd.to_timedelta()``` al *dataframe* ```nuevas_fechas``` el cual contiene objetos de tipo ```datetime```, desencadenando una excepción de tipo ```TypeError```."
   ]
  },
  {
   "cell_type": "code",
   "execution_count": null,
   "metadata": {},
   "outputs": [],
   "source": [
    "pd.to_timedelta(nuevas_fechas)"
   ]
  },
  {
   "cell_type": "markdown",
   "metadata": {},
   "source": [
    "<p style=\"text-align: center\"><a rel=\"license\" href=\"http://creativecommons.org/licenses/by/4.0/\"><img alt=\"Licencia Creative Commons\" style=\"border-width:0\" src=\"https://i.creativecommons.org/l/by/4.0/80x15.png\" /></a><br />Esta obra está bajo una <a rel=\"license\" href=\"http://creativecommons.org/licenses/by/4.0/\">Licencia Creative Commons Atribución 4.0 Internacional</a>.</p>\n",
    "<p style=\"text-align: center\">&copy; José Luis Chiquete Valdivieso. 2023.</p>"
   ]
  }
 ],
 "metadata": {
  "kernelspec": {
   "display_name": "Python 3 (ipykernel)",
   "language": "python",
   "name": "python3"
  },
  "language_info": {
   "codemirror_mode": {
    "name": "ipython",
    "version": 3
   },
   "file_extension": ".py",
   "mimetype": "text/x-python",
   "name": "python",
   "nbconvert_exporter": "python",
   "pygments_lexer": "ipython3",
   "version": "3.9.2"
  }
 },
 "nbformat": 4,
 "nbformat_minor": 2
}
