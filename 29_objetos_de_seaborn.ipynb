{
 "cells": [
  {
   "cell_type": "markdown",
   "metadata": {},
   "source": [
    "[![img/pythonista.png](img/pythonista.png)](https://www.pythonista.io)"
   ]
  },
  {
   "cell_type": "markdown",
   "metadata": {},
   "source": [
    "# Objetos de *Seaborn*."
   ]
  },
  {
   "cell_type": "markdown",
   "metadata": {},
   "source": [
    "Aún cuando las funciones *Seaborn* son muy populares y fáciles de desarrollar, tienen ciertas desventajas con respecto a otras soluciones basadas en gramáticas de gráficas. A partir de la versión  0.12, *Seaborn* cuenta con una biblioteca de objetos que se apega a dicha gramática.\n",
    "\n",
    "\n",
    "<img src=\"img/grammar_of_graphics.png\">\n",
    "\n",
    "Por convención, la biblioteca de objetos de seaborn ```seaborn.objects``` es importada como ```so```. En adelente, se seguirá dicha convención.\n",
    "\n",
    "https://seaborn.pydata.org/tutorial/objects_interface.html\n",
    "\n",
    "**NOTA:** Debido a que los objetos de *Seaborn* son una adición muy reciente, aún tiene  funcionalidades limitadas en comparación con las funciones."
   ]
  },
  {
   "cell_type": "code",
   "execution_count": null,
   "metadata": {},
   "outputs": [],
   "source": [
    "import seaborn as sns\n",
    "from seaborn import objects as so"
   ]
  },
  {
   "cell_type": "markdown",
   "metadata": {},
   "source": [
    "## La clase ```so.Plot ```.\n",
    "\n",
    "Los componentes principales de este tipo de visualizaciones son los objetos instanciados de la clase ```so.Plot```.\n",
    "\n",
    "```\n",
    "so.Plot(data=<datos>, x=<x>, y=<y>, <args>)\n",
    "```\n",
    "\n",
    "Donde:\n",
    "\n",
    "* ```<datos>``` es un *dataset* compatible con un *dataframe* de *Pandas*.\n",
    "* ```<x>``` es el identificador de la columna del ```<dataset>``` que se utilizará para el eje de las $x$ en caso de que se requiera.\n",
    "* ```<y>``` es el identificador de la columna del ```<dataset>``` que se utilizará para el eje de las $y$ en caso de que se requiera.\n",
    "\n",
    "\n",
    "Los objetos instanciados de ```so.Plot``` cuentan con varios métodos y atributos que permiten cumplir con la funcionalidades de las capas:\n",
    "\n",
    "* Datos.\n",
    "* Estética.\n",
    "* Escala.\n",
    "* Facetas.\n",
    "\n",
    "https://seaborn.pydata.org/generated/seaborn.objects.Plot.html"
   ]
  },
  {
   "cell_type": "markdown",
   "metadata": {},
   "source": [
    "### Métodos en cascada.\n",
    "\n",
    "Los métodos de loss objetos instanciados de ```so.Plot``` también regresan objetos instanciados de ```so.Plot```, por lo que es posible aplicar métodos en cascada."
   ]
  },
  {
   "cell_type": "markdown",
   "metadata": {},
   "source": [
    "### El método ```so.Plot.add() ```.\n",
    "\n",
    "Este método permite añadir funcionalidades que extienden a los objeto de tipo ```so.Plot.add()``` en las capas de objetos geométricos, y estadísitca, principalmente.\n",
    "\n",
    "```\n",
    "so.Plot.add(<func_1>(), <func_2>(), ... <func_n>())\n",
    "```\n",
    "\n",
    "Donde:\n",
    "\n",
    "* Cada ```<func_i>```es una función de ```seaborn.objects```."
   ]
  },
  {
   "cell_type": "markdown",
   "metadata": {},
   "source": [
    "**Ejemplo:**"
   ]
  },
  {
   "cell_type": "code",
   "execution_count": null,
   "metadata": {},
   "outputs": [],
   "source": [
    "dataset = dataset = sns.load_dataset(\"iris\")\n",
    "dataset"
   ]
  },
  {
   "cell_type": "code",
   "execution_count": null,
   "metadata": {
    "scrolled": true
   },
   "outputs": [],
   "source": [
    "so.Plot(data=dataset, x=\"sepal_length\", y=\"sepal_width\")"
   ]
  },
  {
   "cell_type": "code",
   "execution_count": null,
   "metadata": {
    "scrolled": true
   },
   "outputs": [],
   "source": [
    "(so.Plot(data=dataset, x=\"sepal_length\", y=\"sepal_width\")\n",
    " .add(so.Dots()))"
   ]
  },
  {
   "cell_type": "code",
   "execution_count": null,
   "metadata": {},
   "outputs": [],
   "source": [
    "(so.Plot(data=dataset, x=\"sepal_length\", y=\"sepal_width\", color=\"species\")\n",
    " .add(so.Dots()))"
   ]
  },
  {
   "cell_type": "code",
   "execution_count": null,
   "metadata": {
    "scrolled": true
   },
   "outputs": [],
   "source": [
    "(so.Plot(data=dataset, x='sepal_length',\n",
    "         y='sepal_width')\n",
    " .facet('species'))"
   ]
  },
  {
   "cell_type": "code",
   "execution_count": null,
   "metadata": {},
   "outputs": [],
   "source": [
    "(so.Plot(data=dataset, x='sepal_length', color='sepal_length').\n",
    " facet('species').\n",
    " add(so.Bar(), so.Hist()))"
   ]
  },
  {
   "cell_type": "code",
   "execution_count": null,
   "metadata": {
    "scrolled": true
   },
   "outputs": [],
   "source": [
    "(so.Plot(data=dataset, x='sepal_length', color='sepal_length').\n",
    " facet('species').\n",
    " add(so.Bar(), so.Hist()).scale(x=1))"
   ]
  },
  {
   "cell_type": "code",
   "execution_count": null,
   "metadata": {},
   "outputs": [],
   "source": [
    "(so.Plot(data=dataset, x='sepal_length', color='sepal_length').\n",
    " add(so.Bar(), so.S()))"
   ]
  },
  {
   "cell_type": "markdown",
   "metadata": {},
   "source": [
    "<p style=\"text-align: center\"><a rel=\"license\" href=\"http://creativecommons.org/licenses/by/4.0/\"><img alt=\"Licencia Creative Commons\" style=\"border-width:0\" src=\"https://i.creativecommons.org/l/by/4.0/80x15.png\" /></a><br />Esta obra está bajo una <a rel=\"license\" href=\"http://creativecommons.org/licenses/by/4.0/\">Licencia Creative Commons Atribución 4.0 Internacional</a>.</p>\n",
    "<p style=\"text-align: center\">&copy; José Luis Chiquete Valdivieso. 2022.</p>"
   ]
  }
 ],
 "metadata": {
  "kernelspec": {
   "display_name": "Python 3 (ipykernel)",
   "language": "python",
   "name": "python3"
  },
  "language_info": {
   "codemirror_mode": {
    "name": "ipython",
    "version": 3
   },
   "file_extension": ".py",
   "mimetype": "text/x-python",
   "name": "python",
   "nbconvert_exporter": "python",
   "pygments_lexer": "ipython3",
   "version": "3.10.6"
  }
 },
 "nbformat": 4,
 "nbformat_minor": 2
}
