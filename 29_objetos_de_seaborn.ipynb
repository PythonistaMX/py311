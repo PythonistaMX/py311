{
 "cells": [
  {
   "cell_type": "markdown",
   "metadata": {},
   "source": [
    "[![img/pythonista.png](img/pythonista.png)](https://www.pythonista.io)"
   ]
  },
  {
   "cell_type": "markdown",
   "metadata": {},
   "source": [
    "# Objetos de *Seaborn*."
   ]
  },
  {
   "cell_type": "markdown",
   "metadata": {},
   "source": [
    "[*Seaborn*](https://seaborn.pydata.org/) es una biblioteca  de funciones especializadas en visualizaciones estadísticas de datos. A partir de la versión 0.12, *Seaborn* cuenta con una biblioteca de objetos.\n",
    "\n",
    "**Nota:** Por convención, el paquete ```seaborn``` es nombrado como ```sns```.\n",
    "\n",
    "https://seaborn.pydata.org/api.html\n",
    "\n",
    "https://seaborn.pydata.org/tutorial.html"
   ]
  },
  {
   "cell_type": "code",
   "execution_count": null,
   "metadata": {
    "scrolled": false
   },
   "outputs": [],
   "source": [
    "!pip install seaborn"
   ]
  },
  {
   "cell_type": "code",
   "execution_count": null,
   "metadata": {},
   "outputs": [],
   "source": [
    "import seaborn as sns"
   ]
  },
  {
   "cell_type": "markdown",
   "metadata": {},
   "source": [
    "## Acceso a *datasets* de muestra de *Seaborn*."
   ]
  },
  {
   "cell_type": "markdown",
   "metadata": {},
   "source": [
    "*Seaborn* cuenta con un repositorio de *datasets* muy conocidos y de uso común para fines didáctico. El repositorio de *Github* de dichos *datasets* es el siguiente:\n",
    "\n",
    "https://github.com/mwaskom/seaborn-data"
   ]
  },
  {
   "cell_type": "markdown",
   "metadata": {},
   "source": [
    "### La función ```seaborn.load_dataset()```.\n",
    "\n",
    "Para acceder a algún *dataset* de *Seaborn* se utliza la función ```seaborn.load_dataset()```.\n",
    "\n",
    "```\n",
    "sns.load_dataset(<dataset>)\n",
    "```\n",
    "\n",
    "Donde:\n",
    "\n",
    "* ```<dataset>``` es una cadena de caracteres con el nombre del *dataset* al que se quiere acceder."
   ]
  },
  {
   "cell_type": "markdown",
   "metadata": {},
   "source": [
    "**Ejemplo:**"
   ]
  },
  {
   "cell_type": "markdown",
   "metadata": {},
   "source": [
    "* La siguiente celda traerá el *dataset* [*Iris*](https://archive.ics.uci.edu/ml/datasets/iris) como un *dataframe*."
   ]
  },
  {
   "cell_type": "code",
   "execution_count": null,
   "metadata": {
    "scrolled": true
   },
   "outputs": [],
   "source": [
    "sns.load_dataset(\"iris\")"
   ]
  },
  {
   "cell_type": "markdown",
   "metadata": {},
   "source": [
    "## Funciones de *Seaborn*."
   ]
  },
  {
   "cell_type": "markdown",
   "metadata": {},
   "source": [
    "Laa funciones de visualización de *Seaborn* reciben como primer argumento un conjunto de datos (*dataset*), con una  estructura de *dataframe* y los siguientes argumentos definen la columnas que serán usadas para trazar la visualización.\n",
    "\n",
    "```\n",
    "sns.<func>(data=<dataset>, x=<x>, y=<y>, <kwargs>)\n",
    "```\n",
    "\n",
    "Donde:\n",
    "\n",
    "* ```<func>``` es una función de *Seaborn*.\n",
    "* ```<dataset>```es un conjunto de datos en formato de *dataframe*.\n",
    "* ```<x>``` es el identificador de la columna del ```<dataset>``` que se utilizará para el eje de las $x$ en caso de que se requiera.\n",
    "* ```<y>``` es el identificador de la columna del ```<dataset>``` que se utilizará para el eje de las $y$ en caso de que se requiera.\n",
    "\n",
    "https://seaborn.pydata.org/tutorial/function_overview.html"
   ]
  },
  {
   "cell_type": "markdown",
   "metadata": {},
   "source": [
    "### Estructuras tabulares optimizada para *Seaborn*."
   ]
  },
  {
   "cell_type": "markdown",
   "metadata": {},
   "source": [
    "*Seaborn* es una biblioteca altamente especializada que está optimizada para cierto tipo de estructuras de tabla (*dataframes*) en las que las columnas corresponden a cierta variable o característica que se desea visualizar y lo renglones de la columna son los datos que se utilizarán para graficar.\n",
    "\n",
    "\n",
    "\n",
    "https://seaborn.pydata.org/tutorial/data_structure.html#long-form-vs-wide-form-data"
   ]
  },
  {
   "cell_type": "markdown",
   "metadata": {},
   "source": [
    "**Ejemplos:**"
   ]
  },
  {
   "cell_type": "code",
   "execution_count": null,
   "metadata": {
    "scrolled": true
   },
   "outputs": [],
   "source": [
    "dataset = sns.load_dataset(\"iris\")\n",
    "dataset"
   ]
  },
  {
   "cell_type": "markdown",
   "metadata": {},
   "source": [
    "https://seaborn.pydata.org/generated/seaborn.boxplot.html"
   ]
  },
  {
   "cell_type": "code",
   "execution_count": null,
   "metadata": {
    "scrolled": true
   },
   "outputs": [],
   "source": [
    "sns.boxplot(dataset, x=\"species\", y=\"sepal_length\")"
   ]
  },
  {
   "cell_type": "markdown",
   "metadata": {},
   "source": [
    "https://seaborn.pydata.org/generated/seaborn.heatmap.html"
   ]
  },
  {
   "cell_type": "code",
   "execution_count": null,
   "metadata": {
    "scrolled": true
   },
   "outputs": [],
   "source": [
    "(sns.heatmap(dataset.loc[dataset['species'] == \"setosa\"]\n",
    "             .filter(items=dataset.\n",
    "                     drop(['species', 'sepal_length', 'sepal_width'], axis=1).\n",
    "                     sort_values(by=['petal_length', 'petal_width']))))"
   ]
  },
  {
   "cell_type": "markdown",
   "metadata": {},
   "source": [
    "https://seaborn.pydata.org/generated/seaborn.histplot.html"
   ]
  },
  {
   "cell_type": "code",
   "execution_count": null,
   "metadata": {
    "scrolled": true
   },
   "outputs": [],
   "source": [
    "(sns.histplot(data=dataset, x=\"sepal_length\", hue=\"species\", multiple=\"stack\"))"
   ]
  },
  {
   "cell_type": "code",
   "execution_count": null,
   "metadata": {},
   "outputs": [],
   "source": [
    "(sns.histplot(data=dataset, x=\"sepal_length\", hue=\"species\", multiple=\"dodge\"))"
   ]
  },
  {
   "cell_type": "code",
   "execution_count": null,
   "metadata": {},
   "outputs": [],
   "source": [
    "sns.histplot(data=dataset, x=\"sepal_length\", hue=\"species\", multiple=\"dodge\", kde=True)"
   ]
  },
  {
   "cell_type": "code",
   "execution_count": null,
   "metadata": {},
   "outputs": [],
   "source": [
    "sns.histplot(data=dataset, x=\"sepal_length\", hue=\"species\", multiple=\"stack\")"
   ]
  },
  {
   "cell_type": "code",
   "execution_count": null,
   "metadata": {},
   "outputs": [],
   "source": [
    "(sns.histplot(data=dataset.loc[dataset[\"species\"] == \"setosa\"],\n",
    "             x=\"sepal_length\", y=\"petal_length\", hue=\"species\"))"
   ]
  },
  {
   "cell_type": "markdown",
   "metadata": {},
   "source": [
    "## Niveles de visualización."
   ]
  },
  {
   "cell_type": "markdown",
   "metadata": {},
   "source": [
    "* **Visualizaciones a nivel de ejes**, las cuales son trazadas dentro de un objeto [```matplotlib.pyplot.Axes```](https://matplotlib.org/stable/api/axes_api.html).\n",
    "* **Visualizaciones a nivel de figuras**, las cuales permiten trazar múltiple elementos dentro de un objeto [```matplotlib.pyplot.figure```](https://matplotlib.org/stable/api/_as_gen/matplotlib.pyplot.figure.html) mediante el objetos ```seaborn.FacetGrid```.\n",
    "\n",
    "https://seaborn.pydata.org/tutorial/function_overview.html#figure-level-vs-axes-level-functions"
   ]
  },
  {
   "cell_type": "markdown",
   "metadata": {},
   "source": [
    "### Los objetos ```seaborn.FacetGrid```.\n",
    "\n",
    "Lo objetos intanciados de ```seaborn.FacetGrid``` permiten crear *subplots* de forma sencilla.\n",
    "\n",
    "```\n",
    "sns.FacetGrid(<dataset>, col=<col>, row=<row>)\n",
    "```\n",
    "\n",
    "Donde:\n",
    "\n",
    "* ```<dataset>```es un conjunto de datos en formato compatible con un *dataframe*.\n",
    "* ```<col>``` es el identificador de la columna del ```<dataset>``` que se utilizará para clasificar las columnas de los *subplots*.\n",
    "* ```<row>``` es el identificador de la columna del ```<dataset>``` que se utilizará para clasificar las fila de los *subplots*.\n",
    "\n",
    "https://seaborn.pydata.org/generated/seaborn.FacetGrid.html#seaborn-facetgrid"
   ]
  },
  {
   "cell_type": "markdown",
   "metadata": {},
   "source": [
    "#### El método ```seaborn.FacetGrid.map()```.\n",
    "\n",
    "El método ```seaborn.FacetGrid.map()``` permite añadir una función de *Seaborn* a los *subplot* de las instancias de ```seaborn.FacetGrid.map()```.\n",
    "\n",
    "\n",
    "```\n",
    "<fg>.map(<func>, <col_1>, <col_2>, .. <col_n>)\n",
    "```\n",
    "\n",
    "Donde:\n",
    "\n",
    "* ```<fg>```es una instancia de ```seaborn.FacetGrid```.\n",
    "* ```<func>```es una función de *Seaborn*.\n",
    "* Cada ```<col>``` e el identificador de columna que se quiera usar con ```<func>```.\n",
    "\n",
    "https://seaborn.pydata.org/generated/seaborn.FacetGrid.map.html#seaborn.FacetGrid.map"
   ]
  },
  {
   "cell_type": "markdown",
   "metadata": {},
   "source": [
    "**Ejemplo:**"
   ]
  },
  {
   "cell_type": "code",
   "execution_count": null,
   "metadata": {},
   "outputs": [],
   "source": [
    "dataset"
   ]
  },
  {
   "cell_type": "code",
   "execution_count": null,
   "metadata": {
    "scrolled": true
   },
   "outputs": [],
   "source": [
    "sns.FacetGrid(dataset, col=\"species\")"
   ]
  },
  {
   "cell_type": "code",
   "execution_count": null,
   "metadata": {},
   "outputs": [],
   "source": [
    "g = sns.FacetGrid(dataset, col=\"species\")\n",
    "g.map(sns.histplot, \"petal_length\", \"sepal_length\")"
   ]
  },
  {
   "cell_type": "markdown",
   "metadata": {},
   "source": [
    "### Los objetos ```seaborn.PairGrid```.\n",
    "\n",
    "Son subclases de ```seaborn.FacetGrid```, que permiten mapear columnas de un *dataset* por pares.\n",
    "\n",
    "\n",
    "```\n",
    "sns.PairGrid(<dataset>)\n",
    "```\n",
    "\n",
    "Donde:\n",
    "\n",
    "* ```<dataset>```es un conjunto de datos en formato compatible con un *dataframe*.\n",
    "\n",
    "https://seaborn.pydata.org/generated/seaborn.PairGrid.html"
   ]
  },
  {
   "cell_type": "markdown",
   "metadata": {},
   "source": [
    "#### Métodos de mapeo para objetos ```seaborn.PairGrid```.\n",
    "\n",
    "Lo objetos instanciados de ```seaborn.PairGrid``` pueden tener los siguientes métodos de mapeo de funciones.\n",
    "\n",
    "* [```seaborn.PairGrid.map()```](https://seaborn.pydata.org/generated/seaborn.PairGrid.map.html), el cual mapea una función de *Seaborn* a todos los *subplots*.\n",
    "* [```seaborn.PairGrid.map_diag()```](https://seaborn.pydata.org/generated/seaborn.PairGrid.map_diag.html), el cual mapea una función de *Seaborn* a los *subplots* diagonales.\n",
    "* [```seaborn.PairGrid.map_offdiag()```](https://seaborn.pydata.org/generated/seaborn.PairGrid.map_offdiag.html),  el cual mapea una función de *Seaborn* a los *subplots* que no sean diagonales.\n",
    "* [```seaborn.PairGrid.map_upper()```](https://seaborn.pydata.org/generated/seaborn.PairGrid.map_upper.html), el cual mapea una función de *Seaborn* a los *subplots* por encima de la diagonal.\n",
    "* [```seaborn.PairGrid.map_lower()```](https://seaborn.pydata.org/generated/seaborn.PairGrid.map_lower.html), el cual mapea una función de *Seaborn* a los *subplots* por encima de la diagonal.\n",
    "\n",
    "\n",
    "```\n",
    "<pg>.<método>(<func>, <col_1>, <col_2>, .. <col_n>)\n",
    "```\n",
    "\n",
    "Donde:\n",
    "\n",
    "* ```<fg>```es una instancia de ```seaborn.PairGrid```.\n",
    "* ```<método>``` es alguno de los métodos enumerados.\n",
    "* ```<func>```es una función de *Seaborn*.\n"
   ]
  },
  {
   "cell_type": "markdown",
   "metadata": {},
   "source": [
    "**Ejemplos:**"
   ]
  },
  {
   "cell_type": "code",
   "execution_count": null,
   "metadata": {},
   "outputs": [],
   "source": [
    "dataset"
   ]
  },
  {
   "cell_type": "code",
   "execution_count": null,
   "metadata": {},
   "outputs": [],
   "source": [
    "sns.PairGrid(dataset)"
   ]
  },
  {
   "cell_type": "code",
   "execution_count": null,
   "metadata": {},
   "outputs": [],
   "source": [
    "g = sns.PairGrid(dataset)\n",
    "g.map(sns.scatterplot)"
   ]
  },
  {
   "cell_type": "code",
   "execution_count": null,
   "metadata": {},
   "outputs": [],
   "source": [
    "g = sns.PairGrid(dataset)\n",
    "g.map_offdiag(sns.scatterplot)\n",
    "g.map_diag(sns.kdeplot)"
   ]
  },
  {
   "cell_type": "code",
   "execution_count": null,
   "metadata": {},
   "outputs": [],
   "source": [
    "g = sns.PairGrid(dataset)\n",
    "g.map_upper(sns.scatterplot)\n",
    "g.map_lower(sns.histplot)\n",
    "g.map_diag(sns.kdeplot)"
   ]
  },
  {
   "cell_type": "markdown",
   "metadata": {},
   "source": [
    "## Los objetos de *Seaborn*.\n",
    "\n",
    "http://seaborn.pydata.org/api.html#objects-api"
   ]
  },
  {
   "cell_type": "code",
   "execution_count": null,
   "metadata": {},
   "outputs": [],
   "source": []
  },
  {
   "cell_type": "markdown",
   "metadata": {},
   "source": [
    "https://seaborn.pydata.org/api.html"
   ]
  },
  {
   "cell_type": "markdown",
   "metadata": {},
   "source": [
    "https://seaborn.pydata.org/generated/seaborn.objects.Plot.html#"
   ]
  },
  {
   "cell_type": "code",
   "execution_count": null,
   "metadata": {},
   "outputs": [],
   "source": []
  },
  {
   "cell_type": "markdown",
   "metadata": {},
   "source": []
  },
  {
   "cell_type": "markdown",
   "metadata": {},
   "source": [
    "https://seaborn.pydata.org/generated/seaborn.load_dataset.html"
   ]
  },
  {
   "cell_type": "markdown",
   "metadata": {},
   "source": [
    "<p style=\"text-align: center\"><a rel=\"license\" href=\"http://creativecommons.org/licenses/by/4.0/\"><img alt=\"Licencia Creative Commons\" style=\"border-width:0\" src=\"https://i.creativecommons.org/l/by/4.0/80x15.png\" /></a><br />Esta obra está bajo una <a rel=\"license\" href=\"http://creativecommons.org/licenses/by/4.0/\">Licencia Creative Commons Atribución 4.0 Internacional</a>.</p>\n",
    "<p style=\"text-align: center\">&copy; José Luis Chiquete Valdivieso. 2022.</p>"
   ]
  }
 ],
 "metadata": {
  "kernelspec": {
   "display_name": "Python 3 (ipykernel)",
   "language": "python",
   "name": "python3"
  },
  "language_info": {
   "codemirror_mode": {
    "name": "ipython",
    "version": 3
   },
   "file_extension": ".py",
   "mimetype": "text/x-python",
   "name": "python",
   "nbconvert_exporter": "python",
   "pygments_lexer": "ipython3",
   "version": "3.10.6"
  }
 },
 "nbformat": 4,
 "nbformat_minor": 2
}
