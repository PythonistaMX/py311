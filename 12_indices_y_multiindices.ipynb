{
 "cells": [
  {
   "cell_type": "markdown",
   "metadata": {},
   "source": [
    "[![img/pythonista.png](img/pythonista.png)](https://www.pythonista.io)"
   ]
  },
  {
   "cell_type": "markdown",
   "metadata": {},
   "source": [
    "# Índices y multiíndeces.\n",
    "\n",
    "Los índices e índices de columnas son objetos de *Pandas* que pueden ser tan simple como un listados de cadenas de caracteres o estructuras compleja de múltiples niveles.\n",
    "\n",
    "En este capítulo se estudiarán a los objetos instanciados de las clases ```pd.Index``` y ```pd.MultiIndex```."
   ]
  },
  {
   "cell_type": "code",
   "execution_count": null,
   "metadata": {},
   "outputs": [],
   "source": [
    "import pandas as pd\n",
    "import numpy as np"
   ]
  },
  {
   "cell_type": "markdown",
   "metadata": {},
   "source": [
    "## El atributo ```df.axes```.\n",
    "\n",
    "Este atributo ```df.axes``` es una lista que contiene al índice y al índice de las columnas de un *dataframe*.\n",
    "\n",
    "* El objeto ```df.axes[0]``` corresponde a los índices del *dataframe*.\n",
    "* El objeto ```df.axes[1]``` corresponde a los índices de la columnas del *dataframe*.\n",
    "\n",
    "Los índices pueden ser de tipo ```pd.Index``` o ```pd.MultiIndex```."
   ]
  },
  {
   "cell_type": "markdown",
   "metadata": {},
   "source": [
    "**Ejemplo:**"
   ]
  },
  {
   "cell_type": "markdown",
   "metadata": {},
   "source": [
    "* Se creará al *dataframe* ```poblacion```. "
   ]
  },
  {
   "cell_type": "code",
   "execution_count": null,
   "metadata": {},
   "outputs": [],
   "source": [
    "poblacion = pd.DataFrame({'Animal':('lobo',\n",
    "                                    'coyote',\n",
    "                                   'jaguar',\n",
    "                                   'cerdo salvaje',\n",
    "                                    'tapir',\n",
    "                                    'venado',\n",
    "                                    'ocelote',\n",
    "                                    'puma'),\n",
    "                         'Norte_I':(12,\n",
    "                                   np.NAN,\n",
    "                                    None,\n",
    "                                    2,\n",
    "                                    4,\n",
    "                                    2,\n",
    "                                    14,\n",
    "                                    5\n",
    "                                   ),\n",
    "                          'Norte_II':(23,\n",
    "                                    4,\n",
    "                                    25,\n",
    "                                    21,\n",
    "                                    9,\n",
    "                                    121,\n",
    "                                    1,\n",
    "                                    2\n",
    "                                   ),\n",
    "                         'Centro_I':(15,\n",
    "                                    23,\n",
    "                                    2,\n",
    "                                    120,\n",
    "                                    40,\n",
    "                                    121,\n",
    "                                    0,\n",
    "                                    5),\n",
    "                         'Sur_I':(28,\n",
    "                                  46,\n",
    "                                  14,\n",
    "                                  156,\n",
    "                                  79,\n",
    "                                  12,\n",
    "                                  2,\n",
    "                                  np.NAN)}).set_index('Animal')"
   ]
  },
  {
   "cell_type": "code",
   "execution_count": null,
   "metadata": {},
   "outputs": [],
   "source": [
    "poblacion"
   ]
  },
  {
   "cell_type": "markdown",
   "metadata": {},
   "source": [
    "* Se desplegará ```poblacion.axes```."
   ]
  },
  {
   "cell_type": "code",
   "execution_count": null,
   "metadata": {},
   "outputs": [],
   "source": [
    "poblacion.axes"
   ]
  },
  {
   "cell_type": "code",
   "execution_count": null,
   "metadata": {},
   "outputs": [],
   "source": [
    "poblacion.axes[0]"
   ]
  },
  {
   "cell_type": "code",
   "execution_count": null,
   "metadata": {},
   "outputs": [],
   "source": [
    "poblacion.axes[1]"
   ]
  },
  {
   "cell_type": "markdown",
   "metadata": {},
   "source": [
    "## La clase ```pd.Index```.\n",
    "\n",
    "Esta clase es la clase que permite crear índices simples y se instancia de esta manera.\n",
    "\n",
    "```\n",
    "pd.Index(['<índice 1>', '<índice 2>',..., '<índice n>'], name='<nombre>')\n",
    "```\n",
    "Donde:\n",
    "\n",
    "* ```<índice x>``` es una cadena de caracteres correspondiente al nombre de un índice.\n",
    "* ```<nombre>``` es una cadena de caracteres para el atributo ```name``` del objeto ```pd.Index```."
   ]
  },
  {
   "cell_type": "markdown",
   "metadata": {},
   "source": [
    "**Ejemplo:**"
   ]
  },
  {
   "cell_type": "markdown",
   "metadata": {},
   "source": [
    "* Se creará el objeto ```pd.Index``` con nombre ```indice```."
   ]
  },
  {
   "cell_type": "code",
   "execution_count": null,
   "metadata": {},
   "outputs": [],
   "source": [
    "indice = pd.Index(['N_1', 'N_2', 'C', 'S'], name='Regiones')"
   ]
  },
  {
   "cell_type": "markdown",
   "metadata": {},
   "source": [
    "* Se asignará ```indice``` al atributo ```poblacion.columns```."
   ]
  },
  {
   "cell_type": "code",
   "execution_count": null,
   "metadata": {},
   "outputs": [],
   "source": [
    "poblacion"
   ]
  },
  {
   "cell_type": "code",
   "execution_count": null,
   "metadata": {},
   "outputs": [],
   "source": [
    "poblacion.columns = indice"
   ]
  },
  {
   "cell_type": "code",
   "execution_count": null,
   "metadata": {},
   "outputs": [],
   "source": [
    "poblacion"
   ]
  },
  {
   "cell_type": "markdown",
   "metadata": {},
   "source": [
    "### El atributo ```pd.Index.name```.\n",
    "\n",
    "Este atributo contiene el nombre del objeto ```pd.Index.name```, el cual será desplegado como parte de un índice."
   ]
  },
  {
   "cell_type": "markdown",
   "metadata": {},
   "source": [
    "* Se despegará el atributo ```name``` de ```poblacion.index```."
   ]
  },
  {
   "cell_type": "code",
   "execution_count": null,
   "metadata": {},
   "outputs": [],
   "source": [
    "poblacion.index.name"
   ]
  },
  {
   "cell_type": "code",
   "execution_count": null,
   "metadata": {},
   "outputs": [],
   "source": [
    "poblacion.columns.name"
   ]
  },
  {
   "cell_type": "markdown",
   "metadata": {},
   "source": [
    "### El atributo ```pd.Index.values```.\n",
    "\n",
    "Este atributo es un objeto ```np.ndarray``` que contiene los nombres de cada índice."
   ]
  },
  {
   "cell_type": "markdown",
   "metadata": {},
   "source": [
    "**Ejemplos:**"
   ]
  },
  {
   "cell_type": "markdown",
   "metadata": {},
   "source": [
    "* Se desplegará el atributo ```poblacion.columns.values```."
   ]
  },
  {
   "cell_type": "code",
   "execution_count": null,
   "metadata": {},
   "outputs": [],
   "source": [
    "poblacion.columns.values"
   ]
  },
  {
   "cell_type": "markdown",
   "metadata": {},
   "source": [
    "* Se sustituirá el valor de ```poblacion.columns.values[3]``` por la cadena ```'Sur'```."
   ]
  },
  {
   "cell_type": "code",
   "execution_count": null,
   "metadata": {},
   "outputs": [],
   "source": [
    "poblacion.columns.values[3] = 'Sur'"
   ]
  },
  {
   "cell_type": "code",
   "execution_count": null,
   "metadata": {},
   "outputs": [],
   "source": [
    "poblacion"
   ]
  },
  {
   "cell_type": "markdown",
   "metadata": {},
   "source": [
    "## La clase ```pd.MultiIndex```.\n",
    "\n",
    "Los objetos instanciados de la clase ```pd.MultiIndex``` permiten tener más de un nivel de índices.\n",
    "\n",
    "Estos objetos están conformados por:\n",
    "* niveles (```levels```), los cuales se van desagregando conforme descienden.\n",
    "* codigos de ordenamiento (```codes```), ls cuales contienen listas describiendo la distribución de los índices por nivel.\n",
    "* nombres (```names```) correspondientes a cada nivel."
   ]
  },
  {
   "cell_type": "markdown",
   "metadata": {},
   "source": [
    " ## Creación de un objeto ```pd.MultiIndex```.\n",
    " \n",
    " Para la creación de objetos instanciados de ```pd.MultiIndex``` se pueden utilizar los siguientes métodos de clase:\n",
    " \n",
    " * ```pd.MultiIndex.from_arrays()```.\n",
    " * ```pd.MultiIndex.from_tuples()```.\n",
    " * ```pd.MultiIndex.from_products()```.\n",
    " * ```pd.MultiIndex.from_dataframes()```. \n",
    " \n",
    " \n",
    " ```\n",
    " pd.MultiIndex.<método>(<objeto>, names=<interable con un nombre para cada nivel>)\n",
    " ```"
   ]
  },
  {
   "cell_type": "markdown",
   "metadata": {},
   "source": [
    "**Ejemplos:**"
   ]
  },
  {
   "cell_type": "markdown",
   "metadata": {},
   "source": [
    "* A continuación se creará una tupla que describe diversos índices."
   ]
  },
  {
   "cell_type": "code",
   "execution_count": null,
   "metadata": {},
   "outputs": [],
   "source": [
    "lista = []\n",
    "for zona in ('Norte_I', 'Sur_I', 'Centro_I'):\n",
    "    for animal in ('jaguar', 'conejo', 'lobo'):\n",
    "        lista.append((zona, animal))      "
   ]
  },
  {
   "cell_type": "code",
   "execution_count": null,
   "metadata": {},
   "outputs": [],
   "source": [
    "lista"
   ]
  },
  {
   "cell_type": "code",
   "execution_count": null,
   "metadata": {},
   "outputs": [],
   "source": [
    "tupla=tuple(lista) "
   ]
  },
  {
   "cell_type": "code",
   "execution_count": null,
   "metadata": {},
   "outputs": [],
   "source": [
    "tupla"
   ]
  },
  {
   "cell_type": "markdown",
   "metadata": {},
   "source": [
    "* La siguiente celda creará un objeto a partir de ```pd.MultiIndex.from_tuples```."
   ]
  },
  {
   "cell_type": "code",
   "execution_count": null,
   "metadata": {
    "scrolled": true
   },
   "outputs": [],
   "source": [
    "pd.MultiIndex.from_tuples(tupla, names=['zona', 'animal'])"
   ]
  },
  {
   "cell_type": "markdown",
   "metadata": {},
   "source": [
    "* A continuación se crearán objetos similares utilizando  el método ```pd.MultiIndex.from_product()```."
   ]
  },
  {
   "cell_type": "code",
   "execution_count": null,
   "metadata": {},
   "outputs": [],
   "source": [
    "pd.MultiIndex.from_product([('Norte_I', 'Sur_I', 'Centro_I'), \n",
    "                            ('jaguar', 'conejo', 'lobo')],\n",
    "                           names=['zona', 'animal'])"
   ]
  },
  {
   "cell_type": "markdown",
   "metadata": {},
   "source": [
    "* Se definirá al objeto ```columnas``` utilizando  el método ```pd.MultiIndex.from_product()```."
   ]
  },
  {
   "cell_type": "code",
   "execution_count": null,
   "metadata": {},
   "outputs": [],
   "source": [
    "columnas = pd.MultiIndex.from_product([('Norte_I', 'Sur_I', 'Centro_I'),\n",
    "                                       ('jaguar', 'conejo', 'lobo')],\n",
    "                                     names=['zona', 'animal'])"
   ]
  },
  {
   "cell_type": "markdown",
   "metadata": {},
   "source": [
    "El *dataframe* ```poblacion``` será creado utilizando el objeto ```columnas``` para el atributo ```poblacion.columns```."
   ]
  },
  {
   "cell_type": "code",
   "execution_count": null,
   "metadata": {},
   "outputs": [],
   "source": [
    "poblacion = pd.DataFrame([[12, 11, 24, 32, 15, 42, 35, 11, 35],\n",
    "                          [23, 22, 54, 3, 34, 24, 39, 29, 11],\n",
    "                          [35, 32, 67, 15, 42, 34, 46, 40, 13],\n",
    "                          [33, 43, 87, 11, 61, 42, 52, 41, 15],\n",
    "                          [44, 56, 98, 16, 70, 50, 57, 41, 17],\n",
    "                          [53, 62, 103, 21, 74, 54, 69, 55, 23]], \n",
    "                         index=('enero', 'febrero', 'marzo', 'abril', 'mayo', 'junio'),\n",
    "                         columns=columnas)"
   ]
  },
  {
   "cell_type": "code",
   "execution_count": null,
   "metadata": {},
   "outputs": [],
   "source": [
    "poblacion.columns"
   ]
  },
  {
   "cell_type": "code",
   "execution_count": null,
   "metadata": {
    "scrolled": true
   },
   "outputs": [],
   "source": [
    "poblacion"
   ]
  },
  {
   "cell_type": "markdown",
   "metadata": {},
   "source": [
    "# Indexado.\n",
    "\n",
    "El indexado de un índice se realiza mediante corchetes. El corchete inicial corresponde al nivel superior.\n",
    "\n",
    "```\n",
    "df[<id_1>][<id_2>]...[<id_n>]\n",
    "```\n",
    "Donde:\n",
    "\n",
    "* Cada ```<id_i>``` es el identificador del índice al que se desea acceder en el nivel ```i``` correspondiente."
   ]
  },
  {
   "cell_type": "markdown",
   "metadata": {},
   "source": [
    "**Ejemplo:**"
   ]
  },
  {
   "cell_type": "markdown",
   "metadata": {},
   "source": [
    "* La siguiente celda regreará un *dataframe* correspondiente a las columnas del índice de primer nivel ```poblacion['Norte_I']```."
   ]
  },
  {
   "cell_type": "code",
   "execution_count": null,
   "metadata": {
    "scrolled": true
   },
   "outputs": [],
   "source": [
    "poblacion['Norte_I']"
   ]
  },
  {
   "cell_type": "markdown",
   "metadata": {},
   "source": [
    "* La siguiente celda regreará un *dataframe* correspondiente a las columnas del índice de primer nivel ```poblacion['Sur_I']['jaguar']```."
   ]
  },
  {
   "cell_type": "code",
   "execution_count": null,
   "metadata": {},
   "outputs": [],
   "source": [
    "poblacion['Sur_I']['jaguar']"
   ]
  },
  {
   "cell_type": "markdown",
   "metadata": {},
   "source": [
    "## El metódo ```pd.MultiIndex.droplevel()```.\n",
    "\n",
    "Este método elimina un nivel de un objeto ```pd.MultiIndex```.\n",
    "\n",
    "```\n",
    "<objeto MultiIndex>.droplevel(<nivel>)\n",
    "```"
   ]
  },
  {
   "cell_type": "markdown",
   "metadata": {},
   "source": [
    "**Ejemplo:**"
   ]
  },
  {
   "cell_type": "markdown",
   "metadata": {},
   "source": [
    "* Se utilizará al objeto ```columnas``` creado previamente."
   ]
  },
  {
   "cell_type": "code",
   "execution_count": null,
   "metadata": {
    "scrolled": true
   },
   "outputs": [],
   "source": [
    "columnas"
   ]
  },
  {
   "cell_type": "markdown",
   "metadata": {},
   "source": [
    "* La siguiente celda eliminará el primer nivel del objeto ```columnas```."
   ]
  },
  {
   "cell_type": "code",
   "execution_count": null,
   "metadata": {},
   "outputs": [],
   "source": [
    "columnas.droplevel(0)"
   ]
  },
  {
   "cell_type": "markdown",
   "metadata": {},
   "source": [
    "* La siguiente celda al objeto ```nuevas_cols``` a partir de eliminar el primer nivel del objeto ```columnas```."
   ]
  },
  {
   "cell_type": "code",
   "execution_count": null,
   "metadata": {},
   "outputs": [],
   "source": [
    "nuevas_cols = poblacion.columns.droplevel('zona')"
   ]
  },
  {
   "cell_type": "code",
   "execution_count": null,
   "metadata": {
    "scrolled": true
   },
   "outputs": [],
   "source": [
    "nuevas_cols"
   ]
  },
  {
   "cell_type": "markdown",
   "metadata": {},
   "source": [
    "* La siguiente celda asignará al atributo ```poblacion.columns``` el objeto ```nuevas_cols```."
   ]
  },
  {
   "cell_type": "code",
   "execution_count": null,
   "metadata": {},
   "outputs": [],
   "source": [
    "poblacion.columns = nuevas_cols"
   ]
  },
  {
   "cell_type": "code",
   "execution_count": null,
   "metadata": {
    "scrolled": true
   },
   "outputs": [],
   "source": [
    "poblacion"
   ]
  },
  {
   "cell_type": "code",
   "execution_count": null,
   "metadata": {},
   "outputs": [],
   "source": [
    "poblacion['jaguar']"
   ]
  },
  {
   "cell_type": "markdown",
   "metadata": {},
   "source": [
    "<p style=\"text-align: center\"><a rel=\"license\" href=\"http://creativecommons.org/licenses/by/4.0/\"><img alt=\"Licencia Creative Commons\" style=\"border-width:0\" src=\"https://i.creativecommons.org/l/by/4.0/80x15.png\" /></a><br />Esta obra está bajo una <a rel=\"license\" href=\"http://creativecommons.org/licenses/by/4.0/\">Licencia Creative Commons Atribución 4.0 Internacional</a>.</p>\n",
    "<p style=\"text-align: center\">&copy; José Luis Chiquete Valdivieso. 2022.</p>"
   ]
  }
 ],
 "metadata": {
  "kernelspec": {
   "display_name": "Python 3 (ipykernel)",
   "language": "python",
   "name": "python3"
  },
  "language_info": {
   "codemirror_mode": {
    "name": "ipython",
    "version": 3
   },
   "file_extension": ".py",
   "mimetype": "text/x-python",
   "name": "python",
   "nbconvert_exporter": "python",
   "pygments_lexer": "ipython3",
   "version": "3.10.6"
  }
 },
 "nbformat": 4,
 "nbformat_minor": 2
}
