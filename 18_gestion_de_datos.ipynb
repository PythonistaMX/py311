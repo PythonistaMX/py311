{
 "cells": [
  {
   "cell_type": "markdown",
   "metadata": {},
   "source": [
    "[![img/pythonista.png](img/pythonista.png)](https://www.pythonista.io)"
   ]
  },
  {
   "cell_type": "markdown",
   "metadata": {},
   "source": [
    "# Gestión de datos."
   ]
  },
  {
   "cell_type": "markdown",
   "metadata": {},
   "source": [
    "Este capítulo explorará diversos atributos y métodos de las series y los *dataframes* de *Pandas* que pueden ser útiles para la gestión de los datos que contienen."
   ]
  },
  {
   "cell_type": "code",
   "execution_count": 1,
   "metadata": {
    "scrolled": true
   },
   "outputs": [],
   "source": [
    "import pandas as pd\n",
    "import numpy as np"
   ]
  },
  {
   "cell_type": "markdown",
   "metadata": {},
   "source": [
    "## *Dataframe* ilustrativo."
   ]
  },
  {
   "cell_type": "markdown",
   "metadata": {},
   "source": [
    "El *dataframe* ```poblacion``` representa un censo poblacional de especies animales en diversas regiones geográficas.\n",
    "\n",
    "Las poblaciones de animales censadas representan los índices del *dataframe* y son:\n",
    "* ```'lobo'```.\n",
    "* ```'coyote'```.\n",
    "* ```'jaguar'```.\n",
    "* ```'cerdo salvaje'```.\n",
    "* ```'tapir'```.\n",
    "* ```'venado'```.\n",
    "* ```'ocelote'```. \n",
    "* ```'puma'```.\n",
    "\n",
    "Las regiones geográficas representan la columnas del *dataframe* y son:\n",
    "\n",
    "* ```Norte_I```.\n",
    "* ```Norte_II```.\n",
    "* ```Centro_I```.\n",
    "* ```Sur_I```."
   ]
  },
  {
   "cell_type": "code",
   "execution_count": 2,
   "metadata": {
    "scrolled": true
   },
   "outputs": [],
   "source": [
    "poblacion = pd.DataFrame({'Animal':('lobo',\n",
    "                                   'coyote',\n",
    "                                   'jaguar',\n",
    "                                   'cerdo salvaje',\n",
    "                                    'tapir',\n",
    "                                    'venado',\n",
    "                                    'ocelote',\n",
    "                                    'puma'),\n",
    "                         'Norte_I':(12,\n",
    "                                   np.NAN,\n",
    "                                    None,\n",
    "                                    2,\n",
    "                                    4,\n",
    "                                    2,\n",
    "                                    14,\n",
    "                                    5\n",
    "                                   ),\n",
    "                          'Norte_II':(23,\n",
    "                                    4,\n",
    "                                    25,\n",
    "                                    21,\n",
    "                                    9,\n",
    "                                    121,\n",
    "                                    1,\n",
    "                                    2\n",
    "                                   ),\n",
    "                         'Centro_I':(15,\n",
    "                                    23,\n",
    "                                    2,\n",
    "                                    120,\n",
    "                                    40,\n",
    "                                    121,\n",
    "                                    0,\n",
    "                                    5),\n",
    "                         'Sur_I':(28,\n",
    "                                  46,\n",
    "                                  14,\n",
    "                                  156,\n",
    "                                  79,\n",
    "                                  12,\n",
    "                                  2,\n",
    "                                  np.NAN)}).set_index('Animal')"
   ]
  },
  {
   "cell_type": "code",
   "execution_count": 3,
   "metadata": {
    "scrolled": false
   },
   "outputs": [
    {
     "data": {
      "text/html": [
       "<div>\n",
       "<style scoped>\n",
       "    .dataframe tbody tr th:only-of-type {\n",
       "        vertical-align: middle;\n",
       "    }\n",
       "\n",
       "    .dataframe tbody tr th {\n",
       "        vertical-align: top;\n",
       "    }\n",
       "\n",
       "    .dataframe thead th {\n",
       "        text-align: right;\n",
       "    }\n",
       "</style>\n",
       "<table border=\"1\" class=\"dataframe\">\n",
       "  <thead>\n",
       "    <tr style=\"text-align: right;\">\n",
       "      <th></th>\n",
       "      <th>Norte_I</th>\n",
       "      <th>Norte_II</th>\n",
       "      <th>Centro_I</th>\n",
       "      <th>Sur_I</th>\n",
       "    </tr>\n",
       "    <tr>\n",
       "      <th>Animal</th>\n",
       "      <th></th>\n",
       "      <th></th>\n",
       "      <th></th>\n",
       "      <th></th>\n",
       "    </tr>\n",
       "  </thead>\n",
       "  <tbody>\n",
       "    <tr>\n",
       "      <th>lobo</th>\n",
       "      <td>12.0</td>\n",
       "      <td>23</td>\n",
       "      <td>15</td>\n",
       "      <td>28.0</td>\n",
       "    </tr>\n",
       "    <tr>\n",
       "      <th>coyote</th>\n",
       "      <td>NaN</td>\n",
       "      <td>4</td>\n",
       "      <td>23</td>\n",
       "      <td>46.0</td>\n",
       "    </tr>\n",
       "    <tr>\n",
       "      <th>jaguar</th>\n",
       "      <td>NaN</td>\n",
       "      <td>25</td>\n",
       "      <td>2</td>\n",
       "      <td>14.0</td>\n",
       "    </tr>\n",
       "    <tr>\n",
       "      <th>cerdo salvaje</th>\n",
       "      <td>2.0</td>\n",
       "      <td>21</td>\n",
       "      <td>120</td>\n",
       "      <td>156.0</td>\n",
       "    </tr>\n",
       "    <tr>\n",
       "      <th>tapir</th>\n",
       "      <td>4.0</td>\n",
       "      <td>9</td>\n",
       "      <td>40</td>\n",
       "      <td>79.0</td>\n",
       "    </tr>\n",
       "    <tr>\n",
       "      <th>venado</th>\n",
       "      <td>2.0</td>\n",
       "      <td>121</td>\n",
       "      <td>121</td>\n",
       "      <td>12.0</td>\n",
       "    </tr>\n",
       "    <tr>\n",
       "      <th>ocelote</th>\n",
       "      <td>14.0</td>\n",
       "      <td>1</td>\n",
       "      <td>0</td>\n",
       "      <td>2.0</td>\n",
       "    </tr>\n",
       "    <tr>\n",
       "      <th>puma</th>\n",
       "      <td>5.0</td>\n",
       "      <td>2</td>\n",
       "      <td>5</td>\n",
       "      <td>NaN</td>\n",
       "    </tr>\n",
       "  </tbody>\n",
       "</table>\n",
       "</div>"
      ],
      "text/plain": [
       "               Norte_I  Norte_II  Centro_I  Sur_I\n",
       "Animal                                           \n",
       "lobo              12.0        23        15   28.0\n",
       "coyote             NaN         4        23   46.0\n",
       "jaguar             NaN        25         2   14.0\n",
       "cerdo salvaje      2.0        21       120  156.0\n",
       "tapir              4.0         9        40   79.0\n",
       "venado             2.0       121       121   12.0\n",
       "ocelote           14.0         1         0    2.0\n",
       "puma               5.0         2         5    NaN"
      ]
     },
     "execution_count": 3,
     "metadata": {},
     "output_type": "execute_result"
    }
   ],
   "source": [
    "poblacion"
   ]
  },
  {
   "cell_type": "markdown",
   "metadata": {},
   "source": [
    "## El atributo ```values```.\n",
    "\n",
    "El atributo ```values``` regresa un arreglo de ```numpy``` con los valores que contiene una serie o *dataframe*.\n",
    "\n",
    "https://pandas.pydata.org/pandas-docs/stable/reference/api/pandas.DataFrame.values.html"
   ]
  },
  {
   "cell_type": "markdown",
   "metadata": {},
   "source": [
    "**Ejemplo:**"
   ]
  },
  {
   "cell_type": "code",
   "execution_count": null,
   "metadata": {
    "scrolled": true
   },
   "outputs": [],
   "source": [
    "poblacion.values"
   ]
  },
  {
   "cell_type": "markdown",
   "metadata": {},
   "source": [
    "## El método ```head()```.\n",
    "\n",
    "Regresa los primeros ```n``` renglones de un objeto de *Pandas*.\n",
    "\n",
    "```\n",
    "<obj>.head(<n>)\n",
    "```\n",
    "\n",
    "Donde:\n",
    "\n",
    "* ```<obj>``` es una serie o un *dataframe*.\n",
    "* ```<n>``` es el número de renglones que se desean ver. En caso de no definir ```<n>``` el método regresa los primeros 5 renglones.\n",
    "\n",
    "https://pandas.pydata.org/pandas-docs/stable/reference/api/pandas.DataFrame.head.html"
   ]
  },
  {
   "cell_type": "markdown",
   "metadata": {},
   "source": [
    "**Ejemplos:**"
   ]
  },
  {
   "cell_type": "markdown",
   "metadata": {},
   "source": [
    "*  La siguiente celda desplegará los primeros 5 renglones del *dataframe* ```poblacion```."
   ]
  },
  {
   "cell_type": "code",
   "execution_count": 4,
   "metadata": {
    "scrolled": true
   },
   "outputs": [
    {
     "data": {
      "text/html": [
       "<div>\n",
       "<style scoped>\n",
       "    .dataframe tbody tr th:only-of-type {\n",
       "        vertical-align: middle;\n",
       "    }\n",
       "\n",
       "    .dataframe tbody tr th {\n",
       "        vertical-align: top;\n",
       "    }\n",
       "\n",
       "    .dataframe thead th {\n",
       "        text-align: right;\n",
       "    }\n",
       "</style>\n",
       "<table border=\"1\" class=\"dataframe\">\n",
       "  <thead>\n",
       "    <tr style=\"text-align: right;\">\n",
       "      <th></th>\n",
       "      <th>Norte_I</th>\n",
       "      <th>Norte_II</th>\n",
       "      <th>Centro_I</th>\n",
       "      <th>Sur_I</th>\n",
       "    </tr>\n",
       "    <tr>\n",
       "      <th>Animal</th>\n",
       "      <th></th>\n",
       "      <th></th>\n",
       "      <th></th>\n",
       "      <th></th>\n",
       "    </tr>\n",
       "  </thead>\n",
       "  <tbody>\n",
       "    <tr>\n",
       "      <th>lobo</th>\n",
       "      <td>12.0</td>\n",
       "      <td>23</td>\n",
       "      <td>15</td>\n",
       "      <td>28.0</td>\n",
       "    </tr>\n",
       "    <tr>\n",
       "      <th>coyote</th>\n",
       "      <td>NaN</td>\n",
       "      <td>4</td>\n",
       "      <td>23</td>\n",
       "      <td>46.0</td>\n",
       "    </tr>\n",
       "    <tr>\n",
       "      <th>jaguar</th>\n",
       "      <td>NaN</td>\n",
       "      <td>25</td>\n",
       "      <td>2</td>\n",
       "      <td>14.0</td>\n",
       "    </tr>\n",
       "    <tr>\n",
       "      <th>cerdo salvaje</th>\n",
       "      <td>2.0</td>\n",
       "      <td>21</td>\n",
       "      <td>120</td>\n",
       "      <td>156.0</td>\n",
       "    </tr>\n",
       "    <tr>\n",
       "      <th>tapir</th>\n",
       "      <td>4.0</td>\n",
       "      <td>9</td>\n",
       "      <td>40</td>\n",
       "      <td>79.0</td>\n",
       "    </tr>\n",
       "  </tbody>\n",
       "</table>\n",
       "</div>"
      ],
      "text/plain": [
       "               Norte_I  Norte_II  Centro_I  Sur_I\n",
       "Animal                                           \n",
       "lobo              12.0        23        15   28.0\n",
       "coyote             NaN         4        23   46.0\n",
       "jaguar             NaN        25         2   14.0\n",
       "cerdo salvaje      2.0        21       120  156.0\n",
       "tapir              4.0         9        40   79.0"
      ]
     },
     "execution_count": 4,
     "metadata": {},
     "output_type": "execute_result"
    }
   ],
   "source": [
    "poblacion.head()"
   ]
  },
  {
   "cell_type": "markdown",
   "metadata": {},
   "source": [
    "*  La siguiente celda desplegará los primeros ```3``` renglones del *dataframe* ```poblacion```."
   ]
  },
  {
   "cell_type": "code",
   "execution_count": null,
   "metadata": {
    "scrolled": true
   },
   "outputs": [],
   "source": [
    "poblacion.head(3)"
   ]
  },
  {
   "cell_type": "markdown",
   "metadata": {},
   "source": [
    "## El método ```tail()```.\n",
    "\n",
    "Regresa los últimos ```n``` renglones de un objeto de *Pandas*.\n",
    "\n",
    "```\n",
    "<obj>.tail(<n>)\n",
    "```\n",
    "\n",
    "Donde:\n",
    "\n",
    "* ```<obj>``` es una serie o un *dataframe*.\n",
    "* ```<n>``` es el número de renglones que se desean ver. En caso de no definir ```<n>``` el método regresa los primeros 5 renglones.\n",
    "\n",
    "https://pandas.pydata.org/pandas-docs/stable/reference/api/pandas.DataFrame.tail.html"
   ]
  },
  {
   "cell_type": "markdown",
   "metadata": {},
   "source": [
    "**Ejemplos:**"
   ]
  },
  {
   "cell_type": "markdown",
   "metadata": {},
   "source": [
    "* La siguiente celda desplegará un *dataframe* con los últimos 5 renglones del *dataframe* ```poblacion```."
   ]
  },
  {
   "cell_type": "code",
   "execution_count": null,
   "metadata": {
    "scrolled": true
   },
   "outputs": [],
   "source": [
    "poblacion.tail()"
   ]
  },
  {
   "cell_type": "markdown",
   "metadata": {},
   "source": [
    "* La siguiente celda desplegará un *dataframe* conlos últimos ```2``` renglones del *dataframe* ```poblacion```."
   ]
  },
  {
   "cell_type": "code",
   "execution_count": null,
   "metadata": {
    "scrolled": true
   },
   "outputs": [],
   "source": [
    "poblacion.tail(2)"
   ]
  },
  {
   "cell_type": "markdown",
   "metadata": {},
   "source": [
    "## El método ```nsmallest()```.\n",
    "\n",
    "Regresa un número indicado de ```n``` renglones con los valores más pequeños de una o varias columnas de un objeto de *Pandas*.\n",
    "\n",
    "```\n",
    "<obj>.nsmallest(<n>, columns=[<col_1>, <col_2>, ..., <col_n>])\n",
    "```\n",
    "\n",
    "Donde:\n",
    "\n",
    "* ```<obj>``` es una serie o un *dataframe*.\n",
    "* Cada ```<col_i>``` es el identificador de una columna de un *dataframe* si es el caso.\n",
    "\n",
    "El criterio de ordenamiento se da a partir de la primera columna enumerada en ```columns``` en adelante.\n",
    "\n",
    "https://pandas.pydata.org/pandas-docs/stable/reference/api/pandas.DataFrame.nsmallest.html"
   ]
  },
  {
   "cell_type": "markdown",
   "metadata": {},
   "source": [
    "**Ejemplos:**"
   ]
  },
  {
   "cell_type": "markdown",
   "metadata": {},
   "source": [
    "* Se utilizará el *dataframe* ```poblacion``` definido previamente."
   ]
  },
  {
   "cell_type": "code",
   "execution_count": 5,
   "metadata": {},
   "outputs": [
    {
     "data": {
      "text/html": [
       "<div>\n",
       "<style scoped>\n",
       "    .dataframe tbody tr th:only-of-type {\n",
       "        vertical-align: middle;\n",
       "    }\n",
       "\n",
       "    .dataframe tbody tr th {\n",
       "        vertical-align: top;\n",
       "    }\n",
       "\n",
       "    .dataframe thead th {\n",
       "        text-align: right;\n",
       "    }\n",
       "</style>\n",
       "<table border=\"1\" class=\"dataframe\">\n",
       "  <thead>\n",
       "    <tr style=\"text-align: right;\">\n",
       "      <th></th>\n",
       "      <th>Norte_I</th>\n",
       "      <th>Norte_II</th>\n",
       "      <th>Centro_I</th>\n",
       "      <th>Sur_I</th>\n",
       "    </tr>\n",
       "    <tr>\n",
       "      <th>Animal</th>\n",
       "      <th></th>\n",
       "      <th></th>\n",
       "      <th></th>\n",
       "      <th></th>\n",
       "    </tr>\n",
       "  </thead>\n",
       "  <tbody>\n",
       "    <tr>\n",
       "      <th>lobo</th>\n",
       "      <td>12.0</td>\n",
       "      <td>23</td>\n",
       "      <td>15</td>\n",
       "      <td>28.0</td>\n",
       "    </tr>\n",
       "    <tr>\n",
       "      <th>coyote</th>\n",
       "      <td>NaN</td>\n",
       "      <td>4</td>\n",
       "      <td>23</td>\n",
       "      <td>46.0</td>\n",
       "    </tr>\n",
       "    <tr>\n",
       "      <th>jaguar</th>\n",
       "      <td>NaN</td>\n",
       "      <td>25</td>\n",
       "      <td>2</td>\n",
       "      <td>14.0</td>\n",
       "    </tr>\n",
       "    <tr>\n",
       "      <th>cerdo salvaje</th>\n",
       "      <td>2.0</td>\n",
       "      <td>21</td>\n",
       "      <td>120</td>\n",
       "      <td>156.0</td>\n",
       "    </tr>\n",
       "    <tr>\n",
       "      <th>tapir</th>\n",
       "      <td>4.0</td>\n",
       "      <td>9</td>\n",
       "      <td>40</td>\n",
       "      <td>79.0</td>\n",
       "    </tr>\n",
       "    <tr>\n",
       "      <th>venado</th>\n",
       "      <td>2.0</td>\n",
       "      <td>121</td>\n",
       "      <td>121</td>\n",
       "      <td>12.0</td>\n",
       "    </tr>\n",
       "    <tr>\n",
       "      <th>ocelote</th>\n",
       "      <td>14.0</td>\n",
       "      <td>1</td>\n",
       "      <td>0</td>\n",
       "      <td>2.0</td>\n",
       "    </tr>\n",
       "    <tr>\n",
       "      <th>puma</th>\n",
       "      <td>5.0</td>\n",
       "      <td>2</td>\n",
       "      <td>5</td>\n",
       "      <td>NaN</td>\n",
       "    </tr>\n",
       "  </tbody>\n",
       "</table>\n",
       "</div>"
      ],
      "text/plain": [
       "               Norte_I  Norte_II  Centro_I  Sur_I\n",
       "Animal                                           \n",
       "lobo              12.0        23        15   28.0\n",
       "coyote             NaN         4        23   46.0\n",
       "jaguar             NaN        25         2   14.0\n",
       "cerdo salvaje      2.0        21       120  156.0\n",
       "tapir              4.0         9        40   79.0\n",
       "venado             2.0       121       121   12.0\n",
       "ocelote           14.0         1         0    2.0\n",
       "puma               5.0         2         5    NaN"
      ]
     },
     "execution_count": 5,
     "metadata": {},
     "output_type": "execute_result"
    }
   ],
   "source": [
    "poblacion"
   ]
  },
  {
   "cell_type": "markdown",
   "metadata": {},
   "source": [
    "* La siguiente celda regresará un *dataframe* con los ```3``` renglones que contienen los valores más pequeños en la columna ```'Norte_I'``` del *dataframe* ```poblacion```."
   ]
  },
  {
   "cell_type": "code",
   "execution_count": 6,
   "metadata": {
    "scrolled": true
   },
   "outputs": [
    {
     "data": {
      "text/html": [
       "<div>\n",
       "<style scoped>\n",
       "    .dataframe tbody tr th:only-of-type {\n",
       "        vertical-align: middle;\n",
       "    }\n",
       "\n",
       "    .dataframe tbody tr th {\n",
       "        vertical-align: top;\n",
       "    }\n",
       "\n",
       "    .dataframe thead th {\n",
       "        text-align: right;\n",
       "    }\n",
       "</style>\n",
       "<table border=\"1\" class=\"dataframe\">\n",
       "  <thead>\n",
       "    <tr style=\"text-align: right;\">\n",
       "      <th></th>\n",
       "      <th>Norte_I</th>\n",
       "      <th>Norte_II</th>\n",
       "      <th>Centro_I</th>\n",
       "      <th>Sur_I</th>\n",
       "    </tr>\n",
       "    <tr>\n",
       "      <th>Animal</th>\n",
       "      <th></th>\n",
       "      <th></th>\n",
       "      <th></th>\n",
       "      <th></th>\n",
       "    </tr>\n",
       "  </thead>\n",
       "  <tbody>\n",
       "    <tr>\n",
       "      <th>cerdo salvaje</th>\n",
       "      <td>2.0</td>\n",
       "      <td>21</td>\n",
       "      <td>120</td>\n",
       "      <td>156.0</td>\n",
       "    </tr>\n",
       "    <tr>\n",
       "      <th>venado</th>\n",
       "      <td>2.0</td>\n",
       "      <td>121</td>\n",
       "      <td>121</td>\n",
       "      <td>12.0</td>\n",
       "    </tr>\n",
       "    <tr>\n",
       "      <th>tapir</th>\n",
       "      <td>4.0</td>\n",
       "      <td>9</td>\n",
       "      <td>40</td>\n",
       "      <td>79.0</td>\n",
       "    </tr>\n",
       "  </tbody>\n",
       "</table>\n",
       "</div>"
      ],
      "text/plain": [
       "               Norte_I  Norte_II  Centro_I  Sur_I\n",
       "Animal                                           \n",
       "cerdo salvaje      2.0        21       120  156.0\n",
       "venado             2.0       121       121   12.0\n",
       "tapir              4.0         9        40   79.0"
      ]
     },
     "execution_count": 6,
     "metadata": {},
     "output_type": "execute_result"
    }
   ],
   "source": [
    "poblacion.nsmallest(3, columns='Norte_I')"
   ]
  },
  {
   "cell_type": "markdown",
   "metadata": {},
   "source": [
    "* La siguiente celda regresará un *dataframe* con los ```3``` renglones que contienen los valores más pequeños en las columnas ```'Norte-I'``` y ```'Sur-I'``` del dataframe ```poblacion```."
   ]
  },
  {
   "cell_type": "code",
   "execution_count": null,
   "metadata": {
    "scrolled": true
   },
   "outputs": [],
   "source": [
    "poblacion.nsmallest(3, columns=['Norte_I', 'Sur_I'])"
   ]
  },
  {
   "cell_type": "markdown",
   "metadata": {},
   "source": [
    "## El método ```nlargest()```.\n",
    "\n",
    "Regresa un número indicado de ```n``` renglones con los valores más grandes de una o varias columnas de un objeto de *Pandas*.\n",
    "\n",
    "```\n",
    "<obj>.nlargest(<n>, columms=[<col 1>, <col 2>, ..., <col n>])\n",
    "```\n",
    "Donde:\n",
    "\n",
    "* ```<obj>``` es una serie o un *dataframe*.\n",
    "* Cada ```<col_i>``` es el identificador de una columna de un *dataframe* si es el caso.\n",
    "\n",
    "El criterio de ordenamiento se da a partir de la primera columna enumerada en ```columns``` en adelante.\n",
    "\n",
    "https://pandas.pydata.org/pandas-docs/stable/reference/api/pandas.DataFrame.nlargest.html"
   ]
  },
  {
   "cell_type": "markdown",
   "metadata": {},
   "source": [
    "**Ejemplos:**"
   ]
  },
  {
   "cell_type": "markdown",
   "metadata": {},
   "source": [
    "* La siguiente celda regresará un *dataframe* con los ```3``` renglones que contienen los valores más grandes en la columna ```'Sur-I'``` del *dataframe* ```poblacion```."
   ]
  },
  {
   "cell_type": "code",
   "execution_count": null,
   "metadata": {
    "scrolled": true
   },
   "outputs": [],
   "source": [
    "poblacion"
   ]
  },
  {
   "cell_type": "code",
   "execution_count": null,
   "metadata": {
    "scrolled": true
   },
   "outputs": [],
   "source": [
    "poblacion.nlargest(3, columns='Sur_I')"
   ]
  },
  {
   "cell_type": "markdown",
   "metadata": {},
   "source": [
    "* La siguiente celda regresará un *dataframe* con los ```3``` renglones que contienen los valores más grandes en la columna ```'Sur-I'``` y ```'Norte-1``` del *dataframe* ```poblacion```."
   ]
  },
  {
   "cell_type": "code",
   "execution_count": null,
   "metadata": {
    "scrolled": true
   },
   "outputs": [],
   "source": [
    "poblacion.nlargest(3, columns=['Sur_I', 'Norte_I'])"
   ]
  },
  {
   "cell_type": "markdown",
   "metadata": {},
   "source": [
    "## El método ```isin()``` .\n",
    "\n",
    "Regresa otro objeto con contenidos booleanos indicando si el elemento del  objeto original se encuentra dentro de una colección ingresada como argumento.\n",
    "```\n",
    "<obj>.isin(<colección>)\n",
    "```\n",
    "\n",
    "Donde:\n",
    "\n",
    "* ```<obj>``` es una serie o un *dataframe*.\n",
    "* ```<colección>``` es una colección de objetos.\n",
    "\n",
    "https://pandas.pydata.org/pandas-docs/stable/reference/api/pandas.DataFrame.isin.html"
   ]
  },
  {
   "cell_type": "markdown",
   "metadata": {},
   "source": [
    "**Ejemplos:**"
   ]
  },
  {
   "cell_type": "markdown",
   "metadata": {},
   "source": [
    "* Se utilizará el *dataframe* ```poblacion``` definido previamente. "
   ]
  },
  {
   "cell_type": "code",
   "execution_count": 7,
   "metadata": {},
   "outputs": [
    {
     "data": {
      "text/html": [
       "<div>\n",
       "<style scoped>\n",
       "    .dataframe tbody tr th:only-of-type {\n",
       "        vertical-align: middle;\n",
       "    }\n",
       "\n",
       "    .dataframe tbody tr th {\n",
       "        vertical-align: top;\n",
       "    }\n",
       "\n",
       "    .dataframe thead th {\n",
       "        text-align: right;\n",
       "    }\n",
       "</style>\n",
       "<table border=\"1\" class=\"dataframe\">\n",
       "  <thead>\n",
       "    <tr style=\"text-align: right;\">\n",
       "      <th></th>\n",
       "      <th>Norte_I</th>\n",
       "      <th>Norte_II</th>\n",
       "      <th>Centro_I</th>\n",
       "      <th>Sur_I</th>\n",
       "    </tr>\n",
       "    <tr>\n",
       "      <th>Animal</th>\n",
       "      <th></th>\n",
       "      <th></th>\n",
       "      <th></th>\n",
       "      <th></th>\n",
       "    </tr>\n",
       "  </thead>\n",
       "  <tbody>\n",
       "    <tr>\n",
       "      <th>lobo</th>\n",
       "      <td>12.0</td>\n",
       "      <td>23</td>\n",
       "      <td>15</td>\n",
       "      <td>28.0</td>\n",
       "    </tr>\n",
       "    <tr>\n",
       "      <th>coyote</th>\n",
       "      <td>NaN</td>\n",
       "      <td>4</td>\n",
       "      <td>23</td>\n",
       "      <td>46.0</td>\n",
       "    </tr>\n",
       "    <tr>\n",
       "      <th>jaguar</th>\n",
       "      <td>NaN</td>\n",
       "      <td>25</td>\n",
       "      <td>2</td>\n",
       "      <td>14.0</td>\n",
       "    </tr>\n",
       "    <tr>\n",
       "      <th>cerdo salvaje</th>\n",
       "      <td>2.0</td>\n",
       "      <td>21</td>\n",
       "      <td>120</td>\n",
       "      <td>156.0</td>\n",
       "    </tr>\n",
       "    <tr>\n",
       "      <th>tapir</th>\n",
       "      <td>4.0</td>\n",
       "      <td>9</td>\n",
       "      <td>40</td>\n",
       "      <td>79.0</td>\n",
       "    </tr>\n",
       "    <tr>\n",
       "      <th>venado</th>\n",
       "      <td>2.0</td>\n",
       "      <td>121</td>\n",
       "      <td>121</td>\n",
       "      <td>12.0</td>\n",
       "    </tr>\n",
       "    <tr>\n",
       "      <th>ocelote</th>\n",
       "      <td>14.0</td>\n",
       "      <td>1</td>\n",
       "      <td>0</td>\n",
       "      <td>2.0</td>\n",
       "    </tr>\n",
       "    <tr>\n",
       "      <th>puma</th>\n",
       "      <td>5.0</td>\n",
       "      <td>2</td>\n",
       "      <td>5</td>\n",
       "      <td>NaN</td>\n",
       "    </tr>\n",
       "  </tbody>\n",
       "</table>\n",
       "</div>"
      ],
      "text/plain": [
       "               Norte_I  Norte_II  Centro_I  Sur_I\n",
       "Animal                                           \n",
       "lobo              12.0        23        15   28.0\n",
       "coyote             NaN         4        23   46.0\n",
       "jaguar             NaN        25         2   14.0\n",
       "cerdo salvaje      2.0        21       120  156.0\n",
       "tapir              4.0         9        40   79.0\n",
       "venado             2.0       121       121   12.0\n",
       "ocelote           14.0         1         0    2.0\n",
       "puma               5.0         2         5    NaN"
      ]
     },
     "execution_count": 7,
     "metadata": {},
     "output_type": "execute_result"
    }
   ],
   "source": [
    "poblacion"
   ]
  },
  {
   "cell_type": "markdown",
   "metadata": {},
   "source": [
    "* La siguiente celda regresará el *dataframe*  resultante de evaluar si cada elemento de ```poblacion``` tiene un valor entre ```20``` y ```30```."
   ]
  },
  {
   "cell_type": "code",
   "execution_count": 8,
   "metadata": {
    "scrolled": true
   },
   "outputs": [
    {
     "data": {
      "text/html": [
       "<div>\n",
       "<style scoped>\n",
       "    .dataframe tbody tr th:only-of-type {\n",
       "        vertical-align: middle;\n",
       "    }\n",
       "\n",
       "    .dataframe tbody tr th {\n",
       "        vertical-align: top;\n",
       "    }\n",
       "\n",
       "    .dataframe thead th {\n",
       "        text-align: right;\n",
       "    }\n",
       "</style>\n",
       "<table border=\"1\" class=\"dataframe\">\n",
       "  <thead>\n",
       "    <tr style=\"text-align: right;\">\n",
       "      <th></th>\n",
       "      <th>Norte_I</th>\n",
       "      <th>Norte_II</th>\n",
       "      <th>Centro_I</th>\n",
       "      <th>Sur_I</th>\n",
       "    </tr>\n",
       "    <tr>\n",
       "      <th>Animal</th>\n",
       "      <th></th>\n",
       "      <th></th>\n",
       "      <th></th>\n",
       "      <th></th>\n",
       "    </tr>\n",
       "  </thead>\n",
       "  <tbody>\n",
       "    <tr>\n",
       "      <th>lobo</th>\n",
       "      <td>False</td>\n",
       "      <td>True</td>\n",
       "      <td>False</td>\n",
       "      <td>True</td>\n",
       "    </tr>\n",
       "    <tr>\n",
       "      <th>coyote</th>\n",
       "      <td>False</td>\n",
       "      <td>False</td>\n",
       "      <td>True</td>\n",
       "      <td>False</td>\n",
       "    </tr>\n",
       "    <tr>\n",
       "      <th>jaguar</th>\n",
       "      <td>False</td>\n",
       "      <td>True</td>\n",
       "      <td>False</td>\n",
       "      <td>False</td>\n",
       "    </tr>\n",
       "    <tr>\n",
       "      <th>cerdo salvaje</th>\n",
       "      <td>False</td>\n",
       "      <td>True</td>\n",
       "      <td>False</td>\n",
       "      <td>False</td>\n",
       "    </tr>\n",
       "    <tr>\n",
       "      <th>tapir</th>\n",
       "      <td>False</td>\n",
       "      <td>False</td>\n",
       "      <td>False</td>\n",
       "      <td>False</td>\n",
       "    </tr>\n",
       "    <tr>\n",
       "      <th>venado</th>\n",
       "      <td>False</td>\n",
       "      <td>False</td>\n",
       "      <td>False</td>\n",
       "      <td>False</td>\n",
       "    </tr>\n",
       "    <tr>\n",
       "      <th>ocelote</th>\n",
       "      <td>False</td>\n",
       "      <td>False</td>\n",
       "      <td>False</td>\n",
       "      <td>False</td>\n",
       "    </tr>\n",
       "    <tr>\n",
       "      <th>puma</th>\n",
       "      <td>False</td>\n",
       "      <td>False</td>\n",
       "      <td>False</td>\n",
       "      <td>False</td>\n",
       "    </tr>\n",
       "  </tbody>\n",
       "</table>\n",
       "</div>"
      ],
      "text/plain": [
       "               Norte_I  Norte_II  Centro_I  Sur_I\n",
       "Animal                                           \n",
       "lobo             False      True     False   True\n",
       "coyote           False     False      True  False\n",
       "jaguar           False      True     False  False\n",
       "cerdo salvaje    False      True     False  False\n",
       "tapir            False     False     False  False\n",
       "venado           False     False     False  False\n",
       "ocelote          False     False     False  False\n",
       "puma             False     False     False  False"
      ]
     },
     "execution_count": 8,
     "metadata": {},
     "output_type": "execute_result"
    }
   ],
   "source": [
    "poblacion.isin(range(20, 31))"
   ]
  },
  {
   "cell_type": "markdown",
   "metadata": {},
   "source": [
    "* La siguiente celda creará al *dataframe* ```especies```."
   ]
  },
  {
   "cell_type": "code",
   "execution_count": null,
   "metadata": {
    "scrolled": true
   },
   "outputs": [],
   "source": [
    "especies = pd.DataFrame({'Animal':('lobo',\n",
    "                                   'coyote',\n",
    "                                   'jaguar'),\n",
    "                         'Norte_I':('estable',\n",
    "                                   'amenazado',\n",
    "                                'amenazado'),\n",
    "                          'Norte_II':('estable',\n",
    "                                    'estable',\n",
    "                                    'extinto'),\n",
    "                         'Centro_I':('estable',\n",
    "                                    'amenazado',\n",
    "                                    'extinto'),\n",
    "                         'Sur_I':('amenazado',\n",
    "                                  'extinto',\n",
    "                                  'estable')}).set_index('Animal')"
   ]
  },
  {
   "cell_type": "code",
   "execution_count": null,
   "metadata": {
    "scrolled": true
   },
   "outputs": [],
   "source": [
    "especies"
   ]
  },
  {
   "cell_type": "markdown",
   "metadata": {},
   "source": [
    "* La siguiente celda regresará un *dataframe* evaluando si cada elemento de ```especies``` tiene un valor que sea  ```'amenazado'``` o ```'extinto'```."
   ]
  },
  {
   "cell_type": "code",
   "execution_count": null,
   "metadata": {
    "scrolled": false
   },
   "outputs": [],
   "source": [
    "especies.isin(['amenazado', 'extinto'])"
   ]
  },
  {
   "cell_type": "markdown",
   "metadata": {},
   "source": [
    "## El método ```diff()```.\n",
    "\n",
    "Calcula la diferencia entre un elemento previo en el eje indicado (```0``` para las columnas y ```1``` para los renglones).\n",
    "\n",
    "```\n",
    "<obj>.diff(axis=<eje>)\n",
    "```\n",
    "\n",
    "Donde:\n",
    "* ```<obj>``` es una serie o un *dataframe*.\n",
    "\n",
    "* ```<eje>``` es el número de eje al que se aplicará el método.\n",
    "\n",
    "\n",
    "El valor por defecto para ```axis``` es ```0```."
   ]
  },
  {
   "cell_type": "markdown",
   "metadata": {},
   "source": [
    "**Ejemplos:**"
   ]
  },
  {
   "cell_type": "markdown",
   "metadata": {},
   "source": [
    "* Se utilizará el *dataframe* ```poblacion``` definido previamente."
   ]
  },
  {
   "cell_type": "code",
   "execution_count": null,
   "metadata": {
    "scrolled": true
   },
   "outputs": [],
   "source": [
    "poblacion"
   ]
  },
  {
   "cell_type": "markdown",
   "metadata": {},
   "source": [
    "* Se aplicará el método ```poblacion.diff()``` en el eje ```0```."
   ]
  },
  {
   "cell_type": "code",
   "execution_count": null,
   "metadata": {
    "scrolled": true
   },
   "outputs": [],
   "source": [
    "poblacion.diff()"
   ]
  },
  {
   "cell_type": "markdown",
   "metadata": {},
   "source": [
    "* Se aplicará el método ```poblacion.diff()``` en el eje ```1```."
   ]
  },
  {
   "cell_type": "code",
   "execution_count": null,
   "metadata": {
    "scrolled": true
   },
   "outputs": [],
   "source": [
    "poblacion.diff(axis=1)"
   ]
  },
  {
   "cell_type": "markdown",
   "metadata": {},
   "source": [
    "## El método  ```df.eval()```.\n",
    "\n",
    "Ese método evalúa expresiones con operadores que se ingresan como cadenas de caracteres y que implican a las columnas de un *dataframe*.\n",
    "\n",
    "```\n",
    "df.eval(<expresion>, inplace=<booleano>)\n",
    "```\n",
    "\n",
    "Donde:\n",
    "\n",
    "* ```<expresión>``` es una cadena de caracteres que describe una expresión que incluye a dos o más identificadores de las columna y operadores.\n",
    "* ```<booleano>``` es un valor que puede ser ```True``` o  ```False```.\n",
    "\n",
    "El resultado es una serie.\n",
    "\n",
    "https://pandas.pydata.org/docs/reference/api/pandas.DataFrame.eval.html"
   ]
  },
  {
   "cell_type": "markdown",
   "metadata": {},
   "source": [
    "**Ejemplos:**"
   ]
  },
  {
   "cell_type": "markdown",
   "metadata": {},
   "source": [
    "* Se utilizará el *dataframe* ```poblacion``` definido previamente."
   ]
  },
  {
   "cell_type": "code",
   "execution_count": null,
   "metadata": {
    "scrolled": false
   },
   "outputs": [],
   "source": [
    "poblacion"
   ]
  },
  {
   "cell_type": "markdown",
   "metadata": {},
   "source": [
    "* * La siguiente celda regresará una serie resultande de ejecutar el método ```poblacion.eval()```, calculada a partir la suma entre las columnas ```poblacion['Norte_I']``` y ```poblacion['Norte_II']```."
   ]
  },
  {
   "cell_type": "code",
   "execution_count": 11,
   "metadata": {
    "scrolled": true
   },
   "outputs": [
    {
     "data": {
      "text/plain": [
       "Animal\n",
       "lobo              35.0\n",
       "coyote             NaN\n",
       "jaguar             NaN\n",
       "cerdo salvaje     23.0\n",
       "tapir             13.0\n",
       "venado           123.0\n",
       "ocelote           15.0\n",
       "puma               7.0\n",
       "dtype: float64"
      ]
     },
     "execution_count": 11,
     "metadata": {},
     "output_type": "execute_result"
    }
   ],
   "source": [
    "poblacion.eval(\"Norte_I + Norte_II\")"
   ]
  },
  {
   "cell_type": "markdown",
   "metadata": {},
   "source": [
    "* El dataframe ```poblacion_erronea``` incluye índices de columnas que impiden usar el método ```poblacion_erronea.eval()``` debido a que las cadenas contienen al caracter ```-```, el cual puede ser interpretado como un operador."
   ]
  },
  {
   "cell_type": "code",
   "execution_count": null,
   "metadata": {
    "scrolled": true
   },
   "outputs": [],
   "source": [
    "poblacion_erronea = pd.DataFrame({'Animal':('lobo',\n",
    "                                   'coyote',\n",
    "                                   'jaguar',\n",
    "                                   'cerdo salvaje',\n",
    "                                    'tapir',\n",
    "                                    'venado',\n",
    "                                    'ocelote',\n",
    "                                    'puma'),\n",
    "                         'Norte-I':(12,\n",
    "                                   np.NAN,\n",
    "                                    None,\n",
    "                                    2,\n",
    "                                    4,\n",
    "                                    2,\n",
    "                                    14,\n",
    "                                    5\n",
    "                                   ),\n",
    "                          'Norte-II':(23,\n",
    "                                    4,\n",
    "                                    25,\n",
    "                                    21,\n",
    "                                    9,\n",
    "                                    121,\n",
    "                                    1,\n",
    "                                    2\n",
    "                                   ),\n",
    "                         'Centro-I':(15,\n",
    "                                    23,\n",
    "                                    2,\n",
    "                                    120,\n",
    "                                    40,\n",
    "                                    121,\n",
    "                                    0,\n",
    "                                    5),\n",
    "                         'Sur-I':(28,\n",
    "                                  46,\n",
    "                                  14,\n",
    "                                  156,\n",
    "                                  79,\n",
    "                                  12,\n",
    "                                  2,\n",
    "                                  np.NAN)}).set_index('Animal')"
   ]
  },
  {
   "cell_type": "code",
   "execution_count": null,
   "metadata": {
    "scrolled": false
   },
   "outputs": [],
   "source": [
    "poblacion_erronea"
   ]
  },
  {
   "cell_type": "markdown",
   "metadata": {},
   "source": [
    "* La siguiente celda generará un error de tipo ```KeyError```."
   ]
  },
  {
   "cell_type": "code",
   "execution_count": null,
   "metadata": {
    "scrolled": true
   },
   "outputs": [],
   "source": [
    "poblacion_erronea.eval(\"Norte-I + Norte-II\")"
   ]
  },
  {
   "cell_type": "markdown",
   "metadata": {},
   "source": [
    "### Creación de una nueva columna con ```df.eval()```.\n",
    "\n",
    "Si la expresión dingresada en el métodos ```df.eval()``` incluye un operador de asignación ```=```, el resultado se guardará en la columna a la que se le asigna el resultado de la operación."
   ]
  },
  {
   "cell_type": "markdown",
   "metadata": {},
   "source": [
    "**Ejemplo:**"
   ]
  },
  {
   "cell_type": "markdown",
   "metadata": {},
   "source": [
    "* Se utilizará el *dataframe* ```poblacion``` definido previamente. "
   ]
  },
  {
   "cell_type": "code",
   "execution_count": 9,
   "metadata": {},
   "outputs": [
    {
     "data": {
      "text/html": [
       "<div>\n",
       "<style scoped>\n",
       "    .dataframe tbody tr th:only-of-type {\n",
       "        vertical-align: middle;\n",
       "    }\n",
       "\n",
       "    .dataframe tbody tr th {\n",
       "        vertical-align: top;\n",
       "    }\n",
       "\n",
       "    .dataframe thead th {\n",
       "        text-align: right;\n",
       "    }\n",
       "</style>\n",
       "<table border=\"1\" class=\"dataframe\">\n",
       "  <thead>\n",
       "    <tr style=\"text-align: right;\">\n",
       "      <th></th>\n",
       "      <th>Norte_I</th>\n",
       "      <th>Norte_II</th>\n",
       "      <th>Centro_I</th>\n",
       "      <th>Sur_I</th>\n",
       "    </tr>\n",
       "    <tr>\n",
       "      <th>Animal</th>\n",
       "      <th></th>\n",
       "      <th></th>\n",
       "      <th></th>\n",
       "      <th></th>\n",
       "    </tr>\n",
       "  </thead>\n",
       "  <tbody>\n",
       "    <tr>\n",
       "      <th>lobo</th>\n",
       "      <td>12.0</td>\n",
       "      <td>23</td>\n",
       "      <td>15</td>\n",
       "      <td>28.0</td>\n",
       "    </tr>\n",
       "    <tr>\n",
       "      <th>coyote</th>\n",
       "      <td>NaN</td>\n",
       "      <td>4</td>\n",
       "      <td>23</td>\n",
       "      <td>46.0</td>\n",
       "    </tr>\n",
       "    <tr>\n",
       "      <th>jaguar</th>\n",
       "      <td>NaN</td>\n",
       "      <td>25</td>\n",
       "      <td>2</td>\n",
       "      <td>14.0</td>\n",
       "    </tr>\n",
       "    <tr>\n",
       "      <th>cerdo salvaje</th>\n",
       "      <td>2.0</td>\n",
       "      <td>21</td>\n",
       "      <td>120</td>\n",
       "      <td>156.0</td>\n",
       "    </tr>\n",
       "    <tr>\n",
       "      <th>tapir</th>\n",
       "      <td>4.0</td>\n",
       "      <td>9</td>\n",
       "      <td>40</td>\n",
       "      <td>79.0</td>\n",
       "    </tr>\n",
       "    <tr>\n",
       "      <th>venado</th>\n",
       "      <td>2.0</td>\n",
       "      <td>121</td>\n",
       "      <td>121</td>\n",
       "      <td>12.0</td>\n",
       "    </tr>\n",
       "    <tr>\n",
       "      <th>ocelote</th>\n",
       "      <td>14.0</td>\n",
       "      <td>1</td>\n",
       "      <td>0</td>\n",
       "      <td>2.0</td>\n",
       "    </tr>\n",
       "    <tr>\n",
       "      <th>puma</th>\n",
       "      <td>5.0</td>\n",
       "      <td>2</td>\n",
       "      <td>5</td>\n",
       "      <td>NaN</td>\n",
       "    </tr>\n",
       "  </tbody>\n",
       "</table>\n",
       "</div>"
      ],
      "text/plain": [
       "               Norte_I  Norte_II  Centro_I  Sur_I\n",
       "Animal                                           \n",
       "lobo              12.0        23        15   28.0\n",
       "coyote             NaN         4        23   46.0\n",
       "jaguar             NaN        25         2   14.0\n",
       "cerdo salvaje      2.0        21       120  156.0\n",
       "tapir              4.0         9        40   79.0\n",
       "venado             2.0       121       121   12.0\n",
       "ocelote           14.0         1         0    2.0\n",
       "puma               5.0         2         5    NaN"
      ]
     },
     "execution_count": 9,
     "metadata": {},
     "output_type": "execute_result"
    }
   ],
   "source": [
    "poblacion"
   ]
  },
  {
   "cell_type": "markdown",
   "metadata": {},
   "source": [
    "* La siguiente celda regresará un *dataframe* resultante de ejecutar el método ```poblacion.eval()``` que incluirá a la columna ```'Norte'```, calculada a partir la suma entre las columnas ```poblacion['Norte_I']``` y ```poblacion['Norte_II']```."
   ]
  },
  {
   "cell_type": "code",
   "execution_count": 10,
   "metadata": {
    "scrolled": true
   },
   "outputs": [
    {
     "data": {
      "text/html": [
       "<div>\n",
       "<style scoped>\n",
       "    .dataframe tbody tr th:only-of-type {\n",
       "        vertical-align: middle;\n",
       "    }\n",
       "\n",
       "    .dataframe tbody tr th {\n",
       "        vertical-align: top;\n",
       "    }\n",
       "\n",
       "    .dataframe thead th {\n",
       "        text-align: right;\n",
       "    }\n",
       "</style>\n",
       "<table border=\"1\" class=\"dataframe\">\n",
       "  <thead>\n",
       "    <tr style=\"text-align: right;\">\n",
       "      <th></th>\n",
       "      <th>Norte_I</th>\n",
       "      <th>Norte_II</th>\n",
       "      <th>Centro_I</th>\n",
       "      <th>Sur_I</th>\n",
       "      <th>Norte</th>\n",
       "    </tr>\n",
       "    <tr>\n",
       "      <th>Animal</th>\n",
       "      <th></th>\n",
       "      <th></th>\n",
       "      <th></th>\n",
       "      <th></th>\n",
       "      <th></th>\n",
       "    </tr>\n",
       "  </thead>\n",
       "  <tbody>\n",
       "    <tr>\n",
       "      <th>lobo</th>\n",
       "      <td>12.0</td>\n",
       "      <td>23</td>\n",
       "      <td>15</td>\n",
       "      <td>28.0</td>\n",
       "      <td>35.0</td>\n",
       "    </tr>\n",
       "    <tr>\n",
       "      <th>coyote</th>\n",
       "      <td>NaN</td>\n",
       "      <td>4</td>\n",
       "      <td>23</td>\n",
       "      <td>46.0</td>\n",
       "      <td>NaN</td>\n",
       "    </tr>\n",
       "    <tr>\n",
       "      <th>jaguar</th>\n",
       "      <td>NaN</td>\n",
       "      <td>25</td>\n",
       "      <td>2</td>\n",
       "      <td>14.0</td>\n",
       "      <td>NaN</td>\n",
       "    </tr>\n",
       "    <tr>\n",
       "      <th>cerdo salvaje</th>\n",
       "      <td>2.0</td>\n",
       "      <td>21</td>\n",
       "      <td>120</td>\n",
       "      <td>156.0</td>\n",
       "      <td>23.0</td>\n",
       "    </tr>\n",
       "    <tr>\n",
       "      <th>tapir</th>\n",
       "      <td>4.0</td>\n",
       "      <td>9</td>\n",
       "      <td>40</td>\n",
       "      <td>79.0</td>\n",
       "      <td>13.0</td>\n",
       "    </tr>\n",
       "    <tr>\n",
       "      <th>venado</th>\n",
       "      <td>2.0</td>\n",
       "      <td>121</td>\n",
       "      <td>121</td>\n",
       "      <td>12.0</td>\n",
       "      <td>123.0</td>\n",
       "    </tr>\n",
       "    <tr>\n",
       "      <th>ocelote</th>\n",
       "      <td>14.0</td>\n",
       "      <td>1</td>\n",
       "      <td>0</td>\n",
       "      <td>2.0</td>\n",
       "      <td>15.0</td>\n",
       "    </tr>\n",
       "    <tr>\n",
       "      <th>puma</th>\n",
       "      <td>5.0</td>\n",
       "      <td>2</td>\n",
       "      <td>5</td>\n",
       "      <td>NaN</td>\n",
       "      <td>7.0</td>\n",
       "    </tr>\n",
       "  </tbody>\n",
       "</table>\n",
       "</div>"
      ],
      "text/plain": [
       "               Norte_I  Norte_II  Centro_I  Sur_I  Norte\n",
       "Animal                                                  \n",
       "lobo              12.0        23        15   28.0   35.0\n",
       "coyote             NaN         4        23   46.0    NaN\n",
       "jaguar             NaN        25         2   14.0    NaN\n",
       "cerdo salvaje      2.0        21       120  156.0   23.0\n",
       "tapir              4.0         9        40   79.0   13.0\n",
       "venado             2.0       121       121   12.0  123.0\n",
       "ocelote           14.0         1         0    2.0   15.0\n",
       "puma               5.0         2         5    NaN    7.0"
      ]
     },
     "execution_count": 10,
     "metadata": {},
     "output_type": "execute_result"
    }
   ],
   "source": [
    "poblacion.eval(\"Norte = Norte_I + Norte_II\")"
   ]
  },
  {
   "cell_type": "markdown",
   "metadata": {},
   "source": [
    "## El método ```df.assign()```.\n",
    "\n",
    "Crea una o mas columnas que contendrán los datos resultantes de una expresión específica.\n",
    "\n",
    "```\n",
    "df.assign(<col_1>=<exp_1>, <col_2>=<exp_2>, .. <col_n>=<exp_n>)\n",
    "```\n",
    "Donde:\n",
    "\n",
    "* Cada ```<col_i>``` es el nombre de la nueva columna del *dataframe*.\n",
    "* Cada ```<exp_i>``` es una expresión capaz de regresar una serie con el mismo número de índices que el *dataframe* de origen.\n",
    "\n",
    "La columnas de *dataframe* que contienen al método ```assign()``` pueden ser usado como términos de la expresión."
   ]
  },
  {
   "cell_type": "markdown",
   "metadata": {},
   "source": [
    "**Ejemplos:**"
   ]
  },
  {
   "cell_type": "markdown",
   "metadata": {},
   "source": [
    "* Se utilizará al *dataframe* ```poblacion``` definido previamente."
   ]
  },
  {
   "cell_type": "code",
   "execution_count": 12,
   "metadata": {},
   "outputs": [
    {
     "data": {
      "text/html": [
       "<div>\n",
       "<style scoped>\n",
       "    .dataframe tbody tr th:only-of-type {\n",
       "        vertical-align: middle;\n",
       "    }\n",
       "\n",
       "    .dataframe tbody tr th {\n",
       "        vertical-align: top;\n",
       "    }\n",
       "\n",
       "    .dataframe thead th {\n",
       "        text-align: right;\n",
       "    }\n",
       "</style>\n",
       "<table border=\"1\" class=\"dataframe\">\n",
       "  <thead>\n",
       "    <tr style=\"text-align: right;\">\n",
       "      <th></th>\n",
       "      <th>Norte_I</th>\n",
       "      <th>Norte_II</th>\n",
       "      <th>Centro_I</th>\n",
       "      <th>Sur_I</th>\n",
       "    </tr>\n",
       "    <tr>\n",
       "      <th>Animal</th>\n",
       "      <th></th>\n",
       "      <th></th>\n",
       "      <th></th>\n",
       "      <th></th>\n",
       "    </tr>\n",
       "  </thead>\n",
       "  <tbody>\n",
       "    <tr>\n",
       "      <th>lobo</th>\n",
       "      <td>12.0</td>\n",
       "      <td>23</td>\n",
       "      <td>15</td>\n",
       "      <td>28.0</td>\n",
       "    </tr>\n",
       "    <tr>\n",
       "      <th>coyote</th>\n",
       "      <td>NaN</td>\n",
       "      <td>4</td>\n",
       "      <td>23</td>\n",
       "      <td>46.0</td>\n",
       "    </tr>\n",
       "    <tr>\n",
       "      <th>jaguar</th>\n",
       "      <td>NaN</td>\n",
       "      <td>25</td>\n",
       "      <td>2</td>\n",
       "      <td>14.0</td>\n",
       "    </tr>\n",
       "    <tr>\n",
       "      <th>cerdo salvaje</th>\n",
       "      <td>2.0</td>\n",
       "      <td>21</td>\n",
       "      <td>120</td>\n",
       "      <td>156.0</td>\n",
       "    </tr>\n",
       "    <tr>\n",
       "      <th>tapir</th>\n",
       "      <td>4.0</td>\n",
       "      <td>9</td>\n",
       "      <td>40</td>\n",
       "      <td>79.0</td>\n",
       "    </tr>\n",
       "    <tr>\n",
       "      <th>venado</th>\n",
       "      <td>2.0</td>\n",
       "      <td>121</td>\n",
       "      <td>121</td>\n",
       "      <td>12.0</td>\n",
       "    </tr>\n",
       "    <tr>\n",
       "      <th>ocelote</th>\n",
       "      <td>14.0</td>\n",
       "      <td>1</td>\n",
       "      <td>0</td>\n",
       "      <td>2.0</td>\n",
       "    </tr>\n",
       "    <tr>\n",
       "      <th>puma</th>\n",
       "      <td>5.0</td>\n",
       "      <td>2</td>\n",
       "      <td>5</td>\n",
       "      <td>NaN</td>\n",
       "    </tr>\n",
       "  </tbody>\n",
       "</table>\n",
       "</div>"
      ],
      "text/plain": [
       "               Norte_I  Norte_II  Centro_I  Sur_I\n",
       "Animal                                           \n",
       "lobo              12.0        23        15   28.0\n",
       "coyote             NaN         4        23   46.0\n",
       "jaguar             NaN        25         2   14.0\n",
       "cerdo salvaje      2.0        21       120  156.0\n",
       "tapir              4.0         9        40   79.0\n",
       "venado             2.0       121       121   12.0\n",
       "ocelote           14.0         1         0    2.0\n",
       "puma               5.0         2         5    NaN"
      ]
     },
     "execution_count": 12,
     "metadata": {},
     "output_type": "execute_result"
    }
   ],
   "source": [
    "poblacion"
   ]
  },
  {
   "cell_type": "markdown",
   "metadata": {},
   "source": [
    "* La siguiente celda regresará un *dataframe* creado a partir de ```poblacion``` al que se le añadirá la columna ```'Sureste'```, la cual es el resultado de la operación de suma de las columna ```poblacion['Sur_I']``` y ```poblacion['Centro_I']```."
   ]
  },
  {
   "cell_type": "code",
   "execution_count": 13,
   "metadata": {
    "scrolled": true
   },
   "outputs": [
    {
     "data": {
      "text/html": [
       "<div>\n",
       "<style scoped>\n",
       "    .dataframe tbody tr th:only-of-type {\n",
       "        vertical-align: middle;\n",
       "    }\n",
       "\n",
       "    .dataframe tbody tr th {\n",
       "        vertical-align: top;\n",
       "    }\n",
       "\n",
       "    .dataframe thead th {\n",
       "        text-align: right;\n",
       "    }\n",
       "</style>\n",
       "<table border=\"1\" class=\"dataframe\">\n",
       "  <thead>\n",
       "    <tr style=\"text-align: right;\">\n",
       "      <th></th>\n",
       "      <th>Norte_I</th>\n",
       "      <th>Norte_II</th>\n",
       "      <th>Centro_I</th>\n",
       "      <th>Sur_I</th>\n",
       "      <th>Sureste</th>\n",
       "    </tr>\n",
       "    <tr>\n",
       "      <th>Animal</th>\n",
       "      <th></th>\n",
       "      <th></th>\n",
       "      <th></th>\n",
       "      <th></th>\n",
       "      <th></th>\n",
       "    </tr>\n",
       "  </thead>\n",
       "  <tbody>\n",
       "    <tr>\n",
       "      <th>lobo</th>\n",
       "      <td>12.0</td>\n",
       "      <td>23</td>\n",
       "      <td>15</td>\n",
       "      <td>28.0</td>\n",
       "      <td>43.0</td>\n",
       "    </tr>\n",
       "    <tr>\n",
       "      <th>coyote</th>\n",
       "      <td>NaN</td>\n",
       "      <td>4</td>\n",
       "      <td>23</td>\n",
       "      <td>46.0</td>\n",
       "      <td>69.0</td>\n",
       "    </tr>\n",
       "    <tr>\n",
       "      <th>jaguar</th>\n",
       "      <td>NaN</td>\n",
       "      <td>25</td>\n",
       "      <td>2</td>\n",
       "      <td>14.0</td>\n",
       "      <td>16.0</td>\n",
       "    </tr>\n",
       "    <tr>\n",
       "      <th>cerdo salvaje</th>\n",
       "      <td>2.0</td>\n",
       "      <td>21</td>\n",
       "      <td>120</td>\n",
       "      <td>156.0</td>\n",
       "      <td>276.0</td>\n",
       "    </tr>\n",
       "    <tr>\n",
       "      <th>tapir</th>\n",
       "      <td>4.0</td>\n",
       "      <td>9</td>\n",
       "      <td>40</td>\n",
       "      <td>79.0</td>\n",
       "      <td>119.0</td>\n",
       "    </tr>\n",
       "    <tr>\n",
       "      <th>venado</th>\n",
       "      <td>2.0</td>\n",
       "      <td>121</td>\n",
       "      <td>121</td>\n",
       "      <td>12.0</td>\n",
       "      <td>133.0</td>\n",
       "    </tr>\n",
       "    <tr>\n",
       "      <th>ocelote</th>\n",
       "      <td>14.0</td>\n",
       "      <td>1</td>\n",
       "      <td>0</td>\n",
       "      <td>2.0</td>\n",
       "      <td>2.0</td>\n",
       "    </tr>\n",
       "    <tr>\n",
       "      <th>puma</th>\n",
       "      <td>5.0</td>\n",
       "      <td>2</td>\n",
       "      <td>5</td>\n",
       "      <td>NaN</td>\n",
       "      <td>NaN</td>\n",
       "    </tr>\n",
       "  </tbody>\n",
       "</table>\n",
       "</div>"
      ],
      "text/plain": [
       "               Norte_I  Norte_II  Centro_I  Sur_I  Sureste\n",
       "Animal                                                    \n",
       "lobo              12.0        23        15   28.0     43.0\n",
       "coyote             NaN         4        23   46.0     69.0\n",
       "jaguar             NaN        25         2   14.0     16.0\n",
       "cerdo salvaje      2.0        21       120  156.0    276.0\n",
       "tapir              4.0         9        40   79.0    119.0\n",
       "venado             2.0       121       121   12.0    133.0\n",
       "ocelote           14.0         1         0    2.0      2.0\n",
       "puma               5.0         2         5    NaN      NaN"
      ]
     },
     "execution_count": 13,
     "metadata": {},
     "output_type": "execute_result"
    }
   ],
   "source": [
    "poblacion.assign(Sureste = poblacion['Sur_I'] + poblacion['Centro_I'])"
   ]
  },
  {
   "cell_type": "markdown",
   "metadata": {},
   "source": [
    "* La siguiente celda regresará un *dataframe* creado a partir de ```poblacion``` al que se le añadirá la columna ```'Sur medio'```, la cual es el resultado de aplicar una función que multiplicar las columna ```['Sur_I']``` del *dataframe* que se le ingrese como argumento por ```0.5```."
   ]
  },
  {
   "cell_type": "code",
   "execution_count": 14,
   "metadata": {
    "scrolled": false
   },
   "outputs": [
    {
     "data": {
      "text/html": [
       "<div>\n",
       "<style scoped>\n",
       "    .dataframe tbody tr th:only-of-type {\n",
       "        vertical-align: middle;\n",
       "    }\n",
       "\n",
       "    .dataframe tbody tr th {\n",
       "        vertical-align: top;\n",
       "    }\n",
       "\n",
       "    .dataframe thead th {\n",
       "        text-align: right;\n",
       "    }\n",
       "</style>\n",
       "<table border=\"1\" class=\"dataframe\">\n",
       "  <thead>\n",
       "    <tr style=\"text-align: right;\">\n",
       "      <th></th>\n",
       "      <th>Norte_I</th>\n",
       "      <th>Norte_II</th>\n",
       "      <th>Centro_I</th>\n",
       "      <th>Sur_I</th>\n",
       "      <th>Sur_medio</th>\n",
       "    </tr>\n",
       "    <tr>\n",
       "      <th>Animal</th>\n",
       "      <th></th>\n",
       "      <th></th>\n",
       "      <th></th>\n",
       "      <th></th>\n",
       "      <th></th>\n",
       "    </tr>\n",
       "  </thead>\n",
       "  <tbody>\n",
       "    <tr>\n",
       "      <th>lobo</th>\n",
       "      <td>12.0</td>\n",
       "      <td>23</td>\n",
       "      <td>15</td>\n",
       "      <td>28.0</td>\n",
       "      <td>14.0</td>\n",
       "    </tr>\n",
       "    <tr>\n",
       "      <th>coyote</th>\n",
       "      <td>NaN</td>\n",
       "      <td>4</td>\n",
       "      <td>23</td>\n",
       "      <td>46.0</td>\n",
       "      <td>23.0</td>\n",
       "    </tr>\n",
       "    <tr>\n",
       "      <th>jaguar</th>\n",
       "      <td>NaN</td>\n",
       "      <td>25</td>\n",
       "      <td>2</td>\n",
       "      <td>14.0</td>\n",
       "      <td>7.0</td>\n",
       "    </tr>\n",
       "    <tr>\n",
       "      <th>cerdo salvaje</th>\n",
       "      <td>2.0</td>\n",
       "      <td>21</td>\n",
       "      <td>120</td>\n",
       "      <td>156.0</td>\n",
       "      <td>78.0</td>\n",
       "    </tr>\n",
       "    <tr>\n",
       "      <th>tapir</th>\n",
       "      <td>4.0</td>\n",
       "      <td>9</td>\n",
       "      <td>40</td>\n",
       "      <td>79.0</td>\n",
       "      <td>39.5</td>\n",
       "    </tr>\n",
       "    <tr>\n",
       "      <th>venado</th>\n",
       "      <td>2.0</td>\n",
       "      <td>121</td>\n",
       "      <td>121</td>\n",
       "      <td>12.0</td>\n",
       "      <td>6.0</td>\n",
       "    </tr>\n",
       "    <tr>\n",
       "      <th>ocelote</th>\n",
       "      <td>14.0</td>\n",
       "      <td>1</td>\n",
       "      <td>0</td>\n",
       "      <td>2.0</td>\n",
       "      <td>1.0</td>\n",
       "    </tr>\n",
       "    <tr>\n",
       "      <th>puma</th>\n",
       "      <td>5.0</td>\n",
       "      <td>2</td>\n",
       "      <td>5</td>\n",
       "      <td>NaN</td>\n",
       "      <td>NaN</td>\n",
       "    </tr>\n",
       "  </tbody>\n",
       "</table>\n",
       "</div>"
      ],
      "text/plain": [
       "               Norte_I  Norte_II  Centro_I  Sur_I  Sur_medio\n",
       "Animal                                                      \n",
       "lobo              12.0        23        15   28.0       14.0\n",
       "coyote             NaN         4        23   46.0       23.0\n",
       "jaguar             NaN        25         2   14.0        7.0\n",
       "cerdo salvaje      2.0        21       120  156.0       78.0\n",
       "tapir              4.0         9        40   79.0       39.5\n",
       "venado             2.0       121       121   12.0        6.0\n",
       "ocelote           14.0         1         0    2.0        1.0\n",
       "puma               5.0         2         5    NaN        NaN"
      ]
     },
     "execution_count": 14,
     "metadata": {},
     "output_type": "execute_result"
    }
   ],
   "source": [
    "poblacion.assign(Sur_medio = lambda x: x['Sur_I'] * 0.5)"
   ]
  },
  {
   "cell_type": "markdown",
   "metadata": {},
   "source": [
    "* La siguiente celda defina a la función ```mitad()```, la cual regresará el resultado de multiplicar por ```0.5``` a la columna ```'Sur_I'``` del *dataframe* que se ingresa como argumento."
   ]
  },
  {
   "cell_type": "code",
   "execution_count": 16,
   "metadata": {
    "scrolled": true
   },
   "outputs": [],
   "source": [
    "def mitad(x):\n",
    "    return x['Sur_I'] * 0.5"
   ]
  },
  {
   "cell_type": "markdown",
   "metadata": {},
   "source": [
    "* La siguiente celda regresará un *dataframe* creado a partir de ```poblacion``` al que se le añadirá la columna ```'Sur_medio'```, la cual es el resultado de aplicar la función ```mitad()``` al *dataframe* ```poblacion```."
   ]
  },
  {
   "cell_type": "code",
   "execution_count": 17,
   "metadata": {
    "scrolled": true
   },
   "outputs": [
    {
     "data": {
      "text/html": [
       "<div>\n",
       "<style scoped>\n",
       "    .dataframe tbody tr th:only-of-type {\n",
       "        vertical-align: middle;\n",
       "    }\n",
       "\n",
       "    .dataframe tbody tr th {\n",
       "        vertical-align: top;\n",
       "    }\n",
       "\n",
       "    .dataframe thead th {\n",
       "        text-align: right;\n",
       "    }\n",
       "</style>\n",
       "<table border=\"1\" class=\"dataframe\">\n",
       "  <thead>\n",
       "    <tr style=\"text-align: right;\">\n",
       "      <th></th>\n",
       "      <th>Norte_I</th>\n",
       "      <th>Norte_II</th>\n",
       "      <th>Centro_I</th>\n",
       "      <th>Sur_I</th>\n",
       "      <th>Sur_medio</th>\n",
       "    </tr>\n",
       "    <tr>\n",
       "      <th>Animal</th>\n",
       "      <th></th>\n",
       "      <th></th>\n",
       "      <th></th>\n",
       "      <th></th>\n",
       "      <th></th>\n",
       "    </tr>\n",
       "  </thead>\n",
       "  <tbody>\n",
       "    <tr>\n",
       "      <th>lobo</th>\n",
       "      <td>12.0</td>\n",
       "      <td>23</td>\n",
       "      <td>15</td>\n",
       "      <td>28.0</td>\n",
       "      <td>14.0</td>\n",
       "    </tr>\n",
       "    <tr>\n",
       "      <th>coyote</th>\n",
       "      <td>NaN</td>\n",
       "      <td>4</td>\n",
       "      <td>23</td>\n",
       "      <td>46.0</td>\n",
       "      <td>23.0</td>\n",
       "    </tr>\n",
       "    <tr>\n",
       "      <th>jaguar</th>\n",
       "      <td>NaN</td>\n",
       "      <td>25</td>\n",
       "      <td>2</td>\n",
       "      <td>14.0</td>\n",
       "      <td>7.0</td>\n",
       "    </tr>\n",
       "    <tr>\n",
       "      <th>cerdo salvaje</th>\n",
       "      <td>2.0</td>\n",
       "      <td>21</td>\n",
       "      <td>120</td>\n",
       "      <td>156.0</td>\n",
       "      <td>78.0</td>\n",
       "    </tr>\n",
       "    <tr>\n",
       "      <th>tapir</th>\n",
       "      <td>4.0</td>\n",
       "      <td>9</td>\n",
       "      <td>40</td>\n",
       "      <td>79.0</td>\n",
       "      <td>39.5</td>\n",
       "    </tr>\n",
       "    <tr>\n",
       "      <th>venado</th>\n",
       "      <td>2.0</td>\n",
       "      <td>121</td>\n",
       "      <td>121</td>\n",
       "      <td>12.0</td>\n",
       "      <td>6.0</td>\n",
       "    </tr>\n",
       "    <tr>\n",
       "      <th>ocelote</th>\n",
       "      <td>14.0</td>\n",
       "      <td>1</td>\n",
       "      <td>0</td>\n",
       "      <td>2.0</td>\n",
       "      <td>1.0</td>\n",
       "    </tr>\n",
       "    <tr>\n",
       "      <th>puma</th>\n",
       "      <td>5.0</td>\n",
       "      <td>2</td>\n",
       "      <td>5</td>\n",
       "      <td>NaN</td>\n",
       "      <td>NaN</td>\n",
       "    </tr>\n",
       "  </tbody>\n",
       "</table>\n",
       "</div>"
      ],
      "text/plain": [
       "               Norte_I  Norte_II  Centro_I  Sur_I  Sur_medio\n",
       "Animal                                                      \n",
       "lobo              12.0        23        15   28.0       14.0\n",
       "coyote             NaN         4        23   46.0       23.0\n",
       "jaguar             NaN        25         2   14.0        7.0\n",
       "cerdo salvaje      2.0        21       120  156.0       78.0\n",
       "tapir              4.0         9        40   79.0       39.5\n",
       "venado             2.0       121       121   12.0        6.0\n",
       "ocelote           14.0         1         0    2.0        1.0\n",
       "puma               5.0         2         5    NaN        NaN"
      ]
     },
     "execution_count": 17,
     "metadata": {},
     "output_type": "execute_result"
    }
   ],
   "source": [
    "poblacion.assign(Sur_medio = mitad)"
   ]
  },
  {
   "cell_type": "markdown",
   "metadata": {},
   "source": [
    "* La siguiente celda regresará un *dataframe* creado a partir de ```poblacion``` al que se le añadirá la columna ```'Promedio'```, la cual es el resultado de aplicar el método ```pd.DataFrame.mean``` en el eje ```1``` al *dataframe* ```poblacion```."
   ]
  },
  {
   "cell_type": "code",
   "execution_count": null,
   "metadata": {
    "scrolled": true
   },
   "outputs": [],
   "source": [
    "poblacion.assign(Promedio=lambda x: pd.DataFrame.mean(x, axis=1))"
   ]
  },
  {
   "cell_type": "markdown",
   "metadata": {},
   "source": [
    "* La siguiente celda regresará un dataframe creado a partir de ```poblacion``` al que:\n",
    "    * Se le añadirá la columna ```'Promedio'```, la cual es el resultado de aplicar una función que aplicará el método ```pd.DataFrame.mean``` en el eje ```1``` al dataframe que se ingrese como argumento.\n",
    "    * Se le añadirá la columna ```'Suma'```, la cual es el resultado de aplicar una función que aplicará el método ```pd.DataFrame.sum``` en el eje ```1``` al dataframe que se ingrese como argumento restando la columna ```Promedio```."
   ]
  },
  {
   "cell_type": "code",
   "execution_count": null,
   "metadata": {},
   "outputs": [],
   "source": [
    "poblacion.assign(Promedio=lambda x: pd.DataFrame.mean(x, axis=1),\n",
    "                Suma=lambda x: pd.DataFrame.sum(x, axis=1) - x['Promedio'])"
   ]
  },
  {
   "cell_type": "markdown",
   "metadata": {},
   "source": [
    "## El método ```df.take()```.\n",
    "\n",
    " Este método regresa los renglones que se indiquen en función de un índice numérico.\n",
    " \n",
    " \n",
    " ```\n",
    " df.take(<colección>)\n",
    " ```\n",
    " \n",
    " Donde:\n",
    " \n",
    " * ```<colección>``` es una colección de índices."
   ]
  },
  {
   "cell_type": "markdown",
   "metadata": {},
   "source": [
    "**Ejemplos:**"
   ]
  },
  {
   "cell_type": "markdown",
   "metadata": {},
   "source": [
    "* La siguiente celda regresará los renglones con índice ```1```  y ```4``` del *dataframe* ```poblacion```."
   ]
  },
  {
   "cell_type": "code",
   "execution_count": null,
   "metadata": {},
   "outputs": [],
   "source": [
    "poblacion"
   ]
  },
  {
   "cell_type": "code",
   "execution_count": null,
   "metadata": {
    "scrolled": true
   },
   "outputs": [],
   "source": [
    "poblacion.take([1, 4])"
   ]
  },
  {
   "cell_type": "markdown",
   "metadata": {},
   "source": [
    "* La siguiente celda regresará los renglones con índices del ```2``` a antes del ```7```en incrementos de ```2``` del *dataframe* ```poblacion```."
   ]
  },
  {
   "cell_type": "code",
   "execution_count": 18,
   "metadata": {
    "scrolled": true
   },
   "outputs": [
    {
     "data": {
      "text/html": [
       "<div>\n",
       "<style scoped>\n",
       "    .dataframe tbody tr th:only-of-type {\n",
       "        vertical-align: middle;\n",
       "    }\n",
       "\n",
       "    .dataframe tbody tr th {\n",
       "        vertical-align: top;\n",
       "    }\n",
       "\n",
       "    .dataframe thead th {\n",
       "        text-align: right;\n",
       "    }\n",
       "</style>\n",
       "<table border=\"1\" class=\"dataframe\">\n",
       "  <thead>\n",
       "    <tr style=\"text-align: right;\">\n",
       "      <th></th>\n",
       "      <th>Norte_I</th>\n",
       "      <th>Norte_II</th>\n",
       "      <th>Centro_I</th>\n",
       "      <th>Sur_I</th>\n",
       "    </tr>\n",
       "    <tr>\n",
       "      <th>Animal</th>\n",
       "      <th></th>\n",
       "      <th></th>\n",
       "      <th></th>\n",
       "      <th></th>\n",
       "    </tr>\n",
       "  </thead>\n",
       "  <tbody>\n",
       "    <tr>\n",
       "      <th>jaguar</th>\n",
       "      <td>NaN</td>\n",
       "      <td>25</td>\n",
       "      <td>2</td>\n",
       "      <td>14.0</td>\n",
       "    </tr>\n",
       "    <tr>\n",
       "      <th>tapir</th>\n",
       "      <td>4.0</td>\n",
       "      <td>9</td>\n",
       "      <td>40</td>\n",
       "      <td>79.0</td>\n",
       "    </tr>\n",
       "    <tr>\n",
       "      <th>ocelote</th>\n",
       "      <td>14.0</td>\n",
       "      <td>1</td>\n",
       "      <td>0</td>\n",
       "      <td>2.0</td>\n",
       "    </tr>\n",
       "  </tbody>\n",
       "</table>\n",
       "</div>"
      ],
      "text/plain": [
       "         Norte_I  Norte_II  Centro_I  Sur_I\n",
       "Animal                                     \n",
       "jaguar       NaN        25         2   14.0\n",
       "tapir        4.0         9        40   79.0\n",
       "ocelote     14.0         1         0    2.0"
      ]
     },
     "execution_count": 18,
     "metadata": {},
     "output_type": "execute_result"
    }
   ],
   "source": [
    "poblacion.take(range(2, 7, 2))"
   ]
  },
  {
   "cell_type": "markdown",
   "metadata": {},
   "source": [
    "## El método ```replace()```.\n",
    "\n",
    "Este método sustituye un valor a que coincida con uno de los valores dados en una colección dada como argumento.\n",
    "\n",
    " ```\n",
    " <objeto de Pandas>.replace(<colección de valores>, <valor de sustitución>)\n",
    " ```"
   ]
  },
  {
   "cell_type": "markdown",
   "metadata": {},
   "source": [
    "**Ejemplos:**"
   ]
  },
  {
   "cell_type": "markdown",
   "metadata": {},
   "source": [
    "* La siguiente celda sustituirá al valor ```NaN``` por ```0``` en ```poblacion```."
   ]
  },
  {
   "cell_type": "code",
   "execution_count": null,
   "metadata": {},
   "outputs": [],
   "source": [
    "poblacion"
   ]
  },
  {
   "cell_type": "code",
   "execution_count": null,
   "metadata": {
    "scrolled": true
   },
   "outputs": [],
   "source": [
    "poblacion.replace(np.NaN, 0)"
   ]
  },
  {
   "cell_type": "markdown",
   "metadata": {},
   "source": [
    "* La siguiente celda sustituirá a los valore ```NaN``` y ```0``` por ```'extinto'``` en ```poblacion```."
   ]
  },
  {
   "cell_type": "code",
   "execution_count": null,
   "metadata": {
    "scrolled": true
   },
   "outputs": [],
   "source": [
    "poblacion.replace([0, np.NaN], 'extinto')"
   ]
  },
  {
   "cell_type": "markdown",
   "metadata": {},
   "source": [
    "## El método ```update()```.\n",
    "\n",
    "Este método sustituirá los renglones del dataframe que contiene a dicho método con los datos de los renglones del dataframe que se ingresa como argumento exclusivamente en los índices que coincidan.\n",
    "\n",
    "```\n",
    "    <dataframe 1>.update(<dataframe 2>)\n",
    "```\n",
    "\n",
    "https://pandas.pydata.org/docs/reference/api/pandas.DataFrame.update.html"
   ]
  },
  {
   "cell_type": "markdown",
   "metadata": {},
   "source": [
    "**Ejemplo:**"
   ]
  },
  {
   "cell_type": "markdown",
   "metadata": {},
   "source": [
    "* Se utilizará el dataframe ```especies```."
   ]
  },
  {
   "cell_type": "code",
   "execution_count": null,
   "metadata": {},
   "outputs": [],
   "source": [
    "especies = pd.DataFrame({'Animal':('lobo',\n",
    "                                   'coyote',\n",
    "                                   'jaguar'),\n",
    "                         'Norte_I':('estable',\n",
    "                                   'amenazado',\n",
    "                                'amenazado'),\n",
    "                          'Norte_II':('estable',\n",
    "                                    'estable',\n",
    "                                    'extinto'),\n",
    "                         'Centro_I':('estable',\n",
    "                                    'amenazado',\n",
    "                                    'extinto'),\n",
    "                         'Sur_I':('amenazado',\n",
    "                                  'extinto',\n",
    "                                  'estable')}).set_index('Animal')"
   ]
  },
  {
   "cell_type": "code",
   "execution_count": null,
   "metadata": {},
   "outputs": [],
   "source": [
    "especies"
   ]
  },
  {
   "cell_type": "markdown",
   "metadata": {},
   "source": [
    "* Se creará al dataframe ```otras_especies``` el cual comparte con ```especies``` el índice ```'lobo'```."
   ]
  },
  {
   "cell_type": "code",
   "execution_count": null,
   "metadata": {
    "scrolled": true
   },
   "outputs": [],
   "source": [
    "otras_especies = pd.DataFrame({'Animal':('lobo',\n",
    "                                   'antilope',\n",
    "                                   'tucán'),\n",
    "                         'Norte_I':('estable',\n",
    "                                   'estable',\n",
    "                                   'estable'),\n",
    "                          'Norte_II':('extinto',\n",
    "                                    'estable',\n",
    "                                    'estable'),\n",
    "                         'Centro_I':('estable',\n",
    "                                    'estable',\n",
    "                                    'estable'),\n",
    "                         'Sureste':('estable',\n",
    "                                  'estable',\n",
    "                                  'estable')}).set_index('Animal')"
   ]
  },
  {
   "cell_type": "code",
   "execution_count": null,
   "metadata": {
    "scrolled": false
   },
   "outputs": [],
   "source": [
    "otras_especies"
   ]
  },
  {
   "cell_type": "markdown",
   "metadata": {},
   "source": [
    "* La suguiente celda sustituirá los valores del renglón con índice ```lobo``` del dataframe ```especies``` con los valores del  ```otras_especies``` "
   ]
  },
  {
   "cell_type": "code",
   "execution_count": null,
   "metadata": {
    "scrolled": true
   },
   "outputs": [],
   "source": [
    "especies.update(otras_especies)"
   ]
  },
  {
   "cell_type": "code",
   "execution_count": null,
   "metadata": {
    "scrolled": false
   },
   "outputs": [],
   "source": [
    "especies"
   ]
  },
  {
   "cell_type": "markdown",
   "metadata": {},
   "source": [
    "## El metodo ```all()```.\n",
    "\n",
    "Ese método se aplica para validar si todos los elementos de una columna (*axis=0*) o renglón (*axis=1*) son *True*.\n",
    "\n",
    "```\n",
    "<objeto>.all(axis=<n>)\n",
    "```"
   ]
  },
  {
   "cell_type": "code",
   "execution_count": null,
   "metadata": {
    "scrolled": true
   },
   "outputs": [],
   "source": [
    "poblacion"
   ]
  },
  {
   "cell_type": "code",
   "execution_count": null,
   "metadata": {
    "scrolled": true
   },
   "outputs": [],
   "source": [
    "poblacion > 0"
   ]
  },
  {
   "cell_type": "code",
   "execution_count": null,
   "metadata": {
    "scrolled": true
   },
   "outputs": [],
   "source": [
    "(poblacion > 0).all()"
   ]
  },
  {
   "cell_type": "code",
   "execution_count": null,
   "metadata": {
    "scrolled": false
   },
   "outputs": [],
   "source": [
    "(poblacion > 0).all(axis=1)"
   ]
  },
  {
   "cell_type": "markdown",
   "metadata": {},
   "source": [
    "* Python toma como *True* a cualquier valor distinto de ```0```, ```None```o ```\"\"```."
   ]
  },
  {
   "cell_type": "code",
   "execution_count": null,
   "metadata": {},
   "outputs": [],
   "source": [
    "poblacion"
   ]
  },
  {
   "cell_type": "code",
   "execution_count": null,
   "metadata": {
    "scrolled": true
   },
   "outputs": [],
   "source": [
    "poblacion.all()"
   ]
  },
  {
   "cell_type": "markdown",
   "metadata": {},
   "source": [
    "## El método ```any()```.\n",
    "\n",
    "Ese método se aplica para validar si al menos un elemento de una columna (*axis=0*) o renglón (*axis-1*) es *True*.\n",
    "\n",
    "```\n",
    "<objeto>.any(axis=<n>)\n",
    "```"
   ]
  },
  {
   "cell_type": "code",
   "execution_count": null,
   "metadata": {
    "scrolled": true
   },
   "outputs": [],
   "source": [
    "(poblacion > 0).any()"
   ]
  },
  {
   "cell_type": "code",
   "execution_count": null,
   "metadata": {
    "scrolled": true
   },
   "outputs": [],
   "source": [
    "(poblacion > 0).any(axis=1)"
   ]
  },
  {
   "cell_type": "markdown",
   "metadata": {},
   "source": [
    "## El método ```items()```.\n",
    "\n",
    "Este método crea un generador, el cual regresa tuplas de 2 elementos a partir de un  objeto de Pandas.\n",
    "\n",
    "### El método ```items()``` en dataframes.\n",
    "* En el caso de un dataframe, el generador regresa tuplas compuestas por los datos de cada columna con la siguiente estructura:\n",
    "\n",
    "```\n",
    "('<identificador de encabezado>', <objeto tipo pd.Series>)\n",
    "```\n",
    "\n",
    "### El método ```items()``` en series.\n",
    "* En el caso de una serie, el generador regresa tuplas con la siguiente estructura:\n",
    "\n",
    "```\n",
    "('<identificador de índice>', <valor>)\n",
    "```"
   ]
  },
  {
   "cell_type": "code",
   "execution_count": null,
   "metadata": {},
   "outputs": [],
   "source": [
    "poblacion"
   ]
  },
  {
   "cell_type": "code",
   "execution_count": null,
   "metadata": {
    "scrolled": true
   },
   "outputs": [],
   "source": [
    "poblacion.items()"
   ]
  },
  {
   "cell_type": "code",
   "execution_count": null,
   "metadata": {
    "scrolled": true
   },
   "outputs": [],
   "source": [
    "for item in poblacion.items():\n",
    "    print(item[0])\n",
    "    print(\"--------------\")\n",
    "    print(item[1])"
   ]
  },
  {
   "cell_type": "code",
   "execution_count": null,
   "metadata": {
    "scrolled": true
   },
   "outputs": [],
   "source": [
    "for i in poblacion.items():\n",
    "    print(i[0])\n",
    "    print(\"--------\")\n",
    "    for j in i[1].items():\n",
    "        print(j)"
   ]
  },
  {
   "cell_type": "markdown",
   "metadata": {},
   "source": [
    "## El método ```drop()```.\n",
    "\n",
    "Elimina los identficadores de los índices (*axis=0*) o columnas (*axis=1*) localizados dentro de una colección ingresada como argumento.\n",
    "```\n",
    "<objeto de Pandas>.drop(<colección de identificadores>, axis=<n>)\n",
    "```"
   ]
  },
  {
   "cell_type": "code",
   "execution_count": null,
   "metadata": {
    "scrolled": true
   },
   "outputs": [],
   "source": [
    "poblacion"
   ]
  },
  {
   "cell_type": "code",
   "execution_count": null,
   "metadata": {
    "scrolled": false
   },
   "outputs": [],
   "source": [
    "poblacion.drop(['Centro_I'], axis=1)"
   ]
  },
  {
   "cell_type": "code",
   "execution_count": null,
   "metadata": {
    "scrolled": false
   },
   "outputs": [],
   "source": [
    "poblacion.drop(['lobo', 'tapir'])"
   ]
  },
  {
   "cell_type": "markdown",
   "metadata": {},
   "source": [
    "## El método ```combine()```.\n",
    "\n",
    "Este método combina dos dataframes e incluye una función la cual permitre decidir cual valor es que se respeta.\n",
    "\n",
    "```\n",
    "<dataframe 1>.combine(<dataframe 2>, <funcion>)\n",
    "```\n",
    "\n",
    "Donde:\n",
    "\n",
    "* ```<funcion>``` es una función que comparará renglón por renglón ambos dataframes. \n",
    "\n",
    "https://pandas.pydata.org/docs/reference/api/pandas.DataFrame.combine.html"
   ]
  },
  {
   "cell_type": "code",
   "execution_count": null,
   "metadata": {
    "scrolled": true
   },
   "outputs": [],
   "source": [
    "def menor( rebanada_1, rebanada_2):\n",
    "    if (rebanada_1 == np.NAN).any():\n",
    "        return rebanada_2\n",
    "    if (rebanada_2 == np.NAN).any():\n",
    "        return rebanada_1\n",
    "    if rebanada_2.sum() > rebanada_1.sum():\n",
    "        return rebanada_2\n",
    "    else:\n",
    "        return rebanada_1"
   ]
  },
  {
   "cell_type": "code",
   "execution_count": null,
   "metadata": {
    "scrolled": true
   },
   "outputs": [],
   "source": [
    "poblacion"
   ]
  },
  {
   "cell_type": "code",
   "execution_count": null,
   "metadata": {
    "scrolled": true
   },
   "outputs": [],
   "source": [
    "otra_poblacion = pd.DataFrame({'Animal':('lobo',\n",
    "                                   'coyote',\n",
    "                                   'jaguar',\n",
    "                                   'colibrí',\n",
    "                                    'conejo'),\n",
    "                         'Norte_I':(32,\n",
    "                                   13,\n",
    "                                    56,\n",
    "                                    12,\n",
    "                                    41,\n",
    "                                   ),\n",
    "                         'Sureste':(28,\n",
    "                                  46,\n",
    "                                  14,\n",
    "                                  156,\n",
    "                                  79,)}).set_index('Animal')"
   ]
  },
  {
   "cell_type": "code",
   "execution_count": null,
   "metadata": {
    "scrolled": true
   },
   "outputs": [],
   "source": [
    "otra_poblacion"
   ]
  },
  {
   "cell_type": "code",
   "execution_count": null,
   "metadata": {
    "scrolled": true
   },
   "outputs": [],
   "source": [
    "poblacion.combine(otra_poblacion, menor)"
   ]
  },
  {
   "cell_type": "code",
   "execution_count": null,
   "metadata": {
    "scrolled": true
   },
   "outputs": [],
   "source": [
    "df1 = pd.DataFrame({'A': [0, 0], 'B': [4, 4]})\n",
    "df2 = pd.DataFrame({'A': [1, 1], 'B': [3, 3]})"
   ]
  },
  {
   "cell_type": "code",
   "execution_count": null,
   "metadata": {
    "scrolled": true
   },
   "outputs": [],
   "source": [
    "df1"
   ]
  },
  {
   "cell_type": "code",
   "execution_count": null,
   "metadata": {
    "scrolled": true
   },
   "outputs": [],
   "source": [
    "df2"
   ]
  },
  {
   "cell_type": "code",
   "execution_count": null,
   "metadata": {
    "scrolled": true
   },
   "outputs": [],
   "source": [
    "take_smaller = lambda s1, s2: s1 if s1.sum() < s2.sum() else s2"
   ]
  },
  {
   "cell_type": "code",
   "execution_count": null,
   "metadata": {
    "scrolled": true
   },
   "outputs": [],
   "source": [
    "df1.combine(df2, take_smaller)"
   ]
  },
  {
   "cell_type": "markdown",
   "metadata": {},
   "source": [
    "## El método ```insert()```.\n",
    "\n",
    "Este método insertará una columna en la posición que se le indique.\n",
    "\n",
    "```\n",
    "<objeto de Pandas>.insert(<posición numérica>, <nombre de columna>, <valores>)\n",
    "```"
   ]
  },
  {
   "cell_type": "code",
   "execution_count": null,
   "metadata": {
    "scrolled": true
   },
   "outputs": [],
   "source": [
    "poblacion"
   ]
  },
  {
   "cell_type": "code",
   "execution_count": null,
   "metadata": {
    "scrolled": true
   },
   "outputs": [],
   "source": [
    "poblacion.insert(0, 'Sur', [7, 21, 23, 6, 11, 32, 21, 1])"
   ]
  },
  {
   "cell_type": "code",
   "execution_count": null,
   "metadata": {
    "scrolled": true
   },
   "outputs": [],
   "source": [
    "poblacion"
   ]
  },
  {
   "cell_type": "markdown",
   "metadata": {},
   "source": [
    "<p style=\"text-align: center\"><a rel=\"license\" href=\"http://creativecommons.org/licenses/by/4.0/\"><img alt=\"Licencia Creative Commons\" style=\"border-width:0\" src=\"https://i.creativecommons.org/l/by/4.0/80x15.png\" /></a><br />Esta obra está bajo una <a rel=\"license\" href=\"http://creativecommons.org/licenses/by/4.0/\">Licencia Creative Commons Atribución 4.0 Internacional</a>.</p>\n",
    "<p style=\"text-align: center\">&copy; José Luis Chiquete Valdivieso. 2021.</p>"
   ]
  }
 ],
 "metadata": {
  "kernelspec": {
   "display_name": "Python 3 (ipykernel)",
   "language": "python",
   "name": "python3"
  },
  "language_info": {
   "codemirror_mode": {
    "name": "ipython",
    "version": 3
   },
   "file_extension": ".py",
   "mimetype": "text/x-python",
   "name": "python",
   "nbconvert_exporter": "python",
   "pygments_lexer": "ipython3",
   "version": "3.10.6"
  }
 },
 "nbformat": 4,
 "nbformat_minor": 2
}
