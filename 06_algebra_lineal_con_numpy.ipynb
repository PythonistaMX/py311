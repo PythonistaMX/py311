{
 "cells": [
  {
   "cell_type": "markdown",
   "metadata": {},
   "source": [
    "[![img/pythonista.png](img/pythonista.png)](https://www.pythonista.io)"
   ]
  },
  {
   "cell_type": "markdown",
   "metadata": {},
   "source": [
    "# Álgebra lineal con *Numpy*.\n",
    "\n",
    "El componente más poderoso de *Numpy* es su capacida de realziar operaciones con arreglos, y un caso particular de ellos sobn las matrices numéricas."
   ]
  },
  {
   "cell_type": "code",
   "execution_count": null,
   "metadata": {},
   "outputs": [],
   "source": [
    "import numpy as np"
   ]
  },
  {
   "cell_type": "markdown",
   "metadata": {},
   "source": [
    "## Producto punto entre dos matrices.\n",
    "\n",
    "\n",
    "La función ```np.dot()```permite realizar las operaciones de producto punto entre dos matrices compatibles.\n",
    "\n",
    "```\n",
    "np.dot(<arreglo_1>,(<arreglo_2>)\n",
    "\n",
    "```"
   ]
  },
  {
   "cell_type": "markdown",
   "metadata": {},
   "source": [
    "**Ejemplo:**"
   ]
  },
  {
   "cell_type": "markdown",
   "metadata": {},
   "source": [
    "* La siguiente celda creará al arreglo con nombre ```arreglo_1 ``` de forma ```(3, 2)```."
   ]
  },
  {
   "cell_type": "code",
   "execution_count": null,
   "metadata": {},
   "outputs": [],
   "source": [
    "arreglo_1 = np.array([[1, 2],\n",
    "                      [3, 4],\n",
    "                     [5, 6]])"
   ]
  },
  {
   "cell_type": "markdown",
   "metadata": {},
   "source": [
    "* La siguiente celda creará al arreglo con nombre ```arreglo_2 ``` de forma ```(2, 4)```."
   ]
  },
  {
   "cell_type": "code",
   "execution_count": null,
   "metadata": {},
   "outputs": [],
   "source": [
    "arreglo_2 = np.array([[11, 12, 13, 14],\n",
    "                      [15, 16, 17, 18]])"
   ]
  },
  {
   "cell_type": "markdown",
   "metadata": {},
   "source": [
    "* La siguiente celda realizará la operación de producto punto entre ```arreglo_1``` y ```arreglo_2```, regresando una matriz de la forma ```(3, 4)```."
   ]
  },
  {
   "cell_type": "code",
   "execution_count": null,
   "metadata": {
    "scrolled": true
   },
   "outputs": [],
   "source": [
    "np.dot(arreglo_1, arreglo_2)"
   ]
  },
  {
   "cell_type": "markdown",
   "metadata": {},
   "source": [
    "* El signo ```@``` es reconocido por *Numpy* como  el operador de producto punto."
   ]
  },
  {
   "cell_type": "code",
   "execution_count": null,
   "metadata": {},
   "outputs": [],
   "source": [
    "arreglo_1 @ arreglo_2"
   ]
  },
  {
   "cell_type": "markdown",
   "metadata": {},
   "source": [
    "## Producto cruz entre dos matrices."
   ]
  },
  {
   "cell_type": "markdown",
   "metadata": {},
   "source": [
    "* La siguiente celda creará un arreglo de una dimensión, de forma ```(1,2)``` al que se le llamará ```vector_1```."
   ]
  },
  {
   "cell_type": "code",
   "execution_count": null,
   "metadata": {},
   "outputs": [],
   "source": [
    "vector_1 = np.array([1, 2])"
   ]
  },
  {
   "cell_type": "code",
   "execution_count": null,
   "metadata": {
    "scrolled": true
   },
   "outputs": [],
   "source": [
    "vector_1.shape"
   ]
  },
  {
   "cell_type": "markdown",
   "metadata": {},
   "source": [
    "* La siguiente celda creará un arreglo de una dimensión, de forma ```(1,2)``` al que se le llamará ```vector_2```."
   ]
  },
  {
   "cell_type": "code",
   "execution_count": null,
   "metadata": {},
   "outputs": [],
   "source": [
    "vector_2 = np.array([11, 12])"
   ]
  },
  {
   "cell_type": "code",
   "execution_count": null,
   "metadata": {
    "scrolled": true
   },
   "outputs": [],
   "source": [
    "vector_2.shape"
   ]
  },
  {
   "cell_type": "markdown",
   "metadata": {},
   "source": [
    "* La siguiente celda ejecutará la función ```np.cross()``` con ```vector_1``` y ```vector_2```."
   ]
  },
  {
   "cell_type": "code",
   "execution_count": null,
   "metadata": {},
   "outputs": [],
   "source": [
    "np.cross(vector_1, vector_2)"
   ]
  },
  {
   "cell_type": "code",
   "execution_count": null,
   "metadata": {},
   "outputs": [],
   "source": [
    "vector_3 = np.array([[1, 2, 3]])"
   ]
  },
  {
   "cell_type": "code",
   "execution_count": null,
   "metadata": {},
   "outputs": [],
   "source": [
    "vector_4 = np.array([11, 12, 13])"
   ]
  },
  {
   "cell_type": "code",
   "execution_count": null,
   "metadata": {},
   "outputs": [],
   "source": [
    "np.cross(vector_3, vector_4)"
   ]
  },
  {
   "cell_type": "markdown",
   "metadata": {},
   "source": [
    "## El paquete ```numpy.linalg```.\n",
    "\n",
    "La biblioteca especialziada en operaciones de algebra lineal de *Numpy* es ```numpy.linalg```.\n",
    "\n",
    "El estudio de todas las funciones contenodas en este paquete están fuera de los alcances de este curso, pero se ejemplificarán las funciones.\n",
    "\n",
    "* ```np.linalg.det()```\n",
    "* ```np.linalg.solve()```\n",
    "* ```np.linalg.inv()```\n",
    "\n",
    "https://numpy.org/doc/stable/reference/routines.linalg.html"
   ]
  },
  {
   "cell_type": "code",
   "execution_count": null,
   "metadata": {},
   "outputs": [],
   "source": [
    "import numpy.linalg"
   ]
  },
  {
   "cell_type": "code",
   "execution_count": null,
   "metadata": {
    "scrolled": false
   },
   "outputs": [],
   "source": [
    "help(numpy.linalg)"
   ]
  },
  {
   "cell_type": "markdown",
   "metadata": {},
   "source": [
    "### Cálculo del determinate de una matriz mediante ```numpy.linalg.det()```.\n",
    "\n",
    "\n",
    "\n",
    "**Ejemplo:**\n",
    "\n",
    "* Se calculará el determinante de la matriz:\n",
    "\n",
    "$$ \\det\\begin{vmatrix}0&1&2\\\\3&4&5\\\\6&7&8\\end{vmatrix}$$\n",
    "\n",
    "* El cálculo del determinante es el siguiente:\n",
    "\n",
    "$$ ((0 * 4 * 8) + (1 * 5 * 6) + (2 * 3 * 7)) - ((6 * 4 * 2) + (7 * 5 * 0) + (8 * 3* 1)) = 0$$"
   ]
  },
  {
   "cell_type": "code",
   "execution_count": null,
   "metadata": {},
   "outputs": [],
   "source": [
    "matriz = np.arange(9).reshape(3, 3)"
   ]
  },
  {
   "cell_type": "code",
   "execution_count": null,
   "metadata": {},
   "outputs": [],
   "source": [
    "matriz"
   ]
  },
  {
   "cell_type": "code",
   "execution_count": null,
   "metadata": {},
   "outputs": [],
   "source": [
    "numpy.linalg.det(matriz)"
   ]
  },
  {
   "cell_type": "markdown",
   "metadata": {},
   "source": [
    "* Se calculará el determinante de la matriz:\n",
    "\n",
    "$$ \\det\\begin{vmatrix}1&1&2\\\\3&4&5\\\\6&7&8\\end{vmatrix}$$\n",
    "\n",
    "* El cálculo del determinante es el siguiente:\n",
    "\n",
    "$$ ((1 * 4 * 8) + (1 * 5 * 6) + (2 * 3 * 7)) - ((6 * 4 * 2) + (7 * 5 * 1) + (8 * 3* 1)) = -3$$"
   ]
  },
  {
   "cell_type": "code",
   "execution_count": null,
   "metadata": {},
   "outputs": [],
   "source": [
    "matriz = np.array([[1, 1, 2],\n",
    "                  [3, 4, 5],\n",
    "                  [6, 7, 8]])"
   ]
  },
  {
   "cell_type": "code",
   "execution_count": null,
   "metadata": {},
   "outputs": [],
   "source": [
    "numpy.linalg.det(matriz)"
   ]
  },
  {
   "cell_type": "markdown",
   "metadata": {},
   "source": [
    "### Soluciones de ecuaciones lineales con la función ```np.linalg.solve()```.\n",
    "\n",
    "Un sistema de ecuaciones lineales coresponde un conjunto de ecuaciones de la forma:\n",
    "\n",
    "$$\n",
    "a_{11}x_1 + a_{12}x_2 + \\cdots a_{1n}x_n = y_1 \\\\\n",
    "a_{21}x_1 + a_{22}x_2 + \\cdots a_{2n}x_n = y_2\\\\\n",
    "\\vdots\\\\\n",
    "a_{m1}x_1 + a_{m2}x_2 + \\cdots a_{mn}x_n = y_m\n",
    "$$\n",
    "\n",
    "Lo cual puede ser expresado de forma matricial.\n",
    "\n",
    "$$ \n",
    "\\begin{bmatrix}a_{11}\\\\a_{21}\\\\ \\vdots\\\\ a_{m1}\\end{bmatrix}x_1 + \\begin{bmatrix}a_{12}\\\\a_{22}\\\\ \\vdots\\\\ a_{m2}\\end{bmatrix}x_2 + \\cdots \\begin{bmatrix}a_{m1}\\\\a_{m2}\\\\ \\vdots\\\\ a_{mn}\\end{bmatrix}x_n = \\begin{bmatrix}y_{1}\\\\y_{2}\\\\ \\vdots\\\\ y_{m}\\end{bmatrix}\n",
    "$$\n",
    "\n",
    "Existen múltiples métodos para calcular los valores $x_1, x_2 \\cdots x_n$ que cumplan con el sistema siempre que $m = n$.\n",
    "\n",
    "Numpy cuenta con la función *np.linalg.solve()*, la cual puede calcular la solución de un sistema de ecuaciones lineales al expresarse como un par de matrices de la siguiente foma:\n",
    "\n",
    "$$ \n",
    "\\begin{bmatrix}a_{11}&a_{12}&\\cdots&a_{1n}\\\\a_{21}&a_{22}&\\cdots&a_{2n}\\\\ \\vdots\\\\ a_{n1}&a_{n2}&\\cdots&a_{nn}\\end{bmatrix}= \\begin{bmatrix}y_{1}\\\\y_{2}\\\\ \\vdots\\\\ y_{n}\\end{bmatrix}\n",
    "$$\n",
    "\n",
    "La función ```numpy.linagl.solve()``` permite resolver sistemas de ecuaciones lineales ingresando un arreglo de dimensiones ```(n, n)``` como primer argumente y otro con dimensión ```(n)``` como segundo argumento. "
   ]
  },
  {
   "cell_type": "markdown",
   "metadata": {},
   "source": [
    "**Ejemplo:**\n",
    "\n",
    "* Para resolver el sistema de ecuaciones:\n",
    "\n",
    "$$\n",
    "2x_1 + 5x_2 - 3x_3 = 22.2 \\\\\n",
    "11x_1 - 4x_2 + 22x_3 = 11.6 \\\\\n",
    "54x_1 + 1x_2 + 19x_3 = -40.1 \\\\\n",
    "$$\n",
    "\n",
    "* Se realiza lo siguiente:"
   ]
  },
  {
   "cell_type": "code",
   "execution_count": null,
   "metadata": {},
   "outputs": [],
   "source": [
    "a = np.array([[2, 5, -3],\n",
    "              [11, -4, 22],\n",
    "              [54, 1, 19]])"
   ]
  },
  {
   "cell_type": "code",
   "execution_count": null,
   "metadata": {},
   "outputs": [],
   "source": [
    "a.shape"
   ]
  },
  {
   "cell_type": "code",
   "execution_count": null,
   "metadata": {},
   "outputs": [],
   "source": [
    "y = np.array([22.2, 11.6, -40.1])"
   ]
  },
  {
   "cell_type": "code",
   "execution_count": null,
   "metadata": {},
   "outputs": [],
   "source": [
    "y.shape"
   ]
  },
  {
   "cell_type": "code",
   "execution_count": null,
   "metadata": {},
   "outputs": [],
   "source": [
    "np.linalg.solve(a, y)"
   ]
  },
  {
   "cell_type": "markdown",
   "metadata": {},
   "source": [
    "## Matriz inversa."
   ]
  },
  {
   "cell_type": "code",
   "execution_count": null,
   "metadata": {},
   "outputs": [],
   "source": [
    "np.linalg.inv(a)"
   ]
  },
  {
   "cell_type": "code",
   "execution_count": null,
   "metadata": {},
   "outputs": [],
   "source": [
    "np.linalg.inv(a).dot(y)"
   ]
  },
  {
   "cell_type": "markdown",
   "metadata": {},
   "source": [
    "<p style=\"text-align: center\"><a rel=\"license\" href=\"http://creativecommons.org/licenses/by/4.0/\"><img alt=\"Licencia Creative Commons\" style=\"border-width:0\" src=\"https://i.creativecommons.org/l/by/4.0/80x15.png\" /></a><br />Esta obra está bajo una <a rel=\"license\" href=\"http://creativecommons.org/licenses/by/4.0/\">Licencia Creative Commons Atribución 4.0 Internacional</a>.</p>\n",
    "<p style=\"text-align: center\">&copy; José Luis Chiquete Valdivieso. 2021.</p>"
   ]
  }
 ],
 "metadata": {
  "kernelspec": {
   "display_name": "Python 3 (ipykernel)",
   "language": "python",
   "name": "python3"
  },
  "language_info": {
   "codemirror_mode": {
    "name": "ipython",
    "version": 3
   },
   "file_extension": ".py",
   "mimetype": "text/x-python",
   "name": "python",
   "nbconvert_exporter": "python",
   "pygments_lexer": "ipython3",
   "version": "3.9.7"
  }
 },
 "nbformat": 4,
 "nbformat_minor": 2
}
