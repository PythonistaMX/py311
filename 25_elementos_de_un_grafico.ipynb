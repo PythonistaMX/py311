{
 "cells": [
  {
   "cell_type": "markdown",
   "metadata": {},
   "source": [
    "[![img/pythonista.png](img/pythonista.png)](https://www.pythonista.io)"
   ]
  },
  {
   "cell_type": "markdown",
   "metadata": {},
   "source": [
    "# Elementos de un gráfico de *Matplotlib*."
   ]
  },
  {
   "cell_type": "markdown",
   "metadata": {},
   "source": [
    "https://matplotlibguide.readthedocs.io/en/latest/Matplotlib/basic.html"
   ]
  },
  {
   "cell_type": "code",
   "execution_count": null,
   "metadata": {
    "scrolled": true
   },
   "outputs": [],
   "source": [
    "import matplotlib as mpl\n",
    "import numpy as np\n",
    "from matplotlib import pyplot as plt"
   ]
  },
  {
   "cell_type": "markdown",
   "metadata": {},
   "source": [
    "## Preliminares."
   ]
  },
  {
   "cell_type": "markdown",
   "metadata": {},
   "source": [
    "### Ajuste de la *notebook* para ejecución del modo interactivo.\n",
    "\n",
    "La interfaz de *IPython* permite desplegar figuras e imágenes generadas por *Matplotlib* mediante el siguiete comando mágico.\n",
    "\n",
    "```\n",
    "%matplotlib notebook\n",
    "```\n",
    "\n",
    "https://ipython.readthedocs.io/en/stable/interactive/magics.html#magic-matplotlib"
   ]
  },
  {
   "cell_type": "code",
   "execution_count": null,
   "metadata": {},
   "outputs": [],
   "source": [
    "%matplotlib notebook"
   ]
  },
  {
   "cell_type": "markdown",
   "metadata": {},
   "source": [
    "### Datos ilustrativos."
   ]
  },
  {
   "cell_type": "markdown",
   "metadata": {},
   "source": [
    "* La siguienten celda definirá al arregl;o ```x``` el cual contiene un espacio lineal con ```50```segmentos que van de  ```-50``` a ```50```. "
   ]
  },
  {
   "cell_type": "code",
   "execution_count": null,
   "metadata": {},
   "outputs": [],
   "source": [
    "x = np.linspace(-50, 50, 50)\n",
    "x"
   ]
  },
  {
   "cell_type": "markdown",
   "metadata": {},
   "source": [
    "* La siguiente celda definirá al arreglo ```y```, el cual contienen el resultado de la operación  ```(x ** 2) - (2 * x)```."
   ]
  },
  {
   "cell_type": "code",
   "execution_count": null,
   "metadata": {},
   "outputs": [],
   "source": [
    "y = (x ** 2) - (2 * x)\n",
    "y"
   ]
  },
  {
   "cell_type": "markdown",
   "metadata": {},
   "source": [
    "* La siguiente celda definirá al arreglo ```z```, el cual contienen el resultado de la operación  ```x ** 2 * (1 +  np.sin(x))```."
   ]
  },
  {
   "cell_type": "code",
   "execution_count": null,
   "metadata": {
    "scrolled": true
   },
   "outputs": [],
   "source": [
    "z = x ** 2 * (1 +  np.sin(x))\n",
    "z"
   ]
  },
  {
   "cell_type": "markdown",
   "metadata": {},
   "source": [
    "* La siguiente celda trazará una gráfica usando al arreglo ```x``` como el conjunto de datos paras el eje $x$ y ```y``` y ```z``` como funciones de $x$ que serán representadas en el eje $y$ utilizando el método ```plt.plot()```. Se utulizará los parámetros por defecto."
   ]
  },
  {
   "cell_type": "code",
   "execution_count": null,
   "metadata": {},
   "outputs": [],
   "source": [
    "plt.plot(x, y, x, z)"
   ]
  },
  {
   "cell_type": "markdown",
   "metadata": {},
   "source": [
    "## La clase ```plt.Figure```."
   ]
  },
  {
   "cell_type": "markdown",
   "metadata": {},
   "source": [
    "Los elementos base para el trazado de gráficos con *Matplotlib* son los objetos ```figure```, los cuales son instancias de la clase ```matplotlib.figure.Figure```.\n",
    "\n",
    "https://matplotlib.org/stable/api/figure_api.html#matplotlib.figure.Figure"
   ]
  },
  {
   "cell_type": "markdown",
   "metadata": {},
   "source": [
    "### La función ```plt.figure()```.\n",
    "\n",
    "Para poder crear un objeto ```fiugre``` se utiliza el métodos ```plt.figure```.\n",
    "\n",
    "\n",
    "```\n",
    "plt.figure(num=<id>, figsize=<tamaño>, dpi=<resolución>)\n",
    "```\n",
    "\n",
    "Donde:\n",
    " \n",
    "* ```<id>``` es un identificador único del objeto *figure*. En caso de no definirse, el identificador será un número que iniciará en ```1``` e irá incrementándose de 1 en 1.\n",
    "* ```<tamaño>``` es una tupla de dos elementos cuy primer elemento define el ancho y el segundo la altura de la figura.\n",
    "* ```<resolución>``` que corresponde al número de *dpi* de la figura.\n",
    "\n",
    "https://matplotlib.org/stable/api/_as_gen/matplotlib.pyplot.figure.html"
   ]
  },
  {
   "cell_type": "markdown",
   "metadata": {},
   "source": [
    "**Ejemplos:**"
   ]
  },
  {
   "cell_type": "markdown",
   "metadata": {},
   "source": [
    "* La siguente celda creará una figura de resolución de "
   ]
  },
  {
   "cell_type": "code",
   "execution_count": null,
   "metadata": {},
   "outputs": [],
   "source": [
    "fig = plt.figure(dpi=50, figsize=(15, 7))\n",
    "print(type(fig))"
   ]
  },
  {
   "cell_type": "markdown",
   "metadata": {},
   "source": [
    "## #El método ```plt.title()```.\n",
    "\n",
    "Este método permite definir un títlulo para la figura."
   ]
  },
  {
   "cell_type": "code",
   "execution_count": null,
   "metadata": {
    "scrolled": false
   },
   "outputs": [],
   "source": [
    "plt.figure(dpi=50)\n",
    "plt.title(\"Pythonista\")"
   ]
  },
  {
   "cell_type": "markdown",
   "metadata": {},
   "source": [
    "## El método  ```plt.plot()```."
   ]
  },
  {
   "cell_type": "markdown",
   "metadata": {},
   "source": [
    "El objeto ```plt``` cuenta con una gran biblioteca de herramientas que permiten crear gráficos y visualizaciones. El método    ```plt.plot()``` permite crear gráficas de líneas en los ejex $x$ y $y$.\n",
    "\n",
    "```\n",
    "plt.plot(x,y, scalex=<bool>, scaley=<bool>, data=<datos>, **kwargs)\n",
    "```\n",
    "\n",
    "https://matplotlib.org/stable/api/_as_gen/matplotlib.pyplot.plot.html"
   ]
  },
  {
   "cell_type": "markdown",
   "metadata": {},
   "source": [
    "**Ejemplos:**"
   ]
  },
  {
   "cell_type": "markdown",
   "metadata": {},
   "source": [
    "* Las siguientes celdas trazarán gráficas mediante el método ```plt.plot()``` con diversos argumentos."
   ]
  },
  {
   "cell_type": "code",
   "execution_count": null,
   "metadata": {
    "scrolled": true
   },
   "outputs": [],
   "source": [
    "plt.figure(dpi=80)\n",
    "plt.title(\"Pythonista\")\n",
    "plt.plot(x, y)"
   ]
  },
  {
   "cell_type": "code",
   "execution_count": null,
   "metadata": {
    "scrolled": true
   },
   "outputs": [],
   "source": [
    "plt.figure(dpi=80)\n",
    "plt.title(\"Pythonista\")\n",
    "plt.plot(x, y, marker='x')"
   ]
  },
  {
   "cell_type": "markdown",
   "metadata": {},
   "source": [
    "### El parámetro ```marker```.\n",
    "\n",
    "https://matplotlib.org/stable/api/markers_api.html"
   ]
  },
  {
   "cell_type": "markdown",
   "metadata": {},
   "source": [
    "**Ejemplos:**"
   ]
  },
  {
   "cell_type": "code",
   "execution_count": null,
   "metadata": {
    "scrolled": false
   },
   "outputs": [],
   "source": [
    "plt.figure(dpi=80)\n",
    "plt.title(\"Pythonista\")\n",
    "plt.plot(x, y, marker='h')"
   ]
  },
  {
   "cell_type": "code",
   "execution_count": null,
   "metadata": {
    "scrolled": true
   },
   "outputs": [],
   "source": [
    "plt.figure(dpi=80)\n",
    "plt.title(\"Pythonista\")\n",
    "plt.plot(x, y, marker='X')"
   ]
  },
  {
   "cell_type": "code",
   "execution_count": null,
   "metadata": {},
   "outputs": [],
   "source": [
    "plt.figure(dpi=80)\n",
    "plt.title(\"Pythonista\")\n",
    "plt.plot(x, y, marker='1')"
   ]
  },
  {
   "cell_type": "markdown",
   "metadata": {},
   "source": [
    "### El parámetro ```markersize```."
   ]
  },
  {
   "cell_type": "code",
   "execution_count": null,
   "metadata": {
    "scrolled": false
   },
   "outputs": [],
   "source": [
    "plt.figure(dpi=80)\n",
    "plt.title(\"Pythonista\")\n",
    "plt.plot(x, y, marker='h', markersize=10)"
   ]
  },
  {
   "cell_type": "markdown",
   "metadata": {},
   "source": [
    "### El parámetro ```markerfacecolor```.\n",
    "\n",
    "https://matplotlib.org/stable/gallery/color/named_colors.html"
   ]
  },
  {
   "cell_type": "code",
   "execution_count": null,
   "metadata": {},
   "outputs": [],
   "source": [
    "plt.figure(dpi=80)\n",
    "plt.title(\"Pythonista\")\n",
    "plt.plot(x, y, marker='h', markersize=5, markerfacecolor=\"red\")"
   ]
  },
  {
   "cell_type": "markdown",
   "metadata": {},
   "source": [
    "### El parámetro ```color```."
   ]
  },
  {
   "cell_type": "code",
   "execution_count": null,
   "metadata": {
    "scrolled": false
   },
   "outputs": [],
   "source": [
    "plt.figure(dpi=80)\n",
    "plt.title(\"Pythonista\")\n",
    "plt.plot(x, y, color='salmon', marker='h', markersize=5, markerfacecolor=\"blue\")"
   ]
  },
  {
   "cell_type": "markdown",
   "metadata": {},
   "source": [
    "### El parámetro ```linestyle```.\n",
    "\n",
    "https://matplotlib.org/stable/gallery/lines_bars_and_markers/linestyles.html"
   ]
  },
  {
   "cell_type": "code",
   "execution_count": null,
   "metadata": {
    "scrolled": true
   },
   "outputs": [],
   "source": [
    "plt.figure(dpi=80)\n",
    "plt.title(\"Pythonista\")\n",
    "plt.plot(x, y, linestyle=':')"
   ]
  },
  {
   "cell_type": "markdown",
   "metadata": {},
   "source": [
    "### El parámetro ```linewidth```."
   ]
  },
  {
   "cell_type": "markdown",
   "metadata": {},
   "source": [
    "## Etiquetas de ejes."
   ]
  },
  {
   "cell_type": "markdown",
   "metadata": {},
   "source": [
    "* ```plt.xlabel()``` https://matplotlib.org/stable/api/_as_gen/matplotlib.pyplot.xlabel.html\n",
    "* ```plt.ylabel()``` https://matplotlib.org/stable/api/_as_gen/matplotlib.pyplot.ylabel.html"
   ]
  },
  {
   "cell_type": "code",
   "execution_count": null,
   "metadata": {
    "scrolled": false
   },
   "outputs": [],
   "source": [
    "plt.figure(dpi=80)\n",
    "plt.title(\"Pythonista\")\n",
    "plt.xlabel('Eje de las x')\n",
    "plt.ylabel('f(x)')\n",
    "plt.plot(x, y)"
   ]
  },
  {
   "cell_type": "markdown",
   "metadata": {},
   "source": [
    "## Leyendas."
   ]
  },
  {
   "cell_type": "markdown",
   "metadata": {},
   "source": [
    "https://matplotlib.org/stable/api/_as_gen/matplotlib.pyplot.legend.html"
   ]
  },
  {
   "cell_type": "code",
   "execution_count": null,
   "metadata": {
    "scrolled": true
   },
   "outputs": [],
   "source": [
    "plt.figure(dpi=80)\n",
    "plt.title(\"Pythonista\")\n",
    "plt.xlabel('Eje de las x')\n",
    "plt.ylabel('f(x)')\n",
    "plt.plot(x, y, label='función 1')\n",
    "plt.plot(x, z, label='función 2')\n",
    "plt.legend()"
   ]
  },
  {
   "cell_type": "markdown",
   "metadata": {},
   "source": [
    "## Límites de ejes."
   ]
  },
  {
   "cell_type": "markdown",
   "metadata": {},
   "source": [
    "* ```plt.xlim()``` https://matplotlib.org/stable/api/_as_gen/matplotlib.pyplot.xlim.html\n",
    "* ```plt.ylim()``` https://matplotlib.org/stable/api/_as_gen/matplotlib.pyplot.ylim.html"
   ]
  },
  {
   "cell_type": "code",
   "execution_count": null,
   "metadata": {
    "scrolled": false
   },
   "outputs": [],
   "source": [
    "plt.figure(dpi=80)\n",
    "plt.title(\"Pythonista\")\n",
    "plt.xlabel('Eje de las x')\n",
    "plt.ylabel('f(x)')\n",
    "plt.xlim(0, 50)\n",
    "plt.ylim(0, 500)\n",
    "plt.plot(x, y)"
   ]
  },
  {
   "cell_type": "markdown",
   "metadata": {},
   "source": [
    "## Márgenes."
   ]
  },
  {
   "cell_type": "markdown",
   "metadata": {},
   "source": [
    "* ```plt.xlim()``` https://matplotlib.org/stable/api/_as_gen/matplotlib.pyplot.margins.html"
   ]
  },
  {
   "cell_type": "code",
   "execution_count": null,
   "metadata": {},
   "outputs": [],
   "source": [
    "plt.figure(dpi=80)\n",
    "plt.title(\"Pythonista\")\n",
    "plt.xlabel('Eje de las x')\n",
    "plt.ylabel('f(x)')\n",
    "plt.plot(x, y)\n",
    "plt.margins(0.5)"
   ]
  },
  {
   "cell_type": "code",
   "execution_count": null,
   "metadata": {
    "scrolled": true
   },
   "outputs": [],
   "source": [
    "plt.figure(dpi=80)\n",
    "plt.title(\"Pythonista\")\n",
    "plt.xlabel('Eje de las x')\n",
    "plt.ylabel('f(x)')\n",
    "plt.plot(x, y)\n",
    "plt.margins(0.1, 0)"
   ]
  },
  {
   "cell_type": "markdown",
   "metadata": {},
   "source": [
    "## Rejillas."
   ]
  },
  {
   "cell_type": "markdown",
   "metadata": {},
   "source": [
    "https://matplotlib.org/stable/api/_as_gen/matplotlib.pyplot.grid.html"
   ]
  },
  {
   "cell_type": "code",
   "execution_count": null,
   "metadata": {},
   "outputs": [],
   "source": [
    "plt.figure(dpi=80)\n",
    "plt.title(\"Pythonista\")\n",
    "plt.xlabel('Eje de las x')\n",
    "plt.ylabel('f(x)')\n",
    "plt.plot(x, y, label='función 1')\n",
    "plt.legend()\n",
    "plt.grid(True)"
   ]
  },
  {
   "cell_type": "markdown",
   "metadata": {},
   "source": [
    "## Subplots."
   ]
  },
  {
   "cell_type": "markdown",
   "metadata": {},
   "source": [
    "https://matplotlib.org/stable/api/_as_gen/matplotlib.pyplot.subplot.html#examples-using-matplotlib-pyplot-subplot"
   ]
  },
  {
   "cell_type": "code",
   "execution_count": null,
   "metadata": {
    "scrolled": true
   },
   "outputs": [],
   "source": [
    "plt.figure(dpi=80)\n",
    "plt.title(\"Pythonista\")\n",
    "plt.xlabel('Eje de las x')\n",
    "plt.ylabel('f(x)')\n",
    "plt.subplot(2, 1, 1)\n",
    "plt.plot(x, y, label='función 1')\n",
    "plt.legend()\n",
    "plt.grid(True)\n",
    "plt.subplot(2, 1, 2)\n",
    "plt.plot(x, z, label='función 2')\n",
    "plt.legend()\n",
    "plt.grid(True)"
   ]
  },
  {
   "cell_type": "code",
   "execution_count": null,
   "metadata": {},
   "outputs": [],
   "source": [
    "plt.figure(dpi=80)\n",
    "plt.title(\"Pythonista\")\n",
    "plt.xlabel('Eje de las x')\n",
    "plt.ylabel('f(x)')\n",
    "plt.subplot(2, 2, 1)\n",
    "plt.plot(x, y, label='función 1')\n",
    "plt.legend()\n",
    "plt.grid(True)\n",
    "plt.subplot(2, 2, 2)\n",
    "plt.plot(x, z, label='función 2')\n",
    "plt.legend()\n",
    "plt.grid(True)\n",
    "plt.subplot(2, 1, 2)\n",
    "plt.plot(x, z * y, label='función combinada')\n",
    "plt.legend()\n",
    "plt.grid(True)"
   ]
  },
  {
   "cell_type": "markdown",
   "metadata": {},
   "source": [
    "## Guardado de imagen."
   ]
  },
  {
   "cell_type": "markdown",
   "metadata": {},
   "source": [
    "https://matplotlib.org/stable/api/_as_gen/matplotlib.pyplot.savefig.html"
   ]
  },
  {
   "cell_type": "code",
   "execution_count": null,
   "metadata": {},
   "outputs": [],
   "source": [
    "plt.figure(dpi=80)\n",
    "plt.title(\"Pythonista\")\n",
    "plt.xlabel('Eje de las x')\n",
    "plt.ylabel('f(x)')\n",
    "plt.subplot(2, 1, 1)\n",
    "plt.plot(x, y, label='función 1')\n",
    "plt.legend()\n",
    "plt.grid(True)\n",
    "plt.subplot(2, 1, 2)\n",
    "plt.plot(x, z, label='función 2')\n",
    "plt.legend()\n",
    "plt.grid(True)\n",
    "plt.savefig('grafica.png')"
   ]
  },
  {
   "cell_type": "markdown",
   "metadata": {},
   "source": [
    "## Estilos."
   ]
  },
  {
   "cell_type": "markdown",
   "metadata": {},
   "source": [
    "https://matplotlib.org/stable/gallery/style_sheets/style_sheets_reference.html\n",
    "\n",
    "https://matplotlib.org/stable/tutorials/introductory/customizing.html#using-style-sheets\n",
    "\n",
    "https://matplotlib.org/stable/tutorials/colors/colors.html#sphx-glr-tutorials-colors-colors-py"
   ]
  },
  {
   "cell_type": "code",
   "execution_count": null,
   "metadata": {
    "scrolled": false
   },
   "outputs": [],
   "source": [
    "mpl.style.available"
   ]
  },
  {
   "cell_type": "code",
   "execution_count": null,
   "metadata": {},
   "outputs": [],
   "source": [
    "plt.figure(dpi=80)\n",
    "plt.title(\"Pythonista\")\n",
    "plt.xlabel('Eje de las x')\n",
    "plt.ylabel('f(x)')\n",
    "plt.subplot(2, 1, 1)\n",
    "plt.plot(x, y, label='función 1')\n",
    "plt.legend()\n",
    "plt.grid(True)\n",
    "plt.subplot(2, 1, 2)\n",
    "plt.plot(x, z, label='función 2')\n",
    "plt.legend()\n",
    "plt.grid(True)\n",
    "plt.savefig('grafica.png')"
   ]
  },
  {
   "cell_type": "code",
   "execution_count": null,
   "metadata": {},
   "outputs": [],
   "source": [
    "mpl.style.use('ggplot')\n",
    "plt.figure(dpi=80)\n",
    "plt.title(\"Pythonista\")\n",
    "plt.xlabel('Eje de las x')\n",
    "plt.ylabel('f(x)')\n",
    "plt.subplot(2, 1, 1)\n",
    "plt.plot(x, y, label='función 1')\n",
    "plt.legend()\n",
    "plt.grid(True)\n",
    "plt.subplot(2, 1, 2)\n",
    "plt.plot(x, z, label='función 2')\n",
    "plt.legend()\n",
    "plt.grid(True)\n",
    "plt.savefig('grafica.png')"
   ]
  },
  {
   "cell_type": "code",
   "execution_count": null,
   "metadata": {},
   "outputs": [],
   "source": [
    "mpl.style.use('dark_background')\n",
    "plt.figure(dpi=80)\n",
    "plt.title(\"Pythonista\")\n",
    "plt.xlabel('Eje de las x')\n",
    "plt.ylabel('f(x)')\n",
    "plt.subplot(2, 1, 1)\n",
    "plt.plot(x, y, label='función 1')\n",
    "plt.legend()\n",
    "plt.grid(True)\n",
    "plt.subplot(2, 1, 2)\n",
    "plt.plot(x, z, label='función 2')\n",
    "plt.legend()\n",
    "plt.grid(True)\n",
    "plt.savefig('grafica.png')"
   ]
  },
  {
   "cell_type": "code",
   "execution_count": null,
   "metadata": {},
   "outputs": [],
   "source": [
    "mpl.style.use('default')"
   ]
  },
  {
   "cell_type": "markdown",
   "metadata": {},
   "source": [
    "## Imágenes con *Matplotlib*."
   ]
  },
  {
   "cell_type": "code",
   "execution_count": null,
   "metadata": {},
   "outputs": [],
   "source": []
  },
  {
   "cell_type": "markdown",
   "metadata": {},
   "source": [
    "* https://matplotlib.org/stable/api/_as_gen/matplotlib.pyplot.imread.html"
   ]
  },
  {
   "cell_type": "code",
   "execution_count": null,
   "metadata": {},
   "outputs": [],
   "source": [
    "imagen = plt.imread('img/pythonista.png')"
   ]
  },
  {
   "cell_type": "code",
   "execution_count": null,
   "metadata": {
    "scrolled": true
   },
   "outputs": [],
   "source": [
    "imagen"
   ]
  },
  {
   "cell_type": "markdown",
   "metadata": {},
   "source": [
    "* https://matplotlib.org/stable/api/_as_gen/matplotlib.pyplot.imshow.html"
   ]
  },
  {
   "cell_type": "code",
   "execution_count": null,
   "metadata": {},
   "outputs": [],
   "source": [
    "%matplotlib inline"
   ]
  },
  {
   "cell_type": "code",
   "execution_count": null,
   "metadata": {},
   "outputs": [],
   "source": [
    "plt.imshow(imagen)"
   ]
  },
  {
   "cell_type": "code",
   "execution_count": null,
   "metadata": {
    "scrolled": true
   },
   "outputs": [],
   "source": [
    "plt.axis('off')"
   ]
  },
  {
   "cell_type": "code",
   "execution_count": null,
   "metadata": {},
   "outputs": [],
   "source": [
    "plt.imshow(imagen)"
   ]
  },
  {
   "cell_type": "markdown",
   "metadata": {},
   "source": [
    "* https://matplotlib.org/stable/api/_as_gen/matplotlib.pyplot.imsave.html"
   ]
  },
  {
   "cell_type": "code",
   "execution_count": null,
   "metadata": {},
   "outputs": [],
   "source": [
    "plt.imsave('imagen.jpg', imagen)"
   ]
  },
  {
   "cell_type": "code",
   "execution_count": null,
   "metadata": {},
   "outputs": [],
   "source": [
    "imagen.shape"
   ]
  },
  {
   "cell_type": "markdown",
   "metadata": {},
   "source": [
    "## Objetos."
   ]
  },
  {
   "cell_type": "markdown",
   "metadata": {},
   "source": [
    "https://matplotlib.org/stable/api/_as_gen/matplotlib.pyplot.subplots.html"
   ]
  },
  {
   "cell_type": "markdown",
   "metadata": {},
   "source": [
    "https://matplotlib.org/stable/api/axes_api.html"
   ]
  },
  {
   "cell_type": "markdown",
   "metadata": {},
   "source": []
  },
  {
   "cell_type": "code",
   "execution_count": null,
   "metadata": {
    "scrolled": false
   },
   "outputs": [],
   "source": [
    "fig, ax = plt.subplots()\n",
    "ax.plot(x, y)\n",
    "ax.plot(x, z)\n",
    "ax.grid(True)"
   ]
  },
  {
   "cell_type": "code",
   "execution_count": null,
   "metadata": {},
   "outputs": [],
   "source": [
    "ax.plot(x, z * 2)"
   ]
  },
  {
   "cell_type": "code",
   "execution_count": null,
   "metadata": {
    "scrolled": true
   },
   "outputs": [],
   "source": [
    "fig"
   ]
  },
  {
   "cell_type": "markdown",
   "metadata": {},
   "source": [
    "<p style=\"text-align: center\"><a rel=\"license\" href=\"http://creativecommons.org/licenses/by/4.0/\"><img alt=\"Licencia Creative Commons\" style=\"border-width:0\" src=\"https://i.creativecommons.org/l/by/4.0/80x15.png\" /></a><br />Esta obra está bajo una <a rel=\"license\" href=\"http://creativecommons.org/licenses/by/4.0/\">Licencia Creative Commons Atribución 4.0 Internacional</a>.</p>\n",
    "<p style=\"text-align: center\">&copy; José Luis Chiquete Valdivieso. 2022.</p>"
   ]
  }
 ],
 "metadata": {
  "kernelspec": {
   "display_name": "Python 3 (ipykernel)",
   "language": "python",
   "name": "python3"
  },
  "language_info": {
   "codemirror_mode": {
    "name": "ipython",
    "version": 3
   },
   "file_extension": ".py",
   "mimetype": "text/x-python",
   "name": "python",
   "nbconvert_exporter": "python",
   "pygments_lexer": "ipython3",
   "version": "3.10.6"
  }
 },
 "nbformat": 4,
 "nbformat_minor": 2
}
