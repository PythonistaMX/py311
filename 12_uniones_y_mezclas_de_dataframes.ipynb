{
 "cells": [
  {
   "cell_type": "markdown",
   "metadata": {},
   "source": [
    "[![img/pythonista.png](img/pythonista.png)](https://www.pythonista.io)"
   ]
  },
  {
   "cell_type": "markdown",
   "metadata": {},
   "source": [
    "# Uniones y mezclas de *dataframes*."
   ]
  },
  {
   "cell_type": "markdown",
   "metadata": {},
   "source": [
    "*Pandas* permite realizar operaciones que permiten unir y mezclar *dataframes* por su columnas y/o renglones a dataframes existentes.\n",
    "\n",
    "Este capítulo explorará:\n",
    "\n",
    "* El método ```pd.DataFrame.join()```  de los dataframes de *Pandas*.\n",
    "* La función ```pd.concat()```.\n",
    "* El método ```pd.DataFrame.append()``` de los dataframes de *Pandas*."
   ]
  },
  {
   "cell_type": "code",
   "execution_count": null,
   "metadata": {
    "scrolled": true
   },
   "outputs": [],
   "source": [
    "import pandas as pd\n",
    "import numpy as np"
   ]
  },
  {
   "cell_type": "markdown",
   "metadata": {},
   "source": [
    "## El método ```pd.DataFrame.join()```.\n",
    "\n",
    "El método ```pd.DataFrame.join()``` regresa un nuevo *dataframe* al cual se le ha añadido el contenido de otro *dataframe* que se ingresa como argumento. \n",
    "\n",
    "Este método no mezcla a los *dataframes*, sino que crea un índice izquierdo, correspondiente al *dataframe* que contiene al método, y otro derecho, correspondiente al *dataframe* que e ingresa como argumento. El modo en el que se añade  dependiendo de paramétos adicionales que se ingresen.\n",
    "\n",
    "```\n",
    "df.join(<dataframe>, lsuffix=<izquierdo>, rsuffix=<derecho>, how=<modo>)\n",
    "```\n",
    "    \n",
    "Donde:\n",
    "\n",
    "* ```<dataframe>``` es un *dataframe* de *Pandas*, correspondiente al *dataframe* de la derecha.\n",
    "* ```<izquierdo>``` es un objeto de tipo ```str``` que corresponderá al título del elemento de la izquierda.\n",
    "* ```<derecho>``` es un objeto de tipo ```str``` que corresponderá al título del elemento de la derecha.\n",
    "* ```<modo>``` es un objeto de tipo ```str``` que indica la forma en la que se combinarán los elementos del dataframe resultante y puede ser:\n",
    "    * ```'left'```, el cual es el argumento por defecto.\n",
    "    * ```'right'```.\n",
    "    * ```'inner'```.\n",
    "    * ```'outer'```.\n",
    "\n",
    "Este método procurará hacer que los índices y columnas compartidas entre los dataframes compaginen. En caso de que los índices y/o columnas sean distintos, los elementos faltantes serán sustituidos por ```np.NaN```.\n",
    "\n",
    "https://pandas.pydata.org/pandas-docs/stable/reference/api/pandas.DataFrame.join.html"
   ]
  },
  {
   "cell_type": "markdown",
   "metadata": {},
   "source": [
    "**Ejemplo:**"
   ]
  },
  {
   "cell_type": "markdown",
   "metadata": {},
   "source": [
    "* La siguiente celda creará al *dataframe* ```region_1``` con la siguiente estructura.\n",
    "    * Contendrá la columna ```'animal'```.\n",
    "    * Contendrá el índice con identificador ```'poblacion'``` que a su vez contiene los índices ```'zorro'```, ```'conejo'```, ```liebre``` y ```'halcón'```."
   ]
  },
  {
   "cell_type": "code",
   "execution_count": null,
   "metadata": {
    "scrolled": true
   },
   "outputs": [],
   "source": [
    "region_1 = pd.DataFrame({'animal':['zorro', \n",
    "                     'conejo', \n",
    "                     'liebre', \n",
    "                     'halcón'],\n",
    "          'población':[12,\n",
    "                      436,\n",
    "                      315,\n",
    "                      7]}).set_index('animal')"
   ]
  },
  {
   "cell_type": "code",
   "execution_count": null,
   "metadata": {
    "scrolled": true
   },
   "outputs": [],
   "source": [
    "region_1"
   ]
  },
  {
   "cell_type": "markdown",
   "metadata": {},
   "source": [
    "* La siguiente celda creará al dataframe ```region_2``` con la siguiente estructura.\n",
    "    * Contendrá la columna ```'animal'```.\n",
    "    * Contendrá el índice con identificador ```'poblacion'``` que a su vez contiene los índices ```'conejo'```, ```'jabalí'```, ```venado```, ```'jaguar'```, ```'águila``` y ```'halcón'```."
   ]
  },
  {
   "cell_type": "code",
   "execution_count": null,
   "metadata": {
    "scrolled": true
   },
   "outputs": [],
   "source": [
    "region_2 = pd.DataFrame({'animal':['conejo',\n",
    "                                  'jabalí',\n",
    "                                  'venado',\n",
    "                                  'jaguar',\n",
    "                                  'águila',\n",
    "                                  'halcón'],\n",
    "                        'población':[2015,\n",
    "                                     450,\n",
    "                                     56,\n",
    "                                     2,\n",
    "                                     30,\n",
    "                                     25]}).set_index('animal')"
   ]
  },
  {
   "cell_type": "code",
   "execution_count": null,
   "metadata": {},
   "outputs": [],
   "source": [
    "region_2"
   ]
  },
  {
   "cell_type": "markdown",
   "metadata": {},
   "source": [
    "### Argumentos para el parámetro ```how```.\n",
    "\n",
    "* ```'left'``` toma como referencia a los índice del *dataframe* que contiene al método y los colocará en la columna de la izquierda. Si el *dataframe* que se ingresa como argumento tiene índices con el mismo nombre que el da, los alineará en la columna de la derecha. Este es el argumento por defecto del parámetro ```how```.\n",
    "* ```'right'``` toma como referencia a los índices *dataframe* que se ingresa como argumento y los colocará en la columna de la derecha. Si el *dataframe* que contiene al método tiene índices con el mismo nombre, los alineará en la columna de la izquierda.\n",
    "* ```'inner'``` toma como referencia únicamente a los índices compartidos entre ambos *dataframes*.\n",
    "* ```'outer'``` toma como referencia a todos los índices de ambos *dataframes*."
   ]
  },
  {
   "cell_type": "markdown",
   "metadata": {},
   "source": [
    "**Ejemplos:**"
   ]
  },
  {
   "cell_type": "markdown",
   "metadata": {},
   "source": [
    "* La siguiente celda regresará un dataframe usando el método ```region_1.join()```.\n",
    "    * Ingresando al *dataframe* ```region_2``` como argumento.\n",
    "    * Definiendo ```'region 1'``` para el sufijo del título de la columna de la izquierda.\n",
    "    * Definiendo ```'region 2'``` para el sufijo del título de la columna de la derecha.\n",
    "    * No se definirán argumentos para el parámetro ```how```."
   ]
  },
  {
   "cell_type": "code",
   "execution_count": null,
   "metadata": {
    "scrolled": true
   },
   "outputs": [],
   "source": [
    "region_1.join(region_2,\n",
    "              lsuffix=' region 1',\n",
    "              rsuffix=' region 2')"
   ]
  },
  {
   "cell_type": "markdown",
   "metadata": {},
   "source": [
    "* La siguiente celda regresará un dataframe usando el método ```region_1.join()```.\n",
    "    * Ingresando al *dataframe* ```region_2``` como argumento.\n",
    "    * Definiendo ```'region 1'``` para el sufijo del título de la columna de la izquierda.\n",
    "    * Definiendo ```'region 2'``` para el sufijo del título de la columna de la derecha.\n",
    "    * Definiendo el argumento ```how='left'```."
   ]
  },
  {
   "cell_type": "code",
   "execution_count": null,
   "metadata": {
    "scrolled": true
   },
   "outputs": [],
   "source": [
    "region_1.join(region_2,\n",
    "              lsuffix=' region 1',\n",
    "              rsuffix=' region 2',\n",
    "              how='left')"
   ]
  },
  {
   "cell_type": "markdown",
   "metadata": {},
   "source": [
    "* La siguiente celda regresará un dataframe usando el método ```region_1.join()```.\n",
    "    * Ingresando al *dataframe* ```region_2``` como argumento.\n",
    "    * Definiendo ```'region 1'``` para el sufijo del título de la columna de la izquierda.\n",
    "    * Definiendo ```'region 2'``` para el sufijo del título de la columna de la derecha.\n",
    "    * Definiendo el argumento ```how='right'```."
   ]
  },
  {
   "cell_type": "code",
   "execution_count": null,
   "metadata": {
    "scrolled": true
   },
   "outputs": [],
   "source": [
    "region_1.join(region_2,\n",
    "              lsuffix=' region 1',\n",
    "              rsuffix=' region 2',\n",
    "              how='right')"
   ]
  },
  {
   "cell_type": "markdown",
   "metadata": {},
   "source": [
    "* La siguiente celda regresará un dataframe usando el método ```region_1.join()```.\n",
    "    * Ingresando al *dataframe* ```region_2``` como argumento.\n",
    "    * Definiendo ```'region 1'``` para el sufijo del título de la columna de la izquierda.\n",
    "    * Definiendo ```'region 2'``` para el sufijo del título de la columna de la derecha.\n",
    "    * Definiendo el argumento ```how='inner'```."
   ]
  },
  {
   "cell_type": "code",
   "execution_count": null,
   "metadata": {
    "scrolled": true
   },
   "outputs": [],
   "source": [
    "region_1.join(region_2,\n",
    "              lsuffix=' region 1',\n",
    "              rsuffix=' region 2',\n",
    "              how='inner')"
   ]
  },
  {
   "cell_type": "markdown",
   "metadata": {},
   "source": [
    "* La siguiente celda regresará un dataframe usando el método ```region_1.join()```.\n",
    "    * Ingresando al *dataframe* ```region_2``` como argumento.\n",
    "    * Definiendo ```'region 1'``` para el sufijo del título de la columna de la izquierda.\n",
    "    * Definiendo ```'region 2'``` para el sufijo del título de la columna de la derecha.\n",
    "    * Definiendo el argumento ```how='outer'```."
   ]
  },
  {
   "cell_type": "code",
   "execution_count": null,
   "metadata": {
    "scrolled": true
   },
   "outputs": [],
   "source": [
    "region_1.join(region_2,\n",
    "              lsuffix=' region 1',\n",
    "              rsuffix=' region 2',\n",
    "              how='outer')"
   ]
  },
  {
   "cell_type": "markdown",
   "metadata": {},
   "source": [
    "## La función ```pd.concat()```.\n",
    "\n",
    "La función ```pd.concat()```permite realizar operaciones generales de concatenación.\n",
    "\n",
    "```\n",
    "pd.concat(<df_1>, <df_2>, axis=<eje>, join=<modo>, keys=<id cols>, sort =<bool>)\n",
    "```\n",
    "\n",
    "* ```<df_1>``` y ```<df_2>``` son dataframes de *Pandas*.\n",
    "* ```<eje>``` es un objeto de tipo ```int``` que indica el eje de la concatenación. El argumento por defecto es ```axis=0``` (renglones).\n",
    "* ```<modo>``` es un objeto de tipo ```str``` que indica la forma en la que se combinarán los elementos del dataframe resultante y puede ser:\n",
    "    * ```'inner'```.\n",
    "    * ```'outer'``` , el cual es el argumento por defecto.\n",
    "* ```<id cols>``` es una colección de objetos ```str``` que serán utilizados para crear identificadores de indíces superiores en las columnas.\n",
    "* El parámetro ```sort``` corresponde a un valor booleano.\n",
    "   * En caso de que el argumento sea ```sort=True```, el *dataframe* resultante será ordenado por los índices de forma ascendente.\n",
    "   * En caso de que el argumento sea ```sort=False```  (valor por defecto), el *dataframe* resultante será ordenado por los índices de forma ascendente.\n",
    "   \n",
    "   \n",
    "https://pandas.pydata.org/pandas-docs/stable/reference/api/pandas.concat.html"
   ]
  },
  {
   "cell_type": "markdown",
   "metadata": {},
   "source": [
    "**Ejemplos:**"
   ]
  },
  {
   "cell_type": "markdown",
   "metadata": {},
   "source": [
    "* La siguiente celda creará al *dataframe* ```marco_1``` con la siguiente estructura.\n",
    "    * Contendrá las columnas ```'Centro'```, ```'Sur'``` y ```'Oriente'```.\n",
    "    * Contendrá los índices ```'lunes'```, ```'martes'``` y ```'miércoles'```."
   ]
  },
  {
   "cell_type": "code",
   "execution_count": null,
   "metadata": {
    "scrolled": true
   },
   "outputs": [],
   "source": [
    "indice_1 = (\"lunes\", \"martes\", \"miércoles\")\n",
    "marco_1 = pd.DataFrame({'Centro':[1520, \n",
    "                                 1640, \n",
    "                                 1043], \n",
    "                       'Sur':[1422, \n",
    "                              1673, \n",
    "                              1534],\n",
    "                      'Oriente':[1021,\n",
    "                                1073,\n",
    "                                1100]},\n",
    "                      index=indice_1)"
   ]
  },
  {
   "cell_type": "code",
   "execution_count": null,
   "metadata": {
    "scrolled": true
   },
   "outputs": [],
   "source": [
    "marco_1"
   ]
  },
  {
   "cell_type": "markdown",
   "metadata": {},
   "source": [
    "* La siguiente celda creará al *dataframe* ```marco_2``` con la siguiente estructura.\n",
    "    * Contendrá las columnas ```'Centro'```, ```'Sur'``` y ```'Oriente'```.\n",
    "    * Contendrá los índices ```'jueves'```, ```'viernes'``` y ```'sábado'```."
   ]
  },
  {
   "cell_type": "code",
   "execution_count": null,
   "metadata": {
    "scrolled": true
   },
   "outputs": [],
   "source": [
    "indice_2 = (\"jueves\", \"viernes\", \"sábado\")\n",
    "marco_2 = pd.DataFrame({'Centro':[1321, \n",
    "                                 1459, \n",
    "                                 1875], \n",
    "                       'Sur':[1622, \n",
    "                              1841, \n",
    "                              1920],\n",
    "                      'Oriente':[1500,\n",
    "                                1432,\n",
    "                                1491]},\n",
    "                      index=indice_2)"
   ]
  },
  {
   "cell_type": "code",
   "execution_count": null,
   "metadata": {
    "scrolled": true
   },
   "outputs": [],
   "source": [
    "marco_2"
   ]
  },
  {
   "cell_type": "markdown",
   "metadata": {},
   "source": [
    "* La siguiente celda regresará un *dataframe* creado a partir de aplicar la función ```pd.concat()``` de la siguiente manera:\n",
    "    * Se ingresarán ```marco_1``` y ```marco_3``` como los dos únicos argumentos y se utilizarán los argumentos por defecto de la función."
   ]
  },
  {
   "cell_type": "code",
   "execution_count": null,
   "metadata": {
    "scrolled": false
   },
   "outputs": [],
   "source": [
    "pd.concat([marco_1, marco_2])"
   ]
  },
  {
   "cell_type": "markdown",
   "metadata": {},
   "source": [
    "* La siguiente celda regresará un *dataframe* creado a partir de aplicar la función ```pd.concat()``` de la siguiente manera:\n",
    "    * Se ingresarán ```marco_1``` y ```marco_2``` como los dos primeros argumentos.\n",
    "    * Se ingresará el argumento ```axis=1```, por lo que la concatenación se realizará en el eje de las columnas.\n",
    "    * Esta concatenación creará columnas que se repiten.\n",
    "* El *dataframe*  resultante sustituirá lo valores faltantes con ```pd.NaN```."
   ]
  },
  {
   "cell_type": "code",
   "execution_count": null,
   "metadata": {},
   "outputs": [],
   "source": [
    "pd.concat([marco_1, marco_2], axis=1)"
   ]
  },
  {
   "cell_type": "markdown",
   "metadata": {},
   "source": [
    "* La siguiente celda regresará un *dataframe* creado a partir de aplicar la función ```pd.concat()``` de la siguiente manera:\n",
    "    * Se ingresarán ```marco_1``` y ```marco_2``` como los dos primeros argumentos.\n",
    "    * Se ingresará el argumento ```axis=1```, por lo que la concatenación se realizará en el eje de las columnas.\n",
    "    * Se ingresará el argumento ```sort=True```, por lo que los renglones serán ordenados en función de los índices de forma ascendente.\n",
    "* El *dataframe*  resultante tendrá columnas con identificadores que se repiten.\n",
    "* El *dataframe*  resultante sustituirá lo valores faltantes con ```pd.NaN```."
   ]
  },
  {
   "cell_type": "code",
   "execution_count": null,
   "metadata": {
    "scrolled": false
   },
   "outputs": [],
   "source": [
    "* La siguiente celda regresará un *dataframe* creado a partir de aplicar la función ```pd.concat()``` de la siguiente manera:\n",
    "    * Se ingresarán ```marco_1``` y ```marco_2``` como los dos primeros argumentos.\n",
    "    * Se ingresará el argumento ```axis=1```, por lo que la concatenación se realizará en el eje de las columnas.\n",
    "    * Se ingresará el argumento ```sort=True```, por lo que los renglones serán ordenados en función de los índices de forma ascendente.\n",
    "* El *dataframe*  resultante tendrá columnas con identificadores que se repiten.\n",
    "* El *dataframe*  resultante sustituirá lo valores faltantes con ```pd.NaN```. pd.concat([marco_1, marco_2], axis=1, sort=True)"
   ]
  },
  {
   "cell_type": "markdown",
   "metadata": {},
   "source": [
    "* La siguiente celda creará un *dataframe* llamado ```semanales``` a partir de aplicar la función ```pd.concat()``` de la siguiente manera:\n",
    "    * Se ingresarán ```marco_1``` y ```marco_2``` como los dos primeros argumentos.\n",
    "    * Se ingresará el argumento ```axis=1```, por lo que la concatenación se realizará en el eje de las columnas.\n",
    "    * Se ingresará el argumento ```sort=True```, por lo que los renglones serán ordenados en función de los índices de forma ascendente.\n",
    "* El *dataframe*  resultante tendrá columnas con identificadores que se repiten.\n",
    "* El *dataframe*  resultante sustituirá lo valores faltantes con ```pd.NaN```.\n",
    "* La siguiente celda regresará un *dataframe* con las dos columnas con identificador ```'Centro'``` a partir del *dataframe* creado por ``` pd.concat([marco_1, marco_2], axis=1, sort=False```."
   ]
  },
  {
   "cell_type": "code",
   "execution_count": null,
   "metadata": {
    "scrolled": true
   },
   "outputs": [],
   "source": [
    " pd.concat([marco_1, marco_2], axis=1, sort=False)['Centro']"
   ]
  },
  {
   "cell_type": "markdown",
   "metadata": {},
   "source": [
    "* La siguiente celda creará un *dataframe* a partir de aplicar la función ```pd.concat()``` al que se le asignará el nombre ```semanales``` de la siguiente manera:\n",
    "    * Se ingresarán ```marco_1``` y ```marco_2``` como los dos primeros argumentos.\n",
    "    * Se ingresará el argumento ```axis=1```.\n",
    "    * Se ingresará el argumento ```keys=['semana 1', 'semana 2']```.\n",
    "    * Se ingresará el argumento ```sort=True```."
   ]
  },
  {
   "cell_type": "code",
   "execution_count": null,
   "metadata": {
    "scrolled": true
   },
   "outputs": [],
   "source": [
    "semanales = pd.concat([marco_1, marco_2], axis=1, \n",
    "                      keys=['semana 1', 'semana 2'],\n",
    "                      sort=False)"
   ]
  },
  {
   "cell_type": "markdown",
   "metadata": {},
   "source": [
    "* El *dataframe* ```semanales``` contiene un índice con dos niveles para las columnas. \n",
    "* El primer nivel corresponde a los identificadores:\n",
    "    * ```'semana 1'``` y ```'semana 2'```.\n",
    "* Dentro de cada elemento del primer nivel están los identificadores:\n",
    "    * ```'Centro'```.\n",
    "    * ```'Sur'```.\n",
    "    * ```'Oriente'```."
   ]
  },
  {
   "cell_type": "code",
   "execution_count": null,
   "metadata": {
    "scrolled": true
   },
   "outputs": [],
   "source": [
    "semanales"
   ]
  },
  {
   "cell_type": "markdown",
   "metadata": {},
   "source": [
    "* La siguiente celda regresará las columnas correspondientes al identificador ```'semana 1'``` del dataframe ```semanales```."
   ]
  },
  {
   "cell_type": "code",
   "execution_count": null,
   "metadata": {
    "scrolled": true
   },
   "outputs": [],
   "source": [
    "semanales['semana 1']"
   ]
  },
  {
   "cell_type": "markdown",
   "metadata": {},
   "source": [
    "* La siguiente celda regresará la columna con identificador ```'Centro'``` correspondientes al identificador ```'semana 1'``` del dataframe ```semanales```."
   ]
  },
  {
   "cell_type": "code",
   "execution_count": null,
   "metadata": {
    "scrolled": false
   },
   "outputs": [],
   "source": [
    "semanales['semana 1']['Centro']"
   ]
  },
  {
   "cell_type": "markdown",
   "metadata": {},
   "source": [
    "## El método ```pd.DataFrame.append()```.\n",
    "\n",
    "El método ```pd.DataFrame.append()``` regresa un nuevo dataframe al cual se le ha añadido en el eje ```1``` (columnas) el contenido de una estructura compatible. \n",
    "\n",
    "```\n",
    "<dataframe>.append(<objeto>)\n",
    "```\n",
    "\n",
    "Donde:\n",
    "\n",
    "* ```<dataframe>``` es un dataframe de *Pandas*.\n",
    "* ```<objeto>``` es un dataframe, objeto tipo ```dict``` u otro objeto compatible que puede ser transformado en un dataframe.\n",
    "\n",
    "Este método procurará hacer que los índices y coluimnas compartidas entre el *dataframe* y el objeto ingresado como argumento se compaginen. En caso de que los índices y/o columnas sean distintos, los elementos faltantes serán sustituidos por ```np.NaN```.\n",
    "\n",
    "La documentación del método ```pd.DataFrame.append()``` puede ser consultada en:\n",
    "\n",
    "https://pandas.pydata.org/pandas-docs/stable/reference/api/pandas.DataFrame.append.html\n",
    "\n",
    "\n",
    "**NOTA:** El método ```df.append()``` está siendo descontinuado y se deberá de utilizar la función ```pd.concat()``` en su lugar."
   ]
  },
  {
   "cell_type": "markdown",
   "metadata": {},
   "source": [
    "**Ejemplos:**"
   ]
  },
  {
   "cell_type": "markdown",
   "metadata": {},
   "source": [
    "* La siguiente celda regresará un dataframe usando el método ```marco_1.append()``` e ingresando ```marco_2``` como argumento. Dicho dataframe tendrá la siguiente estructura:\n",
    "\n",
    "    * Contendrá las columnas ```'Centro'```, ```'Sur'``` y ```'Oriente'```.\n",
    "    * Contendrá los índices ```lunes```, ```martes```, ```miércoles```, ```'jueves'```, ```'viernes'``` y ```'sábado'```."
   ]
  },
  {
   "cell_type": "markdown",
   "metadata": {},
   "source": [
    "* Se utilizarán los dataframes ```marco_1``` y ```marco_2``` definidos previamente."
   ]
  },
  {
   "cell_type": "code",
   "execution_count": null,
   "metadata": {
    "scrolled": true
   },
   "outputs": [],
   "source": [
    "marco_1"
   ]
  },
  {
   "cell_type": "code",
   "execution_count": null,
   "metadata": {
    "scrolled": true
   },
   "outputs": [],
   "source": [
    "marco_2"
   ]
  },
  {
   "cell_type": "markdown",
   "metadata": {},
   "source": [
    "* La siguiente celda ejecutará al método ```marco_1.append()```, ingresando al *dataframe* ```marco_2```como argumento."
   ]
  },
  {
   "cell_type": "code",
   "execution_count": null,
   "metadata": {
    "scrolled": true
   },
   "outputs": [],
   "source": [
    "marco_1.append(marco_2)"
   ]
  },
  {
   "cell_type": "markdown",
   "metadata": {},
   "source": [
    "* La siguiente celda creará al dataframe ```marco_3``` con la siguiente estructura.\n",
    "    * Contendrá las columnas ```'Centro'```, ```'Matriz'```.\n",
    "    * Contendrá el índice ```'domingo'```."
   ]
  },
  {
   "cell_type": "code",
   "execution_count": null,
   "metadata": {
    "scrolled": true
   },
   "outputs": [],
   "source": [
    "marco_3 = pd.DataFrame({'Centro':[2210],\n",
    "                        'Matriz':[3120]},\n",
    "                      index=['Domingo'])"
   ]
  },
  {
   "cell_type": "code",
   "execution_count": null,
   "metadata": {},
   "outputs": [],
   "source": [
    "marco_3"
   ]
  },
  {
   "cell_type": "markdown",
   "metadata": {},
   "source": [
    "* La siguiente celda regresará un dataframe a partir del método ```marco_1.append(marco_2).append()```, ingresando ```marco_3``` como argumento. Dicho dataframe tendrá la siguiente estructura:\n",
    "\n",
    "    * Contendrá las columnas ```'Centro'```, ```'Sur'```, ```'Oriente'``` y ```'Matriz'```.\n",
    "    * Contendrá los índices ```lunes```, ```martes```, ```miércoles```, ```'jueves'```, ```'viernes'```, ```'sábado'``` y  ```Domingo```.\n",
    "    * Aquellos elementos que no correspondan serán sutituidos por ```np.NaN```."
   ]
  },
  {
   "cell_type": "code",
   "execution_count": null,
   "metadata": {
    "scrolled": true
   },
   "outputs": [],
   "source": [
    "marco_1.append(marco_2).append(marco_3)"
   ]
  },
  {
   "cell_type": "markdown",
   "metadata": {},
   "source": [
    "<p style=\"text-align: center\"><a rel=\"license\" href=\"http://creativecommons.org/licenses/by/4.0/\"><img alt=\"Licencia Creative Commons\" style=\"border-width:0\" src=\"https://i.creativecommons.org/l/by/4.0/80x15.png\" /></a><br />Esta obra está bajo una <a rel=\"license\" href=\"http://creativecommons.org/licenses/by/4.0/\">Licencia Creative Commons Atribución 4.0 Internacional</a>.</p>\n",
    "<p style=\"text-align: center\">&copy; José Luis Chiquete Valdivieso. 2022.</p>"
   ]
  }
 ],
 "metadata": {
  "kernelspec": {
   "display_name": "Python 3 (ipykernel)",
   "language": "python",
   "name": "python3"
  },
  "language_info": {
   "codemirror_mode": {
    "name": "ipython",
    "version": 3
   },
   "file_extension": ".py",
   "mimetype": "text/x-python",
   "name": "python",
   "nbconvert_exporter": "python",
   "pygments_lexer": "ipython3",
   "version": "3.10.6"
  }
 },
 "nbformat": 4,
 "nbformat_minor": 2
}
