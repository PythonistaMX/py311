{
 "cells": [
  {
   "cell_type": "markdown",
   "metadata": {},
   "source": [
    "[![img/pythonista.png](img/pythonista.png)](https://www.pythonista.io)"
   ]
  },
  {
   "cell_type": "markdown",
   "metadata": {},
   "source": [
    "# Operaciones de integración de datos."
   ]
  },
  {
   "cell_type": "markdown",
   "metadata": {},
   "source": [
    "*Pandas* permite realizar operaciones que permiten añadir columnas y/o renglones a dataframes existentes.\n",
    "\n",
    "Este capítulo explorará:\n",
    "\n",
    "* El método ```pd.DataFrame.append()``` de los dataframes de *Pandas*.\n",
    "* El método ```pd.DataFrame.join()```  de los dataframes de *Pandas*.\n",
    "* La función ```pd.concat()```."
   ]
  },
  {
   "cell_type": "code",
   "execution_count": null,
   "metadata": {
    "scrolled": true
   },
   "outputs": [],
   "source": [
    "import pandas as pd\n",
    "import numpy as np"
   ]
  },
  {
   "cell_type": "markdown",
   "metadata": {},
   "source": [
    "## El método ```pd.DataFrame.append()```.\n",
    "\n",
    "El método ```pd.DataFrame.append()``` regresa un nuevo dataframe al cual se le ha añadido en el eje ```1``` (columnas) el contenido de una estructura compatibles. \n",
    "\n",
    "```\n",
    "<dataframe>.append(<objeto>)\n",
    "```\n",
    "\n",
    "Donde:\n",
    "\n",
    "* ```<dataframe>``` es un dataframe de *Pandas*.\n",
    "* ```<objeto>``` es un dataframe, objeto tipo ```dict``` u otro objeto compatible que puede ser transformado en un dataframe.\n",
    "\n",
    "Este método procurará hacer que los índices y coluimnas compartidas entre el arreglo y el objeto ingresado como argumento se compaginen. En caso de que los índices y/o columnas sean distintos, los elementos faltantes serán sustituidos por ```np.NaN```.\n",
    "\n",
    "La documentación del método ```pd.DataFrame.append()``` puede ser consultada en:\n",
    "\n",
    "https://pandas.pydata.org/pandas-docs/stable/reference/api/pandas.DataFrame.append.html"
   ]
  },
  {
   "cell_type": "markdown",
   "metadata": {},
   "source": [
    "**Ejemplos:**"
   ]
  },
  {
   "cell_type": "markdown",
   "metadata": {},
   "source": [
    "* La siguiente celda creará al dataframe ```marco_1``` con la siguiente estructura.\n",
    "    * Contendrá las columnas ```'Centro'```, ```'Sur'``` y ```'Oriente'```.\n",
    "    * Contendrá los índices ```'lunes'```, ```'martes'``` y ```'miércoles'```."
   ]
  },
  {
   "cell_type": "code",
   "execution_count": null,
   "metadata": {
    "scrolled": true
   },
   "outputs": [],
   "source": [
    "indice_1 = (\"lunes\", \"martes\", \"miércoles\")\n",
    "marco_1 = pd.DataFrame({'Centro':[1520, \n",
    "                                 1640, \n",
    "                                 1043], \n",
    "                       'Sur':[1422, \n",
    "                              1673, \n",
    "                              1534],\n",
    "                      'Oriente':[1021,\n",
    "                                1073,\n",
    "                                1100]},\n",
    "                      index=indice_1)"
   ]
  },
  {
   "cell_type": "code",
   "execution_count": null,
   "metadata": {
    "scrolled": true
   },
   "outputs": [],
   "source": [
    "marco_1"
   ]
  },
  {
   "cell_type": "markdown",
   "metadata": {},
   "source": [
    "* La siguiente celda creará al dataframe ```marco_2``` con la siguiente estructura.\n",
    "    * Contendrá las columnas ```'Centro'```, ```'Sur'``` y ```'Oriente'```.\n",
    "    * Contendrá los índices ```'jueves'```, ```'viernes'``` y ```'sábado'```."
   ]
  },
  {
   "cell_type": "code",
   "execution_count": null,
   "metadata": {
    "scrolled": true
   },
   "outputs": [],
   "source": [
    "indice_2 = (\"jueves\", \"viernes\", \"sábado\")\n",
    "marco_2 = pd.DataFrame({'Centro':[1321, \n",
    "                                 1459, \n",
    "                                 1875], \n",
    "                       'Sur':[1622, \n",
    "                              1841, \n",
    "                              1920],\n",
    "                      'Oriente':[1500,\n",
    "                                1432,\n",
    "                                1491]},\n",
    "                      index=indice_2)"
   ]
  },
  {
   "cell_type": "code",
   "execution_count": null,
   "metadata": {
    "scrolled": true
   },
   "outputs": [],
   "source": [
    "marco_2"
   ]
  },
  {
   "cell_type": "markdown",
   "metadata": {},
   "source": [
    "* La siguiente celda regresará un dataframe usando el método ```marco_1.append()``` e ingresando ```marco_2``` como argumento. Dicho dataframe tendrá la siguiente estructura:\n",
    "\n",
    "    * Contendrá las columnas ```'Centro'```, ```'Sur'``` y ```'Oriente'```.\n",
    "    * Contendrá los índices ```lunes```, ```martes```, ```miércoles```, ```'jueves'```, ```'viernes'``` y ```'sábado'```."
   ]
  },
  {
   "cell_type": "code",
   "execution_count": null,
   "metadata": {
    "scrolled": true
   },
   "outputs": [],
   "source": [
    "marco_1.append(marco_2)"
   ]
  },
  {
   "cell_type": "markdown",
   "metadata": {},
   "source": [
    "* La siguiente celda creará al dataframe ```marco_3``` con la siguiente estructura.\n",
    "    * Contendrá las columnas ```'Centro'```, ```'Matriz'```.\n",
    "    * Contendrá el índice ```'domingo'```."
   ]
  },
  {
   "cell_type": "code",
   "execution_count": null,
   "metadata": {
    "scrolled": true
   },
   "outputs": [],
   "source": [
    "marco_3 = pd.DataFrame({'Centro':[2210],\n",
    "                        'Matriz':[3120]},\n",
    "                      index=['Domingo'])"
   ]
  },
  {
   "cell_type": "code",
   "execution_count": null,
   "metadata": {},
   "outputs": [],
   "source": [
    "marco_3"
   ]
  },
  {
   "cell_type": "markdown",
   "metadata": {},
   "source": [
    "* La siguiente celda regresará un dataframe a partir del método ```marco_1.append(marco_2).append()```, ingresando ```marco_3``` como argumento. Dicho dataframe tendrá la siguiente estructura:\n",
    "\n",
    "    * Contendrá las columnas ```'Centro'```, ```'Sur'```, ```'Oriente'``` y ```'Matriz'```.\n",
    "    * Contendrá los índices ```lunes```, ```martes```, ```miércoles```, ```'jueves'```, ```'viernes'```, ```'sábado'``` y  ```Domingo```.\n",
    "    * Aquellos elementos que no correspondan serán sutituidos por ```np.NaN```."
   ]
  },
  {
   "cell_type": "code",
   "execution_count": null,
   "metadata": {
    "scrolled": true
   },
   "outputs": [],
   "source": [
    "marco_1.append(marco_2).append(marco_3)"
   ]
  },
  {
   "cell_type": "markdown",
   "metadata": {},
   "source": [
    "## El método ```pd.DataFrame.join()```.\n",
    "\n",
    "El método ```pd.DataFrame.join()``` regresa un nuevo dataframe al cual se le ha añadido el contenido de otro dataframe, pero no los mezcla, sino que crea un índice izquierdo y otro derecho. El modo en el que se añade  dependiendo de paramétos adicionales que se ingresen.\n",
    "\n",
    "```\n",
    "<dataframe 1>.join(<dataframe 2>, lsuffix=<izquierdo>, rsuffix=<derecho>, how=<modo>)\n",
    "```\n",
    "    \n",
    "Donde:\n",
    "\n",
    "* ```<dataframe 1>``` y ```<dataframe 2>``` son dataframes de *Pandas*.\n",
    "* ```<izquierdo>``` es un objeto de tipo ```str``` que corresponderá al elemento de la izquierda.\n",
    "* ```<derecho>``` es un objeto de tipo ```str``` que corresponderá al elemento de la derecha.\n",
    "* ```<modo>``` es un objeto de tipo ```str``` que indica la forma en la que se combinarán los elementos del dataframe resultante y puede ser:\n",
    "    * ```'left'```, el cual es el argumento por defecto.\n",
    "    * ```'right'```.\n",
    "    * ```'inner'```.\n",
    "    * ```'outer'```.\n",
    "\n",
    "Este método procurará hacer que los índices y coluimnas compartidas entre el arreglo y el objeto ingresado como argumento se compaginen. En caso de que los índices y/o columnas sean distintos, los elementos faltantes serán sustituidos por ```np.NaN```.\n",
    "\n",
    "https://pandas.pydata.org/pandas-docs/stable/reference/api/pandas.DataFrame.join.html"
   ]
  },
  {
   "cell_type": "markdown",
   "metadata": {},
   "source": [
    "**Ejemplo:**"
   ]
  },
  {
   "cell_type": "markdown",
   "metadata": {},
   "source": [
    "* La siguiente celda creará al dataframe ```region_1``` con la siguiente estructura.\n",
    "    * Contendrá la columna ```'animal'```.\n",
    "    * Contendrá el índice con identificador ```'poblacion'``` que a su vez contiene los índices ```'zorro'```, ```'conejo'```, ```liebre``` y ```'halcón'```."
   ]
  },
  {
   "cell_type": "code",
   "execution_count": null,
   "metadata": {
    "scrolled": true
   },
   "outputs": [],
   "source": [
    "region_1 = pd.DataFrame({'animal':['zorro', \n",
    "                     'conejo', \n",
    "                     'liebre', \n",
    "                     'halcón'],\n",
    "          'población':[12,\n",
    "                      436,\n",
    "                      315,\n",
    "                      7]}).set_index('animal')"
   ]
  },
  {
   "cell_type": "code",
   "execution_count": null,
   "metadata": {
    "scrolled": true
   },
   "outputs": [],
   "source": [
    "region_1"
   ]
  },
  {
   "cell_type": "markdown",
   "metadata": {},
   "source": [
    "* La siguiente celda creará al dataframe ```region_2``` con la siguiente estructura.\n",
    "    * Contendrá la columna ```'animal'```.\n",
    "    * Contendrá el índice con identificador ```'poblacion'``` que a su vez contiene los índices ```'conejo'```, ```'jabalí'```, ```venado```, ```'jaguar'```, ```'águila``` y ```'halcón'```."
   ]
  },
  {
   "cell_type": "code",
   "execution_count": null,
   "metadata": {
    "scrolled": true
   },
   "outputs": [],
   "source": [
    "region_2 = pd.DataFrame({'animal':['conejo',\n",
    "                                  'jabalí',\n",
    "                                  'venado',\n",
    "                                  'jaguar',\n",
    "                                  'águila',\n",
    "                                  'halcón'],\n",
    "                        'población':[2015,\n",
    "                                     450,\n",
    "                                     56,\n",
    "                                     2,\n",
    "                                     30,\n",
    "                                     25]}).set_index('animal')"
   ]
  },
  {
   "cell_type": "code",
   "execution_count": null,
   "metadata": {},
   "outputs": [],
   "source": [
    "region_2"
   ]
  },
  {
   "cell_type": "markdown",
   "metadata": {},
   "source": [
    "### Argumentos para el parámetro ```how```.\n",
    "\n",
    "* ```'left'``` toma como referencia a los índice del dataframe al que pertenece el método. Si el dataframe que se ingresa como argumento tiene índices con el mismo nombre, los tomará y los alineará. Este es el argumento por defecto del parámetro ```how```.\n",
    "* ```'right'``` va a tomar como referencia al dataframe de la derecha y va a ajustar el tamaño al de dicho dataframe a sus índices.\n",
    "* ```'inner'``` toma como referencia únicamente a los índices compartidos entre los dataframes.\n",
    "* ```'outer'``` toma como referencia a todos los índices de los dataframes."
   ]
  },
  {
   "cell_type": "markdown",
   "metadata": {},
   "source": [
    "**Ejemplos:**"
   ]
  },
  {
   "cell_type": "markdown",
   "metadata": {},
   "source": [
    "* La siguiente celda regresará un dataframe usando el método ```region_1.join()```, ingresando ```region_2``` como primer argumento, sin definir argumentos para el parámetro ```how```."
   ]
  },
  {
   "cell_type": "code",
   "execution_count": null,
   "metadata": {
    "scrolled": true
   },
   "outputs": [],
   "source": [
    "region_1.join(region_2,\n",
    "              lsuffix=' region 1',\n",
    "              rsuffix=' region 2')"
   ]
  },
  {
   "cell_type": "markdown",
   "metadata": {},
   "source": [
    "* La siguiente celda regresará un dataframe usando el método ```region_1.join()```, ingresando ```region_2``` como primer argumento,  definiendo el argumento ```how='left'```."
   ]
  },
  {
   "cell_type": "code",
   "execution_count": null,
   "metadata": {
    "scrolled": true
   },
   "outputs": [],
   "source": [
    "region_1.join(region_2,\n",
    "              lsuffix=' region 1',\n",
    "              rsuffix=' region 2',\n",
    "              how='left')"
   ]
  },
  {
   "cell_type": "markdown",
   "metadata": {},
   "source": [
    "* La siguiente celda regresará un dataframe usando el método ```region_1.join()```, ingresando ```region_2``` como primer argumento,  definiendo el argumento ```how='right'```."
   ]
  },
  {
   "cell_type": "code",
   "execution_count": null,
   "metadata": {
    "scrolled": true
   },
   "outputs": [],
   "source": [
    "region_1.join(region_2,\n",
    "              lsuffix=' region 1',\n",
    "              rsuffix=' region 2',\n",
    "              how='right')"
   ]
  },
  {
   "cell_type": "markdown",
   "metadata": {},
   "source": [
    "* La siguiente celda regresará un dataframe usando el método ```region_1.join()```, ingresando ```region_2``` como primer argumento,  definiendo el argumento ```how='inner'```."
   ]
  },
  {
   "cell_type": "code",
   "execution_count": null,
   "metadata": {
    "scrolled": true
   },
   "outputs": [],
   "source": [
    "region_1.join(region_2,\n",
    "              lsuffix=' region 1',\n",
    "              rsuffix=' region 2',\n",
    "              how='inner')"
   ]
  },
  {
   "cell_type": "markdown",
   "metadata": {},
   "source": [
    "* La siguiente celda regresará un dataframe usando el método ```region_1.join()```, ingresando ```region_2``` como primer argumento,  definiendo el argumento ```how='outer'```."
   ]
  },
  {
   "cell_type": "code",
   "execution_count": null,
   "metadata": {},
   "outputs": [],
   "source": [
    "region_1.join(region_2,\n",
    "              lsuffix=' region 1',\n",
    "              rsuffix=' region 2',\n",
    "              how='outer')"
   ]
  },
  {
   "cell_type": "markdown",
   "metadata": {},
   "source": [
    "## La función ```pd.concat()```.\n",
    "\n",
    "La función ```pd.concat()```permite realizar operaciones generales de integración.\n",
    "\n",
    "```\n",
    "pd.concat(<df 1>, <df 2>, axis=<eje>, join=<modo>, keys=<id cols>, sort =<bool>)\n",
    "```\n",
    "\n",
    "* ```<df1>``` y ```<df 2>``` son dataframes de *Pandas*.\n",
    "* ```<eje>``` es un objeto de tipo ```int``` que indica el eje de la concatenación. El argumento por defecto es ```0```.\n",
    "* ```<modo>``` * ```<modo>``` es un objeto de tipo ```str``` que indica la forma en la que se combinarán los elementos del dataframe resultante y puede ser:\n",
    "    * ```'inner'```.\n",
    "    * ```'outer'``` , el cual es el argumento por defecto.\n",
    "* ```id cols``` es una colección de objetos ```str``` que serán utilizados para crear identificadores de indíces superiores en las columnas.\n",
    "\n",
    "https://pandas.pydata.org/pandas-docs/stable/reference/api/pandas.concat.html"
   ]
  },
  {
   "cell_type": "markdown",
   "metadata": {},
   "source": [
    "**Ejemplos:**"
   ]
  },
  {
   "cell_type": "markdown",
   "metadata": {},
   "source": [
    "* Se utilizarán los dataframes ```marco_1``` y ```marco_2``` definidos previamente."
   ]
  },
  {
   "cell_type": "code",
   "execution_count": null,
   "metadata": {
    "scrolled": true
   },
   "outputs": [],
   "source": [
    "marco_1"
   ]
  },
  {
   "cell_type": "code",
   "execution_count": null,
   "metadata": {
    "scrolled": true
   },
   "outputs": [],
   "source": [
    "marco_2"
   ]
  },
  {
   "cell_type": "markdown",
   "metadata": {},
   "source": [
    "* Se usará la función ```pd.concat()``` ingresando ```marco_1``` y ```marco_2``` como los dos primeros argumentos, sin argumentos adicionales. La concatenación se realizará en el eje ```0```."
   ]
  },
  {
   "cell_type": "code",
   "execution_count": null,
   "metadata": {
    "scrolled": false
   },
   "outputs": [],
   "source": [
    "pd.concat([marco_1, marco_2])"
   ]
  },
  {
   "cell_type": "markdown",
   "metadata": {},
   "source": [
    "* Se usará la función ```pd.concat()``` ingresando ```marco_1``` y ```marco_2``` como los dos primeros argumentos. Además se ingresará el argumento ```axis=1```."
   ]
  },
  {
   "cell_type": "code",
   "execution_count": null,
   "metadata": {},
   "outputs": [],
   "source": [
    " pd.concat([marco_1, marco_2], axis=1)"
   ]
  },
  {
   "cell_type": "markdown",
   "metadata": {},
   "source": [
    "* Se usará la función ```pd.concat()``` ingresando ```marco_1``` y ```marco_2``` como los dos primeros argumentos. Además se ingresarán los argumentos ```axis=1``` y ```sort=True```."
   ]
  },
  {
   "cell_type": "code",
   "execution_count": null,
   "metadata": {
    "scrolled": false
   },
   "outputs": [],
   "source": [
    " pd.concat([marco_1, marco_2], axis=1, sort=True)"
   ]
  },
  {
   "cell_type": "markdown",
   "metadata": {},
   "source": [
    "* La celda anterior regresó un dataframe en el que se repite los identificadores de columna.\n",
    "* La siguiente celda regresará un dataframe con las dos columnas con identificador ```'Centro'``` a partir de ``` pd.concat([marco_1, marco_2], axis=1, sort=False```."
   ]
  },
  {
   "cell_type": "code",
   "execution_count": null,
   "metadata": {
    "scrolled": true
   },
   "outputs": [],
   "source": [
    " pd.concat([marco_1, marco_2], axis=1, sort=False)['Centro']"
   ]
  },
  {
   "cell_type": "markdown",
   "metadata": {},
   "source": [
    "* La siguiente celda creará un dataframe llamado ```semanales``` a partir de aplicar la función ```pd.concat()``` ingresando ```marco_1``` y ```marco_2``` como los dos primeros argumentos. Además se ingresarán los argumentos ```axis=1```, ```sort=True``` y ```keys=['semana 1', 'semana 2']```."
   ]
  },
  {
   "cell_type": "code",
   "execution_count": null,
   "metadata": {
    "scrolled": true
   },
   "outputs": [],
   "source": [
    "semanales = pd.concat([marco_1, marco_2], axis=1, keys=['semana 1', 'semana 2'],\n",
    "                      sort=False)"
   ]
  },
  {
   "cell_type": "markdown",
   "metadata": {},
   "source": [
    "* El dataframe ```semanales``` contiene un índice con dos niveles para las columnas. \n",
    "* El primer nivel corresponde a los identificadores:\n",
    "    * ```'semana 1'``` y ```'semana 2'```.\n",
    "* Dentro de cada elemento del primer nivel están los identificadores:\n",
    "    * ```'Centro'```.\n",
    "    * ```'Sur'```.\n",
    "    * ```'Oriente'```."
   ]
  },
  {
   "cell_type": "code",
   "execution_count": null,
   "metadata": {
    "scrolled": true
   },
   "outputs": [],
   "source": [
    "semanales"
   ]
  },
  {
   "cell_type": "markdown",
   "metadata": {},
   "source": [
    "* La siguiente celda regresará las columnas correspondientes al identificador ```'semana 1'``` del dataframe ```semanales```."
   ]
  },
  {
   "cell_type": "code",
   "execution_count": null,
   "metadata": {
    "scrolled": true
   },
   "outputs": [],
   "source": [
    "semanales['semana 1']"
   ]
  },
  {
   "cell_type": "markdown",
   "metadata": {},
   "source": [
    "* La siguiente celda regresará la columna con identificador ```'Centro'``` correspondientes al identificador ```'semana 1'``` del dataframe ```semanales```."
   ]
  },
  {
   "cell_type": "code",
   "execution_count": null,
   "metadata": {
    "scrolled": false
   },
   "outputs": [],
   "source": [
    "semanales['semana 1']['Centro']"
   ]
  },
  {
   "cell_type": "code",
   "execution_count": null,
   "metadata": {},
   "outputs": [],
   "source": [
    "indice_3 = (\"lunes\", \"domingo\")\n",
    "marco_3 = pd.DataFrame({'Centro':[1251, \n",
    "                                 1344], \n",
    "                      'Oriente':[1934,\n",
    "                                1146]},\n",
    "                      index=indice_3)"
   ]
  },
  {
   "cell_type": "code",
   "execution_count": null,
   "metadata": {},
   "outputs": [],
   "source": [
    "marco_3"
   ]
  },
  {
   "cell_type": "code",
   "execution_count": null,
   "metadata": {},
   "outputs": [],
   "source": [
    "marco_1"
   ]
  },
  {
   "cell_type": "code",
   "execution_count": null,
   "metadata": {},
   "outputs": [],
   "source": [
    "pd.concat([marco_1, marco_3])"
   ]
  },
  {
   "cell_type": "code",
   "execution_count": null,
   "metadata": {},
   "outputs": [],
   "source": [
    "pd.concat([marco_1, marco_3], axis=1)"
   ]
  },
  {
   "cell_type": "code",
   "execution_count": null,
   "metadata": {},
   "outputs": [],
   "source": [
    "pd.concat([marco_1, marco_3], keys=['Semana 1', 'Semana 2'])"
   ]
  },
  {
   "cell_type": "code",
   "execution_count": null,
   "metadata": {},
   "outputs": [],
   "source": [
    "pd.concat([marco_1, marco_3], keys=['Semana 1', 'Semana 2'], axis=1)"
   ]
  },
  {
   "cell_type": "code",
   "execution_count": null,
   "metadata": {},
   "outputs": [],
   "source": [
    "pd.concat([marco_1, marco_3], keys=['Semana 1', 'Semana 2'], axis=1, join=\"inner\")"
   ]
  },
  {
   "cell_type": "code",
   "execution_count": null,
   "metadata": {},
   "outputs": [],
   "source": [
    "pd.concat([marco_1, marco_3], keys=['Semana 1', 'Semana 2'], axis=1, join=\"outer\")"
   ]
  },
  {
   "cell_type": "markdown",
   "metadata": {},
   "source": [
    "<p style=\"text-align: center\"><a rel=\"license\" href=\"http://creativecommons.org/licenses/by/4.0/\"><img alt=\"Licencia Creative Commons\" style=\"border-width:0\" src=\"https://i.creativecommons.org/l/by/4.0/80x15.png\" /></a><br />Esta obra está bajo una <a rel=\"license\" href=\"http://creativecommons.org/licenses/by/4.0/\">Licencia Creative Commons Atribución 4.0 Internacional</a>.</p>\n",
    "<p style=\"text-align: center\">&copy; José Luis Chiquete Valdivieso. 2020.</p>"
   ]
  }
 ],
 "metadata": {
  "kernelspec": {
   "display_name": "Python 3 (ipykernel)",
   "language": "python",
   "name": "python3"
  },
  "language_info": {
   "codemirror_mode": {
    "name": "ipython",
    "version": 3
   },
   "file_extension": ".py",
   "mimetype": "text/x-python",
   "name": "python",
   "nbconvert_exporter": "python",
   "pygments_lexer": "ipython3",
   "version": "3.9.7"
  }
 },
 "nbformat": 4,
 "nbformat_minor": 2
}
