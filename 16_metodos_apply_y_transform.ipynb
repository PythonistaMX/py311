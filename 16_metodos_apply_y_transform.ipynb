{
 "cells": [
  {
   "cell_type": "markdown",
   "metadata": {},
   "source": [
    "[![img/pythonista.png](img/pythonista.png)](https://www.pythonista.io)"
   ]
  },
  {
   "cell_type": "markdown",
   "metadata": {},
   "source": [
    "# Los métodos ```apply()``` y ```transform()```."
   ]
  },
  {
   "cell_type": "code",
   "execution_count": null,
   "metadata": {},
   "outputs": [],
   "source": [
    "import pandas as pd\n",
    "import numpy as np"
   ]
  },
  {
   "cell_type": "markdown",
   "metadata": {},
   "source": [
    "## *Dataframe* ilustrativo."
   ]
  },
  {
   "cell_type": "markdown",
   "metadata": {},
   "source": [
    "El *dataframe* ```poblacion``` representa un censo poblacional de especies animales en diversas regiones geográficas.\n",
    "\n",
    "Las poblaciones de animales censadas representan los índices del *dataframe* y son:\n",
    "* ```'lobo'```.\n",
    "* ```'jaguar'```.\n",
    "* ```'coyote'```.\n",
    "* ```'halcón'```. \n",
    "* ```'lechuza'```.\n",
    "* ```'aguila'```.\n",
    "\n",
    "Las regiones geográficas representan la columnas del *dataframe* y son:\n",
    "\n",
    "* ```Norte_1```.\n",
    "* ```Norte_2```.\n",
    "* ```Sur_1```.\n",
    "* ```Sur_2```."
   ]
  },
  {
   "cell_type": "code",
   "execution_count": null,
   "metadata": {},
   "outputs": [],
   "source": [
    "indice = ('lobo', 'jaguar', 'coyote', 'halcón', 'lechuza', 'aguila')\n",
    "poblacion = pd.DataFrame({'Norte_1':(25,\n",
    "                                     45,\n",
    "                                     23,\n",
    "                                     67,\n",
    "                                     14,\n",
    "                                     12),\n",
    "                          'Norte_2':(31,\n",
    "                                     0,\n",
    "                                     23,\n",
    "                                     3,\n",
    "                                     34,\n",
    "                                     2),\n",
    "                          'Sur_1':(0,\n",
    "                                       4,\n",
    "                                       3,\n",
    "                                       1,\n",
    "                                       1,\n",
    "                                       2),\n",
    "                          'Sur_2':(2,\n",
    "                                       0,\n",
    "                                       12,\n",
    "                                       23,\n",
    "                                       11,\n",
    "                                       2)}, index=indice)"
   ]
  },
  {
   "cell_type": "code",
   "execution_count": null,
   "metadata": {
    "scrolled": false
   },
   "outputs": [],
   "source": [
    "poblacion"
   ]
  },
  {
   "cell_type": "markdown",
   "metadata": {},
   "source": [
    "## El método ```apply()```."
   ]
  },
  {
   "cell_type": "markdown",
   "metadata": {},
   "source": [
    "El método ```apply()``` permite aplicar una función a una serie o dataframe de *Pandas*.\n",
    "\n",
    "```\n",
    "<obj>.apply(<func>, axis=<eje>)\n",
    "```\n",
    "\n",
    "Donde:\n",
    "\n",
    "* ```<obj>``` es una serie o un *dataframe* de *Pandas*.\n",
    "* ```<func>``` es una función de *Python* o de *Numpy*.\n",
    "* ```<eje>``` puede ser:\n",
    "   * ```0``` para aplicar la función a los renglones. Este es el valor por defecto.\n",
    "   * ```1``` para aplicar la función a las columnas.\n",
    "\n",
    "Este método realiza operaciones de *broadcast* dentro del objeto.\n",
    "\n",
    "Para fines prácticos se explorará el método ```pd.DataFrame.apply()``` cuya documentación puede ser consultada en:\n",
    "\n",
    "https://pandas.pydata.org/pandas-docs/stable/reference/api/pandas.DataFrame.apply.html"
   ]
  },
  {
   "cell_type": "markdown",
   "metadata": {},
   "source": [
    "### Funciones aceptadas.\n",
    "\n",
    "* El método ```apply()``` permite ingresar como argumento el nombre de una función o una función *lambda* de *Python*."
   ]
  },
  {
   "cell_type": "markdown",
   "metadata": {},
   "source": [
    "**Ejemplos:**"
   ]
  },
  {
   "cell_type": "markdown",
   "metadata": {},
   "source": [
    "* La siguiente celda definirá a la función ```suma_dos()```."
   ]
  },
  {
   "cell_type": "code",
   "execution_count": null,
   "metadata": {},
   "outputs": [],
   "source": [
    "def suma_dos(x:int) -> int:\n",
    "    ''''Función que regrea el resultado de sumar 2 unidades a un entero.'''\n",
    "    return x + 2"
   ]
  },
  {
   "cell_type": "markdown",
   "metadata": {},
   "source": [
    "* La siguiente celda regresará un *dataframe* que contiene el resultado de ejecutar la función ```suma_dos()``` usando a cada elemento del *dataframe* ```población``` como argumento."
   ]
  },
  {
   "cell_type": "code",
   "execution_count": null,
   "metadata": {},
   "outputs": [],
   "source": [
    "poblacion.apply(suma_dos)"
   ]
  },
  {
   "cell_type": "markdown",
   "metadata": {},
   "source": [
    "* La siguiente celda regresará un *dataframe* que contiene el resultado de ejecutar la función definida como ```lambda x: x + 2``` usando a cada elemento del *dataframe* ```población``` como argumento."
   ]
  },
  {
   "cell_type": "code",
   "execution_count": null,
   "metadata": {},
   "outputs": [],
   "source": [
    "poblacion.apply(lambda x: x + 2)"
   ]
  },
  {
   "cell_type": "markdown",
   "metadata": {},
   "source": [
    "* La siguiente celda regresará una serie que corresponde a ejecutar la función ```suma_dos()``` a cada elemento de la serie que conforma la columna ```poblacion['Norte_2']```. "
   ]
  },
  {
   "cell_type": "code",
   "execution_count": null,
   "metadata": {
    "scrolled": true
   },
   "outputs": [],
   "source": [
    "poblacion['Norte_2'].apply(suma_dos)"
   ]
  },
  {
   "cell_type": "markdown",
   "metadata": {},
   "source": [
    "### *Broadcasting*."
   ]
  },
  {
   "cell_type": "markdown",
   "metadata": {},
   "source": [
    "* La siguiente celda utilizará las propiedades de *broadcasting* para aplicar una función que suma diversos elementos a cada renglón del *dataframe* ```poblacion```el *dataframe* ```poblacion``` en el eje ```0```. \n",
    "* En vista de que el objeto ```[1, 2, 3, 4, 5, 6]``` tiene ```6``` elementos y el *dataframe* ```poblacion``` es de forma ```(6, 4)```, es posible realizar el *broadcasting*."
   ]
  },
  {
   "cell_type": "code",
   "execution_count": null,
   "metadata": {
    "scrolled": false
   },
   "outputs": [],
   "source": [
    "poblacion.apply(lambda x: x + [1, 2, 3, 4, 5, 6])"
   ]
  },
  {
   "cell_type": "markdown",
   "metadata": {},
   "source": [
    "* La siguiente celda utilizará las propiedades de *broadcasting* para aplicar una función que suma diversos elementos a cada renglón del *dataframe* ```poblacion```el *dataframe* ```poblacion``` en el eje ```1```. \n",
    "* En vista de que el objeto ```[1, 2, 3, 4]``` tiene ```4``` elementos y el *dataframe* ```poblacion``` es de forma ```(6, 4)```, es posible realizar el *broadcasting*."
   ]
  },
  {
   "cell_type": "code",
   "execution_count": null,
   "metadata": {},
   "outputs": [],
   "source": [
    "poblacion.apply(lambda x: x + [1, 2, 3, 4], axis=1)"
   ]
  },
  {
   "cell_type": "markdown",
   "metadata": {},
   "source": [
    "* La siguiente celda aplicará la función con *broadcasting* sobre el eje ```0``` con un objeto de tamaño iadecuado. Se desencadenará una excepción del tipo ```ValueError```."
   ]
  },
  {
   "cell_type": "code",
   "execution_count": null,
   "metadata": {
    "scrolled": false
   },
   "outputs": [],
   "source": [
    "poblacion.apply(lambda x: x + [1, 2, 3, 4])"
   ]
  },
  {
   "cell_type": "markdown",
   "metadata": {},
   "source": [
    "### Aplicación de funciones de *Numpy*.\n",
    "\n",
    "*Numpy* cuenta con funciones de agregación capaces de realizar operaciones con la totalidad de los elementos de un arreglo, en vez de con cada uno de ellos. \n",
    "\n",
    "El método *apply()* es compatible con este tipo de funciones."
   ]
  },
  {
   "cell_type": "markdown",
   "metadata": {},
   "source": [
    "* La siguiente celda realizará una sumatoria de cada elemento en el eje ```0``` (columnas) del *dataframe* ```poblacion```,  usando la función ```np.sum()``` y regresará una serie con los resultados."
   ]
  },
  {
   "cell_type": "code",
   "execution_count": null,
   "metadata": {
    "scrolled": true
   },
   "outputs": [],
   "source": [
    "poblacion.apply(np.sum)"
   ]
  },
  {
   "cell_type": "markdown",
   "metadata": {},
   "source": [
    "* La siguiente celda realizará una sumatoria de cada elemento en el eje ```1``` (columnas) del *dataframe* ```poblacion```, usando la función ```np.sum()``` y regresará una serie con los resultados."
   ]
  },
  {
   "cell_type": "code",
   "execution_count": null,
   "metadata": {
    "scrolled": true
   },
   "outputs": [],
   "source": [
    "poblacion.apply(np.sum, axis=1)"
   ]
  },
  {
   "cell_type": "markdown",
   "metadata": {},
   "source": [
    "* La siguiente celda realizará una sumatoria de cada elemento en el eje ```0``` (columnas) del *dataframe* ```poblacion```, usando la función ```np.mean()``` y regresará una serie con los resultados."
   ]
  },
  {
   "cell_type": "code",
   "execution_count": null,
   "metadata": {
    "scrolled": true
   },
   "outputs": [],
   "source": [
    "poblacion.apply(np.mean)"
   ]
  },
  {
   "cell_type": "markdown",
   "metadata": {},
   "source": [
    "* La siguiente celda realizará una sumatoria de cada elemento en el eje ```1``` (columnas) del *dataframe* ```poblacion```, usando la función ```np.mean()``` y regresará una serie con los resultados."
   ]
  },
  {
   "cell_type": "code",
   "execution_count": null,
   "metadata": {
    "scrolled": true
   },
   "outputs": [],
   "source": [
    "poblacion.apply(np.mean, axis=1)"
   ]
  },
  {
   "cell_type": "markdown",
   "metadata": {},
   "source": [
    "### Optimización en función de contexto de los  datos."
   ]
  },
  {
   "cell_type": "markdown",
   "metadata": {},
   "source": [
    "El método ```pd.Dataframe.apply()``` permite identificar ciertos datos que podrían causar errores o excepciones y es capaz de utilizar funcione de *numpy* análogas que den un resultado en vez de una excepción."
   ]
  },
  {
   "cell_type": "markdown",
   "metadata": {},
   "source": [
    "**Ejemplo:**"
   ]
  },
  {
   "cell_type": "markdown",
   "metadata": {},
   "source": [
    "* La función ```np.mean()``` regresa un valor ```np.NaN``` cuando encuentra un valor ```np.Nan``` en el arreglo que se le ingresa como argumento."
   ]
  },
  {
   "cell_type": "code",
   "execution_count": null,
   "metadata": {},
   "outputs": [],
   "source": [
    "arreglo = np.array([25, np.NaN, 23, 67, 14, 12])"
   ]
  },
  {
   "cell_type": "code",
   "execution_count": null,
   "metadata": {},
   "outputs": [],
   "source": [
    "arreglo"
   ]
  },
  {
   "cell_type": "code",
   "execution_count": null,
   "metadata": {},
   "outputs": [],
   "source": [
    "np.mean(arreglo)"
   ]
  },
  {
   "cell_type": "markdown",
   "metadata": {},
   "source": [
    "* La función ```np.nanmean()``` descarta los valores ```np.NaN``` que se encuentren en el arreglo que se le ingresa como argumento y calcula el promedio con el resto de los elementos."
   ]
  },
  {
   "cell_type": "code",
   "execution_count": null,
   "metadata": {},
   "outputs": [],
   "source": [
    "np.nanmean(arreglo)"
   ]
  },
  {
   "cell_type": "markdown",
   "metadata": {},
   "source": [
    "* La siguiente celda creará al *dataframe* ```poblacion_nan``` a partir del *dataframe* ```poblacion```, sustituyendo el valor de ```poblacion_nan['Norte_1']['jaguar']```por ```np.NaN```."
   ]
  },
  {
   "cell_type": "code",
   "execution_count": null,
   "metadata": {
    "scrolled": true
   },
   "outputs": [],
   "source": [
    "poblacion_nan = poblacion.copy()\n",
    "poblacion_nan['Norte_1']['jaguar'] = np.NaN\n",
    "poblacion_nan"
   ]
  },
  {
   "cell_type": "markdown",
   "metadata": {},
   "source": [
    "* La siguiente celda usará la función ```np.mean()``` como argumento del método ```poblacion_nan.apply()```. El comportamiento es idéntico a usar ```np.nanmean()```.\n",
    "* El resultado para la columna ```Norte_1``` es ```28.2``` en vez de ```np.Nan```."
   ]
  },
  {
   "cell_type": "code",
   "execution_count": null,
   "metadata": {},
   "outputs": [],
   "source": [
    "poblacion_nan.apply(np.mean)"
   ]
  },
  {
   "cell_type": "code",
   "execution_count": null,
   "metadata": {},
   "outputs": [],
   "source": [
    "poblacion_nan.apply(np.nanmean)"
   ]
  },
  {
   "cell_type": "markdown",
   "metadata": {},
   "source": [
    "## El método ```pd.DataFrame.transform()```.\n",
    "\n",
    "Este método permite crear nuevos niveles con los resultados de  las funciones de aplicará una o más funciones a los elementos de un *dataframe*.\n",
    "\n",
    "```\n",
    "df.transform(<func_1>, <func_2>, <func_3> ..., axis=<eje>)\n",
    "```\n",
    "\n",
    "Donde:\n",
    "\n",
    "* ```<func>``` es una función de *Python* o de *Numpy*.\n",
    "* ```<eje>``` puede ser:\n",
    "   * ```0``` para aplicar la función a los renglones. Este es el valor por defecto.\n",
    "   * ```1``` para aplicar la función a las columnas.\n",
    "\n",
    "**NOTA:** Este método no permite realizar operaciones de agregación.\n",
    "\n",
    "\n",
    "La documentación del método ```pd.DataFrame.transform()``` puede ser consultada en:\n",
    "\n",
    "https://pandas.pydata.org/pandas-docs/stable/reference/api/pandas.DataFrame.transform.html"
   ]
  },
  {
   "cell_type": "markdown",
   "metadata": {},
   "source": [
    "**Ejemplo:**"
   ]
  },
  {
   "cell_type": "markdown",
   "metadata": {},
   "source": [
    "* Se utilizará el *dataframe* ```poblacion``` definido previamente."
   ]
  },
  {
   "cell_type": "code",
   "execution_count": null,
   "metadata": {
    "scrolled": true
   },
   "outputs": [],
   "source": [
    "poblacion"
   ]
  },
  {
   "cell_type": "markdown",
   "metadata": {},
   "source": [
    "* La siguiente celda aplicará las funciones al *dataframe* ```poblacion```:\n",
    "    * ```lambda x: x + [1, 2, 3, 4, 5, 6]```.\n",
    "    * ```np.log```\n",
    "    * ```np.sin```\n",
    "* El dataframe resultante tendrá un subnivel debajo de cada columna de ```poblacion``` para en el que e creará una columna con el resultado de aplicar la función tomando a cada elemento como argumento."
   ]
  },
  {
   "cell_type": "code",
   "execution_count": null,
   "metadata": {
    "scrolled": true
   },
   "outputs": [],
   "source": [
    "poblacion.transform([lambda x: x + [1, 2, 3, 4, 5, 6],\n",
    "                     np.log,\n",
    "                     np.sin])"
   ]
  },
  {
   "cell_type": "markdown",
   "metadata": {},
   "source": [
    "* El método ```poblacion.transform()``` no es compatible con la función ```np.mean()```, por lo que se desencadenará una excepción ```ValueError```."
   ]
  },
  {
   "cell_type": "code",
   "execution_count": null,
   "metadata": {
    "scrolled": false
   },
   "outputs": [],
   "source": [
    "poblacion.transform(np.mean)"
   ]
  },
  {
   "cell_type": "markdown",
   "metadata": {},
   "source": [
    "* Sin embargo, es posible ingresar una función de agregación en otra función que no realice agregación por si misma."
   ]
  },
  {
   "cell_type": "code",
   "execution_count": null,
   "metadata": {},
   "outputs": [],
   "source": [
    "poblacion.transform(lambda x: x - x.mean())"
   ]
  },
  {
   "cell_type": "markdown",
   "metadata": {},
   "source": [
    "<p style=\"text-align: center\"><a rel=\"license\" href=\"http://creativecommons.org/licenses/by/4.0/\"><img alt=\"Licencia Creative Commons\" style=\"border-width:0\" src=\"https://i.creativecommons.org/l/by/4.0/80x15.png\" /></a><br />Esta obra está bajo una <a rel=\"license\" href=\"http://creativecommons.org/licenses/by/4.0/\">Licencia Creative Commons Atribución 4.0 Internacional</a>.</p>\n",
    "<p style=\"text-align: center\">&copy; José Luis Chiquete Valdivieso. 2022.</p>"
   ]
  }
 ],
 "metadata": {
  "kernelspec": {
   "display_name": "Python 3 (ipykernel)",
   "language": "python",
   "name": "python3"
  },
  "language_info": {
   "codemirror_mode": {
    "name": "ipython",
    "version": 3
   },
   "file_extension": ".py",
   "mimetype": "text/x-python",
   "name": "python",
   "nbconvert_exporter": "python",
   "pygments_lexer": "ipython3",
   "version": "3.10.6"
  }
 },
 "nbformat": 4,
 "nbformat_minor": 2
}
