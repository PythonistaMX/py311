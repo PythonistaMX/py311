{
 "cells": [
  {
   "cell_type": "markdown",
   "metadata": {},
   "source": [
    "[![img/pythonista.png](img/pythonista.png)](https://www.pythonista.io)"
   ]
  },
  {
   "cell_type": "markdown",
   "metadata": {},
   "source": [
    "# Introducción a *Plotnine*."
   ]
  },
  {
   "cell_type": "markdown",
   "metadata": {},
   "source": [
    "*Plotnine* es un proyecto que pretende implementar en *Python* las funcionalidades de  [*ggplot2*](https://ggplot2.tidyverse.org/), la popular herramienta de visualización de datos para *R* y la [gramática de gráficas por capas](http://vita.had.co.nz/papers/layered-grammar.html); ambas creadas por [*Hadley Wickham*](https://hadley.nz/).\n",
    "\n",
    "Aún cuando muchas de las funcionalidades de *ggplot2* ya han sido portadas, aún quedan muchas que se encuentran pendientes.\n",
    "\n",
    "\n",
    "La documentación oficial de *Plotnine* puede ser consultada en la siguiente liga:\n",
    "\n",
    "https://plotnine.readthedocs.io/en/stable/\n",
    "\n",
    "Existe un repositorio con muy buena documentación sobre *Plotnine* en: \n",
    "\n",
    "https://datascienceworkshops.com/blog/plotnine-grammar-of-graphics-for-python/"
   ]
  },
  {
   "cell_type": "code",
   "execution_count": null,
   "metadata": {
    "scrolled": true
   },
   "outputs": [],
   "source": [
    "!pip install plotnine"
   ]
  },
  {
   "cell_type": "code",
   "execution_count": null,
   "metadata": {},
   "outputs": [],
   "source": [
    "from plotnine import *\n",
    "import pandas as pd\n",
    "import numpy as np\n",
    "from datetime import datetime\n",
    "from typing import Any"
   ]
  },
  {
   "cell_type": "markdown",
   "metadata": {},
   "source": [
    "## Gramática de capas de un gráfico."
   ]
  },
  {
   "cell_type": "markdown",
   "metadata": {},
   "source": [
    "La gramática de capas define una estructura de elementos que condformnan un gráfico.\n",
    "\n",
    "* Datos y  mapeo estético.\n",
    "* Objetos geométricos.\n",
    "* Escalas.\n",
    "* Especificación de faceta.\n",
    "* Transfromaciones específicas.\n",
    "* Sistema de coordenadas."
   ]
  },
  {
   "cell_type": "markdown",
   "metadata": {},
   "source": [
    "## Sintaxis de la gramática."
   ]
  },
  {
   "cell_type": "markdown",
   "metadata": {},
   "source": [
    "### La función ```ggplot()```."
   ]
  },
  {
   "cell_type": "markdown",
   "metadata": {},
   "source": [
    "```\n",
    "ggplot(data=<datos>, mapping=<estética>, <argumentos>)\n",
    "```\n",
    "\n",
    "https://plotnine.readthedocs.io/en/stable/generated/plotnine.ggplot.html"
   ]
  },
  {
   "cell_type": "markdown",
   "metadata": {},
   "source": [
    "### La función ```pltonine.mapping.aes()```.\n",
    "\n",
    "https://plotnine.readthedocs.io/en/stable/generated/plotnine.mapping.aes.html"
   ]
  },
  {
   "cell_type": "markdown",
   "metadata": {},
   "source": [
    "### Funciones de geometría."
   ]
  },
  {
   "cell_type": "markdown",
   "metadata": {},
   "source": [
    "https://plotnine.readthedocs.io/en/stable/api.html#geoms"
   ]
  },
  {
   "cell_type": "markdown",
   "metadata": {},
   "source": [
    "## Funciones de temas.\n",
    "\n",
    "https://plotnine.readthedocs.io/en/stable/api.html#themes"
   ]
  },
  {
   "cell_type": "markdown",
   "metadata": {},
   "source": [
    "## Ejemplos."
   ]
  },
  {
   "cell_type": "markdown",
   "metadata": {},
   "source": [
    "### Ejemplo de histograma."
   ]
  },
  {
   "cell_type": "code",
   "execution_count": null,
   "metadata": {},
   "outputs": [],
   "source": [
    "np.random.seed(23523889)"
   ]
  },
  {
   "cell_type": "code",
   "execution_count": null,
   "metadata": {},
   "outputs": [],
   "source": [
    "arreglo_base = pd.DataFrame(np.random.normal(12, 25, 1000),\n",
    "                            columns=pd.Index(['observaciones']))\n",
    "arreglo_base"
   ]
  },
  {
   "cell_type": "code",
   "execution_count": null,
   "metadata": {
    "scrolled": false
   },
   "outputs": [],
   "source": [
    "ggplot(data=arreglo_base)"
   ]
  },
  {
   "cell_type": "code",
   "execution_count": null,
   "metadata": {},
   "outputs": [],
   "source": [
    "ggplot(data=arreglo_base, mapping=aes(x='observaciones')) + geom_histogram()"
   ]
  },
  {
   "cell_type": "code",
   "execution_count": null,
   "metadata": {
    "scrolled": true
   },
   "outputs": [],
   "source": [
    "(ggplot(data=arreglo_base, mapping=aes(x='observaciones')) + \n",
    "geom_histogram(bins=10, fill='yellow', color=\"orange\"))"
   ]
  },
  {
   "cell_type": "code",
   "execution_count": null,
   "metadata": {},
   "outputs": [],
   "source": [
    "histograma = pd.DataFrame(np.histogram(arreglo_base, bins=13)).T\n",
    "histograma.columns = pd.Index(['frecuencias','rangos'])\n",
    "histograma"
   ]
  },
  {
   "cell_type": "code",
   "execution_count": null,
   "metadata": {},
   "outputs": [],
   "source": []
  },
  {
   "cell_type": "markdown",
   "metadata": {},
   "source": [
    "### Ejemplo de columnas."
   ]
  },
  {
   "cell_type": "code",
   "execution_count": null,
   "metadata": {
    "scrolled": true
   },
   "outputs": [],
   "source": [
    "ggplot(histograma, aes(x='rangos', y='frecuencias', fill='rangos')) + geom_col()"
   ]
  },
  {
   "cell_type": "markdown",
   "metadata": {},
   "source": [
    "### Ejemplo de de líneas."
   ]
  },
  {
   "cell_type": "code",
   "execution_count": null,
   "metadata": {},
   "outputs": [],
   "source": [
    "casos = pd.read_csv('data/data_covid.csv')\n",
    "columnas = casos.columns.values\n",
    "columnas[0] = 'Fechas'\n",
    "casos.columns = pd.Index(columnas)\n",
    "casos.columns.name = \"Entidades\"\n",
    "casos['Fechas'] = pd.to_datetime(casos['Fechas'])\n",
    "casos.set_index('Fechas', inplace =True)\n",
    "casos"
   ]
  },
  {
   "cell_type": "code",
   "execution_count": null,
   "metadata": {},
   "outputs": [],
   "source": [
    "(ggplot(casos, aes(x=casos.index, y='Nacional'))\n",
    "+ geom_line())"
   ]
  },
  {
   "cell_type": "code",
   "execution_count": null,
   "metadata": {},
   "outputs": [],
   "source": [
    "(ggplot(casos, aes(x=casos.index, y='Nacional'))\n",
    "+ geom_line() \n",
    "+ geom_smooth())"
   ]
  },
  {
   "cell_type": "code",
   "execution_count": null,
   "metadata": {
    "scrolled": true
   },
   "outputs": [],
   "source": [
    "(ggplot(casos, aes(x=casos.index, y='Nacional'))\n",
    "+ geom_line() \n",
    "+ geom_smooth(span=0.07, color='red'))"
   ]
  },
  {
   "cell_type": "code",
   "execution_count": null,
   "metadata": {
    "scrolled": false
   },
   "outputs": [],
   "source": [
    "(ggplot(casos, aes(x=casos.index, y='Nacional')) \n",
    " + geom_line() \n",
    " + geom_smooth(span=0.07, color='blue') \n",
    " + theme_xkcd()\n",
    "  + theme(axis_text_x=element_text(rotation=90, hjust=0.5)))"
   ]
  },
  {
   "cell_type": "code",
   "execution_count": null,
   "metadata": {},
   "outputs": [],
   "source": [
    "(ggplot(casos, aes(x=casos.index, y='Nacional')) \n",
    " + geom_line(color='red') \n",
    " + geom_smooth(span=0.07, color='blue') \n",
    " + theme_tufte()\n",
    " + theme(axis_text_x=element_text(rotation=45, hjust=1)))"
   ]
  },
  {
   "cell_type": "markdown",
   "metadata": {},
   "source": [
    "### Ejemplo de columnas."
   ]
  },
  {
   "cell_type": "code",
   "execution_count": null,
   "metadata": {},
   "outputs": [],
   "source": [
    "data = casos.drop('Nacional', axis=1).T[datetime(2021,1,1)].to_frame()\n",
    "data.columns = pd.Index(['Casos'])\n",
    "data"
   ]
  },
  {
   "cell_type": "code",
   "execution_count": null,
   "metadata": {},
   "outputs": [],
   "source": [
    "(ggplot(data, aes(x=data.index, y=data, fill='Casos'))  \n",
    " + geom_col()\n",
    " + theme(axis_text_x=element_text(rotation=90, hjust=0.5)))"
   ]
  },
  {
   "cell_type": "markdown",
   "metadata": {},
   "source": [
    "<p style=\"text-align: center\"><a rel=\"license\" href=\"http://creativecommons.org/licenses/by/4.0/\"><img alt=\"Licencia Creative Commons\" style=\"border-width:0\" src=\"https://i.creativecommons.org/l/by/4.0/80x15.png\" /></a><br />Esta obra está bajo una <a rel=\"license\" href=\"http://creativecommons.org/licenses/by/4.0/\">Licencia Creative Commons Atribución 4.0 Internacional</a>.</p>\n",
    "<p style=\"text-align: center\">&copy; José Luis Chiquete Valdivieso. 2022.</p>"
   ]
  }
 ],
 "metadata": {
  "kernelspec": {
   "display_name": "Python 3 (ipykernel)",
   "language": "python",
   "name": "python3"
  },
  "language_info": {
   "codemirror_mode": {
    "name": "ipython",
    "version": 3
   },
   "file_extension": ".py",
   "mimetype": "text/x-python",
   "name": "python",
   "nbconvert_exporter": "python",
   "pygments_lexer": "ipython3",
   "version": "3.10.6"
  }
 },
 "nbformat": 4,
 "nbformat_minor": 2
}
